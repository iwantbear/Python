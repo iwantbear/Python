{
 "cells": [
  {
   "cell_type": "markdown",
   "metadata": {},
   "source": [
    "### numpy 패키지  \n",
    "\n",
    "numpy 패키지는 array 패키지와 같이 메모리에 데이터를 연속으로 저장하지만, 훨씬 더 많은 기능을 제공한다. numpy 패키지는 1차원 배열(리스트와 비슷), 배치 처리(배열 또는 해당 배열의 많은 부분을 동시에 연산 처리하는 것), 다차원 배열 생성 및 유지 보수 기능을 높은 수준으로 제공한다 "
   ]
  },
  {
   "cell_type": "markdown",
   "metadata": {},
   "source": [
    "### numpy 소개: 1부터 100만까지 더하기  \n",
    "\n",
    "numpy를 사용하는 이뉴는 무엇일까? 이 이유를 이해하기 위해 1부터 100만까지 100만 개의 숫자를 더하는 문제를 생각해보자.  \n",
    "물론 이 문제를 한 번에 계산하는 수학 공식이 있곘지만, 이 공식을 모른다고 가정해 보자. 이 작업는 프로그래밍 언어의 속도를 테스트하기에도 좋다. 다음 코드는 코어 파이썬 언어를 사용하여 숫자를 더하는 가장 효율적인 방법을 보여준다. "
   ]
  },
  {
   "cell_type": "code",
   "execution_count": 1,
   "metadata": {},
   "outputs": [
    {
     "name": "stdout",
     "output_type": "stream",
     "text": [
      "500000500000\n"
     ]
    }
   ],
   "source": [
    "a_list = list(range(1, 1_000_001))\n",
    "print(sum(a_list))"
   ]
  },
  {
   "cell_type": "markdown",
   "metadata": {},
   "source": [
    "대게 기본적으로 제공하는 언어의 표준 방식을 사용하는 것도 그리 나쁘지 않다. 다음 코드는 같은 동작을 하는 numpy 기반 코드다. 얼마나 비슷한지 보자. "
   ]
  },
  {
   "cell_type": "code",
   "execution_count": 2,
   "metadata": {},
   "outputs": [
    {
     "name": "stdout",
     "output_type": "stream",
     "text": [
      "500000500000\n"
     ]
    }
   ],
   "source": [
    "import numpy as np\n",
    "\n",
    "a = np.arange(1, 1_000_001, dtype=np.int64)\n",
    "print(sum(a))"
   ]
  },
  {
   "cell_type": "markdown",
   "metadata": {},
   "source": [
    "두 코드 모두 500,000,500,000이 되어야 한다.  \n",
    "\n",
    "두 코드의 실행 속도 차이를 측정하려면 성능 비교 테스트를 할 필요가 있다. time 패키지는 코드 실행 시간 정보를 확인하는 데 무척 유용하다. "
   ]
  },
  {
   "cell_type": "code",
   "execution_count": 4,
   "metadata": {},
   "outputs": [
    {
     "name": "stdout",
     "output_type": "stream",
     "text": [
      "Time taken by Python is 0.11193084716796875\n",
      "Time taken by numpy is 0.11934494972229004\n"
     ]
    }
   ],
   "source": [
    "import numpy as np\n",
    "from time import time\n",
    "\n",
    "def benchmarks(n):\n",
    "    t1 = time()\n",
    "    \n",
    "    a_list = list(range(1, n + 1))\n",
    "    tot = sum(a_list)\n",
    "    \n",
    "    t2 = time()\n",
    "    print('Time taken by Python is', t2 - t1)\n",
    "    \n",
    "    a = np.arange(1, n + 1)\n",
    "    tot = np.sum(a)\n",
    "    \n",
    "    t2 = time()\n",
    "    print('Time taken by numpy is', t2 - t1)\n",
    "    \n",
    "benchmarks(10_000_000)"
   ]
  },
  {
   "cell_type": "markdown",
   "metadata": {},
   "source": [
    "???? 더 느린데"
   ]
  },
  {
   "cell_type": "markdown",
   "metadata": {},
   "source": []
  },
  {
   "cell_type": "markdown",
   "metadata": {},
   "source": [
    "### numpy 배열 만들기  \n",
    "\n",
    "앞 절에서 큰 numpy 배열을 생성하는 한 가지 방법을 보여 주었다.  \n",
    "\n",
    "a = np.arange(1, n + 1)  \n",
    "\n",
    "이 문장은 1로 시작하고 n까지의 범위를 생성한다. 그런 다음 이 데이터를 사용하여 1차원 numpy 배열로 초기화한다. numpy 배열을 만들고 초기화 하는 방법은 여러 가지가 있다. 실제로 너무 많아 이 장에서 일일이 설명하는 것은 불가능하다.  \n",
    "\n",
    "* arange : 파이썬 range 함수와 유사한 구문을 사용하여 지정된 범위의 정수로 구성된 배열  \n",
    "* linspace : 지정된 범위 내에서 균일한 간격으로 배치된 값의 배열. 이 함수는 부동소수점 값을 처리하므로, 원하는 경우 작은 분수 단위의 차이도 처리할 수 있다. (기술적으로 정수를 수용할 수 있지만, 주로 부동소수점과 함께 사용하도록 설계되었다.)  \n",
    "\n",
    "* empty : 초기화되지 않은 배열. 값은 '무작위'이지만, 무작위 표본 추출에는 통계적으로 유효하지 않다.  \n",
    "\n",
    "* eyes : 대각선에 1이 있는 배열, 다른 셀은 0이 된다. (단위 행렬 말하는건가..?)  \n",
    "* ones : 모두 1로 초기화한 배열(정수, 부동소수점 혹은 불리언 True값)  \n",
    "* zeros : 모두 0으로 초기화한 배열(정수, 부동소수점 혹은 불리언 True값)  \n",
    "* full : 배열의 모든 위치에 특정 값으로 채운 배열  \n",
    "* copy : 다른 넘파이 배열의 모든 항목을 복사한 배열  \n",
    "* fromfunction : 단일 색인이나 여러 색인을 인수로 받아서 각 항목에 동일하게 동작하는 함수를 호출하여 초기화한 배열 "
   ]
  },
  {
   "cell_type": "markdown",
   "metadata": {},
   "source": [
    "이어지는 절에서는 이 함수들의 세부 사항을 살펴볼 것이다. 이런 함수 대부분은 dtype 인수를 지정할 수 있으며, dtype 인수는 numpy 배열을 구성하고 있는 모든 항목의 데이터 타입을 결정한다. 이 기능으로 다양한 기본 타입의 배열을 생성할 수 있다. dtype 지정자는 (1) 밑의 표에 표시된 기호 중 하나 또는 (2) 이름을 포함하는 문자열일 수 있다. 전자인 경우 기호는 일반적으로 다음과 같은 표현법을 따라야 한다.  \n",
    "\n",
    "* bool_ : 불리언 값, 각 항목은 True 혹은 False  (numpy 1.20 버전 이상에서는 언더스코어(_)를 붙여야함)\n",
    "* int : 표준 정수 크기, 일반적으로 int32 와 같다. \n",
    "* int8 : signed 8-비트 정수. 범위는 -128 ~ 127  \n",
    "* uint8 : unsigned 8-비트 정수  \n",
    "* int32 : signed 32-비트 정수. 범위는 대략 양수 혹은 음수 2B  \n",
    "* uint32 : unsigned 32-비트 정수.  \n",
    "* int64 : signed 64-비트 정수. 범위는 int32 에 비해 기하급수적으로 크지만, 유한\n",
    "* uint64 : unsigned 64-비트 정수 \n",
    "* float : 표준 부동소수점 크기 \n",
    "* float32 : 32-비트 부동소수점\n",
    "* float64: 64-비트 부동소수점 \n",
    "* complex : 복소수 데이터 타입. 입력 값 1.0은 1. + 0.j로 변환된다.  \n",
    "* 'i' : 표준-크기 정수  \n",
    "* 'f' : 표준-크기 부동소수점  \n",
    "* 'Unum' : unsigned 문자 타입. 숫자가 나타나면 고정-길이 문자열 타입을 명시하는 데 사용할 수 있다. 예를 들어 \\<U8은 8문자 길이의 문자열을 저장한다는 것을 의미한다.  \n",
    "\n",
    "마지막 줄의 고정-길이 문자열 타입을 생성하는 것은 이 길이보다 짧은 문자열은 이 타입의 항목이 될 수 있지만 더 긴 문자열은 잘려 나간다. "
   ]
  },
  {
   "cell_type": "markdown",
   "metadata": {},
   "source": [
    "##### array 함수 (array로 변환)  \n",
    "\n",
    "numpy 배열을 생성하는 가장 간단한 방법은 파이썬 리스트나 튜플에서 array로 변환하는 방법이다. 이 문법은 subok과 ndmin을 포함한 여러 인수를 지원한다. 이 절에서는 좀 더 일반적으로 사용하는 인수에 초점을 맞춘다.  \n",
    "\n",
    "numpy.array(data, dtype=None, order='K')  \n",
    "\n",
    "이 함수는 지정된 타입의 numpy 배열을 반환한다. dtype이 지정되지 않았거나 None으로 설정된 경우, 이 함수는 모든 항목을 저장할 수 있을 만큼 큰 데이터 타입을 선택한다 (파이썬의 정수는 길이가 정해져 있지 않기 때문에 중요한 문제다.)  \n",
    "\n",
    "order는 다차원 데이터가 어떻게 정렬되어야 할지 결정한다. 기본값은 'K'이며, 어떤 값을 설정하든 소스 데이터를 보존한다. 'C'는 행-우선 순서를 따르며 (C언어에서 이 방식을 따름), 'F'는 열-우선 순서를 따른다(포트란에서 이 방식을 따름)  \n",
    "\n",
    "다음 예시는 파이썬 리스트로 1차원 정수 배열을 초기화한다.  "
   ]
  },
  {
   "cell_type": "code",
   "execution_count": 5,
   "metadata": {},
   "outputs": [],
   "source": [
    "import numpy as np  \n",
    "\n",
    "a = np.array([1, 2, 3])"
   ]
  },
  {
   "cell_type": "markdown",
   "metadata": {},
   "source": [
    "다차원 파이썬 리스트(리스트를 항목으로 갖는 리스트)를 사용하는 것만으로 2차원 혹은 다차원 배열을 쉽게 만들 수 있다. "
   ]
  },
  {
   "cell_type": "code",
   "execution_count": 7,
   "metadata": {},
   "outputs": [
    {
     "name": "stdout",
     "output_type": "stream",
     "text": [
      "[[ 1  2  3]\n",
      " [10 20 30]\n",
      " [ 0  0 -1]]\n"
     ]
    }
   ],
   "source": [
    "import numpy as np  \n",
    "\n",
    "a = np.array([[1, 2, 3],[10, 20, 30],[0, 0, -1]])  \n",
    "print(a)"
   ]
  },
  {
   "cell_type": "markdown",
   "metadata": {},
   "source": [
    "numpy는 배열을 매끄럽고 직사각형 모양으로 처리할 수 있게 설계되었다. 만약 여러분이 리스트를 항목으로 갖는 다차원 데이터를 가지런하지 않게 입력하더라도, 배열 변환은 최대한 일반적인 배열로 보정된다. "
   ]
  },
  {
   "cell_type": "code",
   "execution_count": 8,
   "metadata": {},
   "outputs": [
    {
     "data": {
      "text/plain": [
       "array([[  1,   2,   3],\n",
       "       [ 10,  20, 300]])"
      ]
     },
     "execution_count": 8,
     "metadata": {},
     "output_type": "execute_result"
    }
   ],
   "source": [
    "import numpy as np \n",
    "\n",
    "a = np.array([[1, 2, 3], [10, 20, 300]])\n",
    "a"
   ]
  },
  {
   "cell_type": "markdown",
   "metadata": {},
   "source": [
    "하지만 두 번째 항목이 첫 번째 항목보다 길이가 길 때 어떤 일이 발생하는지 살펴보자.  "
   ]
  },
  {
   "cell_type": "code",
   "execution_count": 12,
   "metadata": {},
   "outputs": [
    {
     "ename": "ValueError",
     "evalue": "setting an array element with a sequence. The requested array has an inhomogeneous shape after 1 dimensions. The detected shape was (2,) + inhomogeneous part.",
     "output_type": "error",
     "traceback": [
      "\u001b[0;31m---------------------------------------------------------------------------\u001b[0m",
      "\u001b[0;31mValueError\u001b[0m                                Traceback (most recent call last)",
      "Cell \u001b[0;32mIn[12], line 1\u001b[0m\n\u001b[0;32m----> 1\u001b[0m a \u001b[38;5;241m=\u001b[39m \u001b[43mnp\u001b[49m\u001b[38;5;241;43m.\u001b[39;49m\u001b[43marray\u001b[49m\u001b[43m(\u001b[49m\u001b[43m[\u001b[49m\u001b[43m[\u001b[49m\u001b[38;5;241;43m1\u001b[39;49m\u001b[43m,\u001b[49m\u001b[43m \u001b[49m\u001b[38;5;241;43m2\u001b[39;49m\u001b[43m,\u001b[49m\u001b[43m \u001b[49m\u001b[38;5;241;43m3\u001b[39;49m\u001b[43m]\u001b[49m\u001b[43m,\u001b[49m\u001b[43m \u001b[49m\u001b[43m[\u001b[49m\u001b[38;5;241;43m10\u001b[39;49m\u001b[43m,\u001b[49m\u001b[43m \u001b[49m\u001b[38;5;241;43m20\u001b[39;49m\u001b[43m,\u001b[49m\u001b[43m \u001b[49m\u001b[38;5;241;43m300\u001b[39;49m\u001b[43m,\u001b[49m\u001b[43m \u001b[49m\u001b[38;5;241;43m4\u001b[39;49m\u001b[43m]\u001b[49m\u001b[43m]\u001b[49m\u001b[43m)\u001b[49m\n\u001b[1;32m      2\u001b[0m a\n",
      "\u001b[0;31mValueError\u001b[0m: setting an array element with a sequence. The requested array has an inhomogeneous shape after 1 dimensions. The detected shape was (2,) + inhomogeneous part."
     ]
    }
   ],
   "source": [
    "a = np.array([[1, 2, 3], [10, 20, 300, 4]])\n",
    "a"
   ]
  },
  {
   "cell_type": "markdown",
   "metadata": {},
   "source": [
    "오류가 남"
   ]
  },
  {
   "cell_type": "markdown",
   "metadata": {},
   "source": [
    "##### arange 함수  \n",
    "\n",
    "arange 함수는 1부터 N까지의 값으로 구성된 배열을 생성한다. 파이썬의 range 함수와 비슷하다. 이 함수는 1차원 배열만 생성할 수 있다.  \n",
    "\n",
    "numpy.arrange([beg,] end [,step] [dtype=None])  \n",
    "\n",
    "arange의 인수는 파이썬 내장 range 함수의 인수와 거의 똑같다.  \n",
    "\n",
    "추가로 dtype 인수는 각 항목의 타입을 명시한다. 기본 인수 값은 None 이며, 데이터 타입을 추론하게 된다. 그렇게 되면 범위 안의 모든 값을 수용할 수 있는 충분한 크기의 정수를 선택하게 될 것이다. 'int32'와 같이 말이다. "
   ]
  },
  {
   "cell_type": "code",
   "execution_count": 13,
   "metadata": {},
   "outputs": [],
   "source": [
    "import numpy as np  \n",
    "a = np.arange(1, 1000001)"
   ]
  },
  {
   "cell_type": "markdown",
   "metadata": {},
   "source": [
    "##### linspace 함수  \n",
    "\n",
    "linspace 함수는 arange 함수와 비슷하지만 정수뿐만이 아니라 부동소수점도 다루며, 항목 간의 값 차이도 자유롭게 설정할 수 있다.  \n",
    "이 함수는 특히 선을 따라 점 또는 값 집합을 제공하려고 할 때, 해당 값이 균등하게 간격을 두는 경우에 유용하다. arange 함수와 마찬가지로 linspace는 1차원 배열만 생성한다.  \n",
    "\n",
    "여기에 표시된 구문은 이 함수의 가장 중요한 인수를 요약한 것 이다.  \n",
    "\n",
    "numpy.linspace(beg, end, num=50, endpoint=True, dtype=None)  \n",
    "\n",
    "beg과 end는 설명할 필요가 없지만 end의 값은 (arange와 다르게) 기본적으로 생성되는 값의 범위에 포함된다. endpoint 인수를 False로 설정하면 end 값은 포함되지 않는다.  \n",
    "\n",
    "num 인수는 생성할 값 개수를 지정한다. 가능한 범위 내에서 균일하게 간격을 두게 된다. 지정하지 않으면 50을 기본값으로 설정한다.  \n",
    "\n",
    "dtype 인수는 각 항목의 데이터 타입을 지정한다. 지정하지 않거나 None으로 설정하면 linspace 함수는 인수 나머지를 기반으로 데이터 타입을 추론하며, 일반적으로 float가 설정된다. 0.25 단위마다 범위 내에 값을 갖는 Numpy 배열을 생성한다고 가정해 보자. 다음 문장으로 이 배열을 생성할 수 있다."
   ]
  },
  {
   "cell_type": "code",
   "execution_count": 15,
   "metadata": {},
   "outputs": [
    {
     "data": {
      "text/plain": [
       "array([0.  , 0.25, 0.5 , 0.75, 1.  ])"
      ]
     },
     "execution_count": 15,
     "metadata": {},
     "output_type": "execute_result"
    }
   ],
   "source": [
    "import numpy as np \n",
    "a = np.linspace(0, 1.0, num=5)\n",
    "a\n"
   ]
  },
  {
   "cell_type": "markdown",
   "metadata": {},
   "source": [
    "linspace 함수는 기본적으로 end 값을 포함하기 때문에 num 인수를 5로 설정하면 1.을 포함한 항목 5개가 출력될 것이다. num 인수를 6으로 설정한 겨로가는 다음과 같다."
   ]
  },
  {
   "cell_type": "code",
   "execution_count": 16,
   "metadata": {},
   "outputs": [
    {
     "data": {
      "text/plain": [
       "array([0. , 0.2, 0.4, 0.6, 0.8, 1. ])"
      ]
     },
     "execution_count": 16,
     "metadata": {},
     "output_type": "execute_result"
    }
   ],
   "source": [
    "import numpy as np \n",
    "a = np.linspace(0, 1.0, num=6)\n",
    "a\n"
   ]
  },
  {
   "cell_type": "markdown",
   "metadata": {},
   "source": [
    "항목이 양의 정수인 경우 원하는 수의 항목을 지정할 수 있다. 일부 데이터 타입은 수용하기가 더 어렵지만. 위의 데이터 타입 표에서 나열한 모든 데이터 타입을 지정할 수 있다. (불리언 타입은 불만족스러운 결과를 낳는다.) 다음 예시를 살펴보자."
   ]
  },
  {
   "cell_type": "code",
   "execution_count": 17,
   "metadata": {},
   "outputs": [
    {
     "data": {
      "text/plain": [
       "array([1, 2, 3, 4, 5])"
      ]
     },
     "execution_count": 17,
     "metadata": {},
     "output_type": "execute_result"
    }
   ],
   "source": [
    "np.linspace(1, 5, num=5, dtype=np.int64)\n"
   ]
  },
  {
   "cell_type": "markdown",
   "metadata": {},
   "source": [
    "이번에는 항목이 모두 정수로 잘 생성되었다. 그러나 일반적으로 부동소수점 값이 필요한 범위를 지정하고 정수 타입을 사용하는 경우, 이 함수는 많은 값 또는 전부를 잘라 내어 정수 타입으로 변환한다."
   ]
  },
  {
   "cell_type": "markdown",
   "metadata": {},
   "source": [
    "### empty 함수  \n",
    "\n",
    "empty 함수는 초기화하지 않은 numpy 배열을 생성한다. 생성한 배열의 초깃값을 추후에 설정하는 경우라면, 시간을 절약하기 위해 두 번 중복으로 초기화하는 것을 막기 위한 용도로 empty 함수를 사용할 수 있다. 그러나 초기화하지 않은 객체를 사용하는 것은 위험한 작업이기 때문에 주의해야 한다. 실행 속도를 높이기 위한 마지막 방법을 시도하거나, 반드시 배열을 사용하기 전에 각 항목에 의미 있는 값을 설정한다고 확신할 때 사용하기 바란다.  \n",
    "\n",
    "값을 초기화하지 않았기 때문에 시뮬레이션이나 게임에서 유용하게 사용할 수 있는 난수가 들어있다고 가정하지 말기 바란다. 이 숫자들은 통계적 이상 징후를 가지고 있어 무작위 표본 추출 시 빈약한 데이터를 만든다.  \n",
    "\n",
    "numpy.empty(shape, dtype='float', order='C)  \n",
    "\n",
    "유일한 필수 인수인 shape 인수는 정수이거나 튜플이다. 앞 예시에서는 1차원 배열이 생성되었다. 튜플은 더 높은 차원의 배열을 지정한다. 가령 (3, 3)은 2차원인 3x3 배열을 지정한다.  \n",
    "\n",
    "dtype 인수는 각 항목의 데이터 타입을 정한다. 기본값으로 'float'가 설정된다 (dtype 설정을 나열한 앞의 표 참고)  \n",
    "\n",
    "order 인수는 배열이 열-우선 혹은 행-우선 순서로 저장되는 것을 지정한다. 'C'(C처럼 행-우선 순서) 혹은 'F'(포트란처럼 열 우선 순서)를 설정할 수 있으며, C가 기본값이다.  \n",
    "\n",
    "다음 예시는 16비트 signed 정수로 이루어진 2x2 배열을 생성한다. "
   ]
  },
  {
   "cell_type": "code",
   "execution_count": 39,
   "metadata": {},
   "outputs": [
    {
     "data": {
      "text/plain": [
       "array([[0, 0],\n",
       "       [0, 0]], dtype=int16)"
      ]
     },
     "execution_count": 39,
     "metadata": {},
     "output_type": "execute_result"
    }
   ],
   "source": [
    "import numpy as np\n",
    "\n",
    "a = np.empty((2, 2), dtype='int16') \n",
    "a"
   ]
  },
  {
   "cell_type": "markdown",
   "metadata": {},
   "source": [
    "결과는 다를 수 있다. 데이터가 초기화되지 않았으며, 예측할 수 없기 때문이다. 다른 예시를 하나 더 살펴보자. 숫자가 무작위인 것처럼 보이더라도 이 '무작위성'에 기대지 말자. 초기화되지 않은 값은 '쓰레기'로 취급하자. 사용하지 말라는 뜻"
   ]
  },
  {
   "cell_type": "code",
   "execution_count": 43,
   "metadata": {},
   "outputs": [
    {
     "data": {
      "text/plain": [
       "array([[1.e-45, 0.e+00],\n",
       "       [3.e-45, 0.e+00],\n",
       "       [4.e-45, 0.e+00]], dtype=float32)"
      ]
     },
     "execution_count": 43,
     "metadata": {},
     "output_type": "execute_result"
    }
   ],
   "source": [
    "a = np.empty((3, 2), dtype='float32')\n",
    "a"
   ]
  },
  {
   "cell_type": "markdown",
   "metadata": {},
   "source": [
    "##### eye 함수  \n",
    "\n",
    "eye 함수는 numpy의 identity 함수와 비슷하다. 두 함수는 같은 종류의 배열을 생성한다. 특히 'identity' 배열은 [0,0], [1,1], [2,2]...식의 대각선 위치에 1을 채우고 나머지는 0으로 채운다. 이 함수는 2차원 배열만을 생성한다.   \n",
    "\n",
    "numpy.eye(N, M=None, [k,] dtype='float', order='C)  \n",
    "\n",
    "N,M 인수는 각각 행과 열의 구체적인 숫자를 지정한다. M을 명시하지 않거나 None으로 설정하면 자동으로 N과 같은 값으로 설정된다.  \n",
    "\n",
    "k인수는 선택 사항이며, 대각선을 이동하는 데 사용할 수 있다. 기본값은 0이며, 주 대각선을 이용한다. 양수로 설정하면 대각선을 위로 이동시키며, 음수로 설정하면 대각선을 아래로 이동시킨다.  \n",
    "\n",
    "dtype 인수는 각 항목의 데이터 타입을 결정한다. 기본값은 'float'다.  \n",
    "\n",
    "order 인수는 배열이 열-우선 혹은 행-우선 순서로 저장되는 것을 지정한다. 'C'(C언어 처럼 행-우선 순서) 혹은 'F'(포트란 처럼 열 우선 순서)를 설정할 수 있으며, C가 기본값이다. 예시를 살펴보자."
   ]
  },
  {
   "cell_type": "code",
   "execution_count": 44,
   "metadata": {},
   "outputs": [
    {
     "data": {
      "text/plain": [
       "array([[1, 0, 0, 0],\n",
       "       [0, 1, 0, 0],\n",
       "       [0, 0, 1, 0],\n",
       "       [0, 0, 0, 1]])"
      ]
     },
     "execution_count": 44,
     "metadata": {},
     "output_type": "execute_result"
    }
   ],
   "source": [
    "a = np.eye(4, dtype='int')\n",
    "a"
   ]
  },
  {
   "cell_type": "markdown",
   "metadata": {},
   "source": [
    "또한 dtype 기본값인 'float'를 사용하여 4x4 대신 6x6처럼 더 큰 부동소수점 버전의 배열을 만들 수 있다. "
   ]
  },
  {
   "cell_type": "code",
   "execution_count": 45,
   "metadata": {},
   "outputs": [
    {
     "data": {
      "text/plain": [
       "array([[1., 0., 0., 0., 0., 0.],\n",
       "       [0., 1., 0., 0., 0., 0.],\n",
       "       [0., 0., 1., 0., 0., 0.],\n",
       "       [0., 0., 0., 1., 0., 0.],\n",
       "       [0., 0., 0., 0., 1., 0.],\n",
       "       [0., 0., 0., 0., 0., 1.]])"
      ]
     },
     "execution_count": 45,
     "metadata": {},
     "output_type": "execute_result"
    }
   ],
   "source": [
    "a = np.eye(6)\n",
    "a"
   ]
  },
  {
   "cell_type": "markdown",
   "metadata": {},
   "source": [
    "이와 같은 배열은 여러 가지 용도가 있지만, 기본적으로 R=C 와 같이 동일한 좌표의 쌍으로 구성된 배열을 가지고 특별한 작업을 수행할 때 크기가 큰 배열 대상으로 배치 처리할 수 있는 방법을 제공한다. "
   ]
  },
  {
   "cell_type": "markdown",
   "metadata": {},
   "source": [
    "##### ones 함수  \n",
    "\n",
    "ones 함수는 배열의 모든 항목을 1로 초기화한 배열을 생성한다. 배열의 데이터 타입에 따라 각 항목을 정수 1, 부동소수점 1.0 혹은 불리언 값 True로 초기화할 수 있다.  \n",
    "\n",
    "numpy.ones(shape, dtype='float', order='C')  \n",
    "\n",
    "이 인수들은 empty 함수에서 설명한 인수들과 동일하다. 간략하게 살펴보자. shape는 정수(1차원 배열의 길이)이거나 N차원을 지정하는 튜플이다 order 인수는 'C'(C 처럼 행-우선 순서) 혹은 'F'(포트란 처럼 열-우선 순서)로 설정된다. 다음 예시는 기본값 float 타입으로 3x3의 2차원 배열을 생성한다. "
   ]
  },
  {
   "cell_type": "code",
   "execution_count": 46,
   "metadata": {},
   "outputs": [
    {
     "data": {
      "text/plain": [
       "array([[1., 1., 1.],\n",
       "       [1., 1., 1.],\n",
       "       [1., 1., 1.]])"
      ]
     },
     "execution_count": 46,
     "metadata": {},
     "output_type": "execute_result"
    }
   ],
   "source": [
    "import numpy as np \n",
    "\n",
    "a = np.ones((3,3))\n",
    "a"
   ]
  },
  {
   "cell_type": "markdown",
   "metadata": {},
   "source": [
    "다른 예시를 살펴보자. 이번에는 정수로 구성된 2x2x3 배열을 생성한다.  "
   ]
  },
  {
   "cell_type": "code",
   "execution_count": 47,
   "metadata": {},
   "outputs": [
    {
     "data": {
      "text/plain": [
       "array([[[1, 1, 1],\n",
       "        [1, 1, 1]],\n",
       "\n",
       "       [[1, 1, 1],\n",
       "        [1, 1, 1]]], dtype=int16)"
      ]
     },
     "execution_count": 47,
     "metadata": {},
     "output_type": "execute_result"
    }
   ],
   "source": [
    "a = np.ones((2, 2, 3), dtype=np.int16)\n",
    "a"
   ]
  },
  {
   "cell_type": "markdown",
   "metadata": {},
   "source": [
    "마지막으로 불리언으로 구성된 1차원 배열이다. 모든 1이 불리언 값 True인 것에 주목하자."
   ]
  },
  {
   "cell_type": "code",
   "execution_count": 49,
   "metadata": {},
   "outputs": [
    {
     "data": {
      "text/plain": [
       "array([ True,  True,  True,  True,  True,  True])"
      ]
     },
     "execution_count": 49,
     "metadata": {},
     "output_type": "execute_result"
    }
   ],
   "source": [
    "a = np.ones(6, dtype=np.bool_)\n",
    "a"
   ]
  },
  {
   "cell_type": "markdown",
   "metadata": {},
   "source": [
    "이 마지막 배열(모두 True값으로 설정된 불리언 배열)은 에라토스테네스의 체를 사용하여 소수를 생성할 때 유용하게 사용될 것이다. "
   ]
  },
  {
   "cell_type": "markdown",
   "metadata": {},
   "source": [
    "##### zeros 함수  \n",
    "\n",
    "zeros 함수는 배열의 모든 항목을 0으로 초기화한 배열을 생성한다. 배열의 데이터 타입에 따라 각 항목을 정수 0, 부동소수점 0.0 혹은 불리언 값 False로 초기화 할 수 있다.  \n",
    "\n",
    "numpy.zeros(shape, dtype='float', order='C')  \n",
    "\n",
    "이 인수들은 empty 함수에서 소개한 일반적인 배열-생성 인수들이다.간략하게 살펴보자. shape는 정수(1차원 배열의 길이)이거나 N차원을 지정하는 튜플이다. order 인수는 'C'(C처럼 행-우선 순서)혹은 'F'(포트란처럼 열-우선 순서)로 설정된다.  \n",
    "\n",
    "다음 예시는 기본값이 float 타입을 사용하여 3x3의 2차원 배열을 생성한다."
   ]
  },
  {
   "cell_type": "code",
   "execution_count": 50,
   "metadata": {},
   "outputs": [
    {
     "data": {
      "text/plain": [
       "array([[0., 0., 0.],\n",
       "       [0., 0., 0.],\n",
       "       [0., 0., 0.]])"
      ]
     },
     "execution_count": 50,
     "metadata": {},
     "output_type": "execute_result"
    }
   ],
   "source": [
    "import numpy as np \n",
    "\n",
    "a = np.zeros((3, 3))\n",
    "a"
   ]
  },
  {
   "cell_type": "markdown",
   "metadata": {},
   "source": [
    "이번에는 정수로 구성된 2x2x3 배열을 만드는 다른 예시를 살펴보자. "
   ]
  },
  {
   "cell_type": "code",
   "execution_count": 51,
   "metadata": {},
   "outputs": [
    {
     "data": {
      "text/plain": [
       "array([[[0, 0, 0],\n",
       "        [0, 0, 0]],\n",
       "\n",
       "       [[0, 0, 0],\n",
       "        [0, 0, 0]]], dtype=int16)"
      ]
     },
     "execution_count": 51,
     "metadata": {},
     "output_type": "execute_result"
    }
   ],
   "source": [
    "a = np.zeros((2, 2, 3), dtype=np.int16) \n",
    "a"
   ]
  },
  {
   "cell_type": "markdown",
   "metadata": {},
   "source": [
    "마지막으로 불리언으로 구성된 1차원 배열이다. 모든 0이 불리언 값 False인 것에 주목하자."
   ]
  },
  {
   "cell_type": "code",
   "execution_count": 53,
   "metadata": {},
   "outputs": [
    {
     "data": {
      "text/plain": [
       "array([False, False, False, False, False])"
      ]
     },
     "execution_count": 53,
     "metadata": {},
     "output_type": "execute_result"
    }
   ],
   "source": [
    "a = np.zeros(5, dtype=np.bool_)\n",
    "a"
   ]
  },
  {
   "cell_type": "markdown",
   "metadata": {},
   "source": [
    "##### full 함수  \n",
    "\n",
    "full 함수는 앞서 살펴본 empty, ones, zeros 함수와 같은 인수를 사용하여 numpy 배열을 생성하지만, 이 함수들과 달리 각각의 항목에 값을 대입하기 위한 인수가 하나 추가된다.  \n",
    "\n",
    "numpy.full(shape, fill_value, dtype=None, order='C')  \n",
    "\n",
    "shape는 정수(1차원 배열의 길이)이거나 N차원을 지정하는 튜플이다. dtype 인수를 생략하거나 None으로 설정하면 이 함수의 필수 인수인 fill_value의 데이터 타입이 설정된다. 다음 예시는 각 항목을 3.14로 설정한 2x2 배열을 생성한다. "
   ]
  },
  {
   "cell_type": "code",
   "execution_count": 54,
   "metadata": {},
   "outputs": [
    {
     "data": {
      "text/plain": [
       "array([[3.14, 3.14],\n",
       "       [3.14, 3.14]])"
      ]
     },
     "execution_count": 54,
     "metadata": {},
     "output_type": "execute_result"
    }
   ],
   "source": [
    "import numpy as np \n",
    "\n",
    "a =np.full((2, 2), 3.14)\n",
    "a"
   ]
  },
  {
   "cell_type": "markdown",
   "metadata": {},
   "source": [
    "다른 예시를 살펴보자. 이번에는 정수인 항목 8개를 100으로 설정한 배열을 생성한다."
   ]
  },
  {
   "cell_type": "code",
   "execution_count": 55,
   "metadata": {},
   "outputs": [
    {
     "data": {
      "text/plain": [
       "array([100, 100, 100, 100, 100, 100, 100, 100])"
      ]
     },
     "execution_count": 55,
     "metadata": {},
     "output_type": "execute_result"
    }
   ],
   "source": [
    "a = np.full(8, 100)\n",
    "a"
   ]
  },
  {
   "cell_type": "markdown",
   "metadata": {},
   "source": [
    "마지막 예시는 고정된 최대 크기를 넘지 않는 문자열로 구성된 numpy 배열을 생성한다. "
   ]
  },
  {
   "cell_type": "code",
   "execution_count": 56,
   "metadata": {},
   "outputs": [
    {
     "data": {
      "text/plain": [
       "array(['ken', 'ken', 'ken', 'ken', 'ken'], dtype='<U3')"
      ]
     },
     "execution_count": 56,
     "metadata": {},
     "output_type": "execute_result"
    }
   ],
   "source": [
    "a = np.full(5, 'ken')\n",
    "a"
   ]
  },
  {
   "cell_type": "markdown",
   "metadata": {},
   "source": [
    "크기가 3인 문자열과 함께 배열을 생성하면 각 문자열은 사실상 최대 크기를 찾게 된다. 배열 항목에 더 긴 문자열을 대입할 수 있지만 잘려 나간다. "
   ]
  },
  {
   "cell_type": "code",
   "execution_count": 58,
   "metadata": {},
   "outputs": [
    {
     "data": {
      "text/plain": [
       "array(['tom', 'ken', 'ken', 'ken', 'ken'], dtype='<U3')"
      ]
     },
     "execution_count": 58,
     "metadata": {},
     "output_type": "execute_result"
    }
   ],
   "source": [
    "a[0] = 'tommy'\n",
    "a"
   ]
  },
  {
   "cell_type": "markdown",
   "metadata": {},
   "source": [
    "##### copy 함수  \n",
    "\n",
    "numpy.copy 함수는 기존 배열의 모든 항목을 복사한다. 데이터는 복사 대상 항목에 접근할 수 있는 참조를 저장하는 대신, 순차적으로 해당 값이 저장되기 때문에 numpy 배열의 깊은 복사와 얕은 복사는 일반적으로 문제가 되지 않는다. 간단한 예시로도 충분히 확인 가능하다. a_arr 배열을 가지고 있다 가정하고, b_arr로 전체 값을 완전히 복사한다고 해 보자. "
   ]
  },
  {
   "cell_type": "code",
   "execution_count": 66,
   "metadata": {},
   "outputs": [
    {
     "name": "stdout",
     "output_type": "stream",
     "text": [
      "a_arr is\n",
      " [[0 0]\n",
      " [0 0]] \n",
      " b_arr is\n",
      " [[0 0]\n",
      " [0 0]]\n"
     ]
    }
   ],
   "source": [
    "import numpy as np \n",
    "\n",
    "a_arr = np.zeros((2, 2), dtype=np.int64)\n",
    "b_arr = np.copy(a_arr)\n",
    "print('a_arr is\\n', a_arr,'\\n b_arr is\\n', b_arr)\n"
   ]
  },
  {
   "cell_type": "markdown",
   "metadata": {},
   "source": [
    "##### fromfunction 함수  \n",
    "\n",
    "numpy.fromfunction 함수는 배열을 생성하는 가장 강력한 방법이며, 다음 절에서 이 함수를 사용하여 곱셈표를 만들 것이다. fromfunction은 대상 배열의 색인을 인수로 사용하는 다른 함수를 사용하여 배열을 생성하고 초기화 할 수 있다.   \n",
    "\n",
    "numpy.fromfunction(func, shape, dtype='float')  \n",
    "\n",
    "shape는 다른 함수들과 마찬가지로 정수 혹은 정수로 구성된 튜플이다. 이 튜플의 길이는 배열의 랭크를 결정하며, 콜러블인 func에 필요한 인수의 숫자를 결정한다.  \n",
    "\n",
    "shape는 반드시 스칼라 값이 아닌 튜플을 사용해야 하는 규칙이 있기 때문에 1차원 데이터 세트를 생성하기 위해서는 (,5)와 같은 튜플 표현식을 사용해야 한다.  \n",
    "\n",
    "간단한 예시를 살펴보자. 5개의 자연수로 구성된 1차원 배열을 만든다고 해보자. 물론 arange를 사용할 수도 있지만, from function은 다른 방식을 제공한다. 바로 콜러블을 사용하는 방식이다. "
   ]
  },
  {
   "cell_type": "code",
   "execution_count": 67,
   "metadata": {},
   "outputs": [
    {
     "data": {
      "text/plain": [
       "array([1, 2, 3, 4, 5], dtype=int32)"
      ]
     },
     "execution_count": 67,
     "metadata": {},
     "output_type": "execute_result"
    }
   ],
   "source": [
    "import numpy as np \n",
    "\n",
    "def simple(n):\n",
    "    return n + 1\n",
    "\n",
    "a = np.fromfunction(simple, (5,), dtype='int32')\n",
    "a"
   ]
  },
  {
   "cell_type": "markdown",
   "metadata": {},
   "source": [
    "람다 함수로 표현하는 것이 더 좋을 수도 있다. "
   ]
  },
  {
   "cell_type": "code",
   "execution_count": 68,
   "metadata": {},
   "outputs": [
    {
     "data": {
      "text/plain": [
       "array([1, 2, 3, 4, 5], dtype=int32)"
      ]
     },
     "execution_count": 68,
     "metadata": {},
     "output_type": "execute_result"
    }
   ],
   "source": [
    "a = np.fromfunction(lambda n:n+1, (5,), dtype='int32')\n",
    "a "
   ]
  },
  {
   "cell_type": "markdown",
   "metadata": {},
   "source": [
    "보통 일반적으로 사용되는 배열은 1차원보다 더 많은 차원을 갖는다. 다음 예시는 두 색인의 합계를 각 항목으로 초기화한 2차원 배열을 생성한다. "
   ]
  },
  {
   "cell_type": "code",
   "execution_count": 70,
   "metadata": {},
   "outputs": [
    {
     "data": {
      "text/plain": [
       "array([[0, 1, 2],\n",
       "       [1, 2, 3],\n",
       "       [2, 3, 4]], dtype=int32)"
      ]
     },
     "execution_count": 70,
     "metadata": {},
     "output_type": "execute_result"
    }
   ],
   "source": [
    "def add_it(r, c):\n",
    "    return r + c\n",
    "\n",
    "a = np.fromfunction(add_it, (3, 3), dtype='int32')\n",
    "a"
   ]
  },
  {
   "cell_type": "markdown",
   "metadata": {},
   "source": [
    "이 절을 시작할때 fromfuction은 각 항목에 값을 설정하는 함수가 호출되며, 인수로는 해당 항목 위치의 색인(들)이라고 했었다.  \n",
    "\n",
    "fromfunction이 실제로 하는 작업은 전체 숫자들을 나열한 1차원(혹은 축)인 배열 혹은 배열들을 생성하는 것이다  \n",
    "\n",
    "[0 1 2 3 4 5]  \n",
    "\n",
    "이 배열은 각 항목이 색인과 동일한 항등 배열이다.  \n",
    "\n",
    "앞 예시에서 사용한 2차원의 3x3 배열을 fromfuction으로 만들면 2개의 각 축을 위핸 배열 2개를 생성한다.  \n",
    "\n",
    "[[0 0 0],  \n",
    "[1 1 1],  \n",
    "[2 2 2]]  \n",
    "\n",
    "[[0 1 2],  \n",
    "[0 1 2],  \n",
    "[0 1 2]]  \n",
    "\n",
    "이 결과는 해당 축과 일치하는 항등 배열이 된다. 첫 번째 배열은 각 항목이 행 색인과 동일하며, 두 번째 배열은 각 항목이 열 색인과 같다.  \n",
    "\n",
    "fromfunction의 구현은 배열 위에서 동작한다. 그 결과로 콜러블 인수(호출되는 다른 함수)는 한번만 실행된다. 하지만 하나 혹은 여러 배열을 대상으로 (각 차원에 한 번씩) 실행되기 때문에 배치 처리도 가능해진다  \n",
    "\n",
    "fromfunction을 설계된 방식이 의도한 대로 사용하면 제대로 동작할 것이다. 그러나 잘못 사용하면 이상한 결과가 나올 수 있다. 3x3 배열을 생성해야 하는 다음 코드를 살펴보자. "
   ]
  },
  {
   "cell_type": "code",
   "execution_count": 71,
   "metadata": {},
   "outputs": [
    {
     "data": {
      "text/plain": [
       "1"
      ]
     },
     "execution_count": 71,
     "metadata": {},
     "output_type": "execute_result"
    }
   ],
   "source": [
    "a = np.fromfunction(lambda r, c: 1, (3, 3), dtype='int')\n",
    "a"
   ]
  },
  {
   "cell_type": "markdown",
   "metadata": {},
   "source": [
    "아마도 각 항목이 1로 설정된 3x3 배열이 결과로 나오리라 예측했을 것이다. 하지만 이 함수는 스칼라 값 1을 반환한다 "
   ]
  },
  {
   "cell_type": "markdown",
   "metadata": {},
   "source": [
    "### 예시: 곱셈표 만들기  \n",
    "\n",
    "1에서 10까지의 숫자를 담은 고전적 곱셈표를 만들려고 한다고 가정해 보자. 이를 달성하기 위해 numpy를 사용하는 방법은 여러 가지가 있다. 예를 들어 빈 배열을 만들고 항목에 값을 대입할 수 있을 것이다.  \n",
    "\n",
    "numpy로 비슷한 작업을 해 보자. 예를 들어 전체 항목을 0으로 초기화한 배열을 생성한 후 중첩된 루프를 작성하여 각 항목에 R * C를 대입하는 것이다 (실제로 (R + 1) * (C + 1)이 된다.)  \n",
    "\n",
    "지금까지 살펴본 가장 효율적인 방식은 루프를 전혀 쓰지 않고, fromfunction을 사용하여 값을 생성하는 함수를 호출하는 배열을 만드는 것이다. 이것이 바로 numpy 철학이다. 가능한 한 패키지가 모든 작업을 배치로 한 번에 수행하도록 하자. 비교적 적은 루프를 사용해야 한다.  \n",
    "\n",
    "그런 다음 코드에서 이 예시를 확인해 보자."
   ]
  },
  {
   "cell_type": "code",
   "execution_count": 72,
   "metadata": {},
   "outputs": [
    {
     "name": "stdout",
     "output_type": "stream",
     "text": [
      "[[  1   2   3   4   5   6   7   8   9  10]\n",
      " [  2   4   6   8  10  12  14  16  18  20]\n",
      " [  3   6   9  12  15  18  21  24  27  30]\n",
      " [  4   8  12  16  20  24  28  32  36  40]\n",
      " [  5  10  15  20  25  30  35  40  45  50]\n",
      " [  6  12  18  24  30  36  42  48  54  60]\n",
      " [  7  14  21  28  35  42  49  56  63  70]\n",
      " [  8  16  24  32  40  48  56  64  72  80]\n",
      " [  9  18  27  36  45  54  63  72  81  90]\n",
      " [ 10  20  30  40  50  60  70  80  90 100]]\n"
     ]
    }
   ],
   "source": [
    "import numpy as np \n",
    "\n",
    "def multy(r, c):\n",
    "    return (r + 1) * (c + 1)\n",
    "\n",
    "a = np.fromfunction(multy, (10, 10), dtype=np.int16)\n",
    "print(a)"
   ]
  },
  {
   "cell_type": "markdown",
   "metadata": {},
   "source": [
    "대괄호 기호를 제거하면 출력 모양을 개선할 수 있다. 문자열로 변환한 후 str 클래스의 replace 메서드를 사용하면 비교적 쉽게 수행할 수 있다."
   ]
  },
  {
   "cell_type": "code",
   "execution_count": 74,
   "metadata": {},
   "outputs": [
    {
     "name": "stdout",
     "output_type": "stream",
     "text": [
      "   1   2   3   4   5   6   7   8   9  10\n",
      "   2   4   6   8  10  12  14  16  18  20\n",
      "   3   6   9  12  15  18  21  24  27  30\n",
      "   4   8  12  16  20  24  28  32  36  40\n",
      "   5  10  15  20  25  30  35  40  45  50\n",
      "   6  12  18  24  30  36  42  48  54  60\n",
      "   7  14  21  28  35  42  49  56  63  70\n",
      "   8  16  24  32  40  48  56  64  72  80\n",
      "   9  18  27  36  45  54  63  72  81  90\n",
      "  10  20  30  40  50  60  70  80  90 100\n"
     ]
    }
   ],
   "source": [
    "s = str(a)\n",
    "s = s.replace('[', '')\n",
    "s = s.replace(']', '')\n",
    "s = ' ' + s\n",
    "print(s)"
   ]
  },
  {
   "cell_type": "markdown",
   "metadata": {},
   "source": [
    "4장에서 언급했듯이 모든 문자의 인스턴스를 제거하는 편리한 방법은 특정 문자를 빈 문자로 교체하는 것이다. 이 예시는 replace 메서드를 호출하여 대괄호 기호를 제거한다. 마지막으로 2개의 좌측 대괄호 기호를 대체하기 위해 빈칸이 추가되었다. 이제 이 문자열은 다음과 같이 출력된다. "
   ]
  },
  {
   "cell_type": "markdown",
   "metadata": {},
   "source": [
    "### numpy 배열의 배치 연산  \n",
    "\n",
    "전체 배열이나 슬라이싱으로 생성된 배열 일부에서 대규모 작업이나 일괄 배치 작업을 수행할 때 numpy 배열의 실제 능력과 처리 속도는 도드라진다. 이렇게 하면 선택한 행과 열 또는 교차점에서 작업할 수 있다.  \n",
    "\n",
    "일단 numpy 배열을 만들면 스칼라 값과 결합하여 얼마든지 산술 연산을 할 수 있다. 밑의 표에서는 우리가 할 수 있는 연산들이 나열되어 있다. 이 표는 완전한 목록과는 거리가 멀다. 이 표에서 A는 Numpy 배열이고, n은 단일 정수나 부동소수점 숫자와 같은 스칼라 값이다.  \n",
    "\n",
    "* A + n : A 배열의 모든 항목에 n을 더한다. \n",
    "* A - n : A 배열의 모든 항목에 n을 뺀다. \n",
    "* A * n : A 배열의 모든 항목에 n을 곱한다. \n",
    "* n ** A : A 배열의 모든 항목에 n 제곱하여 신규 배열을 생성한다. \n",
    "* A ** n : A 배열의 모든 항목에 n 제곱을 한다. \n",
    "* A / n : A 배열의 모든 항목에 n을 나눈다. \n",
    "* A // n : A 배열의 모든 항목에 n을 나눈 몫을 남긴다.  \n",
    "\n",
    "이 각각의 연산은 일반적인 파이썬 연산과 마찬가지로 대입 연산자를 제공한다. 예를 들어 my_array라는 numpy 배열의 각 항목을 2배로 늘리려면 다음과 같이 작성하면 된다.  \n",
    "\n",
    "my_array *= 2  \n",
    "\n",
    "간단하면서도 매우 강력한 버전의 numpy 배치 연산은 같은 구조(차원 수가 같고, 각 차원의 크기가 같음)의 두 numpy 배열을 연산 처리하는 것이다. 밑의 표는 이런 연산 종류를 보여준다.  \n",
    "\n",
    "* A + B : 서로 같은 위치에 있는 A 항목에 B 항목을 더한 배열을 생성한다. \n",
    "* A - B : 서로 같은 위치에 있는 A 항목에 B 항목을 뺀 배열을 생성한다. \n",
    "* A * B : 서로 같은 위치에 있는 A 항목에 B 항목을 곱한 배열을 생성한다. \n",
    "* A ** B : 서로 같은 위치에 있는 A 항목에 B 항목을 제곱한 배열을 생성한다. \n",
    "* A / B : 서로 같은 위치에 있는 A 항목에 B 항목을 나눈 배열을 생성한다. \n",
    "* A // B : 서로 같은 위치에 있는 A 항목에 B 항목을 나눈 몫으로 구성된 배열을 생성한다. "
   ]
  },
  {
   "cell_type": "markdown",
   "metadata": {},
   "source": [
    "예시를 위해 간단한 4x4 배열을 준비해 보자. "
   ]
  },
  {
   "cell_type": "code",
   "execution_count": 75,
   "metadata": {},
   "outputs": [
    {
     "name": "stdout",
     "output_type": "stream",
     "text": [
      "[[ 0  1  2  3]\n",
      " [ 4  5  6  7]\n",
      " [ 8  9 10 11]\n",
      " [12 13 14 15]]\n"
     ]
    }
   ],
   "source": [
    "import numpy as np \n",
    "\n",
    "A = np.array([[0, 1, 2, 3], [4, 5, 6, 7], [8, 9, 10, 11], [12, 13, 14, 15]])\n",
    "print(A)\n"
   ]
  },
  {
   "cell_type": "markdown",
   "metadata": {},
   "source": [
    "익숙한 패턴이다. 모든 데이터를 직접 입력하지 않고도 이런 배열을 생성할 수 있는 방법이 있을까? 물론이다. 적어도 두 가지 방법이 존재한다. 가장 간단한 방법은 1부터 15까지의 숫자를 생성하여 단순한 배열을 만든 후, numpy reshape 함수를 사용하여 동일한 항목을 가진 4x4 배열로 재배열 하는 것이다.  \n",
    "\n",
    "A = np.array(16).reshape((4, 4))  \n",
    "\n",
    "또 다른 방법은 fromfunction을 사용하는 것이다. 두 방법 모두, 동일한 패턴을 200x100 혹은 심지어 1000x3000과 같이 훨씬 더 큰 배열에 적용하는 데 사용할 수 있다.  \n",
    "\n",
    "4x4 배열을 생성하는 경우 fromfunction 함수는 다음과 같이 호출될 것이다.  \n",
    "\n",
    "A = np.fromfunction(lambda r, c: r*4 + c, (4 ,4))  \n",
    "\n",
    "또한 같은 구조와 크기를 갖는 B 배열이 있다고 가정해 보자.  \n",
    "\n",
    "B = np.eye(4, dtype='int16')"
   ]
  },
  {
   "cell_type": "code",
   "execution_count": 80,
   "metadata": {},
   "outputs": [
    {
     "name": "stdout",
     "output_type": "stream",
     "text": [
      "[[ 0.  1.  2.  3.]\n",
      " [ 4.  5.  6.  7.]\n",
      " [ 8.  9. 10. 11.]\n",
      " [12. 13. 14. 15.]]\n",
      "[[1 0 0 0]\n",
      " [0 1 0 0]\n",
      " [0 0 1 0]\n",
      " [0 0 0 1]]\n"
     ]
    }
   ],
   "source": [
    "A = np.fromfunction(lambda r, c: r*4 + c, (4, 4))\n",
    "B = np.eye(4, dtype='int16') \n",
    "print(A, B, sep='\\n')"
   ]
  },
  {
   "cell_type": "markdown",
   "metadata": {},
   "source": [
    "이제 흥미로운 부분이 시작된다. 가령 A의 항목을 10배로 한 신규 배열을 생성할 수 있다 "
   ]
  },
  {
   "cell_type": "code",
   "execution_count": 77,
   "metadata": {},
   "outputs": [
    {
     "name": "stdout",
     "output_type": "stream",
     "text": [
      "[[  0.  10.  20.  30.]\n",
      " [ 40.  50.  60.  70.]\n",
      " [ 80.  90. 100. 110.]\n",
      " [120. 130. 140. 150.]]\n"
     ]
    }
   ],
   "source": [
    "C = A * 10\n",
    "print(C)"
   ]
  },
  {
   "cell_type": "markdown",
   "metadata": {},
   "source": [
    "변수 C는 A의 모든 항목에 10을 곱한 배열을 참조하고 있다. 또한, A에 있는 모든 원소의 제곱을 포함하는 배열도 만들 수 있다. A에 A를 곱하면 각 항목의 제곱으로 구성된 배열을 만들 수 있다. "
   ]
  },
  {
   "cell_type": "code",
   "execution_count": 81,
   "metadata": {},
   "outputs": [
    {
     "name": "stdout",
     "output_type": "stream",
     "text": [
      "[[  0.   1.   4.   9.]\n",
      " [ 16.  25.  36.  49.]\n",
      " [ 64.  81. 100. 121.]\n",
      " [144. 169. 196. 225.]]\n"
     ]
    }
   ],
   "source": [
    "C = A * A\n",
    "print(C)"
   ]
  },
  {
   "cell_type": "markdown",
   "metadata": {},
   "source": [
    "numpy 배열이 직사각형이나 정사각형 모양을 갖출 필요가 없다는 것을 기억해라. 언제든지 배열의 구조는 변경될 수 있다. 가령 다음과 같이 4x4 배열을 2x8 배열로 변경할 수 있다. "
   ]
  },
  {
   "cell_type": "code",
   "execution_count": 82,
   "metadata": {},
   "outputs": [
    {
     "name": "stdout",
     "output_type": "stream",
     "text": [
      "[[  0.   1.   4.   9.  16.  25.  36.  49.]\n",
      " [ 64.  81. 100. 121. 144. 169. 196. 225.]]\n"
     ]
    }
   ],
   "source": [
    "print(C.reshape((2, 8)))"
   ]
  },
  {
   "cell_type": "markdown",
   "metadata": {},
   "source": [
    "A를 메모리 속에서 변경하고 싶다면 대입 연산 *= 를 사용하면 된다. 배열은 가변적이기 때문에 값이 바로 변경된다. "
   ]
  },
  {
   "cell_type": "code",
   "execution_count": 83,
   "metadata": {},
   "outputs": [],
   "source": [
    "A *= A"
   ]
  },
  {
   "cell_type": "markdown",
   "metadata": {},
   "source": [
    "마지막으로 이 코드는 A 스스로 A의 모든 항목을 각각 제곱한다고 가정한다. 다음 연산은 A를 B로 곱한다. B가 항등 (eye혹은 identity) 배열이라면 어떤 결과가 될까?"
   ]
  },
  {
   "cell_type": "code",
   "execution_count": 84,
   "metadata": {},
   "outputs": [
    {
     "name": "stdout",
     "output_type": "stream",
     "text": [
      "[[  0.   0.   0.   0.]\n",
      " [  0.  25.   0.   0.]\n",
      " [  0.   0. 100.   0.]\n",
      " [  0.   0.   0. 225.]]\n"
     ]
    }
   ],
   "source": [
    "C = A * B\n",
    "print(C)"
   ]
  },
  {
   "cell_type": "markdown",
   "metadata": {},
   "source": [
    "다시 말하지만 결과는 항목간 곱셈이 된다. "
   ]
  },
  {
   "cell_type": "markdown",
   "metadata": {},
   "source": [
    "### numpy 슬라이스 정렬하기  \n",
    "\n",
    "1차원 numpy 배열은 파이썬 리스트와 마찬가지로 슬라이싱 할 수 있다. 다차원 배열은 다음 절에서 다룰 것이다.  \n",
    "\n",
    "주어진 numpy 배열을 파이썬 리스트와 같이 분리하여 출력할 수 있다. 다음 예시를 살펴보자. "
   ]
  },
  {
   "cell_type": "code",
   "execution_count": 86,
   "metadata": {},
   "outputs": [
    {
     "name": "stdout",
     "output_type": "stream",
     "text": [
      "[ 1  2  3  4  5  6  7  8  9 10]\n",
      "[3 4 5]\n"
     ]
    }
   ],
   "source": [
    "A = np.arange(1, 11)\n",
    "print(A)\n",
    "print(A[2:5])"
   ]
  },
  {
   "cell_type": "markdown",
   "metadata": {},
   "source": [
    "numpy 자르기의 흥미로운 점 한가지는 스칼라 값을 대입하는 것이다. 다음 코드의 실행 결과는 분리한 부분 배려에 같은 값을 대입한다. "
   ]
  },
  {
   "cell_type": "code",
   "execution_count": 87,
   "metadata": {},
   "outputs": [
    {
     "name": "stdout",
     "output_type": "stream",
     "text": [
      "[ 1  2  0  0  0  6  7  8  9 10]\n"
     ]
    }
   ],
   "source": [
    "A[2:5] = 0\n",
    "print(A)"
   ]
  },
  {
   "cell_type": "markdown",
   "metadata": {},
   "source": [
    "더 많은 작업을 할 수도 있다. 부분 배열의 연산 처리는 전체 배열에 할 수 있는 것과 동일하게 수행이 가능하다. 대입 연산자를 사용하면 메모리 속에 있는 값이 바로 변경된다. 가령 다음과 같이 3개의 항목에 0을 설정하는 대신 100을 더할 수도 있다. "
   ]
  },
  {
   "cell_type": "code",
   "execution_count": 90,
   "metadata": {},
   "outputs": [
    {
     "name": "stdout",
     "output_type": "stream",
     "text": [
      "[  1   2 103 104 105   6   7   8   9  10]\n"
     ]
    }
   ],
   "source": [
    "B = np.arange(1, 11)\n",
    "B[2:5] += 100\n",
    "print(B)"
   ]
  },
  {
   "cell_type": "markdown",
   "metadata": {},
   "source": [
    "표준 연산을 사용하여 배열을 합치려면 두 배열의 크기가 반드시 같아야 한다는 것을 잊지 말자. 이 규칙은 부분 배열에도 적용된다. 가령 다음 코드는 배열의 구조가 일치하기 때문에 잘 동작한다. "
   ]
  },
  {
   "cell_type": "code",
   "execution_count": 94,
   "metadata": {},
   "outputs": [],
   "source": [
    "C[2:5] *= [100, 200, 300]"
   ]
  },
  {
   "cell_type": "markdown",
   "metadata": {},
   "source": [
    "이 코드는 C의 3,4,5 번째 항목에 100, 200, 300을 각각 곱한다. 이 연산 처리의 결과는 다음과 같다 "
   ]
  },
  {
   "cell_type": "code",
   "execution_count": 95,
   "metadata": {},
   "outputs": [
    {
     "name": "stdout",
     "output_type": "stream",
     "text": [
      "[   1    2  300  800 1500    6    7    8    9   10]\n"
     ]
    }
   ],
   "source": [
    "C = np.arange(1, 11)\n",
    "C[2:5] *= [100, 200, 300]\n",
    "print(C)"
   ]
  },
  {
   "cell_type": "markdown",
   "metadata": {},
   "source": [
    "자, 실제 문제에 이 기능을 사용하려면 어떻게 해야 할까? 전통적인 성능 비교 테스트로 큰 그룹의 소수 숫자를 만들어 내는 효율적인 방법을 제시하는 에라토스테네스의 체로 알려진 알고리즘에 적용하는 것이다.  \n",
    "\n",
    "0에서 50 사이의 숫자부터 싲가하자. 테스트 절차는 소수점 이하 숫자를 모두 제거한 후 남은 숫자를 출력하는 것이다. 우선 다음 코드에 테스트를 시작하는 배열이 있다. "
   ]
  },
  {
   "cell_type": "code",
   "execution_count": 96,
   "metadata": {},
   "outputs": [
    {
     "name": "stdout",
     "output_type": "stream",
     "text": [
      "[ 0  1  2  3  4  5  6  7  8  9 10 11 12 13 14 15 16 17 18 19 20 21 22 23\n",
      " 24 25 26 27 28 29 30 31 32 33 34 35 36 37 38 39 40 41 42 43 44 45 46 47\n",
      " 48 49 50]\n"
     ]
    }
   ],
   "source": [
    "A = np.arange(51)\n",
    "print(A)"
   ]
  },
  {
   "cell_type": "markdown",
   "metadata": {},
   "source": [
    "소수만이 아닌 모든 숫자를 0으로 만들고 싶다고 해 보자.  \n",
    "* A[1]은 0이다. 1은 소수가 아니기 때문이다. \n",
    "* 2의 제곱부터 시작하는 2의 배수는 모두 0이다. \n",
    "* 3의 제곱부터 시작하는 3의 배수는 모두 0이다 \n",
    "* 5와 7에도 같은 절차를 반복한다.  \n",
    "\n",
    "다음 코드는 앞 2단계를 처리한다. "
   ]
  },
  {
   "cell_type": "code",
   "execution_count": 97,
   "metadata": {},
   "outputs": [
    {
     "name": "stdout",
     "output_type": "stream",
     "text": [
      "[ 0  0  2  3  0  5  0  7  0  9  0 11  0 13  0 15  0 17  0 19  0 21  0 23\n",
      "  0 25  0 27  0 29  0 31  0 33  0 35  0 37  0 39  0 41  0 43  0 45  0 47\n",
      "  0 49  0]\n"
     ]
    }
   ],
   "source": [
    "A[1] = 0\n",
    "A[2 * 2::2] = 0\n",
    "print(A)"
   ]
  },
  {
   "cell_type": "markdown",
   "metadata": {},
   "source": [
    "A[2 * 2::2]는 2의 제곱인 4부터 배열의 끝까지(중간 인수가 비어 있기 때문)잘라 내겠다는 의미다. 그러고 나서 한 번에 2개의 항목씩 배열을 순회하다. 부분 배열의 모든 항목은 0으로 설정된다.  \n",
    "\n",
    "이 특정 예시에서 각 항목의 값은 해당 항목의 색인과 같은 0에서 50사이의 숫자라는 것을 기억하자. 가령 숫자 8을 0으로 설정하려면 A[8]을 0으로 설정하면 된다. 이 방식이 프로그램을 단순하게 유지한다.  \n",
    "\n",
    "결과를 확인해 보니 A[1]은 0이 되었고, 2를 제외한 짝수 숫자가 모두 0으로 바뀌었다. 같은 작업을 3의 배수에도 수행할 수 있다. "
   ]
  },
  {
   "cell_type": "code",
   "execution_count": 98,
   "metadata": {},
   "outputs": [
    {
     "name": "stdout",
     "output_type": "stream",
     "text": [
      "[ 0  0  2  3  0  5  0  7  0  0  0 11  0 13  0  0  0 17  0 19  0  0  0 23\n",
      "  0 25  0  0  0 29  0 31  0  0  0 35  0 37  0  0  0 41  0 43  0  0  0 47\n",
      "  0 49  0]\n"
     ]
    }
   ],
   "source": [
    "A[3 * 3::3] = 0\n",
    "print(A)"
   ]
  },
  {
   "cell_type": "markdown",
   "metadata": {},
   "source": [
    "5와 7의 배수에도 같은 작업을 수행하고 나면 최종적으로 모든 값이 0이거나 소수인 배열을 얻을 수 있게 된다.  \n",
    "\n",
    "자, 어떻게 0이 아닌 값을 출력할 수 있을까? 물론 루프를 사용하여 배열을 순회하면서 0이 아닌 값을 출력하거나 리스트에 담을 수 있을 것이다. 예시를 살펴보자. "
   ]
  },
  {
   "cell_type": "code",
   "execution_count": 99,
   "metadata": {},
   "outputs": [],
   "source": [
    "my_prime_list = [i for i in A if i > 0]"
   ]
  },
  {
   "cell_type": "markdown",
   "metadata": {},
   "source": [
    "나쁘지 않지만, numpy는 더욱 효율적이고 간략한 방법을 제공한다. 조건을 명시하는 것만으로도 불리언 배열을 생성할 수 있다.  \n",
    "\n",
    "A > 0   \n",
    "\n",
    "뒤에서 자세히 살펴볼 불리언 배열은 인덱싱 작업을 통해서만 배열 A 자체에 마스크로 적용할 수 있다. 이 경우 A의 각 항목이 0보다 크다는 조건을 만족시키는 새로운 배열을 생성하는 효과를 가져온다.  \n",
    "\n",
    "앞서 A 배열에서 소수가 아닌 모든 숫자를 0으로 설정했기 때문에 A 에 남아있는 0이 아닌 값을 가져오면 소수 숫자만 얻는 결과를 가져온다. "
   ]
  },
  {
   "cell_type": "code",
   "execution_count": 101,
   "metadata": {},
   "outputs": [
    {
     "name": "stdout",
     "output_type": "stream",
     "text": [
      "[ 2  3  5  7 11 13 17 19 23 25 29 31 35 37 41 43 47 49]\n"
     ]
    }
   ],
   "source": [
    "P = A[A > 0]\n",
    "print(P)"
   ]
  },
  {
   "cell_type": "markdown",
   "metadata": {},
   "source": [
    "### 다차원 슬라이싱  \n",
    "\n",
    "numpy 배열은 훨씬 강력한 슬라이싱 기능을 제공한다. 슬라이싱 대상 배열 안의 특정 차원 슬라이스를 가져올 수 있다. 2차원 배열의 1차원 슬라이스를 확인해 보는 것부터 시작해 보자. 친숙한 4x4 배열로 시작해 보자."
   ]
  },
  {
   "cell_type": "code",
   "execution_count": 102,
   "metadata": {},
   "outputs": [
    {
     "name": "stdout",
     "output_type": "stream",
     "text": [
      "[[ 1  2  3  4]\n",
      " [ 5  6  7  8]\n",
      " [ 9 10 11 12]\n",
      " [13 14 15 16]]\n"
     ]
    }
   ],
   "source": [
    "A = np.arange(1, 17).reshape((4,4))\n",
    "print(A)"
   ]
  },
  {
   "cell_type": "markdown",
   "metadata": {},
   "source": [
    "중간에 위치한 2개의 항목인 1,2를 슬라이싱하면 어떻게 될까?  "
   ]
  },
  {
   "cell_type": "code",
   "execution_count": 103,
   "metadata": {},
   "outputs": [
    {
     "name": "stdout",
     "output_type": "stream",
     "text": [
      "[[ 5  6  7  8]\n",
      " [ 9 10 11 12]]\n"
     ]
    }
   ],
   "source": [
    "print(A[1:3])"
   ]
  },
  {
   "cell_type": "markdown",
   "metadata": {},
   "source": [
    "명확하게 중간의 열 2개를 생성하고 있다. 자, 그럼 2개의 행을 얻으려면 어떻게 할까? 실제로 그리 어렵지 않다."
   ]
  },
  {
   "cell_type": "code",
   "execution_count": 104,
   "metadata": {},
   "outputs": [
    {
     "data": {
      "text/plain": [
       "array([[ 2,  3],\n",
       "       [ 6,  7],\n",
       "       [10, 11],\n",
       "       [14, 15]])"
      ]
     },
     "execution_count": 104,
     "metadata": {},
     "output_type": "execute_result"
    }
   ],
   "source": [
    "A[:, 1:3]\n"
   ]
  },
  {
   "cell_type": "markdown",
   "metadata": {},
   "source": [
    "쉼표 기호 앞의 콜론 기호는 '이 차원의 모든 항목을 선택하라.' 라는 의미이며, 이 경우에는 열 차원을 의미한다. 1:3 표현식은 색인 1로 시작하고, 색인 3보다 작은 모든 행을 선택하라는 의미다. 따라서 이 표현식은 '모든 열을 선택하면서 행 색인 1부터 행 색인 3보다 작은행을 포함하라'를 의미하게 된다.  \n",
    "\n",
    "N 차원 배열의 인덱싱과 슬라이싱의 일반적인 문법은 다음과 같다.  \n",
    "\n",
    "배열_이름[ i1, i2, i3,...,iN ]  \n",
    "\n",
    "이 문법에서 i1에서 iN까지의 각 인수들은 스칼라 값(범위 내 색인이어야 함)이거나 슬라이스일 수 있다. 최대 N개의 인수를 사용할 수 있으며, 여기에서 N은 배열의 차원(랭크)수다. 스칼라 값을 사용할 때마다 결과로 나오는 배열의 차원 수는 하나 줄어든다.  \n",
    "\n",
    "따라서 2차원 배열을 A[2, 1:4]로 자르면 결과적으로 1차원 배열이 생성된다. A[2:3, 1:4]로 슬라이싱하면 동일한 항목을 얻을 수 있지만, 비어 있지 않은 하나의 행을 갖는 2차원 배열이 된다(이 문제는 배열 간의 연산 대부분을 처리하려면 배열의 크기와 차원 수가 동일해야 하기 때문에 중요하다.)  \n",
    "\n",
    "문법의 i 값을 생략할 수도 있다. 콜론 기호(:)와 같이 값을 생략하면 \"이 차원의 모든 항목을 선택하라\" 라는 의미다. N개의 인수보다 적은 개수의 인수를 설정하면 (M이 인수의 개수일 때) M차원의 첫 번째 차원에 값이 대입되며, 마지막 N-M 차원은 기본값으로 콜론 기호가 된다고 가정한다. 밑의 표에서 예시들을 나열했다. 이표에서 A는 2차원 배열이며 A3D는 3차원 배열이다.  \n",
    "\n",
    "* A[3] : 네 번째 전체 열을 1차원 배열로 반환  \n",
    "* A[3,:] : 위와 동일 \n",
    "* A[3,] : 위와 동일 \n",
    "* A[:,2] : 세번째 전체 행을 1차원 배열로 변환\n",
    "* A[::2,2] : 세번째 행의 홀수 열 가져오기\n",
    "* A[1:3,1:3] : 두번째와 세번째 행의 두번째와 세번째 열의 교차 항목을 2차원 배열로 반환\n",
    "* A3D[2,2] : 세번째 평면의 세번째 열을 1차원 배열로 반환. 해당 열의 모든 컬럼이 선택된다. \n",
    "* A3D[2, 2, ] : 위와 동일 \n",
    "* A3D[::2, 1:3, 2] : 위와 동일하지만 모든 평면 대신 홀수 평면만 가져온다\n",
    "* A3D[0, 0, 1] : 첫 번째 평면의 첫 번째 열의 두 번째 컬럼의 단일 항목  \n",
    "\n"
   ]
  },
  {
   "cell_type": "markdown",
   "metadata": {},
   "source": [
    "조금더 실질적인 예시를 살펴보자. 여러분이 삶의 게임이라고 불리는 컴퓨터 시뮬레이션 프로그램을 작성한다고 가정해 보자. 'grid'를 의미하는 G로 numpy 배열을 다음과 같이 선언해 보자. "
   ]
  },
  {
   "cell_type": "code",
   "execution_count": 105,
   "metadata": {},
   "outputs": [
    {
     "name": "stdout",
     "output_type": "stream",
     "text": [
      "[[0. 0. 0. 0. 0. 0.]\n",
      " [0. 0. 1. 0. 0. 0.]\n",
      " [0. 0. 1. 0. 0. 0.]\n",
      " [0. 0. 1. 0. 0. 0.]\n",
      " [0. 0. 0. 0. 0. 0.]\n",
      " [0. 0. 0. 0. 0. 0.]]\n"
     ]
    }
   ],
   "source": [
    "G = np.zeros((6, 6))\n",
    "G[1:4, 2] = 1\n",
    "print(G)"
   ]
  },
  {
   "cell_type": "markdown",
   "metadata": {},
   "source": [
    "1은 살아 있는 셀이며, 0은 죽은 셀이다. 여러분은 G[2, 2]와 같이 특정 셀을 둘러싸고 있는 살아 있는 이웃 셀의 숫자를 얻고 싶을 수 있다. 이를 달성하기 위한 가장 빠른 방법은 세 번째 행을 포함한 위아래 행과, 세 번째 열을 포함한 왼쪽/오른쪽 열을 교차하는 2차원 슬라이스를 얻는 것이다. "
   ]
  },
  {
   "cell_type": "code",
   "execution_count": 106,
   "metadata": {},
   "outputs": [
    {
     "name": "stdout",
     "output_type": "stream",
     "text": [
      "[[0. 1. 0.]\n",
      " [0. 1. 0.]\n",
      " [0. 1. 0.]]\n"
     ]
    }
   ],
   "source": [
    "print(G[1:4, 1:4])"
   ]
  },
  {
   "cell_type": "markdown",
   "metadata": {},
   "source": [
    "색인 숫자가 1과 3이 아닌 1과 4가 사용되었다는 것을 기억하자. 왜냐하면 슬라이스 표현식은 항상 시작 값을 포함하지만 끝 값은 포함하지 않기 때문이다.  \n",
    "\n",
    "이 코드는 셀 자체를 포함하지 않고 G[2, 2]에 인접한 모든 셀의 값을 더할 수 있는 멋진 교차-섹션을 만들어 준다. 따라서 이웃 집계를 얻으려면 이 교차-섹션의 모든 항목을 더한 후 특정 셀의 값을 빼면 된다.  \n",
    "\n",
    "neighbor_count = np.sum(G[1:4, 1:4]) - G[2, 2]  \n",
    "\n",
    "결과는 2다. 삶의 게임에서 이 값은 중간에 있는 셀이 '안정적'임을 나타내지만, 다음 세대에는 탄생도 죽음도 경험하지 못한다는 것을 의미한다. "
   ]
  },
  {
   "cell_type": "markdown",
   "metadata": {},
   "source": [
    "### 불리언 배열: numpy에 마스킹하기  \n",
    "\n",
    "우리는 이미 마스크로 사용된 불리언 배열의 사용법을 살펴보았다. 12.8절의 마지막 부분에서 다음 표현식을 사용했었다.  \n",
    "\n",
    "A > 0  \n",
    "\n",
    "A가 numpy 배열이라고 가정하면 이 표현식은 'A의 각 항목은 A가 0보다 큰 경우 True를, 그렇지 않으면 False로 설정하라.'라는 것을 의미한다. 결과 배열은 A와 같은 구조를 갖춘다.  \n",
    "\n",
    "예를 들어 다음과 같이 B 배열을 생성해 보자.  "
   ]
  },
  {
   "cell_type": "code",
   "execution_count": 108,
   "metadata": {},
   "outputs": [
    {
     "name": "stdout",
     "output_type": "stream",
     "text": [
      "[[1 2 3]\n",
      " [4 5 6]\n",
      " [7 8 9]]\n"
     ]
    }
   ],
   "source": [
    "B = np.arange(1, 10).reshape(3, 3)\n",
    "print(B)"
   ]
  },
  {
   "cell_type": "markdown",
   "metadata": {},
   "source": [
    "이제 B > 4 조건을 적용해 보자. "
   ]
  },
  {
   "cell_type": "code",
   "execution_count": 110,
   "metadata": {},
   "outputs": [
    {
     "name": "stdout",
     "output_type": "stream",
     "text": [
      "[[False False False]\n",
      " [False  True  True]\n",
      " [ True  True  True]]\n"
     ]
    }
   ],
   "source": [
    "B1 = B > 4 \n",
    "print(B1)"
   ]
  },
  {
   "cell_type": "markdown",
   "metadata": {},
   "source": [
    "B1을 출력해 보면 다음과 같이 불리언 배열을 생성한다.  \n",
    "B1은 B와 같은 구조를 갖추었지만, 각 항목은 정수 대신 True 혹은 False다. 일반적인 규칙은 다음과 같다.  \n",
    "\n",
    "numpy 배열에 비교 연산자(==, < 혹은 >)가 적용될 때는 같은 구조의 불리언 배열을 반환한다.  \n",
    "\n",
    "이 배열을 사용하는 한 가지 방법은 4보다 크다는 조건을 만족하지 못하는 항목 모두에 0을 반영하고 나서, 두 배열 (B와 B > 4)을 함께 곱하는 것이다. "
   ]
  },
  {
   "cell_type": "code",
   "execution_count": 111,
   "metadata": {},
   "outputs": [
    {
     "name": "stdout",
     "output_type": "stream",
     "text": [
      "[[0 0 0]\n",
      " [0 5 6]\n",
      " [7 8 9]]\n"
     ]
    }
   ],
   "source": [
    "print(B * (B > 4))"
   ]
  },
  {
   "cell_type": "markdown",
   "metadata": {},
   "source": [
    "불리언 배열과 작업을 할때, 비교 연산자는 낮은 우선순위를 갖기 때문에 괄호를 사용하는 것이 무척 중요하다는 것을 기억하자.  \n",
    "\n",
    "한편 불리언 배열을 더 좋게 사용하는 방법은 마스크로 사용하여 True인 항목과 같은 위치에 있는 항목은 선택하고, False 항목과 같은 위치에 있는 항목은 선택하지 않는 것이다.  \n",
    "\n",
    "마스크로 불리언 배열을 사용하면 피연산자 배열의 구조와는 상관없이 1차원 배열을 생성한다.  \n",
    "\n",
    "배열_이름[bool_array]  \n",
    "\n",
    "가령 7보다 큰 항목 모두를 선택하기 위해 마스크를 사용할 수도 있다. 결과는 8과 9를 지닌 1차원 배열이 될 것이다 . "
   ]
  },
  {
   "cell_type": "code",
   "execution_count": 112,
   "metadata": {},
   "outputs": [
    {
     "name": "stdout",
     "output_type": "stream",
     "text": [
      "[8 9]\n"
     ]
    }
   ],
   "source": [
    "print(B[B > 7])"
   ]
  },
  {
   "cell_type": "markdown",
   "metadata": {},
   "source": [
    "조금 더 세밀한 예시를 보자. 3으로 나누어 나머지가 1인 항목 모두를 구하는 것이다. B에는 이 조건을 만족하는 3개의 항목이 있다. 1, 4, 7이다.  "
   ]
  },
  {
   "cell_type": "code",
   "execution_count": 113,
   "metadata": {},
   "outputs": [
    {
     "name": "stdout",
     "output_type": "stream",
     "text": [
      "[1 4 7]\n"
     ]
    }
   ],
   "source": [
    "print(B[B % 3 == 1])"
   ]
  },
  {
   "cell_type": "markdown",
   "metadata": {},
   "source": [
    "만약 and 혹은 or 키워드를 사용한 복잡한 조건이 필요하면 불리언과 동작해야 함에도 불구하고 다소 어려워진다. 좋은 해결책은 비트 연산자(&, |)를 불리언 마스크에 적용하는 것이다. & 기호는 비트 AND 연산을 수행하며, I 기호는 비트 OR 연산을 수행한다.  \n",
    "\n",
    "물론 곱셈 기호(*)와 덧셈 기호(+)를 사용하여 같은 결과를 얻을 수 있다. 예를 들어 2보다 크고 7보다 작은 모든 항목으로 구성된 불리언 배열을 생성하려면 다음 코드를 사용하면 된다.  \n",
    "\n",
    "B2 = (B > 2) & (B < 7)  \n",
    "\n",
    "구문을 하나씩 살펴보자.  \n",
    "* B는 정수로 구성된 2차원 배열이다. \n",
    "* B > 2는 B와 같은 구조를 갖는 불리언 배열이다. \n",
    "* B < 7 또한 B와 같은 구조를 갖는 또 다른 불리언 배열이다. \n",
    "* 표현식 (B > 2) & (B < 7)는 바이너리 AND 연산자(&)를 사용하여 두 불리언 배열 간에 'and' 효과를 얻는다  \n",
    "* 불리언 배열의 결과를 변수 B2에 대입한다. 이 배열은 True와 False로 구성되며, 피연산자인 두 배열 간에 불리언 연산을 처리한 결과를 나타낸다.  \n",
    "\n",
    "그런 다음 B자체에 마스크로 적용하여 2보다 크고 7보다 작은 항목으로 구성된 1차원 배열을 결과로 얻을 수 있다.  "
   ]
  },
  {
   "cell_type": "code",
   "execution_count": 115,
   "metadata": {},
   "outputs": [],
   "source": [
    "B2 = (B > 2) & (B < 7)"
   ]
  },
  {
   "cell_type": "code",
   "execution_count": 116,
   "metadata": {},
   "outputs": [
    {
     "name": "stdout",
     "output_type": "stream",
     "text": [
      "[3 4 5 6]\n"
     ]
    }
   ],
   "source": [
    "print(B[B2])"
   ]
  },
  {
   "cell_type": "markdown",
   "metadata": {},
   "source": [
    "다음 예시에서는 비트 OR 연산자로 'or' 연산자가 적용된 불리언 배열을 만든다. 결과 불리언 배열을 B의 마스크로 적용하면, 최종 결과로 B의 항목 중에 1과 같거나 6보다 큰 항목들을 선택하게 된다 "
   ]
  },
  {
   "cell_type": "code",
   "execution_count": 118,
   "metadata": {},
   "outputs": [
    {
     "name": "stdout",
     "output_type": "stream",
     "text": [
      "[1 7 8 9]\n"
     ]
    }
   ],
   "source": [
    "print(B[(B == 1) | (B > 6)])"
   ]
  },
  {
   "cell_type": "markdown",
   "metadata": {},
   "source": [
    "### numpy와 에라토스테네스의 체  \n",
    "\n",
    "에라토스테네스의 체 예시로 돌아가서 numpy가 표준 파이썬 리스트를 사용한 코드와 얼마나 다른지 성능 비교 테스트를 해 보자.  \n",
    "\n",
    "알고리즘 목표는 N까지의 모든 소수점을 생산하는 것인데, 여기에서 N은 미리 선택한 숫자다. 다음 알고리즘을 살펴보자. "
   ]
  },
  {
   "cell_type": "markdown",
   "metadata": {},
   "source": [
    "0부터 N까지의 색인을 갖는 1차원 불리언 생성  \n",
    "False로 설정하는 맨 처음 두 항목을 제외한 나머지 모든 항목은 True로 설정  \n",
    "For I running from 2 to N:  \n",
    "    if array[I] is True,  \n",
    "        For J running from I*I to N, by steps of I:  \n",
    "            Set array[J] to False"
   ]
  },
  {
   "cell_type": "markdown",
   "metadata": {},
   "source": [
    "이 의사 코드의 결과는 불리언 배열이다. 2보다 큰 각각의 색인 번호에 해당하는 항목을 True로 설정하고, 해당 색인 번호를 결과에 담는다.  \n",
    "\n",
    "다음 코드는 파이썬 함수로 이 알고리즘을 구현한 구체적인 방법이다.  "
   ]
  },
  {
   "cell_type": "code",
   "execution_count": 119,
   "metadata": {},
   "outputs": [],
   "source": [
    "def sieve(n):\n",
    "    b_list = [True] * (n + 1)\n",
    "    for i in range(2, n + 1):\n",
    "        if b_list[i]:\n",
    "            for j in range(i*i, n+1, i):\n",
    "                b_list[j] = False\n",
    "    primes = [i for i in range(2, n+1) if b_list[i]]\n",
    "    return primes"
   ]
  },
  {
   "cell_type": "markdown",
   "metadata": {},
   "source": [
    "numpy로 조금 더 잘할 수 없을까? 물론이다. 슬라이싱과 불리언 마스킹의 이점을 취하면 성능을 개선할 수 있다. 일반적인 알고리즘 흐름을 유지하면서 2부터 N-1까지 색인으로 구성된 불리언 배열을 사용한다. "
   ]
  },
  {
   "cell_type": "code",
   "execution_count": 120,
   "metadata": {},
   "outputs": [],
   "source": [
    "import numpy as np\n",
    "\n",
    "def np_sieve(n):\n",
    "    B = np.ones(n + 1, dtype=np.bool_)\n",
    "    B[0:2] = False\n",
    "    for i in range(2, n + 1):\n",
    "        if B[i]:\n",
    "            B[i*i: n+1: i] = False\n",
    "    return np.arange(n + 1)[B]"
   ]
  },
  {
   "cell_type": "markdown",
   "metadata": {},
   "source": [
    "그렇다면 어떤 방법이 알고리즘을 더 효율적으로 구현했을까? 함수는 여전히 배열을 순회하고 있으며, 각 항목이 True인지 한 번에 하나씩 비교하고 있다. 이는 불리언 배열에서 해당 항목이 아직 제거되지 않았기 때문에 색인 번호가 소수임을 나타낸다.  \n",
    "\n",
    "하지만 내부 루프는 슬라이스 내의 각 항목을 False로 설정하는 슬라이스 연산으로 대체 되었다. 많은 항목이 있다고 가정해 보면 이 모든 연산을 루프보다 더욱 효율적인 배치 연산으로 처리할 수 있다.  \n",
    "\n",
    "B[i*i: n+1: i] = False  \n",
    "\n",
    "이 코드에서 사용한 또 다른 이점은 불리언 마스크가 최종 결과를 구하고 있다는 것이다. 0부터 n까지의 numpy 배열은 마스크 연산 처리 후 동일 범위 안의 소수 숫자만 지니게 될 것이다.  \n",
    "\n",
    "return np.arange(n + 1)[B]  \n",
    "\n",
    "이제 이 연산의 성능을 알고 싶을 것이다. time 패키지를 사용하면 어떤 방법이 더 빠른지 보여줄 수 있게 설계된 성능 비교 테스트를 수행할 수 있다. 다음 코드는 밀리초 숫자를 보여주는 줄을 추가햇다. 추가된 줄은 굵은 글씨로 표기했다. 속도에만 관심이 있다면 100만까지의 모든 소수를 출력할 필요는 없기 때문에 return 문은 생략했다. "
   ]
  },
  {
   "cell_type": "code",
   "execution_count": 125,
   "metadata": {},
   "outputs": [
    {
     "name": "stdout",
     "output_type": "stream",
     "text": [
      "np_sieve took 0.0390625 milliseconds\n"
     ]
    }
   ],
   "source": [
    "import numpy as np \n",
    "import time \n",
    "\n",
    "def np_sieve(n):\n",
    "    t1 = time.time() * 1000\n",
    "    B = np.ones(n + 1, dtype=np.bool_)\n",
    "    B[0:2] = False\n",
    "    for i in range(2, n + 1):\n",
    "        if B[i]:\n",
    "            B[i*i: n+1: i] = False\n",
    "    P = np.arange(n + 1)[B]\n",
    "    t2 = time.time() * 1000\n",
    "    print('np_sieve took', t2-t1, 'milliseconds')\n",
    "    \n",
    "np_sieve(50)"
   ]
  },
  {
   "cell_type": "markdown",
   "metadata": {},
   "source": [
    "numpy를 사용하지 않은 버전에도 성능 비교 테스트를 위해 유사한 타이밍 코드 줄을 추가할 수 있다.  \n",
    "\n",
    "성능 비교 테스트 결과에서 알 수 있듯이 상대적으로 적은 숫자의 경우 numpy 버전은 다른 버전 보다 오히려 더 많은 시간이 걸리며, 시간이 적게 걸리지 않는다. 하지만 N이 1,000보다 커지는 경우 np_sieve가 앞서기 시작한다. 일단 N이 1만개 이상 커지면 Numpy 버전은 다른 버전 실행 시간의 절반 밖에 안 걸린다. 이것이 우리가 찾던 눈부신 결과는 아닐지 모르지만, 속도가 100% 빨라진 것이다. 나쁘지 않다.  \n",
    "\n",
    "이절의 결과는 공정하다. 더 많은 리스트와 더 많은 리스트 조합을 사용하여 numpy 버전이 아닌 코드, sieve를 구현할 수도 있다. 한편 우리는 코드 향상을 위한 시도가 오히려 그 함수를 더 느리게 만든다는 것을 발견했다. 따라서 N의 크기가 큰 경우에만 numpy 버전이 더 빠르다는 것을 기억하자. "
   ]
  },
  {
   "cell_type": "markdown",
   "metadata": {},
   "source": [
    "### numpy 통계 구하기: 표준편차  \n",
    "\n",
    "numpy가 뛰어난 분야 중 하나는 대용량 데이터 세트에 대한 통계를 얻는 것이다. 표준 파이썬 리스트를 사용하여 직접 작성한 코드로도 이 정보를 얻을 수 있지만, numpy 배열이 몇 배 더 빠르다. 밑의 표에는 numpy 배열에서 제공하는 분석 함수들이 나열되어 있다. 이 기능들은 각각 ndarray 클래스에 해당하는 메서드를 호출하여 작동하므로 함수 버전 또는 메서드 버전을 사용할 수 있다. 이 기능들은 일련의 중요한 인수들을 가지고 있는데, 나중에 다룰 것이다.  \n",
    "\n",
    "* min(A) : 데이터 세트에서 가장 작은 항목, 축 인수가 지정된 경우 각 차원의 가장 작은 항목을 반환하며, 이 표에 나열된 모든 함수에 같은 방식이 적용된다. \n",
    "* max(A) : 가장 큰 항목\n",
    "* mean(A) : 항목의 합을 항목 개수로 나눈 산술 평균값. 각 축에 적용하면, 해당하는 행이나 열을 모두 더한 후 항목 개수를 나누어서 값을 구한다. \n",
    "* median(A) : 그룹 안에서 해당 항목보다 값이 높은 개수와 낮은 개수가 동일한 중앙값 항목 \n",
    "* size(A) : 항목의 개수 \n",
    "* std(A) : 표준 편차, 분산의 전통적인 측정 방식\n",
    "* sum(A) : 데이터 세트의 모든 항목을 더한 값, 혹은 특정 부분 세트의 모든 항목의 합계  \n",
    "\n",
    "먼저 이 함수들을 단순한 1차원 배열에 어떻게 적용하는지 살펴보자. 다음 절에서 살펴보겠지만 다차원 배열에 이 함수들을 적용하기 위한 많은 방법이 있다.  \n",
    "\n",
    "통계 함수의 성능 속도는 놀라울 정도다. 우선 연산 처리를 할 배열을 하나 만들자. numpy의 하위 패키지를 사용하여 무작위 숫자를 생성할 수 있다. numpy.random 함수인 rand를 사용하여 입력으로 받은 배열 구조와 동일한 배열을 생성한다. 각 항목은 0.0과 1.0사이에 위치한 무작위 부동소수점이다.  "
   ]
  },
  {
   "cell_type": "code",
   "execution_count": 127,
   "metadata": {},
   "outputs": [
    {
     "name": "stdout",
     "output_type": "stream",
     "text": [
      "[0.10450314 0.17713102 0.76080033 0.26878467 0.10757027 0.5190683\n",
      " 0.70578937 0.12903649 0.47912192 0.11584248]\n"
     ]
    }
   ],
   "source": [
    "import numpy as np \n",
    "import numpy.random as ran\n",
    "\n",
    "A = ran.rand(10)\n",
    "print(A)"
   ]
  },
  {
   "cell_type": "markdown",
   "metadata": {},
   "source": [
    "A를 출력해보면 무작위 부동소수점 값으로 구성된 배열 A를 확인할 수 있고 numpy 패키지는 훨씬 더 큰 데이터 세트를 제어할 수 있다. "
   ]
  },
  {
   "cell_type": "markdown",
   "metadata": {},
   "source": [
    "이 문장은 무작위 부동소수점 값 10만개의 항목을 지닌 배열을 1초 만에 만든다. 더욱 놀라운 것은 통계 함수가 이 배열을 처리하는 속도다. 다음 IDLE 세션에서는 이 대용량 데이터 집합에 대한 통계를 얼마나 빨리 얻을 수 있는지 알 수 있다."
   ]
  },
  {
   "cell_type": "code",
   "execution_count": 130,
   "metadata": {},
   "outputs": [
    {
     "name": "stdout",
     "output_type": "stream",
     "text": [
      "0.49667575653284457 4966.757565328446 0.49990732431144824 0.2850549705806966\n"
     ]
    }
   ],
   "source": [
    "import numpy as np \n",
    "import numpy.random as ran\n",
    "\n",
    "A = ran.random(10000)\n",
    "print(np.mean(A), np.sum(A), np.median(A), np.std(A))"
   ]
  },
  {
   "cell_type": "markdown",
   "metadata": {},
   "source": [
    "이 코드를 직접 실행해 보면 심지어 표준 편차를 구하는 응답 시간이 찰나라는 것을 경험하게 될 것이다.  \n",
    "\n",
    "이 통계들 대부분 의미가 간단하다. 확률 분포는 0.0에서 1.0까지의 균일한 분포이므로 평균이 0.5에 가까울 것으로 합리적으로 예상할 수 있는데, 이 경우의 평균은 약 0.4966이다. 합계는 정확히 평균의 10만배, 즉 약 49.660배다. 중앙값은 평균과 같지 않지만값의 중심과 거의 비슷할 것으로 예상할 수 있다.  \n",
    "\n",
    "표준 편차는 통계학자들이 이와 같은 균일한 분포를 예측할 수 있는 값이다. 0.29 바로 밑이다. 따라서 값의 약 60%가 평균의 한 표준 편차(더하기 또는 빼기)내에 든다.  \n",
    "\n",
    "numpy를 사용하면 이 계산을 직접 하지 않아도 되지만, 표준 편차가 계산되는 방법과 그 의미가 무엇인지 복습하는 것은 유용하다. A와 A2가 배열을 나타낸다고 가정하고, i는 항목을 가리킨다.  \n",
    "\n",
    "A2 = (i - mean(A)) ^2, for all i in A.  \n",
    "std(A) = sqrt(mean(A2))  \n",
    "\n",
    "이 방정식은 다음과 같이 더 쉬운 말로 풀어 쓸 수 있다.  \n",
    "\n",
    "* 배열 A 안의 항목 간 평균값을 구한다. mean이라고도 부른다. \n",
    "* A 안의 각 항목에 평균값을 뺀 '편차'로 구성된 신규 배열을 생성한다. \n",
    "* 이 편차 배열의 각 항목을 제곱한 배열을 A2로 부른다.  \n",
    "* A2의 모든 항목의 평균을 찾은 후 결과의 제곱근을 구하면 끝이다. 방금 직접 표준편차 배열을 만들었다.  \n",
    "\n",
    "numpy는 표준-편차 기능을 무료로 제공하지만 표준 배치 연산을 통해 산출된 결과를 살펴보는 것도 무척 유용할 것이다 우선 A2를 얻는 것은 충분히 쉬울 것이다. A에서 A의 평균(스칼라)을 빼는 것 자체가 편차로 채워진 배열을 만들어 준다. 그 다음에 모든 값이 제곱이 된다.  \n",
    "\n",
    "A2 = (A - mean(A)) ** 2  \n",
    "\n",
    "이 새로운 배열을 획득하고 나면 편차의 평균인 제곱근을 구하기만 하면 된다.  \n",
    "\n",
    "result = (mean(A2)) ** 0.5  \n",
    "\n",
    "이 공식을 파이썬 코드로 작성하려면 np 지시자를 사용하여 mean 함수를 호출해야 한다  "
   ]
  },
  {
   "cell_type": "code",
   "execution_count": 133,
   "metadata": {},
   "outputs": [
    {
     "name": "stdout",
     "output_type": "stream",
     "text": [
      "0.2850549705806966 0.2850549705806966\n"
     ]
    }
   ],
   "source": [
    "import numpy as np \n",
    "\n",
    "A2 = (A - np.mean(A)) ** 2\n",
    "result = (np.mean(A2)) ** 0.5\n",
    "print(result, np.std(A))"
   ]
  },
  {
   "cell_type": "markdown",
   "metadata": {},
   "source": [
    "결과를 살펴보면 표준 편차를 '어려운 방법'으로 계산하는 것과 np.std로부터 얻는 것, 두 경우 모두 정확히 동일하다. 이는 numpy 루틴이 동일한 알고리즘을 따르고 있다는 좋은 증거다.  \n",
    "\n",
    "훨씬 더 큰 배열을 표준 리스트에 담아서 표준 편차 함수를 호출하는 파이썬 코드를 실행해 보자.  \n",
    "\n",
    "이제 흥미로운 부분이 시작된다. 100만 개의 항목을 가진 리스트와 동일한 데이터를 포함하는 numpy 버전의 배열과 함께 성능 비교 테스트를 해 보면 표준 편차를 직접 가져오는 numpy 버전이 numpy를 사용하지 않은 버전보다 100분의 1 이상 빠르다!  \n",
    "\n",
    "전체 성능 비교 코드는 다음과 같다."
   ]
  },
  {
   "cell_type": "code",
   "execution_count": 135,
   "metadata": {},
   "outputs": [
    {
     "name": "stdout",
     "output_type": "stream",
     "text": [
      "Python took 0.1491708755493164\n",
      "Numpy took 0.001535177230834961\n",
      "np.std took 0.0008158683776855469\n"
     ]
    }
   ],
   "source": [
    "import numpy as np\n",
    "import numpy.random as ran\n",
    "import time\n",
    "\n",
    "def get_std1(ls):\n",
    "    t1 = time.time()\n",
    "    m = sum(ls)/len(ls)\n",
    "    ls2 = [(i - m) ** 2 for i in ls]\n",
    "    sd = (sum(ls2)/len(ls2)) ** .5\n",
    "    t2 = time.time()\n",
    "    print('Python took', t2-t1)\n",
    "    \n",
    "def get_std2(A):\n",
    "    t1 = time.time()\n",
    "    A2 = (A - np.mean(A)) ** 2\n",
    "    result = (np.mean(A2)) ** .5\n",
    "    t2 = time.time()\n",
    "    print('Numpy took', t2-t1)\n",
    "    \n",
    "def get_std3(A):\n",
    "    t1 = time.time()\n",
    "    result = np.std(A)\n",
    "    t2 = time.time()\n",
    "    print('np.std took', t2-t1)\n",
    "\n",
    "A = ran.rand(1000000)\n",
    "get_std1(A)\n",
    "get_std2(A)\n",
    "get_std3(A)"
   ]
  },
  {
   "cell_type": "markdown",
   "metadata": {},
   "source": [
    "파이썬 리스트에서 Numpy 배열로 넘어가면 표준편차를 구하는 numpy 단일 함수로 얻을 수 있는 성능의 이득이 얼마나 큰지 알 수 있다.  \n",
    "\n",
    "np.std(numpy 표준 편차 함수)를 사용한 코드의 실행 속도가 Numpy를 전혀 사용하지 않은 코드보다 훨씬 빠르다. "
   ]
  },
  {
   "cell_type": "markdown",
   "metadata": {},
   "source": [
    "### numpy 행과 열 가져오기  \n",
    "\n",
    "바로 전 에서 다룬 예시는 1차원의 부동소수점 통계를 구하는 가장 단순한 예시였다. 한편 이런 함수들은 다른 인수를 수용한다. 배열 그 자체 이외에 가장 중요한 인수는 1차원보다 더 큰 차원을 표현하는 axis 인수다.  \n",
    "\n",
    "무작위 정수 배열부터 시작하자. 이 배열을 생성하려면 numpy.random 패지키의 randint 메서드를 사용하면 된다. 예시를 살펴보자. "
   ]
  },
  {
   "cell_type": "code",
   "execution_count": 136,
   "metadata": {},
   "outputs": [
    {
     "name": "stdout",
     "output_type": "stream",
     "text": [
      "[[ 1 16 10  9]\n",
      " [18 11 13 12]\n",
      " [ 9 13 12 11]]\n"
     ]
    }
   ],
   "source": [
    "import numpy as np\n",
    "import numpy.random as ran\n",
    "\n",
    "A = ran.randint(1, 20, (3, 4))\n",
    "print(A)"
   ]
  },
  {
   "cell_type": "markdown",
   "metadata": {},
   "source": [
    "numpy.random 패키지는 random 패지키와 같이 자체 randint 함수를 가지고 있다. 그렇기 때문에 네임스페이스 지시자를 사용하는 것이 무척 중요하다. 이 경우 numpy random 패지키를 사용하면 함수는 예상대로 begin 과 end 인수를 사용하지만, 배열의 구조를 명시하는 튜플을 인수로 추가해야 한다.  \n",
    "\n",
    "또 다른 주목할 점은 ran.randint를 사용하면, begin과 end 인수 범위에 begin은 포함되지만 end는 포함되지 않는다는 것이다. 그래서 이 예시는 19까지 숫자를 생성한다.  \n",
    "\n",
    "마지막에 begin과 end 인수 다음에 나오는 shape 인수 (3, 4) 는 3x4 배열에 무작위 정수를 채우게 한다.  \n",
    "\n",
    "앞 절에서 배웟듯이 numpy 통계 함수를 사용하여 이 배열을 하나의 큰 원천 데이터처럼 분석할 수 있다. 예를 들어 np.mean을 배열에 적용하면 항목 12개의 평균을 바로 얻는다. "
   ]
  },
  {
   "cell_type": "code",
   "execution_count": 137,
   "metadata": {},
   "outputs": [
    {
     "data": {
      "text/plain": [
       "11.25"
      ]
     },
     "execution_count": 137,
     "metadata": {},
     "output_type": "execute_result"
    }
   ],
   "source": [
    "np.mean(A)"
   ]
  },
  {
   "cell_type": "markdown",
   "metadata": {},
   "source": [
    "이와 유사하게 데이터 합계를 구하거나 표준 편차를 구할 수도 있다. "
   ]
  },
  {
   "cell_type": "code",
   "execution_count": 141,
   "metadata": {},
   "outputs": [
    {
     "name": "stdout",
     "output_type": "stream",
     "text": [
      "135\n",
      "4.002603319507609\n"
     ]
    }
   ],
   "source": [
    "print(np.sum(A),np.std(A), sep='\\n')"
   ]
  },
  {
   "cell_type": "markdown",
   "metadata": {},
   "source": [
    "흥미로운 부분은 열이나 행의 차원을 의미하는 축과 함께 통계 정보를 수집할 때다. 이런 연산으로 각 행과 열에 대한 합계를 포함하는 스프레드시트와 같이 numpy 배열을 처리할 수 있다. 그러나 축이 혼동되기 쉽다. 밑의 표는 이를 명확하게 이해하는데 도움이 될 것이다.  \n",
    "\n",
    "* axis = 0 : 각 행의 열 데이터를 수집한다. 결과인 1차원 배열의 크기는 열 개수다  \n",
    "* axis = 1 : 각 열의 행 데이터를 수집한다. 결과인 1차원 배열의 크기는 행 개수다  \n",
    "\n",
    "더 많은 차원을 갖는 배열이면 축 설정은 더 클 수 있다. 축 설정은 심지어 튜플로도 가능하다.  \n",
    "\n",
    "비록 처음에는 혼란스러운지 모르지만 '축' 이라는 단어에 접근하는 방법은 이름에서 알 수 있듯이 데카르트 좌표계처럼 생각하는 것이다. A를 다시 한 번 살펴보자.  \n",
    "\n",
    "인수 설정 axis = 0은 행을 의미하는 첫 번재 축을 가리킨다. 따라서 axis = 0을 따라 합하는 것은 전통적인 X 축을 따라 합하는 것이다. 요약하면 함수는 각 열을 차례로 합쳐 가장 낮은 숫자의 열부터 시작해서 오른쪽으로 움직인다.  \n",
    "\n",
    "결과는 다음과 같다.  \n",
    "\n",
    "[15 28 32 18]  \n",
    "\n",
    "인수 설정 axis = 1은 열을 의미하는 두 번째 축을 가리킨다. 따라서 axis = 1을 따라 합계를 구하는 것은 전통적인 Y축을 따라 합하는 것과 같다. 이 경우 합계는 가장 낮은 번호의 행부터 시작하여 아래로 이동한다.  \n",
    "\n",
    "결과는 다음과 같다.  \n",
    "\n",
    "[36 38 19]  \n",
    "\n",
    "X축을 따라 합계가 수행될 때 Numpy 패키지는 다른 차원의 데이터를 수집한다. 그래서 비록 axis = 0은 행을 의미하지만 열의 값들이 더해진다.  \n",
    "\n",
    "또 다른 예시를 하나 살펴보자. 이 예시는 동작 방식을 이해하기 더 쉽다. 열 번호와 같은 숫자를 항목에 넣은 배열에서 시작해 보자.  \n",
    "\n"
   ]
  },
  {
   "cell_type": "code",
   "execution_count": 142,
   "metadata": {},
   "outputs": [
    {
     "name": "stdout",
     "output_type": "stream",
     "text": [
      "[[0 1 2 3 4]\n",
      " [0 1 2 3 4]\n",
      " [0 1 2 3 4]\n",
      " [0 1 2 3 4]]\n"
     ]
    }
   ],
   "source": [
    "B = np.fromfunction(lambda r, c: c, (4, 5), dtype=np.int32)\n",
    "print(B)"
   ]
  },
  {
   "cell_type": "markdown",
   "metadata": {},
   "source": [
    "축 0으로 합을 구하면 매회 4의 배수를 얻는다. 축 1로 합을 구하면 매번 10을 얻는다. "
   ]
  },
  {
   "cell_type": "code",
   "execution_count": 143,
   "metadata": {},
   "outputs": [
    {
     "data": {
      "text/plain": [
       "array([ 0,  4,  8, 12, 16])"
      ]
     },
     "execution_count": 143,
     "metadata": {},
     "output_type": "execute_result"
    }
   ],
   "source": [
    "np.sum(B, axis=0)"
   ]
  },
  {
   "cell_type": "code",
   "execution_count": 144,
   "metadata": {},
   "outputs": [
    {
     "data": {
      "text/plain": [
       "array([10, 10, 10, 10])"
      ]
     },
     "execution_count": 144,
     "metadata": {},
     "output_type": "execute_result"
    }
   ],
   "source": [
    "np.sum(B, axis=1)"
   ]
  },
  {
   "cell_type": "markdown",
   "metadata": {},
   "source": [
    "이는 행을 참조해야 하는 axis=0 이 실제로 행을 제외한 모든 차원의 값을 합하기 때문에 (이 경우 열의 합계) 당연히 혼란스럽다. 그리고 axis=1은 실제로 열을 제외한 모든 차원의 합계(이 경우 행의 합계)를 낸다.  \n",
    "\n",
    "이 데이터를 사용하여 스프레드시트 같은 것을 만들 수 있을까? 예를 들어 모든 행을 합한 후 결과를 배열로 연결하여 추가 열로 사용할 수 있도록 해 보는 것이다.  \n",
    "\n",
    "다시 배열을 하나 만들어서 2열 합계를 구하는 코드를 작성해 보자.  "
   ]
  },
  {
   "cell_type": "code",
   "execution_count": 145,
   "metadata": {},
   "outputs": [],
   "source": [
    "B = np.fromfunction(lambda r, c: c, (4, 5), dtype=np.int32)\n",
    "B_lows = np.sum(B, axis=1)"
   ]
  },
  {
   "cell_type": "markdown",
   "metadata": {},
   "source": [
    "자 1차원 배열 B_rows를 2차원 배열인 B에 붙일 수 있을까? 물론이다. 다음과 같이 c_연산자를 사용하면 된다. "
   ]
  },
  {
   "cell_type": "code",
   "execution_count": 147,
   "metadata": {},
   "outputs": [
    {
     "name": "stdout",
     "output_type": "stream",
     "text": [
      "[[ 0  1  2  3  4 10]\n",
      " [ 0  1  2  3  4 10]\n",
      " [ 0  1  2  3  4 10]\n",
      " [ 0  1  2  3  4 10]]\n"
     ]
    }
   ],
   "source": [
    "B1 = np.c_[B, B_lows]\n",
    "print(B1)"
   ]
  },
  {
   "cell_type": "markdown",
   "metadata": {},
   "source": [
    "배열 B1은 처음에 만든 배열 B와 비슷하지만 B1은 각 행의 합계를 저장한 추가 열을 가지고 있다.  \n",
    "\n",
    "행의 합계를 마지막 열로 보여주는 것은 '스프레드시트' 출력물의 일부다. 코드에 몇 개의 줄을 추가하면 마지막 행에 열의 합계를 보여주는 조금 더 완벽한 스프레드시트를 만들 수 있다.  \n",
    "\n",
    "이를 위해 B1의 모든 열의 합계를 구해야 한다. X축을 따라 이동하면서 axis=0으로 값을 구하면 열의 합계를 포함한 행을 만들 수 있다.  \n",
    "\n"
   ]
  },
  {
   "cell_type": "code",
   "execution_count": 148,
   "metadata": {},
   "outputs": [],
   "source": [
    "B_cols = np.sum(B1, axis=0)"
   ]
  },
  {
   "cell_type": "markdown",
   "metadata": {},
   "source": [
    "다음 문장은 B1의 아래에 이 행을 붙인다. "
   ]
  },
  {
   "cell_type": "code",
   "execution_count": 150,
   "metadata": {},
   "outputs": [
    {
     "name": "stdout",
     "output_type": "stream",
     "text": [
      "[[ 0  1  2  3  4 10]\n",
      " [ 0  1  2  3  4 10]\n",
      " [ 0  1  2  3  4 10]\n",
      " [ 0  1  2  3  4 10]\n",
      " [ 0  4  8 12 16 40]]\n"
     ]
    }
   ],
   "source": [
    "B2 = np.r_[B1, [B_cols]]\n",
    "print(B2)"
   ]
  },
  {
   "cell_type": "markdown",
   "metadata": {},
   "source": [
    "이제 우리는 일반 배열의 아래와 오른쪽에 모든 열과 행의 합계를 추가한 스프레드시트 형태로 배열을 출력하는 방법을 알게 되었다.  \n",
    "\n",
    "이 방법을 구현한 코드는 다른 2차원 배열 대상으로도 동일하게 동작하기 위해 함수 안에 넣을 수 있다. "
   ]
  },
  {
   "cell_type": "code",
   "execution_count": 155,
   "metadata": {},
   "outputs": [],
   "source": [
    "def spreadsheet(A):\n",
    "    AC = np.sum(A, axis = 1)\n",
    "    A2 = np.c_[A, AC]\n",
    "    AR = np.sum(A2, axis = 0)\n",
    "    return np.r_[A2, [AR] ]"
   ]
  },
  {
   "cell_type": "markdown",
   "metadata": {},
   "source": [
    "예시로 다음과 같은 배열이 있다고 가정해 보자. "
   ]
  },
  {
   "cell_type": "code",
   "execution_count": 153,
   "metadata": {},
   "outputs": [
    {
     "name": "stdout",
     "output_type": "stream",
     "text": [
      "[[ 0  1  2  3  4]\n",
      " [ 5  6  7  8  9]\n",
      " [10 11 12 13 14]]\n"
     ]
    }
   ],
   "source": [
    "arr = np.arange(15).reshape(3, 5)\n",
    "print(arr)"
   ]
  },
  {
   "cell_type": "markdown",
   "metadata": {},
   "source": [
    "spreadsheet 함수를 사용하여 출력한 결과는 다음과 같다. "
   ]
  },
  {
   "cell_type": "code",
   "execution_count": 156,
   "metadata": {},
   "outputs": [
    {
     "name": "stdout",
     "output_type": "stream",
     "text": [
      "[[  0   1   2   3   4  10]\n",
      " [  5   6   7   8   9  35]\n",
      " [ 10  11  12  13  14  60]\n",
      " [ 15  18  21  24  27 105]]\n"
     ]
    }
   ],
   "source": [
    "print(spreadsheet(arr))"
   ]
  },
  {
   "cell_type": "markdown",
   "metadata": {},
   "source": [
    "spreadsheet 함수는 평균값, 중간 값, 표준편차 등과 같은 연산을 포함하여 통계요약을 출력하게 수정할 수도 있을것이다. "
   ]
  },
  {
   "cell_type": "markdown",
   "metadata": {},
   "source": [
    "### 넘파이 고급 사용법  \n",
    "##### numpy의 고급 수학 연산  \n",
    "\n",
    "* numpy.cos(A) : 배열 A 각 항목의 코사인 값을 반환한다. 이 함수의 입력 값은 각도가 아닌 라디안이라고 가정한다\n",
    "* numpy.sin(A) : 배열 A 각 항목의 사인 값을 반환한다.\n",
    "* numpy.tan(A) : 배열 A 각 항목의 탄젠트 값을 반환\n",
    "* numpy.exp(A) : e를 배열 A의 각 항목만큼 제곱한 값을 항목으로 하는 배열을 반환한다\n",
    "* numpy.power(X, Y) : X 각 항목의 Y 제곱을 구한다. 두 배열은 모두 같은 구조이거나. 둘중 하나 혹은 둘 다 스칼라 값이어야 한다. \n",
    "* numpy.radians(A | x) : 각도를 라디안으로 변환한다. 인수는 같은 구조의 배열이거나 스칼라 값이다. \n",
    "* numpy.abs(A) : 배열 A 각 항목의 절댓값을 구한다. \n",
    "* numpy.log(A) : 배열 A 각 항목의 자연 로그를 구한다. \n",
    "* numpy.log10(A) : 배열 A 각 항목의 10진 로그를 구한다. \n",
    "* numpy.log2(A) : 배열 A 각 항목의 2진 로그를 구한다. \n",
    "* numpy.sqrt(A) : 배열 A 항목의 제곱근을 구한다.\n",
    "* numpy.arccos(A) : 역 코사인 함수\n",
    "* numpy.arcsin(A) : 역 사인 함수\n",
    "* numpy.arctan(A) : 역 탄젠트 함수 \n",
    "* numpy.hcos(A) : 쌍곡선 코사인\n",
    "* numpy.hsin(A) : 쌍곡선 사인\n",
    "* numpy.htan(A) : 쌍곡선 탄젠트\n",
    "* numpy.append(A, B) : 배열 A 끝에 배열 B를 추가한 신규 배열을 생성한다. \n",
    "* numpy.pi : pi 값을 반환한다\n",
    "* numpy.e : e 값을 반환한다.  "
   ]
  },
  {
   "cell_type": "markdown",
   "metadata": {},
   "source": [
    "이 함수들은 추가 인수를 갖는다. 일반적으로 out 인수가 추가되며, 결과를 저장할 출력 배열의 이름이다. 이 결과 배열은 입력 배열의 크기와 구조가 반드시 일치해야 한다.  "
   ]
  },
  {
   "cell_type": "code",
   "execution_count": 157,
   "metadata": {},
   "outputs": [
    {
     "data": {
      "text/plain": [
       "array([0.00000000e+00, 3.42020143e-01, 6.42787610e-01, 8.66025404e-01,\n",
       "       9.84807753e-01, 9.84807753e-01, 8.66025404e-01, 6.42787610e-01,\n",
       "       3.42020143e-01, 1.22464680e-16])"
      ]
     },
     "execution_count": 157,
     "metadata": {},
     "output_type": "execute_result"
    }
   ],
   "source": [
    "import numpy as np\n",
    "\n",
    "A = np.linspace(0, np.pi, 10)\n",
    "B = np.empty(10) \n",
    "np.sin(A, out=B)"
   ]
  },
  {
   "cell_type": "markdown",
   "metadata": {},
   "source": [
    "이 코드에서는 마지막 줄에서 결과를 B에 넣는다. 다음 코드도 같은 동작을 하지만 호출할 때마다 신규 배열을 생성한다. 이와 같이 어떤 경우에는 기존 배열에 결과를 저장하는 것이 더욱 효율적일 수 있다는 점을 기억하자."
   ]
  },
  {
   "cell_type": "code",
   "execution_count": 158,
   "metadata": {},
   "outputs": [],
   "source": [
    "import numpy as np\n",
    "\n",
    "A = np.linspace(0, np.pi, 10)\n",
    "B = np.sin(A)"
   ]
  },
  {
   "cell_type": "markdown",
   "metadata": {},
   "source": [
    "각 함수에서 호출이 가능한 모든 인수를 확인하려면 np.info 명령어를 사용하면 된다.  \n",
    "\n",
    "numpy.info(numpy.function_name)  \n",
    "\n",
    "예를 들어 다음 명령을 IDLE에서 실행하면 특정 numpy 함수에서 제공하는 정보를 확인할 수 있다. "
   ]
  },
  {
   "cell_type": "code",
   "execution_count": 160,
   "metadata": {},
   "outputs": [
    {
     "name": "stdout",
     "output_type": "stream",
     "text": [
      "sin(x, /, out=None, *, where=True, casting='same_kind', order='K', dtype=None, subok=True[, signature, extobj])\n",
      "\n",
      "Trigonometric sine, element-wise.\n",
      "\n",
      "Parameters\n",
      "----------\n",
      "x : array_like\n",
      "    Angle, in radians (:math:`2 \\pi` rad equals 360 degrees).\n",
      "out : ndarray, None, or tuple of ndarray and None, optional\n",
      "    A location into which the result is stored. If provided, it must have\n",
      "    a shape that the inputs broadcast to. If not provided or None,\n",
      "    a freshly-allocated array is returned. A tuple (possible only as a\n",
      "    keyword argument) must have length equal to the number of outputs.\n",
      "where : array_like, optional\n",
      "    This condition is broadcast over the input. At locations where the\n",
      "    condition is True, the `out` array will be set to the ufunc result.\n",
      "    Elsewhere, the `out` array will retain its original value.\n",
      "    Note that if an uninitialized `out` array is created via the default\n",
      "    ``out=None``, locations within it where the condition is False will\n",
      "    remain uninitialized.\n",
      "**kwargs\n",
      "    For other keyword-only arguments, see the\n",
      "    :ref:`ufunc docs <ufuncs.kwargs>`.\n",
      "\n",
      "Returns\n",
      "-------\n",
      "y : array_like\n",
      "    The sine of each element of x.\n",
      "    This is a scalar if `x` is a scalar.\n",
      "\n",
      "See Also\n",
      "--------\n",
      "arcsin, sinh, cos\n",
      "\n",
      "Notes\n",
      "-----\n",
      "The sine is one of the fundamental functions of trigonometry (the\n",
      "mathematical study of triangles).  Consider a circle of radius 1\n",
      "centered on the origin.  A ray comes in from the :math:`+x` axis, makes\n",
      "an angle at the origin (measured counter-clockwise from that axis), and\n",
      "departs from the origin.  The :math:`y` coordinate of the outgoing\n",
      "ray's intersection with the unit circle is the sine of that angle.  It\n",
      "ranges from -1 for :math:`x=3\\pi / 2` to +1 for :math:`\\pi / 2.`  The\n",
      "function has zeroes where the angle is a multiple of :math:`\\pi`.\n",
      "Sines of angles between :math:`\\pi` and :math:`2\\pi` are negative.\n",
      "The numerous properties of the sine and related functions are included\n",
      "in any standard trigonometry text.\n",
      "\n",
      "Examples\n",
      "--------\n",
      "Print sine of one angle:\n",
      "\n",
      ">>> np.sin(np.pi/2.)\n",
      "1.0\n",
      "\n",
      "Print sines of an array of angles given in degrees:\n",
      "\n",
      ">>> np.sin(np.array((0., 30., 45., 60., 90.)) * np.pi / 180. )\n",
      "array([ 0.        ,  0.5       ,  0.70710678,  0.8660254 ,  1.        ])\n",
      "\n",
      "Plot the sine function:\n",
      "\n",
      ">>> import matplotlib.pylab as plt\n",
      ">>> x = np.linspace(-np.pi, np.pi, 201)\n",
      ">>> plt.plot(x, np.sin(x))\n",
      ">>> plt.xlabel('Angle [rad]')\n",
      ">>> plt.ylabel('sin(x)')\n",
      ">>> plt.axis('tight')\n",
      ">>> plt.show()\n",
      "power(x1, x2, /, out=None, *, where=True, casting='same_kind', order='K', dtype=None, subok=True[, signature, extobj])\n",
      "\n",
      "First array elements raised to powers from second array, element-wise.\n",
      "\n",
      "Raise each base in `x1` to the positionally-corresponding power in\n",
      "`x2`.  `x1` and `x2` must be broadcastable to the same shape.\n",
      "\n",
      "An integer type raised to a negative integer power will raise a\n",
      "``ValueError``.\n",
      "\n",
      "Negative values raised to a non-integral value will return ``nan``.\n",
      "To get complex results, cast the input to complex, or specify the\n",
      "``dtype`` to be ``complex`` (see the example below).\n",
      "\n",
      "Parameters\n",
      "----------\n",
      "x1 : array_like\n",
      "    The bases.\n",
      "x2 : array_like\n",
      "    The exponents.\n",
      "    If ``x1.shape != x2.shape``, they must be broadcastable to a common\n",
      "    shape (which becomes the shape of the output).\n",
      "out : ndarray, None, or tuple of ndarray and None, optional\n",
      "    A location into which the result is stored. If provided, it must have\n",
      "    a shape that the inputs broadcast to. If not provided or None,\n",
      "    a freshly-allocated array is returned. A tuple (possible only as a\n",
      "    keyword argument) must have length equal to the number of outputs.\n",
      "where : array_like, optional\n",
      "    This condition is broadcast over the input. At locations where the\n",
      "    condition is True, the `out` array will be set to the ufunc result.\n",
      "    Elsewhere, the `out` array will retain its original value.\n",
      "    Note that if an uninitialized `out` array is created via the default\n",
      "    ``out=None``, locations within it where the condition is False will\n",
      "    remain uninitialized.\n",
      "**kwargs\n",
      "    For other keyword-only arguments, see the\n",
      "    :ref:`ufunc docs <ufuncs.kwargs>`.\n",
      "\n",
      "Returns\n",
      "-------\n",
      "y : ndarray\n",
      "    The bases in `x1` raised to the exponents in `x2`.\n",
      "    This is a scalar if both `x1` and `x2` are scalars.\n",
      "\n",
      "See Also\n",
      "--------\n",
      "float_power : power function that promotes integers to float\n",
      "\n",
      "Examples\n",
      "--------\n",
      "Cube each element in an array.\n",
      "\n",
      ">>> x1 = np.arange(6)\n",
      ">>> x1\n",
      "[0, 1, 2, 3, 4, 5]\n",
      ">>> np.power(x1, 3)\n",
      "array([  0,   1,   8,  27,  64, 125])\n",
      "\n",
      "Raise the bases to different exponents.\n",
      "\n",
      ">>> x2 = [1.0, 2.0, 3.0, 3.0, 2.0, 1.0]\n",
      ">>> np.power(x1, x2)\n",
      "array([  0.,   1.,   8.,  27.,  16.,   5.])\n",
      "\n",
      "The effect of broadcasting.\n",
      "\n",
      ">>> x2 = np.array([[1, 2, 3, 3, 2, 1], [1, 2, 3, 3, 2, 1]])\n",
      ">>> x2\n",
      "array([[1, 2, 3, 3, 2, 1],\n",
      "       [1, 2, 3, 3, 2, 1]])\n",
      ">>> np.power(x1, x2)\n",
      "array([[ 0,  1,  8, 27, 16,  5],\n",
      "       [ 0,  1,  8, 27, 16,  5]])\n",
      "\n",
      "The ``**`` operator can be used as a shorthand for ``np.power`` on\n",
      "ndarrays.\n",
      "\n",
      ">>> x2 = np.array([1, 2, 3, 3, 2, 1])\n",
      ">>> x1 = np.arange(6)\n",
      ">>> x1 ** x2\n",
      "array([ 0,  1,  8, 27, 16,  5])\n",
      "\n",
      "Negative values raised to a non-integral value will result in ``nan``\n",
      "(and a warning will be generated).\n",
      "\n",
      ">>> x3 = np.array([-1.0, -4.0])\n",
      ">>> with np.errstate(invalid='ignore'):\n",
      "...     p = np.power(x3, 1.5)\n",
      "...\n",
      ">>> p\n",
      "array([nan, nan])\n",
      "\n",
      "To get complex results, give the argument ``dtype=complex``.\n",
      "\n",
      ">>> np.power(x3, 1.5, dtype=complex)\n",
      "array([-1.83697020e-16-1.j, -1.46957616e-15-8.j])\n"
     ]
    }
   ],
   "source": [
    "import numpy as np\n",
    "\n",
    "np.info(np.sin)\n",
    "np.info(np.power)"
   ]
  },
  {
   "cell_type": "markdown",
   "metadata": {},
   "source": [
    "이곳에 나열한 함수 대부분은 단일 Numpy 배열에 동작하게 설계되었다. 몇몇 함수는 예외다. \n",
    "numpy power 함수는 최소한 2개의 인수,x와y 를 갖는다. 둘 중에 하나 혹은 모두 배열이 될 수 있다. 하지만 둘 다 배열인 경우에는 구조가 같아야 한다. 이 함수는 각 X값을 같은 항목 위치에 있는 Y값으로 곱한 배열을 반환한다.  \n",
    "\n",
    "가령 다음 코드는 배열 A 각 항목에 제곱을 수행한 결과를 보여준다"
   ]
  },
  {
   "cell_type": "code",
   "execution_count": 162,
   "metadata": {},
   "outputs": [
    {
     "name": "stdout",
     "output_type": "stream",
     "text": [
      "[0 1 2 3 4 5]\n",
      "[ 0  1  4  9 16 25]\n"
     ]
    }
   ],
   "source": [
    "import numpy as np\n",
    "\n",
    "A = np.arange(6)\n",
    "print(A)\n",
    "print(np.power(A, 2))"
   ]
  },
  {
   "cell_type": "markdown",
   "metadata": {},
   "source": [
    "종종 numpy linsapce 함수는 다른 함수들과 함께 사용되는데, 주로 그래프를 그리는 데 사용된다.  \n",
    "\n",
    "예를 들어 다음 코드는 sin 함수 및 상수 pi를 linspace 함수와 결합했다. 0에서 pi로 증가했다 다시 0으로 감소하는 값을 사인 함수에 인수로 전달하여 나열된 값 10개를 구한다."
   ]
  },
  {
   "cell_type": "code",
   "execution_count": 164,
   "metadata": {},
   "outputs": [
    {
     "name": "stdout",
     "output_type": "stream",
     "text": [
      "[0.000e+00 3.420e-01 6.431e-01 8.657e-01 9.849e-01 9.849e-01 8.662e-01\n",
      " 6.431e-01 3.416e-01 9.675e-04]\n"
     ]
    }
   ],
   "source": [
    "import numpy as np\n",
    "\n",
    "A = np.linspace(0, np.pi, 10)\n",
    "B = np.sin(A, dtype='float16')\n",
    "print(B)"
   ]
  },
  {
   "cell_type": "markdown",
   "metadata": {},
   "source": [
    "이 예시는 데이터 타입을 float16으로 선택하여 숫자를 더 쉽게 출력한다. 하지만 포매팅 기법을 사용하는 것이 더 좋다."
   ]
  },
  {
   "cell_type": "code",
   "execution_count": 165,
   "metadata": {},
   "outputs": [
    {
     "name": "stdout",
     "output_type": "stream",
     "text": [
      "0.000 0.342 0.643 0.866 0.985 0.985 0.866 0.643 0.342 0.000\n"
     ]
    }
   ],
   "source": [
    "B = np.sin(A)\n",
    "print(' '.join(format(x, '5.3f') for x in B))"
   ]
  },
  {
   "cell_type": "markdown",
   "metadata": {},
   "source": [
    "### numpy와 matplotlib으로 그래프 선 그리기"
   ]
  },
  {
   "cell_type": "markdown",
   "metadata": {},
   "source": [
    "plt.plot과 plt.show 함수는 그래프를 그리는 핵심 함수다. 여기에서는 문법만 간단하게 살펴보자  \n",
    "\n",
    "plt.plot( [X,] Y [,포맷_문자] )  \n",
    "plt.show()  \n",
    "\n",
    "이 문법에서 대괄호 기호는 선택 항목이며, 반드시 넣을 필요는 없다.  \n",
    "\n",
    "일반적으로 단순히 plot를 호출할 때 2개의 1차원 배열인 X와 Y를 인수로 넣는다. X를 생략하면 배열 [0, 1, 2, ..., N-1] 이라고 가정한다. 여기에서 N은 Y의 길이다. 하지만 대개 X와 Y 인수를 함께 넣을 것이다.  \n",
    "\n",
    "이렇게 하면 길이가 같은 X와 Y에서 점들의 쌍을 구하여 그래프에 표시한다. X의 각 값은 Y의 해당 값과 대응하여 (x,y) 점을 얻는다. 그러고 나면 모든 점이 위치를 잡고 연결된다.  \n",
    "\n",
    "다음은 np.linspace와 np.sin 함수를 사용한 간단한 예시다. "
   ]
  },
  {
   "cell_type": "code",
   "execution_count": 166,
   "metadata": {},
   "outputs": [
    {
     "data": {
      "image/png": "[encoded data removed]",
      "text/plain": [
       "<Figure size 640x480 with 1 Axes>"
      ]
     },
     "metadata": {},
     "output_type": "display_data"
    }
   ],
   "source": [
    "import numpy as np\n",
    "import matplotlib.pyplot as plt\n",
    "\n",
    "A = np.linspace(0, 2 * np.pi)\n",
    "plt.plot(A, np.sin(A))\n",
    "plt.show()"
   ]
  },
  {
   "cell_type": "markdown",
   "metadata": {},
   "source": [
    "첫 번째로 numpy linspace 함수를 호출한다 이 함수는 2개의 특정 점을 쌍으로 한 값을 생성하여 균일한 간격으로 총 N개의 값을 생성한다. N의 기본값은 50이다.  \n",
    "\n",
    "A = np.linspace(0, 2 * np.pi)  \n",
    "\n",
    "그러고 나면 배열 A에는 0부터 2 * pi까지 두 값 사이에 균일한 간격으로 48개의 다른 부동소수점들이 채워진다.  \n",
    "\n",
    "이제 값이 채워진 2개의 배열을 plot 함수에 넣어서 호출한다. A는 X축에 위치하는 값 50개를 지니고 있으며, 두 번째 배열은 A 각 항목의 사인 값을 지니고 있다.  \n",
    "\n",
    "plt.plot(A, np.sin(A))  \n",
    "\n",
    "이 함수는 A의 각 항목을 순회하면서 두 번째 배열에 같은 위치의 값을 선택하여 50개의 (x, y) 쌍을 만든다. 최종적으로 show 함수가 결과를 화면에 그래프로 표현한다. 추가로 np.sin을 np.cos로 바꾸면 쉽게 코사인 함수 그래프를 그릴 수도 있다. \n",
    "\n"
   ]
  },
  {
   "cell_type": "code",
   "execution_count": 167,
   "metadata": {},
   "outputs": [
    {
     "data": {
      "image/png": "[encoded data removed]",
      "text/plain": [
       "<Figure size 640x480 with 1 Axes>"
      ]
     },
     "metadata": {},
     "output_type": "display_data"
    }
   ],
   "source": [
    "import numpy as np\n",
    "import matplotlib.pylab as plt\n",
    "\n",
    "A = np.linspace(0, 2 * np.pi)\n",
    "plt.plot(A, np.cos(A))\n",
    "plt.show()"
   ]
  },
  {
   "cell_type": "markdown",
   "metadata": {},
   "source": [
    "이 버전은 A에 대한 각 값의 코사인 값으로 (x, y)쌍을 생성한다  \n",
    "\n",
    "삼각함수 외에도 다양한 그래프를 그릴 수 있다. numpy 배열의 유연성은 단순하고 범용적인 matplotlib을 이용하여 다양한 플로팅을 할 수 있게 한다  \n",
    "\n",
    "예를 들어 역수 함수 그래프(즉, 1/N)를 표시하려면 어떻게 해야 할까? 5의 역수는 1/5이며, 1/5의 역수는 5이다  \n",
    "\n",
    "X 값 범위를 생성하는 것부터 시작해 보자. 이 경우에는 np.linspace 함수가 매우 유용하다. np.linspace 함수로 원하는 도메인으로부터 값을 만든다. 종종 이렇게 생성된 값들은 X축을 따라 단조롭게 증가하기도 한다.  \n",
    "\n",
    "1/N은 0으로 나눌 수 없기 때문에 0으로 시작할 수 없다. 대신 0.1 값부터 시작하여 10까지 넣어 보자. 기본적으로 값이 50개 생성될 것이다. "
   ]
  },
  {
   "cell_type": "code",
   "execution_count": 168,
   "metadata": {},
   "outputs": [],
   "source": [
    "A = np.linspace(0.1, 50)"
   ]
  },
  {
   "cell_type": "markdown",
   "metadata": {},
   "source": [
    "이제 A와 1/A을 사용하여 (x,y) 쌍에 넣을 값을 생성할 것이며, 결과를 쉽게 플로팅하고 표시할 수 있게 되었다. A의 각 값은 해당 값의 역수와 일치한다."
   ]
  },
  {
   "cell_type": "code",
   "execution_count": 169,
   "metadata": {},
   "outputs": [
    {
     "data": {
      "image/png": "[encoded data removed]",
      "text/plain": [
       "<Figure size 640x480 with 1 Axes>"
      ]
     },
     "metadata": {},
     "output_type": "display_data"
    }
   ],
   "source": [
    "plt.plot(A, 1/A)\n",
    "plt.show()"
   ]
  },
  {
   "cell_type": "markdown",
   "metadata": {},
   "source": [
    "이 함수는 A와 1/A의 값을 조합한 점들을 생성한다. 예를 들어 첫 번째 (x, y) 쌍은 다음과 같다.  \n",
    "\n",
    "(0.1, 10.0)  \n",
    "\n",
    "두번째 점은 A의 다음값과 해당 값의 역수로 구성된 집합이다. 여기에 플로팅할 수 있는 몇개의 점들이 있다.  \n",
    "\n",
    "(0.1, 10.0), (0.2, 5.0), (0.3, 3.3),...  \n",
    "\n",
    "이해하기 쉬운 예시를 하나 살펴보자. 몇 개의 점을 그려서 연결시키는 것이다. 다음과 같은 다섯 가지 값을 준비하자.  \n",
    "\n",
    "(0, 1)  \n",
    "(1, 2)  \n",
    "(2, 4)  \n",
    "(3, 5)  \n",
    "(4, 3)  \n",
    "\n",
    "이 그래프를 위한 점들은 다음 문장으로 생성할 수 있다.  \n",
    "\n",
    "plt.plot([0, 1, 2, 3, 4], [1, 2, 4, 5, 3])  \n",
    "\n",
    "X 인수가 생략되면 기본값은 [0, 1, 2, ..., N-1] 이 된다. (N은 Y 배열 길이). 다음 코드와 같이 말이다.  \n",
    "\n",
    "plt.plot([1, 2, 4, 5, 3])  \n",
    "\n",
    "두 경우 모두 Show 함수를 호출하면 다음과 같다. "
   ]
  },
  {
   "cell_type": "code",
   "execution_count": 170,
   "metadata": {},
   "outputs": [
    {
     "data": {
      "image/png": "[encoded data removed]",
      "text/plain": [
       "<Figure size 640x480 with 1 Axes>"
      ]
     },
     "metadata": {},
     "output_type": "display_data"
    }
   ],
   "source": [
    "plt.plot([1, 2, 4, 5, 3])\n",
    "plt.show()"
   ]
  },
  {
   "cell_type": "markdown",
   "metadata": {},
   "source": [
    "반드시 오름차순 값을 사용할 필요는 없다는 점을 기억하자. 임의의 점을 사용하여 임의의 선을 작성할 수도 있다. 예를 들면 다음과 같다.  \n",
    "\n",
    "plt.plot([3, 4, 1, 5, 2, 3], [4, 1, 3, 3, 1, 4])  \n",
    "\n",
    "점들은 다음과 같이 될 것이다.  \n",
    "\n",
    "(3, 4), (4, 1), (1, 3), (5, 3), (2, 1), (3, 4)  \n",
    "\n",
    "이 점들은 다음과 같이 별 모양을 그린다. 모든 점을 표시한 후 점과 점 사이에 선을 그린다."
   ]
  },
  {
   "cell_type": "code",
   "execution_count": 171,
   "metadata": {},
   "outputs": [
    {
     "data": {
      "image/png": "[encoded data removed]",
      "text/plain": [
       "<Figure size 640x480 with 1 Axes>"
      ]
     },
     "metadata": {},
     "output_type": "display_data"
    }
   ],
   "source": [
    "plt.plot([3, 4, 1, 5, 2, 3], [4, 1, 3, 3, 1, 4])\n",
    "plt.show()"
   ]
  },
  {
   "cell_type": "markdown",
   "metadata": {},
   "source": [
    "이 절의 마지막 예제는 수식을 원하는 만큼 복잡하게 만들어서 그래프로 표시할 수 있다는 것을 보여준다. 이것이 바로 numpy 배열의 아름다움이다. 복잡한 다항식을 그래프로 표시하는 것은 간단하다. 예를 들면 다음과 같다. 이 코드의 실행 결과는 밑의 그림과 같이 다항식을 그래프로 표시한다."
   ]
  },
  {
   "cell_type": "code",
   "execution_count": 172,
   "metadata": {},
   "outputs": [
    {
     "data": {
      "image/png": "[encoded data removed]",
      "text/plain": [
       "<Figure size 640x480 with 1 Axes>"
      ]
     },
     "metadata": {},
     "output_type": "display_data"
    }
   ],
   "source": [
    "import numpy as np\n",
    "import matplotlib.pyplot as plt\n",
    "\n",
    "A = np.linspace(-15, 20)\n",
    "plt.plot(A, A ** 3 - (15 * A ** 2) + 25) \n",
    "plt.show()"
   ]
  },
  {
   "cell_type": "markdown",
   "metadata": {},
   "source": [
    "### 여러 선 그래프 그리기  \n",
    "\n",
    "사인 함수와 코사인 함수를 서로 비교하기 위해 두 그래프를 모두 포함하는 조금 더 복잡한 그래프를 그리려면 어떻게 해야 할까? plot 함수를 두 번 호출하면 가능하다. 예시를 살펴보자."
   ]
  },
  {
   "cell_type": "code",
   "execution_count": 173,
   "metadata": {},
   "outputs": [
    {
     "data": {
      "image/png": "[encoded data removed]",
      "text/plain": [
       "<Figure size 640x480 with 1 Axes>"
      ]
     },
     "metadata": {},
     "output_type": "display_data"
    }
   ],
   "source": [
    "import numpy as np\n",
    "import matplotlib.pyplot as plt\n",
    "\n",
    "A = np.linspace(0, 2 * np.pi)\n",
    "plt.plot(A, np.sin(A))\n",
    "plt.plot(A, np.cos(A))\n",
    "plt.show()"
   ]
  },
  {
   "cell_type": "markdown",
   "metadata": {},
   "source": [
    "다른 방법으로 2개의 plot 문을 인수가 4개인 하나의 문장으로 합칠 수도 있다. "
   ]
  },
  {
   "cell_type": "code",
   "execution_count": 174,
   "metadata": {},
   "outputs": [
    {
     "data": {
      "image/png": "[encoded data removed]",
      "text/plain": [
       "<Figure size 640x480 with 1 Axes>"
      ]
     },
     "metadata": {},
     "output_type": "display_data"
    }
   ],
   "source": [
    "plt.plot(A, np.sin(A), A, np.cos(A))\n",
    "plt.show()"
   ]
  },
  {
   "cell_type": "markdown",
   "metadata": {},
   "source": [
    "matplotlib 패키지는 자동으로 2개의 다른 색인 주황색과 파란색의 그래프 곡선을 그린다. 컴퓨터 스크린으로 볼 때는 보기 좋지만, 흑백 출력물로는 두 그래프를 구분하기 어려울 것이다. 다행히 그래프를 그리는 소프트웨어는 다음과 같이 다양한 곡선을 그릴 수 있는 인수를 제공한다. 조금 더 복잡한 plot 함수를 살펴보자.  \n",
    "\n",
    "plt.plot( X1, Y1, [fmt1,] X2, Y2, [fmt2,] ...)  \n",
    "\n",
    "문법을 살펴보면 X,Y 쌍의 배열의 개수에는 제약이 없다. 각 쌍으로부터 (x, y)의 각 항목과 같은 순서로 X, Y를 인수로 넣는다. 그런 다음 선택적으로 포맷 인수를 추가할 수 있다.  \n",
    "\n",
    "fmt 인수는 그래프의 색과 스타일을 정하여 구분하는 데 유용하다. 가령 다음 plot 문은 코사인 함수를 작은 원으로 구성된 그래프로 그려준다. "
   ]
  },
  {
   "cell_type": "code",
   "execution_count": 175,
   "metadata": {},
   "outputs": [
    {
     "data": {
      "image/png": "[encoded data removed]",
      "text/plain": [
       "<Figure size 640x480 with 1 Axes>"
      ]
     },
     "metadata": {},
     "output_type": "display_data"
    }
   ],
   "source": [
    "plt.plot(A, np.sin(A), A, np.cos(A), 'o')\n",
    "plt.show()"
   ]
  },
  {
   "cell_type": "markdown",
   "metadata": {},
   "source": [
    "사인 커브는 포맷 지시자가 없기 때문에 기본 설정으로 출력되며 기본적으로 두 그래프는 서로 다른 색으로 출력된다.  \n",
    "\n",
    "이 포매팅은 극적인 대비를 만들어 낸다. 여깅 사인 곡선의 스타일을 지정하면 훨씬 더 뚜렷한 대비를 만들 수 있다. ^ 형식 기호는 곡선이 작은 삼각형으로 구성되는 것을 지정한다.  \n",
    "\n",
    "하는 김에 또 다른 플로팅 함수인 title을 살펴보자. 이 간단한 함수는 show 함수를 호출하기 전에 그래프 제목을 지정하는 데 사용한다. xlabel과 ylabel 함수는 각 축의 구체적인 라벨을 지정한다. "
   ]
  },
  {
   "cell_type": "code",
   "execution_count": 176,
   "metadata": {},
   "outputs": [
    {
     "data": {
      "image/png": "[encoded data removed]",
      "text/plain": [
       "<Figure size 640x480 with 1 Axes>"
      ]
     },
     "metadata": {},
     "output_type": "display_data"
    }
   ],
   "source": [
    "plt.plot(A, np.sin(A), '^', A, np.cos(A), 'o')\n",
    "plt.title('Sine and Cosine')\n",
    "plt.xlabel('X Axis')\n",
    "plt.ylabel('Y Axis')\n",
    "plt.show()"
   ]
  },
  {
   "cell_type": "markdown",
   "metadata": {},
   "source": [
    "plt.plot 함수를 사용하면 모든 포매팅 문자를 확인할 수 있다. 이 문자들은 'og'와 같이 조합할 수 있으며, \"작은 초록색 원을 사용하여 그래프를 그려라\"라는 의미다. \n",
    "\n",
    "문자들은 색을 지정하는 데 사용된다.  \n",
    "\n",
    "* b : 파란색\n",
    "* g : 초록색\n",
    "* r : 빨간색\n",
    "* c : 청록색\n",
    "* m : 자홍색\n",
    "* y : 노란색\n",
    "* k : 검은색\n",
    "* w : 흰색  \n",
    "\n",
    "플로팅 포맷 문자열의 모양 문자  \n",
    "\n",
    "* . : 점\n",
    "* , : 픽셀\n",
    "* o : 원\n",
    "* v : 아래를 가리키는 삼각형\n",
    "* ^ : 위를 가리키는 삼각형\n",
    "* < : 왼쪽을 가리키는 삼각형\n",
    "* \\> : 오른쪽을 가리키는 삼각형\n",
    "* s : 네모\n",
    "* p : 오각형\n",
    "* (별모양) : 별표 \n",
    "* h, H : 육각형\n",
    "* (더하기 기호) : 더하기 기호\n",
    "* d, D : 마름모"
   ]
  },
  {
   "cell_type": "markdown",
   "metadata": {},
   "source": [
    "### 복리 그래프 그리기 "
   ]
  }
 ],
 "metadata": {
  "kernelspec": {
   "display_name": "tabnet",
   "language": "python",
   "name": "python3"
  },
  "language_info": {
   "codemirror_mode": {
    "name": "ipython",
    "version": 3
   },
   "file_extension": ".py",
   "mimetype": "text/x-python",
   "name": "python",
   "nbconvert_exporter": "python",
   "pygments_lexer": "ipython3",
   "version": "3.8.19"
  }
 },
 "nbformat": 4,
 "nbformat_minor": 2
}

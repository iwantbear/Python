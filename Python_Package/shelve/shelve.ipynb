{
 "cells": [
  {
   "cell_type": "markdown",
   "metadata": {},
   "source": [
    "### shelve 패키지 사용하기  \n",
    "\n",
    "shelve 패키지는 pickle 인터페이스를 기반으로 파일와이드 데이터베이스를 구축한다. shelve 패키지는 pickle 패키지의 모든 기능을 포함하고 있으니, 두 패키지를 동시에 탑재할 필요는 없다.  \n",
    "\n",
    "이 패키지의 인터페이스는 단순하다. 그저 shelve.open 으로 파일을 열어서 셸빙 인터페이스를 사용하면 된다. 반환된 객체는 가상 딕셔너리로 사용할 수 있다. "
   ]
  },
  {
   "cell_type": "code",
   "execution_count": null,
   "metadata": {},
   "outputs": [],
   "source": [
    "import shelve\n",
    "\n",
    "shelf_obj = shelve.open(db_name)"
   ]
  },
  {
   "cell_type": "markdown",
   "metadata": {},
   "source": [
    "변수 shelf_obj에는 어떤 이름이 와도 상관없다. db_name은 디스크나 장치에 자동으로 저장될 파일 이름으로, 추후 .db 확장자가 붙는다.  \n",
    "\n",
    "이 함수 호출이 성공적으로 실행되면 읽기/쓰기 작업을 하기 위해 데이터베이스 파일이 열릴 것이며, 파일이 존재하지 않으면 생성된다.  \n",
    "\n",
    "그렇게 되면 다음 작업은 그리 어렵지 않다. 그저 반한되는 객체(shelf_obj)를 데이터 딕셔너리(dict 타입)로 다루면 된다. 다음 예시는 nums를 딕셔너리 이름으로 사용하고 있는 예시다. "
   ]
  },
  {
   "cell_type": "code",
   "execution_count": 1,
   "metadata": {},
   "outputs": [],
   "source": [
    "import shelve \n",
    "\n",
    "nums = shelve.open('numdb')\n",
    "nums['pi'] = (3.141592, False)\n",
    "nums['phi'] = (2.1828, False)\n",
    "nums['perfect'] = (6, True)\n",
    "nums.close()"
   ]
  },
  {
   "cell_type": "markdown",
   "metadata": {},
   "source": [
    "이번 예시에서 변수 nums로 딕셔너리를 참조하고 있다는 것에 주목하자. 하지만 일반 딕셔너리와는 다르게, 최종적으로 close 메서드를 호출하여 버퍼에 남아 있던 연산을 모두 처리하고 디스크에 기록하여 닫힌다.  \n",
    "\n",
    "이제 디스크에 저장된 이 딕셔너리는 언제든지 다시 열어서 사용할 수 있게 되었다.  \n",
    "\n",
    "예를 들어 다음 예시는 딕셔너리에 존재하는 모든 키를 단순 루프로 출력하고 있다. "
   ]
  },
  {
   "cell_type": "code",
   "execution_count": 2,
   "metadata": {},
   "outputs": [
    {
     "name": "stdout",
     "output_type": "stream",
     "text": [
      "pi\n",
      "phi\n",
      "perfect\n"
     ]
    }
   ],
   "source": [
    "nums = shelve.open('numdb')\n",
    "for thing in nums:\n",
    "    print(thing)"
   ]
  },
  {
   "cell_type": "markdown",
   "metadata": {},
   "source": [
    "각 값을 출력할 수도 있다. "
   ]
  },
  {
   "cell_type": "code",
   "execution_count": 3,
   "metadata": {},
   "outputs": [
    {
     "name": "stdout",
     "output_type": "stream",
     "text": [
      "(3.141592, False)\n"
     ]
    }
   ],
   "source": [
    "print(nums['pi'])"
   ]
  },
  {
   "cell_type": "markdown",
   "metadata": {},
   "source": [
    "최종적으로 셸빙 인터페이스로 딕셔너리를 열고 나면 반드시 닫아서 남아 있는 변경 사항을 모두 강제로 반영해야 한다.  \n",
    "\n",
    "nums.close()"
   ]
  },
  {
   "cell_type": "markdown",
   "metadata": {},
   "source": [
    "셸빙 인터페이스에는 다음에 나열한 특별한 규칙이 적용된다.  \n",
    "\n",
    "* 비록 결과로 반환되는 데이터 딕셔너리는 일반적인 dicts이지만, 키는 반드시 문자열이어야 한다. 다른 종류의 키는 지원되지 않는다. \n",
    "* 일반적인 딕셔너리와 같이 값은 어떤 타입이 될 수 있지만, 반드시 피클링이 가능한 타입이어야 한다. \n",
    "* dict 이름은 반드시 단순한 이름이어야 한다는 것을 기억하자. 인터페이스는 파일을 디스크에 저장할 때 자동으로 .db 확장자를 붙인다. 하지만 파이썬 코드에 여러분이 직접 이 확장자를 사용하지는 말아야 한다.   \n",
    "\n",
    "이 인터페이스의 큰 장점은 매두 큰 데이터 세트와 사용하면 기본적인 피클링이나 대부분의 다른 파일 접근 기술보다 잠재적으로 훨씬 빠르고 효율적이라는 것이다. 셸빙 인터페이스는 최소한 큰 데이터 세트에 대해서 전체 딕셔너리를 읽지 않는다. 대신 값의 위치를 알 수 있는 색인을 사용하며, 해당 위치를 자동으로 검색한다. "
   ]
  }
 ],
 "metadata": {
  "kernelspec": {
   "display_name": "han",
   "language": "python",
   "name": "python3"
  },
  "language_info": {
   "codemirror_mode": {
    "name": "ipython",
    "version": 3
   },
   "file_extension": ".py",
   "mimetype": "text/x-python",
   "name": "python",
   "nbconvert_exporter": "python",
   "pygments_lexer": "ipython3",
   "version": "3.8.19"
  }
 },
 "nbformat": 4,
 "nbformat_minor": 2
}

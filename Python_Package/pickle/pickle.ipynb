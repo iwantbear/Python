{
 "cells": [
  {
   "cell_type": "markdown",
   "metadata": {},
   "source": [
    "### 피클링 패키지 사용하기  \n",
    "\n",
    "피클링 인터페이스는 훨씬 쉽게 데이터 파일을 읽고 쓰는 방법을 제공한다. 개념적으로 피클 데이터 파일은 파이썬 객체의 나열로 구성되어 잇으며, 각 객체는 일종의 '블랙박스'로 피클링으로 읽거나 쓴다. 디스크에 존재하는 객체의 속을 확인할 수 없지만(최소한 쉽게 할 수 있는 방법은 없음), 우리는 그 내용을 확인해야 한다. 어렵지 않다, 그냥 한 번에 하나씩 읽고 쓰기만 하면 된다. 피클 데이터 파일 프로토콜의 아룸다움은 해당 항목을 프로그램에서 다시 읽어 올 때, 온전한 객체로 읽을 수 있다는 것이다. 읽을 객체의 타입을 확인하고 싶다면 type 함수를 사용하거나 단순하게 print 함수에 해당 객체를 넘길 수도 있다.  \n",
    "\n",
    "피클링은 다음 2개의 함수로 수행할 수 있다. "
   ]
  },
  {
   "cell_type": "code",
   "execution_count": null,
   "metadata": {},
   "outputs": [],
   "source": [
    "import pickle\n",
    "\n",
    "pickle.dump(value, file_obj)  # 파일에 객체 쓰기 \n",
    "value = pickle.load(file_obj) # 파일에서 객체 불러오기 "
   ]
  },
  {
   "cell_type": "markdown",
   "metadata": {},
   "source": [
    "이 방법을 사용하면 한 번에 하나씩 파이썬 객체를 읽고 쓰기만 하면 된다. 파이썬 객체가 컬렉션을 포함하고 있어 매우 크더라도 마찬가지다. 미리 데이터 타입이 무엇인지 알 필요도 없다. 검사를 통해 찾을 수 있기 때문이다.  \n",
    "\n",
    "예를 들어 다음 코드 블록은 3개의 파이썬 객체(리스트, 문자열, 부동소수점 값)를 쓴다. "
   ]
  },
  {
   "cell_type": "code",
   "execution_count": 1,
   "metadata": {},
   "outputs": [],
   "source": [
    "import pickle \n",
    "\n",
    "with open('goo.dat', 'wb') as f:\n",
    "    pickle.dump([1, 2, 3], f)\n",
    "    pickle.dump('Hello!', f)\n",
    "    pickle.dump(3.141592, f)"
   ]
  },
  {
   "cell_type": "markdown",
   "metadata": {},
   "source": [
    "이 프로시저는 단순하고 안정적이다. 다른 파이썬 애플리케이션이 pickle 패키지를 사용하여 읽는다고 가정할 뿐이다. 예를 들어 다음 코드 블록은 파일 goo.dat 에서 3개의 객체를 읽어 온 후 각 객체의 문자열 표현과 타입을 출력하고 있다. "
   ]
  },
  {
   "cell_type": "code",
   "execution_count": 2,
   "metadata": {},
   "outputs": [
    {
     "name": "stdout",
     "output_type": "stream",
     "text": [
      "<class 'list'> [1, 2, 3]\n",
      "<class 'str'> Hello!\n",
      "<class 'float'> 3.141592\n"
     ]
    }
   ],
   "source": [
    "with open('goo.dat', 'rb') as f:\n",
    "    a = pickle.load(f)\n",
    "    b = pickle.load(f)\n",
    "    c = pickle.load(f)\n",
    "    print(type(a), a)\n",
    "    print(type(b), b)\n",
    "    print(type(c), c)"
   ]
  },
  {
   "cell_type": "markdown",
   "metadata": {},
   "source": [
    "피클링은 간단한 바이트들을 읽어 오는 것과는 반대로, 파이썬 객체를 모두 적재하기 때문에 부분적으로 사용하는 것도 쉽다. 객체로 할 수 있는 일은 무척 많다. 가령 타입을 확인하거나 컬렉션이라면 다음과 같이 길이를 확인할 수도 있다.  "
   ]
  },
  {
   "cell_type": "code",
   "execution_count": 3,
   "metadata": {},
   "outputs": [
    {
     "name": "stdout",
     "output_type": "stream",
     "text": [
      "The length of a is  [1, 2, 3]\n"
     ]
    }
   ],
   "source": [
    "if type(a)==list:\n",
    "    print('The length of a is ', a)"
   ]
  },
  {
   "cell_type": "markdown",
   "metadata": {},
   "source": [
    "피클링을 사용할 때 고려해야 할 단 하나의 중요한 제약 사항은 파일을 열었을 때 얼마나 많은 객체가 있는지 알 수 없다는 것이다. 한 가지 해결책은 프로그램이 EOFError 예외를 발생시킬 때까지 최대한 많은 객체를 불러오는 것이다. 예시를 살펴보자. "
   ]
  },
  {
   "cell_type": "code",
   "execution_count": 4,
   "metadata": {},
   "outputs": [
    {
     "name": "stdout",
     "output_type": "stream",
     "text": [
      "<class 'list'> [1, 2, 3]\n",
      "<class 'str'> Hello!\n",
      "<class 'float'> 3.141592\n",
      "Loaded 3 items.\n"
     ]
    }
   ],
   "source": [
    "loaded = []\n",
    "with open('goo.dat', 'rb') as f:\n",
    "    while True:\n",
    "        try:\n",
    "            item = pickle.load(f)\n",
    "        except EOFError:\n",
    "            print('Loaded', len(loaded), 'items.')\n",
    "            break\n",
    "        print(type(item), item)\n",
    "        loaded.append(item)"
   ]
  }
 ],
 "metadata": {
  "kernelspec": {
   "display_name": "han",
   "language": "python",
   "name": "python3"
  },
  "language_info": {
   "codemirror_mode": {
    "name": "ipython",
    "version": 3
   },
   "file_extension": ".py",
   "mimetype": "text/x-python",
   "name": "python",
   "nbconvert_exporter": "python",
   "pygments_lexer": "ipython3",
   "version": "3.8.19"
  }
 },
 "nbformat": 4,
 "nbformat_minor": 2
}

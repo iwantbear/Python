{
 "cells": [
  {
   "cell_type": "markdown",
   "metadata": {},
   "source": [
    "### os(파일/디렉터리 시스템)  \n",
    "\n",
    "os 패키지는 제어 프로세스와 함께 파일/디렉터리 시스템을 면밀히 살펴볼 수 있게 해 준다. \n",
    "\n",
    "* 프로세스를 시작,종료,반복하는 함수 : spawn, kill, abort, fork. fork함수는 기존 프로세스 기반으로 신규 프로세스를 파생한다.  \n",
    "* 파일/디렉터리 시스템을 변경하거나 탐색하는 함수 : rename, removedirs, chroot, getwcd(현재 작업 디렉터리 반환), rmdir(디렉터리 제거), listdir, makedir, mkdir\n",
    "* 파일 플래그와 다른 속성들을 수정하는 함수 : chflags, chmod, chown\n",
    "* 환경 변수를 가져오거나 조정하는 함수 : getenv, getenvb, putenv\n",
    "* 신규 시스템 명령어를 실행하는 함수 : exec로 시작하는 이름을 가진 함수들 \n",
    "* 파일 I/O에 저수준 접근을 가능하게 하는 함수 : 파이썬 읽기/쓰기 함수인 open, read, write가 이 함수를 기반으로 만들어 졌다.  \n",
    "\n",
    "os와 os.path 패키지는 파일을 열기 전에 파일 존재 유무를 확인할 수 있으며, 디스크에서 파일을 삭제할 수 있는 능력도 부여한다. 파일 삭제느느 세심한 주의가 필요하다.  \n",
    "\n",
    "다음 IDLE 세션에서는 작업 디렉터리를 확인하고, Documents 하위 디렉토리로 이동한 후 현재 작업 디렉터리를 다시 확인하고 있다. 그러고 나서 pythag.py 파일의 존재 유무를 확인한다. 마지막으로 파일을 제거한 후 파일이 제거되었는지 확인한다. "
   ]
  },
  {
   "cell_type": "code",
   "execution_count": 1,
   "metadata": {},
   "outputs": [
    {
     "data": {
      "text/plain": [
       "'/Users/hwang-gyuhan/Desktop/Python/Python_Package/os'"
      ]
     },
     "execution_count": 1,
     "metadata": {},
     "output_type": "execute_result"
    }
   ],
   "source": [
    "import os \n",
    "os.getcwd()"
   ]
  },
  {
   "cell_type": "code",
   "execution_count": 3,
   "metadata": {},
   "outputs": [],
   "source": [
    "os.chdir('/Users/hwang-gyuhan/Desktop/Python/Python_Package/os')"
   ]
  },
  {
   "cell_type": "code",
   "execution_count": 5,
   "metadata": {},
   "outputs": [
    {
     "data": {
      "text/plain": [
       "True"
      ]
     },
     "execution_count": 5,
     "metadata": {},
     "output_type": "execute_result"
    }
   ],
   "source": [
    "os.path.isfile('pythag.py')"
   ]
  },
  {
   "cell_type": "code",
   "execution_count": null,
   "metadata": {},
   "outputs": [],
   "source": [
    "os.remove('파일경로(이름)')"
   ]
  },
  {
   "cell_type": "markdown",
   "metadata": {},
   "source": [
    "파일의 존재 유무를 확인하기 위해 os.path.isfile 함수를 사용하는 것은 좋은 생각이다. 또 다른 유용한 함수는 os.listdir이다. 이 함수는 (기본적으로) 현재 디렉터리 혹은 특정 디렉터리의 모든 파일 이름을 리스트로 반환한다."
   ]
  }
 ],
 "metadata": {
  "kernelspec": {
   "display_name": "han",
   "language": "python",
   "name": "python3"
  },
  "language_info": {
   "codemirror_mode": {
    "name": "ipython",
    "version": 3
   },
   "file_extension": ".py",
   "mimetype": "text/x-python",
   "name": "python",
   "nbconvert_exporter": "python",
   "pygments_lexer": "ipython3",
   "version": "3.8.19"
  }
 },
 "nbformat": 4,
 "nbformat_minor": 2
}

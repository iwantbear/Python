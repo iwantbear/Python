{
 "cells": [
  {
   "cell_type": "markdown",
   "metadata": {},
   "source": [
    "### array 패키지  \n",
    "\n",
    "array 패키지 사용을 꺼려하는 경우가 많지만, 이 패키지는 numpy의 기본적인 기능을 많이 가지고 있다. 또한, 다른 프로그램에서 생성한 연속적인 데이터 더미와도 인터페이스 할 수 있게 해 주기 때문에 유용하다.  \n",
    "\n",
    "일반적인 array 패키지는 별다른 기능을 제공하지 않지만 이 패키지는 \"1차원 배열만\" 지원한다. array 패키지는 이 장에서 소개할 다른 모든 패키지와 마찬가지로 파이썬 리스트 대신 엄격한 C와 C++ 에서 다루는 배열의 특징을 갖는다  \n",
    "\n",
    "그렇다면 '배열'은 무엇일까?  \n",
    "\n",
    "리스트와 마찬가지로 배열은 인덱스로 메모리 속에 있는 각 항목을 참조할 수 있는 일련의 집합이다. 그러나 리스트와 달리 배열은 고정 길이 데이터라고 가정한다. 데이터의 모든 항목이 메모리상에 연속적으로 서로 옆에 위치한다는 의미다.  \n",
    "\n",
    "파이썬 리스트에는 보통 눈에 띄지 않는 참조 번호가 포함되어 있다 (C에서는 포인터가 될 것이다.) 리스트 객체에는 실제 리스트 위치에 접근할 수 있는 참조가 있으며, 이 참조는 변경될 수도 있다. 한편 리스트 항목에 위치한 각 객ㄱ체 역시 실제 데이터에 접근할 수 있는 참조이기 때문에 파이썬 에서는 한 리스트 안에서도 여러 데이터 타입인 항목을 가질 수 있는 것이다.  \n",
    "\n",
    "배열은 설계가 더 간단한데, 배열 객체는 그 자체가 메모리 속 위치에 접근할 수 있는 참조일 뿐이다. 실제 데이터가 그 위치에 있다는 의미다.  \n",
    "\n",
    "데이터가 이런 식으로 저장되기 때문에 모든 항목을 길이가 일정해야 하며, 같은 타입이어야 한다. 무작위 파이썬 정수(이론적으로 메모리 여러 바이트를 차지할 수도 있음)를 저장할 수는 없지만, 고정 길이의 정수를 저장할 수는 있다.  \n",
    "\n",
    "배열은 리스트 보다 데이터를 더 압축하여 저장한다. 그러나 파이썬 리스트 색인은 매우 최적화 되었기 때문에 배열의 색인보다 조금 느릴 뿐이다 "
   ]
  },
  {
   "cell_type": "markdown",
   "metadata": {},
   "source": [
    "array 패키지를 사용할 때의 장점 중 하나는 다른 프로세스 또는 C언어 라이브러리와 상호 작용하는 경우, 이 장에서 설명하는 것ㅊ럼 배열이 저장되는 메모리 연속 블록에 데이터를 전달할 수 있다는 점이다.  \n",
    "\n",
    "array 패키지를 사용하려면 array 패지키를 탑재한 후 array.array를 호출하여 array 객체를 대입하고 초기화하면 된다. 예를 들어 간단한 숫자 배열 1, 2, 3을 얻는 방법은 다음과 같다. "
   ]
  },
  {
   "cell_type": "code",
   "execution_count": 2,
   "metadata": {},
   "outputs": [],
   "source": [
    "import array\n",
    "a = array.array('h', [1, 2, 3])"
   ]
  },
  {
   "cell_type": "markdown",
   "metadata": {},
   "source": [
    "여기에서 'h'를 첫 번째 인수로 사용한 것에 주목하자. 데이터 타입을 지정하는 단일-문자 문자열이다. 이 경우 16비트(2바이트)정수 (양수 혹은 음수 32K 범위)로 제한한다. range 함수를 사용하면 더 큰 배열을 만들 수 있다.  "
   ]
  },
  {
   "cell_type": "code",
   "execution_count": 3,
   "metadata": {},
   "outputs": [],
   "source": [
    "import array\n",
    "a = array.array('h', range(1000))"
   ]
  },
  {
   "cell_type": "markdown",
   "metadata": {},
   "source": [
    "이 예시는 잘 작동하지만 데이터 타입의 크기를 짧은 정수('u')에서 긴 정수 ('1') 로 늘리지 않고서는 1에서 100만까지 (또는 0에서 999,999까지)의 숫자 배열을 만들 수 없다. 그렇지 않으면 16비트 정수 배열에 저장할 수 있는 값을 초과할 수 있기 때문이다. "
   ]
  },
  {
   "cell_type": "code",
   "execution_count": 4,
   "metadata": {},
   "outputs": [
    {
     "ename": "ValueError",
     "evalue": "bad typecode (must be b, B, u, h, H, i, I, l, L, q, Q, f or d)",
     "output_type": "error",
     "traceback": [
      "\u001b[0;31m---------------------------------------------------------------------------\u001b[0m",
      "\u001b[0;31mValueError\u001b[0m                                Traceback (most recent call last)",
      "Cell \u001b[0;32mIn[4], line 2\u001b[0m\n\u001b[1;32m      1\u001b[0m \u001b[38;5;28;01mimport\u001b[39;00m \u001b[38;5;21;01marray\u001b[39;00m\n\u001b[0;32m----> 2\u001b[0m a \u001b[38;5;241m=\u001b[39m \u001b[43marray\u001b[49m\u001b[38;5;241;43m.\u001b[39;49m\u001b[43marray\u001b[49m\u001b[43m(\u001b[49m\u001b[38;5;124;43m'\u001b[39;49m\u001b[38;5;124;43m1\u001b[39;49m\u001b[38;5;124;43m'\u001b[39;49m\u001b[43m,\u001b[49m\u001b[43m \u001b[49m\u001b[38;5;28;43mrange\u001b[39;49m\u001b[43m(\u001b[49m\u001b[38;5;241;43m1_000_000\u001b[39;49m\u001b[43m)\u001b[49m\u001b[43m)\u001b[49m\n",
      "\u001b[0;31mValueError\u001b[0m: bad typecode (must be b, B, u, h, H, i, I, l, L, q, Q, f or d)"
     ]
    }
   ],
   "source": [
    "import array\n",
    "a = array.array('1', range(1_000_000))"
   ]
  },
  {
   "cell_type": "markdown",
   "metadata": {},
   "source": [
    "하루종일 기다릴 준비가 되어 있지 않다면 이 코드 결과로 만든 배열을 출력하려고 하지말자, 이때 파이썬의 정수는 '무한하다'거나 오히려 정수의 한계가 천문학적이라는 것에 이의를 제기할 수도 있다. 그렇다. 하지만 고정-길이 데이터 구조를 다룰 때는 이런 유연성을 포기해야 한다.  \n",
    "\n",
    "array 패키지와 array 타입의 한 가지 제약 사항은 \"1차원 배열만\" 지원한다는 점이다. "
   ]
  }
 ],
 "metadata": {
  "kernelspec": {
   "display_name": "tabnet",
   "language": "python",
   "name": "python3"
  },
  "language_info": {
   "codemirror_mode": {
    "name": "ipython",
    "version": 3
   },
   "file_extension": ".py",
   "mimetype": "text/x-python",
   "name": "python",
   "nbconvert_exporter": "python",
   "pygments_lexer": "ipython3",
   "version": "3.8.19"
  }
 },
 "nbformat": 4,
 "nbformat_minor": 2
}

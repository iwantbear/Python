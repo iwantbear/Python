{
 "cells": [
  {
   "cell_type": "markdown",
   "metadata": {},
   "source": [
    "### math 패키지 개요  \n",
    "\n",
    "math 패키지는 많은 과학과 수학 애플리케이션에서 유용한 함수들을 제공한다.  \n",
    "\n",
    "math 패키지의 서비스 대부분이 함수로 제공되지만, pi, e와 같이 유용한 상수도 함께 제공하고 있다. 패키지 탑재 방식에 따라서 이 상수들을 math.pi와 math.e처럼 참조할 수 있다.  "
   ]
  },
  {
   "cell_type": "markdown",
   "metadata": {},
   "source": [
    "### math 패키지 함수 살펴보기  \n",
    "\n",
    "* 표준 삼각함수: sin,cos,tan 함수가 포함된다. 이들 함수는 각각 각도를 인수로 넣어서 직각삼각형의 한 면과 다른 면의 비율을 계산한다.  \n",
    "\n",
    "* 역 삼각함수: 첫 번째 카테고리와 밀접한 관련이 있는 기능들이지만, 직각삼각형 두 변의 각도를 인수로 넣어서 비율을 반환하는 대신, 비율을 인수로 넣어서 각도를 반환한다. 이 범주에는 asin, acos, atan가 포함된다.  \n",
    "\n",
    "* 각도 및 라디안 변환: 각도 및 라디안 두 함수는 라디안에서 각도로, 혹은 각도에서 라디안으로 변환한다. 대부분의 사람들에게 각도가 더 친숙하지만 라디안을 사용하는 삼각함수에 유용하다  \n",
    "\n",
    "* 쌍곡선 함수: 쌍곡선-함수 카테고리는 삼각함수와 역삼각함수의 쌍곡선 버전을 포함한다. 이름은 이름끝에 'h'를 붙여 sinh, conh, tanh식으로 구성된다.  \n",
    "\n",
    "* 로그함수: math 패키지는 다양한 진수를 지원하는 유연한 로그 계산 세트를 제공한다. 이런 함수가 바로 지수의 역함수다. 이진수, 10진수 및 e의 로그를 찾기 위해 각각을 위한 log2, log10 및 log를 제공한다. log는 사용자가 지정한 지수와 함께 사용될 수 있다.  \n",
    "\n",
    "* 정수 변환: floor와 ceil을 포함하여 부동소수점 숫자를 정수로 변환할 수 있는 몇 가지 함수를 포함한다 \n",
    "\n",
    "* 기타 pow(거듭 승 혹은 누승법)와 sqrt(제곱근) 함수를 포함한다"
   ]
  },
  {
   "cell_type": "markdown",
   "metadata": {},
   "source": [
    "### 특별 수치 pi 사용하기  \n",
    "\n",
    "기술적으로 데이터 객체로 볼 수 있는 상수의 파이썬 패키지 내 명명 규칙은 함수에서 사용하는 규칙과 같다. 권장 방법으로 import math를 사용하면 패키지의 모든 객체 참조는 반드시 지시자가 명시되어야 한다. 예시를 살펴보자 "
   ]
  },
  {
   "cell_type": "code",
   "execution_count": 1,
   "metadata": {},
   "outputs": [
    {
     "name": "stdout",
     "output_type": "stream",
     "text": [
      "The value of pi is: 3.141592653589793\n"
     ]
    }
   ],
   "source": [
    "import math\n",
    "\n",
    "print('The value of pi is:', math.pi)"
   ]
  },
  {
   "cell_type": "markdown",
   "metadata": {},
   "source": [
    "하지만 pi가 직접 import 되었다면 지시자(math)없이 참조할 수 있다. "
   ]
  },
  {
   "cell_type": "code",
   "execution_count": 4,
   "metadata": {},
   "outputs": [
    {
     "name": "stdout",
     "output_type": "stream",
     "text": [
      "The value of pi is: 3.141592653589793\n"
     ]
    }
   ],
   "source": [
    "from math import pi\n",
    "print('The value of pi is:', math.pi)"
   ]
  },
  {
   "cell_type": "markdown",
   "metadata": {},
   "source": [
    "math 패키지 데이터 객체  \n",
    "\n",
    "* pi : pi의 수학적 수치, 완전한 원의 지름에 대한 원주율. 3.141592653589793\n",
    "* e : e의 수학적 수치. 2.718281828459045  \n",
    "* tau : 파이썬 3.0 전용, pi에 2를 곱한 수학적 수치. 6.283185307179586  \n",
    "* inf : 무한. IEEE 수학에서만 사용  \n",
    "* nan : 숫자가 아님. IEEE 수학에서만 사용"
   ]
  },
  {
   "cell_type": "markdown",
   "metadata": {},
   "source": [
    "inf, nan은 부동소수점 코프로세서의 모든 상태를 완전하게 지원하기 위해 제공된다. 하지만 이 값들은 사용 빈도수가 적다. 왜냐하면 파이썬이 무한 값을 0으로 나누는 것을 허용하지 않으며, 예외를 발생시키기 때문이다.  \n",
    "\n",
    "반면 math.pi 수치는 수학과 과학 애플리케이션에서 광범위하게 사용된다. 원의 직경을 구하고, 원주를 반환하는 간단한 예시를 살펴보자"
   ]
  },
  {
   "cell_type": "code",
   "execution_count": 6,
   "metadata": {},
   "outputs": [
    {
     "name": "stdout",
     "output_type": "stream",
     "text": [
      "The circumference is 12.566370614359172\n"
     ]
    },
    {
     "data": {
      "text/plain": [
       "12.566370614359172"
      ]
     },
     "execution_count": 6,
     "metadata": {},
     "output_type": "execute_result"
    }
   ],
   "source": [
    "from math import pi \n",
    "\n",
    "def get_circ(d):\n",
    "    circ = d * pi\n",
    "    print('The circumference is', circ)\n",
    "    return circ\n",
    "\n",
    "get_circ(4)"
   ]
  },
  {
   "cell_type": "markdown",
   "metadata": {},
   "source": [
    "이 상수 목록에서 누락된 주목할 만한 한 가지는 황금 비율이라고도 알려진 수학적 값 phi다. 그러나 이 값은 직접 만들기가 비교적 쉽다. 1에 5의 제곱근을 더한 후 2로 나누면 된다"
   ]
  },
  {
   "cell_type": "code",
   "execution_count": 8,
   "metadata": {},
   "outputs": [
    {
     "data": {
      "text/plain": [
       "1.618033988749895"
      ]
     },
     "execution_count": 8,
     "metadata": {},
     "output_type": "execute_result"
    }
   ],
   "source": [
    "import math \n",
    "\n",
    "phi = (1 + math.sqrt(5)) / 2\n",
    "phi"
   ]
  },
  {
   "cell_type": "markdown",
   "metadata": {},
   "source": [
    "### 삼각함수: 나무의 높이  \n",
    "\n",
    "삼각함수는 다양한 곳에서 실용적으로 사용할 수 있다. 이 절에서는 나무의 높이를 계산하는 간단한 방법을 보여줄 것이다.  \n",
    "\n",
    "직각삼각형을 살펴봤을때 직각은 고정되어 있지만 나머지 두 각은 다를 수 있다. 밑변의 각도를 지정하면 이 각도에 따라 높이의 비율을 예측할 수 있다. 기본 삼각함수인 사인,코사인,탄젠트 함수는 다음과 같이 정의된다. 파이썬에서는 다른 프로그래밍 언어와 라이브러리 대부분과 같이 이 3개의 함수를 sin,cos,tan 함수로 각각 구현했다. \n"
   ]
  },
  {
   "cell_type": "code",
   "execution_count": 10,
   "metadata": {},
   "outputs": [
    {
     "name": "stdout",
     "output_type": "stream",
     "text": [
      "Height of the tree is 0.20978043583053124\n",
      "Height of the tree is 0.0\n",
      "Bye!\n"
     ]
    }
   ],
   "source": [
    "from math import tan, radians\n",
    "\n",
    "def get_height(dist, angle):\n",
    "    return tan(radians(angle)) * dist\n",
    "\n",
    "def main():\n",
    "    while True:\n",
    "        d = float(input('Enter distance (0 to exit): '))\n",
    "        if d == 0:\n",
    "            print('Bye!')\n",
    "            break\n",
    "        a = float(input('Enter angle of elevation: '))\n",
    "        print('Height of the tree is', get_height(d, a))\n",
    "        \n",
    "main()"
   ]
  },
  {
   "cell_type": "markdown",
   "metadata": {},
   "source": [
    "비록 간단한 프로그램이지만, 세밀한 조건을 한 가지 가지고 있다. 모든 파이썬 삼각함수는 라디안을 사용한다. 각도는 처음에 변환되지 않는 한 사용되지 않는다.  \n",
    "\n",
    "전체 원은 360도를 갖는 것으로 정의된다. 또한, 2*pi 라디안을 갖는 것으로 정의된다. 따라서 사용자가 실제 생활에서 대부분의 사람들이 사용하는 각도를 사용하려면 math.radians 기능을 적용하여 각도에서 라디안으로 변환해야 한다 "
   ]
  },
  {
   "cell_type": "markdown",
   "metadata": {},
   "source": [
    "### 로그: 숫자 맞추기 게임 돌아보기  \n",
    "\n",
    "* log10(X) : 10진 로그 (10의 몇 승이 x 인가?)\n",
    "* log2(x) : 이진 로그(2의 몇 승이 x인가?)\n",
    "* log(x, base=e) : 특정 진수의 로그, 두 번째 인수는 선택사항. 디폴트는 자연로그 e"
   ]
  },
  {
   "cell_type": "markdown",
   "metadata": {},
   "source": [
    "##### 로그의 동작 원리  \n",
    "\n",
    "로그는 거듭제곱의 역연산이다. 거듭제곱의 정의를 기억한다면 로그를 이해하는 것은 그리 어렵지 않다. 예를 들어 다음 공식이 사실이라고 가정해보자.  \n",
    "\n",
    "base ** exponent = amount  \n",
    "\n",
    "그렇다면 다음 공식 또한 사실이다  \n",
    "\n",
    "logarithm-of-base (amount) = exponent  \n",
    "\n",
    "즉, 로그가 계산하는 것은 양을 구하기 위해 필요한 지수라는 것이다. 몇 가지 예를 들면 이해하기 더 쉽다. 우선 10을 진수로 가정해보자.  \n",
    "\n",
    "10의 거듭제곱 수, 실행 결과   \n",
    "\n",
    "* 1 : 10\n",
    "* 2 : 100\n",
    "* 3 : 1000\n",
    "* 3.5 : 3162.277\n",
    "* 4 : 10000\n",
    "* 4.5 : 31622.777  \n",
    "\n",
    "이제 10진수를 사용하여 로그 내용을 이해하려면 표의 열을 반대로만 하면 된다. 이 표에서는 양이 증가함에 따라 지수가 얼마나 완만하게 증가하는지 확인해야 한다. 로그의 증가는 매우 느리며, 항상 단순한 선형 증가에 추월 당한다.  \n",
    "\n",
    "10진 로그 계산 대상, 실행 결과 \n",
    "\n",
    "* 10 : 1\n",
    "* 100 : 2\n",
    "* 1000 : 3\n",
    "* 3162.277 : 3.5 (approx.)\n",
    "* 10000 : 4\n",
    "* 31622.777 : 4.5(approx.)"
   ]
  }
 ],
 "metadata": {
  "kernelspec": {
   "display_name": "tabnet",
   "language": "python",
   "name": "python3"
  },
  "language_info": {
   "codemirror_mode": {
    "name": "ipython",
    "version": 3
   },
   "file_extension": ".py",
   "mimetype": "text/x-python",
   "name": "python",
   "nbconvert_exporter": "python",
   "pygments_lexer": "ipython3",
   "version": "3.8.19"
  }
 },
 "nbformat": 4,
 "nbformat_minor": 2
}

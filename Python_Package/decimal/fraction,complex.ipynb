{
 "cells": [
  {
   "cell_type": "markdown",
   "metadata": {},
   "source": [
    "* Fraction 클래스 : 1/3 혹은 1/7과 같은 분수를 반올림 오차없이 저장할 수 있다. 다른 클래스로는 반올림 오차 없이 저장할 수 없다.   \n",
    "\n",
    "* complex 클래스 : 고등 수학의 복소수 숫자를 나타낸다. '실수'와 '허수'로 나뉜다"
   ]
  },
  {
   "cell_type": "markdown",
   "metadata": {},
   "source": [
    "### Fraction 클래스  \n",
    "\n",
    "Decimal 과 Money 클래스는 0.53과 같은 10진수 수치를 절대적 소수로 저장할 수 있다. 하지만 이 클래스들조차도 제약 사항이 있다.  \n",
    "\n",
    "만약 1/3과 같은 값을 저장하려면 어떻게 해야 할까? 이 값은 반올림 에러 없이 이진수 수치로 표현할 수 없다. 하지만 이 숫자는 10진수로도 표현하는 것이 불가능하다! 이진수로든 10진수로든 수학적으로 1/3을 무한 숫자로 표현할 수 있는 방법을 찾을 수 있을지 모르겠다  \n",
    "\n",
    "0.3333333333333...  \n",
    "\n",
    "다행이도 정수가 우리를 구해 줄 것이다. 정수는 숫자를 절대적 소수로 저장하며, 분수와 분모, 2개의 파트로 구성된 객체를 생성한다. 우리는 어떤 숫자도 이 2개의 정수로 표현할 수 있다.  \n",
    "\n",
    "이슈가 있지만, 클래스에 의해 모두 부드럽게 해결된다. 가령 1/2, 2/4와 100/200은 표기는 다르지만 수학적으로는 모두 같다. 다행이도 고마운 내부 메서드가 자동으로 마법과 같이 내부적으로 동일하게 표현해 준다 예시를 살펴보자. 먼저 클래스를 탑재해야 한다. "
   ]
  },
  {
   "cell_type": "code",
   "execution_count": 1,
   "metadata": {},
   "outputs": [],
   "source": [
    "from fractions import Fraction"
   ]
  },
  {
   "cell_type": "markdown",
   "metadata": {},
   "source": [
    "어떤 경우라도, 클래스가 탑재되고 나면 Fraction 객체를 지속적으로 무척 쉬운 방법으로 사용할 수 있다. 1/2, 2/4, 100/200을 다루는 문제를 다시 살펴보자. "
   ]
  },
  {
   "cell_type": "code",
   "execution_count": 2,
   "metadata": {},
   "outputs": [
    {
     "name": "stdout",
     "output_type": "stream",
     "text": [
      "The fractions are 1/2, 1/2, 1/2.\n"
     ]
    }
   ],
   "source": [
    "fr1 = Fraction(1, 2)\n",
    "fr2 = Fraction(2, 4)\n",
    "fr3 = Fraction(100, 200)\n",
    "\n",
    "print('The fractions are %s, %s, %s.' % (fr1, fr2, fr3))"
   ]
  },
  {
   "cell_type": "markdown",
   "metadata": {},
   "source": [
    "이 모든 Fraction 객체는 자동으로 가장 단순한 형태로 축소되기 때문에 동일한 수량으로 표시된다.  \n",
    "\n",
    "Fraction을 다른 방법으로 구체화할 수도 있다. 가령 하나의 정수가 초기화 단계에 주어지면 Fraction 클래스는 1로 나누어진 정수(비율)로 저장한다. 예시를 살펴보자.  "
   ]
  },
  {
   "cell_type": "code",
   "execution_count": 4,
   "metadata": {},
   "outputs": [
    {
     "name": "stdout",
     "output_type": "stream",
     "text": [
      "5\n"
     ]
    }
   ],
   "source": [
    "fr1 = Fraction(5)\n",
    "print(fr1)"
   ]
  },
  {
   "cell_type": "markdown",
   "metadata": {},
   "source": [
    "Fraction은 Decimal 객체와 부동소수점 값으로부터 변환될 수도 있다. 이 변환은 다음과 같이 동작하는 데 별 문제가 없다. "
   ]
  },
  {
   "cell_type": "code",
   "execution_count": 5,
   "metadata": {},
   "outputs": [
    {
     "name": "stdout",
     "output_type": "stream",
     "text": [
      "1/2\n"
     ]
    }
   ],
   "source": [
    "fr1 = Fraction(0.5)\n",
    "print(fr1)"
   ]
  },
  {
   "cell_type": "markdown",
   "metadata": {},
   "source": [
    "하지만 다음과 같이 제대로 동작하지 않을 수도 있다. "
   ]
  },
  {
   "cell_type": "code",
   "execution_count": 6,
   "metadata": {},
   "outputs": [
    {
     "name": "stdout",
     "output_type": "stream",
     "text": [
      "5764607523034235/576460752303423488\n"
     ]
    }
   ],
   "source": [
    "fr2 = Fraction(0.01)\n",
    "print(fr2)"
   ]
  },
  {
   "cell_type": "markdown",
   "metadata": {},
   "source": [
    "이건 부동소수점 반올림 에러 때문이다. Fraction 클래스는 부동소수점 값 0.01에 있는 아주 작은 반올림 오류를 수용하기 위해 최선을 다했고, 결과적으로 깔끔하지 못한 비율을 출력했다.  \n",
    "\n",
    "몇 가지 해결책이 있다. 한 가지는 Decimal 객체에서와 같이 문자열을 사용하여 초기화하는 것이다. "
   ]
  },
  {
   "cell_type": "code",
   "execution_count": 7,
   "metadata": {},
   "outputs": [
    {
     "name": "stdout",
     "output_type": "stream",
     "text": [
      "1/100\n"
     ]
    }
   ],
   "source": [
    "fr2 = Fraction('0.01')\n",
    "print(fr2)"
   ]
  },
  {
   "cell_type": "markdown",
   "metadata": {},
   "source": [
    "두 번째는 limit_denominator 메서드를 사용하는 것이다. 이 메서드는 분모의 최댓값을 지정한다. 이 제약으로 Fraction 클래스는 가장 가까운 근사치를 구한다. 그러면 우리가 원하는 숫자에 근접한 결과가 나온다. "
   ]
  },
  {
   "cell_type": "code",
   "execution_count": 9,
   "metadata": {},
   "outputs": [
    {
     "name": "stdout",
     "output_type": "stream",
     "text": [
      "1/100\n"
     ]
    }
   ],
   "source": [
    "fr2 = Fraction(0.01).limit_denominator(1000)\n",
    "print(fr2)"
   ]
  },
  {
   "cell_type": "markdown",
   "metadata": {},
   "source": [
    "하지만 이 클래스의 진정한 강점은 모든 Fraction 타입 객체를 위한 표준 연산을 제공한다는 것이며, 결과 또한 굉장히 정확하다. 예시를 살펴보자. "
   ]
  },
  {
   "cell_type": "code",
   "execution_count": 11,
   "metadata": {},
   "outputs": [
    {
     "name": "stdout",
     "output_type": "stream",
     "text": [
      "5/4\n"
     ]
    }
   ],
   "source": [
    "fr1 = Fraction(1, 2)\n",
    "fr2 = Fraction(1, 3)\n",
    "fr3 = Fraction(5, 12)\n",
    "print(fr1 + fr2 + fr3)"
   ]
  },
  {
   "cell_type": "markdown",
   "metadata": {},
   "source": [
    "1/2, 1/3, 5/12가 더해져서 5/4가 된다. 곱하기, 나누기, 빼기와 같은 다른 산술 연산도 모두 지원되며, 정수와도 무리 없이 조합할 수 있다.  "
   ]
  },
  {
   "cell_type": "code",
   "execution_count": 12,
   "metadata": {},
   "outputs": [
    {
     "name": "stdout",
     "output_type": "stream",
     "text": [
      "1/100 times 50= 1/2\n"
     ]
    }
   ],
   "source": [
    "fr1 = Fraction(1, 100)\n",
    "print(fr1, 'times 50=', fr1 * 50)"
   ]
  },
  {
   "cell_type": "markdown",
   "metadata": {},
   "source": [
    "Fraction 객체는 부동소수점 표현으로 작성한 문자열로 초기화할 수 있다는 것을 고려하자, 예를 들어 '0.1'이나 '1/7'로 초기화 할 수 있다는 것이다."
   ]
  },
  {
   "cell_type": "code",
   "execution_count": 16,
   "metadata": {},
   "outputs": [
    {
     "name": "stdout",
     "output_type": "stream",
     "text": [
      "25/28\n"
     ]
    }
   ],
   "source": [
    "fr1 = Fraction('1/7')\n",
    "fr1 += Fraction('3/4')\n",
    "print(fr1)"
   ]
  },
  {
   "cell_type": "markdown",
   "metadata": {},
   "source": [
    "이 변환은 분자, 슬래시, 분모 사이에 간섭되는 빈칸이 없는 경우에만 작동한다. 여분의 공간을 둘 만큼 어리석은 사용자는 거의 없다. 그러나 사용자가 빈칸을 입력하는 것이 걱정된다면 언제든지 다음 방식으로 빈칸을 제거할 수 있다. "
   ]
  },
  {
   "cell_type": "code",
   "execution_count": null,
   "metadata": {},
   "outputs": [],
   "source": [
    "s = s.replace(' ','')"
   ]
  },
  {
   "cell_type": "markdown",
   "metadata": {},
   "source": [
    "마지막으로 Fraction 객체의 분자와 분모 항목에 언제든지 접근할 수 있다. 그러나 이런 객체는 입력하는 즉시 단순화된다는 점을 기억하자. 예를 들어 다음과 같다 "
   ]
  },
  {
   "cell_type": "code",
   "execution_count": 20,
   "metadata": {},
   "outputs": [
    {
     "name": "stdout",
     "output_type": "stream",
     "text": [
      "numerator is 1\n",
      "denominator is 3\n"
     ]
    }
   ],
   "source": [
    "fr1 = Fraction('100/300')\n",
    "print('numerator is', fr1.numerator)\n",
    "print('denominator is', fr1.denominator)\n"
   ]
  },
  {
   "cell_type": "markdown",
   "metadata": {},
   "source": [
    "자, 이제 또 다른 합게 구하기 애플리케이션을 만들어보자. 이번에는 Fraction이다.  \n",
    "Fraction을 'x/y' 형식의 문자열로 입력할 수 있다는 점이 이 애플리케이션을 쉽게 작성할 수 있게 한다. "
   ]
  },
  {
   "cell_type": "code",
   "execution_count": 27,
   "metadata": {},
   "outputs": [
    {
     "name": "stdout",
     "output_type": "stream",
     "text": [
      "The total is 14. \n"
     ]
    }
   ],
   "source": [
    "from fractions import Fraction \n",
    "\n",
    "total = Fraction('0')\n",
    "\n",
    "while True:\n",
    "    s = input('Enter fraction (press ENTER to quit): ')\n",
    "    s = s.replace(' ', '')\n",
    "    if not s:\n",
    "        break\n",
    "    total += Fraction(s)\n",
    "\n",
    "print('The total is %s. ' % total)"
   ]
  },
  {
   "cell_type": "markdown",
   "metadata": {},
   "source": [
    "이렇게 소스 코드 작성이 쉬운 이유는 사용자가 값을 입력할 때, 별도의 어휘적 분석 없이 원하는 형식 (3분의 1은 '1/3')으로 분수를 입력할 수 있기 때문이다. 반면 사용자는 분수를 '2 1/3'과 같은 형식으로는 입력할 수 없다. 이 값은 '7/3'으로 입력해야만 한다. \n",
    "이제 소스 코드를 실행해보자. 분수가 아닌 정수를 입력하는 것도 아무 문제없다. 2와 같은 숫자는 2/1로 전환되기 때문이다. "
   ]
  },
  {
   "cell_type": "markdown",
   "metadata": {},
   "source": [
    "### complex 클래스  \n",
    "\n",
    "이 장을 끝내기 전에 파이썬 내장 타입 하나를 더 살펴볼 것이다. 바로 complex 클래스다. int나 float와 같이 탑재할 필요가 없는 완전히 내장된 불변 클래스다.  \n",
    "\n",
    "complex(복소수) 숫자가 필요할까?  \n",
    "\n",
    "복소수 숫자는 '실수'와 '허수'로 나뉜다. 봇소수 숫자의 허수 부분은 오래된 질문의 답으로 대신하겠다. \"-1의 제곱근은 무엇인가?\"  \n",
    "\n",
    "파이썬 복소수 숫자에 대해 가장 먼저 말해야 할 것은 문자 그대로 숫자를 입력할 수 있다는 것이다. 다음 예시를 살펴보자.  \n",
    "\n",
    "z = 2.5 + 1.0j  \n",
    "\n",
    "얼핏 보면 z는 변수 j의 2.5배, 1.0배의 합계인 실제 숫자처럼 보인다. 하지만 그렇지 않다. 이 숫자는 하나의 객체이며 실수부는 2.5, 허수부는 1.0이다.  \n",
    "\n",
    "우리가 살펴본 다른 클래스들과 마찬가지로 complex 클래스는 스스로 작은 부분으로 구성되어 있는 객체를 생산한다. 허수부에서 i가 아닌 j를 사용하는 이유는 i는 전기를 표현하는데 사용되며, 포매팅 문자로도 사용되기 때문이다.  \n",
    "\n",
    "대입이 되고 나면 z는 실수부와 허수부로 나뉜 객체가 되며, real과 img로 각각 접근할 수 있다.  "
   ]
  },
  {
   "cell_type": "code",
   "execution_count": 29,
   "metadata": {},
   "outputs": [
    {
     "name": "stdout",
     "output_type": "stream",
     "text": [
      "Real part is 2.5 and imaginary part is 1.0.\n"
     ]
    }
   ],
   "source": [
    "z = 2.5 + 1.0j\n",
    "print('Real part is %s and imaginary part is %s.' % (z.real, z.imag))"
   ]
  },
  {
   "cell_type": "markdown",
   "metadata": {},
   "source": [
    "숫자를 복소수로 저장하는 또 다른 방법은 명시적으로 complex 변환을 사용하는 것이다. "
   ]
  },
  {
   "cell_type": "code",
   "execution_count": 30,
   "metadata": {},
   "outputs": [
    {
     "name": "stdout",
     "output_type": "stream",
     "text": [
      "Real part is 5.7 and imaginary part is 10.0.\n"
     ]
    }
   ],
   "source": [
    "z = complex(5.7, 10)\n",
    "print('Real part is %s and imaginary part is %s.' % (z.real, z.imag))"
   ]
  },
  {
   "cell_type": "markdown",
   "metadata": {},
   "source": [
    "복소수 숫자를 직접 입력할 수 있는 능력은 편리하다. 물론 '실수'부분을 제외할 수도 있으며 여전히 complex 타입으로 숫자를 저장할 수 있다. "
   ]
  },
  {
   "cell_type": "code",
   "execution_count": 31,
   "metadata": {},
   "outputs": [
    {
     "name": "stdout",
     "output_type": "stream",
     "text": [
      "(-6+0j)\n"
     ]
    }
   ],
   "source": [
    "print(2j * 3j)"
   ]
  },
  {
   "cell_type": "markdown",
   "metadata": {},
   "source": [
    "이 문장은 2개의 복소수 숫자를 함께 곱한 결과를 산출한다 (각 복소수는 허수부를 가지고 있으며, 실수부도 존재하지만 0으로 가정한다.) 복소수 숫자의 기초 수학에 익숙하다면 그 결과는 여러분을 놀라게 하지 않을 것이다. "
   ]
  },
  {
   "cell_type": "markdown",
   "metadata": {},
   "source": [
    "그런데 이 결과를 z에 저장하여 z.real과 z.imag로 값을 확인해 보면 앞 출력 결과에서 보여 준 결과에도 불구하고, 각 숫자는 정수가 아닌 부동소수점인 것을 알 수 있다. "
   ]
  },
  {
   "cell_type": "code",
   "execution_count": 32,
   "metadata": {},
   "outputs": [
    {
     "name": "stdout",
     "output_type": "stream",
     "text": [
      "<class 'float'>\n"
     ]
    }
   ],
   "source": [
    "print(type(z.imag))"
   ]
  },
  {
   "cell_type": "markdown",
   "metadata": {},
   "source": [
    "-6+0j와 같은 문자그대로의 복소수 숫자의 사용은 편리하기는 하지만 주의해야 할 몇 가지 상황을 만들어 낸다. 괄호는 필수는 아니지만 생략할 경우 오류가 발생할 수 있다. 예를 들어 파이썬에서는 다음 코드를 어떻게 처리할까?  \n",
    "\n",
    "z = 0 + 2j * 0 + 3j  \n",
    "\n",
    "앞서 다룬 내용 때문에 파이썬에서 이 문장을 다음과 같이 해석할 것이라고 생각할지 모르겠다.  \n",
    "\n",
    "z = (0 + 2j) * (0 + 3j)  \n",
    "\n",
    "이 문장은 (-6+0j)를 구할 것이다. 하지만 파이썬은 이 문장을 다른 방법으로 해석한다. 숫자 0이 단순한 0이 아니라 복소수의 실수라는 것을 어떻게 알 수 있을까? 대신 파이썬은 연산자 우선순위에 따라 다음과 같이 곱하기 연산을 먼저 수행한다.  \n",
    "\n",
    "z = 0 + (2j * 0) + 3j  \n",
    "\n",
    "이제 z를 출력하면 3j 가 된다.   \n",
    "\n",
    "주의하지 않으면 표현식 3j를 잘못 읽을 수 있다. 다음 표현식은 복소수 숫자의 일부이다. "
   ]
  },
  {
   "cell_type": "code",
   "execution_count": 33,
   "metadata": {},
   "outputs": [
    {
     "name": "stdout",
     "output_type": "stream",
     "text": [
      "0.0\n"
     ]
    }
   ],
   "source": [
    "z = 3j\n",
    "print(z.real)"
   ]
  },
  {
   "cell_type": "markdown",
   "metadata": {},
   "source": [
    "복소수 숫자의 허수부에 0을 넣을 수도 있지만 j가 복소수 타입임을 알려준다. "
   ]
  },
  {
   "cell_type": "code",
   "execution_count": 34,
   "metadata": {},
   "outputs": [
    {
     "name": "stdout",
     "output_type": "stream",
     "text": [
      "(2+0j)\n",
      "2.0 0.0\n"
     ]
    }
   ],
   "source": [
    "z = 2 + 0j\n",
    "print(z)\n",
    "print(z.real, z.imag)"
   ]
  },
  {
   "cell_type": "markdown",
   "metadata": {},
   "source": [
    "또 다른 주의 사항이 있다. 복소수 숫자를 포함하는 코드를 작성할 때는 j를 변수로 사용하지 않는 것이 좋다.  \n",
    "허수부가 0이라는 가정하에 다른 숫자들도 complex로 변환할 수 있다. 하지만 복소수 숫자는 다른 타입의 숫자로 변환할 수 없다(대신 .real과 .imag 부분을 할당해야 한다). 또한, >,<,>=,<= 로 서로 숫자를 비교할 수도 없다. "
   ]
  },
  {
   "cell_type": "code",
   "execution_count": 35,
   "metadata": {},
   "outputs": [
    {
     "ename": "TypeError",
     "evalue": "can't convert complex to float",
     "output_type": "error",
     "traceback": [
      "\u001b[0;31m---------------------------------------------------------------------------\u001b[0m",
      "\u001b[0;31mTypeError\u001b[0m                                 Traceback (most recent call last)",
      "Cell \u001b[0;32mIn[35], line 2\u001b[0m\n\u001b[1;32m      1\u001b[0m z \u001b[38;5;241m=\u001b[39m \u001b[38;5;28mcomplex\u001b[39m(\u001b[38;5;241m3.5\u001b[39m)\n\u001b[0;32m----> 2\u001b[0m x \u001b[38;5;241m=\u001b[39m \u001b[38;5;28;43mfloat\u001b[39;49m\u001b[43m(\u001b[49m\u001b[43mz\u001b[49m\u001b[43m)\u001b[49m\n\u001b[1;32m      3\u001b[0m x \u001b[38;5;241m=\u001b[39m z\u001b[38;5;241m.\u001b[39mreal\n",
      "\u001b[0;31mTypeError\u001b[0m: can't convert complex to float"
     ]
    }
   ],
   "source": [
    "z = complex(3.5)\n",
    "x = float(z)\n",
    "x = z.real"
   ]
  },
  {
   "cell_type": "markdown",
   "metadata": {},
   "source": [
    "수학적으로 부동소수점 수학이 이미 잘 지원된다면 복소수 숫자를 다루는 것은 어렵지 않다. 더하기는 명확하며, 곱하기는 다음 규칙을 따른다.  \n",
    "\n",
    "* 4 부분을 서로 곱해서 4개의 결과를 얻는다\n",
    "* 실수부는 실수끼리 곱한다 \n",
    "* 각각 j로 구성된 2 부분이 있을 것이다. 두 숫자를 더해서 새로운 허수 부분을 구한다. \n",
    "* j-제곱 부분이 있을 것이다(허수 곱하기 허수). j-제곱을 -제곱 계수의 부호를 역방향으로 하는 -1로 변환한 후, 그 결과를 다시 실수부에 추가한다. "
   ]
  }
 ],
 "metadata": {
  "kernelspec": {
   "display_name": "tabnet",
   "language": "python",
   "name": "python3"
  },
  "language_info": {
   "codemirror_mode": {
    "name": "ipython",
    "version": 3
   },
   "file_extension": ".py",
   "mimetype": "text/x-python",
   "name": "python",
   "nbconvert_exporter": "python",
   "pygments_lexer": "ipython3",
   "version": "3.8.19"
  }
 },
 "nbformat": 4,
 "nbformat_minor": 2
}

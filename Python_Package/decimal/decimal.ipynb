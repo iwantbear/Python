{
 "cells": [
  {
   "cell_type": "markdown",
   "metadata": {},
   "source": [
    "### 숫자 클래스의 개요  \n",
    "\n",
    "이 책에서는 대부분 숫자 데이터 두가지(정수와 부동소수점)를 다룬다. 많은 애플리케이션에서 이 데이터 타입만으로도 기능 대부분을 구현할 수 있기 때문이다. 하지만 데이터 타입 2개만으로 모든 기능을 완벽하게 구현할 수 없다는 것을 곧 알게 될 것이다. 정수는 소수점이 없기 때문에 갖는 제약 사항이 있으며, 부동소수점은 이 장에서 보여줄 반올림 오차로 인한 문제가 있다.  \n",
    "\n",
    "* Decimal 클래스 : 정확하고 오차 없이 10진수 소수점을 가질 수 있는 '고정-포인트' 데이터 타입  \n",
    "\n",
    "* Money 클래스 : 여러분이 직접 내려받거나 개발할 수 있다. 이장에서는 예시를 위해 직접 개발\n"
   ]
  },
  {
   "cell_type": "markdown",
   "metadata": {},
   "source": [
    "### 부동소수점 포맷의 제약 사항  \n",
    "\n",
    "float 값의 문제점은 10진수 포맷으로 출력되지만, 내부적으로는 이진수로 저장된다는 것이다. 컴퓨터는 0.5와 같이 이진수로 표현할 수 있는 숫자는 정밀하게 저장할 수 있지만, 다른 소수점을 저장할 때 문제가 된다. 가령 10진수 2.5는 다음과 같이 이진수 부동소수점으로 출력할 수 있다.  \n",
    "\n",
    "10.1  \n",
    "\n",
    "하지만 0.3과 같은 10진수 소수점은 어떨까? 문제는 0.3을 10분의 3으로 저장해야 한다는 것이다. 그리고 10분의 1은 아무리 많은 소수를 사용하더라도 정확한 이진수 포맷으로 저장할 수 없다. 1/10은 1/2 또는 1/4과 달리 2의 제곱이 아니기 때문이다. 따라서 이런 상황에서 반올림한 값은 정확한 값과의 작은 괴리가 생긴다.  \n",
    "\n",
    "IDLE에서 쉽게 실행할 수 있는 파이썬 예시를 살펴보자.  \n",
    "\n"
   ]
  },
  {
   "cell_type": "code",
   "execution_count": 1,
   "metadata": {},
   "outputs": [
    {
     "data": {
      "text/plain": [
       "0.30000000000000004"
      ]
     },
     "execution_count": 1,
     "metadata": {},
     "output_type": "execute_result"
    }
   ],
   "source": [
    "0.1 + 0.1 + 0.1"
   ]
  },
  {
   "cell_type": "markdown",
   "metadata": {},
   "source": [
    "이 결과는 수학적으로 틀렸으며, 프로세서가 고장 난 것이 아니라 부동소수점 연산이 10분의 1과 같은 분수를 다룰 때마다 아주 작은 반올림 오류가 발생할 수 있다는 사실을 나타낸다. 대부분의 프로그램은 이런 오류를 무시하는데, 보통 출력과 포매팅 함수가 특정 숫자를 반올림하여 이런 오류를 숨기기 때문이다.  \n",
    "\n",
    "보통은 이런 오류를 무시하는 일이 문제가 되지 않는다. 프로그래밍에서는 부동소수점으로 작업할 때 작은 오류들을 허용한다고 가정하기 때문이다. 이것은 단지 우리가 지불해야 할 대가인 셈이다.  \n",
    "\n",
    "과학 애플리케이션과 실제 애플리케이션에서는 대개 무한한 소수점을 제공하지 않는다. 예를 들어 태양은 정확히 지구에서 9,300만 마일 떨어져 있지 않다. 그저 대략적인 수치다.  \n",
    "\n",
    "다음과 같이 round 함수를 이용하면 이와 같이 작은 오류를 없앨 수 있다. "
   ]
  },
  {
   "cell_type": "code",
   "execution_count": 2,
   "metadata": {},
   "outputs": [
    {
     "data": {
      "text/plain": [
       "3.0"
      ]
     },
     "execution_count": 2,
     "metadata": {},
     "output_type": "execute_result"
    }
   ],
   "source": [
    "round(1.0 + 1.0 + 1.0, 2)"
   ]
  },
  {
   "cell_type": "markdown",
   "metadata": {},
   "source": [
    "하지만 우리는 금융 애플리케이션에서 round 함수에 계속 의지하지 않고 더 나은 결과를 얻고 싶다. 분수는 중요한 부분이며, 작은 오류도 시간이 지남에 따라 누적될 수 있기 때문에 허용되지 않는다. 은행원에게 1.99달러는 정확히 1.99달러이어야 한다.  \n",
    "\n",
    "반올림 에러를 확인할 수 있는 몇 가지 에시를 살펴보자. "
   ]
  },
  {
   "cell_type": "code",
   "execution_count": 3,
   "metadata": {},
   "outputs": [
    {
     "data": {
      "text/plain": [
       "0.9999999999999999"
      ]
     },
     "execution_count": 3,
     "metadata": {},
     "output_type": "execute_result"
    }
   ],
   "source": [
    "0.6 + 0.3 + 0.1"
   ]
  },
  {
   "cell_type": "code",
   "execution_count": 4,
   "metadata": {},
   "outputs": [
    {
     "data": {
      "text/plain": [
       "0.49999999999999994"
      ]
     },
     "execution_count": 4,
     "metadata": {},
     "output_type": "execute_result"
    }
   ],
   "source": [
    "(0.6 + 0.3 + 0.1) /2"
   ]
  },
  {
   "cell_type": "markdown",
   "metadata": {},
   "source": [
    "여러분이 비즈니스 애플리케이션을 다룰 때, 특히 그 분야가 은행이라면 44.31과 같은 숫자를 어떤 종류의 오류 없이 정확하게 저장하는 것이 무척 유용할 것이다.  "
   ]
  },
  {
   "cell_type": "markdown",
   "metadata": {},
   "source": [
    "### Decimal 클래스 소개  \n",
    "\n",
    "IDLE에서 다음과 같이 import 문을 실행해 보자."
   ]
  },
  {
   "cell_type": "code",
   "execution_count": 5,
   "metadata": {},
   "outputs": [
    {
     "name": "stdout",
     "output_type": "stream",
     "text": [
      "0\n"
     ]
    }
   ],
   "source": [
    "from decimal import Decimal \n",
    "\n",
    "my_dec = Decimal()\n",
    "print(my_dec)"
   ]
  },
  {
   "cell_type": "markdown",
   "metadata": {},
   "source": [
    "이제 부동소수점 클래스와 같이 Decimal 클래스의 인스턴스를 몇 개라도 정의할 수 있다.  \n",
    "결과에서 알 수 있듯이 Decimal 인스턴스의 기본값은 0이다. 하지만 어떤 소수점 값이라도 정확하게 저장할 수 있다. "
   ]
  },
  {
   "cell_type": "code",
   "execution_count": 6,
   "metadata": {},
   "outputs": [
    {
     "name": "stdout",
     "output_type": "stream",
     "text": [
      "0.3\n"
     ]
    }
   ],
   "source": [
    "d = Decimal('0.1')\n",
    "print(d + d + d)"
   ]
  },
  {
   "cell_type": "markdown",
   "metadata": {},
   "source": [
    "이 예시는 기대했던 대로 동작하지만 무언가 특이한 점이 있다는 것을 알 수 있다. Decimal 변수인 d가 초기화 될 때 텍스트 문자열을 사용한 것이다. 부동소수점을 사용하여 초기화하는 것이 훨씬 자연스러워 보일 수도 있다."
   ]
  },
  {
   "cell_type": "code",
   "execution_count": 8,
   "metadata": {},
   "outputs": [
    {
     "name": "stdout",
     "output_type": "stream",
     "text": [
      "0.1000000000000000055511151231257827021181583404541015625\n"
     ]
    }
   ],
   "source": [
    "d = Decimal(0.1)\n",
    "print(d)"
   ]
  },
  {
   "cell_type": "markdown",
   "metadata": {},
   "source": [
    "결과가 왜 이모양인가.. 나름 이유가 있다. 초기화할 때 0.1을 사용하면 부동소수점은 Decimal 포맷으로 변환된다. 앞에서 언급했듯이 Decimal은 0.1을 정확한 자릿수와 함께 저장할 수 있다. 하지만 이 경우에는 부동소수점으로부터 값이 변환되었다는 것이 문제다. 왜냐하면 부동소수점 값은 이미 반올림 에러를 포함하고 있기 때문이다.  \n",
    "\n",
    "이 문제를 해결하기 위해서는 문자열로 초기화하는 것이 최선이다. '0.01'을 사용하여 초기화하는 것은 '나는 문자열이 표현하고 있는 숫자를 실제 소수점으로 저장하고 싶다' 라고 말하는 것이며, 반올림 에러가 없는 값을 저장한다는 것과 같은 의미다. 다른 예시를 살펴보자."
   ]
  },
  {
   "cell_type": "code",
   "execution_count": 9,
   "metadata": {},
   "outputs": [
    {
     "name": "stdout",
     "output_type": "stream",
     "text": [
      "0.3\n"
     ]
    }
   ],
   "source": [
    "d = Decimal('0.1')\n",
    "print(d + d + d)"
   ]
  },
  {
   "cell_type": "markdown",
   "metadata": {},
   "source": [
    "부동소수점 버전과는 반대로 바른 결과를 출력한다. 다른 예시를 살펴보자. 다음은 Decimal 로 좀 더 명핵한 부동소수점 연산 오류를 해결한다. "
   ]
  },
  {
   "cell_type": "code",
   "execution_count": 10,
   "metadata": {},
   "outputs": [
    {
     "name": "stdout",
     "output_type": "stream",
     "text": [
      "5.551115123125783e-17\n"
     ]
    }
   ],
   "source": [
    "print(0.1 + 0.1 + 0.1 - 0.3)"
   ]
  },
  {
   "cell_type": "code",
   "execution_count": 12,
   "metadata": {},
   "outputs": [
    {
     "name": "stdout",
     "output_type": "stream",
     "text": [
      "0.0\n"
     ]
    }
   ],
   "source": [
    "d1, d3 = Decimal('0.1'), Decimal('0.3')\n",
    "print(d1 + d1 + d1 - d3)"
   ]
  },
  {
   "cell_type": "markdown",
   "metadata": {},
   "source": [
    "Decimal 클래스는 자릿수를 유지한다. 가령 소수점 이하 두 자리의 소수를 갖는 Decimal 인스턴스로 연산을 수행하면 끝이 0으로 끝나더라도 다음과 같이 두 자릿수는 유지된다."
   ]
  },
  {
   "cell_type": "code",
   "execution_count": 13,
   "metadata": {},
   "outputs": [
    {
     "data": {
      "text/plain": [
       "Decimal('0.40')"
      ]
     },
     "execution_count": 13,
     "metadata": {},
     "output_type": "execute_result"
    }
   ],
   "source": [
    "d1, d3 = Decimal('0.10'), Decimal('0.30')\n",
    "d1 + d3"
   ]
  },
  {
   "cell_type": "markdown",
   "metadata": {},
   "source": [
    "이렇게 자릿수를 보존하는 특성은 Decimal을 사용하여 달러와 센트를 출력하거나 소수점 이하 자릴수를 두 자리로 유지하는 경우에 유용할 것이다. 물론 소수점 자릿수를 늘릴 수도 있겠지만, 이 자릿수가 두 자리가 넘는 숫자를 사용하지 않는 한 소수점 이하 자릿수는 유지된다. 다른 예시를 살펴보자."
   ]
  },
  {
   "cell_type": "code",
   "execution_count": 14,
   "metadata": {},
   "outputs": [
    {
     "name": "stdout",
     "output_type": "stream",
     "text": [
      "1.00\n"
     ]
    }
   ],
   "source": [
    "d1, d2 = Decimal('0.50'), Decimal('0.50')\n",
    "print(d1 + d2)"
   ]
  },
  {
   "cell_type": "markdown",
   "metadata": {},
   "source": [
    "Decimal 클래스에는 쓸데없는 점이 있는데 만약 2개의 객체를 곱하면 소수점 이하 자릿수는 유지되는 것이 아니라 증가한다. 예시를 살펴보자."
   ]
  },
  {
   "cell_type": "code",
   "execution_count": 15,
   "metadata": {},
   "outputs": [
    {
     "name": "stdout",
     "output_type": "stream",
     "text": [
      "0.000600\n"
     ]
    }
   ],
   "source": [
    "d1, d3 = Decimal('0.020'), Decimal('0.030')\n",
    "print(d1 * d3)"
   ]
  },
  {
   "cell_type": "markdown",
   "metadata": {},
   "source": [
    "하지만 round 함수를 사용하면 (뒤따르는 0을 제거하여) 객체의 소수점 이하 자릿수를 기존 개수대로 반올림하여 언제든지 조정할 수 있다 ."
   ]
  },
  {
   "cell_type": "code",
   "execution_count": 16,
   "metadata": {},
   "outputs": [
    {
     "name": "stdout",
     "output_type": "stream",
     "text": [
      "0.0006\n",
      "0.001\n"
     ]
    }
   ],
   "source": [
    "print(round(d1 * d3, 4))\n",
    "print(round(d1 * d3, 3))"
   ]
  },
  {
   "cell_type": "markdown",
   "metadata": {},
   "source": [
    "정수와 부동소수점 값을 함께 사용한다면 몇 가지 규칙이 따른다.  \n",
    "\n",
    "* 정수는 Decimal 객체와 자유롭게 더하거나 곱할 수 있다. \n",
    "* 정수를 사용하여 Decimal 객체를 정확하게 초기화할 수 있다.  \n",
    "\n",
    "d = Decimal(5)  \n",
    "\n",
    "* 부동소수점 값을 Decimal 객체에 더하거나 곱하면 에러가 발생한다. 이와 같은 연산을 하기 위해 부동소수점 값을 Decimal 객체로 변환해야 한다. 예를 들어 부동소수점을 Decimal로 변환한 후 반올림하는 것이다. 그렇지 않은 경우 두 타입 간에 연산을 시도하면 런타임 에러가 발생할 것이다. 정확하게 이해하기 위해 다음과 같이 정수와 동작하는 소스 코드를 작성해 보자. "
   ]
  },
  {
   "cell_type": "code",
   "execution_count": 17,
   "metadata": {},
   "outputs": [
    {
     "name": "stdout",
     "output_type": "stream",
     "text": [
      "535.00\n"
     ]
    }
   ],
   "source": [
    "d = Decimal(533)\n",
    "d += 2\n",
    "print(round(d, 2))"
   ]
  },
  {
   "cell_type": "markdown",
   "metadata": {},
   "source": [
    "### Decimal 객체를 위한 특수 연산  \n",
    "\n",
    "Decimal 객체를 생성하여 도움말을 호출하면 수 많은 연산과 메서드를 보여주는 문서를 확인할 수 있다.  \n",
    "\n",
    "help(Decimal)"
   ]
  },
  {
   "cell_type": "markdown",
   "metadata": {},
   "source": [
    "이 수많은 메서드는 매직 메서드 이며, 2개의 Decimal 객체 혹은 Decimal 객체와 정수 간에 모든 기본 산술 연산을 지원하기 위해 존재한다. 물론 로그 함수와 같은 다양한 함수도 제공한다.  \n",
    "\n",
    "이 범위에서 벗어나는 훌륭한 메서드들을 살펴보면 일부는 기술적으로 깊이가 매우 깊은 반면, 일부는 실제로 아무 작업 없이 현재 객체를 그대로 반환하기도 한다.  \n",
    "\n",
    "반면 어떤 메서드는 파이썬 프로그래머의 흥미를 유발하곤 한다. 그중 하나가 normalize 메서드다. 이 메서드는 호율적으로 뒤따르는 0을 제거해서 객체가 최소한 가져야 할 소수만을 남기는데 사용된다.  다음 예시에서는 normalize 메서드가 소수점 이하 자릿수가 3개였던 객체를 1개로 줄인다. "
   ]
  },
  {
   "cell_type": "code",
   "execution_count": 19,
   "metadata": {},
   "outputs": [
    {
     "name": "stdout",
     "output_type": "stream",
     "text": [
      "15.700\n"
     ]
    }
   ],
   "source": [
    "d = Decimal('15.700')\n",
    "print(d)"
   ]
  },
  {
   "cell_type": "code",
   "execution_count": 20,
   "metadata": {},
   "outputs": [
    {
     "name": "stdout",
     "output_type": "stream",
     "text": [
      "15.7\n"
     ]
    }
   ],
   "source": [
    "d2 = d.normalize()\n",
    "print(d2)"
   ]
  },
  {
   "cell_type": "markdown",
   "metadata": {},
   "source": [
    "normalize 메서드는 소수점 이하 숫자가 모두 0이라면 전부 제거한다. "
   ]
  },
  {
   "cell_type": "code",
   "execution_count": 21,
   "metadata": {},
   "outputs": [
    {
     "name": "stdout",
     "output_type": "stream",
     "text": [
      "6.00\n"
     ]
    }
   ],
   "source": [
    "d = Decimal('6.00')\n",
    "print(d)"
   ]
  },
  {
   "cell_type": "code",
   "execution_count": 22,
   "metadata": {},
   "outputs": [
    {
     "name": "stdout",
     "output_type": "stream",
     "text": [
      "6\n"
     ]
    }
   ],
   "source": [
    "d2 = d.normalize()\n",
    "print(d2)"
   ]
  },
  {
   "cell_type": "markdown",
   "metadata": {},
   "source": [
    "한편 Decimal 값의 소수를 변경하면 값이 같다(==)고 하더라도 초기 상태와 다른 객체를 갖게 된다. 앞서 사용한 d와 d2가 같은지 테스트해 보자"
   ]
  },
  {
   "cell_type": "code",
   "execution_count": 23,
   "metadata": {},
   "outputs": [
    {
     "data": {
      "text/plain": [
       "True"
      ]
     },
     "execution_count": 23,
     "metadata": {},
     "output_type": "execute_result"
    }
   ],
   "source": [
    "d == d2"
   ]
  },
  {
   "cell_type": "markdown",
   "metadata": {},
   "source": [
    "Decimal 객체는 정수, 부동소수점, 문자열과 같이 불변성을 지닌다. 한편 다음 코드는 기존 Decimal 데이터를 실제로 변경하지 않고 d에 신규 객체를 대입하기 때문에 문제없이 동작한다 (그러면 is 연산자로 객체가 같은지 확인할 수 있다). 하지만 기억하자. 기존 객체와 정규화된 값은 숫자상으로 같다고 간주한다. "
   ]
  },
  {
   "cell_type": "code",
   "execution_count": 24,
   "metadata": {},
   "outputs": [
    {
     "data": {
      "text/plain": [
       "True"
      ]
     },
     "execution_count": 24,
     "metadata": {},
     "output_type": "execute_result"
    }
   ],
   "source": [
    "d2 = d\n",
    "d = d.normalize()\n",
    "d2 == d"
   ]
  },
  {
   "cell_type": "code",
   "execution_count": 26,
   "metadata": {},
   "outputs": [
    {
     "data": {
      "text/plain": [
       "False"
      ]
     },
     "execution_count": 26,
     "metadata": {},
     "output_type": "execute_result"
    }
   ],
   "source": [
    "d2 is d"
   ]
  },
  {
   "cell_type": "markdown",
   "metadata": {},
   "source": [
    "as_tuple 메서드는 이런 객체의 내부 구조를 확인할 수 있는 주요 정보를 제공한다. "
   ]
  },
  {
   "cell_type": "code",
   "execution_count": 27,
   "metadata": {},
   "outputs": [
    {
     "data": {
      "text/plain": [
       "DecimalTuple(sign=0, digits=(1, 5, 0), exponent=-1)"
      ]
     },
     "execution_count": 27,
     "metadata": {},
     "output_type": "execute_result"
    }
   ],
   "source": [
    "d = Decimal('15.0')\n",
    "d.as_tuple()"
   ]
  },
  {
   "cell_type": "markdown",
   "metadata": {},
   "source": [
    "이 객체의 내부 구조에 대한 설명을 풀어 써 보자.  \n",
    "\n",
    "* 기호는 비트 1개다 (음수 1, 비음수 0)\n",
    "* 10진수 숫자(1, 5, 0)는 개별적으로 저장된다. \n",
    "* 소수가 저장되었다. 이 경우는 음수 지수로 설정되었으며, 소수점을 얼마나 좌측으로 이동 시킬지 결정한다(양수면 우측으로 이동)  \n",
    "\n",
    "실제로 이 정보를 사용하면 직접 Decimal 객체를 생성할 수 있다. 튜플을 소괄호 안에 넣고 해당 정보를 사용하여 객체를 초기화해 보자. "
   ]
  },
  {
   "cell_type": "code",
   "execution_count": 28,
   "metadata": {},
   "outputs": [
    {
     "name": "stdout",
     "output_type": "stream",
     "text": [
      "3.14\n"
     ]
    }
   ],
   "source": [
    "d = Decimal((0, (3, 1, 4), -2))\n",
    "print(d)"
   ]
  },
  {
   "cell_type": "markdown",
   "metadata": {},
   "source": [
    "Decimal 객체의 전체 상태를 표현하고 있는 튜플의 일반적인 구조는 다음과 같다.  \n",
    "\n",
    "(기호_비트, (숫자1, 숫자2, 숫자3,...), 지수)  \n",
    "\n",
    "decimal 패키지에 정의된 getcontext 메서드도 유용하다. 다음 예시를 살펴보자. "
   ]
  },
  {
   "cell_type": "code",
   "execution_count": 29,
   "metadata": {},
   "outputs": [
    {
     "data": {
      "text/plain": [
       "Context(prec=28, rounding=ROUND_HALF_EVEN, Emin=-999999, Emax=999999, capitals=1, clamp=0, flags=[Inexact, FloatOperation, Rounded], traps=[InvalidOperation, DivisionByZero, Overflow])"
      ]
     },
     "execution_count": 29,
     "metadata": {},
     "output_type": "execute_result"
    }
   ],
   "source": [
    "import decimal\n",
    "decimal.getcontext()"
   ]
  },
  {
   "cell_type": "markdown",
   "metadata": {},
   "source": [
    "지나치게 많은 정보일 수도 있지만, 유용한 정보가 많다.  \n",
    "첫 번째 인수 prec=28은 최대 소수 자릿수가 28이라는 의미다.  \n",
    "두 번째 인수는 반올림 방식을 기술한다. ROUND_HALF_EVEN은 숫자가 5 이상이면 올림을 하겠다는 의미다. traps에는 예외가 발생할 수 있는 연산들을 나열한다.  "
   ]
  },
  {
   "cell_type": "markdown",
   "metadata": {},
   "source": [
    "### Deciamal 클래스 애플리케이션  \n",
    "\n",
    "Decimal 클래스를 사용하면 소수점 이하 자릿수가 두 자리인 숫자로 구성된 열을 추가할 수 있다.  \n",
    "이 방식으로 달러와 센트 수치를 적절하게 저장할 수 있다. 가령 1달러는 1.00으로 저장할 수 있으며 1.50, 9.95와 같이 저장할 수 있다. 만약 페니를 나누어야 하는 상황이 발생하면 아무 생각 없이 나머지를 모두 버리는 대신, 가장 가까운 센트로 올림 혹은 내림을 할 수 있을 것이다.  \n",
    "\n",
    "마지막으로 이 애플리케이션은 통화 기호를 출력하지 않고 달러-센터 포맷으로 결과를 보여줄 것이다(통화 기호는 다음 섹션에서 추가할 것이다.) 이를 구현할 수 있는 코딩 기법을 찾고 있다면 Decimal 객체를 생성하는 가장 자연스럽고 효율적인 방법이 문자열로 초기화하는 방법인 것을 기억하자.  \n",
    "\n",
    "money_amount = Decimal('1.99')  \n",
    "\n",
    "다음은 전체 애플리케이션 코드다. 사용자에게 숫자를 입력받아서 (사용자가 빈 문자열을 입력하지 않았다면) 숫자로 구성된 해당 문자열을 Decimal 객체로 추가한다. 만약 사용자가 아무 값도 입력하지 않고 엔터를 누르면 프로그램은 멈추며, 전체 합계를 출력한다. "
   ]
  },
  {
   "cell_type": "code",
   "execution_count": 32,
   "metadata": {},
   "outputs": [
    {
     "name": "stdout",
     "output_type": "stream",
     "text": [
      "The sum of all these amounts is: 0.43\n"
     ]
    }
   ],
   "source": [
    "from decimal import Decimal\n",
    "\n",
    "total = Decimal('0.00')\n",
    "while True:\n",
    "    s = input('Enter amount in dollars and cents (#.##): ')\n",
    "    if not s:\n",
    "        break\n",
    "    d = Decimal(s)\n",
    "    d = round(d, 2)\n",
    "    total += d \n",
    "\n",
    "print('The sum of all these amounts is:', total)"
   ]
  },
  {
   "cell_type": "markdown",
   "metadata": {},
   "source": [
    "이 프로그램은 0.01보다 작은 소수를 제어하는 두 가지 방법 중 하나를 사용하고 있다. 한 가지 방법은 이 작은 소수들을 모두 더해서 합계를 구할 때 최종적으로 반올림하는 것이다. 반면 이 프로그램은 값을 입력할 때마다 반올림을 수행한다.  \n",
    "\n",
    "매번 값을 입력할 때마다 반올림을 수행했기 때문에 최종 합계는 53.90이 된다. 하지만 모든 값을 더하고 나서 마지막에 반올림을 한다면 53.91과 같이 조금 다른 값을 출력하게 된다. "
   ]
  },
  {
   "cell_type": "markdown",
   "metadata": {},
   "source": [
    "### Money 클래스 설계하기  \n",
    "\n",
    "프로그래밍을 할 때, 돈을 다루는 것은 굉장히 까다롭다. 그래서 우리는 Money 클래스를 만들 것이다. 물론 이 클래스를 내려받을 수도 있지만 직접 만드는 것을 권한다. 참고로 9장의 실용적인 예시에서 살펴본 훌륭한 개념들을 많이 적용할 것이다.  \n",
    "\n",
    "통화 단위를 표현하는 units와 함께 10진수 수치를 저장하면 유용할 것이다. 우리는 세 종류의 단위를 추가 문자열 필드 값으로 저장할 것이다.  \n",
    "\n",
    "국제적으로 통화 단위를 표기하는 표준 방식   \n",
    "기호, 설명  \n",
    "* 'USD', 미국 달러 \n",
    "* 'EUR', 유로\n",
    "* 'CAD', 캐나다 달러  \n",
    "\n",
    "이제 두 가지 방법 중 어떤 방법을 사용할 것인지 결정해야 한다.  \n",
    "\n",
    "* 포함 : 이 방법은 Money 객체를 컨테이너로 간주하며, 이 컨테이너에 단위 필드와 함께 Decimal 객체를 저장한다. 단점으로는 Money 클래스에서 제공하는 모든 연산자를 다루는 별도의 매직 메서드를 작성할 필요가 있다는 것이다.  \n",
    "\n",
    "* 상속 : 이 방식은 Money 객체에 단위 필드 속성을 추가하여 한 종류의 특별한 Decimal 객체로 간주하는 것이다 . \n",
    "\n",
    "두 가지 중에 하나를 고르라고 하면 상속이 더 나은 방법일 것이다. 왜냫면 \"A는 B의 한 종류이지만, 특화 기능이 추가되었다.\" 라는 실제 상속 관계를 지녔고, 객체 지향의 습성을 조금 더 간직하고 있기 때문이다.  \n",
    "\n",
    "반면 포함은 \"A는 B를 지니고 있다.\" 라는 관계로 표현할 수 있다. 이런 관계가 필요하다면 포함이 더 좋은 방법이다. 하지만 파이썬 언어는 이런 상황에서 상속을 사용하기 어렵게 만드는 별난 점이 있다. 만약 단순함을 유지하려면 불변 혹은 내장 클래스를 상속하는 자식 클래스 생성을 피하는 것이다. 불행하게도 이 가이드라인은 Deicmal도 상속을 피해야 할 대상으로 포함한다.   \n",
    "\n",
    "그렇기 때문에 이 장에서 우리는 Decimal 클래스를 사용하여 Money 클래스를 만드는 방법으로 객체 포함 방법을 사용할 것이다.  \n",
    "\n",
    "각 Money 객체는 2개의 파트로 나뉘며, Decimal 객체인 dec_amt와 units로 불리는 문자열로 구성된다. "
   ]
  },
  {
   "cell_type": "markdown",
   "metadata": {},
   "source": [
    "### 기본 Money 클래스 작성하기(포함)  \n",
    "\n",
    "Decimal 객체로 Money 클래스를 만드는 것은 처음에는 그리 어렵지 않다. 다음 예시로 시작해보자. "
   ]
  },
  {
   "cell_type": "code",
   "execution_count": 33,
   "metadata": {},
   "outputs": [
    {
     "name": "stdout",
     "output_type": "stream",
     "text": [
      "0.10 USD\n"
     ]
    }
   ],
   "source": [
    "from decimal import Decimal\n",
    "\n",
    "class Money():\n",
    "    def __init__(self, v = '0', units = 'USD'):\n",
    "        self.dec_amt=Decimal(v)\n",
    "        self.units=units\n",
    "\n",
    "m1 = Money('0.10')\n",
    "print(m1.dec_amt, m1.units)"
   ]
  },
  {
   "cell_type": "markdown",
   "metadata": {},
   "source": [
    "이 간단한 클래스 정의문으로 Money 객체를 만들고 속성 값들을 출력할 수 있다. 다른 연산이나 메서드를 추가해야 하지만 말이다. 위 예시는 미국 달러 통화를 기본값으로 설정하는 이점을 갖는다.  \n",
    "\n",
    "다음에 할 것은 Money 객체를 알아보기 쉽게 자동으로 출력하는 기능을 더하는 것이다. 지금 상태에서 m1을 출력하는 것은 그리 유용하지 않다. "
   ]
  },
  {
   "cell_type": "code",
   "execution_count": 34,
   "metadata": {},
   "outputs": [
    {
     "name": "stdout",
     "output_type": "stream",
     "text": [
      "<__main__.Money object at 0x1059e7b20>\n"
     ]
    }
   ],
   "source": [
    "print(m1)"
   ]
  },
  {
   "cell_type": "markdown",
   "metadata": {},
   "source": [
    "### Money 객체 출력하기 (\"\\__str__\",\"\\__repr__\")  \n",
    "\n",
    "Money 객체를 어떻게 출력하는지 지정하려면 이 클래스의 \\__str__ 메서드를 작성해야 한다. 동작하는 코드를 추가한 다음 예시를 살펴보자."
   ]
  },
  {
   "cell_type": "code",
   "execution_count": 35,
   "metadata": {},
   "outputs": [
    {
     "name": "stdout",
     "output_type": "stream",
     "text": [
      "5.01 CAD\n"
     ]
    }
   ],
   "source": [
    "from decimal import Decimal\n",
    "\n",
    "class Money():\n",
    "    def __init__(self, v = '0', units = 'USD'):\n",
    "        self.dec_amt=Decimal(v)\n",
    "        self.units=units\n",
    "        \n",
    "    def __str__(self):\n",
    "        s = str(self.dec_amt) + ' ' + self.units\n",
    "        return s\n",
    "    \n",
    "m1 = Money('5.01', 'CAD')\n",
    "print(m1)"
   ]
  },
  {
   "cell_type": "markdown",
   "metadata": {},
   "source": [
    "보다시피 이제 Money 클래스는 미국 달러를 가리키는 통화 단위인 USD와 함께 Money 객체를 쉽게 초기화 하고 출력하고 있다. 하지만 우리는 클래스의 기준 표현 방식도 설정하고 싶다. \\__str__과는 별도로 \\__repr__ 메서드 정의문을 추가해야 한다. "
   ]
  },
  {
   "cell_type": "code",
   "execution_count": 39,
   "metadata": {},
   "outputs": [
    {
     "name": "stdout",
     "output_type": "stream",
     "text": [
      "0.10 USD\n"
     ]
    }
   ],
   "source": [
    "def __repr__(self):\n",
    "    s = ('Money(' + str(self.dec_amt) + ' ' + self.units + ')')\n",
    "    return s\n",
    "\n",
    "m2 = Money('0.10')\n",
    "print(m2)"
   ]
  },
  {
   "cell_type": "markdown",
   "metadata": {},
   "source": [
    "클래스의 \\__repr__ 함수는 기본적으로 \\__str__ 함수와 다르며, 담고 있는 정보와 함께 클래스 정보도 함께 출력한다. "
   ]
  },
  {
   "cell_type": "markdown",
   "metadata": {},
   "source": [
    "### 기타 Money용 연산  \n",
    "\n",
    "지금까지 Money 클래스로 할 수 있는 것은 객체를 생성하고 출력하는 것이다. 하지만 더 유용하게 사용하려면 최소한 Money 객체 간에 덧셈 연산(+) 이 지원되어야 할 것이다.  \n",
    "\n",
    "일단 통화 단위를 무시하면 \\__add__ 함수는 쉽게 작성할 수 있다. 이 버전은 같은 클래스 간에 서로 다른 Money 객체를 서로 더한다고 가정해 보자. "
   ]
  },
  {
   "cell_type": "code",
   "execution_count": 2,
   "metadata": {},
   "outputs": [],
   "source": [
    "def __add__(self, other):\n",
    "    d = self.dec_amt + other.dec_amt\n",
    "    return Money(str(d))"
   ]
  },
  {
   "cell_type": "markdown",
   "metadata": {},
   "source": [
    "좌측 피연산자의 통화 단위를 결과에도 사용한다는 가정하에 함수 정의문을 확장할 수 있다. 이 기능을 구현하여 함수 정의문의 두 번째 버전을 살펴보자. 다음 코드에서 추가된 항목은 self.units 이다"
   ]
  },
  {
   "cell_type": "code",
   "execution_count": 3,
   "metadata": {},
   "outputs": [],
   "source": [
    "def __add__(self, other):\n",
    "    d = self.dec_amt + other.dec_amt\n",
    "    return Money(str(d), self.units)"
   ]
  },
  {
   "cell_type": "markdown",
   "metadata": {},
   "source": [
    "더 흥미롭고 유용하게 쓰일 수 있는 것은 우선 환율과 곱한 후 오른쪽에서 사용 중인 단위를 왼쪽의 단위와 일치하도록 변환하는 것이다. 환율은 매일 변경되지만, 이런 변화를 수용하기 위해 필요에 따라 프로그램을 수정할 수 있다. 그렇게 하는 한 가지 방법은 필요에 따라 갱신된 파일에서 환율을 읽는 것이다. "
   ]
  },
  {
   "cell_type": "markdown",
   "metadata": {},
   "source": [
    "일단 상황을 간단하게 하기 위해 우리는 일부 환율, 즉 다음 코드에서 명시한 환율들을 선택하고 필요에 따라 프로그램을 수정할 수 있다고 가정할 것이다. (지원되는 세 가지 통화를 사용하면) 여섯 가지의 변환이 가능하기 때문에 딕셔너리를 사용하는 것이 가장 좋다. 딕셔너리의 키는 2개의 통화 기호를 연결한 문자열이다. 딕셔너리의 값은 첫 번째 환율에 맞추기 위해 두 번째 값에 곱해야 할 숫자를 보여준다. "
   ]
  },
  {
   "cell_type": "code",
   "execution_count": 6,
   "metadata": {},
   "outputs": [],
   "source": [
    "from decimal import Decimal\n",
    "\n",
    "exch_dict = {\n",
    "    'USDCAD': Decimal('0.75'), 'USDEUR': Decimal('1.16'),\n",
    "    'CADUSD': Decimal('1.33'), 'CADEUR': Decimal('1.54'),\n",
    "    'EURUSD': Decimal('0.86'), 'EURCAD': Decimal('0.65')\n",
    "}"
   ]
  },
  {
   "cell_type": "markdown",
   "metadata": {},
   "source": [
    "예를 들어 USDCAD 키의 값은 0.75다. 캐나다 달러 수치는 0.75를 곱해야 미국 달러와 같아진다는 것을 의미한다. 자 이제, 2개의 서로 다른 통화를 더할 때 환율까지 고려한 함수가 추가된 마지막 버전을 만들 차례다.  \n",
    "\n",
    "환율 딕셔너리는 환율을 Decimal 객체로 저장하여 연산을 쉽게 수행한다. "
   ]
  },
  {
   "cell_type": "code",
   "execution_count": 7,
   "metadata": {},
   "outputs": [],
   "source": [
    "def __add__(self, other):\n",
    "    '''Money 더하기 함수. \n",
    "    2개의 Money 객체를 더한다. \n",
    "    두 번째 통화가 다른 통화 단위를 갖고 있다면 \n",
    "    두 값을 더하기 전에 환율이 반영되어야 한다\n",
    "    소수 두 번째 자리로 반올림을 한다 \n",
    "    '''\n",
    "    \n",
    "    if self.units != other.units:\n",
    "        r = Money.exch_dict[self.units + other.units]\n",
    "        m1 = self.dec_amt\n",
    "        m2 = other.dec_amt * r\n",
    "        m = Money(m1 + m2, self.units)\n",
    "    else:\n",
    "        m = Money(self.dec_amt + other.dec_amt, self.units)\n",
    "        \n",
    "    m.dec_amt = round(m.dec_amt, 2)\n",
    "    return m"
   ]
  },
  {
   "cell_type": "markdown",
   "metadata": {},
   "source": [
    "함수가 어떻게 동작하는지 살펴보자. 주석에서 언급했듯이 더하려는 값의 통화 단위가 서로 같지 않다고 가정하며(가령 미국 달러와 캐나다 달러), 더하기 전에 환율을 적용할 수 있다. 환율은 대부분 부동소수점으로 표현되지만, 타입 변환을 줄이기 위해 Decimal 객체로 저장하겠다.  \n",
    "\n",
    "환율이 적용되었는지 여부에 관계없이 소수점 이하 2번째 자리로 반올림하여 통화는 항상 소수점 2자리가 된다.  \n",
    "\n",
    "신규 Money 객체 m은 최종적으로 \\__add__ 함수에 의해서 반환된다.  \n",
    "\n",
    "Money 클래스의 클래스 변수인 exch_dict를 사용하여 구현한 함수 정의문으로 이 프로그램에 입력한 3개의 통화 범위 안에서 서로 다른 통화 단위를 지닌 수치들을 더할 수 있게 되었다 (물론 통화 리스트는 원하는 만큼 확장할 수 있다)  \n",
    "\n",
    "가령 우리는 미국 달러를 캐나다 달러에 더해서 의미있는 결과를 얻을 수 있다. "
   ]
  },
  {
   "cell_type": "markdown",
   "metadata": {},
   "source": [
    "다음 예시는 모든 것을 적용하여 완성한 Money 클래스다. 물론 앞으로 빼기나 정수 곱하기와 같은 많은 연산을 추가할 것이기 때문에 실제로 완성된 것은 아니다. "
   ]
  },
  {
   "cell_type": "code",
   "execution_count": 16,
   "metadata": {},
   "outputs": [
    {
     "name": "stdout",
     "output_type": "stream",
     "text": [
      "1.75 USD\n"
     ]
    }
   ],
   "source": [
    "from decimal import Decimal\n",
    "\n",
    "class Money():\n",
    "    '''Moeny 클래스\n",
    "    Deicmal 값과 통화 단위를 함께 저장한다. \n",
    "    객체를 더할 때, 통화 단위가 다르면 환율을 반영한다.\n",
    "    '''\n",
    "    \n",
    "    exch_dict = {\n",
    "    'USDCAD': Decimal('0.75'), 'USDEUR': Decimal('1.16'),\n",
    "    'CADUSD': Decimal('1.33'), 'CADEUR': Decimal('1.54'),\n",
    "    'EURUSD': Decimal('0.86'), 'EURCAD': Decimal('0.65')\n",
    "}\n",
    "    def __init__(self, v = '0', units = 'USD'):\n",
    "        self.dec_amt=Decimal(v)\n",
    "        self.units=units\n",
    "        \n",
    "    def __str__(self):\n",
    "        s = str(self.dec_amt) + ' ' + self.units\n",
    "        return s\n",
    "    \n",
    "    def __repr__(self):\n",
    "        s = ('Money(' + str(self.dec_amt) + ' ' + self.units + ')')\n",
    "        return s\n",
    "    \n",
    "    def __add__(self, other):\n",
    "        '''Money 더하기 함수. \n",
    "        2개의 Money 객체를 더한다. \n",
    "        두 번째 통화가 다른 통화 단위를 갖고 있다면 \n",
    "        두 값을 더하기 전에 환율이 반영되어야 한다\n",
    "        소수 두 번째 자리로 반올림을 한다 \n",
    "        '''\n",
    "    \n",
    "        if self.units != other.units:\n",
    "            r = Money.exch_dict[self.units + other.units]\n",
    "            m1 = self.dec_amt\n",
    "            m2 = other.dec_amt * r\n",
    "            m = Money(m1 + m2, self.units)\n",
    "        else:\n",
    "            m = Money(self.dec_amt + other.dec_amt, self.units)\n",
    "        \n",
    "        m.dec_amt = round(m.dec_amt, 2)\n",
    "        return m\n",
    "    \n",
    "us_m = Money('1', 'USD')\n",
    "ca_m = Money('1', 'CAD')\n",
    "print(us_m + ca_m)"
   ]
  },
  {
   "cell_type": "markdown",
   "metadata": {},
   "source": [
    "이 코드가 완성된 클래스 정의문이다. "
   ]
  },
  {
   "cell_type": "markdown",
   "metadata": {},
   "source": [
    "### 데모: Money 계산기  \n",
    "\n",
    "실행될 준비가 끝난 완성된 Money 클래스 정의문은 현재 우리가 지원하는 세 가지 통화 단위를 갖는 숫자를 더해서 액면가로 결과를 줄 수 있는 계산기 애플리케이션을 작성할 수 있게 되었다.  \n",
    "\n",
    "코드 대부분을 쉽게 작성할 수 있지만 사용자 입력은 숫자와 통화 단위로 나누어져야 하며, 코드가 다소 복잡하다. 다행스럽게도 이 작업은 str 타입의 split 메서드로 처리할 수 있다."
   ]
  },
  {
   "cell_type": "code",
   "execution_count": 30,
   "metadata": {},
   "outputs": [
    {
     "name": "stdout",
     "output_type": "stream",
     "text": [
      "Total is 16.00 USD\n"
     ]
    }
   ],
   "source": [
    "from decimal import Decimal \n",
    "\n",
    "class Money():\n",
    "    '''Moeny 클래스\n",
    "    Deicmal 값과 통화 단위를 함께 저장한다. \n",
    "    객체를 더할 때, 통화 단위가 다르면 환율을 반영한다.\n",
    "    '''\n",
    "    \n",
    "    exch_dict = {\n",
    "    'USDCAD': Decimal('0.75'), 'USDEUR': Decimal('1.16'),\n",
    "    'CADUSD': Decimal('1.33'), 'CADEUR': Decimal('1.54'),\n",
    "    'EURUSD': Decimal('0.86'), 'EURCAD': Decimal('0.65')\n",
    "}\n",
    "    def __init__(self, v = '0', units = 'USD'):\n",
    "        self.dec_amt=Decimal(v)\n",
    "        self.units=units\n",
    "        \n",
    "    def __str__(self):\n",
    "        s = str(self.dec_amt) + ' ' + self.units\n",
    "        return s\n",
    "    \n",
    "    def __repr__(self):\n",
    "        s = ('Money(' + str(self.dec_amt) + ' ' + self.units + ')')\n",
    "        return s\n",
    "    \n",
    "    def __add__(self, other):\n",
    "        '''Money 더하기 함수. \n",
    "        2개의 Money 객체를 더한다. \n",
    "        두 번째 통화가 다른 통화 단위를 갖고 있다면 \n",
    "        두 값을 더하기 전에 환율이 반영되어야 한다\n",
    "        소수 두 번째 자리로 반올림을 한다 \n",
    "        '''\n",
    "    \n",
    "        if self.units != other.units:\n",
    "            r = Money.exch_dict[self.units + other.units]\n",
    "            m1 = self.dec_amt\n",
    "            m2 = other.dec_amt * r\n",
    "            m = Money(m1 + m2, self.units)\n",
    "        else:\n",
    "            m = Money(self.dec_amt + other.dec_amt, self.units)\n",
    "        \n",
    "        m.dec_amt = round(m.dec_amt, 2)\n",
    "        return m\n",
    "    \n",
    "    def money_calc():\n",
    "        '''Money 더하기 계산기\n",
    "        빈 문자열을 입력하기 전까지, Money 객체 나열을 입력받는다.\n",
    "        빈 문자열이 입력되면 전체 합계를 출력한다.\n",
    "        '''\n",
    "        \n",
    "        n = 0\n",
    "        while True:\n",
    "            s = input('Enter money value: ')\n",
    "            s = s.strip()\n",
    "            if not s:\n",
    "                break\n",
    "            a_list = s.split()\n",
    "            d = a_list[0]\n",
    "            if len(a_list) > 1:\n",
    "                m = Money(d, a_list[1])\n",
    "            else:\n",
    "                m = Money(d)\n",
    "            if n == 0:\n",
    "                amt = m\n",
    "            else:\n",
    "                amt += m\n",
    "            n += 1\n",
    "        print('Total is', amt)\n",
    "    money_calc()"
   ]
  },
  {
   "cell_type": "markdown",
   "metadata": {},
   "source": [
    "이 함수에는 중요한 세부 동작 방식이 있다. 통화 단위의 첫 선택(첫 번째 줄에 입력한 통화 단위)을 최종 결과에도 사용한다는 것이다. 이 기능은 사용자에게 결과를 제어할 수 있게 해준다. 최종 결과를 캐나다 달러나 유로로 표현하고 싶다면 간단하게 첫 번째 입력 값의 통화 단위를 해당 통화 단위로 넣기만 하면 된다.  \n",
    "\n",
    "문제는 합계를 계속 구하는 부분인데, 합계를 매번 구하는 일반적인 방법은 최초에 0으로 초기화 한 값을 사용하는 것이다. 다음 예시를 살펴보자.  \n",
    "\n",
    "amt = Money('0')  \n",
    "\n",
    "문제는 바로 USD가 통화 단위의 기본값이라는 것이다. 그렇게 되면 프로그램의 로직에 따라 0으로 초기화를 한 선택이 이 프로그램의 모든 결과를 미국 달러로 표현하는 것으로 미리 정해진다.  \n",
    "\n",
    "우리는 이렇게 동작하는 대신 사용자가 입력한 첫 번째 값에 따라 최종 결과의 통화 단위를 결정하려고 한다. 하지만 이렇게 하려면 0으로 합계 값을 초기화하는 대신 사용자가 직접 초기화해야 한다.  \n",
    "\n",
    "이를 구현하고자 변수 n은 최초 값을 구분하기 위해 입력한 값의 개수를 저장하는 데 사용된다. 최초 값이 입력되면 변수 amt를 처음으로 생성하여 초기화한다.  \n",
    "\n"
   ]
  },
  {
   "cell_type": "code",
   "execution_count": null,
   "metadata": {},
   "outputs": [],
   "source": [
    "if n == 0:\n",
    "    amt = m\n",
    "else:\n",
    "    amt += m\n",
    "n += 1"
   ]
  },
  {
   "cell_type": "markdown",
   "metadata": {},
   "source": [
    "Money 클래스는 정수와 같이 더하기 연산이 지원되는 것을 기억하자. 이 기능은 파이썬의 일반적인 기능이다. 클래스에 \\__add__ 함수가 정의되어 있자면 \\__iadd__ 함수를 작성하지 않더라도, +와 += 연산자를 사용할 수 있게 된다.  \n",
    "\n",
    "프로그램이 실행되면 이 책에서 구현했던 다른 합계 구하기 애플리케이션과 같이 사용자에게 값을 순차적으로 입력받는다. 사용자가 빈 문자열을 입력하면 함수는 루프에서 벗어나면서 합계를 출력한다. 결과에 주목해보면, 3개의 서로 다른 통화 단위를 갖는 값이 성공적으로 더해지는 것에 주목하자. 최종 결과는 처음에 기본 단위로 입력한 값에 의해서 미국 달러로 표현되고 있다. "
   ]
  },
  {
   "cell_type": "markdown",
   "metadata": {},
   "source": [
    "### 기본 통화 설정하기  \n",
    "\n",
    "Money 클래스를 더 많은 대륙의 사람들에게 친숙하게 만들려면 미국 달러로 기본 단위를 설정하는 대신 사용자가 직접 설정할 수 있게 해야 한다. 이 기능을 구현하는 쉬운 방법은 필수적으로 저장해야 하는 클래스 변수를 설정하여 사용자가 직접 입력할 수 있게 하는 것이다.  \n",
    "\n",
    "이를 구현하기 위해 먼저 Money 클래스에 아주 쉬운 방법으로 클래스 변수를 추가해보자. "
   ]
  },
  {
   "cell_type": "code",
   "execution_count": 31,
   "metadata": {},
   "outputs": [],
   "source": [
    "class Money():\n",
    "    \n",
    "    decualt_curr = 'USD'"
   ]
  },
  {
   "cell_type": "markdown",
   "metadata": {},
   "source": [
    "그러고 나면 \\__init__ 함수를 수정해야 한다. 이것은 보기보다 복잡한데, 메서드 정의문에서 클래스 변수를 참조해야 하지만 인수 리스트에서 클래스 변수를 참조할 수 없기 때문이다. 그래서 다음 예시는 에러가 발생한다.  "
   ]
  },
  {
   "cell_type": "code",
   "execution_count": 32,
   "metadata": {},
   "outputs": [
    {
     "ename": "SyntaxError",
     "evalue": "unexpected EOF while parsing (2716300076.py, line 1)",
     "output_type": "error",
     "traceback": [
      "\u001b[0;36m  Cell \u001b[0;32mIn[32], line 1\u001b[0;36m\u001b[0m\n\u001b[0;31m    def __init__(self, v='0', units=Money.decault_curr):\u001b[0m\n\u001b[0m                                                        ^\u001b[0m\n\u001b[0;31mSyntaxError\u001b[0m\u001b[0;31m:\u001b[0m unexpected EOF while parsing\n"
     ]
    }
   ],
   "source": [
    "def __init__(self, v='0', units=Money.decault_curr):"
   ]
  },
  {
   "cell_type": "markdown",
   "metadata": {},
   "source": [
    "원하는 대로 구현하지 못하니 무척 답답하다. 하지만 다음과 같이 \\__init__ 함수 구현부에서 기본값을 defual_curr에 저장된 값으로 변경하여 구현한 코드는 완벽하게 동작한다. "
   ]
  },
  {
   "cell_type": "code",
   "execution_count": 33,
   "metadata": {},
   "outputs": [],
   "source": [
    "def __init__(self, v='0', units=''):\n",
    "    self.dec_amt = Decimal(v)\n",
    "    if not units:\n",
    "        self.units = Money.default_curr\n",
    "    else:\n",
    "        self.units = units"
   ]
  },
  {
   "cell_type": "markdown",
   "metadata": {},
   "source": [
    "init 함수에 변경한 코드 덕분에 클래스 변수 default_carr은 통화 단위의 기본값으로 동작한다. 최종적으로 money_calc 함수를 쉽게 수정할 수 있으며, 통화 단위는 첫 번째 항목으로 입력되는 값이 기본값으로 설정될 것이다. 그러기 위해 루프 3/4 지점에 코드줄 1줄 추가해야 한다. "
   ]
  },
  {
   "cell_type": "code",
   "execution_count": null,
   "metadata": {},
   "outputs": [],
   "source": [
    "if n == 0:\n",
    "    amt = m\n",
    "    Money.default_curr = m.units"
   ]
  },
  {
   "cell_type": "markdown",
   "metadata": {},
   "source": [
    "이제 애플리케이션은 기본 통화 단위를 미국 달러 대신 사용자가 직접 설정해 지정할 수 있게 되었다. 원하는 통화 단위를 첫 번째 항목으로 입력하기만 하면 된다. 가령 다음 실행 예시는 기본값을 캐나다 달러로 설정하고 있다. 그리고 중간에 다른 통화 단위가 입력되어 있어도 기본값이 여전히 캐나다 달러인것을 알 수 있다. "
   ]
  },
  {
   "cell_type": "markdown",
   "metadata": {},
   "source": [
    "### Money와 상속  \n",
    "\n",
    "Money 클래스를 만드는 최선의 방법은 무엇일까? 바로 상속이다.  \n",
    "기존 객체 타입인 Decimal을 기반으로 Money 클래스를 만드는 좀 더 자연스러운 방법은 Decimal의 하위 클래스를 만드는 상속이다.  \n",
    "\n",
    "문제는 Decimal 타입이 불변이라는 것이다. 이 특별한 도전 과제는 몇 줄의 코드로 해결할 수 있지만. 이 소스 코드를 어떻게 작성하는지는 그리 명확하지 않다.  \n",
    "\n",
    "보통 상속은 구현하기 쉽다. Money 클래스의 하위 클래스 이름을 Thingie 라고 하고, 가변 타입이라고 가정해 보자. 이 경우 다음과 같이 쉽게 작성할 수 있는 코드를 사용하면 된다.  "
   ]
  },
  {
   "cell_type": "code",
   "execution_count": null,
   "metadata": {},
   "outputs": [],
   "source": [
    "class Money(Thingie):\n",
    "    \n",
    "    def __init__(self, v, units='USD'):\n",
    "        super().__init__(v)\n",
    "        self.units = units\n",
    "            "
   ]
  },
  {
   "cell_type": "markdown",
   "metadata": {},
   "source": [
    "이 방법이 의미하는 것은 '상위 클래스 함수를 호출하여 첫 번째 인수를 초기화하지만 두 번째 인수 units는 직접 초기화하겠다.' 이다. (그리고 클래스 대부분에 이 방법을 사용할 수 있지만, Decimal은 불변 타입이기 때문에 사용할 수 없다는 것을 기억하자). 이 통화 단위는 Money 클래스가 Thingie 클래스에 추가한 별도 속성이라는 것을 기억하자.  \n",
    "\n",
    "하지만 이 방법은 Decimal과 같은 불변 클래스에는 사용할 수 없다. 대신 Money 클래스의 \\__new__ 메서드를 작성해야 한다. Money 클래스에서 상속받을 Decimal 클래스의 유산은 \\__new__에 의해 제어된다. "
   ]
  },
  {
   "cell_type": "code",
   "execution_count": 36,
   "metadata": {},
   "outputs": [
    {
     "name": "stdout",
     "output_type": "stream",
     "text": [
      "0.11 USD\n"
     ]
    }
   ],
   "source": [
    "from decimal import Decimal \n",
    "\n",
    "class Money(Decimal):\n",
    "    def __new__(cls, v, units='USD'):\n",
    "        return super(Money, cls).__new__(cls, v)\n",
    "    \n",
    "    def __init__(self, v, units='USD'):\n",
    "        self.units = units\n",
    "\n",
    "m = Money('0.11', 'USD')\n",
    "print(m, m.units)"
   ]
  },
  {
   "cell_type": "markdown",
   "metadata": {},
   "source": [
    "만약 여러분이 불변 타입의 상위 클래스를 포함한 다른 상황에서 이 코딩 기법을 적용하려면 다음을 기억하자. \\__new__ 함수를 사용하여 상위 클래스 버전의 \\__new__ 함수를 호출해야 한다는 점이다. 인수는 반드시 하위 클래스 이름이어야 하며, cls는 해당 클래스의 참조다. 이 메서드는 상위 클래스 안에서 유래한 클래스를 초기화한다. (이 경우에는 v) 상위 클래스 버전의 \\__new__가 반환하는 값을 그대로 반환해야 하는 것을 잊지말자."
   ]
  },
  {
   "cell_type": "code",
   "execution_count": 37,
   "metadata": {},
   "outputs": [],
   "source": [
    "def __new__(cls, v, units='USD'):\n",
    "    return super(Money, cls).__new__(cls, v)\n"
   ]
  },
  {
   "cell_type": "markdown",
   "metadata": {},
   "source": [
    "다른 상황을 위해 이 패턴을 일반화 시킬 수 있다. 어떤 클래스가 와도 상관없다. 다음고 같이 이름은 MyClass와 MySuperClass로 가정하고, 상위 클래스 데이터는 d로 설정할 수 있다. "
   ]
  },
  {
   "cell_type": "code",
   "execution_count": null,
   "metadata": {},
   "outputs": [],
   "source": [
    "class MyClass(MySuperClass):\n",
    "    def __new__(cla, d, other_data):\n",
    "        return super(MyClass, cls).__new__(cls, d)"
   ]
  },
  {
   "cell_type": "markdown",
   "metadata": {},
   "source": [
    "자, 이제 Money 예시로 돌아가 보자.  \n",
    "\n",
    "만약 하위 클래스가 추가한 속성이 있고 초기화되어야 한다면 여전히 \\__init__ 메서드는 명시되어야 한다 \\__init__ 메서드는 이런 속성값들을 초기화하는데 사용되어야 한다. "
   ]
  },
  {
   "cell_type": "code",
   "execution_count": 38,
   "metadata": {},
   "outputs": [],
   "source": [
    "def __init__(self, v, units='USD'):\n",
    "    self.units=units"
   ]
  },
  {
   "cell_type": "markdown",
   "metadata": {},
   "source": [
    "이런 정의문이 존재하더라도, 여전히 Decimal 에서 파생된 객체와 Money 클래스가 추가한 속성인 통화 단위를 모두 출력할 필요가 있다. "
   ]
  },
  {
   "cell_type": "code",
   "execution_count": 39,
   "metadata": {},
   "outputs": [
    {
     "name": "stdout",
     "output_type": "stream",
     "text": [
      "0.11 USD\n"
     ]
    }
   ],
   "source": [
    "print(m, m.units)"
   ]
  },
  {
   "cell_type": "markdown",
   "metadata": {},
   "source": [
    "하지만 우리는 Money 객체를 더욱 자연스럽고 직접적인 방법으로 출력하기 ㅜ이해 \\__str__ 메서드를 재정의 하여 이 상황을 개선할 수 있다. 상위 클래스 버전의 이 메서드가 많은 일을 하고 있다는 것에 주목하자. "
   ]
  },
  {
   "cell_type": "code",
   "execution_count": 40,
   "metadata": {},
   "outputs": [],
   "source": [
    "def __str__(self):\n",
    "    return super().__str__() + ' ' + self.units"
   ]
  },
  {
   "cell_type": "markdown",
   "metadata": {},
   "source": [
    "이 전형적인 예시는 불변 클래스 혹은 가변 클래스 유무와는 상관없디 \\__str__ 메서드를 재정의 할 수 있는 방법이다. "
   ]
  }
 ],
 "metadata": {
  "kernelspec": {
   "display_name": "tabnet",
   "language": "python",
   "name": "python3"
  },
  "language_info": {
   "codemirror_mode": {
    "name": "ipython",
    "version": 3
   },
   "file_extension": ".py",
   "mimetype": "text/x-python",
   "name": "python",
   "nbconvert_exporter": "python",
   "pygments_lexer": "ipython3",
   "version": "3.8.19"
  }
 },
 "nbformat": 4,
 "nbformat_minor": 2
}

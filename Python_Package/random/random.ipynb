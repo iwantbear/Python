{
 "cells": [
  {
   "cell_type": "markdown",
   "metadata": {},
   "source": [
    "### random 패키지의 개요  \n",
    "\n",
    "의사 난수는 나열된 숫자들 사이에서 무작위로 추출한 것이다. 즉, 의사-난수 를 구현하기 위해 몇 가지 상식적인 개념을 사용할 것이다.  \n",
    "\n",
    "난수는 여러 숫자 분포에서 추출할 수 있다. 이 분포는 난수가 어느 범위 안에 들어와야 하는지를 결정하며, 어느 분포에 빈번하게 나타나야 하는지를 결정한다.  \n",
    "\n",
    "예를 들어 random.randint 함수는 지정된 범위 내에 각 정수가 선택될 확률이 동일한 정수 값을 생성한다. 예를 들어 공정한 6면 주사위의 규칙을 시뮬레이션 할 수 있고, 각 숫자의 출현 빈도수가 약 6분의 1이 될 것으로 예상할 수 있다.  "
   ]
  },
  {
   "cell_type": "markdown",
   "metadata": {},
   "source": [
    "### random 함수 살펴보기  \n",
    "\n",
    "* normalvariate(mean, dev) : 종 곡선(bell curve)으로 알려진 고전적인 정규 분포를 생성한다. 높이와 너비는 다양하다. 키가 클 수도 있고, 뚱뚱할 수도 있다. 인수 mean은 값의 평균값이며, 인수 dev는 표준편차다. 대략적으로 값의 3분의2 정도가 하나의 표준 편차에 포함되는 경향이 있다(따라서 표준 편차가 클수록 종 곡선이 더 넓어진다)  \n",
    "\n",
    "* randint(a, b) : 각 정수가 선택될 확률이 동일한 a~b 범위에서 무작위 정수를 생성한다. 이는 균일한 분포다. 예를 들어 randint(1, 6)은 완벽하게 공정한 육면체 주사위 결과를 시뮬레이션 한다.  \n",
    "\n",
    "* random() : 최대 수를 제외한 0~1 범위의 무작위 부동소수점 숫자를 생성한다. 범위는 연속적이지만 분포가 균일하므로 N 하위 범위로 나누면 값이 각각 대략 1/N 확률로 떨어져야 한다  \n",
    "\n",
    "* sample(population, k) : 표본 모집단에서 임의로 k 원소를 생성한다. 모집단은 리스트, 튜플, 세트 또는 호환 가능한 컬렉션 클래스다. 딕셔너리에서 사용하려면 먼저 리스트로 변환해야 한다.  \n",
    "\n",
    "* shuffle(list) : 무작위로 리스트를 섞는다. 패키지의 모든 기능 중 가장 유용한 기능이다. 반환값은 없지만, 리스트에 저장된 항목들이 섞여서 어느 위치로든 가게 된다.  \n",
    "\n",
    "* uniform(a, b) : a와 b 범위에 무작위 부동소수점 숫자를 반환한다. 분포는 연속적이고 균일하다.  "
   ]
  },
  {
   "cell_type": "markdown",
   "metadata": {},
   "source": [
    "### 무작위 행동 테스트하기  \n",
    "\n",
    "난수 시퀀스는 다음과 같은 특징을 가져야 한다.  \n",
    "\n",
    "* 대략적으로 예상 가능 : 1에서 N까지 각 값의 생성 빈도수 테스트를 여러 번 실행하면 각 값이 대략 1/N 만큼 나올 것으로 예상해야 한다.  \n",
    "\n",
    "* 변동 : 반면 값이 변할 수도 있다는 것을 예상해야 한다. 10개의 균일한 값으로 100개의 실험 값을 구하는 경우 각 값이 정확히 1/10로 추출되기를 기대해서는 안 된다. 그렇게 되면 패턴이 너무 규칙적이고 의심스러울 정도로 무작위적이지 않다.  \n",
    "\n",
    "* 큰 N으로 변동 감소 : 실험 값이 많아질수록 실제로 추출되는 난수의 기대값이 실제 값에 점점 가까워진다고 기대해야 한다. 이른바 대수의 법칙이다.  "
   ]
  },
  {
   "cell_type": "markdown",
   "metadata": {},
   "source": [
    "이 항목들은 정량적으로 테스트하기 쉬운 것들이다. 시행 횟수가 다른 테스트를 여러 번 실행하면 실제 추출 값이 예상 값에 점점 가까워지는 것을 알 수 있다. 다음 예시에서 이를 테스트하기 위해 만든 함수를 살펴보자. "
   ]
  },
  {
   "cell_type": "code",
   "execution_count": 2,
   "metadata": {},
   "outputs": [
    {
     "name": "stdout",
     "output_type": "stream",
     "text": [
      "0: 10\t 1.0\n",
      "1: 13\t 1.3\n",
      "2: 10\t 1.0\n",
      "3: 14\t 1.4\n",
      "4: 11\t 1.1\n",
      "5: 12\t 1.2\n",
      "6: 10\t 1.0\n",
      "7: 6\t 0.6\n",
      "8: 8\t 0.8\n",
      "9: 6\t 0.6\n"
     ]
    }
   ],
   "source": [
    "import random\n",
    "\n",
    "def do_trials(n):\n",
    "    hits = [0] * 10\n",
    "    for i in range(n):\n",
    "        a = random.randint(0, 9)\n",
    "        hits[a] += 1\n",
    "    for i in range(10):\n",
    "        fss = '{}: {}\\t {:.3}'\n",
    "        print(fss.format(i, hits[i], hits[i]/(n/10)))\n",
    "        \n",
    "do_trials(100)"
   ]
  },
  {
   "cell_type": "markdown",
   "metadata": {},
   "source": [
    "이 함수는 10개의 항목을 생성하면서 시작한다. 각 항목은 난수의 생성 횟수를 담는다. 가령 hits[0]은 0의 생성 횟수를 저장하고, hits[1]은 1의 생성 횟수를 저장하며, hits[2]는 2의 생성 횟수를 저장하는 식이다.  \n",
    "\n",
    "첫 번째 루프는 n개의 0부터 9 사이의 무작위 정수를 생성한다. 그런 다음 각 숫자가 생성된 횟수를 리스트의 해당 값 항목에 누적한다. 이 루프의 핵심 문장은 당연히 random.randint다. 이 코드에서는 균일한 확률로 0부터 9까지 범위에서 정수를 생성한다.  \n",
    "\n",
    "두 번째 루프는 0부터 9까지의 각 숫자가 얼마나 많이 생성되었고, 각 숫자가 1/10씩 생성될 것이라고 예측했던 것에 비해 얼마나 생성되었는지를 보여 주는 요약 결과를 출력한다.  \n",
    "\n",
    "위 코드를 실행하면 이 기능을 사용하여 100개의 난수 생성 결과를 기록한다. 이 100개의 실험 결과로는 난수의 생성 결과가 균일하다는 것을 설득하기에는 충분하지 않다. 예상 생성 횟수 대비 실제 생성 횟수도 최저 0.6에서 최고 1.4로 올라간다. 그러나 실험을 많이 할수록 각 숫자의 실제 생성 횟수가 기대했던 n/10에 더욱 가깝다는 것을 알 수 있다. "
   ]
  },
  {
   "cell_type": "markdown",
   "metadata": {},
   "source": [
    "### 무작위-정수 게임  \n",
    "\n",
    "이 게임은 난수를 생성하여 사용자에게 알려주지 않고, 사용자가 직접 추측하여 맞추게 하는 게임이다. 사용자가 숫자를 입력할 때마다 프로그램은 '성공(Success! You win.)', 너무 높음(Too high.)' 혹은 '너무 낮음(Too los.)'를 출력한다. 프로그램이 선택하는 숫자가 매번 다르지 않다면 이 게임은 그리 흥미롭지 않을 것이다. 조금 더 나가서 이 숫자는 전혀 예상할 수 없어야 하며, 바로 이것이 난수의 핵심 포인트다.  "
   ]
  },
  {
   "cell_type": "markdown",
   "metadata": {},
   "source": [
    "이 게임의 간단한 버전을 구현한 코드를 살펴보자. 이 버전은 내부적으로 1부터 50 사이의 난수를 선택하면서 시작한다. "
   ]
  },
  {
   "cell_type": "code",
   "execution_count": 3,
   "metadata": {},
   "outputs": [
    {
     "name": "stdout",
     "output_type": "stream",
     "text": [
      "Too high. Too high. Too high. Too high. Too high. Too high. Success! You Win.\n"
     ]
    }
   ],
   "source": [
    "import random\n",
    "\n",
    "n = random.randint(1, 50)\n",
    "while True:\n",
    "    guess = int(input('Enter guess:'))\n",
    "    if guess == n:\n",
    "        print('Success! You Win.')\n",
    "        break\n",
    "    elif guess < n:\n",
    "        print('Too los.', end=' ')\n",
    "    else:\n",
    "        print('Too high.', end=' ')"
   ]
  },
  {
   "cell_type": "markdown",
   "metadata": {},
   "source": [
    "이 게임을 간단하게 실행했을 때 사용자는 게임이 끝나기 전까지 어떤 숫자가 선택되었는지 알 수 없다.  우리는 이 게임을 몇가지 방법으로 개선할 수 있다. 우선 게임이 끝날 때마다 사용자에게 다시 게임을 시작할 것인지 물을 수 있다. 다음으로 게임이 지루하다고 판단되면 언제든지 일찍 종료할 수 있게 할 수 있다. 개선된 버전을 살펴보자. "
   ]
  },
  {
   "cell_type": "code",
   "execution_count": 4,
   "metadata": {},
   "outputs": [],
   "source": [
    "import random\n",
    "\n",
    "def play_the_game():\n",
    "    n = random.randint(1, 50)\n",
    "    while True:\n",
    "        guess = int(input('Enter guess (0 to exit): '))\n",
    "        if guess == 0:\n",
    "            print('Exiting game.')\n",
    "            break\n",
    "        elif guess == n:\n",
    "            print('Success! You win.')\n",
    "            break\n",
    "        elif guess < n:\n",
    "            print('Too low.', end=' ')\n",
    "        else:\n",
    "            print('Too high', end='')\n",
    "        \n",
    "        while True:\n",
    "            play_the_game()\n",
    "            ans = input('want to play again? (Y or N): ')\n",
    "            if not ans or ans[0] in 'Nn':\n",
    "                break"
   ]
  },
  {
   "cell_type": "markdown",
   "metadata": {},
   "source": [
    "### 카드 덱 객체 만들기  \n",
    "\n",
    "shuffle 함수는 random 패키지에서 가장 유용한 함수다. 이 함수는 예상했듯이 카드 덱을 시뮬레이션 하는 데 무척 유용하다. 또한, 다른 상황에서도 확장하여 사용할 수 있다.  \n",
    "\n",
    "shuffle 동작 방식은 리스트 순서를 재정렬하여 항목들이 어느 위치에서나 나타날 수 있게 해 준다. 항목 개수가 바뀌거나 항목이 중복되지는 않는다. 가령 다음 리스트를 섞고 싶다고 가정해보자.  "
   ]
  },
  {
   "cell_type": "code",
   "execution_count": 5,
   "metadata": {},
   "outputs": [],
   "source": [
    "kings_list = ['John', 'James', 'Henry', 'Henry', 'George']"
   ]
  },
  {
   "cell_type": "markdown",
   "metadata": {},
   "source": [
    "그런 다음 random.suffle로 순서를 무작위로 조정해보자 "
   ]
  },
  {
   "cell_type": "code",
   "execution_count": 12,
   "metadata": {},
   "outputs": [
    {
     "data": {
      "text/plain": [
       "['Henry', 'James', 'John', 'George', 'Henry']"
      ]
     },
     "execution_count": 12,
     "metadata": {},
     "output_type": "execute_result"
    }
   ],
   "source": [
    "random.shuffle(kings_list)\n",
    "kings_list"
   ]
  },
  {
   "cell_type": "markdown",
   "metadata": {},
   "source": [
    "출력을 보면 변경된 순서는 상관없이 여전히 Henry는 2개 이며 John, James, George는 1개씩 보일 것이다. 한편 순서는 대부분 명확하게 변경될 것이다.  \n",
    "\n",
    "shuffling 알고리즘은 다음 예시처럼 꽤 보편적이다. "
   ]
  },
  {
   "cell_type": "code",
   "execution_count": null,
   "metadata": {},
   "outputs": [],
   "source": [
    "For I in range(0, N-2),\n",
    "    J = randint(I, N-1)\n",
    "    Swap list[I] with list{J}"
   ]
  },
  {
   "cell_type": "markdown",
   "metadata": {},
   "source": [
    "random.shuffle 함수의 동작 방식은 기존 항목의 값 모두를 메모리상에서 변경하지만 메모상의 리스트를 이동시키지는 않는다.  \n",
    "\n",
    "카드 덱의 함수를 캡슐화하는 최고의 방법 중 하나는 덱 클래스를 만들어서 덱 객체를 초기화하는데 사용하는 것이다. 지켜야 할 규칙은 다음과 같다.  \n",
    "\n",
    "* 0부터 N까지의 숫자를 담은 리스트를 준비한다. 52-카드 덱 안에는 각각의 유일한 숫자와 타입을 가진 카드가 포함된다.  \n",
    "\n",
    "* 초기화 시 덱 객체는 스스로 숫자를 섞는다(shuffle)  \n",
    "\n",
    "* 이제 사용자는 덱 객체의 '맨 위 (리스트의 시작 항목)'에서 0에서 51 사이의 숫자 카드를 한 번에 하나씩 꺼낸다.  \n",
    "\n",
    "* 모든 카드를 꺼냈다면 덱 객체는 스스로 카드를 다시 섞는다.  \n",
    "\n",
    "이 프로그램이 완성되면 객체 지향 프로그램의 좋은 예시가 될 것이다. 덱 객체 인스턴스는 내부 상태에서 관리될 것이다. 다음 코드는 원하는 크기로 자동으로 다시 섞이는 덱을 만든다. "
   ]
  },
  {
   "cell_type": "code",
   "execution_count": 14,
   "metadata": {},
   "outputs": [],
   "source": [
    "import random\n",
    "\n",
    "class Deck():\n",
    "    \n",
    "    def __init__(self, size):\n",
    "        self.card_list = [i for i in range(size)]\n",
    "        random.shuffle(self.card_list)\n",
    "        self.current_card = 0\n",
    "        self.size = size\n",
    "        \n",
    "    def deal(self):\n",
    "        if self.size - self.current_card < 1:\n",
    "            random.shuffle(self.card_list)\n",
    "            self.current_card = 0\n",
    "            print('Reshuffling...!!!')\n",
    "        self.current_card += 1\n",
    "        return self.card_list[self.current_card - 1]"
   ]
  },
  {
   "cell_type": "markdown",
   "metadata": {},
   "source": [
    "덱에서 꺼낸 값은 숫자와 타입의 유일한 조합으로 구성된 카드가 된다. "
   ]
  },
  {
   "cell_type": "code",
   "execution_count": 16,
   "metadata": {},
   "outputs": [
    {
     "name": "stdout",
     "output_type": "stream",
     "text": [
      "5 of spades\n",
      "\n",
      "9 of diamonds\n",
      "\n",
      "Q of diamonds\n",
      "\n",
      "8 of clubs\n",
      "\n",
      "6 of clubs\n",
      "\n",
      "10 of spades\n",
      "\n",
      "4 of clubs\n",
      "\n",
      "3 of clubs\n",
      "\n",
      "9 of hearts\n",
      "\n",
      "2 of hearts\n",
      "\n",
      "6 of spades\n",
      "\n",
      "A of hearts\n",
      "\n",
      "K of clubs\n",
      "\n",
      "8 of hearts\n",
      "\n",
      "10 of hearts\n",
      "\n",
      "5 of hearts\n",
      "\n",
      "K of diamonds\n",
      "\n",
      "4 of hearts\n",
      "\n",
      "K of hearts\n",
      "\n",
      "Q of clubs\n",
      "\n",
      "9 of spades\n",
      "\n",
      "5 of diamonds\n",
      "\n",
      "8 of diamonds\n",
      "\n",
      "9 of clubs\n",
      "\n",
      "4 of diamonds\n",
      "\n",
      "7 of hearts\n",
      "\n",
      "3 of diamonds\n",
      "\n",
      "A of clubs\n",
      "\n",
      "J of spades\n",
      "\n",
      "7 of diamonds\n",
      "\n",
      "2 of clubs\n",
      "\n",
      "10 of diamonds\n",
      "\n",
      "10 of clubs\n",
      "\n",
      "6 of diamonds\n",
      "\n",
      "6 of hearts\n",
      "\n",
      "A of spades\n",
      "\n",
      "5 of clubs\n",
      "\n",
      "4 of spades\n",
      "\n",
      "Q of hearts\n",
      "\n",
      "2 of spades\n",
      "\n",
      "3 of hearts\n",
      "\n",
      "K of spades\n",
      "\n",
      "8 of spades\n",
      "\n",
      "7 of clubs\n",
      "\n",
      "J of diamonds\n",
      "\n",
      "Q of spades\n",
      "\n",
      "3 of spades\n",
      "\n",
      "2 of diamonds\n",
      "\n",
      "J of hearts\n",
      "\n",
      "A of diamonds\n",
      "\n",
      "J of clubs\n",
      "\n",
      "7 of spades\n",
      "\n",
      "Reshuffling...!!!\n",
      "Q of spades\n",
      "\n",
      "4 of spades\n",
      "\n",
      "5 of hearts\n",
      "\n",
      "4 of hearts\n",
      "\n",
      "K of hearts\n",
      "\n",
      "9 of clubs\n",
      "\n",
      "6 of spades\n",
      "\n",
      "9 of hearts\n",
      "\n"
     ]
    }
   ],
   "source": [
    "ranks  = ['2', '3', '4', '5', '6', '7', '8', '9', '10', 'J', 'Q', 'K', 'A']\n",
    "suits = ['clubs', 'diamonds', 'hearts', 'spades']\n",
    "my_deck = Deck(52)\n",
    "\n",
    "# 12 포커 핸드 게임, 사용자는 덱을 섞기 전과 후의 카드를 비교할 수 있다.  \n",
    "\n",
    "for i in range(12):\n",
    "    for i in range(5):\n",
    "        d = my_deck.deal()\n",
    "        r = d % 13\n",
    "        s = d // 13\n",
    "        print(ranks[r], 'of', suits[s])\n",
    "        print()"
   ]
  },
  {
   "cell_type": "markdown",
   "metadata": {},
   "source": [
    "덱 클래스는 제약이 있다. 덱이 다시 섞이는 시점에 테이블 위에 남겨진 카드가 있을 것이다. 이 카드들은 섞이지 않는다. 대신 덱은 폑된 카드만 가지고 섞어야 한다.  \n",
    "\n",
    "테이블 위에 남겨진 카드는 카드가 뽑힌 시점에 결정된다. 카드는 신규 차례인 경우에만 폐기 리스트로 이동한다. 이런 흐름은 덱, 게임 중인 카드, 그리고 폐기 더미와 서로 관계를 맺는다.  \n",
    "\n",
    "카지노에는 흔하게 볼 수 있는 블랙잭 게임이 있다. 게임 규칙은 다음과 같다. 하나의 표준 덱을 사용하고 마지막 카드까지 뽑히고 나면 다시 섞는 것이다.  다음과 같이 덱 객체를 고쳐 보자. "
   ]
  },
  {
   "cell_type": "code",
   "execution_count": 17,
   "metadata": {},
   "outputs": [],
   "source": [
    "import random\n",
    "\n",
    "class Deck():\n",
    "    def __init__(self, size):\n",
    "        self.card_list = [i for i in range(size)]\n",
    "        self.card_in_play_list = []\n",
    "        self.discards_list = []\n",
    "        random.shuffle(self.card_list)\n",
    "        \n",
    "    def deal(self):\n",
    "        if len(self.card_list) < 1:\n",
    "            random.shuffle(self.discards_list)\n",
    "            self.card_list = self.discards_list\n",
    "            self.discard_list = []\n",
    "            print('Reshuffling...!!!')\n",
    "        new_card = self.card_in_play_list.append(new_card)\n",
    "        return new_card\n",
    "    \n",
    "    def new_hand(self):\n",
    "        self.discards_list += self.cards_in_play_list\n",
    "        self.card_in_play_list.clear()"
   ]
  },
  {
   "cell_type": "markdown",
   "metadata": {},
   "source": [
    "이 클래스 정의문은 1개의 신규 메서드 new_hand를 정의하고 있다. 이 신규 메서드는 현재 게임 중인 카드를 모두 폐기한다. 덱은 discards_list에서 카드를 추가해야 하며, cards_in_play_list의 모든 항목은 제거된다.  \n",
    "\n",
    "이제 deal 메서드의 변경 사항을 살펴보자. 이제는 덱 안의 모든 카드가 들어 있는 card_list를 그냥 섞는 대신 폐기된 더미만 섞는다. 그 다음 섞인 카드들은 card_list로 옮겨진다. 이제 새로운 덱이 된다. 그러면 discards_list의 모든 카드는 삭제된다.  \n",
    "\n",
    "테이블 위에 카드가 있을 때 카드를 섞게 되면 테이블 위의 카드는 섞이지 않기 때문에 섞은 카드의 숫자가 덱의 숫자보다 작을 것이다. 그렇다면 테이블 위에 있던 카드는 어떻게 덱으로 돌아갈 수 있을까? 간단하다. 현재 판이 끝나면 테이블 위에 있던 카드는 모두 폐기되며, 결국 다시 섞여서 덱으로 돌아가게 된다. "
   ]
  },
  {
   "cell_type": "markdown",
   "metadata": {},
   "source": [
    "### 덱에 픽토그램 추가하기  \n",
    "\n",
    "덱 클래스를 초기화할 때 단순히 숫자만 저장하는 대신, 표준 게임 카드의 작은 기호를 함께 저장할 수 있게 변경할 수 있다. 이렇게 되면 숫자 0부터 51까지의 숫자를 게임 카드의 이름으로 변환하는 코드를 작성할 필요가 없어진다. 대신 다음 코드와 같이 카드 기호를 직접 출력하면 된다. "
   ]
  },
  {
   "cell_type": "code",
   "execution_count": 18,
   "metadata": {},
   "outputs": [],
   "source": [
    "def __init__(self, n_decks=1):\n",
    "    self.card_list = [num + suit\n",
    "        for suit in '\\u2665\\u2666\\u2663\\u2660'\n",
    "        for num in 'A23456789TJQK'\n",
    "        for deck in range(n_decks)]\n",
    "    self.cards_in_play_list = []\n",
    "    self.discards_list = []\n",
    "    random.shuffle(self.card_list)"
   ]
  },
  {
   "cell_type": "markdown",
   "metadata": {},
   "source": [
    "이 프로그램은 여러 개의 표준 52-카드 덱을 생성한다. 여러 덱을 생성할 수 있으니, 라스베이거스의 6개-덱 케이스를 시뮬레이팅 하는데 좋은 방법이 될 것이다. "
   ]
  },
  {
   "cell_type": "markdown",
   "metadata": {},
   "source": [
    "다음 코드는 개선된 덱 클래스 전체 버전을 담고 있으며, 포커처럼 5개의 카드를 출력하는 작은 프로그램을 보여주고 있다. 이 버전은 6개-덱 카드 케이스를 사용한다고 가정하고 있다. 물론 원한다면 하나의 덱을 사용하도록 손쉽게 변경할 수 있다. "
   ]
  },
  {
   "cell_type": "code",
   "execution_count": 21,
   "metadata": {},
   "outputs": [
    {
     "name": "stdout",
     "output_type": "stream",
     "text": [
      "2♠ A♦ T♦ 8♠ 8♥ "
     ]
    }
   ],
   "source": [
    "import random\n",
    "\n",
    "class Deck():\n",
    "    \n",
    "    def __init__(self, n_decks=1):\n",
    "        self.card_list = [num + suit\n",
    "            for suit in '\\u2665\\u2666\\u2663\\u2660'\n",
    "            for num in 'A23456789TJQK'\n",
    "            for deck in range(n_decks)]\n",
    "        self.cards_in_play_list = []\n",
    "        self.discards_list = []\n",
    "        random.shuffle(self.card_list)\n",
    "        \n",
    "    def deal(self):\n",
    "        if len(self.card_list) < 1:\n",
    "            random.shuffle(self.discards_list)\n",
    "            self.card_list = self.display_list\n",
    "            self.discards_list = []\n",
    "            print('Reshuffling...!!!')\n",
    "        new_card = self.card_list.pop()\n",
    "        self.cards_in_play_list.append(new_card)\n",
    "        \n",
    "        return new_card\n",
    "    \n",
    "    def new_hand(self):\n",
    "        self.discards_list += self.cards_in_play_list\n",
    "        self.cards_in_play_list.clear()\n",
    "        \n",
    "dk = Deck(6)\n",
    "for i in range(5):\n",
    "    print(dk.deal(), end=' ')"
   ]
  },
  {
   "cell_type": "markdown",
   "metadata": {},
   "source": [
    "### 정규 분포 차트 작성하기  \n",
    "\n",
    "수학과 통계학에서 정규 분포는 고전적인 종 곡선이다. 자연에서 정규 분포가 이렇게 자주 발생하는 것은 단순한 요해잉 아니다. 파스칼의 삼각형도 더 깊은 층으로 내려가면 갈수록 정규 분포에 가까워진다. 이항정리가 예측한 값들도 정규 분포에 가깝다.  \n",
    "\n",
    "예를 들어 미국인의 평균 키는 대략 5피트 10인치다. 만약 이 인구에서 무작위로 사람을 추출한다면 평균적으로 남성 대부분이 이 키에서 몇 인치 이내이어야 할 것이다. 물론 특별히 키가 작거나 키가 큰 사람들도 있을 것이다. 그러나 평균에서 멀어질수록 이 특이한 수치는 더욱 드물어진다.  \n",
    "\n",
    "결과는 종 곡선이다. 모집단의 많은 비율이 평균을 둘러싸야 하며, 평균 주위가 불룩해야 한다. 정규 분포는 평균과 표준 편차 두 가지에 의해서 결정된다.  \n",
    "\n",
    "중간 값은 곡선의 중간인 평균값이다. 시그마라고도 하는 표준 편차는 곡선이 얼마나 좁은지 혹은 넓은지를 결정한다. 충분한 시간에 걸쳐 값이 밑의 표의 규칙에 따라 생성되어야 한다.  \n",
    "\n",
    "표준 편차 숫자, 인구 비율 (예상치)\n",
    "* 1, 평균적으로 68%는 평균의 1 표준 편차 내에 속해야 한다. \n",
    "* 2, 평균적으로 95%는 평균의 2 표준 편차 내에 속해야 한다. \n",
    "* 3, 평균적으로 99.7%는 평균의 3 표준 편차 내에 속해야 한다. "
   ]
  },
  {
   "cell_type": "markdown",
   "metadata": {},
   "source": [
    "위 표를 읽는 방법은 다음과 같다. 예를 들어 평균이 100이고 표준 편차가 20인 정규 분포가 있다고 가정해보자. normalvariate 함수에 의해 생성된 숫자의 약 68%는 결국 80과 120 사이에 속할 것으로 예상해야 한다. 생산되는 숫자의 95%가 40과 160 사이에 속할 것으로 예상해야 한다.  \n",
    "\n",
    "그러나 random 패키지의 모든 확률 분포는 단지 '확률적인'분포일 뿐이다. 특히 데이터가 적으면 아무것도 확실하지 않다. 이 경우에는 여기에 설명된 조건들을 고려할 때 숫자가 40에서 160 범위에 들어갈 확률은 95%다. 범위 밖으로 떨어질 수 있는 확률은 5%다.  \n",
    "\n",
    "하지만 그렇다고 해서 그런 일이 '일어날 수 없다'는 것은 아니다. 단지 5% 확률로 발생하는 사건들은 항상 일어날 수 있고, 반드시 일어난다. 그리고 100만분의 1 혹은 그 이하 확률의 사건들도 매일 일어난다.  \n",
    "\n",
    "따라서 표존 결과를 너무 적게 추출하면 종 모양의 곡선으로 보이지 않을 수 도 있다. 하지만 대수의 법칙에 따라서 표본 값을 많이 취한다면 상당히 예측 가능한 값을 얻을 수 있다.  \n",
    "\n",
    "다음 프로그램은 임의로 많은 수의 표본 결과를 허용하고, 쉽게 그래프를 그릴 수 있도록 숫자를 저장한 후 결과 그래프를 인쇄하여 대수의 법칙을 이용하도록 설계되었다."
   ]
  },
  {
   "cell_type": "code",
   "execution_count": 23,
   "metadata": {},
   "outputs": [
    {
     "name": "stdout",
     "output_type": "stream",
     "text": [
      "\n",
      "\n",
      "\n",
      "******\n",
      "******\n",
      "************\n",
      "*************************\n",
      "*************************\n",
      "**************************************\n",
      "**********************************************************************\n",
      "***************************************************\n",
      "*************************\n",
      "************\n",
      "******\n",
      "*************************\n",
      "******\n",
      "\n",
      "******\n",
      "\n",
      "\n"
     ]
    }
   ],
   "source": [
    "import random \n",
    "\n",
    "def pr_normal_chart(n):\n",
    "    hits = [0] * 20\n",
    "    for i in range(n):\n",
    "        x = random.normalvariate(100, 30)\n",
    "        j = int(x/10)\n",
    "        if 0 <= j < 20:\n",
    "            hits[j] += 1\n",
    "    for i in hits:\n",
    "        print('*' * int(i * 320 / n))\n",
    "        \n",
    "pr_normal_chart(50)"
   ]
  },
  {
   "cell_type": "markdown",
   "metadata": {},
   "source": [
    "이 함수는 normalcariate 함수를 몇 번이고 호출하여 단순한 문자-기반 그래프를 만든다. 핵심 코드는 다음과 같이 random.normalvariate를 중간 값으로 100, 표준 편차로 30을 인수로 전달하여 호출한 줄이다.  \n",
    "\n",
    "x = random.normalcariate(100, 30)  \n",
    "\n",
    "물론 표준 편차가 30이 될 필요는 없다. 이 숫자를 수정하여 실험할 수 있다. 편차가 작을수록 더 얇고 뚜렷한 그래프를 만들 수 있고, 편차가 크면 곡선이 더 평평해 보일 수 있다.  \n",
    "\n",
    "그런 다음 숫자 x를 0부터 20까지의 정수로 분할하고 변환하여 결과를 20개의 '버킷'으로 나누어서 수집한다. 표준 편차를 늘리지 않는 한 난수가 이 범위를 벗어나는 경우는 드물 것이다. 결과 x는 추출빈도 배열에 색인될 수 있도록 구분된다. 각 버킷에서 해당 범위의 숫자 추출 빈도수를 누적한다. 추출된 숫자는 320을 곱하고 n을 나누어 줄인다. 이렇게 하면 인쇄할 별표의 전체 수를 유지하면서 인수의 n은 사용자가 선택할 만큼 클 수 있게 된다. 이런 확장 기능이 없다면 별표가 화면을 넘어가지 않는 이상 n에 큰 값을 입력할 수 없다. \n",
    "\n",
    "표본이 커질수록 수학적으로 완벽한 종 곡선처럼 보이는 결과를 계속 얻을 수 있다. "
   ]
  },
  {
   "cell_type": "markdown",
   "metadata": {},
   "source": [
    "### 나만의 난수 생성 프로그램 작성하기  \n",
    "\n",
    "이 절에서는 난수 생성 프로그램을 어떻게 작성하는지 알아보겠다. 대부분의 경우 자신의 난수 생성 프로그램을 직접 작성할 필요는 없지만, 유용하게 사용할 수 있는 경우도 있다. 예를 들어 여러분이 전자 슬롯 머신이나 온라인 포커 게임과 같은 도박 장치의 코드를 작성하고 있다고 하자. 여러분의 주요 관심사는 어떤 사용자도 코드를 해독할 수 없게 하고, 다음에 무슨일이 일어날지 예측할 수 없게 하는 것이다.  \n",
    "\n",
    "random 패키지는 상당히 높은 품질의 난수 분포를 지원한다. 그러나 방사능 붕괴를 측정하는 장치와 같은 외부 숫자 난수화 장치를 사용하지 않는다면 의사-난수를 사용해야 하며, 이런 수치는 유용하기는 하지만 모든 것을 해결해 주지는 않는다. 이론상 어떤 시퀀스도 문제 있을 수 있다. 나만의 의사-난수 생성기를 쓰면 아직 아무도 깨트리지 않은 난수 발생 시퀀스를 만들어 낼 수 있다.  "
   ]
  },
  {
   "cell_type": "markdown",
   "metadata": {},
   "source": [
    "##### 난수 생성 원칙  \n",
    "\n",
    "일반적으로 의사-난수 시퀀스는 두 가지 일을 하며 충분히 임의적인 숫자를 생성할 수 있다.  \n",
    "\n",
    "* 인간이 추측하기 어렵거나 불가능한 기준을 고르는 것이다. 시스템 시간과 같은 기준은 이 목적에 적합하다. 비록 시간이 임의적이지는 않지만 마이크로초까지 측정되며, 가장 작은 숫자는 인간이 예측하기 매우 어렵다. \n",
    "\n",
    "* 의사-난수 시퀀스를 사용해서 앞에 있는 숫자에 수학적 연산을 적용하여 각 숫자를 생성한다. 여기에는 복잡한 방식으로 값이 변경될 수 있다. 이는 초깃값의 작은 차이도 결과에 큰 차이를 가져온다는 점에서 혼란스러울 수 있다. "
   ]
  },
  {
   "cell_type": "markdown",
   "metadata": {},
   "source": [
    "##### 샘플 생성기  \n",
    "\n",
    "지난 4장에서는 파이썬의 제너레이터를 쓰는 원리를 설명했다. 가장 중요한 규칙은 return문을 사용하는 대신 yield문을 사용하는 것이다. yield는 (직접 혹은 루프에서 호출되는) next 함수에 값을 제공하며, 다시 호출될 때까지 내부 상태를 유지한다.  \n",
    "\n",
    "yield를 포함하는 함수는 객체를 반환하지 않는 것처럼 보이지만, 그렇지 않다. 이터레이터 라고 불리는 제너레이터 객체를 반환한다. 제너레이터 객체는 런타임에 실제로 값을 산출 하는 것이다.  \n",
    "\n",
    "좀 이상해 보이기는 하지만 이 함수는 제너레이터가 어떻게 동작해야 하는지 묘사하는 것과 동시에, 실제로 그 함수가 반환하는 객체인 셈이다. 물론 그리 직관적이지 못하다.  \n",
    "\n",
    "0부터 42억 범위의 부동소수점 값을 생성하는 간단한 난수 생성 프로그램을 살펴보자. "
   ]
  },
  {
   "cell_type": "code",
   "execution_count": 25,
   "metadata": {},
   "outputs": [
    {
     "name": "stdout",
     "output_type": "stream",
     "text": [
      "1666027008\n",
      "1964420895\n",
      "2354815761\n",
      "744726633\n",
      "118266635\n",
      "369098666\n",
      "2311641704\n",
      "1397206964\n",
      "1687999193\n",
      "1718517349\n"
     ]
    }
   ],
   "source": [
    "import time  \n",
    "\n",
    "def gen_rand():\n",
    "    p1 = 1200556037\n",
    "    p2 = 2444555677\n",
    "    max_rand = 2 ** 32\n",
    "    \n",
    "    r = int(time.time() * 1000)\n",
    "    while True:\n",
    "        n = r \n",
    "        n *= p2\n",
    "        n %= p1\n",
    "        n += r\n",
    "        n *= p1\n",
    "        n %=p2\n",
    "        n %= max_rand\n",
    "        r = n\n",
    "        yield n\n",
    "        \n",
    "gen_obj = gen_rand()\n",
    "for i in range(10): print(next(gen_obj))\n",
    "        "
   ]
  },
  {
   "cell_type": "markdown",
   "metadata": {},
   "source": [
    "결과는 난수에 대해 명백한 토계적 테스트를 상당히 잘 만족하는 (그리고 직접 검증할 수 있는) 난수를 생성한다. 그러나 이 프로그램은 여전히 비교적 단순한 난수 생성기이기 때문에 어떤 상황에서도 최고의 성능을 제공하려는 시도는 하지 않았다. 이 생성기는 무작위성의 몇 가지 기본 원리를 준수한다."
   ]
  }
 ],
 "metadata": {
  "kernelspec": {
   "display_name": "tabnet",
   "language": "python",
   "name": "python3"
  },
  "language_info": {
   "codemirror_mode": {
    "name": "ipython",
    "version": 3
   },
   "file_extension": ".py",
   "mimetype": "text/x-python",
   "name": "python",
   "nbconvert_exporter": "python",
   "pygments_lexer": "ipython3",
   "version": "3.8.19"
  }
 },
 "nbformat": 4,
 "nbformat_minor": 2
}

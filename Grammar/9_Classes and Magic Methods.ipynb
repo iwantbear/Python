{
 "cells": [
  {
   "cell_type": "markdown",
   "metadata": {},
   "source": [
    "### 클래스와 객체 기본 문법  \n",
    "\n",
    "파이썬에서 클래스를 정의하는 기본 문법은 다음과 같다.  \n",
    "\n",
    "class 클래스_이름:\n",
    "문장  \n",
    "\n",
    "'문장'은 동일한 들여쓰기를 1개 이상의 줄로 작성된 코드로 구성된다. 문장에는 내용이 반드시 있어야 하며, 연산 처리할 것이 없다는 의미로 pass 키워드를 사용할 수 있다. 이는 추후에 클래스를 정의할때 유용하다.  \n",
    "\n",
    "파이썬에서 클래스를 가지고 '인스턴스'라고 부르는 클래스 실체를 원하는 만큼 생성할 수 있다. 다음 코드는 Car 클래스 인스턴스를 여러 개 생성한다.  \n",
    "\n",
    "car1 = Car()\n",
    "car2 = Car()\n",
    "car3 = Car()  \n",
    "\n",
    "혹은 다음과 같이 Dog 클래스 인스턴스를 생성할 수도 있다.  \n",
    "\n",
    "my_dog = Dog()\n",
    "yr_dog = Dog()  \n",
    "\n",
    "지금까지 이 인스턴스들은 아무 행위도 하지 않았다. 하지만 곧 바뀔 것이다. 일단 클래스에 변수 몇개를 생성해보자. 이 변수들은 '클래스 변수'가 될 것이며, 모든 객체에 공유된다. 예를 들어 Car 클래스를 다음과 같이 정의했다고 가정해보자. "
   ]
  },
  {
   "cell_type": "code",
   "execution_count": 3,
   "metadata": {},
   "outputs": [
    {
     "name": "stdout",
     "output_type": "stream",
     "text": [
      "car1.accel =  3.0\n",
      "car2.accel =  3.0\n",
      "car1.mpg =  25\n",
      "car2.mpg =  25\n"
     ]
    }
   ],
   "source": [
    "class Car:\n",
    "    accel = 3.0\n",
    "    mpg = 25\n",
    "\n",
    "car1 = Car()\n",
    "car2 = Car()\n",
    "\n",
    "print('car1.accel = ', car1.accel)\n",
    "print('car2.accel = ', car2.accel)\n",
    "print('car1.mpg = ', car1.mpg)\n",
    "print('car2.mpg = ', car2.mpg)"
   ]
  },
  {
   "cell_type": "markdown",
   "metadata": {},
   "source": [
    "이 코드에는 독특한 기능이 숨겨져 있다. Car 인스턴스는 accel 변수에 해당 인스턴스만을 위한 값을 대입할 수 있다. 이는 3.0이었던 클래스 변수 값을 교체한다.  \n",
    "다음과 같이 my_car 인스턴스를 생성하여 accel 변수에 값을 대입해보자. "
   ]
  },
  {
   "cell_type": "code",
   "execution_count": 4,
   "metadata": {},
   "outputs": [],
   "source": [
    "my_car = Car()\n",
    "yr_car = Car()\n",
    "my_car.accel = 5.0"
   ]
  },
  {
   "cell_type": "markdown",
   "metadata": {},
   "source": [
    "my_car 객체의 accel 변수가 인스턴스 변수로 변경되었고, yr_car 객체에서는 여전히 클래스 변수를 참조하고 있다. "
   ]
  },
  {
   "cell_type": "markdown",
   "metadata": {},
   "source": [
    "### 인스턴스 변수에 대해 더 알아보기  \n",
    "\n",
    "다른 프로그래밍 언어와는 다르게 파이썬의 인스턴스 변수는 클래스 안에서 직접 생성되지 않는다. 대신 필요할 때마다 바로 생성되거나 __init__ 메서드 안에서 생성된다.  \n",
    "\n",
    "인스턴스 변수를 생성하는 일반적인 규칙은 다른 변수를 생성하는 것과 같다. 즉, 값을 대입하는 것이다. 인스턴스 변수에 값을 대입하기 위해서는 점 기호(.) 문법을 사용해야 한다.  \n",
    "\n",
    "객체.변수_이름 = 값  \n",
    "\n"
   ]
  },
  {
   "cell_type": "markdown",
   "metadata": {},
   "source": [
    "예를 들어 정의한 Dog 클래스로 생성한 인스턴스에 여러 속성을 추가하면, 이 속성들이 바로 인스턴스 변수가 된다. "
   ]
  },
  {
   "cell_type": "code",
   "execution_count": 6,
   "metadata": {},
   "outputs": [
    {
     "name": "stdout",
     "output_type": "stream",
     "text": [
      "Breed and age are Great Dane and 5.\n"
     ]
    }
   ],
   "source": [
    "class Dog:\n",
    "    pass\n",
    "\n",
    "my_dog = Dog()\n",
    "my_dog.name = 'Champ the Wonder Dog'  \n",
    "my_dog.breed = 'Great Dane'\n",
    "my_dog.age = 5 \n",
    "\n",
    "print('Breed and age are {} and {}.'.format(my_dog.breed, my_dog.age))"
   ]
  },
  {
   "cell_type": "markdown",
   "metadata": {},
   "source": [
    "이제 데이터 변수 3개가 my_dog 객체에 할당되었다. "
   ]
  },
  {
   "cell_type": "markdown",
   "metadata": {},
   "source": [
    "이 시점에 name, breed, age는 my_dog객체만을 위한 속성이다. 다른 Dog 객체들은 동일한 속성을 가질 필요가 없다(이것이 바로 인스턴스 변수). 하지만 필요한 시점에 언제든지 동일한 속성을 다른 객체에 추가할 수 있다. "
   ]
  },
  {
   "cell_type": "code",
   "execution_count": 7,
   "metadata": {},
   "outputs": [],
   "source": [
    "yr_dog = Dog()\n",
    "top_dog = Dog()\n",
    "hot_dog = Dog()\n",
    "hot_dog.name = 'Hotty Totty'\n",
    "hot_dog.breed = 'Dachshund'"
   ]
  },
  {
   "cell_type": "markdown",
   "metadata": {},
   "source": [
    "__init__ 메서드를 활용하면 동일한 클래스의 모든 객체가 같은 속성들(인스턴스 변수)을 가질 수 있다. "
   ]
  },
  {
   "cell_type": "markdown",
   "metadata": {},
   "source": [
    "### \\__init__ 메서드와 \\__new__메서드  \n",
    "\n",
    "\\__init__ 메서드를 정의한 모든 클래스는 객체가 생성될 때 자동으로 \\__init__ 메서드가 호출된다. 클래스의 모든 인스턴스가 도일한 공통 변수들의 집합을 가지면서 각 인스턴스 별로 독립적인 값을 지니게 할 때 사용할 수 있다.  \n",
    "\n"
   ]
  },
  {
   "cell_type": "code",
   "execution_count": null,
   "metadata": {},
   "outputs": [],
   "source": [
    "class 클래스_이름:\n",
    "    def __init__(self, args):\n",
    "        문장\n",
    "        "
   ]
  },
  {
   "cell_type": "markdown",
   "metadata": {},
   "source": [
    "self 라는 단어는 반드시 사용해야 하는 키워드가 아니며, 생성된 객체를 참조하기 위해 첫 번째 인수로 배치된다. 이 인수는 규칙에 맞는 어떤 이름이라도 상관없지만, 보편적으로 self를 사용한다  \n",
    "\n",
    "args는 인수가 여러 개일 수도 있다는 것을 뜻하며(여러 개일 때는 쉼표로 구분), 객체를 생성할 때 넘겨준다. 예를 들어 Dog 클래스의 정의문을 \\__init__ 메서드를 포함하게 변경할 수 있다. "
   ]
  },
  {
   "cell_type": "code",
   "execution_count": 8,
   "metadata": {},
   "outputs": [],
   "source": [
    "class Dog:\n",
    "    def __init__(self, name, breed, age):\n",
    "        self.name = name\n",
    "        self.breed = breed\n",
    "        self.age = age "
   ]
  },
  {
   "cell_type": "markdown",
   "metadata": {},
   "source": [
    "이제 클래스 Dog의 객체를 생성할 때 반드시 인수를 3개 입력해야 하며, 이 인수들은 \\__init__ 메서드로 전달된다. 다음 코드를 살펴보자."
   ]
  },
  {
   "cell_type": "code",
   "execution_count": 9,
   "metadata": {},
   "outputs": [],
   "source": [
    "top_dog = Dog('Hansome Dan', 'Bulldog', 10)"
   ]
  },
  {
   "cell_type": "markdown",
   "metadata": {},
   "source": [
    "위 코드는 top_dog 객체를 생성했으며, \\__init__ 메서드를 호출했다.  \n",
    "이 경우 \\__init__ 메서드는 다음 코드를 실행한 것과 같이 인스턴스 변수들에 값을 대입한다. "
   ]
  },
  {
   "cell_type": "code",
   "execution_count": null,
   "metadata": {},
   "outputs": [],
   "source": [
    "top_dog.name = 'Handsome Dan'\n",
    "top_dog.breed = 'Bulldog'\n",
    "top_dog.age = 10"
   ]
  },
  {
   "cell_type": "markdown",
   "metadata": {},
   "source": [
    "이와 유사하게 good_dog 객체를 생성하면서 상위 클래스의 함수에 다른 데이터를 넘겨줄 수도 있다. "
   ]
  },
  {
   "cell_type": "code",
   "execution_count": 10,
   "metadata": {},
   "outputs": [],
   "source": [
    "good_dog = Dog('WonderBoy', 'Collie', 11)"
   ]
  },
  {
   "cell_type": "markdown",
   "metadata": {},
   "source": [
    "\\__init__ 메서드는 다른 초기화 작업도 할 수 있지만, 보통 다음과 같은 패턴으로 작성한다."
   ]
  },
  {
   "cell_type": "code",
   "execution_count": null,
   "metadata": {},
   "outputs": [],
   "source": [
    "class 클래스_이름:\n",
    "    def __init__(self, 인수1, 인수2):\n",
    "        self.인스턴스_변수1 = 인수1\n",
    "        self.인스턴스_변수2 = 인수2"
   ]
  },
  {
   "cell_type": "markdown",
   "metadata": {},
   "source": [
    "파이썬은 사실 \\__new__ 메서드로 객체를 생성하지만 대부분 초기화 작업은 \\__init__ 메서드 에서드 수행된다. 단 다음 두 가지 예외 상황을 제외하고..  \n",
    "\n",
    "* 메모리 할당을 위한 특별한 기법을 사용하는 경우, 이 고급 기법은 소수 개발자에게만 필요\n",
    "* 하위 클래스가 불변이거나 내장 클래스인 경우, 이 경우가 조금 더 일반적이다."
   ]
  },
  {
   "cell_type": "markdown",
   "metadata": {},
   "source": [
    "### 클래스와 선행 참조 문제  \n",
    "\n",
    "파이썬 함수가 선행 참조 이슈가 있듯이, 파이선 클래스도 같은 이슈가 있다.  \n",
    "클래스가 반드시 인스턴스화되기 전에 정의되어야 한다는 뜻이다. 클래스를 인스턴스화 한다는 것은 객체를 생성한다는 뜻이다.  \n",
    "\n",
    "다음 코드는 클래스의 선행 참조 문제를 보여준다."
   ]
  },
  {
   "cell_type": "code",
   "execution_count": null,
   "metadata": {},
   "outputs": [],
   "source": [
    "class Marriage:\n",
    "    def __init__(self):\n",
    "        self.wife = Person('f')\n",
    "        self.husband = Person('m')\n",
    "        \n",
    "a_marriage = Marriage()\n",
    "\n",
    "class Person:\n",
    "    def __init__(self, gender):\n",
    "        self.gender = gender"
   ]
  },
  {
   "cell_type": "markdown",
   "metadata": {},
   "source": [
    "위 코드는 문제가 있는데, 일단 클래스 정의문을 포함한 첫 몇줄은 실행되면서 클래스 Marriage를 유효한 클래스로 만든다. 하지만 여섯 번째 줄에서 이 클래스를 인스턴스화(실제 객체 a_marriage 생성 시도)할 때 문제가 생긴다.  \n",
    "\n",
    "\n",
    "객체가 생성되면서 \\__init__ 메서드가 호출되고, Person 클래스의 객체인 wife와 husband를 생성하는 부분이 문제다. Person 클래스는 아직 정의되지 않았고, 새로운 객체를 생성할 수 없다."
   ]
  },
  {
   "cell_type": "code",
   "execution_count": 12,
   "metadata": {},
   "outputs": [],
   "source": [
    "class Marriage:\n",
    "    def __init__(self):\n",
    "        self.wife = Person('f')\n",
    "        self.husband = Person('m')\n",
    "\n",
    "class Person:\n",
    "    def __init__(self, gender):\n",
    "        self.gender = gender\n",
    "        \n",
    "a_marriage = Marriage()"
   ]
  },
  {
   "cell_type": "markdown",
   "metadata": {},
   "source": [
    "a_marriage 객체를 코드의 끝으로 옮기면 된다. 이렇게 하면 두 클래스 모두 인스턴스화 되기 전에 정의된다.  \n",
    "\n",
    "일반적으로 클래스를 위한 선행 참조 이슈는 다음 몇 가지 규칙을 지키면 문제가 되지 않는다.  \n",
    "\n",
    "* 반드시 모든 클래스를 인스턴스화 하기 전에 정의해야 한다. 이것이 핵심 규칙이다.  \n",
    "* 클래스 상호 간에 인스턴스화를 하거나 스스로 인스턴스를 만드는 클래스를 주의해야한다.  \n",
    "* 클래스가 다른 클래스를 (단방향으로) 포함하거나 클래스 인스턴스 참조를 지니는 경우는 일반적으로 문제가 되지 않지만 상호 동시 참조는 주의해야 한다. "
   ]
  },
  {
   "cell_type": "markdown",
   "metadata": {},
   "source": [
    "### 메서드 기본  \n",
    "\n",
    "메서드는 여러 측면에서 기본적인 함수와 구분된다.  \n",
    "첫째, 메서드는 클래스 정의문 안에서 정의된다. 다음과 같은 코드는 메서드를 호출하고 있다는 것을 의미한다.  \n",
    "\n",
    "* my_obj.a_method(12)  \n",
    "\n",
    "둘쨰, 메서드는 항상 인스턴스를 통해 호출되며, 숨겨진 인수가 전달된다. 해당 객체의 참조 'self'라고 불리는 친구  \n",
    "\n",
    "다음 문법을 보면 반드시 클래스 정의문 내부에서 정의해야 하는 메서드 정의문과 해당 메서드 호출 방법이 서로 일치하지 않다는 것을 알 수 있다. "
   ]
  },
  {
   "cell_type": "code",
   "execution_count": null,
   "metadata": {},
   "outputs": [],
   "source": [
    "class 클래스_이름:\n",
    "    def 메서드_이름(self, 인수1, 인수2, 인수3, ...):\n",
    "        문장\n",
    "\n",
    "객체_이름 = 클래스_이름()\n",
    "객체_이름.메서드_이름(인수1, 인수2, 인수3,...)"
   ]
  },
  {
   "cell_type": "markdown",
   "metadata": {},
   "source": [
    "메서드 정의문에는 숨겨진 첫 번째 인수인 self가 있는 반면, 메서드를 호출할 때는 존재하지 않는다. 따라서 함수를 호출할때 정의문에 인수가 하나 더 많은것이다.  \n",
    "\n",
    "다음 클래스 정의문 예제를 살펴보자. "
   ]
  },
  {
   "cell_type": "code",
   "execution_count": 13,
   "metadata": {},
   "outputs": [],
   "source": [
    "class Pretty:\n",
    "    \n",
    "    def __init__(self, prefix):\n",
    "        self.prefix = prefix\n",
    "        \n",
    "    def print_me(self, a, b, c):\n",
    "        print(self.prefix, a, sep='')\n",
    "        print(self.prefix, b, sep='')\n",
    "        print(self.prefix, c, sep='')"
   ]
  },
  {
   "cell_type": "markdown",
   "metadata": {},
   "source": [
    "Pretty 클래스를 만들었으니, 이제 인스턴스를 생성하고 사용하면서 테스트해 보자. 메서드 호출시에는 정의할 때 사용한 인수 개수보다 1개 적은 인수를 집어넣고 있다는 것에 주목하자. 정의문에는 self를 명시적으로 포함하지만 호출할 때는 인수에 넣지 않기 때문이다."
   ]
  },
  {
   "cell_type": "code",
   "execution_count": 14,
   "metadata": {},
   "outputs": [
    {
     "name": "stdout",
     "output_type": "stream",
     "text": [
      "-->10\n",
      "-->20\n",
      "-->30\n"
     ]
    }
   ],
   "source": [
    "printer = Pretty('-->')\n",
    "printer.print_me(10, 20, 30)"
   ]
  },
  {
   "cell_type": "markdown",
   "metadata": {},
   "source": [
    "메서드 안에서 메서드가 속한 인스턴스 자체는 항상 self로 참조할 수 있으며, 인스턴스 변수는 'self.변수이름'으로 참조할 수 있다는 것을 기억하자"
   ]
  },
  {
   "cell_type": "markdown",
   "metadata": {},
   "source": [
    "### 전역 변수/메서드와 지역 변수/메서드  \n",
    "\n",
    "전통적으로 객체 지향 언어를 상요하는 목적 중 하나는 캡슐화다. 캡슐화는 클래스 내부 내용이 바깥 세상에 노출되지 못하게 한다.  \n",
    "\n",
    "파이썬의 철학은 이 사상과 대치된다. 스크립팅 언어인 파이썬은 모든 것을 노출하는 경향이 있으며, 모든 것을 볼 수 있다. 다른 언어에 비해 보안성이나 타입 확인 능력이 부족하다.  \n",
    "\n",
    "하지만 파이썬은 유용한 규약을 따르고 있다. 변수와 메서드 이름이 언더스코어 1개로 시작하면 이는 내부용이라는 뜻이다. 게다가 언더스코어 2개로 시작하는 것은 맹글링 이라고 불리는 기법으로 의도하지 않은 접근을 통제한다. 이 장 후반에서 설명하겠지만, 이 메서드들은 '매직 메서드'가 아니라고 가정한다.  \n",
    "\n",
    "간단한 예제로 이 기법들이 어떻게 동작하는지 확인해 보자. 다음 클래스 정의문에서 변수 x와 변수 y는 외부에서 인스턴스를 통해 접근할 수 있지만, __z는 접근할 수 없다. 반면 클래스 내부에서는 모든 변수 3개(__z)에 접근할 수 있다. "
   ]
  },
  {
   "cell_type": "code",
   "execution_count": 19,
   "metadata": {},
   "outputs": [
    {
     "data": {
      "text/plain": [
       "10"
      ]
     },
     "execution_count": 19,
     "metadata": {},
     "output_type": "execute_result"
    }
   ],
   "source": [
    "class Odd:\n",
    "    def __init__(self):\n",
    "        self.x = 10\n",
    "        self.y = 20\n",
    "        self.__z = 30\n",
    "        \n",
    "    def pr(self):\n",
    "        print('__z = ', self.__z)\n",
    "        \n",
    "o = Odd()\n",
    "o.x"
   ]
  },
  {
   "cell_type": "markdown",
   "metadata": {},
   "source": [
    "주어진 이 클래스 정의문이라면 다음 코드는 완벽하게 유효하며, 기대한 대로 정확하게 동작한다.  \n",
    "\n",
    "하지만 o.__z 는 예외가 발생한다 (에러)  \n",
    "\n",
    "에러가 발생하는 이유는 파이썬이 변수 __z를 클래스 이름과 변수 이름의 조합으로 훼손한 이름으로 교체하기 때문이다.  \n",
    "\n",
    "하지만 __z는 여전히 동일한 클래스의 메서드 정의문 안에서 맹글링 없이 접근이 가능하다. 그렇기 때문에 메서드 pr이 여전히 동작하는 것이다. 변수와 메서드 이름은 동일한 클래스에서 항상 접근할 수 있다. 하지만 파이썬에서는 클래스 내부 참조를 보장하기 위해 self를 반드시 사용해야 한다는 것을 기억해야한다. "
   ]
  },
  {
   "cell_type": "markdown",
   "metadata": {},
   "source": [
    "### 상속  \n",
    "\n",
    "파이썬은 '하위 클래스 만들기'로 상속을 지원한다. 작성한 프로그램에서 사용하는 메서드 대부분을 담고 있는 Mammal 클래스가 있다고 가정해 보자. 이런 메서드들 중 일부를 추가하거나 변경할 필요가 생겼다. 가령 Mammal 인스턴스가 할 수 있는 모든 것을 하면서 더 많은 기능을 추가한 Dog 클래스를 만들고 싶다고 해 보자.  \n",
    "\n",
    "하나의 상위 클래스를 단일 상속하는 문법부터 살펴보겠다.  "
   ]
  },
  {
   "cell_type": "code",
   "execution_count": null,
   "metadata": {},
   "outputs": [],
   "source": [
    "class 클래스_이름(상위_클래스):\n",
    "    문장"
   ]
  },
  {
   "cell_type": "markdown",
   "metadata": {},
   "source": [
    "이렇게 만들어진 클래스는 상위 클래스의 모든 클래스 변수와 메서드들을 상속받게 된다. 물론 신규 변수나 메서드 정의문을 추가할 수도 잇고, 기존 정의문을 재정의할 수도 있다.  \n",
    "\n",
    "파이썬의 모든 변수와 메서드 이름은 다형적이다. 이름은 실행되기 전까지 확정되지 않는다. 따라서 어떤 객체의 어떤 메서드라도 호출할 수 있으며, 코드가 실행될 때 변수와 메서드 이름이 정확하게 확정될 것이다.  \n",
    "\n",
    "예를 들어 다음 클래스 구조를 살펴보면 Mammal 상위 클래스와 Dog, Cat 하위 클래스가 2개가 있다. 하위 클래스는 Mammal의 \\__init__ 함수와 call_out 메서드를 상속받지만, 각 구현체는 각자의 speak 메서드를 지니고 있다.  \n",
    "\n"
   ]
  },
  {
   "cell_type": "code",
   "execution_count": 20,
   "metadata": {},
   "outputs": [
    {
     "name": "stdout",
     "output_type": "stream",
     "text": [
      "Purrrrr!!!!\n",
      "Purrrrr!!!!\n",
      "Purrrrr!!!!\n"
     ]
    }
   ],
   "source": [
    "class Mammal:\n",
    "    def __init__(self, name, size):\n",
    "        self.name = name\n",
    "        self.size = size\n",
    "        \n",
    "    def speak(self):\n",
    "        print('My name is', name)\n",
    "        \n",
    "    def call_out(self):\n",
    "        self.speak()\n",
    "        self.speak()\n",
    "        self.speak()\n",
    "        \n",
    "class Dog(Mammal):\n",
    "    def speak(self):\n",
    "        print('ARF!!')\n",
    "        \n",
    "class Cat(Mammal):\n",
    "    def speak(self):\n",
    "        print('Purrrrr!!!!')\n",
    "        \n",
    "\n",
    "my_cat = Cat('Precious', 17.5)\n",
    "my_cat.call_out()"
   ]
  },
  {
   "cell_type": "markdown",
   "metadata": {},
   "source": [
    "Dog와 Cat 클래스는 \\__init__ 메서드를 상속받는다. 하위 클래스가 상위 클래스의 \\__init__ 정의문을 최대한 활용하면서 추가적인 초기화 작업이 필요하다면 하위 클래스에서 새로운 \\__init__ 메서드 정의문을 추가하되, 상위 클래스 버전의 \\__init__ 메서드를 호출하는 것이다. 결국 상속을 간접적으로 했어도, 모든 상위 클래스 초기화 메서드를 호출할 수 있게 된다.  \n",
    "\n",
    "super().\\__init__  \n",
    "\n"
   ]
  },
  {
   "cell_type": "markdown",
   "metadata": {},
   "source": [
    "에를 들어 Dog.\\__init__ 정의문은 변수 breed를 스스로 초기화하고, super().\\__init__ 을 호출하여 초기화 나머지 부분을 수행한다  "
   ]
  },
  {
   "cell_type": "code",
   "execution_count": 21,
   "metadata": {},
   "outputs": [],
   "source": [
    "class Dog(Mammal):\n",
    "    def speak(self):\n",
    "        print('ARF!')\n",
    "        \n",
    "    def __init__(self, name, size, breed):\n",
    "        super().__init(name, size)\n",
    "        self.bredd = breed"
   ]
  },
  {
   "cell_type": "markdown",
   "metadata": {},
   "source": [
    "### 다중 상속  \n",
    "\n",
    "파이썬의 유연한 문법은 다중 상속을 지원한다. 이는 클래스를 생성할 때, 2개 이상의 상위 클래스를 상속받을 수 있다는 것이다.  \n",
    "\n",
    "class 클래스_이름(상위_클래스1, 상위_클래스2,...):  \n",
    "문장  \n",
    "\n",
    "다음 예시에서는 Dog 클래스가 Mammal 클래스뿐만 아니라 다른 클래스 2개도 함께 상속받고 있다. "
   ]
  },
  {
   "cell_type": "code",
   "execution_count": null,
   "metadata": {},
   "outputs": [],
   "source": [
    "class Dog(Mammal, Pet, Carnivore):\n",
    "    def speck(slef):\n",
    "        print('ARF!')\n",
    "        \n",
    "    def __init__(self, name, size, breed):\n",
    "        Mammal.__init__(self, name, size)\n",
    "        self.breed = breed"
   ]
  },
  {
   "cell_type": "markdown",
   "metadata": {},
   "source": [
    "현재 Dog 클래스는 Mamml 클래스뿐만이 아니라, Pet과 Carnivore 클래스를 상속받게 된다, 따라서 Dog의 모든 인스턴스는(모든 Dog 객체는)자동으로 Mammal과 같이 Pet과 Carnivore 클래스의 속성을 지니게 된다. "
   ]
  },
  {
   "cell_type": "markdown",
   "metadata": {},
   "source": [
    "Dog 클래스 초기화 함수에서는 Mammal.\\__init__ 메서드만 호출한다. 다른 상위 클래스의 초기화 함수는 언제든지 추가될 수 있다. 가령 다음과 같이 가족 별칭을 Pet.\\__init__ 의 인수로 전달하여 초기화 할 수 있다. "
   ]
  },
  {
   "cell_type": "code",
   "execution_count": null,
   "metadata": {},
   "outputs": [],
   "source": [
    "def __init__(self, name, size, nickname, breed):\n",
    "    Mammal.__init__(self, name, size)\n",
    "    Pet.__init__(self, nickname)\n",
    "    self.breed = breed"
   ]
  },
  {
   "cell_type": "markdown",
   "metadata": {},
   "source": [
    "다중 상속을 사용하면 충돌이 발생할 수 있다. 가령 3개의 서로 다른 상위 클래스를 상속받는 클래스를 작성하고 있다면 상위 클래스들 중에 같은 메서드나 같은 클래스 변수를 정의하지 않는 이상 문제가 발생하지 않을 것이다.  \n",
    "하지만 상위 클래스 간에 동일한 메서드나 클래스 변수 이름을 사용한다면 충돌이 발생한다. "
   ]
  },
  {
   "cell_type": "markdown",
   "metadata": {},
   "source": [
    "### 매직 메서드 개요  \n",
    "\n",
    "파이썬은 의미를 미리 정의한 여러 메서드 이름이 있다. 이 모든 이름은 언더스코어 2개로 시작하고 끝난다 (던더 메서드 라고 부름). 그러니 메서드 이름을 지을때 언더스코어 2개를 아예 사용하지 않는다면 이 이름들과 충돌하지 않는다.  \n",
    "\n",
    "미리 정의된 이름을 사용하는 메서드를 '매직'메서드라고도 부른다. 이 메서드는 다른 메서드와 같은 방식으로 호출되지만, 특정 조건에 따라 자동으로 호출되기도 한다.  \n",
    "\n",
    "가령 \\__init__ 메서드는 해당 클래스의 인스턴스가 생성될 때마다 자동으로 호출되며, 인스턴스 변수에 각 인수(self는 제외)를 대입한다.  \n",
    "\n",
    "메서드들의 정보  \n",
    "\n",
    "* \\__init__과 \\__new__ 메서드는 객체가 초기화되고 생성될 때 자동으로 호출된다  \n",
    "* 객체 표현 메서드 (\\__format__,\\__str__,\\__repr__ )  \n",
    "* 비교 메서드 (\\__eq__(일치 여부 확인), \\__gt__(greater than), \\__lt(less than)등)  \n",
    "* 산술 연산자 메서드 (\\__add__, \\__sub__, \\__mult__, 나눗셈 메서드와 \\__pow__)  \n",
    "* 단항 산술 연산자 메서드 (\\__pos__, \\__neg__, \\__abs__, \\__round__,\\__floor__, \\__ceil__, \\__trunc__)  \n",
    "* 비트 연산자 메서드 (\\__add__, \\__or__, \\__lshift__등) : 정수타입(int)에만 사용할 수 있으며 잘 사용하지 않음  \n",
    "* 리플렉션 메서드 (\\__radd__, \\__rsub__, \\__rmul__과 r로 시작하는 메서드들): 이 메서드들은 A 클래스가 B 클래스와 연산처리를 할때, B클래스가 A클래스를 알지 못할 때 필요하다. 이 메서드는 객체가 연산자 우측에 위치한 피 연산자일때만 사용가능하다.  \n",
    "* 교체 대입-연산 메서드 (\\__iadd__, \\__isub__, \\__imul__과 i로 시작하는 메서드) : 이 메서드들은 +=와 같은 대입 연산 처리를 지원한다. 해당 변수 값을 연산 처리와 함께 바로 교체하는 이점을 갖는다. 하지만 이 메서드를 직접 구현하지 않아도 기본적으로 별다른 작업 없이 += 기능을 사용할 수 있다. \n",
    "* 변환 메서드 (\\__int__,\\__float__,\\__complex__,\\__hex__,\\__orc__,\\__index__,\\__bool__)  \n",
    "* 컬렉션-클래스 메서드 (\\__len__, \\__getitem__,\\__setitem__,\\__delitem__,\\__contains__,\\__iter__,\\__next__): 자체 컬렉션을 생성할 수 있게 해준다. \n",
    "* 문맥과 피클링 메서드 (\\__getstate__,\\__setstate__): 일반적으로 객체느 해당 객체에 포함된 모든 컴포넌트를 직렬화 할 수 있다는 전제하에 직렬화가 가능하다. 이 메서드는 특수 상황에서만 사용된다  \n",
    "* \\__call__ 메서드: 클래스의 인스턴스를 함수처럼 직접 호출할 수 있게 만들때 사용한다."
   ]
  },
  {
   "cell_type": "markdown",
   "metadata": {},
   "source": [
    "### 매직 메서드 상세  \n",
    "\n",
    "##### 파이썬 클래스의 문자열 표현  \n",
    "\n",
    "\\__format__,\\__str__,\\__repr__을 포함한 메서드 몇 가지로 클래스 자체를 표현할 수 있다. 포맷 함수는 포맷 규약을 출력 대상 객체에 전달한다. 올바른 결과는 전달한 포맷 규약 기반으로 표현한 문자열이 반환되는 것이다. 가령 다음과 같이 함수를 호출해보자.  \n",
    "\n",
    "* format(6, 'b')  \n",
    "\n",
    "파이썬은 이 함수가 호출되면 정수 클래스 int의 \\__format__ 메서드를 호출하면서 포맷 규약으로 문자열 'b'를 전달한다. 메서드는 정수 6의 바이너리 표현을 반환한다  \n",
    "\n",
    "'110'  \n",
    "\n",
    "문자열을 표현할때 일반적인 내부 흐름을 요약해보자  \n",
    "\n",
    "* format 함수는 객체의 \\__format__ 메서드 호출을 시도하며, 필요 시 포맷 규약을 전달한다. 이 메서드를 구현한다는 것은 클래스가 새로 정의된 포맷으로 표현한 문자열을 반환한다는 것을 의미한다. 기본 동작 방식은 \\__str__ 메서드를 호출하는 것이다  \n",
    "* print 함수는 객체를 출력하기 위해 해당 객체의 \\__str__메서드를 호출한다. 다시 말하면 객체 클래스의 \\__str__ 메서드를 호출하는 것이다. 만약 \\__str__이 정의되지 않았다면 기본적으로 해당 클래스의 \\__repr__을 호출한다  \n",
    "* \\__repr__ 메서드는 파이썬 코드에서 표현하는 것과 같이 객체 표준 표현 방식의 문자열을 반환한다. 이 메서드는 대게 \\__str__과 동일하게 동작하지만 항상 그렇지는 않다. 우리는 이 메서드를 IDLE에서 직접 호출하거나 r 혹은 !r을 사용해서 호출할 수 있다. \n",
    "* 최종적으로 객체 클래스(최상위 상위 클래스)의 \\__repr__ 메서드가 기본 동작으로 호출될 수도 있다. 이 메서드는 객체의 클래스를 표현하는 단순한 문장을 출력한다 \n"
   ]
  },
  {
   "cell_type": "markdown",
   "metadata": {},
   "source": [
    "##### 객체 표현 메서드  \n",
    "\n",
    "* \\__format__(self, spec): format 함수에 객체를 직접 전달했을때 호출된다. 반드시 포매팅된 문자를 반환하며 소수의 클래스가 이 메서드를 직접 구현한다  \n",
    "\n",
    "* \\__str__(self) : 사용자가 원하는 형태로 객체 데이터를 담은 문자열을 반환한다. 가령 어려분이 직접 Fraction 클래스를 만들었다면 three-forths를 3/4으로 출력할 수 있을 것이다. 만약 직접 구현하지 않았다면 기본적으로 \\__repr__ 메서드를 호출한다 \n",
    "\n",
    "* \\__repr__(self) : \\__str__ 메서드와 비슷하지만 조금 다른 목적으로 만들어졌다. 이 메서드는 파이썬 코드에서 표현하는 것과 동일하게, 객체 표준 표현 방식으로 문자열을 반환해야 한다. 만약 이 메서드를 구현하면서 \\__str__을 구현하지 않았다면, 이 메서드가 두 메서드의 문자열 표현 방식을 결정한다 \n",
    "\n",
    "* \\__hash__(self) : hash 함수에 객체가 인수로 주어졌을 때 호출된다. 해시 코드를 생성하여 해당 객체 타입을 데이터 딕셔너리에서 키로 사용할 수 있게 해 준다. 이 메서드는 반드시 정수를 반환해야 한다. 이상적으로는 이 정수가 가능한 한 무작위로 선정되어 비슷한 값을 가진 객체이더라도 해시 코드가 동일하면 안된다. 하지만 두 값이 같다면 반드시 같은 해시 코드를 생성해야 한다  \n",
    "\n",
    "* \\__bool__(self) : 불리언 변환 메서드, 이 메서드는 모든 boll 함수를 호출하고 나면 항상 호출된다. while 문이나 if 문과 같은 제어문의 조건식에 객체만 등장하는 경우에도 호출된다. 제대로 동작하면 True 혹은 False를 반환한다. 객체가 비었거나 None이거나 0값을 가지는 경우에만 False를 반환한다.  \n",
    "조건이 필요한 모든 상황에 어떤 객체도 사용할 수 있다. \\__bool__ 메서드가 전혀 구현되어 있지 않다면 True를 반환하는 것이 기본 동작 방식이다. 그러니 만약 특정 상황에서 False를 반환하고 싶다면 직접 구현해야 한다  \n",
    "\n",
    "* \\__nonzero__(self): 이 함수는 파이썬 2.0에서 지원하던 불리언 변환 메서드다. 파이썬 3.0에서는 불리언 변환을 하려면 반드시 \\__bool__ 을 구현해야 한다 "
   ]
  },
  {
   "cell_type": "markdown",
   "metadata": {},
   "source": [
    "다음 예제는 Point 클래스에서 \\__str__과 \\__repr__ 메서드를 \\__init__과 함께 작성하는 이론적인 방법을 보여준다.  \n",
    "이해를 돕기 위해 \\__str__과 \\__repr__ 메서드는 조금 다른 포맷의 문자열을 반환하고 있다."
   ]
  },
  {
   "cell_type": "code",
   "execution_count": 25,
   "metadata": {},
   "outputs": [
    {
     "name": "stdout",
     "output_type": "stream",
     "text": [
      "3, 4\n"
     ]
    }
   ],
   "source": [
    "class Point:\n",
    "    big_prime_1 = 1200556037\n",
    "    big_prime_2 = 2444555677\n",
    "    \n",
    "    def __init__(self, x = 0, y = 0):\n",
    "        self.x = x\n",
    "        self.y = y\n",
    "        \n",
    "    def __str__(self):\n",
    "        s = str(self.x) + ', '\n",
    "        s += str(self.y)\n",
    "        return s\n",
    "    \n",
    "    def __repr__(self):\n",
    "        s = 'Point(' + str(self.x) + ', '\n",
    "        s += str(self.y) + ')'\n",
    "        return s\n",
    "    \n",
    "    def __hash__(self):\n",
    "        n = self.x * big_prime_1\n",
    "        return (n + self.y) % big_prime_2\n",
    "    \n",
    "    def __bool__(self):\n",
    "        return x and y\n",
    "    \n",
    "pt = Point(3, 4)\n",
    "pt\n",
    "print(pt)"
   ]
  },
  {
   "cell_type": "markdown",
   "metadata": {},
   "source": [
    "IDLE에 pt를 직접 호출하면 해당 객체의 대표 표현 방식으로 출력하기 위해 객체 클래스의 \\__repr__ 메서드를 호출하게 된다. 하지만 pt가 print 함수의 인수로 주어지면 print 함수는 객체의 표준 문자열 표현 방식으로 출력하기 위해 \\__str__ 메서드를 호출한다. "
   ]
  },
  {
   "cell_type": "markdown",
   "metadata": {},
   "source": [
    "##### 비교 메서드  \n",
    "\n",
    "비교 메서드는 클래스 객체를 ==(같다), !=(같지 않다), 부등식(>,<,>=,<=)을 사용하여 서로 비교할 수 있게 해 준다. 최소한 객체가 서로 동일하다는 것을 테스트하는 메서드를 직접 구현하는 것이 좋다. 그렇지 않으면 == 의 기본 동작은 is 연산이 될 것이기 때문이다.  \n",
    "\n",
    "비교 연산자는 책이나 ㅇ니터넷, 몇몇 곳에서 설명했듯이 별난 점이 있다. 공식 사양은 이런 정보 대부분을 설명하고 있지만, 모든 동작 결과를 표현하고 있지는 않다.  \n",
    "파이썬 비교 연산자의 특별한 기능들을 알아보자.  \n",
    "\n",
    "* 클래스의 객체들을 정렬하고 싶다면 미만 연산자(<)를 정의하라. 가령 클래스의 객체들을 컬렉션에 넣고 정렬하려면 동일 클래스의 다른 객체들과 비교하는 \\__lt__ 메서드를 구현할 수 있다. 이렇게 하면 min,max와 같이 sort 메서드도 사용할 수 있다.  \n",
    "\n",
    "* 하지만 컬렉션이 서로 다른 클래스의 객체들을 동시에 가지고 있다면 어떻게 비교할 것인가? 물론 비교할 수 있다. 비교 클래스는 리플렉션 연산자(객체가 연산자의 우측에 있는 경우에 어떻게 동작하는지 정의하는)를 가지고 있지 않다. 하지만 대칭이라는 더 나은 것을 가지고 있다. \n",
    "\n",
    "* 파이썬은 리플렉션 연산자 대신 대칭 규칙을 적용하여 리플렉션이 수행된다. 만약 A > B 라면 파이썬은 B < A라고 추론한다 만약 여러분이 \\__lt__와 \\__gt__의 조합을 구현했더라도 사실상 \\__lt__가 양쪽 방향을 정의하는 셈이다. \n",
    "\n",
    "* 이 규칙은 모든 메서드를 구현할 필요 없이 자동으로 여러 연산자를 가질 수 있게 한다.  \n",
    "\n",
    "파이썬 2.0에서는 모든 비교 연산자를 지원하기 위해 단 하나의 메서드인 \\__cmp__를 구현할 필요가 있지만 파이썬 3.0에서는 이 기능을 더 이상 지원하지 않는다."
   ]
  },
  {
   "cell_type": "markdown",
   "metadata": {},
   "source": [
    "다음 코드 예제는 파이썬 3.0에서 같은 클래스의 객체들에 적용되는 모든 비교 연산자를 지원하기 위해 구현해야 할 최소 분량의 코드다. 이 클래스 정의문으로 Dog 객체들만 담고 있는 컬렉션은 정렬이 가능해진다 "
   ]
  },
  {
   "cell_type": "code",
   "execution_count": 26,
   "metadata": {},
   "outputs": [],
   "source": [
    "class Dog:\n",
    "    def __init__(self, n):\n",
    "        self.n = n\n",
    "    \n",
    "    def __eq__(self, other):\n",
    "        '''==를 구현하면 !=를 자동으로 얻는다.'''\n",
    "        return self.n == other.n\n",
    "    \n",
    "    def __lt__(self, other):\n",
    "        '''<를 구현하면 >를 자동으로 얻는다.'''\n",
    "        return self.n < other.n\n",
    "    \n",
    "    def __le__(self, other):\n",
    "        '''<=를 구현하면 >=를 자동으로 얻는다.'''\n",
    "        return self.n <= other.n\n",
    "        "
   ]
  },
  {
   "cell_type": "markdown",
   "metadata": {},
   "source": [
    "파이썬 비교 매직 메서드  \n",
    "\n",
    "* \\__cmp__(self, other) : 파이썬 3.0 이상에서는 사용하지 않는다. 2.0에서 객체와 비교하여 -1(미만), 0(동일), 1(초과) 을 반환하는 코드를 구현하는데 사용한다 \n",
    "\n",
    "* \\__eq__(self, other) : 동일함 테스트, 데이터가 같은지 확인하기 위해 사용하는 == 연산자를 사용할 때 호출된다. True 혹은 False를 반환한다. 만약 구현되지 않았다면 파이썬은 is 연산자로 '동일함'을 테스트한다 \n",
    "\n",
    "* \\__ne__(self, other) : 동일하지 않다는 것을 테스트 하는 != 연산자를 사용할 때 호출된다. 다른 메서드들과 마찬가지로 True 혹은 False를 반환한다.  \n",
    "메서드가 구현되지 않았다면 파이썬은 동일함 테스트를 호출하여 로직을 반대로 수행한다. 따라서 \\__eq__ 메서드를 구현하는 것만으로도 충분하다  \n",
    "\n",
    "* \\__gt__(self, other) : 초과여부 테스트. > 연산자 사용 시 호출된다. 동일 클래스의 객체들을 비교하고 싶다면 대칭 규칙에 따라 이 연산자는 구현할 필요 없이 얻을 수 있다.  \n",
    "\n",
    "* \\__lt__(self, other) : 미만 여부 테스트, < 연산자 사용 시 호출된다. 컬렉션의 객체를 정렬하기 ㅜ이해 이 비교 연산자만 구하면 된다. 다른 클래스의 객체와 함께 정렬하고 싶다면 \\__gt__ 도 구현할 필요가 있을 수 있다.  \n",
    "\n",
    "* \\__ge__(self, other) : 이상 여부 테스트, 클래스의 객체들에 적용되는 >= 연산자 사용시 호출된다. 이 연산자는 \\__eq__와 \\__gt__ 메서드를 구현했다고 해서 자동으로 제공되지 않는다. 대신 각 비교 연산자를 반드시 별도로 구현해야 한다. 단 대칭 규칙에 의하여 \\__le__를 구현하면 자동으로 이 기능을 얻을 수 있다 (같은 클래스의 객체들을 비교해야 한다)  \n",
    "\n",
    "* \\__le__(self, other) : 이하 여부 테스트, 클래스의 객체들에 적용되는 <= 연산자 사용시 호출된다. 이 연산자는 \\__eq__와 \\__lt__ 메서드를 구현했다고 해서 자동으로 제공되지 않는다. 대신 각 비교 연산자를 반드시 별도로 구현해야 한다. 단 대칭 규칙에 의하여 \\__ge__를 구현하면 자동으로 이 기능을 얻을 수 있다 (같은 클래스의 객체들을 비교해야 한다)"
   ]
  },
  {
   "cell_type": "markdown",
   "metadata": {},
   "source": [
    "이제 어떤 객체라도 서로 정렬할 수 있게 만드는 파이썬 비교 기능의 대칭 규칙이 어떻게 동작하는지, 그리고 어떻게 <가 크고 작음을 동시에 비교할 수 있게 하는지 살펴보겠다.  \n",
    "\n",
    "파이썬의 비교 규칙은 다음과 같다고 가정한다  \n",
    "* A > B 면 B < A 다\n",
    "* A < B 면 B > A 다 \n",
    "* A >= B 면 B <= A 다\n",
    "* A <= B 면 B >= A 다\n",
    "* A == B 면 B == A다 (추가로 A != B는 사실이 아니라는 것)"
   ]
  },
  {
   "cell_type": "markdown",
   "metadata": {},
   "source": [
    "동일 클래스의 객체끼리만 비교하고 싶다고 가정해 보자. 이 경우는 비교 연산자 절반을 자동으로 확보할 수 있기 때문에 더 적은 코드를 작성할 수 있다.  \n",
    "\n",
    "조금 더 도전적인 이슈를 생각해 보자. 숫자들을 정렬하고 싶다고 해 보자. 문제는 (수많은 클래스 중) int, float, Decimal, Fraction 클래스의 코드에 접근할 수 없다는 것이다.\n",
    "\n",
    "Dog 클래스가 있다고 해보자. Dog 객체를 int 와 서로 정렬하게 하려면 다음과 같은 비교가 가능해야 한다.  \n",
    "\n",
    "Dog < Dog\n",
    "Dog < int\n",
    "int < Dog  \n",
    "\n",
    "\\__gt__를 구현하면 마지막 줄의 int < Dog는 자동으로 비교 가능해진다  \n"
   ]
  },
  {
   "cell_type": "markdown",
   "metadata": {},
   "source": [
    "다음 코드에 숫자와 상호 정렬할 수 있는 Dog 클래스 예제가 있다. 또한, 인스턴스 변수 d를 초기화하는 방법에 따라 Dog 클래스는 문자열과도 상호 정렬할 수 있다. '상호 정렬' 할 수 있다는 것은 다른 객체들 처럼 같은 리스트 안에 객체들을 넣고, 전체를 정렬할 수 있다는 것을 의미한다. Dog 클래스는 숫자 혹은 문자열과 함께 리스트에 저장된다고 하더라도 정렬이 가능하다. "
   ]
  },
  {
   "cell_type": "code",
   "execution_count": 29,
   "metadata": {},
   "outputs": [
    {
     "data": {
      "text/plain": [
       "[-20, Dog(1), 3, Dog(5), Dog(10), 50, 100]"
      ]
     },
     "execution_count": 29,
     "metadata": {},
     "output_type": "execute_result"
    }
   ],
   "source": [
    "class Dog:\n",
    "    def __init__(self, d):\n",
    "        self.d = d\n",
    "    \n",
    "    def __gt__(self, other):\n",
    "        '''Greater than(>). 대칭 규칙에 의해 \n",
    "        less-than 비교를 제공한다. \n",
    "        A > B면 B < A다.'''\n",
    "        if type(other) == Dog:\n",
    "            return self.d > other.d\n",
    "        else:\n",
    "            return self.d > other\n",
    "        \n",
    "    def __lt__(self, other):\n",
    "        '''Less than(<). 숫자와 마찬가지로 \n",
    "        이 메서드는 동일 클래스 객체 간 \n",
    "        비교를 제공한다.'''\n",
    "        if type(other) == Dog:\n",
    "            return self.d < other.d\n",
    "        else:\n",
    "            return self.d < other\n",
    "    \n",
    "    #__repr__을 정의하는 것은 __str__도 갖게 되는 것이다.\n",
    "    def __repr__(self):\n",
    "        return \"Dog(\" + str(self.d) + \")\"\n",
    "\n",
    "d1, d5, d10 = Dog(1), Dog(5), Dog(10)\n",
    "a_list = [50, d5, 100, d1, -20, d10, 3]\n",
    "a_list.sort()\n",
    "a_list"
   ]
  },
  {
   "cell_type": "markdown",
   "metadata": {},
   "source": [
    "##### 산술 연산자 메서드  \n",
    "\n",
    "밑의 표는 산술 연산자나 산술 함수를 지원하는 매직 메서드의 요약이다. 이 메서드들을 포함한 특정 클래스가 포인트나 매트릭스와 같은 수학 객체를 표현하고 있다면 무척 흥미로울 것이다. 반면 더하기 기호는 문자열 클래스나 다른 클래스의 연결 연산자 역할을 한다  \n",
    "\n",
    "* \\__add__(self, other): 덧셈, 이 메서드는 클래스의 인스턴스가 증가 연산자(+) 의 좌측에 있을 때 호출된다. other 인수는 연산자 우측에 위치한 참조다.  \n",
    "\n",
    "* \\__sub__(self, other): 뺄셈, 이 메서드는 클래스의 인스턴스가 뺴기 연산자(-)의 좌측에 있을떄 호출된다 other 인수는 연산자 우측에 위치한 참조다.  \n",
    "\n",
    "* \\__mul__(self, other): 곱셈, 이 메서드는 클래스의 인스턴스가 곱하기 연산자(*)의 좌측에 있을 때 호출된다. other 인수는 연산자 우측에 위치한 참조다.  \n",
    "\n",
    "* \\__floordiv(self, other): 정수 나눗셈, 이 메서드는 정수 나눗셈 연산자(//)의 좌측에 클래스 인스턴스가 위치할 때 호출되며, 결괏값의 소수점을 버린 정수(나눗셈의 몫)를 반환한다 other 인수는 연산자 우측에 위치한 참조다. \n",
    "\n",
    "* \\__truediv__(self, other): 일반 나눗셈, 이 메서드는 일반 나눗셈 연산자(/) 좌측에 클래스 인스턴스가 위치할 때 호출되며, 결괏값의 소수점을 버리지 않은 실수 값 그대로를 반환한다. other 인수는 연산자 우측에 위치한 참조다.  \n",
    "\n",
    "* \\__divmod__(self, other): divmod 함수가 수행하는 나눗셈이며, 몫과 나머지 2개의 값을 지는 튜플을 반환한다. other 인수는 연산자 우측에 위치한 제수(divisor)다. 가령 divmod(17, 2)를 호출하면 튜플(8, 1)을 반환한다. 17을 제수 2로 나눈 몫이 8이고 나머지가 1이기 때문이다.  \n",
    "\n",
    "* \\__pow__(self, other): 제곱함수, 이 메서드는 제곱 연산자(**)가 어떤 객체를 특정 횟수 만큼 곱하려고 할때 호출된다. 가령 2 ** 4 는 숫자 2를 네번 곱하기 때문에 값이 16이다. other 인수는 함수에 인수로 전달되는 참조다. "
   ]
  },
  {
   "cell_type": "markdown",
   "metadata": {},
   "source": [
    "예를 들어 특정 클래스의 \\__add__ 메서드는 한 객체가 다른 객체에 추가될 때 호출된다. 이는 객체가 연산자 좌측에 위치한다고 가정할 때 이야기다. 반면 객체가 연산자 우측에 있다면 리플렉션 메서드가 호출될 것이다 (이경우는 \\__radd__다.) "
   ]
  },
  {
   "cell_type": "markdown",
   "metadata": {},
   "source": [
    "밑의 코드는 fractions 패키지의 Fraction 클래스를 사용한 코드다."
   ]
  },
  {
   "cell_type": "code",
   "execution_count": 31,
   "metadata": {},
   "outputs": [
    {
     "name": "stdout",
     "output_type": "stream",
     "text": [
      "3/2\n",
      "5/2\n"
     ]
    }
   ],
   "source": [
    "import fractions\n",
    "\n",
    "f = fractions.Fraction(1, 2)\n",
    "print(f + 1)  # add 연산자 호출\n",
    "print(2 + f)  # radd 연산자 호출\n",
    "\n"
   ]
  },
  {
   "cell_type": "markdown",
   "metadata": {},
   "source": [
    "밑의 코드는 가상의 Point 클래스는 산술 연산자를 위한 매직 메서드들을 어떻게 구현할 수 있을지 보여주는 예시다 "
   ]
  },
  {
   "cell_type": "code",
   "execution_count": 35,
   "metadata": {},
   "outputs": [],
   "source": [
    "class Point:\n",
    "    def __init__(self, x, y):\n",
    "        self.x = x\n",
    "        self.y = y\n",
    "    \n",
    "    def __add__(self, other):\n",
    "        '''self와 other의 x, y 좌표를 각각 더한 신규 포인트 반환.'''\n",
    "        newx = self.x + other.x\n",
    "        newy = self.y + other.y\n",
    "        return Point(newx, newy)\n",
    "    \n",
    "    def __sub__(self, other):\n",
    "        '''두 포인트의 거리 반환.'''\n",
    "        dx = self.x - other.x\n",
    "        dy = self.y - other.y\n",
    "        return Point(dx * dx + dy * dy) ** 0.5\n",
    "    \n",
    "    def __mul__(self, other):\n",
    "        '''Point 곱하기 스칼라 숫자 n.'''\n",
    "        newx = self.x * n\n",
    "        newy = self.y * n\n",
    "        return Point(newx, newy)\n",
    "    \n",
    "pt1 = Point(10, 15)\n",
    "pt2 = Point(0, 5)\n",
    "x = pt1 + pt2\n"
   ]
  },
  {
   "cell_type": "markdown",
   "metadata": {},
   "source": [
    "pt1 + p2는 pt1 객체의 \\__add__ 메서드를 호출하게 한다. 이 메서드가 호출되면 self는 pt1 객체 자체의 참족 ㅏ되며, other는 객체 pt2의 참조가 된다. 호출 결과는 신규 Point값이 되며, 변수 x에 대입된다.  \n",
    "이 경우 두 포인트를 더하는 것은 서로 좌표를 더하는 것이다. 결과 데이터로 신규 Point 객체가 반환된다.  \n",
    "\n",
    "뺄셈 기호(-)는 이 경우 거리 연산자로 번역된다. 메서드는 두 포인트의 거리를 계산하여 하나의 부동소수점 값으로 반환한다.   \n",
    "\n",
    "마지막으로 곱셈 시호(*)는 좌측 피연산자 (self)를 Point 객체로 가정하며 1, 5 혹은 10과 같은 스칼라 값이 우측에 위치한다. 이 메서드는 Point의 각 값을 우측 정수(n)로 곱한 신규 Point 객체를 반환한다.  \n",
    "\n",
    "다음 문법은 주어진 클래스의 신규 객체를 어떻게 생성하는지 다시 한 번 보여준다.  \n",
    "\n",
    "* 클래스_이름(인수)  \n",
    "\n",
    "이 문법은 해당 클래스의 \\__init__ 메서드에 '인수'를 전달하여 '클래스_이름'의 신규 인스턴스를 생성한다  "
   ]
  },
  {
   "cell_type": "markdown",
   "metadata": {},
   "source": [
    "##### 단항 산술 연산자  \n",
    "\n",
    "이 카테고리에 있는 메서드들은 숫자와 같이 캡슐화된 클래스에서 구현되지만 포인트와 매트릭스와 같은 다른 수학적 객체를 참조할 수 있다.  \n",
    "\n",
    "단항 산술 연산자를 위한 매직 메서드  \n",
    "\n",
    "* \\__pos__(self) : 단항 양수 부호, 이 메서드는 피 연산자 하나에 덧셈 기호(+)가 있는 경우 호출된다. 이 연산자는 완결성을 보장하기 위해 제공되기 때문에 객체를 원래 상태 그대로 반환하는 것 외에는 다른 추가 작업을 수행하는 경우가 드물다  \n",
    "\n",
    "* \\__neg__(self) : 단항 음수 부호, 이 메서드는 피연산자 하나에 뺄셈 기호(-)가 있는 경우 호출된다.  \n",
    "\n",
    "* \\__abs__(self) : 절댓값, 클래스 객체에 abs 함수가 적용된 경우 호출된다.  \n",
    "\n",
    "* \\__invert__(self) : 비트 반전, 모든 비트에 위치한 1은 0으로, 0은 1로 바꾼 값을 생성한다 이는 물결기호(~) 연산자 사용 시 호출된다. 비트 보수 혹은 1의 보수로 불리기도 한다  \n",
    "\n",
    "* \\__bool__(self) : 값을 불리언으로 변환한다. bool() 뿐만이 아니라, not이나 조건문에 응답하는 제어 구조와 같은 논리 연산자를 사용하는 경우에도 호출된다. 이 메서드를 정의하지 않으면 True가 기본적으로 반환된다  \n",
    "\n",
    "* \\__round__(self, n) : 반올림 함수, 이 함수는 소수점 자릿수를 제한하여 반올림하는 함수다. 선택적으로 추가할 수 있는 인수 n은 반올림을 몇 번째 소수점까지 할지 명시한다. 생략하면 가장 가까운 정수로 반올림한다  \n",
    "\n",
    "* \\__floor__(self) : 내림함수. 객체의 값보다 작은 가장 큰 정수를 반환한다. 이 메서드는 match 패키지의 match.ceil 함수에 의해 호출된다.  \n",
    "\n",
    "* \\__trunc__(self) : 소수점 버림 함수. 이 메서드는 \\__floor__ 함수와 비슷하지만 반올림을 수행하는 대신 단순히 소수점의 값을 버리면서 내림 혹은 올림을 수행한다 가령 -3.5는 -3.0으로 올림이 되지만, 3.5는 3.0으로 내림이 된다.  \n",
    "이 메서드는 math 패키지의 math.trunc 함수에 의해 호출된다. "
   ]
  },
  {
   "cell_type": "markdown",
   "metadata": {},
   "source": [
    "단항 메서드를 구현하면 바이너리 메서드와 같이 신규 객체(인스턴스)를 생성하여 반환할 것이라고 기대한다. 일반적으로 동일한 타입의 객체를 반환해야 한다  \n",
    "\n",
    "앞서 소개한 Point 클래스는 이런 매직 메서드 일부를 사용할 수 있는 수학 객체다.  \n",
    "이를 위해 다음 코드를 기존 Point 클래스 정의문에 추가해보자 "
   ]
  },
  {
   "cell_type": "code",
   "execution_count": 36,
   "metadata": {},
   "outputs": [
    {
     "name": "stdout",
     "output_type": "stream",
     "text": [
      "-3, -4\n"
     ]
    }
   ],
   "source": [
    "class Point:\n",
    "    def __init__(self, x, y):\n",
    "        self.x = x\n",
    "        self.y = y\n",
    "    \n",
    "    def __add__(self, other):\n",
    "        '''self와 other의 x, y 좌표를 각각 더한 신규 포인트 반환.'''\n",
    "        newx = self.x + other.x\n",
    "        newy = self.y + other.y\n",
    "        return Point(newx, newy)\n",
    "    \n",
    "    def __sub__(self, other):\n",
    "        '''두 포인트의 거리 반환.'''\n",
    "        dx = self.x - other.x\n",
    "        dy = self.y - other.y\n",
    "        return Point(dx * dx + dy * dy) ** 0.5\n",
    "    \n",
    "    def __mul__(self, other):\n",
    "        '''Point 곱하기 스칼라 숫자 n.'''\n",
    "        newx = self.x * n\n",
    "        newy = self.y * n\n",
    "        return Point(newx, newy)\n",
    "    \n",
    "    def __neg__(self):\n",
    "        newx = -self.x\n",
    "        newy = -self.y\n",
    "        return Point(newx, newy)\n",
    "    \n",
    "pt1 = Point(3, 4)\n",
    "pt2 = -pt1\n",
    "print(pt2.x, ', ', pt2.y, sep='')"
   ]
  },
  {
   "cell_type": "markdown",
   "metadata": {},
   "source": [
    "예를 들어 다음 표현식은 ㅡmy_point 내부 값을 변경하겠다는 의미가 아니다. 대신 새로운 값을 생성하여 대입하거나 사용하겠다는 것을 의미한다  \n",
    "\n",
    "* -my_point  \n",
    "\n",
    "이제 우리는 신규 Point 인스턴스 (Point 객체)를 생성할 수 있으며, 산술 음수 부호(-)를 사용할 수 있다.  \n",
    "\n",
    "위 코드의 결과는 3,4로 설정한 Point 인스턴스의 산술적 음수를 출력한다. 이 음수는 Point의 신규 인스턴스이며, 변수 pt2에 대입된다  \n",
    "\n",
    "매직 메서드를 직접 호출하여 테스트할 수도 있다. 가령 다음과 같이 \\__trunc__ 메서드를 정의문에 추가했다고 가정해보자  "
   ]
  },
  {
   "cell_type": "code",
   "execution_count": 41,
   "metadata": {},
   "outputs": [
    {
     "name": "stdout",
     "output_type": "stream",
     "text": [
      "5 ,  -6\n"
     ]
    }
   ],
   "source": [
    "import math\n",
    "\n",
    "class Point:\n",
    "    def __init__(self, x, y):\n",
    "        self.x = x\n",
    "        self.y = y\n",
    "    \n",
    "    def __add__(self, other):\n",
    "        '''self와 other의 x, y 좌표를 각각 더한 신규 포인트 반환.'''\n",
    "        newx = self.x + other.x\n",
    "        newy = self.y + other.y\n",
    "        return Point(newx, newy)\n",
    "    \n",
    "    def __sub__(self, other):\n",
    "        '''두 포인트의 거리 반환.'''\n",
    "        dx = self.x - other.x\n",
    "        dy = self.y - other.y\n",
    "        return Point(dx * dx + dy * dy) ** 0.5\n",
    "    \n",
    "    def __mul__(self, other):\n",
    "        '''Point 곱하기 스칼라 숫자 n.'''\n",
    "        newx = self.x * n\n",
    "        newy = self.y * n\n",
    "        return Point(newx, newy)\n",
    "    \n",
    "    def __neg__(self):\n",
    "        newx = -self.x\n",
    "        newy = -self.y\n",
    "        return Point(newx, newy)\n",
    "    \n",
    "    def __trunc__(self):\n",
    "        newx = self.x.__trunc__()\n",
    "        newy = self.y.__trunc__()\n",
    "        return Point(newx, newy)\n",
    "\n",
    "pt1 = Point(5.5, -6.6)\n",
    "pt2 = math.trunc(pt1)\n",
    "print(pt2.x, ', ', pt2.y, sep=' ')"
   ]
  },
  {
   "cell_type": "markdown",
   "metadata": {},
   "source": [
    "##### 리플렉션(역방향) 메서드  \n",
    "\n",
    "이 메서드는 객체가 표현식에서 연산자의 우측에 있을 때 (혹은 두 번째 인수일 때) 호출된다.  \n",
    "\n",
    "다음과 같이 서로 다른 클래스 2개를 더하는 표현식이 있다고 가정해보자.  \n",
    "\n",
    "fido = Dog()  \n",
    "precious = Cat()  \n",
    "print(fido + precious)  \n",
    "\n",
    "파이썬은 표현식 fido + precious 를 만나면 Dog 클래스가 \\__add__  메서드를 구현했는지 확인한다. 다음과 같이 몇 가지 방법으로 동작할 것이다 . \n",
    "\n",
    "* 좌측 피연산자가 \\__add__ 메서드를 구현했고, NotImplemented가 아닌 값을 반환한다. 그러면 우측 피연산자의 어떤 메서드도 호출되지 않는다.  \n",
    "\n",
    "* 좌측 피연산자가 (혹은 피연산자의 클래스가) \\__add__ 메서드를 구현하지 않았다. 이 경우 파이썬은 우측 피연산자가 \\__radd__ 메서드를 구현했는지 확인한다.  \n",
    "\n",
    "* 좌측 피연산자가 \\__add__ 메서드를 구현했지만, 우측 피연산자와 같은 객체를 다루지 않는다. 짐작건대 \\__add__ 메서드가 우측 피연산자의 타입을 확인하고 다음과 같이 결정한다. \"이 클래스의 객체에는 덧셈 연산자(+)가 지원되지 않는다.\" 이 경우 NotImplemented가 반환된다. 그러면 파이썬은 우측 피연산자에 \\__radd__가 구현되었는지 확인한다 . \n",
    "\n",
    "리플렉션 연산자를 위한 매직 메서드  \n",
    "\n",
    "* \\__radd__(self, other) : 우측 덧셈 연산자, 이 메서드는 우측 피연산자가 이 메서드를 정의하고, 좌측 피연산자가 \\__add__를 정의하지 않았거나 NotImplemented를 반환하는 경우 덧셈을 수행한다.  \n",
    "\n",
    "* \\__rsub__(self, other) : 우측 뺄셈 연산자, 이 메서드는 우측 피연산자가 이 메서드를 정의하고, 좌측 피연산자가 \\__sub__를 정의하지 않았거나 NotImplemented를 반환하는 경우 뺄셈을 수행한다.  \n",
    "\n",
    "* \\__rmul__(self, other) : 우측 곱셈 연산자, 이 메서드는 우측 피연산자가 이 메서드를 정의하고, 좌측 피연산자가 \\__mul__을 정의하지 않았거나 NotImplemented를 반환하는 경우 곱셈을 수행한다.  \n",
    "\n",
    "* \\__rfloordiv__(self, other) : 우측 정수 나눗셈 연산자(//) 이 메서드는 우측 피연산자가 이 메서드를 정의하고, 좌측 피연산자가 \\__div__를 정의하지 않았거나 NotImplemented를 반환하는 경우 일반 나눗셈을 수행한다. 신규 객체가 될 수도 있는 나눗셈 결과를 반환해야 한다  \n",
    "\n",
    "* \\__rtruediv__(self, other) : 우측 나눗ㅅㅁ 연산자 (//), 이 메서드는 우측 피연산자가 이 메서드를 정의하고, 좌측 피연산자가 \\__div__를 정의하지 않았거나 NotImplemented를 반환하는 경우 일반 나눗셈 (/) 을 수행한다. 신규 객체가 될 수도 있는 나눗셈 결과를 반환해야 한다.  \n",
    "\n",
    "* \\__rmod__(self, other) : 우측 나머지 나눗셈 연산자 (%), 이 메서드는 우측 피연산자가 이 메서드를 정의하고, 좌측 피연산자가 \\__mod___를 정의하지 않았거나 NotImplemented를 반환하는 경우 나머지 나숫셈을 수행한다  \n",
    "\n",
    "* \\__rdivmod__(self, other) : 우측 몫/나머지 반환 함수 (divmod) 이 메서드는 divmod 함수의 두 번째 인수가 이 메서드를 정의하고, 첫 번째 인수가 \\__divmod__ 를 정의하지 않았거나 NotImplemented를 반환하는 경우 나눗셈을 수행한다. 이 메서드는 첫 번째 항목이 몫이고 두 번째 항목이 나머지인 튜플을 반환해야 한다  \n",
    "\n",
    "* \\__rpow(self, other) : 우측 제곱 연산자(**), 이 메서드는 우측 피연산자가 이 메서드를 정의하고, 좌측 피연산자가 \\__pow__ 를 정의하지 않았거나 NotImplemented를 반환하는 경우 제곱을 수행한다.  \n",
    "\n",
    "대부분의 경우 역방향 메서드는 정방향 메서드의 데칼코마니다. 예를 들어 Point 클래스를 조금 개조하여 다른 매직 메서드를 추가하면 손쉽게 역방향 Point 클래스 메서드를 작성할 수 있다."
   ]
  },
  {
   "cell_type": "markdown",
   "metadata": {},
   "source": [
    "반면 다음 클래스 같은 경우 이런 메서드들을 대부분 작성할 필요가 없다. 예를 들어 다음 코드를 살펴보자.  \n",
    "\n",
    "pt1 = Point(1, 2)  \n",
    "pt2 = Point(5, 10)  \n",
    "pt3 = pt1 + pt2  \n",
    "\n",
    "덧셈이 다음과 같이 동작한다고 가정해보자. Point 인스턴스를 다른 Point 인스턴스에 더한다. 그러면 이 경우에는 좌측 피연산자(pt1)의 \\__add__가 호출될 것이다. 그렇게 되면 우측 피연산자의 \\__radd__는 절대로 호출되지 않는다.  \n",
    "\n",
    "대칭 연산자 (포인트는 포인트를 더함)는 우측 r 매직 메서드를 호출하지 않는다  \n",
    "\n",
    "대신 r 메서드는 비대칭 상황에서 유용하다 (가령 정수는 Point 객체와 곱할 수도 있다.) 다음과 같은 코드를 실행하고 싶다고 해 보자.  \n",
    "\n",
    "pt3 = pt1 * 5\n",
    "pt3 = 10 * pt1  \n",
    "\n",
    "하지만 두 번째 줄의 코드는 문제가 있다. 좌측 피연산자가 정수인 10이기 때문이다. 그리고 정수 클래스(int) 는 Point 객체와의 곱셈을 지원하지 않는다.  \n",
    "\n",
    "이런 경우 다음과 같이 우측 피연산자 pt1의 클래스 Point의 \\__rmul__ 메서드를 구현해야만 한다 . "
   ]
  },
  {
   "cell_type": "code",
   "execution_count": 42,
   "metadata": {},
   "outputs": [],
   "source": [
    "def __rmul__(self, n):\n",
    "    '''포인트와 스칼라 숫자 n과 곱셈한 결과를 반환한다 .'''\n",
    "    newx = self.x * n\n",
    "    newy = self.y * n\n",
    "    return Point(newx, newy)"
   ]
  },
  {
   "cell_type": "markdown",
   "metadata": {},
   "source": [
    "이 메서드의 정의는 \\__mul__의 정의와 같다. 비록 Point 객체가 곱셈 표현식의 우측에 위치했다고 하더라도, Point 객체는 여전히 self 인수로 참조할 수 있다."
   ]
  },
  {
   "cell_type": "markdown",
   "metadata": {},
   "source": [
    "##### 교체 연산자 메서드  \n",
    "\n"
   ]
  }
 ],
 "metadata": {
  "kernelspec": {
   "display_name": "tabnet",
   "language": "python",
   "name": "python3"
  },
  "language_info": {
   "codemirror_mode": {
    "name": "ipython",
    "version": 3
   },
   "file_extension": ".py",
   "mimetype": "text/x-python",
   "name": "python",
   "nbconvert_exporter": "python",
   "pygments_lexer": "ipython3",
   "version": "3.8.19"
  }
 },
 "nbformat": 4,
 "nbformat_minor": 2
}

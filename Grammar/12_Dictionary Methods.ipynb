{
 "cells": [
  {
   "cell_type": "markdown",
   "metadata": {},
   "source": [
    "dict 타입의 메서드를 소개한다.  \n",
    "\n",
    "* update : 다른 컬렉션의 키/값 쌍을 추가  \n",
    "* clear : 딕셔너리의 모든 항목을 비우기  \n",
    "* copy : 다른 딕셔너리의 모든 항목을 복사 \n",
    "* pop : 키와 해당 값을 삭제 \n",
    "* get : 키로 값을 찾기. 키를 찾을 수 없다면 (None과 같은) 기본값을 반환 \n",
    "* values : 모든 관련 값을 포함한 시퀀스 구하기 \n",
    "* keys : 모든 키를 포함한 시퀀스를 구하기 \n",
    "* itmes : 모든 키-값 쌍을 구하기 \n",
    "* setdefault : 키가 존재하면 해당 키의 값을 반환하며, 없는 경우 기본값을 추가 "
   ]
  },
  {
   "cell_type": "markdown",
   "metadata": {},
   "source": [
    "### 1. dict_obj. clear()  \n",
    "\n",
    "기존 딕셔너리의 모든 항목을 제거한다. 인수가 없으며, None을 반환한다  \n",
    "\n",
    "a_dict.clear()"
   ]
  },
  {
   "cell_type": "markdown",
   "metadata": {},
   "source": [
    "### 2. dict_obj.copy()  \n",
    "\n",
    "멤버간 얕은 복사를 한 딕셔너리를 반환한다 "
   ]
  },
  {
   "cell_type": "code",
   "execution_count": 2,
   "metadata": {},
   "outputs": [
    {
     "name": "stdout",
     "output_type": "stream",
     "text": [
      "{'pi': 3.14159, 'e': 2.71828} {'pi': 3.14159, 'e': 2.71828}\n"
     ]
    }
   ],
   "source": [
    "a_dict = {'pi': 3.14159, 'e': 2.71828}\n",
    "b_dict = a_dict.copy()\n",
    "print(a_dict, b_dict)"
   ]
  },
  {
   "cell_type": "markdown",
   "metadata": {},
   "source": [
    "이 문장이 실행되면 b_dict는 a_dict와 동일한 내용을 갖지만, 별도의 컬렉션이 된다. 따라서 한 딕셔너리의 변경은 다른 딕셔너리에 영향을 주지 않는다. "
   ]
  },
  {
   "cell_type": "markdown",
   "metadata": {},
   "source": [
    "### 3. dict_obj.get(key_obj, default_val=None)  \n",
    "\n",
    "dict_obj에 주어진 키에 해당하는 값을 반환한다. 키가 발견되지 않으면 default_val을 반환한다. default_val이 지정되지 않으면 None이 반환된다. "
   ]
  },
  {
   "cell_type": "code",
   "execution_count": null,
   "metadata": {},
   "outputs": [],
   "source": [
    "v = my_dict.get('BrianO')\n",
    "if v:\n",
    "    print('Value is : ', v)\n",
    "else:\n",
    "    print('BrainO not found.')"
   ]
  },
  {
   "cell_type": "markdown",
   "metadata": {},
   "source": [
    "다음 예시에서 사용한 get은 히스토그램을 만드는 효과적인 지름길이 된다. wrd_list는 특정 문자열 안의 각 단어를 항목으로 갖는 문자열 리스트라고 가정한다. 리스트를 만드는 또 하나의 방법과 빈 딕셔너리를 만드는 방법도 함께 살펴보자. "
   ]
  },
  {
   "cell_type": "code",
   "execution_count": 3,
   "metadata": {},
   "outputs": [
    {
     "name": "stdout",
     "output_type": "stream",
     "text": [
      "{'I': 3, 'am': 3, 'what': 1, 'and': 1, 'that': 2, 'is': 1, 'all': 1}\n"
     ]
    }
   ],
   "source": [
    "s = 'I am what I am and that is all that I am'\n",
    "wrd_list = s.split()\n",
    "hist_dict = {}\n",
    "\n",
    "for wrd in wrd_list:\n",
    "    hist_dict[wrd] = hist_dict.get(wrd, 0) + 1\n",
    "print(hist_dict)"
   ]
  },
  {
   "cell_type": "markdown",
   "metadata": {},
   "source": [
    "get 메서드를 사용하여 찾고자 하는 단어 개수를 구할 수 있다.  \n",
    "이 문장은 단어/빈도수 쌍을 딕셔너리에 저장한다. 신규 단어가 발견되면 get의 default_val로 설정된 0과 1을 더하여 딕셔너리에 추가한다. 그렇지 않으면 기존 값에 1을 더한다. "
   ]
  },
  {
   "cell_type": "markdown",
   "metadata": {},
   "source": [
    "### 4. dict_obj.items()  \n",
    "\n",
    "딕셔너리의 모든 키-값 쌍을 담고 있는 (키,값) 포맷의 튜플 시퀀스를 반환한다. "
   ]
  },
  {
   "cell_type": "code",
   "execution_count": 5,
   "metadata": {},
   "outputs": [
    {
     "name": "stdout",
     "output_type": "stream",
     "text": [
      "dict_items([('Moe', 1.5), ('Larry', 1.0), ('BillG', 4.0)])\n"
     ]
    }
   ],
   "source": [
    "grades = {'Moe':1.5, 'Larry':1.0, 'BillG':4.0}\n",
    "print(grades.items())"
   ]
  },
  {
   "cell_type": "markdown",
   "metadata": {},
   "source": [
    "### 5. dict_obj.keys()  \n",
    "\n",
    "딕셔너리의 모든 키를 담고 있는 시퀀스를 반환한다. "
   ]
  },
  {
   "cell_type": "code",
   "execution_count": 6,
   "metadata": {},
   "outputs": [
    {
     "name": "stdout",
     "output_type": "stream",
     "text": [
      "dict_keys(['Moe', 'Larry', 'BillG'])\n"
     ]
    }
   ],
   "source": [
    "grades = {'Moe':1.5, 'Larry':1.0, 'BillG':4.0}\n",
    "print(grades.keys())"
   ]
  },
  {
   "cell_type": "markdown",
   "metadata": {},
   "source": [
    "### 6. dict_obj.pop(key [, default_value])  \n",
    "\n",
    "key에 해당하는 값을 반환한 후 딕셔너리의 해당 키-값 쌍에서 제거한다. 키가 존재하지 않으면 메서드는 선택 사항으로 추가한 defalut_value를 반환한다. default_value가 주어지지 않았다면 KeyError가 발생한다. "
   ]
  },
  {
   "cell_type": "code",
   "execution_count": 7,
   "metadata": {},
   "outputs": [
    {
     "name": "stdout",
     "output_type": "stream",
     "text": [
      "4.0\n",
      "{'Moe': 1.5, 'Larry': 1.0}\n"
     ]
    }
   ],
   "source": [
    "grades = {'Moe':1.5, 'Larry':1.0, 'BillG':4.0}\n",
    "print(grades.pop('BillG', None))\n",
    "print(grades)"
   ]
  },
  {
   "cell_type": "markdown",
   "metadata": {},
   "source": [
    "### 7. dict_obj.popitem()  \n",
    "\n",
    "딕셔너리 객체에서 임의로 키-값 쌍을 하나 반환하고 제거한다. (이는 '임의 객체'와 정확하게 같지는 않다. 왜냐하면 선택하는 과정에 진정한 무작위성의 통계적 요건을 보장하지 않기 때문이다.)  \n",
    "\n",
    "키-값 쌍은 튜플로 반환된다. "
   ]
  },
  {
   "cell_type": "code",
   "execution_count": 8,
   "metadata": {},
   "outputs": [
    {
     "name": "stdout",
     "output_type": "stream",
     "text": [
      "('BillG', 4.0)\n",
      "{'Moe': 1.5, 'Larry': 1.0}\n"
     ]
    }
   ],
   "source": [
    "grades = {'Moe':1.5, 'Larry':1.0, 'BillG':4.0}\n",
    "print(grades.popitem())\n",
    "print(grades)"
   ]
  },
  {
   "cell_type": "markdown",
   "metadata": {},
   "source": [
    "### 8. dict_obj.setdefault(key, default_value=None)  \n",
    "\n",
    "주어진 key를 반하ㅗㄴ한다. 키가 존재하지 않으면 키를 추가하면서 default_value에 지정한 값을 넣는다. 이 값이 주어지지 않으면 None이 설정된다. 두 경우 모두 해당 값이 반환된다.  \n",
    "\n",
    "예를 들어 다음 소스 코두는 키 'Stephen Hawking'에 해당하는 현재 값을 반환한다. 그렇지 않으면 신규 값 4.0과 함께 키-값 쌍을 추가한다. "
   ]
  },
  {
   "cell_type": "code",
   "execution_count": 9,
   "metadata": {},
   "outputs": [
    {
     "name": "stdout",
     "output_type": "stream",
     "text": [
      "4.0\n"
     ]
    }
   ],
   "source": [
    "print(grades.setdefault('Stephan hawking', 4.0))"
   ]
  },
  {
   "cell_type": "markdown",
   "metadata": {},
   "source": [
    "### 9. dict_obj.values()  \n",
    "\n",
    "딕셔너리의 모든 값을 담은 시퀀스를 반환한다. 이 시퀀스를 리스트로 활용하려면 리스트 변환을 하면된다. "
   ]
  },
  {
   "cell_type": "code",
   "execution_count": 10,
   "metadata": {},
   "outputs": [
    {
     "name": "stdout",
     "output_type": "stream",
     "text": [
      "dict_values([1.5, 1.0, 4.0])\n"
     ]
    }
   ],
   "source": [
    "grades = {'Moe':1.5, 'Larry':1.0, 'BillG':4.0}\n",
    "print(grades.values())"
   ]
  },
  {
   "cell_type": "markdown",
   "metadata": {},
   "source": [
    "### 10. dict_obj.update(sequence)  \n",
    "\n",
    "이 메서드는 dict_obj에 sequence의 모든 키-값 엔트리를 추가하여 딕셔너리 객체를 확장한다. sequence 인수는 다른 딕셔너리 혹은 키-값 쌍을 담은 튜플의 시퀀스 일 수 있다.  \n",
    "\n",
    "예를 들어 다음 문장 2개의 엔트리를 담은 grades1로 시작하여 엔트리를 추가한다. "
   ]
  },
  {
   "cell_type": "code",
   "execution_count": 11,
   "metadata": {},
   "outputs": [
    {
     "name": "stdout",
     "output_type": "stream",
     "text": [
      "{'Moe': 1.0, 'Curly': 1.0, 'BillG': 4.0, 'BrainO': 3.9, 'SillySue': 2.0}\n"
     ]
    }
   ],
   "source": [
    "grades1 = {'Moe':1.0, 'Curly':1.0}\n",
    "grades2 = {'BillG':4.0}\n",
    "grades3 = [('BrainO', 3.9), ('SillySue', 2.0)]\n",
    "grades1.update(grades2)\n",
    "grades1.update(grades3)\n",
    "print(grades1)"
   ]
  }
 ],
 "metadata": {
  "kernelspec": {
   "display_name": "tabnet",
   "language": "python",
   "name": "python3"
  },
  "language_info": {
   "codemirror_mode": {
    "name": "ipython",
    "version": 3
   },
   "file_extension": ".py",
   "mimetype": "text/x-python",
   "name": "python",
   "nbconvert_exporter": "python",
   "pygments_lexer": "ipython3",
   "version": "3.8.19"
  }
 },
 "nbformat": 4,
 "nbformat_minor": 2
}

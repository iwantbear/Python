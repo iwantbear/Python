{
 "cells": [
  {
   "cell_type": "markdown",
   "metadata": {},
   "source": [
    "### 파이썬 시작"
   ]
  },
  {
   "cell_type": "code",
   "execution_count": 2,
   "metadata": {},
   "outputs": [
    {
     "data": {
      "text/plain": [
       "60"
      ]
     },
     "execution_count": 2,
     "metadata": {},
     "output_type": "execute_result"
    }
   ],
   "source": [
    "a = 10\n",
    "b = 20 \n",
    "c = 30\n",
    "a+b+c"
   ]
  },
  {
   "cell_type": "code",
   "execution_count": 5,
   "metadata": {},
   "outputs": [
    {
     "data": {
      "text/plain": [
       "7"
      ]
     },
     "execution_count": 5,
     "metadata": {},
     "output_type": "execute_result"
    }
   ],
   "source": [
    "n = 5\n",
    "n = n + 1\n",
    "n = n + 1\n",
    "n"
   ]
  },
  {
   "cell_type": "code",
   "execution_count": 6,
   "metadata": {},
   "outputs": [
    {
     "data": {
      "text/plain": [
       "7.5"
      ]
     },
     "execution_count": 6,
     "metadata": {},
     "output_type": "execute_result"
    }
   ],
   "source": [
    "a = 5\n",
    "x = 2.5\n",
    "b = a + x\n",
    "b"
   ]
  },
  {
   "cell_type": "markdown",
   "metadata": {},
   "source": [
    "### 변수, 이름짓기 "
   ]
  },
  {
   "cell_type": "code",
   "execution_count": 8,
   "metadata": {},
   "outputs": [
    {
     "name": "stdout",
     "output_type": "stream",
     "text": [
      "100 percent good\n"
     ]
    }
   ],
   "source": [
    "i = 10\n",
    "thou = 20\n",
    "a_jug_of_wine = 30\n",
    "loaf_of_bread = 40\n",
    "inspiration = i + thou + a_jug_of_wine + loaf_of_bread\n",
    "print(inspiration, 'percent good')"
   ]
  },
  {
   "cell_type": "markdown",
   "metadata": {},
   "source": [
    "### 연산\n",
    "n = 0   > 초기화 \n",
    "\n",
    "n += 1  > n에 1을 더함 (1)\n",
    "\n",
    "n += 10 > n에 10을 더함 (11)\n",
    "\n",
    "n *= 2  > n에 2를 곱함 (22)\n",
    "\n",
    "n -= 1  > n에 1을 뻄 (21)\n",
    "\n",
    "n /= 3  > n을 3으로 나눔 (7)"
   ]
  },
  {
   "cell_type": "code",
   "execution_count": 9,
   "metadata": {},
   "outputs": [
    {
     "data": {
      "text/plain": [
       "7.0"
      ]
     },
     "execution_count": 9,
     "metadata": {},
     "output_type": "execute_result"
    }
   ],
   "source": [
    "n = 0  \n",
    "n += 1\n",
    "n += 10\n",
    "n *= 2\n",
    "n -= 1\n",
    "n /= 3\n",
    "n"
   ]
  },
  {
   "cell_type": "markdown",
   "metadata": {},
   "source": [
    "### 데이터타입\n",
    "X = 5  정수\n",
    "X = 7.0  실수\n",
    "\n",
    "\n",
    "파이썬의 정수와 부동소수점의 나눗셈(/)은 파이썬 버전에 따라 다름\n",
    "\n",
    "*파이썬 3.0기준*\n",
    "\n",
    "\n",
    "나눗셈은 항상 부동소수점 결과 반환\n",
    "\n",
    "\n",
    "4 / 2  =  2.0\n",
    "\n",
    "7 / 4  =  1.75\n",
    "\n",
    "<span style=\"color:#F8766D\"> 정수 나눗셈(몫) </span>\n",
    "\n",
    "4 // 2   =   2\n",
    "\n",
    "7 // 4   =   1\n",
    "\n",
    "23 // 5  =   4 \n",
    "\n",
    "8.0 // 2.5  =  3.0\n",
    "\n",
    "\n",
    "<span style=\"color:#F8766D\">나머지 나눗셈 </span>\n",
    "\n",
    "23 % 5 = 3\n",
    "\n",
    "\n",
    "*파이썬 2.0기준*\n",
    "\n",
    "7 / 2 = 3\n",
    "7 / 2.0 = 3.5\n",
    "7 / float(2) = 3.5\n",
    "\n",
    "<span style=\"color:#F8766D\"> divmod (튜플, 몫+나머지) </span>\n",
    "\n",
    "quot, rem = divmod(23, 10)\n",
    "\n",
    "23을 10으로 나누어 몫은 2, 나머지는 3"
   ]
  },
  {
   "cell_type": "code",
   "execution_count": 11,
   "metadata": {},
   "outputs": [
    {
     "data": {
      "text/plain": [
       "(2, 3)"
      ]
     },
     "execution_count": 11,
     "metadata": {},
     "output_type": "execute_result"
    }
   ],
   "source": [
    "quot, rem = divmod(23,10)\n",
    "quot, rem"
   ]
  },
  {
   "cell_type": "markdown",
   "metadata": {},
   "source": [
    "### 입력\n",
    "\n",
    "<span style=\"color:#F8766D\"> input(프롬프트_출력용_문자열)</span>\n",
    "\n",
    "*print*\n",
    "\n",
    "sep = 문자열: 문자열 구분자를 기본 설정인 '빈칸'에서 다른 문자로 설정한다.\n",
    "sep = ''와 같이 설정하면 구분자가 없는 것으로 설정된다.\n",
    "\n",
    "end = 문자열: 마지막 인수를 출력한 후 맨 마지막에 출력할 문자열을 설정한다. 기본설정은 개행문자다.\n",
    "줄넘김을 하고 싶지 않다면 end = '' 와 같이 빈 문자를 입력하거나 문장 끝에 붙일 다른 문자열을 입력하면 된다  "
   ]
  },
  {
   "cell_type": "code",
   "execution_count": 14,
   "metadata": {},
   "outputs": [],
   "source": [
    "n = int(input('정수 숫자를 입력하라: '))\n",
    "x = float(input('부동소수점 숫자를 입력하라: '))"
   ]
  },
  {
   "cell_type": "markdown",
   "metadata": {},
   "source": [
    "### 함수정의\n",
    "\n",
    "def 키워드, (), : 는 필수 "
   ]
  },
  {
   "cell_type": "code",
<<<<<<< HEAD
   "execution_count": 1,
=======
   "execution_count": 4,
>>>>>>> af97193 (feat: Study day2)
   "metadata": {},
   "outputs": [
    {
     "name": "stdout",
     "output_type": "stream",
     "text": [
      "안녕하세요 냐옹\n",
      "30세 이하군요.\n",
      "정말 어리네요.\n"
     ]
    }
   ],
   "source": [
    "def main():\n",
    "    age = int(input('나이를 입력하라: '))\n",
    "    name = input('이름을 입력하라: ')\n",
    "    if age < 30:\n",
    "        print('안녕하세요', name)\n",
    "        print('30세 이하군요.')\n",
    "        print('정말 어리네요.')\n",
    "        \n",
    "main()"
   ]
  },
  {
   "cell_type": "markdown",
   "metadata": {},
   "source": [
    "### IF 문\n",
    "\n",
    ": 필수"
   ]
  },
  {
   "cell_type": "code",
   "execution_count": null,
   "metadata": {},
   "outputs": [],
   "source": [
    "if a > b:\n",
    "    print('a는 b보다 크다')\n",
    "    c = 10\n",
    "else:\n",
    "    print('a는 b보다 크지 않다')\n",
    "    c = -10"
   ]
  },
  {
   "cell_type": "markdown",
   "metadata": {},
   "source": [
    "### Elif 문"
   ]
  },
  {
   "cell_type": "code",
   "execution_count": null,
   "metadata": {},
   "outputs": [],
   "source": [
    "age = int(input('나이를 입력하라: '))\n",
    "if age < 13:\n",
    "    print('당신은 사춘기를 겪지 않았다.')\n",
    "elif age < 20:\n",
    "    print('당신은 십대 청소년이다.')\n",
    "elif age <=30:\n",
    "    print('당신은 여전히 젊다.')\n",
    "else:\n",
    "    print('당신은 나이 든 사람이다.')\n",
    "    "
   ]
  },
  {
   "cell_type": "markdown",
   "metadata": {},
   "source": [
    "### While 문"
   ]
  },
  {
   "cell_type": "code",
   "execution_count": 5,
   "metadata": {},
   "outputs": [
    {
     "name": "stdout",
     "output_type": "stream",
     "text": [
      "12345678910"
     ]
    }
   ],
   "source": [
    "n = 10\n",
    "i = 1\n",
    "\n",
    "while i <= n:\n",
    "    print(i, end='')\n",
    "    i += 1"
   ]
  },
  {
   "cell_type": "code",
   "execution_count": 6,
   "metadata": {},
   "outputs": [],
   "source": [
    "def print_nums(n):\n",
    "    i = 1\n",
    "    while i <= n:\n",
    "        print(i, end='')\n",
    "        i += 1 "
   ]
  },
  {
   "cell_type": "code",
   "execution_count": 7,
   "metadata": {},
   "outputs": [
    {
     "name": "stdout",
     "output_type": "stream",
     "text": [
      "123"
     ]
    }
   ],
   "source": [
    "print_nums(3)"
   ]
  },
  {
   "cell_type": "code",
   "execution_count": 8,
   "metadata": {},
   "outputs": [
    {
     "name": "stdout",
     "output_type": "stream",
     "text": [
      "1234567"
     ]
    }
   ],
   "source": [
    "print_nums(7)"
   ]
  },
  {
   "cell_type": "markdown",
   "metadata": {},
   "source": [
    "##### Break"
   ]
  },
  {
   "cell_type": "code",
   "execution_count": 10,
   "metadata": {},
   "outputs": [
    {
     "name": "stdout",
     "output_type": "stream",
     "text": [
      "1\n",
      "2\n",
      "3\n",
      "4\n",
      "5\n",
      "6\n",
      "7\n",
      "8\n",
      "9\n",
      "10\n"
     ]
    }
   ],
   "source": [
    "n = 10\n",
    "i = 1\n",
    "\n",
    "while True:\n",
    "    print(i)\n",
    "    if i >= n:\n",
    "        break\n",
    "    i += 1  # i = i + 1 과 동일"
   ]
  },
  {
   "cell_type": "markdown",
   "metadata": {},
   "source": [
    "### 응용 1 (피보나치 수열)"
   ]
  },
  {
   "cell_type": "code",
   "execution_count": 12,
   "metadata": {},
   "outputs": [
    {
     "name": "stdout",
     "output_type": "stream",
     "text": [
      "1\n",
      "1\n",
      "2\n",
      "3\n"
     ]
    }
   ],
   "source": [
    "def pr_fibo(n):\n",
    "    a, b = 1, 0\n",
    "    while a < n:\n",
    "        print(a, sep='')\n",
    "        a, b = a+b, a\n",
    "\n",
    "n = int(input('Input n: '))\n",
    "pr_fibo(n)"
   ]
  },
  {
   "cell_type": "markdown",
   "metadata": {},
   "source": [
    "### 응용 (게임)"
   ]
  },
  {
   "cell_type": "code",
   "execution_count": 14,
   "metadata": {},
   "outputs": [
    {
     "name": "stdout",
     "output_type": "stream",
     "text": [
      "너무 낮다! 다시 맞춰보자.\n",
      "너무 낮다! 다시 맞춰보자.\n",
      "축하한다! 숫자를 맞췄다!\n"
     ]
    }
   ],
   "source": [
    "from random import randint\n",
    "\n",
    "n = randint(1, 50)\n",
    "while True:\n",
    "    ans = int(input('어떤 숫자일까?: '))\n",
    "    if ans > n:\n",
    "        print('너무 높다! 다시 맞춰보자. ')\n",
    "    elif ans < n:\n",
    "        print('너무 낮다! 다시 맞춰보자.')\n",
    "    else:\n",
    "        print('축하한다! 숫자를 맞췄다!')\n",
    "        break"
   ]
  },
  {
   "cell_type": "markdown",
   "metadata": {},
   "source": [
    "### 파이썬 불리언 연산자 요약\n",
    "\n",
    "밑의 두 코드는 동일한 것"
   ]
  },
  {
   "cell_type": "code",
   "execution_count": null,
   "metadata": {},
   "outputs": [],
   "source": [
    "if not (age > 12 and age < 20):\n",
    "    print('당신은 십대가 아니다')\n",
    "    \n",
    "if not (12 < age < 20):\n",
    "    print('당신은 십대가 아니다 ')"
   ]
  },
  {
   "cell_type": "markdown",
   "metadata": {},
   "source": [
    "### 함수 인수와 반환값\n",
    "\n",
    "\n",
    "def 함수_이름(인수들):\n",
    "    들여쓰기가 된 문장\n",
    "\n",
    "\n",
    "여러 반환값 입력 가능  \n",
    "return 하고 return None은 동일한 문장  \n",
    "return 반환값"
   ]
  },
  {
   "cell_type": "markdown",
   "metadata": {},
   "source": [
    "return 문이 실행되면 즉시 함수에서 탈출하며, 함수 호출자(caller)에 돌아간다.  \n",
    "함수 끝에 도달하면 묵시적으로 return을 호출하며, 기본적으로 None을 반환한다.  \n"
   ]
  },
  {
   "cell_type": "code",
   "execution_count": null,
   "metadata": {},
   "outputs": [],
   "source": [
    "def set_values():\n",
    "    return 10, 20, 30\n",
    "a, b, c = set_values()"
   ]
  },
  {
   "cell_type": "markdown",
   "metadata": {},
   "source": [
    "위 코드에서 변수 a, b, c는 각각 10, 20, 30으로 설정되었다.  \n",
    "파이썬은 데이터를 선언할 수 없기 때문에 파이썬의 인수 리스트는 기본값을 가지지 않는 한 그저 쉼표 기호로 분리된 이름의 나열일 뿐"
   ]
  },
  {
   "cell_type": "code",
   "execution_count": 16,
   "metadata": {},
   "outputs": [],
   "source": [
    "def calc_hyp(a, b):\n",
    "    hyp = (a * a + b * b) ** 0.5\n",
    "    return hyp"
   ]
  },
  {
   "cell_type": "markdown",
   "metadata": {},
   "source": [
    "위 코드에서 인수들은 타입 선언 없이 나열되었다.  \n",
    "인수가 타입을 갖지 않더라도 기본값을 가지도록 설정할 수 있다.  \n",
    "\n",
    "\n",
    "인수_이름 = 기본값"
   ]
  },
  {
   "cell_type": "code",
   "execution_count": 17,
   "metadata": {},
   "outputs": [],
   "source": [
    "def print_nums(n, rep=1):\n",
    "    i = 1\n",
    "    while i <= rep:\n",
    "        print(n)\n",
    "        i += 1"
   ]
  },
  {
   "cell_type": "code",
   "execution_count": 18,
   "metadata": {},
   "outputs": [
    {
     "name": "stdout",
     "output_type": "stream",
     "text": [
      "5\n"
     ]
    }
   ],
   "source": [
    "print_nums(5)"
   ]
  },
  {
   "cell_type": "markdown",
   "metadata": {},
   "source": [
    "위 코드와 같이 마지막 인수에 아무값도 주어지지 않는다면 1로 설정된다.  "
   ]
  },
  {
   "cell_type": "code",
   "execution_count": null,
   "metadata": {},
   "outputs": [],
   "source": [
    "def a_func(a, b, c):\n",
    "    return (a + b)* c\n",
    "\n",
    "print(a_func(4, c=3, b=2))"
   ]
  },
  {
   "cell_type": "markdown",
   "metadata": {},
   "source": [
    "위 코드처럼 첫 인수는 위치에 따라 a에 할당되면서 c와 b는 직접 인수 이름을 명시하여 호출한다.  \n",
    "명명인수를 사용하고 싶다면 반드시 인수 리스트 끝에 넣어야 한다."
   ]
  },
  {
   "cell_type": "markdown",
   "metadata": {},
   "source": [
    "### 파이썬 문자열"
   ]
  },
  {
   "cell_type": "code",
   "execution_count": 19,
   "metadata": {},
   "outputs": [
    {
     "name": "stdout",
     "output_type": "stream",
     "text": [
      "\"죽느냐 사느냐\" 셰익스피어가 적었다. 나에게 가장 중요한 것은 '행복'이다.\n"
     ]
    }
   ],
   "source": [
    "s1 = '이것은 문자열이다.'\n",
    "s2 = \"이것도 문자열이다.\"\n",
    "s3 =  '''이것은 특별히 여러줄로 만든 문자열이다.'''\n",
    "s4 = '\"죽느냐 사느냐\" 셰익스피어가 적었다.'\n",
    "s5 = \"나에게 가장 중요한 것은 '행복'이다.\"\n",
    "print(s4, s5)"
   ]
  },
  {
   "cell_type": "code",
   "execution_count": 21,
   "metadata": {},
   "outputs": [
    {
     "data": {
      "text/plain": [
       "'H'"
      ]
     },
     "execution_count": 21,
     "metadata": {},
     "output_type": "execute_result"
    }
   ],
   "source": [
    "s6 = '나에게 가장 중요한 것은 \\'행복\\' 이다.'\n",
    "s7 = 'Hello'\n",
    "s7[0]"
   ]
  },
  {
   "cell_type": "code",
   "execution_count": 22,
   "metadata": {},
   "outputs": [
    {
     "data": {
      "text/plain": [
       "'ABCDEF'"
      ]
     },
     "execution_count": 22,
     "metadata": {},
     "output_type": "execute_result"
    }
   ],
   "source": [
    "s8 = 'ABC'\n",
    "s9 = 'DEF'\n",
    "s10 = s8 + '' + s9\n",
    "s10"
   ]
  },
  {
   "cell_type": "code",
   "execution_count": 24,
   "metadata": {},
   "outputs": [
    {
     "data": {
      "text/plain": [
       "'abc'"
      ]
     },
     "execution_count": 24,
     "metadata": {},
     "output_type": "execute_result"
    }
   ],
   "source": [
    "my_str = 'a'\n",
    "my_str += 'b'\n",
    "my_str += 'c'\n",
    "my_str"
   ]
  },
  {
   "cell_type": "markdown",
   "metadata": {},
   "source": [
    "### 리스트\n",
    "\n",
    "파이썬 3.0에서 타입이 섞인 리스트는 자동으로 정렬되지 않음\n",
    "\n",
    "<span style=\"color:#F8766D\"> sort </span>\n",
    "\n",
    "* 기존 리스트를 정렬된 상태로 변경(새로운 리스트를 반환하지 않음)\n",
<<<<<<< HEAD
    "* 오름차순이 디폴트, reverse=True 옵션을 사용하면 내림차순\n",
=======
    "* 오름차순이 티폴트, reverse=True 옵션을 사용하면 내림차순\n",
>>>>>>> af97193 (feat: Study day2)
    "\n",
    "<span style=\"color:#F8766D\"> append </span>\n",
    "\n",
    "* 기존 리스트를 수정(새로운 리스트를 반환하지 않음)\n",
    "* 리스트의 끝에 새로운 요소 하나만 추가 가능"
   ]
  },
  {
   "cell_type": "code",
   "execution_count": 27,
   "metadata": {},
   "outputs": [
    {
     "name": "stdout",
     "output_type": "stream",
     "text": [
      "['하이', '메롱', '냐옹', '강아지']\n"
     ]
    }
   ],
   "source": [
    "a_list = []\n",
    "\n",
    "while True:\n",
    "    s = input('이름을 입력하세요: ')\n",
    "    if not s:\n",
    "        break\n",
    "    a_list.append(s)\n",
    "a_list.sort(reverse=True)\n",
    "print(a_list)\n",
    "    "
   ]
  },
  {
   "cell_type": "markdown",
   "metadata": {},
   "source": [
    "### For 문"
   ]
  },
  {
   "cell_type": "code",
   "execution_count": 28,
   "metadata": {},
   "outputs": [
    {
     "name": "stdout",
     "output_type": "stream",
     "text": [
      "하이\n",
      "메롱\n",
      "냐옹\n",
      "강아지\n"
     ]
    }
   ],
   "source": [
    "for name in a_list:\n",
    "    print(name)"
   ]
  },
  {
   "cell_type": "markdown",
   "metadata": {},
   "source": [
    "for 문 예제 코드에서 iterable은 리스트와 같은 컬렉션에 가깝지만, range  함수를 호출하면 반환하는 generator와 같다. 이 generator는 나열된 값으로 구성된 iteration을 생성한다.\n",
    "\n",
    "\n",
    "for 변수 in 이터러블(iterable):  \n",
    "    문장_블록  "
   ]
  },
  {
   "cell_type": "code",
   "execution_count": 29,
   "metadata": {},
   "outputs": [],
   "source": [
    "my_list = [10, 15, 25]\n",
    "\n",
    "for i in [0, 1, 2]:\n",
    "    my_list[i] *= 2"
   ]
  },
  {
   "cell_type": "markdown",
   "metadata": {},
   "source": [
    "위 코드는 각 항목에 2를 곱함\n",
    "[10, 15, 25] -> [20, 30, 50]\n",
    "\n",
    "이 방식으로 인덱스를 만드려면 열거형 인덱스를 만들어야 한다 "
   ]
  },
  {
   "cell_type": "code",
   "execution_count": 30,
   "metadata": {},
   "outputs": [],
   "source": [
    "my_list = [100, 102, 50, 25, 72]\n",
    "\n",
    "for i in range(5):\n",
    "    my_list[i] *= 2\n"
   ]
  },
  {
   "cell_type": "markdown",
   "metadata": {},
   "source": [
    "위 코드는 리스트 길이 5를 하드 코딩했기 때문에 최선의 코드가 아님"
   ]
  },
  {
   "cell_type": "code",
   "execution_count": 31,
   "metadata": {},
   "outputs": [],
   "source": [
    "my_list = [100, 102, 50, 25, 72]\n",
    "for i in range(len(my_list)):\n",
    "    my_list[i] *= 2"
   ]
  },
  {
   "cell_type": "markdown",
   "metadata": {},
   "source": [
    "range(A)     = 0부터 시작하여 A보다 작은 숫자까지 증가하는 열거형 데이터 생성  \n",
    "range(A, B)  = A부터 시작하여 B보다 작은 숫자까지 증가하는 열거형 데이터 생성  \n",
    "range(A, B, C) = A부터 시작하여 B보다 작은 숫자까지 C만큼 증가한다 (C가 음수면 역순으로 정렬)"
   ]
  },
  {
   "cell_type": "code",
   "execution_count": 35,
   "metadata": {},
   "outputs": [
    {
     "name": "stdout",
     "output_type": "stream",
     "text": [
      "24\n"
     ]
    }
   ],
   "source": [
    "n = int(input('양의 정수를 입력하라: '))\n",
    "prod = 1\n",
    "\n",
    "for i in range(1, n + 1):\n",
    "    prod *= i\n",
    "print(prod)"
   ]
  },
  {
   "cell_type": "markdown",
   "metadata": {},
   "source": [
    "### 튜플"
   ]
  },
  {
   "cell_type": "code",
   "execution_count": 38,
   "metadata": {},
   "outputs": [
    {
     "data": {
      "text/plain": [
       "[10, 20, 5]"
      ]
     },
     "execution_count": 38,
     "metadata": {},
     "output_type": "execute_result"
    }
   ],
   "source": [
    "def my_func():\n",
    "    return [10, 20, 5]\n",
    "\n",
    "my_list = my_func()\n",
    "my_list"
   ]
  },
  {
   "cell_type": "markdown",
   "metadata": {},
   "source": [
    "위 코드는 정수로 구성된 리스트"
   ]
  },
  {
   "cell_type": "code",
   "execution_count": 41,
   "metadata": {},
   "outputs": [
    {
     "data": {
      "text/plain": [
       "(10, 20, 5)"
      ]
     },
     "execution_count": 41,
     "metadata": {},
     "output_type": "execute_result"
    }
   ],
   "source": [
    "def a_func():\n",
    "    return 10, 20, 5\n",
    "\n",
    "a, b, c = a_func()\n",
    "a, b, c"
   ]
  },
  {
   "cell_type": "markdown",
   "metadata": {},
   "source": [
    "### 딕셔너리\n",
    "\n",
    "키-값 쌍으로 구성된 열거형 데이터를 지닌 컬렉션이며 키들은 중복될 수 없다.  \n",
    "\n",
    "키 확인하는 명령어  \n",
    "딕셔너리.get(키 [,기본값])"
   ]
  },
  {
   "cell_type": "code",
   "execution_count": 47,
   "metadata": {},
   "outputs": [
    {
     "name": "stdout",
     "output_type": "stream",
     "text": [
      "{'안녕': 2, '내이름은': 1}\n"
     ]
    }
   ],
   "source": [
    "s = (input('문자열을 입력하라 : ')).split()\n",
    "wrd_counter = {}\n",
    "\n",
    "for wrd in s:\n",
    "    wrd_counter[wrd] = wrd_counter.get(wrd, 0) + 1\n",
    "    \n",
    "print(wrd_counter)"
   ]
  },
  {
   "cell_type": "markdown",
   "metadata": {},
   "source": [
    "위 코드는 입력받은 문자열에서 신규 단어를 찾으면 딕셔너리에 해당 단어를 키로 하여 값 0 + 1의 결과인 1을 추가한다.  \n",
    "만약 이미 존재하는 단어면 저장되어 있던 단어 출현 빈도수가 get 으로 반환되며, 이 값에 1을 더한다.  \n",
    "즉, 단어를 찾으면 빈도수가 1 증가하고, 단어를 찾지 못하면 딕셔너리에 값 1과 함께 항목이 새로 추가됨.  \n",
    "split 메서드는 하나의 문자열을 (공백을 기준) 쪼개어 각 단어로 구성된 리스트로 만드는데 사용됨 "
   ]
  },
  {
   "cell_type": "markdown",
   "metadata": {},
   "source": [
    "### 세트  \n",
    "딕셔너리와 비슷하지만 값은 없다 \n",
    "* 모든 항목은 유일해야함. 이미 존재하는 값을 추가하려고 하면 무시\n",
    "* 모든 항목은 딕셔너리의 키와 같이 불변 타입이어야 한다\n",
    "* 항목이 정렬되지는 않는다\n"
   ]
  },
  {
   "cell_type": "code",
   "execution_count": 52,
   "metadata": {},
   "outputs": [
    {
     "data": {
      "text/plain": [
       "{'독일', '미국', '영국', '일본', '중국'}"
      ]
     },
     "execution_count": 52,
     "metadata": {},
     "output_type": "execute_result"
    }
   ],
   "source": [
    "set1 = {'한국', '일본', '중국', '미국', '영국'}\n",
    "set2 = {'일본', '중국', '한국', '미국', '영국'}\n",
    "set1.remove('한국')\n",
    "set1.add('독일')\n",
    "set1"
   ]
  },
  {
   "cell_type": "markdown",
   "metadata": {},
   "source": [
    "신규 세트 만들때 set() 사용하기"
   ]
  },
  {
   "cell_type": "code",
   "execution_count": null,
   "metadata": {},
   "outputs": [],
   "source": [
    "my_set = set()"
   ]
  },
  {
   "cell_type": "markdown",
   "metadata": {},
   "source": [
    "* setUnion = 합집합\n",
    "* setIntersect = 교집합\n",
    "* setXOR = 합집합에서 교집합 제거\n",
    "* setSub = 차집합"
   ]
  },
  {
   "cell_type": "code",
   "execution_count": 53,
   "metadata": {},
   "outputs": [],
   "source": [
    "setA = {1, 2, 3, 4}\n",
    "setB = {3, 4, 5}\n",
    "setUnion = setA | setB\n",
    "setIntersect = setA & setB\n",
    "setXOR = setA ^ setB\n",
    "setSub = setA - setB"
   ]
  },
  {
   "cell_type": "markdown",
   "metadata": {},
   "source": [
    "### 전역변수와 지역변수  \n",
    "<span style=\"color:#F8766D\"> 전역변수 </span>  \n",
    "* 함수 호출시 값이 유지되며, 모든 함수에서 접근 가능하다 \n",
    "* 예를 들어 한 변수에서 전역변수 A_list를 변경하면 다른 함수의 A_list도 변경된다  \n",
    "\n",
    "<span style=\"color:#F8766D\"> 지역변수 </span>  \n",
    "* 변수 x가 함수 정의문 안에서 언급되면 해당 함수에만 존재하는 지역변수가 된다  \n",
    "* 함수 정의문 밖에서 동일한 이름을 사용해도 서로 영향을 미치지 않는다. 이 경우 변수는 내부 전용이다."
   ]
  },
  {
   "cell_type": "code",
   "execution_count": null,
   "metadata": {},
   "outputs": [],
   "source": [
    "count = 10\n",
    "\n",
    "# 지역변수\n",
    "def funcA():\n",
    "    count = 20\n",
    "    print(count)\n",
    "\n",
    "# 전역변수    \n",
    "def funcB():\n",
    "    print(count)"
   ]
  },
  {
   "cell_type": "code",
   "execution_count": 54,
   "metadata": {},
   "outputs": [
    {
     "name": "stdout",
     "output_type": "stream",
     "text": [
      "11\n"
     ]
    }
   ],
   "source": [
    "count = 10\n",
    "\n",
    "def my_func():\n",
    "    global count\n",
    "    count += 1\n",
    "    \n",
    "my_func()\n",
    "print(count)"
   ]
  },
  {
   "cell_type": "markdown",
   "metadata": {},
   "source": [
    "전역변수를 사용하고 싶으면 global 문을 사용한다 (위 코드)"
   ]
  },
  {
   "cell_type": "code",
   "execution_count": 56,
   "metadata": {},
   "outputs": [
    {
     "name": "stdout",
     "output_type": "stream",
     "text": [
      "5\n"
     ]
    }
   ],
   "source": [
    "def my_func():\n",
    "    global foo\n",
    "    foo = 5\n",
    "\n",
    "my_func()\n",
    "print(foo)"
   ]
  },
  {
   "cell_type": "markdown",
   "metadata": {},
   "source": [
    "전역변수가 없을시에 생성할 수 있다 (위 코드)"
   ]
  }
 ],
 "metadata": {
  "kernelspec": {
   "display_name": "tabnet",
   "language": "python",
   "name": "python3"
  },
  "language_info": {
   "codemirror_mode": {
    "name": "ipython",
    "version": 3
   },
   "file_extension": ".py",
   "mimetype": "text/x-python",
   "name": "python",
   "nbconvert_exporter": "python",
   "pygments_lexer": "ipython3",
   "version": "3.8.19"
  }
 },
 "nbformat": 4,
 "nbformat_minor": 2
}

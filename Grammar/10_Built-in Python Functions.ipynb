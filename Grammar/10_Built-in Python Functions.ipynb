{
 "cells": [
  {
   "cell_type": "markdown",
   "metadata": {},
   "source": [
    "내장 파이썬 함수들을 정리 해놓은 문서이다.  \n",
    "\n",
    "여기에서 대괄호 기호는 구문에서 반드시 필요하지 않은 선택 사항이라는 것을 의미한다.  \n",
    "\n",
    "가장 일반적으로 사용하는 내장 함수  \n",
    "\n",
    "* ch, ord : 아스키와 문자 포맷 변환  \n",
    "* 같은 이름의 함수 호출 : binary, oct, hex 문자열로 변환  \n",
    "* 같은 이름의 함수 호출, bool, bytes, complex, float, int, str, set, list 데이터-객체 타입으로 변환  \n",
    "* divmod : 나누기 수행 후 정수와 소수점 함께 반환 \n",
    "* format : 출력되는 객체 포매팅  \n",
    "* range : 정수 시퀀스 생성 \n",
    "* abs : 절댓값 구하기 \n",
    "* input : 사용자에게 문자열 입력받기 \n",
    "* len : 컬렉션 길이 구하기 \n",
    "* type, isinstance : 객체 타입 구하기 \n",
    "* max : 2개 이상의 값 중 가장 큰 최댓값 구하기 \n",
    "* min : 2개 이상의 값 중 가장 작은 최솟값 구하기 \n",
    "* map, zip : 2개 이상의 시퀀스 통합하기 \n",
    "* open : 읽거나 쓸 디스크 파일 열기 \n",
    "* print : 열거한 값 출력 \n",
    "* sorted, reversed : 정렬되거나 역순의 컬렉션 생산 \n",
    "* round : 소수점 반올림 \n",
    "* sum : 컬렉션 항목 합계 구하기 "
   ]
  },
  {
   "cell_type": "markdown",
   "metadata": {},
   "source": [
    "### 1. abs(x)  \n",
    "\n",
    "숫자 인수 x의 절댓값을 반환한다. 결과는 0이나 양수이기 때문에 음수 인수에는 -1을 곱한다. 인수로 complex(복소수)가 전달되면 실수와 허수 벡터의 길이를 반환하는데, 결괏값은 0 이상의 실수-숫자다. 이 값을 구하기 위해 피타고라스 정의를 사용한다. "
   ]
  },
  {
   "cell_type": "code",
   "execution_count": 1,
   "metadata": {},
   "outputs": [
    {
     "data": {
      "text/plain": [
       "5.0"
      ]
     },
     "execution_count": 1,
     "metadata": {},
     "output_type": "execute_result"
    }
   ],
   "source": [
    "c = 3+4j \n",
    "abs(c)"
   ]
  },
  {
   "cell_type": "markdown",
   "metadata": {},
   "source": [
    "### 2. all(iterable)  \n",
    "\n",
    "이터러블이 생성하는 모든 항목의 bool 변환 결과가 True인 경우 True를 반환한다. 일반적으로 0이 아닌 값과 비어 있지 않은 컬렉션은 True로 평가된다."
   ]
  },
  {
   "cell_type": "code",
   "execution_count": 4,
   "metadata": {},
   "outputs": [
    {
     "data": {
      "text/plain": [
       "True"
      ]
     },
     "execution_count": 4,
     "metadata": {},
     "output_type": "execute_result"
    }
   ],
   "source": [
    "all([1, 2, 4])"
   ]
  },
  {
   "cell_type": "code",
   "execution_count": 5,
   "metadata": {},
   "outputs": [
    {
     "data": {
      "text/plain": [
       "False"
      ]
     },
     "execution_count": 5,
     "metadata": {},
     "output_type": "execute_result"
    }
   ],
   "source": [
    "all([1, 2, 0])"
   ]
  },
  {
   "cell_type": "markdown",
   "metadata": {},
   "source": [
    "### 3. any(iterable)  \n",
    "\n",
    "이터러블이 생성하는 모든 항목 중 하나라도 bool 변환 결과가 True인 경우 True를 반환한다. 0이 아닌 값과 비어 있지 않은 컬렉션은 True로 평가되는 것을 기억하자. "
   ]
  },
  {
   "cell_type": "code",
   "execution_count": 6,
   "metadata": {},
   "outputs": [
    {
     "data": {
      "text/plain": [
       "True"
      ]
     },
     "execution_count": 6,
     "metadata": {},
     "output_type": "execute_result"
    }
   ],
   "source": [
    "any([0, 2, 0])"
   ]
  },
  {
   "cell_type": "code",
   "execution_count": 7,
   "metadata": {},
   "outputs": [
    {
     "data": {
      "text/plain": [
       "False"
      ]
     },
     "execution_count": 7,
     "metadata": {},
     "output_type": "execute_result"
    }
   ],
   "source": [
    "any([0, 0, 0])"
   ]
  },
  {
   "cell_type": "markdown",
   "metadata": {},
   "source": [
    "### 4. ascii(obj)  \n",
    "\n",
    "객체의 아스키 전용 표현 obj를 문자열로 반환한다. 아스키가 아닌 문자가 출력 문자열에서 발견되면 이스케이프 시퀀스로 해석된다. "
   ]
  },
  {
   "cell_type": "markdown",
   "metadata": {},
   "source": [
    "### 5. bin(b)  \n",
    "\n",
    "이진수 변환. 0b 접두어로 시작하는 정수 n의 이진수를 담은 문자열을 반환한다. 정수가 아닌 인수를 넣으면 TypeError 예외가 발생한다. "
   ]
  },
  {
   "cell_type": "code",
   "execution_count": 8,
   "metadata": {},
   "outputs": [
    {
     "data": {
      "text/plain": [
       "'0b111'"
      ]
     },
     "execution_count": 8,
     "metadata": {},
     "output_type": "execute_result"
    }
   ],
   "source": [
    "bin(7)"
   ]
  },
  {
   "cell_type": "markdown",
   "metadata": {},
   "source": [
    "### 6. bool(obj)  \n",
    "\n",
    "불리언 변환. 이 함수는 filter 함수처럼 if와 while 문에서 묵시적으로 호출되기 때문에 무척 중요한 변환이다.  \n",
    "\n",
    "이 함수는 obj 값에 따라 \\__bool__ 메서드 구현에 의해 평가된 True나 False를 반환한다. 기본 반환 값은 True다. 파이썬 클래스는 다음과 같이 일반적인 지침을 따르는 경향이 있다.  \n",
    "\n",
    "객체가 다음 값을 포함하고 있으면 일반적으로 True를 반환한다.  \n",
    "\n",
    "* 0이 아닌 숫자 값(복소수 숫자인 경우 0+0j가 아닌 모든 복소수)\n",
    "* 항목이 있는 리스트와 문자열을 포함한 비어 있지 않은 컬렉션  \n",
    "\n",
    "반대로 다음 객체를 포함하고 있으면 일반적으로 False를 반환한다.  \n",
    "\n",
    "* 0인 숫자\n",
    "* 길이가 0인 컬렉션이나 시퀀스, 혹은 문자열\n",
    "* 특별 값 None"
   ]
  },
  {
   "cell_type": "code",
   "execution_count": 10,
   "metadata": {},
   "outputs": [
    {
     "name": "stdout",
     "output_type": "stream",
     "text": [
      "True False\n"
     ]
    }
   ],
   "source": [
    "class Blah():\n",
    "    pass\n",
    "b = Blah()\n",
    "b.egg = 0\n",
    "print(bool(b), bool(b.egg))\n"
   ]
  },
  {
   "cell_type": "markdown",
   "metadata": {},
   "source": [
    "이 예시에서는 객체 b를 True로 평가한다. 클래스에 \\__bool__ 메서드가 정의되어 있지 않기 때문이다. 하지만 b.egg는 0이기 때문에 Flase로 평가한다. "
   ]
  },
  {
   "cell_type": "markdown",
   "metadata": {},
   "source": [
    "### 7. bytes(source, encoding)  \n",
    "\n",
    "바이트-문자열 변환 함수. 일반적으로 문자열을 바이트 문자열로 변환하며, 각 항목은 0에서 255 사이의 바이트 값을 가진 단일 바이트로 저장된다. 파이썬 3.0 에서는 유니코드나 UTF-8 표현을 사용하는 것이 일반적이기 때문에 일반 문자열은 문자당 1바이트 이상을 차지할 수 있다. 따라서 문자당 1바이트를 포함해야 하는 경우 기본 문자열을 bytes 문자열로 변환할 필요가 있다. "
   ]
  },
  {
   "cell_type": "code",
   "execution_count": 1,
   "metadata": {},
   "outputs": [
    {
     "data": {
      "text/plain": [
       "b'Hi there!'"
      ]
     },
     "execution_count": 1,
     "metadata": {},
     "output_type": "execute_result"
    }
   ],
   "source": [
    "bs = bytes('Hi there!', encoding='utf-8')\n",
    "bs"
   ]
  },
  {
   "cell_type": "markdown",
   "metadata": {},
   "source": [
    "### 8. callabled(obj)  \n",
    "\n",
    "객체 obj를 함수로 호출할 수 있으면 True를 반환한다. True를 반환하면 obj가 함수 정의문에 의해 생성된 이름이거나 \\__call__을 구현한 클래스의 인스턴스라는 의미다. 물론 두 경우 모두에 해당할 수도 있다. "
   ]
  },
  {
   "cell_type": "markdown",
   "metadata": {},
   "source": [
    "### 9. chr(n)  \n",
    "\n",
    "유니코드 값 n에 해당하는 문자인 단일-문자 문자열을 반환한다. 이 범위 안에는 아스키 문자가 포함된다. 이 함수는 ord 함수와 반대로 동작한다. 함수의 도메인은 0x10FFFF다. \n",
    "도메인 밖의 n값은 ValueError를 유발한다. "
   ]
  },
  {
   "cell_type": "code",
   "execution_count": 2,
   "metadata": {},
   "outputs": [
    {
     "data": {
      "text/plain": [
       "'a'"
      ]
     },
     "execution_count": 2,
     "metadata": {},
     "output_type": "execute_result"
    }
   ],
   "source": [
    "chr(97)"
   ]
  },
  {
   "cell_type": "markdown",
   "metadata": {},
   "source": [
    "### 10. complie(cmd_str, filename, mode_str, flags=0, dont_inherit=Flase, optimize=-1)  \n",
    "\n",
    "complie 함수는 표현식, 문장이나 코드 블록(mode에 의해 결정)을 포함한 문자열을 인수로 받아 eval이나 exac 함수를 호출하여 실행할 수 있는 코드 객체를 반환한다. mode_str 문자열은 'exec','single','eval' 중 하나가 되며 각각 모듈, 단일 문장, 표현식을 의미한다.  \n",
    "\n",
    "파이썬 코드에 의도하지 않은 임의 문자열을 추가하여 실행할 수 있기 때문에 외부인이 exec를 사용하여 코드에 접근할 수 있게 되면 주요 보안 위험에 노출된다. 일반적으로 이 기능을 사용할 아주 좋은 이유가 없다면 피해야 한다. "
   ]
  },
  {
   "cell_type": "code",
   "execution_count": 3,
   "metadata": {},
   "outputs": [
    {
     "name": "stdout",
     "output_type": "stream",
     "text": [
      "pi/2 =  1.570796\n"
     ]
    }
   ],
   "source": [
    "command_str = '''\n",
    "pi = 3.141592\n",
    "print('pi/2 = ', pi/2)\n",
    "'''\n",
    "\n",
    "cmd = compile(command_str, 'my_mod', 'exec')\n",
    "exec(cmd)"
   ]
  },
  {
   "cell_type": "markdown",
   "metadata": {},
   "source": [
    "### 11.complex(real=0, imag=0)  \n",
    "\n",
    "복소수-숫자 변환. real(실수)과 imag(허수) 인수는 모두 선택 사항이며, 각 인수의 기본값은 0이다. 이 함수는 숫자를 입력하면 다음과 같이 응답한다.  \n",
    "\n",
    "* imag 인수를 1j(허수 숫자 i)로 곱한다. \n",
    "* 이 값을 real 인수에 더한다 \n",
    "* 필요한 경우 0j를 더하거나 빼서 결과가 봇소수 숫자가 되게 한다. (보통 위 2개의 규칙을 따른다.)  \n"
   ]
  },
  {
   "cell_type": "markdown",
   "metadata": {},
   "source": [
    "예를 들어 기본 반환값은 0-값 복소수 숫자다. "
   ]
  },
  {
   "cell_type": "code",
   "execution_count": 4,
   "metadata": {},
   "outputs": [
    {
     "data": {
      "text/plain": [
       "0j"
      ]
     },
     "execution_count": 4,
     "metadata": {},
     "output_type": "execute_result"
    }
   ],
   "source": [
    "complex()"
   ]
  },
  {
   "cell_type": "markdown",
   "metadata": {},
   "source": [
    "또한, 실수 부분만 인수로 전달하여 실수가 아닌 복소수라는 것을 나타내는 0j를 포함한 값을 만들 수 있다. "
   ]
  },
  {
   "cell_type": "code",
   "execution_count": 5,
   "metadata": {},
   "outputs": [
    {
     "data": {
      "text/plain": [
       "(5.5+0j)"
      ]
     },
     "execution_count": 5,
     "metadata": {},
     "output_type": "execute_result"
    }
   ],
   "source": [
    "complex(5.5)"
   ]
  },
  {
   "cell_type": "markdown",
   "metadata": {},
   "source": [
    "이 변환을 사용가능 가장 일반적인 방법은 각 인수에 실수나 정수를 전달하는 것이다. "
   ]
  },
  {
   "cell_type": "code",
   "execution_count": 6,
   "metadata": {},
   "outputs": [
    {
     "data": {
      "text/plain": [
       "(3-2.1j)"
      ]
     },
     "execution_count": 6,
     "metadata": {},
     "output_type": "execute_result"
    }
   ],
   "source": [
    "complex(3, -2.1)"
   ]
  },
  {
   "cell_type": "markdown",
   "metadata": {},
   "source": [
    "또한, 첫 번째 인수에만 복소수 인수를 전달하여 전달받은 복소수 숫자를 있는 그대로 반환할 수 있다. "
   ]
  },
  {
   "cell_type": "code",
   "execution_count": 7,
   "metadata": {},
   "outputs": [
    {
     "data": {
      "text/plain": [
       "(10-3.5j)"
      ]
     },
     "execution_count": 7,
     "metadata": {},
     "output_type": "execute_result"
    }
   ],
   "source": [
    "complex(10-3.5j)"
   ]
  },
  {
   "cell_type": "markdown",
   "metadata": {},
   "source": [
    "이 함수의 재미있는 점은 인수 2개로 복소수를 표현할 수 있다는 것이다. 여전히 앞서 언급한 규칙은 적용된다. 다음 예제에서 허수 인수는 5j다. 이 값은 평소와 같이 1j를 곱하면 결과는 5j * 1j = -5다. 그런 다음 이 값의 실수 인수인 1이 더해져서 -4를 만든다. "
   ]
  },
  {
   "cell_type": "code",
   "execution_count": 8,
   "metadata": {},
   "outputs": [
    {
     "data": {
      "text/plain": [
       "(-4+0j)"
      ]
     },
     "execution_count": 8,
     "metadata": {},
     "output_type": "execute_result"
    }
   ],
   "source": [
    "complex(1, 5j)"
   ]
  },
  {
   "cell_type": "markdown",
   "metadata": {},
   "source": [
    "### 12. complex(complex_str)  \n",
    "\n",
    "복소수-숫자 변환은 'a+bj' 양식의 단일 문자열 인수를 허용한다. 인수 안에 빈칸이 있으면 절대 안되고, 두 번재 인수도 허용하지 않는다. 선택적으로 소괄호 기호를 a+bj로 감쌀 수 있다. "
   ]
  },
  {
   "cell_type": "code",
   "execution_count": 9,
   "metadata": {},
   "outputs": [
    {
     "data": {
      "text/plain": [
       "(10.2+5j)"
      ]
     },
     "execution_count": 9,
     "metadata": {},
     "output_type": "execute_result"
    }
   ],
   "source": [
    "complex('10.2+5j')"
   ]
  },
  {
   "cell_type": "code",
   "execution_count": 10,
   "metadata": {},
   "outputs": [
    {
     "data": {
      "text/plain": [
       "(10.2+5j)"
      ]
     },
     "execution_count": 10,
     "metadata": {},
     "output_type": "execute_result"
    }
   ],
   "source": [
    "complex('(10.2+5j)')"
   ]
  },
  {
   "cell_type": "markdown",
   "metadata": {},
   "source": [
    "이 함수는 유효한 복소수 숫자로 구성된 문자열을 허용한다. 실수나 허수 부분만 있어도 상관없다. 0이 아닌 허수 부분이 존재하지 않더라도 0j 는 항상 결과에 포함된다. "
   ]
  },
  {
   "cell_type": "code",
   "execution_count": 11,
   "metadata": {},
   "outputs": [
    {
     "data": {
      "text/plain": [
       "(2+0j)"
      ]
     },
     "execution_count": 11,
     "metadata": {},
     "output_type": "execute_result"
    }
   ],
   "source": [
    "complex('2')"
   ]
  },
  {
   "cell_type": "code",
   "execution_count": 12,
   "metadata": {},
   "outputs": [
    {
     "data": {
      "text/plain": [
       "3j"
      ]
     },
     "execution_count": 12,
     "metadata": {},
     "output_type": "execute_result"
    }
   ],
   "source": [
    "complex('3j')"
   ]
  },
  {
   "cell_type": "markdown",
   "metadata": {},
   "source": [
    "이 함수의 또 다른 별난 점은 complex_str이 1j를 사용할 수 있는 유일한 곳이라는 것이다. 일반적으로 j라는 변수와 구별하려면 숫자를 j와 결합해야 한다."
   ]
  },
  {
   "cell_type": "code",
   "execution_count": 13,
   "metadata": {},
   "outputs": [
    {
     "data": {
      "text/plain": [
       "(1+1j)"
      ]
     },
     "execution_count": 13,
     "metadata": {},
     "output_type": "execute_result"
    }
   ],
   "source": [
    "complex('1+j')"
   ]
  },
  {
   "cell_type": "markdown",
   "metadata": {},
   "source": [
    "### 13. delattr(obj, name_str)  \n",
    "\n",
    "삭제-속성 함수. 객체 obj에서 속성 이름이 name_str로 해당속성을 제거한다. "
   ]
  },
  {
   "cell_type": "code",
   "execution_count": null,
   "metadata": {},
   "outputs": [],
   "source": [
    "my_dog.breed = 'St Bernard'\n",
    "...\n",
    "a_str = 'breed'\n",
    "delattr(my_dog, a_str)"
   ]
  },
  {
   "cell_type": "markdown",
   "metadata": {},
   "source": [
    "이 문장을 실행하고 나면 객체 my_dog에는 더 이상 'breed'라는 속성이 존재하지 않게 된다. 해당 속성이 삭제되기 전에 이미 존재하지 않는다면 AttributeError 예외가 발생한다. "
   ]
  },
  {
   "cell_type": "markdown",
   "metadata": {},
   "source": [
    "### 14. dir([obj])  \n",
    "\n",
    "디렉터리 함수. 선택적 인수인 obj의 속성 리스트를 반환한다. 만약 이 객체가 클래스라면 해당 클래스의 모든 속성을 보여준다. 이 객체가 클래스가 아니라면 객체의 클래스를 가져와서 해당 클래스의 모든 속성을 보여준다.  \n",
    "\n",
    "이 인수가 누락되면 dir은 dir을 호출하고 있는 함수나 모듈의 속성 리스트를 반환한다.  \n",
    "\n",
    "dir() # 모듈의 속성들을 보여준다.  \n",
    "\n",
    "혹은 함수 정의문 안에서 호출할 수도 있다. "
   ]
  },
  {
   "cell_type": "code",
   "execution_count": 18,
   "metadata": {},
   "outputs": [
    {
     "name": "stdout",
     "output_type": "stream",
     "text": [
      "['__abs__', '__add__', '__and__', '__bool__', '__ceil__', '__class__', '__delattr__', '__dir__', '__divmod__', '__doc__', '__eq__', '__float__', '__floor__', '__floordiv__', '__format__', '__ge__', '__getattribute__', '__getnewargs__', '__gt__', '__hash__', '__index__', '__init__', '__init_subclass__', '__int__', '__invert__', '__le__', '__lshift__', '__lt__', '__mod__', '__mul__', '__ne__', '__neg__', '__new__', '__or__', '__pos__', '__pow__', '__radd__', '__rand__', '__rdivmod__', '__reduce__', '__reduce_ex__', '__repr__', '__rfloordiv__', '__rlshift__', '__rmod__', '__rmul__', '__ror__', '__round__', '__rpow__', '__rrshift__', '__rshift__', '__rsub__', '__rtruediv__', '__rxor__', '__setattr__', '__sizeof__', '__str__', '__sub__', '__subclasshook__', '__truediv__', '__trunc__', '__xor__', 'as_integer_ratio', 'bit_length', 'conjugate', 'denominator', 'from_bytes', 'imag', 'numerator', 'real', 'to_bytes']\n"
     ]
    }
   ],
   "source": [
    "def demo():\n",
    "    i = 1\n",
    "    j = 2\n",
    "    print(dir())\n",
    "    \n",
    "demo()\n",
    "print(dir(int))"
   ]
  },
  {
   "cell_type": "markdown",
   "metadata": {},
   "source": [
    "print(dir(int)) 는 긴 목록을 출력하는데, i는 정수고 정수 클래스(int) 는 상당히 긴 속성 목록을 가지고 있기 때문이다. "
   ]
  },
  {
   "cell_type": "markdown",
   "metadata": {},
   "source": [
    "### 15. divmod(a, b)  \n",
    "\n",
    "a를 b로 나눈 후 a / b 의 반올림한 정수와 a % b로 구하는 나머지로 구성된 튜플을 반환한다. 이 함수는 대게 정수와 함께 쓰인다. "
   ]
  },
  {
   "cell_type": "code",
   "execution_count": 20,
   "metadata": {},
   "outputs": [
    {
     "name": "stdout",
     "output_type": "stream",
     "text": [
      "20 3\n"
     ]
    }
   ],
   "source": [
    "quot, rem = divmod(203, 10)\n",
    "print(quot, rem)"
   ]
  },
  {
   "cell_type": "markdown",
   "metadata": {},
   "source": [
    "a와 b는 둘 중에 하나 혹은 둘 다 float 값일 수 있다. 하지만 다음 예시는 반환값이 모두 부동소수점 포맷이다. 몫에는 소수가 없지만, 나머지에는 있을 수 있다. "
   ]
  },
  {
   "cell_type": "code",
   "execution_count": 21,
   "metadata": {},
   "outputs": [
    {
     "data": {
      "text/plain": [
       "(21.0, 0.09999999999999964)"
      ]
     },
     "execution_count": 21,
     "metadata": {},
     "output_type": "execute_result"
    }
   ],
   "source": [
    "divmod(10.6, 0.5)"
   ]
  },
  {
   "cell_type": "markdown",
   "metadata": {},
   "source": [
    "위 예시의 결과로 반환된 튜플은 (21.0, 0.1)이 되어야 하지만 부동소수점 값에서 발생하는 작은 반올림 에러가 있다. 이 에러는 round 함수를 사용하여 고칠 수 있다. "
   ]
  },
  {
   "cell_type": "markdown",
   "metadata": {},
   "source": [
    "### 16. emunerate(iterable, start=0)  \n",
    "\n",
    "이뉴머레이션(나열), 이터러블을 인수로 받아 다음 형태의 튜플 시퀀스를 반환한다.  \n",
    "\n",
    "number, item  \n",
    "\n",
    "number는 (기본 설정이 0인) start로 시작해서 1씩 증가한다. item은 이터러블에 의해 결정되는 각 항목이다.  \n",
    "\n",
    "예를 들어 문자열 리스트의 각 항목을 시퀀스 번호와 함께 출력하고 싶다면 다음 루프 문을 사용하면 된다. "
   ]
  },
  {
   "cell_type": "code",
   "execution_count": 22,
   "metadata": {},
   "outputs": [
    {
     "name": "stdout",
     "output_type": "stream",
     "text": [
      "1. John\n",
      "2. Paul\n",
      "3. George\n",
      "4. Ringo\n"
     ]
    }
   ],
   "source": [
    "beat_list = ['John', 'Paul', 'George', 'Ringo']\n",
    "for n, item in enumerate(beat_list, 1):\n",
    "    print('%s. %s' % (n, item))"
   ]
  },
  {
   "cell_type": "markdown",
   "metadata": {},
   "source": [
    "그런데 enumerate 함수에 의해 생성되는 값은 for 문에서 사용할 수 있는 enumerate 객체다. 원한다면 리스트나 튜플로 변환되는 다른 이터러블이 될 수도 있다. 1부터 시작되는 이번 예시는 enumeratrion 객체가 시퀀스 안에서 튜플을 생성한다.  \n",
    "\n",
    "(1, item0), (2, item1), (3, item2)...  \n",
    "\n",
    "이 이터러블을 출력하고 싶다면 리스트로 변환하거나 for 문을 사용할 수 있다 . "
   ]
  },
  {
   "cell_type": "markdown",
   "metadata": {},
   "source": [
    "### 17. eval(expr_str [, globals [,locals]])  \n",
    "\n",
    "expr_str에 포함된 파이썬 표현식을 실행한다. 비록 이 함수가 코드를 더욱 간략하게 작성할 수 있게 한다고 하더라도, 이 앱이 여러분 혼자 사용하는 앱이 아닌 이상 사용자에게 입력받은 임의의 문자열을 실행하기 때문에 잠재적으로 위험을 안고 있다.  \n",
    "\n",
    "다음 예시는 파이썬 표현식을 실행하여 결과를 반환하고 있다. "
   ]
  },
  {
   "cell_type": "code",
   "execution_count": 23,
   "metadata": {},
   "outputs": [
    {
     "data": {
      "text/plain": [
       "355"
      ]
     },
     "execution_count": 23,
     "metadata": {},
     "output_type": "execute_result"
    }
   ],
   "source": [
    "a = 100\n",
    "eval('3 * a + 55')"
   ]
  },
  {
   "cell_type": "markdown",
   "metadata": {},
   "source": [
    "문자열에는 문장이 아닌 표현식이 포함되어야 한다. 따라서 대입문을 사용할 수 없다. 하지만 표현식에서 함수를 호출할 수 있으며, 함수를 호출하면 문장을 실행할 수 있다.  \n",
    "\n",
    "eval의 위험을 줄이는 한 가지 방법은 심벌에 대한 접근을 막는 것이다. 기본적으로 globals 인수는 지역 심벌 설정도 제공한다. 이 인수를 빈 딕셔너리에 설정하면 심벌에 접근하는 것을 피할수 있다. (하지만 내장 함수는 항상 접근할 수 있다는 것을 기억하자)"
   ]
  },
  {
   "cell_type": "code",
   "execution_count": 24,
   "metadata": {},
   "outputs": [
    {
     "data": {
      "text/plain": [
       "355"
      ]
     },
     "execution_count": 24,
     "metadata": {},
     "output_type": "execute_result"
    }
   ],
   "source": [
    "eval('3 * 100 + 55', {})"
   ]
  },
  {
   "cell_type": "code",
   "execution_count": null,
   "metadata": {},
   "outputs": [],
   "source": [
    "eval('3 * a + 55', {})"
   ]
  },
  {
   "cell_type": "markdown",
   "metadata": {},
   "source": [
    "위 코드는 a를 정의하지 않아 에러가 나옴.  \n",
    "코드를 완벽하게 확인하는 한 가지 방법은 접근할 심벌이 포함된 딕셔너리를 만든 후 해당 딕셔너리를 globals 인수로 지정하는 것이다."
   ]
  },
  {
   "cell_type": "code",
   "execution_count": 27,
   "metadata": {},
   "outputs": [
    {
     "data": {
      "text/plain": [
       "466.30765815499865"
      ]
     },
     "execution_count": 27,
     "metadata": {},
     "output_type": "execute_result"
    }
   ],
   "source": [
    "from math import * \n",
    "\n",
    "a = 25\n",
    "dict_1 = {'tan': tan, 'radians': radians, 'a': a}\n",
    "eval('1000 * tan(radians(a))', dict_1)"
   ]
  },
  {
   "cell_type": "markdown",
   "metadata": {},
   "source": [
    "딕셔너리를 만들어서 eval 문이 단 2개의 함수 (tar, radians)와 2개의 변수 (a)만 접근할 수 있게 제한한다.  \n",
    "locals 인수는 많이 사용되지는 않지만, 지역 심벌만 접근할 수 있게 제약할 때 사용할 수 있다. 이번 예시는 함수 접근을 허용하지 않을 것이다. "
   ]
  },
  {
   "cell_type": "code",
   "execution_count": 28,
   "metadata": {},
   "outputs": [
    {
     "data": {
      "text/plain": [
       "725"
      ]
     },
     "execution_count": 28,
     "metadata": {},
     "output_type": "execute_result"
    }
   ],
   "source": [
    "eval('a * a + 100', {}, locals())"
   ]
  },
  {
   "cell_type": "markdown",
   "metadata": {},
   "source": [
    "### 18. exec(object [, global [,locals]])  \n",
    "\n",
    "complie과 eval 함수를 보자. complie과 exec 함수는 경험이 많은 고급 프로그래머만 사용한다. 이 함수는 큰 보안위험이 있기 때문에 일반적으로 사용하는 것을 피해야 한다.  "
   ]
  },
  {
   "cell_type": "markdown",
   "metadata": {},
   "source": [
    "### 19. filter(function, iterable)  \n",
    "\n",
    "필터링이 반영된 값의 시퀀스를 생성한다. 이터러블의 각 항목은 function에 전달된다. 이 function 반드시 하나의 인수를 가져야 하며, True나 False를 반환해야 한다.  \n",
    "\n",
    "인수로 전달된 항목을 True로 평가하면 해당 항목은 filter에 의해 생성된 시퀀스에 포함된다. 그렇지 않으면 해당 항목은 제외된다.  \n",
    "\n",
    "다음 예시에서는 음수만 결과에 포함된다. 다른값은 제외된다. "
   ]
  },
  {
   "cell_type": "code",
   "execution_count": 29,
   "metadata": {},
   "outputs": [
    {
     "name": "stdout",
     "output_type": "stream",
     "text": [
      "[-1, -3, -2.5]\n"
     ]
    }
   ],
   "source": [
    "def is_neg(x):\n",
    "    return x < 0\n",
    "\n",
    "my_list = [10, -1, 20, -3, -2.5, 30] \n",
    "print(list(filter(is_neg, my_list)))"
   ]
  },
  {
   "cell_type": "markdown",
   "metadata": {},
   "source": [
    "filter가 생산하는 결과는 일종의 이터러블이다. 원한다면 리스트로 변환하여 출력할 수 있다. 따라서 마지막 줄은 위 결과를 출력한다.  \n",
    "\n",
    "function 인수는 선택 사항으로 None이 될 수 있다. 이 경우에는 각 항목에 bool 변환을 반영하여 True 를 반환한 항목들이 결과에 포함된다(일반적으로 0이 아닌 값이나 비어 있지 않은 컬렉션이 True로 평가된다)"
   ]
  },
  {
   "cell_type": "markdown",
   "metadata": {},
   "source": [
    "### 20. float([x])  \n",
    "\n",
    "부동소수점 변환. 선택적 인수 x가 주어지면 x를 부동소수점으로 변환한 값의 결과를 반환한다. 부동소수점으로 성공적으로 변환될 수 있는 타입에는 숫자 타입과 부동소수점 숫자로 표현된 문자열이 포함된다.  \n",
    "\n",
    "문자열은 '4.105', '-23E01', '10.5e-5' 와 같은 숫자 표현식을 포함할 수 있다. 양의 무한수와 음의 무한수는 'Infinity','-Infinity','inf','-inf'와 같이 표현된다. "
   ]
  },
  {
   "cell_type": "code",
   "execution_count": 32,
   "metadata": {},
   "outputs": [
    {
     "name": "stdout",
     "output_type": "stream",
     "text": [
      "1.0 -230.0 0.0\n"
     ]
    }
   ],
   "source": [
    "n = 1\n",
    "yyy = float(n)\n",
    "amt = float('-23E01')\n",
    "amy = float()\n",
    "print(yyy, amt, amy)"
   ]
  },
  {
   "cell_type": "markdown",
   "metadata": {},
   "source": [
    "인수가 전달되지 않으면 0.0을 반환한다"
   ]
  },
  {
   "cell_type": "markdown",
   "metadata": {},
   "source": [
    "### 21. format(obj, [format_spec])  \n",
    "\n",
    "5장에서 설명한 포매팅을 수행하는 확장 구문을 사용하는 포맷-문자열 함수다. 선택적 인수인 format_spec이 전달되면 이 인수는 5장에서 설명한 spec 포매팅 코드와 같이 해석된다. 그렇지 않으면 해당 객체는 표준 \\__str__표현으로 변환된다. 두 경우 모두 문자열을 반환한다.  "
   ]
  },
  {
   "cell_type": "code",
   "execution_count": 33,
   "metadata": {},
   "outputs": [
    {
     "data": {
      "text/plain": [
       "'1,000,000'"
      ]
     },
     "execution_count": 33,
     "metadata": {},
     "output_type": "execute_result"
    }
   ],
   "source": [
    "format(1000000,',')"
   ]
  },
  {
   "cell_type": "markdown",
   "metadata": {},
   "source": [
    "문자열 클래스(str)의 format 메서드는 각 내장 출력 필드에 대해 이 함수를 한 번씩 호출한다. 객체의 \\__format__ 메서드가 정의되었다면 \\__format__을 호출하며, 그렇지 않은 경우(기본적으로) \\__str__ 메서드를 호출한다. "
   ]
  },
  {
   "cell_type": "markdown",
   "metadata": {},
   "source": [
    "### 22. frozenset([iterable])  \n",
    "\n",
    "불변 버전의 set 타입인 frozenset 객체를 반환한다. 다음 예시에서 사용한 소괄호 기호는 인수로 튜플을 지정하겠다는 의미라는 것에 주목하자.  "
   ]
  },
  {
   "cell_type": "code",
   "execution_count": 34,
   "metadata": {},
   "outputs": [
    {
     "data": {
      "text/plain": [
       "frozenset({1, 2, 3, 4})"
      ]
     },
     "execution_count": 34,
     "metadata": {},
     "output_type": "execute_result"
    }
   ],
   "source": [
    "frozenset((1, 2, 2, 3, 3, 4, 1))"
   ]
  },
  {
   "cell_type": "markdown",
   "metadata": {},
   "source": [
    "iterable 인수를 생략하면 이 함수는 빈 frozenset을 반환한다. "
   ]
  },
  {
   "cell_type": "markdown",
   "metadata": {},
   "source": [
    "### 23. getattr(obj, name_str [, default])  \n",
    "\n",
    "속성-확인 함수. 객체 obj의 명명 속성들의 값을 반환한다. 어떤 타입이든 올 수도 있다. name_str 인수는 속성을 담고 있는 문자열이다. 속성이 존재하지 않으면 기본값이 반환된다. 하지만 명명 속성이 존재하지 않으면 기본값을 반환하지 않고, AttributeError 예외가 발생한다.  \n",
    "\n",
    "다음 예시는 Dog 클래스가 존재한다고 가정한다.  출력은 'Bulldog'"
   ]
  },
  {
   "cell_type": "code",
   "execution_count": null,
   "metadata": {},
   "outputs": [],
   "source": [
    "d = Dog() \n",
    "d.breed = 'Bulldog'\n",
    "attr_name = 'breed'\n",
    "getattr(d, attr_name)\n"
   ]
  },
  {
   "cell_type": "markdown",
   "metadata": {},
   "source": [
    "### 24. globals()  \n",
    "\n",
    "현재 실행하고 있는 모듈이 포함하고 있는 모든 전역 변수 이름과 값을 담고 있는 데이터 딕셔너리를 반환한다. "
   ]
  },
  {
   "cell_type": "markdown",
   "metadata": {},
   "source": [
    "### 25. hasattr(obj, name_str)  \n",
    "\n",
    "객체 obj가 주어진 name_str 속성을 가지고 있다면 True를 반환한다. 다음 ㅇ시는 my_dog 가 Dog 클래스의 인스턴스라고 가정한다. 출력은 True"
   ]
  },
  {
   "cell_type": "code",
   "execution_count": null,
   "metadata": {},
   "outputs": [],
   "source": [
    "my_dog.breed = 'Husky' \n",
    "nm = 'breed'\n",
    "hasattr(my_dog, nm)"
   ]
  },
  {
   "cell_type": "markdown",
   "metadata": {},
   "source": [
    "### 26. hash(obj)  \n",
    "\n",
    "특정 객체 obj의 해시 값을 반환한다. 해시 값은 데이터 딕셔너리 안에서 주어진 객체 obj의 키로 사용된다. 이 함수를 제공하지 않는 객체의 클래스는 '해시로 검색 가능'하지 않으며, 딕셔너리의 키로 사용할 수도 없다.  \n",
    "\n",
    "이 함수는 객체 클래스의 \\__hash__메서드를 호출하여 구현할 수 있다.  \n",
    "\n",
    "테스트 목적이 아닌 이상 hash 나 \\__hash__를 직접 호출하는 일은 극히 드물다. 반드시 기억해야 할 가장 중요한 것은 클래스를 작성할 때 키로 사용할 수 있는 타입이 되게 만들려면 반드시 \\__hash__ 매직 메서드를 구현해야 한다는 것이다. "
   ]
  },
  {
   "cell_type": "markdown",
   "metadata": {},
   "source": [
    "### 27. help(obj)  \n",
    "\n",
    "특정 객체 클래스의 도움말 문서를 출력한다. 이 함수는 IDLE 에서 자주 사용된다. 객체가 인수로 전달되지 않았다면 파이썬 시스템 도움말의 소개 페이지가 출력된다. "
   ]
  },
  {
   "cell_type": "markdown",
   "metadata": {},
   "source": [
    "### 28. hex(n)  \n",
    "\n",
    "16진수 변환, 접두사 0x를 포함한 정수 n의 16진법 표현을 담은 문자열을 반환한다. 정수가 아닌 타입이 인수로 전달되면 파이썬은 TypeError 예외를 발생한다. "
   ]
  },
  {
   "cell_type": "code",
   "execution_count": 35,
   "metadata": {},
   "outputs": [
    {
     "data": {
      "text/plain": [
       "'0x17'"
      ]
     },
     "execution_count": 35,
     "metadata": {},
     "output_type": "execute_result"
    }
   ],
   "source": [
    "hex(23)"
   ]
  },
  {
   "cell_type": "markdown",
   "metadata": {},
   "source": [
    "### 29. id(obj)  \n",
    "\n",
    "객체 obj의 유일한 식별자를 반환한다. 만약 2개의 변수 (obj1과 obj2)가 동일한 식별자를 가지고 있다면 표현식 obj1 is obj2 는 True를 반환한다. 이는 두 변수가 메모리상에 동일 객체를 참조하고 있다는 것을 의미한다 (제한 조건이 더 적은 동등성 비교(==)와 혼동하지 말자. )"
   ]
  },
  {
   "cell_type": "markdown",
   "metadata": {},
   "source": [
    "### 30. input([prompt_str])  \n",
    "\n",
    "입력함수. 사용자가 0개 이상의 문자를 입력하고 enter를 누를 때까지 기다렸다가 사용자가 입력한 문자열을 반환한다. prompt_str이 주어지면 '이름을 입력하세요:'와 같은 문자열을 사용자 에게 프롬프트로 출력한다. 프롬프트 문자열에는 자동으로 추가 빈칸이 출력되지 ㅇ낳기 때문에 필요하다면 직접 입력할 수 있다. "
   ]
  },
  {
   "cell_type": "code",
   "execution_count": 38,
   "metadata": {},
   "outputs": [
    {
     "name": "stdout",
     "output_type": "stream",
     "text": [
      "안녕 2\n"
     ]
    }
   ],
   "source": [
    "my_name = input('이름을 입력하세요')  \n",
    "my_age = int(input('나이를 입력하세요'))\n",
    "print(my_name, my_age)\n"
   ]
  },
  {
   "cell_type": "markdown",
   "metadata": {},
   "source": [
    "### 31. int(x, base=10)  \n",
    "\n",
    "정수 변환 함수. 이 함수는 유효한 정수 표현을 가진 숫자 값이나 문자열을 실제 정수 값으로 반환한다. base 인수가 포함되면 문자열을 표현할 진수를 지정하게 된다. 기본값은 10이지만 다른 진법인 경우 2(이진수), 8(8진수), 16(16진수)이 사용될 수도 있다. "
   ]
  },
  {
   "cell_type": "code",
   "execution_count": 39,
   "metadata": {},
   "outputs": [
    {
     "data": {
      "text/plain": [
       "4096"
      ]
     },
     "execution_count": 39,
     "metadata": {},
     "output_type": "execute_result"
    }
   ],
   "source": [
    "int('1000', 16)"
   ]
  },
  {
   "cell_type": "markdown",
   "metadata": {},
   "source": [
    "첫 번째 인수에 float와 같은 다른 숫자 타입을 지정할 수 있다. int 변환은 소수점을 잘라 낸다. "
   ]
  },
  {
   "cell_type": "code",
   "execution_count": 40,
   "metadata": {},
   "outputs": [
    {
     "data": {
      "text/plain": [
       "(3, -3)"
      ]
     },
     "execution_count": 40,
     "metadata": {},
     "output_type": "execute_result"
    }
   ],
   "source": [
    "int(3.99), int(-3.99)"
   ]
  },
  {
   "cell_type": "markdown",
   "metadata": {},
   "source": [
    "### 32. int()  \n",
    "\n",
    "인수가 없는 int 변환 함수. 이 버전의 int 함수는 정수 값 0을 반환한다. "
   ]
  },
  {
   "cell_type": "markdown",
   "metadata": {},
   "source": [
    "### 33. isinstance(obj, class)  \n",
    "\n",
    "객체 obj가 주어진 class나 해당 클래스에서 파생된 클래스의 인스턴스면 True를 반환한다. type 함수 대신 이 함수를 사용하기 바란다 (물론 두 번째 인수는 타입들로 구성된 튜플일 수 있다. 그런 경우 객체가 주어진 클래스 중 하나의 인스턴스 일 때 True를 반환한다.)"
   ]
  },
  {
   "cell_type": "markdown",
   "metadata": {},
   "source": [
    "### 34. issubclass(class1, class2)  \n",
    "\n",
    "class1이 class2의 하위 클래스 이거나 두 인수가 동일한 클래스면 True를 반환한다. class1이 클래스가 아니면 TypeError 예외가 발생한다. 물론 isinstance처럼 두 번째 인수는 타입들로 구성된 튜플일 수 있다. "
   ]
  },
  {
   "cell_type": "code",
   "execution_count": 43,
   "metadata": {},
   "outputs": [
    {
     "data": {
      "text/plain": [
       "True"
      ]
     },
     "execution_count": 43,
     "metadata": {},
     "output_type": "execute_result"
    }
   ],
   "source": [
    "class Floopy(int):\n",
    "    pass \n",
    "f = Floopy()\n",
    "issubclass(Floopy, int)"
   ]
  },
  {
   "cell_type": "markdown",
   "metadata": {},
   "source": [
    "### 35. iter(obj)  \n",
    "\n",
    "이터레이션 함수, 이 함수는 obj가 이터레이터를 반환하는 객체인 이터러블 이라고 가정한다. 제너레이터와 같은 표준 컬렉션과 시퀀스를 포함한다.  \n",
    "\n",
    "인수가 이터러블이 아니면 iter(obj)를 호출할 때 TypeError 예외가 발생한다. obj가 이터러블이면 이터레이터 객체를 반환해야 한다.  해당 객체는 next가 호출될 때마다 값의 시퀀스를 하나씩 바로 방문한다.  \n",
    "\n",
    "몇개의 예시가 이를 명확하게 설명할 수 있다. 우선 객체가 이터러블이면 iter(obj)를 합법적으로 호출할 수 없다. "
   ]
  },
  {
   "cell_type": "code",
   "execution_count": 44,
   "metadata": {},
   "outputs": [
    {
     "ename": "TypeError",
     "evalue": "'int' object is not iterable",
     "output_type": "error",
     "traceback": [
      "\u001b[0;31m---------------------------------------------------------------------------\u001b[0m",
      "\u001b[0;31mTypeError\u001b[0m                                 Traceback (most recent call last)",
      "Cell \u001b[0;32mIn[44], line 1\u001b[0m\n\u001b[0;32m----> 1\u001b[0m gen \u001b[38;5;241m=\u001b[39m \u001b[38;5;28;43miter\u001b[39;49m\u001b[43m(\u001b[49m\u001b[38;5;241;43m5\u001b[39;49m\u001b[43m)\u001b[49m\n",
      "\u001b[0;31mTypeError\u001b[0m: 'int' object is not iterable"
     ]
    }
   ],
   "source": [
    "gen = iter(5)"
   ]
  },
  {
   "cell_type": "markdown",
   "metadata": {},
   "source": [
    "반면 대상 객체가 리스트면 호출이 가능하다. 심지어 리스트가 항목 하나만 가지고 있어도 가능하다. "
   ]
  },
  {
   "cell_type": "code",
   "execution_count": 50,
   "metadata": {},
   "outputs": [],
   "source": [
    "gen = iter([5])"
   ]
  },
  {
   "cell_type": "markdown",
   "metadata": {},
   "source": [
    "물론 길이가 더 긴 리스트 (적어도 2개 이상의 항목)와 iter 함수를 사용하는 것이 더욱 일반적일 것이다. 이터레이터나 제너레이터 객체로 불리는 반환 객체를 next와 함께 사용하면 나열된 값에 하나씩 접근한다. "
   ]
  },
  {
   "cell_type": "code",
   "execution_count": 52,
   "metadata": {},
   "outputs": [
    {
     "data": {
      "text/plain": [
       "2"
      ]
     },
     "execution_count": 52,
     "metadata": {},
     "output_type": "execute_result"
    }
   ],
   "source": [
    "gen = iter([1, 2, 3])\n",
    "next(gen)\n",
    "next(gen)"
   ]
  },
  {
   "cell_type": "markdown",
   "metadata": {},
   "source": [
    "iter 함수는 (컬렉션이나 제너레이터와 같은) 이터러블 객체 클래스의 \\__iter__매직 메서드를 호출하며, next 함수는 이터레이터 객체 클래스의 \\__next__ 메서드를 호출한다. 다음에 나열한 두 단계 프로세스를 기억하자.  \n",
    "\n",
    "* 컬렉션, 시퀀스나 레인지와 같은 이터러블에 iter를 호출하면 이터레이터 객체를 반환한다. 종종 이 작업은 묵시적으로 수행되는데 for 루프와 함께 사용하면 자동으로 수행된다.  \n",
    "\n",
    "* 이터레이터 객체에 next함수를 호출하면 이터레이션에 의해 다음 값을 가져온다. 물론 for 루프는 이 과정을 자동으로 수행한다. "
   ]
  },
  {
   "cell_type": "markdown",
   "metadata": {},
   "source": [
    "### 36. len(sequence)  \n",
    "\n",
    "시퀀스에 현재 저장되어 있는 항목 개수를 반환한다. 시퀀스는 보통 컬렉션이지만, range 함수로 생성된 시퀀스일 수도 있다. 이번 예시는 문자열을 사용하며, 문자열 안에 문자 개수를 반환한다. "
   ]
  },
  {
   "cell_type": "code",
   "execution_count": 53,
   "metadata": {},
   "outputs": [
    {
     "data": {
      "text/plain": [
       "5"
      ]
     },
     "execution_count": 53,
     "metadata": {},
     "output_type": "execute_result"
    }
   ],
   "source": [
    "len('Hello')"
   ]
  },
  {
   "cell_type": "markdown",
   "metadata": {},
   "source": [
    "이 함수는 보통 객체 클래스의 \\__len__ 메서드를 호출하여 구현한다.  \n",
    "range 함수가 생성한 시퀀스가 이 함수를 지원한다고 하더라도, 다른 제너레이터도 모두 동일하다고 보장할 수는 없다. "
   ]
  },
  {
   "cell_type": "markdown",
   "metadata": {},
   "source": [
    "### 37. list([iterable])  \n",
    "\n",
    "리스트 변환 함수. 인수는 이터러블이어야 하며, 리스트를 반환한다. 제너레이터가 포함되면 값의 소수는 반드시 유한해야 한다.  \n",
    "iterable이 문자열이면 함수는 단일-문자 문자열을 항목으로 하는 리스트를 반환한다.  "
   ]
  },
  {
   "cell_type": "code",
   "execution_count": 54,
   "metadata": {},
   "outputs": [
    {
     "name": "stdout",
     "output_type": "stream",
     "text": [
      "['c', 'a', 't']\n"
     ]
    }
   ],
   "source": [
    "print(list('cat'))"
   ]
  },
  {
   "cell_type": "markdown",
   "metadata": {},
   "source": [
    "문법의 대괄호 기호는 iterable이 선택 사항이라는 것을 의미한다. iterable이 주어지지 않으면 빈 리스트 []를 반환한다. "
   ]
  },
  {
   "cell_type": "code",
   "execution_count": 55,
   "metadata": {},
   "outputs": [
    {
     "data": {
      "text/plain": [
       "[]"
      ]
     },
     "execution_count": 55,
     "metadata": {},
     "output_type": "execute_result"
    }
   ],
   "source": [
    "new_list = list()\n",
    "new_list"
   ]
  },
  {
   "cell_type": "markdown",
   "metadata": {},
   "source": [
    "### 38. locals()  \n",
    "\n",
    "로컬 심벌 테이블 안의 값 정보를 담고 있는 딕셔너리를 반환한다. 이 딕셔너리는 직접 수정되어서는 안된다.  "
   ]
  },
  {
   "cell_type": "code",
   "execution_count": 57,
   "metadata": {},
   "outputs": [
    {
     "name": "stdout",
     "output_type": "stream",
     "text": [
      "{'a': 2, 'b': 3, 'c': 1}\n"
     ]
    }
   ],
   "source": [
    "def foobar():\n",
    "    a = 2\n",
    "    b = 3\n",
    "    c = 1\n",
    "    \n",
    "    print(locals())\n",
    "\n",
    "foobar()"
   ]
  },
  {
   "cell_type": "markdown",
   "metadata": {},
   "source": [
    "### 39. map(function, iterable1 [, iteralbe2...])  \n",
    "\n",
    "여러 이터러블을 인수로 받아 (for문과 함께 사용가능한) 다른 이터러블로 반환하거나 list 변환 함수를 사용하여 리스트로 변환할 수도 있다.  \n",
    "\n",
    "function 인수는 콜러블이며, map 함수에 인수로 전달된 여러 이터러블의 숫자와 동일한 개수의 인수를 사용해야 한다.  \n",
    "\n",
    "여러 이터러블의 각 인수는 같은 순서로 함수의 인수에 배치되며, map 함수에 의해 생성되는 결과 시퀀스에 담긴다. 결과 이터러블은 인수가 다 소진되면 멈춘다. "
   ]
  },
  {
   "cell_type": "code",
   "execution_count": 59,
   "metadata": {},
   "outputs": [
    {
     "name": "stdout",
     "output_type": "stream",
     "text": [
      "[1, 20000]\n"
     ]
    }
   ],
   "source": [
    "def multy(a, b, c):\n",
    "    return a * b* c\n",
    "\n",
    "m = map(multy, [1, 20], [1, 20], [1, 50])\n",
    "print(list(m))"
   ]
  },
  {
   "cell_type": "markdown",
   "metadata": {},
   "source": [
    "map 함수는 최소한 하나의 이터러블 인수와 사용되지만, 그런 경우에는 리스트 함축이 보통 더 나은 해결책을 제공한다. "
   ]
  },
  {
   "cell_type": "markdown",
   "metadata": {},
   "source": [
    "### 40. max(arg1 [, arg2], ...)  \n",
    "\n",
    "하나 이상의 인수 시리즈 중 가장 큰 값을 반환한다 (대괄호 기호는 문자 그대로 선택 사항이라는 의미다) "
   ]
  },
  {
   "cell_type": "code",
   "execution_count": 60,
   "metadata": {},
   "outputs": [
    {
     "data": {
      "text/plain": [
       "5.25"
      ]
     },
     "execution_count": 60,
     "metadata": {},
     "output_type": "execute_result"
    }
   ],
   "source": [
    "max(1, 3.0, -100, 5.25)"
   ]
  },
  {
   "cell_type": "markdown",
   "metadata": {},
   "source": [
    "### 41. max(iterable)  \n",
    "\n",
    "유한한 iterable(컬렉션, 시퀀스나 제너레이터 객체)의 항목 중 가장 큰 값을 반환한다. 파이썬 3.0에서는 모든 항목을 서로 비교할 수 있어야 하며, 반드시 정렬이 가능 해야 한다. 그렇지 않은 경우 TypeError 예외를 발생한다.  \n",
    "\n",
    "포함된 객체의 미만 연산자(<)를 제공하면 정렬이 가능하다. 각 항목의 조합에 적용되는 적절한 \\__lt__ 매직 메서드가 정의되어야 한다는 의미다.  \n",
    "\n",
    "한편 complex를 제외한 모든 내장 숫자 타입은 정렬이 가능하다. "
   ]
  },
  {
   "cell_type": "code",
   "execution_count": 61,
   "metadata": {},
   "outputs": [
    {
     "data": {
      "text/plain": [
       "Fraction(5, 2)"
      ]
     },
     "execution_count": 61,
     "metadata": {},
     "output_type": "execute_result"
    }
   ],
   "source": [
    "from fractions import Fraction \n",
    "\n",
    "a_list = [1, Fraction('5/2'), 2.1]\n",
    "max(a_list)"
   ]
  },
  {
   "cell_type": "markdown",
   "metadata": {},
   "source": [
    "### 42. min(arg1, [, arg2], ...)  \n",
    "\n",
    "하나 이상의 인수 시리즈 중 가장 작은 값을 반환한다 (대괄호 기호는 문자 그대로 선택 사항이라는 의미다.) "
   ]
  },
  {
   "cell_type": "code",
   "execution_count": 62,
   "metadata": {},
   "outputs": [
    {
     "data": {
      "text/plain": [
       "-100"
      ]
     },
     "execution_count": 62,
     "metadata": {},
     "output_type": "execute_result"
    }
   ],
   "source": [
    "min(1, 3.0, -100, 5.25)"
   ]
  },
  {
   "cell_type": "markdown",
   "metadata": {},
   "source": [
    "### 43.min(iteralbe)  \n",
    "\n",
    "유한한 iterable(컬렉션, 시퀀스나 제너레이터 객체)의 항목 중 가장 작은 값을 반환한다. 파이썬 3.0에서는 모든 항목을 서로 비교할 수 있어야 하며, 반드시 정렬이 가능해야 한다. 그렇지 않은 경우 TypeError 예외를 발생한다.  \n",
    "\n",
    "포함된 객체의 밈만 연산자(<)를 제공하면 정렬이 가능하다. 각 항목의 조합에 적용되는 적절한 \\__lt__ 매직 메서드가 정의되어야 한다는 의미다.  \n",
    "\n",
    "한편 complex를 제외한 모든 내장 숫자 타입은 정렬이 가능하다. "
   ]
  },
  {
   "cell_type": "code",
   "execution_count": 63,
   "metadata": {},
   "outputs": [
    {
     "data": {
      "text/plain": [
       "1"
      ]
     },
     "execution_count": 63,
     "metadata": {},
     "output_type": "execute_result"
    }
   ],
   "source": [
    "from fractions import Fraction\n",
    "\n",
    "a_list = [1, Fraction('5/2'), 2.1]\n",
    "min(a_list)"
   ]
  },
  {
   "cell_type": "markdown",
   "metadata": {},
   "source": [
    "### 44. oct(n)  \n",
    "\n",
    "접두사 0o를 포함한 정수 n의 8진법 표현을 담은 문자열을 반환한다. 정수가 아닌 타입이 인수로 전달되면 파이썬은 TypeError 예외를 발생시킨다. "
   ]
  },
  {
   "cell_type": "code",
   "execution_count": 64,
   "metadata": {},
   "outputs": [
    {
     "data": {
      "text/plain": [
       "'0o11'"
      ]
     },
     "execution_count": 64,
     "metadata": {},
     "output_type": "execute_result"
    }
   ],
   "source": [
    "oct(9)"
   ]
  },
  {
   "cell_type": "markdown",
   "metadata": {},
   "source": [
    "### 45. open(file_name_str, mode='rt')  \n",
    "\n",
    "첫 번째 인수로 주어진 이름의 파일을 연다. 여기에는 전체 경로 이름 또는 현재 디렉터리의 로컬 이름이 포함될 수 있다. 파일이 성공적으로 열리면 파일 객체가 반환된다. 그렇지 않으면 FileNotFoundError와 같은 예외가 발생한다.  \n",
    "\n",
    "mode는 2개나 3개 이상의 문자를 담을 수 없는 문자열이다. 't'혹은 'b'와 같은 단일 문자는 파일을 텍스트나 바이너리로 접근한다는 것을 가리킨다. 기본값은 텍스트('t')다.  \n",
    "\n",
    "다른 문자들은 파일-접근 모드가 읽기, 쓰기, 혹은 읽기/쓰기 ㄹ는 것을 지정한다. 기본값은 읽기 모드('r')다. 밑의 표는 't'(기본값, 텍스트 모드) 혹은 'b'(바이너리 모드)와 조합으로 사용할 수 도 있는 읽기/쓰기 모드를 보여준다.  \n",
    "\n",
    "* r : 읽기모드, 파일은 반드시 기존에 존재해야 한다. \n",
    "* w : 쓰기모드, 전체 파일이 교체될 것이다. \n",
    "* a : 덧붙이기 모드, 파일 포인터는 파일의 끝으로 설정되지만, 기존 내용은 삭제되지 않는다. \n",
    "* w+ : 읽기/쓰기 모드, 파일을 열 때 0바이트로 잘라 낸다\n",
    "* r+ : 읽기/쓰기 모드, 파일을 열 때 잘라 내지 않는다. \n",
    "* x : (쓰기모드로) 배타적 생성 모드로 파일을 연다. 파일이 이미 존재하면 예외가 발생한다. "
   ]
  },
  {
   "cell_type": "markdown",
   "metadata": {},
   "source": [
    "바이너리 쓰기 모드('wb')로 파일을 여는 예시를 살펴보자. "
   ]
  },
  {
   "cell_type": "code",
   "execution_count": null,
   "metadata": {},
   "outputs": [],
   "source": [
    "f = open('mydat', 'wb')"
   ]
  },
  {
   "cell_type": "markdown",
   "metadata": {},
   "source": [
    "### 46. ord(char_str)  \n",
    "\n",
    "서수 값 함수. char_str로 전달한 문자의 아스키 또는 유니코드 문자 코드 번호를 반환한다. 이 인수는 정확히 하나의 문자로 구성된 문자열로 가정한다. 문자열이 아니거나 둘 이상의 문자를 포함하는 경우 TypeError 예외가 발생하낟.  \n",
    "ord 함수는 chr 함수의 역함수다. "
   ]
  },
  {
   "cell_type": "code",
   "execution_count": 65,
   "metadata": {},
   "outputs": [
    {
     "data": {
      "text/plain": [
       "'a'"
      ]
     },
     "execution_count": 65,
     "metadata": {},
     "output_type": "execute_result"
    }
   ],
   "source": [
    "chr(ord('a'))"
   ]
  },
  {
   "cell_type": "markdown",
   "metadata": {},
   "source": [
    "### 47. pow(x, y [,z])  \n",
    "\n",
    "제곱함수 x ** y와 같은 값을 반환한다. 즉, 숫자 값 x의 y 제곱을 반환하는 것이다. z가 주어지면 x ** y % z를 반환한다 (결과를 z로 나눈 후 나머지를 반환한다)"
   ]
  },
  {
   "cell_type": "code",
   "execution_count": 71,
   "metadata": {},
   "outputs": [
    {
     "data": {
      "text/plain": [
       "13780.61233982238"
      ]
     },
     "execution_count": 71,
     "metadata": {},
     "output_type": "execute_result"
    }
   ],
   "source": [
    "pow(1.1, 100)"
   ]
  },
  {
   "cell_type": "markdown",
   "metadata": {},
   "source": [
    "위 코드는 1달러를 100년동안 매년 10%의 복리로 증가시킨 결과다."
   ]
  },
  {
   "cell_type": "markdown",
   "metadata": {},
   "source": [
    "### 48. print(objects, sep='', end='\\n', file=sys.stdout)  \n",
    "\n",
    "범용적인 목적의 print 함수. 기본 동작은 각 객체의 문자열 표현(str)을 출력하는 것이다. 기본적으로 print 함수는 각 객체의 인수 사이에 빈칸을 출력하지만 sep 인수에는 빈 문자열을 포함한 특정 구분자를 지정할 수 있으며, 구분자를 제거하는 데도 sep 인수를 사용할 수 있다.  \n",
    "\n",
    "또 다른 명명 인수 end는 기본적으로 개행 문자로 설정된다. 이 인수는 print 함수가 모든 내용을 출력하고 나면 자동적으로 출력된다. end는 종종 빈 문자열로 설정되는 또 다른 인수로, 함수 호출자가 출력을 다음 줄로 이동하는 빈도를 더 잘 제어할 수 있게 해준다.  \n",
    "\n",
    "마지막으로 출력의 기본 목적지는 표준 출력(sys.stdout)이다.  \n",
    "\n",
    "다음 예시는 사용자 정의된 구분자로 세미콜론과 빈칸을 사용했다. "
   ]
  },
  {
   "cell_type": "code",
   "execution_count": 72,
   "metadata": {},
   "outputs": [
    {
     "name": "stdout",
     "output_type": "stream",
     "text": [
      "eenie; meenie; Moe\n"
     ]
    }
   ],
   "source": [
    "s1 = 'eenie'\n",
    "s2 = 'meenie'\n",
    "s3 = 'Moe'\n",
    "print(s1, s2, s3, sep='; ')"
   ]
  },
  {
   "cell_type": "markdown",
   "metadata": {},
   "source": [
    "### 49. range(n)  \n",
    "\n",
    "0부터 n보다 작은 숫자까지 나열되는 정수 시퀀스를 반환한다. 따라서 range(n)은 0, 1, 2,..., n-1을 생산한다. 이 시퀀스를 for 문에서 바로 사용할 수 있지만, 출력하거나 인덱싱을 하기 위해 시퀀스가 리스트의 전체 상태를 갖도록 하려면 리스트 변환을 해야 한다. "
   ]
  },
  {
   "cell_type": "code",
   "execution_count": 73,
   "metadata": {},
   "outputs": [
    {
     "data": {
      "text/plain": [
       "[0, 1, 2, 3, 4]"
      ]
     },
     "execution_count": 73,
     "metadata": {},
     "output_type": "execute_result"
    }
   ],
   "source": [
    "list(range(5))"
   ]
  },
  {
   "cell_type": "markdown",
   "metadata": {},
   "source": [
    "표현식 range(len(컬렉션))은 컬렉션의 유효한 비음수 인덱스에 해당하는 정수 시퀀스를 반환한다.  \n",
    "n 자체가 시퀀스에 포함되지 않는다는 것을 기억하자. 대신 range는 0부터 n보다 작은 숫자까지의 정수를 생성한다. "
   ]
  },
  {
   "cell_type": "markdown",
   "metadata": {},
   "source": [
    "### 50. range(start, stop, [,step])  \n",
    "\n",
    "다른 버전의 range와 같이 정수 시퀀스를 반환한다. 하지만 start 인수는 시퀀스가 시작될 숫자를 지정하며, stop은 시퀀스의 종료 시점을 지정하는데 stop보다 작은 정수까지 시퀀스가 생성된다. 만약 step이 포함되면 항목 간에 증가할 크기를 결정한다.  \n",
    "\n",
    "step 값이 음수면 range는 역순으로 진행된다. start부터 시작하여 stop 값을 포함하기 전까지 값이 감소할 것이다. "
   ]
  },
  {
   "cell_type": "code",
   "execution_count": 74,
   "metadata": {},
   "outputs": [
    {
     "data": {
      "text/plain": [
       "[1, 3, 5]"
      ]
     },
     "execution_count": 74,
     "metadata": {},
     "output_type": "execute_result"
    }
   ],
   "source": [
    "list(range(1, 7, 2))"
   ]
  },
  {
   "cell_type": "code",
   "execution_count": 75,
   "metadata": {},
   "outputs": [
    {
     "data": {
      "text/plain": [
       "[5, 4, 3, 2]"
      ]
     },
     "execution_count": 75,
     "metadata": {},
     "output_type": "execute_result"
    }
   ],
   "source": [
    "list(range(5, 1, -1))"
   ]
  },
  {
   "cell_type": "markdown",
   "metadata": {},
   "source": [
    "### 51. repr(obj)  \n",
    "\n",
    "str 변환 함수의 동작과 유사하게 obj의 문자열 표현을 반환한다. str은 표준 문자열 표현식을 반환하는 반면, repr은 코드에서 보이는 객체의 대표 표현식을 반환한다. 따라서 str(a_string)은 문자열을 주위의 따옴표 없이 있는 그대로 출력하는 반면, repr(a_string)은 따옴표와 함께 출력한다. 왜냐하면 따옴표를 함께 출력하는 방식이 파이썬 코드에서 보이는 방식이기 때문이다. "
   ]
  },
  {
   "cell_type": "code",
   "execution_count": 77,
   "metadata": {},
   "outputs": [
    {
     "name": "stdout",
     "output_type": "stream",
     "text": [
      "\"Hi I'm Brian!\"\n"
     ]
    },
    {
     "data": {
      "text/plain": [
       "\"Hi I'm Brian!\""
      ]
     },
     "execution_count": 77,
     "metadata": {},
     "output_type": "execute_result"
    }
   ],
   "source": [
    "my_str = \"Hi I'm Brian!\"\n",
    "print(repr(my_str))\n",
    "my_str"
   ]
  },
  {
   "cell_type": "markdown",
   "metadata": {},
   "source": [
    "위의 두줄은 마지막 줄과 동일하게 동작한다 왜냐하면 IDLE는 객체를 출력할 때 print에 객체를 넘기는 대신 repr 함수를 호출하기 때문이다. 이 함수는 객체 클래스의 \\__repr__ 함수를 호출하여 구현된다. "
   ]
  },
  {
   "cell_type": "markdown",
   "metadata": {},
   "source": [
    "### 52. reversed(iterable)  \n",
    "\n",
    "소스의 항목을 역순으로 나열한 제너레이터를 생성한다. 즉, iterable이 초기에 가지고 있던 순서와는 반대로 항목을 순회한다. 이 제너레이터는 for 루프에서 가장 흔하게 사용할 수 있다. 다른 방법은 list 변환 함수를 사용하여 list로 변환하는 것이다., "
   ]
  },
  {
   "cell_type": "code",
   "execution_count": 78,
   "metadata": {},
   "outputs": [
    {
     "name": "stdout",
     "output_type": "stream",
     "text": [
      "[3, 2, 1]\n"
     ]
    }
   ],
   "source": [
    "print(list(reversed([1, 2, 3])))\n"
   ]
  },
  {
   "cell_type": "markdown",
   "metadata": {},
   "source": [
    "기술적으로 문자열의 역순 제너레이터를 구한 후 의미 있는 결과를 출력하는 시도를 한다. 하지만 이 작업은 복잡하며, 리스트와 join 함수를 사용해야 한다. 그렇지 않으면 이런일이 벌어진다. "
   ]
  },
  {
   "cell_type": "code",
   "execution_count": 79,
   "metadata": {},
   "outputs": [
    {
     "data": {
      "text/plain": [
       "'<reversed object at 0x11750be20>'"
      ]
     },
     "execution_count": 79,
     "metadata": {},
     "output_type": "execute_result"
    }
   ],
   "source": [
    "str(reversed('Wow, Bob, wow!'))"
   ]
  },
  {
   "cell_type": "markdown",
   "metadata": {},
   "source": [
    "문제는 reversed 함수가 문자열에 적용되면 문자열이 아닌 제너레이터 객체를 생성하기 때문이다. 하지만 대안이 있다. 가장 쉬운 해결책은 문자열의 슬라이싱 기능을 사용하는 것이다. "
   ]
  },
  {
   "cell_type": "code",
   "execution_count": 80,
   "metadata": {},
   "outputs": [
    {
     "name": "stdout",
     "output_type": "stream",
     "text": [
      "!wow ,boB ,woW\n"
     ]
    }
   ],
   "source": [
    "print('Wow, Bob, wow!'[::-1])"
   ]
  },
  {
   "cell_type": "markdown",
   "metadata": {},
   "source": [
    "### 53. round(x[, ndigits])  \n",
    "\n",
    "숫자 값 x 를 반올림하며, ndigits는 반올림할 위치를 지정한다. 특히 ndigits는 반올림을 수행할 위치에서 소수점에서 오른쪽으로 몇 개의 숫자가 있는지를 지정하는 정수다. 음수가 오면 소수점의 왼쪽으로 반올림 위치가 이동한다.  \n",
    "\n",
    "ndigits 값이 0이면 가장 가까운 단위(즉, 가장 가까운 정수)로 반올림이 수행된다. 그리고 ndigits 값이 1이면 소수점 1자리로 반올림 되며, ndigits 값이 -1이면 가장 가까운 10의 배수로 표시된다.  \n",
    "\n",
    "ndigits가 지정되지 않으면 함수는 숫자 값 x를 가장 가까운 단위로 반올림하여 부동소수점 대신 정수로 결과를 반환한다 (문법의 대괄호 기호는 선택사항이다.)"
   ]
  },
  {
   "cell_type": "code",
   "execution_count": 82,
   "metadata": {},
   "outputs": [
    {
     "data": {
      "text/plain": [
       "12.6"
      ]
     },
     "execution_count": 82,
     "metadata": {},
     "output_type": "execute_result"
    }
   ],
   "source": [
    "round(12.555, 1)"
   ]
  },
  {
   "cell_type": "code",
   "execution_count": 83,
   "metadata": {},
   "outputs": [
    {
     "data": {
      "text/plain": [
       "12.55"
      ]
     },
     "execution_count": 83,
     "metadata": {},
     "output_type": "execute_result"
    }
   ],
   "source": [
    "round(12.555, 2)"
   ]
  },
  {
   "cell_type": "code",
   "execution_count": 84,
   "metadata": {},
   "outputs": [
    {
     "data": {
      "text/plain": [
       "13.0"
      ]
     },
     "execution_count": 84,
     "metadata": {},
     "output_type": "execute_result"
    }
   ],
   "source": [
    "round(12.555, 0)"
   ]
  },
  {
   "cell_type": "code",
   "execution_count": 85,
   "metadata": {},
   "outputs": [
    {
     "data": {
      "text/plain": [
       "13"
      ]
     },
     "execution_count": 85,
     "metadata": {},
     "output_type": "execute_result"
    }
   ],
   "source": [
    "round(12.555)"
   ]
  },
  {
   "cell_type": "code",
   "execution_count": 86,
   "metadata": {},
   "outputs": [
    {
     "data": {
      "text/plain": [
       "10.0"
      ]
     },
     "execution_count": 86,
     "metadata": {},
     "output_type": "execute_result"
    }
   ],
   "source": [
    "round(12.555, -1)"
   ]
  },
  {
   "cell_type": "markdown",
   "metadata": {},
   "source": [
    "기본적으로 반올림 메커니즘은 결과에서 가장 유의하지 않은 자릿수의 오른쪽에 있는 자릿수에 따라 올림 또는 내림된다. 숫자가 5 이상이면 위쪽으로 올림하고, 4 이하이면 아래쪽으로 내림한다.  \n",
    "\n",
    "함수는 양수와 음수 모두에 사용할 수 있다. 따라서 '위로 반올림'하는 값이 아래로 내림하는 것보다 0에서 멀어지게 된다. "
   ]
  },
  {
   "cell_type": "code",
   "execution_count": 87,
   "metadata": {},
   "outputs": [
    {
     "data": {
      "text/plain": [
       "-56"
      ]
     },
     "execution_count": 87,
     "metadata": {},
     "output_type": "execute_result"
    }
   ],
   "source": [
    "round(-55.55)"
   ]
  },
  {
   "cell_type": "markdown",
   "metadata": {},
   "source": [
    "### 54. set([iterable])  \n",
    "\n",
    "파이썬 세트로 변환하는 함수. iterable 인수가 생략되면 결과는 빈 세트다. 다음 소스 코드는 파이썬의 빈 세트를 표현하는 표준 방법이다. 왜냐하면 {}는 빈 세트가 아닌 빈 딕셔너리를 표현하기 때문이다.  \n",
    "\n",
    "empty_set = {}  \n",
    "\n",
    "iterable이 비어있지 않다면 결과 세트는 인수의 모든 항목을 지니게 된다. 하지만 중복된 값은 제거되며, 순서는 보장되지 못한다. "
   ]
  },
  {
   "cell_type": "code",
   "execution_count": 88,
   "metadata": {},
   "outputs": [
    {
     "data": {
      "text/plain": [
       "{3, 5, 11}"
      ]
     },
     "execution_count": 88,
     "metadata": {},
     "output_type": "execute_result"
    }
   ],
   "source": [
    "my_list = [11, 11, 3, 5, 3, 3, 3] \n",
    "my_set = set(my_list) \n",
    "my_set"
   ]
  },
  {
   "cell_type": "markdown",
   "metadata": {},
   "source": [
    "### 55. setattr(obj, name_str, value)  \n",
    "\n",
    "속성-설정 함수. 비록 속성 설정 대부분은 직접 실행되지만. 이 함수는 하드-코드보다는 추후 런타임 시 속성 값을 설정할 수 있게 해준다. 이 방법으로 속성 이름이 런타임 시 결정될 수 있다는 의미다. 속성은 사용자에게 제공받을 수도 있고, 프로그램이 통신하고 있는 데이터베이스에 저장된 값으로 일부 속성을 결정할 수 있다.  \n",
    "\n",
    "예를 들어 다음과 같이 Dog 객체의 breed를 설정할 수 있다.  "
   ]
  },
  {
   "cell_type": "code",
   "execution_count": null,
   "metadata": {},
   "outputs": [],
   "source": [
    "d = Dog() \n",
    "d.breed = 'Dane'"
   ]
  },
  {
   "cell_type": "markdown",
   "metadata": {},
   "source": [
    "하지만 속성 값을 미리 알 수 없다면 다음 문장으로 breed 속성을 추후에 'Dane'으로 설정할 수 있다. "
   ]
  },
  {
   "cell_type": "code",
   "execution_count": null,
   "metadata": {},
   "outputs": [],
   "source": [
    "attr_str = 'breed' \n",
    "...\n",
    "setattr(d, attr_str, 'Dane')"
   ]
  },
  {
   "cell_type": "markdown",
   "metadata": {},
   "source": [
    "### 56. sorted(iterable [, key][, reverse])  \n",
    "\n",
    "iterable 의 모든 항목을 정렬한 리스트를 생성한다. 인수의 모든 항목은 미만(<) 연산자로 항목간 우선순위를 결정할 수 있게, 반드시 동일한 타입이거나 비교 가능한 데이터 타입이어야 한다. 만약 비교가 불가능 하다면 TypeError 예외가 발생한다. "
   ]
  },
  {
   "cell_type": "code",
   "execution_count": 91,
   "metadata": {},
   "outputs": [
    {
     "data": {
      "text/plain": [
       "[0, 5, 7, 10]"
      ]
     },
     "execution_count": 91,
     "metadata": {},
     "output_type": "execute_result"
    }
   ],
   "source": [
    "sorted([5, 0, 10, 7])"
   ]
  },
  {
   "cell_type": "markdown",
   "metadata": {},
   "source": [
    "reversed 함수는 이터러블을 생산하지만 이 함수는 항상 리스트를 생산한다. key 인수는 정렬 대상이 될 key를 반환할 함수며, reverse는 True인 경우 내림차순으로 정렬한다. 사용하려면 키워드 인수로 사용해야 한다. "
   ]
  },
  {
   "cell_type": "markdown",
   "metadata": {},
   "source": [
    "### 57. str(obj=')  \n",
    "\n",
    "객체 obj의 문자열 표현을 반환한다. 만약 obj가 주어지지 않으면 빈 문자열을 반환한다.  \n",
    "\n",
    "이 변환은 객체 클래스의 \\__str__ 메서드를 호출하여 구현된다. 클래스가 \\__str__메서드를 가지고 있지 않다면 기본적으로 \\__repr__ 메서드를 호출한다. 대부분 이 두 베서드는 동일한 결과를 출력한다. 반면에 \\__repr__ 메서드는 코드에서 보여지는 객체의 표현 방식이기 때문에 문자열을 감싸고 있는 따옴표가 함께 반환된다는 것이 다른 점이다.  \n",
    "\n",
    "출력에 대한 역할 이외에도 문자열 변환은 다른 사용처가 있다. 예를 들어 숫자 안에 0의 개수가 몇 개인지 확인하는 데 사용할 수도 있다."
   ]
  },
  {
   "cell_type": "code",
   "execution_count": 92,
   "metadata": {},
   "outputs": [
    {
     "data": {
      "text/plain": [
       "4"
      ]
     },
     "execution_count": 92,
     "metadata": {},
     "output_type": "execute_result"
    }
   ],
   "source": [
    "n = 10100140\n",
    "s = str(n)\n",
    "s.count('0')"
   ]
  },
  {
   "cell_type": "markdown",
   "metadata": {},
   "source": [
    "### 58. str(obj=b'',[, encoding='utf-8'])  \n",
    "\n",
    "2개 이상의 바이트로 문자열을 저장하는 bytes 문자열을 표준 파이썬 문자열로 변환한다.  "
   ]
  },
  {
   "cell_type": "code",
   "execution_count": 93,
   "metadata": {},
   "outputs": [
    {
     "name": "stdout",
     "output_type": "stream",
     "text": [
      "Hello\n"
     ]
    }
   ],
   "source": [
    "bs = b'Hello'\n",
    "s = str(bs, encoding='utf-8')\n",
    "print(s)"
   ]
  },
  {
   "cell_type": "markdown",
   "metadata": {},
   "source": [
    "### 59. sum(iterable [, start])  \n",
    "\n",
    "iterable 안 모든 항목의 합계를 구한다. 모든 항목은 반드시 숫자이어야 한다. 혹은 최소한 다른 항목이나 숫자와 더해지기 위해 \\__add__ 메서드가 지원되어야 한다. 문자열은 연결하지 않는다. 이 함수는 숫자 리스트, 튜플 그리고 세트와 함께 사용하기 정말 편리하다. 예를 들어 다음 예시 함수는 숫자 컬렉션의 평균값을 구한다."
   ]
  },
  {
   "cell_type": "code",
   "execution_count": 94,
   "metadata": {},
   "outputs": [
    {
     "data": {
      "text/plain": [
       "4.0"
      ]
     },
     "execution_count": 94,
     "metadata": {},
     "output_type": "execute_result"
    }
   ],
   "source": [
    "def get_avg(a_list):\n",
    "    return sum(a_list) / len(a_list)\n",
    "\n",
    "get_avg([1, 2, 3, 4, 10])"
   ]
  },
  {
   "cell_type": "markdown",
   "metadata": {},
   "source": [
    "sum 함수는 유한한 시퀀스를 생산하는 한 제너레이터와 같은 다른 종류의 이터러블에도 사용할 수 있다. "
   ]
  },
  {
   "cell_type": "code",
   "execution_count": 95,
   "metadata": {},
   "outputs": [
    {
     "data": {
      "text/plain": [
       "4950"
      ]
     },
     "execution_count": 95,
     "metadata": {},
     "output_type": "execute_result"
    }
   ],
   "source": [
    "def gen_count(n):\n",
    "    i = 1\n",
    "    while i < n:\n",
    "        yield i \n",
    "        i += 1\n",
    "        \n",
    "sum(gen_count(100))"
   ]
  },
  {
   "cell_type": "markdown",
   "metadata": {},
   "source": [
    "위 예시의 sum(gen_count(n))은 숫자를 1부터 n까지 더한다."
   ]
  },
  {
   "cell_type": "markdown",
   "metadata": {},
   "source": [
    "### 60. super(type)  \n",
    "특정 타입의 부모 클래스를 반환한다. 이 함수는 상속을 받은 부모 클래스의 \\__int__ 과 같은 특정 메서드를 호출하고 싶을 때 유용하게 사용할 수 있다.  "
   ]
  },
  {
   "cell_type": "markdown",
   "metadata": {},
   "source": [
    "### 61. tuple([iterable])  \n",
    "\n",
    "튜플 변환. 반드시 유한한 크기의 iterable의 값들을 갖는 불변 시퀀스를 반환한다. 대괄호 기호는 iterable이 선택 사항이라는 것을 의미한다. iteralbe이 생략되는 경우 비어 있는 튜플이 반환된다. "
   ]
  },
  {
   "cell_type": "markdown",
   "metadata": {},
   "source": [
    "### 62. type(obj)  \n",
    "\n",
    "런타임 시 동등성 테스트(==) 나 is에 다른 타입과 비교를 할 수 있는 obj의 타입을 반환한다 "
   ]
  },
  {
   "cell_type": "code",
   "execution_count": 96,
   "metadata": {},
   "outputs": [
    {
     "data": {
      "text/plain": [
       "True"
      ]
     },
     "execution_count": 96,
     "metadata": {},
     "output_type": "execute_result"
    }
   ],
   "source": [
    "i = 5\n",
    "type(i) is int"
   ]
  },
  {
   "cell_type": "code",
   "execution_count": 97,
   "metadata": {},
   "outputs": [
    {
     "data": {
      "text/plain": [
       "True"
      ]
     },
     "execution_count": 97,
     "metadata": {},
     "output_type": "execute_result"
    }
   ],
   "source": [
    "i = 5\n",
    "type(i) == int"
   ]
  },
  {
   "cell_type": "markdown",
   "metadata": {},
   "source": [
    "파이썬에서 type 함수는 보통 인수의 타입이 무엇인지 확인하기 위해 유용하게 쓰인다. 이 함수로 인수의 타입에 따라 다르게 동작하는 프로그램을 만들 수 있게 된다. 반면 type보다는 isinstance를 사용하는 것이 일반적으로 권장된다. 왜냐하면 isinstance는 하위 클래스 여부도 함께 확인할 수 있기 때문이다. "
   ]
  },
  {
   "cell_type": "markdown",
   "metadata": {},
   "source": [
    "### 63. zip(*iterables)  \n",
    "\n",
    "인수의 시리즈로부터 튜플로 구성된 시퀀스를 반환한다. 각 위치에 대해 결과 튜플은 (i1, i2, i3,...,iN)이며 여기에서 N은 이 함수 인수의 개수고 i는 해당 iterable 인수에 의해 생성된 값이다. 인수 중 가장 짧은 것의 항목이 다 소진되면 함수는 튜플 생산을 멈춘다.  \n",
    "\n",
    "기억하기에 내용이 너무 길지만, 예시가 이를 명확하게 하는 데 도움이 될 것이다. 다음 예시는 zip이 2개의 다른 리스트에서 하나의 리스트를 만드는 데 어떻게 사용되는지를 보여준다. a의 각 항목은 같은 위치에 있는 b의 항목에 더해진다. "
   ]
  },
  {
   "cell_type": "code",
   "execution_count": 99,
   "metadata": {},
   "outputs": [
    {
     "data": {
      "text/plain": [
       "[11, 22, 33]"
      ]
     },
     "execution_count": 99,
     "metadata": {},
     "output_type": "execute_result"
    }
   ],
   "source": [
    "a = [1, 2, 3]\n",
    "b = [10, 20, 30] \n",
    "c = [i[0] + i[1] for i in zip(a, b)]\n",
    "c"
   ]
  },
  {
   "cell_type": "markdown",
   "metadata": {},
   "source": [
    "표현식 zip(a, b)는 리스트로 변환되어 출력되었고, 다음 결과에서 보듯이 튜플로 구성된 리스트를 생산한다. "
   ]
  },
  {
   "cell_type": "code",
   "execution_count": 100,
   "metadata": {},
   "outputs": [
    {
     "data": {
      "text/plain": [
       "[(1, 10), (2, 20), (3, 30)]"
      ]
     },
     "execution_count": 100,
     "metadata": {},
     "output_type": "execute_result"
    }
   ],
   "source": [
    "a_list = list(zip(a, b))\n",
    "a_list"
   ]
  },
  {
   "cell_type": "markdown",
   "metadata": {},
   "source": [
    "앞 예시에서 첫 3개의 줄과 다음 코드를 비교하여 어떤 코드가 더 복잡하고 유지 보수하기 어려운지 생각해 보자. 다음 예시에서는 같은 결과를 생산하지만 더 긴 코드를 사용하고 있다. "
   ]
  },
  {
   "cell_type": "code",
   "execution_count": 102,
   "metadata": {},
   "outputs": [
    {
     "name": "stdout",
     "output_type": "stream",
     "text": [
      "[11, 22, 33]\n"
     ]
    }
   ],
   "source": [
    "a = [1, 2, 3]\n",
    "b = [10, 20, 30] \n",
    "c = []\n",
    "for i in range(min(len(a), len(b))):\n",
    "    c.append(a[i] + b[i])\n",
    "\n",
    "print(c)"
   ]
  }
 ],
 "metadata": {
  "kernelspec": {
   "display_name": "tabnet",
   "language": "python",
   "name": "python3"
  },
  "language_info": {
   "codemirror_mode": {
    "name": "ipython",
    "version": 3
   },
   "file_extension": ".py",
   "mimetype": "text/x-python",
   "name": "python",
   "nbconvert_exporter": "python",
   "pygments_lexer": "ipython3",
   "version": "3.8.19"
  }
 },
 "nbformat": 4,
 "nbformat_minor": 2
}

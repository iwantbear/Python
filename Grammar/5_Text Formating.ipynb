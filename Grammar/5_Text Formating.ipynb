{
 "cells": [
  {
   "cell_type": "markdown",
   "metadata": {},
   "source": [
    "### 백분율 기호 연산자(&)를 사용한 포매팅"
   ]
  },
  {
   "cell_type": "markdown",
   "metadata": {},
   "source": [
    "출력 결과의 포맷을 지정할 때 생기는 간단한 문제하나를 살펴보자  \n",
    "a, b, c 변수에 각각 25, 75, 100을 저장하고 다음과 같은 서식으로 문장을 출력하고 싶다고 가정해보자. 출력 결과는 다음과 같다   \n",
    "\n",
    "25 plus 75 equals 100."
   ]
  },
  {
   "cell_type": "code",
   "execution_count": 1,
   "metadata": {},
   "outputs": [
    {
     "name": "stdout",
     "output_type": "stream",
     "text": [
      "25  plus 75  equals  100 .\n"
     ]
    }
   ],
   "source": [
    "a, b, c = 25, 75, 100\n",
    "print(a, ' plus', b, ' equals ', c, '.')"
   ]
  },
  {
   "cell_type": "markdown",
   "metadata": {},
   "source": [
    "위와 같은 코드에서 필요 없는 빈칸을 다루려면 sep 인수에 빈 문자를 설정하면 된다.  \n",
    "하지만 이렇게 되면 밑의 코드와 같이 필요한 빈칸을 직접 넣어야 하는 상황이 된다."
   ]
  },
  {
   "cell_type": "code",
   "execution_count": 3,
   "metadata": {},
   "outputs": [
    {
     "name": "stdout",
     "output_type": "stream",
     "text": [
      "25 plus 75 equals 100.\n"
     ]
    }
   ],
   "source": [
    "a, b, c = 25, 75, 100\n",
    "print(a, ' plus ', b, ' equals ', c, '.', sep='')"
   ]
  },
  {
   "cell_type": "markdown",
   "metadata": {},
   "source": [
    "귀찮으니까 str 클래스 포매팅 연산자(%)로 출력 결과의 서식을 지정하는 것이다. "
   ]
  },
  {
   "cell_type": "code",
   "execution_count": 4,
   "metadata": {},
   "outputs": [
    {
     "name": "stdout",
     "output_type": "stream",
     "text": [
      "25 plus 75 equlas 100.\n"
     ]
    }
   ],
   "source": [
    "a, b, c = 25, 75, 100\n",
    "print('%d plus %d equlas %d.' %(a, b, c))"
   ]
  },
  {
   "cell_type": "markdown",
   "metadata": {},
   "source": [
    "훨씬 더 깔끔해 보인다.  \n",
    "표현식 (a, b, c)는 사실 3개의 항목으로 구성된 튜플이며, 각 항목은 포맷 문자열 안에서 세번 따로 등장하는 %d에 삽입된다. "
   ]
  },
  {
   "cell_type": "code",
   "execution_count": 5,
   "metadata": {},
   "outputs": [
    {
     "name": "stdout",
     "output_type": "stream",
     "text": [
      "Here is a number: 100.\n"
     ]
    }
   ],
   "source": [
    "a = 100\n",
    "print('Here is a number: %d.' % 100)"
   ]
  },
  {
   "cell_type": "markdown",
   "metadata": {},
   "source": [
    "위 코드처럼 단일 항목인 경우에는 소괄호를 생략할 수 있다. "
   ]
  },
  {
   "cell_type": "code",
   "execution_count": 6,
   "metadata": {},
   "outputs": [
    {
     "name": "stdout",
     "output_type": "stream",
     "text": [
      "The sum is 100.\n"
     ]
    }
   ],
   "source": [
    "n = 25 + 75\n",
    "fmt_str = 'The sum is %d.'\n",
    "print(fmt_str % n)"
   ]
  },
  {
   "cell_type": "markdown",
   "metadata": {},
   "source": [
    "위 코드처럼 print 함수 인수로 들어간 항목들은 프로그래밍 안에서 별도로 작성할 수 있다 "
   ]
  },
  {
   "cell_type": "markdown",
   "metadata": {},
   "source": [
    "문자열 포매팅 연산자 % 는 다음과 같이 두 가지 버전으로 사용할 수 있다.  \n",
    "* 포맷_문자열 % 값 : 값이 1개일 때\n",
    "* 포맷_문자열 % (여러_값들) : 값이 1개 혹은 여러 개일 때"
   ]
  },
  {
   "cell_type": "code",
   "execution_count": null,
   "metadata": {},
   "outputs": [],
   "source": [
    "print('n is %d' % n)\n",
    "print('n is %d and m is %d' % (n, m))"
   ]
  },
  {
   "cell_type": "markdown",
   "metadata": {},
   "source": [
    "위 코드처럼 1개 이상의 값 인수가 있다면 print 필드(백분율 기호(%)와 타입 문자로 표기)에 해당하는 인수들은 반드시 튜플 안에 위치해야 한다 "
   ]
  },
  {
   "cell_type": "code",
   "execution_count": 7,
   "metadata": {},
   "outputs": [
    {
     "name": "stdout",
     "output_type": "stream",
     "text": [
      "Ansers are 10, 20, and 30.\n"
     ]
    }
   ],
   "source": [
    "tup = 10, 20, 30 \n",
    "print('Ansers are %d, %d, and %d.' % tup)"
   ]
  },
  {
   "cell_type": "markdown",
   "metadata": {},
   "source": [
    "위 예시도 3개의 숫자가 튜플 안에 위치하기 때문에 잘 동작한다. "
   ]
  },
  {
   "cell_type": "markdown",
   "metadata": {},
   "source": [
    "### 백분율 기호(%) 포맷 지시자  \n",
    "\n",
    "* %d : 10진수\n",
    "* %i : 정수\n",
    "* %s : 모든 데이터 객체의 표준 문자열 표현을 출력. 원한다면 정수와도 사용가능 \n",
    "* %r : 입력 값의 표준 %r 표현, 파이썬 코드에서 보이는 그대로 출력\n",
    "* %x : 16진수\n",
    "* %X : %x와 동일하지만 A-F 문자가 대문자 이다. \n",
    "* %o : 8진수\n",
    "* %u : 무부호 정수 (부호가 있는 정수를 무부호 정수로 변경하지 않음)\n",
    "* %f : 고정소수점 포맷으로 출력하는 부동 소수점 숫자\n",
    "* %F : %f와 동일\n",
    "* %e : 자연상수 출력하는 부동소수점 숫자\n",
    "* %E : %e와 같지만 대문자\n",
    "* %g : 가장 짧은 기준 표현을 사용한 부동 소수점\n",
    "* %G : %g와 동일하지만 지수 출력 시 대문자 E 사용\n",
    "* %% : 리터럴 백분율 기호 (%)"
   ]
  },
  {
   "cell_type": "code",
   "execution_count": 8,
   "metadata": {},
   "outputs": [
    {
     "name": "stdout",
     "output_type": "stream",
     "text": [
      "The result is f9.\n"
     ]
    }
   ],
   "source": [
    "h1 = int('e9', 16)\n",
    "h2 = int('10', 16)\n",
    "print('The result is %x.' % (h1 + h2))"
   ]
  },
  {
   "cell_type": "markdown",
   "metadata": {},
   "source": [
    "print문에 h1과 h2를 감싸고 있는 소괄호 기호는 필수적이다. 누락되면 에러.  \n",
    "16진수나 8진수 숫자를 출력할때 포매팅 연산자(%)는 접두어를 붙이지 않는다 붙이고 싶으면  \n",
    "\n",
    "print('The result is 0x%x.' % (h1, h2))"
   ]
  },
  {
   "cell_type": "code",
   "execution_count": 9,
   "metadata": {},
   "outputs": [
    {
     "name": "stdout",
     "output_type": "stream",
     "text": [
      "We is Moe, Curly, & Larry.\n"
     ]
    }
   ],
   "source": [
    "s = 'We is %s, %s, & %s.' % ('Moe', 'Curly', 'Larry')\n",
    "print(s)"
   ]
  },
  {
   "cell_type": "markdown",
   "metadata": {},
   "source": [
    "포매팅 연산자의 또 다른 일반적인 사용 방법은 큰 문자열 안에 작은 문자열(%s)을 출력하는 것이다 (위 코드)"
   ]
  },
  {
   "cell_type": "markdown",
   "metadata": {},
   "source": [
    "이런 포맷은 글자의 너비와 소수점 숫자로 조정할 수도 있다. 각 출력 필드는 다음과 같은 포맷을 따르며 c는 포맷 문자 중 하나를 의미한다  \n",
    "\n",
    "%[-][너비][.정밀도]c  \n",
    "\n",
    "이 문법에서 대괄호 기호로 표기된 항목들은 필수가 아니라 선택적으로 설정하는 값들이다.  \n",
    "[-] 는 출력 필드 안에서 왼쪽으로 자리 맞춤을 하라는 의미 "
   ]
  },
  {
   "cell_type": "markdown",
   "metadata": {},
   "source": [
    "->>> 'This is a number: %-6d.' % 255  \n",
    "'This is a number: 255   .'"
   ]
  },
  {
   "cell_type": "markdown",
   "metadata": {},
   "source": [
    "문법의 나머지 부분에 따르면 포맷 지시자는 다음에 나열한 모든 포맷을 모두 허용  \n",
    "\n",
    "* %C\n",
    "* %너비C\n",
    "* %너비.정밀도C\n",
    "* %.정밀도C  \n",
    "\n",
    "문자열 값인 경우, 해당 텍스트는 출력 필드 너비인 '너비'안에 위치하게 된다.  \n",
    "부분 문자열은 오른쪽으로 자리 맞춤되며, 빈칸으로 왼쪽의 부족한 칸 수를 채운다.  \n",
    "출력 필드가 부분 문자열의 길이보다 짧으면 '너비'는 무시된다.  \n",
    "만약 문자열의 최대 길이를 명시하는 '정밀도'가 설정에 포함되었다면 긴 텍스트는 잘려나간다 "
   ]
  },
  {
   "cell_type": "code",
   "execution_count": 10,
   "metadata": {},
   "outputs": [
    {
     "name": "stdout",
     "output_type": "stream",
     "text": [
      "My name is       John.\n"
     ]
    }
   ],
   "source": [
    "print('My name is %10s.' % 'John')"
   ]
  },
  {
   "cell_type": "markdown",
   "metadata": {},
   "source": [
    "위 코드는 문자 10개로 구성된 문자열을 표현하는데. 문자가 없는 칸은 빈칸으로 채운다  \n",
    "(John 앞에 빈칸 6개)"
   ]
  },
  {
   "cell_type": "code",
   "execution_count": 12,
   "metadata": {},
   "outputs": [
    {
     "name": "stdout",
     "output_type": "stream",
     "text": [
      "Amount is         25.\n",
      "Amount is 00025.\n",
      "Amount is      00025.\n"
     ]
    }
   ],
   "source": [
    "print('Amount is %10d.' % 25)\n",
    "print('Amount is %.5d.' % 25)\n",
    "print('Amount is %10.5d.' % 25)"
   ]
  },
  {
   "cell_type": "markdown",
   "metadata": {},
   "source": [
    "정수를 출력하는 경우. '너비'는 문자열과 같은 방식으로 사용된다.  \n",
    "하지만 '정밀도'가 '너비'보다 짧으면 숫자는 오른쪽으로 자리 맞춤되며, 모자란 자릿수는 0으로 채워짐 (위코드 참고)"
   ]
  },
  {
   "cell_type": "code",
   "execution_count": 13,
   "metadata": {},
   "outputs": [
    {
     "name": "stdout",
     "output_type": "stream",
     "text": [
      "result:     3.14000\n",
      "result:   333.14000\n"
     ]
    }
   ],
   "source": [
    "print('result:%12.5f' % 3.14)\n",
    "print('result:%12.5f' % 333.14)"
   ]
  },
  {
   "cell_type": "markdown",
   "metadata": {},
   "source": [
    "위 경우에 정밀도가 5개로 명시되었기 때문에 숫자 3.14의 오른쪽은 0으로 채워진다.  \n",
    "정밀도 필드의 설정이 출력할 값의 소수점 길이보다 짧은 경우 숫자는 상황에 따라 반올림/버림이 된다"
   ]
  },
  {
   "cell_type": "code",
   "execution_count": 14,
   "metadata": {},
   "outputs": [
    {
     "name": "stdout",
     "output_type": "stream",
     "text": [
      "3.1416\n"
     ]
    }
   ],
   "source": [
    "print('%.4f' % 3.141592)"
   ]
  },
  {
   "cell_type": "markdown",
   "metadata": {},
   "source": [
    "위 코드는 출력 결과와 같이 소수점을 네 자리만 출력하라고 선언했다"
   ]
  },
  {
   "cell_type": "markdown",
   "metadata": {},
   "source": [
    "%s 와 %r 포맷 문자는 모든 데이터 클래스에서 사용할 수 있다.  \n",
    "가령 int 혹은 float 객체와 함께 사용하면 기대했던 숫자를 그대로 문자열로 출력한다"
   ]
  },
  {
   "cell_type": "code",
   "execution_count": 17,
   "metadata": {},
   "outputs": [
    {
     "name": "stdout",
     "output_type": "stream",
     "text": [
      "The number is 10.\n",
      "The number is 10.\n"
     ]
    }
   ],
   "source": [
    "print('The number is %s.' % 10)\n",
    "print('The number is %r.' % 10)"
   ]
  },
  {
   "cell_type": "markdown",
   "metadata": {},
   "source": [
    "위와 같이 %s와 %r은 정수를 그저 표준 문자열로 출력하고 있다.  \n",
    "%s와 %r의 출력 결과가 다른 경우도 있다. 파이썬 코드에서 객체를 표현하는 기준 표현 방식이 따로 존재하기 때문이다 "
   ]
  },
  {
   "cell_type": "code",
   "execution_count": 18,
   "metadata": {},
   "outputs": [
    {
     "name": "stdout",
     "output_type": "stream",
     "text": [
      "My name is 'Sam'.\n",
      "My name is Sam.\n"
     ]
    }
   ],
   "source": [
    "print('My name is %r.' % 'Sam')\n",
    "print('My name is %s.' % 'Sam')"
   ]
  },
  {
   "cell_type": "markdown",
   "metadata": {},
   "source": [
    "위 처럼 두가지 표현 방식의 원칙 중 다른 한가지는 %r은 문자열을 감싸고 있는 따옴표가 있다."
   ]
  },
  {
   "cell_type": "markdown",
   "metadata": {},
   "source": [
    "### 백분율 기호(%) 변수-너비 출력필드  \n",
    "\n",
    "포맷 연산자(%)를 사용하다 보면 출력 필드의 너비를 변수로 입력하는 방법이 궁금할 수 있다.  \n",
    "예를 들어 테이블을 출력하기에 앞서 필요한 최대 너비를 구하고, 그 값을 원하는 너비로 설정한 후 (N=6이면 6이 최대 길이). 모든 출력 필드를 동일한 길이로 출력하고 싶을 수 있다.  "
   ]
  },
  {
   "cell_type": "code",
   "execution_count": 19,
   "metadata": {},
   "outputs": [
    {
     "name": "stdout",
     "output_type": "stream",
     "text": [
      "Here is a number:   6\n"
     ]
    }
   ],
   "source": [
    "print('Here is a number: %*d' % (3, 6))"
   ]
  },
  {
   "cell_type": "markdown",
   "metadata": {},
   "source": [
    "변수-너비 필드를 만들려면 위 코드처럼 일반적으로 고정 너비를 명시하는 정수 위치에 별포기호(*)를 넣으면 된다. "
   ]
  },
  {
   "cell_type": "code",
   "execution_count": 20,
   "metadata": {},
   "outputs": [
    {
     "name": "stdout",
     "output_type": "stream",
     "text": [
      "Here is a number:  VI\n"
     ]
    }
   ],
   "source": [
    "print('Here is a number: %*s' % (3, 'VI'))"
   ]
  },
  {
   "cell_type": "markdown",
   "metadata": {},
   "source": [
    "위 코드 처럼 문자열과 같이 다른 종류의 데이터도 출력할 수 있다. "
   ]
  },
  {
   "cell_type": "markdown",
   "metadata": {},
   "source": [
    "또한 포맷 문자열 안에 변수-너비를 여러개 사용할 수도 있다.  \n",
    "포맷 문자열에 별표 기호를 추가할 때마다, 반드시 출력-필드 너비를 지정하기 위한 인수도 추가된다는 것을 기억하자.  "
   ]
  },
  {
   "cell_type": "code",
   "execution_count": 21,
   "metadata": {},
   "outputs": [
    {
     "name": "stdout",
     "output_type": "stream",
     "text": [
      "Item 1:      Bob, Item 2:  Suzanne\n"
     ]
    }
   ],
   "source": [
    "print('Item 1: %*s, Item 2: %*s' % (8, 'Bob', 8, \"Suzanne\"))"
   ]
  },
  {
   "cell_type": "markdown",
   "metadata": {},
   "source": [
    "위 코드처럼 2개의 데이터 객체를 한 번에 포매팅 하고 싶다면 4개의 인수가 필요하다.  \n",
    "\n",
    "모든 인수는 소괄호 기호를 둘러싼 튜플 안에 위치한다(8, 'Bob', 8, 'Suzanne'). 4개의 항목이 의미하는 것은 다음과 같다 \n",
    "* 첫번째 출력-필드 너비는 8이다\n",
    "* 문자열로 출력할 첫 번째 데이터 객체는 'Bob'이다 \n",
    "* 두번째 출력-필드 너비는 8이다 \n",
    "* 문자열로 출력할 두 번째 데이터 객체는 'Suzanne'이다"
   ]
  },
  {
   "cell_type": "code",
   "execution_count": 22,
   "metadata": {},
   "outputs": [
    {
     "name": "stdout",
     "output_type": "stream",
     "text": [
      "Item 1:      Bob, Item 2:  Suzanne\n"
     ]
    }
   ],
   "source": [
    "n = 8\n",
    "print('Item 1: %*s, Item 2: %*s' % (n, 'Bob', n, 'Suzanne'))"
   ]
  },
  {
   "cell_type": "markdown",
   "metadata": {},
   "source": [
    "위 코드처럼 n=8은 런타입 시 값이결정되는 변수로 대체할 수 있다.  \n",
    "이 예시의 변수 n과 같이 필드-너비 인수가 포함된 모든 인수는 백분율 연산자(%) 바로 뒤에 명시한 튜플 안에 위치한다. "
   ]
  },
  {
   "cell_type": "code",
   "execution_count": 23,
   "metadata": {},
   "outputs": [
    {
     "name": "stdout",
     "output_type": "stream",
     "text": [
      "Item 1:     'Bob', Item 2: 'Suzanne'\n"
     ]
    }
   ],
   "source": [
    "n = 9\n",
    "print('Item 1: %*r, Item 2: %*r' % (n, 'Bob', n, 'Suzanne'))"
   ]
  },
  {
   "cell_type": "markdown",
   "metadata": {},
   "source": [
    "앞서 설명했듯이 %r을 사용하면 따옴표로 감싼 문자열이 출력된다 "
   ]
  },
  {
   "cell_type": "markdown",
   "metadata": {},
   "source": [
    "물론 변수-너비 정밀도 지시자를 만들 수도 있다. 포맷 연산자(%)의 일반 적인 규칙은 다음과 같다   \n",
    "\n",
    "* 포매팅 코드에서 일반적으로 정수를 넣는 곳에 별표 기호(*)를 대신 넣을 수 있으며, 리스트에는 별표 기호와 대응하는 정수가 반드시 존재해야 한다. "
   ]
  },
  {
   "cell_type": "code",
   "execution_count": 24,
   "metadata": {},
   "outputs": [
    {
     "name": "stdout",
     "output_type": "stream",
     "text": [
      "   3.142\n"
     ]
    }
   ],
   "source": [
    "print('%*.*f' % (8, 3, 3.141592))"
   ]
  },
  {
   "cell_type": "markdown",
   "metadata": {},
   "source": [
    "위 코드는 포맷 지시자가 %8.3f 인 것과 동일하게 동작한다 "
   ]
  },
  {
   "cell_type": "markdown",
   "metadata": {},
   "source": [
    "### 전역 'format' 함수  \n",
    "\n",
    "전역 format 함수는 하나의 출력 필드 포맷을 지정할 수 있다"
   ]
  },
  {
   "cell_type": "code",
   "execution_count": 25,
   "metadata": {},
   "outputs": [
    {
     "data": {
      "text/plain": [
       "'1,000,000,000,000'"
      ]
     },
     "execution_count": 25,
     "metadata": {},
     "output_type": "execute_result"
    }
   ],
   "source": [
    "big_n = 10 ** 12\n",
    "format(big_n, ',')"
   ]
  },
  {
   "cell_type": "markdown",
   "metadata": {},
   "source": [
    "위 예시는 format 함수를 사용하여 천 단위 위치 구분자인 콤마 기호를 쉽게 추가할 수 있다.   \n",
    "\n",
    "format 함수는 문자열 클래스(str)의 format 메서드와 관련이 깊은데 format 메서드는 문자열을 처리할 때, 입력받은 데이터 객체와 함께 포맷 지시자를 분석하며, 각각의 개별적 필드는 전역 format 함수를 호출하여 분석을 수행한다. "
   ]
  },
  {
   "cell_type": "markdown",
   "metadata": {},
   "source": [
    "* format(데이터, 사양)  \n",
    "\n",
    "이 함수는 '데이터'를 확보하여 '사양'에 맞는 포맷을 적용한 문자열을 반환한다.  \n",
    "두번째 인수는 하나의 항목을 출력할 때 반영할 사양을 담고 있는 문자열이다"
   ]
  },
  {
   "cell_type": "markdown",
   "metadata": {},
   "source": [
    "* [너비][,][.정밀도][타입_문자]  \n",
    "\n",
    "이 문법에서 대괄호 기호로 표기된 항목들은 필수가 아니라 선택 사항이다.  \n",
    "\n",
    "* 너비 : 함수는 '너비' 길이의 출력 필드에 데이터를 문자열로 표현한다. 필요하다면 빈칸을 채우도록 할 수도 있다. 기본적으로 숫자 데이터는 오른쪽, 문자열 데이터는 왼쪽으로 자리 맞춤된다.  \n",
    "\n",
    "* 쉼포 기호(,) : 천 단위 위치 구분자로 쉽표 기호를 넣겠다는 것을 의미한다. 숫자 데이터에만 사용할 수 있으며, 그렇지 않은 경우 예외를 발생시킨다   \n",
    "\n",
    "* 정밀도 : 출력할 부동소수점 숫자의 자릿수를 나타낸다. 숫자가 아닌경우, 문자열 데이터의 최대 길이를 의미하며 정수와는 사용할 수 없다. \n",
    "'타입_문자'가 f라면 '정밀도'는 소수점 오른쪽에 출력할 숫자의 고정된 자릿수를 의미한다.  \n",
    "\n",
    "* 타입_문자 : 진법의 기수를 의미한다. b는 이진수, x는 16진수를 의미한다.  \n",
    "하지만 주로 f와 같이 고정소수점 포맷을 가리키는 부동소수점 지시자를 의미한다"
   ]
  },
  {
   "cell_type": "markdown",
   "metadata": {},
   "source": [
    "format 함수의 포맷 지시자 예시   \n",
    "\n",
    "* ',' : 숫자에 천 단위 위치 구분자를 함께 표기한다\n",
    "* '5' : 최소 출력-필드 너비를 5문자로 지시한다. 더 짧은 정보가 출력되면 부족한 자리에 빈칸을 채운다 \n",
    "* '10' : 최소 출력-필드 너비를 10문자로 설정한다. 객체의 표현이 10문자보다 짧으면 필드 안에서 자리 맞춤된다 \n",
    "* '10,' : 최소 출력-필드 너비를 10문자로 설정하고, 천 단위 위치 구분자도 함께 표기\n",
    "* '10.5' : 최소 출력 필드 너비를 10으로 설정한다.  \n",
    "데이터가 문자열이면 최대 문자 수가 5개가 되며, 더 큰 문자는 잘린다  \n",
    "데이터가 부동소수점이면 왼쪽에서부터 오른쪽으로 최대 5개 숫자가 필드에 출력되며 필요시 반올림 된다.  \n",
    "\n",
    "* '8.4' : 출력-필드 너비는 8이며 정밀도는 4이다. \n",
    "* '10,.7' : 최소 출력-필드 너비를 10으로, 정밀도는 7로 설정, 천 단위 위치 구분자 표기\n",
    "* '10.3f' : 고정소수점 표기, 출력-필드 너비를 10으로 하고 소수점 오른쪽 숫자를 정확히 3개만 표현한다  \n",
    "* '.3f' : 소수점 오른쪽 숫자를 정확하게 3개만 출력한다. 최소 너비는 설정하지 않는다  \n",
    "\n",
    "* 'b' : 이진수로 표기 \n",
    "* '6b' : 이진수로 표기, 6개의 문자 필드에 오른쪽 자리 맞춤 수행 \n",
    "* 'x' : 16진수로 표기 \n",
    "* '5x' : 16진수로 표기, 5개의 문자 필드에 오른쪽 자리 맞춤 수행 \n",
    "* 'o' : 8진수로 표기\n",
    "* '5o' : 8진수로 표기, 5개의 문자 필드에 오른쪽 자리 맞춤 수행"
   ]
  },
  {
   "cell_type": "code",
   "execution_count": 26,
   "metadata": {},
   "outputs": [
    {
     "name": "stdout",
     "output_type": "stream",
     "text": [
      "150,000,000\n"
     ]
    }
   ],
   "source": [
    "n = 150000000\n",
    "print(format(n, ','))"
   ]
  },
  {
   "cell_type": "markdown",
   "metadata": {},
   "source": [
    "천 단위 구분자는 명시할 수 있지만 숫자에만 동작하며 다른 데이터 타입이면 오류가 발생한다"
   ]
  },
  {
   "cell_type": "markdown",
   "metadata": {},
   "source": [
    "너비 문자는 항상 최소 출력-필드 너비를 나타내며, 영구적으로 사용된다.  \n",
    "기본적으로 문자열 표현은 왼쪽 자리 맞춤을 하며, 숫자는 오른쪽 자리 맞춤을 한 후 부족한 자릿수는 빈칸으로 채운다. (아래 코드)"
   ]
  },
  {
   "cell_type": "code",
   "execution_count": 29,
   "metadata": {},
   "outputs": [
    {
     "name": "stdout",
     "output_type": "stream",
     "text": [
      "Bob       \n",
      "Suzie  \n",
      "     150\n",
      "   99\n"
     ]
    }
   ],
   "source": [
    "print(format('Bob', '10'))\n",
    "print(format('Suzie', '7'))\n",
    "print(format(150, '8'))\n",
    "print(format(99, '5'))"
   ]
  },
  {
   "cell_type": "markdown",
   "metadata": {},
   "source": [
    "* 너비는 항상 출력-필드의 최대가 아닌 최소 길이를 설정하며 너비 필드는 데이터를 잘라 내지 않는다  \n",
    "* 정밀도 지시나는 데이터 종류에 따라서 다르게 동작한다. \n",
    "문자열 데이터인 경우 출력 필드의 최대 자릿수를 의미하며, 데이터를 잘라 낼 수도 있다  \n",
    "부동소수점과 사용하면 소수점만 계산하는 것이 아니라 왼쪽 시작 지점부터 오른쪽으로 전체 숫자 개수를 의미하며 필요시 올림,버림이 수행될 수 있다. "
   ]
  },
  {
   "cell_type": "code",
   "execution_count": 30,
   "metadata": {},
   "outputs": [
    {
     "name": "stdout",
     "output_type": "stream",
     "text": [
      "Bob   \n",
      "  3.14\n"
     ]
    }
   ],
   "source": [
    "print(format('Bobby K.', '6.3'))\n",
    "print(format(3.141592, '6.3'))"
   ]
  },
  {
   "cell_type": "markdown",
   "metadata": {},
   "source": [
    "위 코드에서 3.141로 나와야 하지만 마지막 1은 버림 처리돼었다"
   ]
  },
  {
   "cell_type": "code",
   "execution_count": 31,
   "metadata": {},
   "outputs": [
    {
     "name": "stdout",
     "output_type": "stream",
     "text": [
      "    3.142\n",
      "  100.700\n"
     ]
    }
   ],
   "source": [
    "print(format(3.141592, '9.3f'))\n",
    "print(format(100.7, '9.3f'))"
   ]
  },
  {
   "cell_type": "markdown",
   "metadata": {},
   "source": [
    "고정소수 포맷을 사용하면 정밀도는 무조건 소수점 오른쪽의 숫자 개수에만 영향을 미친다.  \n",
    "위 코드에서 100.7 뒤에 3자리를 맞추려고 0으로 모자란 자릿수를 채웠다. "
   ]
  },
  {
   "cell_type": "markdown",
   "metadata": {},
   "source": [
    "### format 메서드 소개  \n",
    "\n",
    "25 plus 75 equals 100.  \n",
    "\n",
    "이라는 문장을 3개의 정수 변수(a, b, c)로 출력하고 싶다고 가정했을때 format 메서드는 이 출력 문자열을 생산하기 위해 쉽고 읽기 좋은 방법을 제공한다"
   ]
  },
  {
   "cell_type": "code",
   "execution_count": 32,
   "metadata": {},
   "outputs": [
    {
     "name": "stdout",
     "output_type": "stream",
     "text": [
      "25 plus 75 equals 100.\n"
     ]
    }
   ],
   "source": [
    "print('{} plus {} equals {}.'.format(25, 75, 100))"
   ]
  },
  {
   "cell_type": "markdown",
   "metadata": {},
   "source": [
    "format 메서드 문법은 다음과 같으며 문자열 안 {} 표기는 주어진 인수로 채워진다  \n",
    "\n",
    "포맷이_지시된_문자열.format(인수들)  \n",
    "\n",
    "이 식은 출력 필드를 제외한 모든 텍스트를 '포맷이_지시된_문자열'을 통해 넘긴다. 출력 필드는 {}와 대응되며, 각 출력 필드에 '인수들'의 각 항목이 출력된다 "
   ]
  },
  {
   "cell_type": "code",
   "execution_count": 33,
   "metadata": {},
   "outputs": [
    {
     "name": "stdout",
     "output_type": "stream",
     "text": [
      "Pythagoras said, I want 2 slices of 3.141592.\n"
     ]
    }
   ],
   "source": [
    "fss = '{} said, I want {} slices of {}.'\n",
    "\n",
    "name = 'Pythagoras'\n",
    "pi = 3.141592\n",
    "print(fss.format(name, 2, pi))"
   ]
  },
  {
   "cell_type": "markdown",
   "metadata": {},
   "source": [
    "위 코드와 같이 데이터 객체를 출력할 때 특별한 포맷을 지정하지 않는다면 단순하게 중괄호 기호쌍 ({})을 각 항목에 사용하면 된다. "
   ]
  },
  {
   "cell_type": "code",
   "execution_count": 34,
   "metadata": {},
   "outputs": [
    {
     "name": "stdout",
     "output_type": "stream",
     "text": [
      "Set = {1, 2}\n"
     ]
    }
   ],
   "source": [
    "print('Set = {{{}, {}}}'.format(1, 2))"
   ]
  },
  {
   "cell_type": "markdown",
   "metadata": {},
   "source": [
    "위 코드에서 중괄호 기호는 특수 문자이다. 중괄호 기호 자체를 출력하고 싶다면 {{}}를 사용한다"
   ]
  },
  {
   "cell_type": "code",
   "execution_count": 35,
   "metadata": {},
   "outputs": [
    {
     "name": "stdout",
     "output_type": "stream",
     "text": [
      "Set = { 15, 35, 25 }\n"
     ]
    }
   ],
   "source": [
    "fss = 'Set = {{ {}, {}, {} }}'\n",
    "print(fss.format(15, 35, 25))"
   ]
  },
  {
   "cell_type": "markdown",
   "metadata": {},
   "source": [
    "좀더 자세하게 설명하자면 2개의 중괄호는 중괄호 기호 자체를 출력한다는 것이다 "
   ]
  },
  {
   "cell_type": "code",
   "execution_count": 37,
   "metadata": {},
   "outputs": [
    {
     "name": "stdout",
     "output_type": "stream",
     "text": [
      "Set = { 15, 35, 25 }\n"
     ]
    }
   ],
   "source": [
    "print('Set = {{ {}, {}, {} }}'.format(15, 35, 25))"
   ]
  },
  {
   "cell_type": "markdown",
   "metadata": {},
   "source": [
    "1줄로 작성도 가능하다 "
   ]
  },
  {
   "cell_type": "markdown",
   "metadata": {},
   "source": [
    "### 위치로 순서 정하기(이름 혹은 색인)  \n",
    "\n",
    "{ [위치] [!r|s|a] [: 사양 ] }   \n",
    "\n",
    "포맷 문자열의 출력 필드 구문 중 대괄호 기호로 감싼 항목은 필수로 넣을 필요가 없는 선택 사항이다.   \n",
    "\n",
    "* 사양 : 잠재적으로 복잡한 포매팅 매개변수를 열거한다  \n",
    "* 위치 : 숫자 혹은 이름으로 어느 인수를 출력할 것인지 가리킨다. 위치 지시자를 사용하면 순서와 상관없이 인수를 지정할 수 있다.  \n",
    "위치_색인 | 위치_이름  처럼 위치 지시자는 색인 번호나 인수 이름으로 지정할 수 있다. "
   ]
  },
  {
   "cell_type": "code",
   "execution_count": 40,
   "metadata": {},
   "outputs": [
    {
     "name": "stdout",
     "output_type": "stream",
     "text": [
      "10; 20; 30!\n"
     ]
    }
   ],
   "source": [
    "print('{}; {}; {}!'.format(10, 20, 30))"
   ]
  },
  {
   "cell_type": "code",
   "execution_count": 41,
   "metadata": {},
   "outputs": [
    {
     "name": "stdout",
     "output_type": "stream",
     "text": [
      "The items are 30, 20, 10\n"
     ]
    }
   ],
   "source": [
    "print('The items are {2}, {1}, {0}'.format(10, 20, 30))"
   ]
  },
  {
   "cell_type": "markdown",
   "metadata": {},
   "source": [
    "위 코드 처럼 {} 안에 색인을 넣는다면 역순으로 출력 가능하다"
   ]
  },
  {
   "cell_type": "code",
   "execution_count": 42,
   "metadata": {},
   "outputs": [
    {
     "name": "stdout",
     "output_type": "stream",
     "text": [
      "The items are 40, 20, 10.\n"
     ]
    }
   ],
   "source": [
    "fss = 'The items are {3}, {1}, {0}.'\n",
    "print(fss.format(10, 20, 30, 40))"
   ]
  },
  {
   "cell_type": "markdown",
   "metadata": {},
   "source": [
    "출력 필드보다 더 많은 인수를 입력하면 0으로 시작하는 색인으로 초과된 인수를 참조할 수 있다"
   ]
  },
  {
   "cell_type": "code",
   "execution_count": 44,
   "metadata": {},
   "outputs": [
    {
     "name": "stdout",
     "output_type": "stream",
     "text": [
      "a equals 10, b equals 50, c equals 100.\n"
     ]
    }
   ],
   "source": [
    "fss = 'a equals {a}, b equals {b}, c equals {c}.'\n",
    "print(fss.format(a=10, c=100, b=50))"
   ]
  },
  {
   "cell_type": "markdown",
   "metadata": {},
   "source": [
    "출력 필드는 인수 이름으로 불러올 수도 있다. "
   ]
  },
  {
   "cell_type": "code",
   "execution_count": 45,
   "metadata": {},
   "outputs": [
    {
     "name": "stdout",
     "output_type": "stream",
     "text": [
      "100, 100, 200, 200\n"
     ]
    }
   ],
   "source": [
    "print('{0}, {0}, {1}, {1}'.format(100, 200))"
   ]
  },
  {
   "cell_type": "markdown",
   "metadata": {},
   "source": [
    "위치 색인을 사용하여 출력 결과에 인수 값을 반복하여 출력할 수도 있다. "
   ]
  },
  {
   "cell_type": "markdown",
   "metadata": {},
   "source": [
    "위치 기반 정렬은 유용한 고급 기능을 제공한다.  \n",
    "\n",
    "예를 들어 {0[0]:} 은 '첫 번째 인수의 첫 번째 항목을 선택하라'는 것을 의미한다  \n",
    "{0[1]:} 은 '첫 번째 인수의 두 번째 항목을 선택하라'는 것을 의미하게되는 것이다. "
   ]
  },
  {
   "cell_type": "code",
   "execution_count": 48,
   "metadata": {},
   "outputs": [
    {
     "name": "stdout",
     "output_type": "stream",
     "text": [
      "200, 300\n",
      "200, 300\n"
     ]
    }
   ],
   "source": [
    "a_list = [100,200,300]\n",
    "print('{0[1]:}, {0[2]:}'.format(a_list))\n",
    "print('{a[1]:}, {a[2]:}'.format(a=a_list))"
   ]
  },
  {
   "cell_type": "markdown",
   "metadata": {},
   "source": [
    "두번째 줄처럼 인수의 이름으로도 적용할 수 있다.  \n",
    "위치 색인 대신 이름을 사용하면 필요 시 포맷 문자열의 데이터 순서를 변경할 수 있다.  \n",
    "이 방법은 자연어를 번역할 때 문법상 위치를 변경해야 하는 특수한 상황에서 유용하다."
   ]
  },
  {
   "cell_type": "code",
   "execution_count": 51,
   "metadata": {},
   "outputs": [
    {
     "name": "stdout",
     "output_type": "stream",
     "text": [
      "Fred가 Joe에서 Sam을 만나는 게 언제지?\n"
     ]
    }
   ],
   "source": [
    "current_lang = input('한국어를 원하면 KRW를 입력하세요: ')\n",
    "\n",
    "if current_lang == 'KRW':\n",
    "    fss = '{0}가 {2}에서 {1}을 만나는 게 언제지?'\n",
    "else:\n",
    "    fss = \"When will {0} meet {1} at {2}'s?\"\n",
    "print(fss.format('Fred', 'Sam', 'Joe'))"
   ]
  },
  {
   "cell_type": "markdown",
   "metadata": {},
   "source": [
    "### 'repr' vs 문자열 변환  \n",
    "\n"
   ]
  },
  {
   "cell_type": "code",
   "execution_count": 52,
   "metadata": {},
   "outputs": [
    {
     "name": "stdout",
     "output_type": "stream",
     "text": [
      "10\n",
      "10\n"
     ]
    }
   ],
   "source": [
    "print(10)\n",
    "print(str(10))"
   ]
  },
  {
   "cell_type": "markdown",
   "metadata": {},
   "source": [
    "위와 같이 str 변환을 시도하면 print 함수가 출력하는 데이터와 똑같은 문자열이 반환된다"
   ]
  },
  {
   "cell_type": "markdown",
   "metadata": {},
   "source": [
    "하지만 일부 데이터 타입은 str과는 다르게 repr 변환을 시도하는 경우가 있는데, repr 변환은 데이터 객체를 코드에서 표현하는 기준 방식으로 해석한다 "
   ]
  },
  {
   "cell_type": "code",
   "execution_count": 53,
   "metadata": {},
   "outputs": [
    {
     "name": "stdout",
     "output_type": "stream",
     "text": [
      "10\n"
     ]
    }
   ],
   "source": [
    "print(repr(10))"
   ]
  },
  {
   "cell_type": "markdown",
   "metadata": {},
   "source": [
    "위 처럼 숫자를 출력하면 결과는 동일하지만 문자열을 출력하면 다르다 "
   ]
  },
  {
   "cell_type": "code",
   "execution_count": 56,
   "metadata": {},
   "outputs": [
    {
     "name": "stdout",
     "output_type": "stream",
     "text": [
      "Here is a \n",
      " newline! \n"
     ]
    }
   ],
   "source": [
    "test_str = 'Here is a \\n newline! '\n",
    "print(test_str)"
   ]
  },
  {
   "cell_type": "markdown",
   "metadata": {},
   "source": [
    "위코드에서 \\n은 특수 기호로 번역되어 저장한다. 다시 말하면 \\n은 코드에서만 보이는 표현 방식이지 실제로 저장되지는 않는다 "
   ]
  },
  {
   "cell_type": "code",
   "execution_count": 2,
   "metadata": {},
   "outputs": [
    {
     "name": "stdout",
     "output_type": "stream",
     "text": [
      "'Here is a \\n newline'\n"
     ]
    }
   ],
   "source": [
    "test_str = 'Here is a \\n newline'\n",
    "print(repr(test_str))"
   ]
  },
  {
   "cell_type": "markdown",
   "metadata": {},
   "source": [
    "하지만 위 처럼 repr을 적용하면 '기준 소스-코드 표현 방식으로 출력하라' 로 해석하여 다른 결과를 보여준다 "
   ]
  },
  {
   "cell_type": "code",
   "execution_count": 4,
   "metadata": {},
   "outputs": [
    {
     "name": "stdout",
     "output_type": "stream",
     "text": [
      "Here is a \n",
      " newline\n"
     ]
    }
   ],
   "source": [
    "test_str = 'Here is a \\n newline'\n",
    "print('{}'.format(test_str))"
   ]
  },
  {
   "cell_type": "markdown",
   "metadata": {},
   "source": [
    "%s와 %r 포매팅 지시자는 format 메서드와 마찬가지로 어떤 표현 방식 스타일을 사용할지 제어할 수 있게 해 준다.  \n",
    "repr 없이 문자열 인수를 출력하면 직접 출력하는 것과 같은 결과를 보여준다. "
   ]
  },
  {
   "cell_type": "code",
   "execution_count": 7,
   "metadata": {},
   "outputs": [
    {
     "name": "stdout",
     "output_type": "stream",
     "text": [
      "'Here is a \\n newline'\n"
     ]
    }
   ],
   "source": [
    "test_str = 'Here is a \\n newline'\n",
    "print('{!r}'.format(test_str))"
   ]
  },
  {
   "cell_type": "markdown",
   "metadata": {},
   "source": [
    "!r 제한자를 사용하면 인수의 repr 버전이 사용된다. 즉 데이터에 repr 변환이 적용된다는 뜻"
   ]
  },
  {
   "cell_type": "code",
   "execution_count": 11,
   "metadata": {},
   "outputs": [
    {
     "name": "stdout",
     "output_type": "stream",
     "text": [
      "'ChaCha' loves 'Joanie'\n"
     ]
    }
   ],
   "source": [
    "print('{1!r} loves {0!r}'.format('Joanie', 'ChaCha'))"
   ]
  },
  {
   "cell_type": "markdown",
   "metadata": {},
   "source": [
    "!r은 인수 위치 옵션과 함께 사용되며 각 옵션은 서로 간섭을 일으키지 않는다  \n",
    "이 코드에서 중괄호 기호 안에 위치한 포매팅 문자는 두 가지 작업을 한다.\n",
    "색인 뒤집기, !r 포맷을 사용하여 두 인수를 파이썬 코드 안에서 보여지는 기준 표현 방식대로 따옴표 기호와 함께 출력했다 "
   ]
  },
  {
   "cell_type": "markdown",
   "metadata": {},
   "source": [
    "### 'format' 함수와 메서드의 '사양' 필드  \n",
    "\n",
    "'사양' 구문은 다음 문법에서 각 옵션은 선택 사항으로 추가할 수 있지만, 입력 순서를 반드시 지켜야 한다  \n",
    "\n",
    "[[채우기]자리 맞춤][기호][#][0][너비][,][.정밀도][타입]  \n",
    "\n",
    "각 항목은 서로 독립적이며 중괄호 기호와 콜론 기호는 format 메서드에서 사용하지 않는다. "
   ]
  },
  {
   "cell_type": "code",
   "execution_count": 13,
   "metadata": {},
   "outputs": [
    {
     "data": {
      "text/plain": [
       "'+32.3000'"
      ]
     },
     "execution_count": 13,
     "metadata": {},
     "output_type": "execute_result"
    }
   ],
   "source": [
    "s = format(32.3, '<+08.3f')\n",
    "s"
   ]
  },
  {
   "cell_type": "markdown",
   "metadata": {},
   "source": [
    "일반적으로 사용하는 출력-필드 너비는 정수로 표기하며 항상 콜론(:) 기호 뒤에 위치한다. "
   ]
  },
  {
   "cell_type": "code",
   "execution_count": 16,
   "metadata": {},
   "outputs": [
    {
     "name": "stdout",
     "output_type": "stream",
     "text": [
      "**       777**999**\n"
     ]
    }
   ],
   "source": [
    "n1, n2 = 777, 999\n",
    "print('**{:10}**{:2}**'.format(n1, n2))"
   ]
  },
  {
   "cell_type": "markdown",
   "metadata": {},
   "source": [
    "위 코드처럼 기호 자체를 출력하는 * 는 출력 필드의 시작과 끝이 어디인지 잘 보여준다  \n",
    "\n",
    "숫자 777은 더 큰 출력 필드(10) 안에 오른쪽으로 자리 맞춤을 하여 배치된다.  \n",
    "숫자 999의 길이는 출력 필드 크기(2)를 초과하기 때문에 잘리지 않고 그대로 출력된다 "
   ]
  },
  {
   "cell_type": "code",
   "execution_count": 17,
   "metadata": {},
   "outputs": [
    {
     "name": "stdout",
     "output_type": "stream",
     "text": [
      "'ChaCha'   loves 'Joanie'  !!\n"
     ]
    }
   ],
   "source": [
    "fss = '{1!r:10} loves {0!r:10}!!'\n",
    "print(fss.format('Joanie', 'ChaCha'))"
   ]
  },
  {
   "cell_type": "markdown",
   "metadata": {},
   "source": [
    "##### 텍스트 조정: '채우기'와 '자리 맞춤' 문자  \n",
    "\n",
    "'채우기'문자는 '자리 맞춤' 문자가 있는 경우에만 사용될 수 있다.  \n",
    "\n",
    "[[채우기]자리 맞춤]  \n",
    "\n",
    "배치: 이 항목들은 출력-필드 사양 안에서 사용될 수 있으며, '너비'를 포함한 모든 항목보다 앞에 나타나야 한다. "
   ]
  },
  {
   "cell_type": "code",
   "execution_count": 18,
   "metadata": {},
   "outputs": [
    {
     "name": "stdout",
     "output_type": "stream",
     "text": [
      "----Hey Bill G, pick me!\n"
     ]
    }
   ],
   "source": [
    "print('{:->24}'.format('Hey Bill G, pick me!'))"
   ]
  },
  {
   "cell_type": "markdown",
   "metadata": {},
   "source": [
    "출력 필드 {:->24}를 자세히 설명해보면  \n",
    "\n",
    "* format 메서드를 사용하면 출력 필드 사양의 첫 번째 항목으로 콜론 기호(:)가 나타난다(하지만 전역 format 함수에서는 필요 없다)\n",
    "\n",
    "* 콜론 기호 뒤에는 '채우기'와 '자리 맞춤' 문자가 나타난다 \n",
    "여기서 빼기(-) 는 채우기 문자 이며, '자리 맞춤'은 오른쪽 자리 맞춤(>) 으로 설정되어있다 \n",
    "\n",
    "* '채우기'와 '자리 맞춤' 뒤에는 출력-필드 너비로 24가 설정되었다  \n",
    "\n",
    "채우기 문자는 중괄호 기호를 제외한 어떤 문자가 와도 무관하다 "
   ]
  },
  {
   "cell_type": "markdown",
   "metadata": {},
   "source": [
    "포매팅에서 사용하는 '자리 맞춤' 문자\n",
    "\n",
    "* < : 왼쪽 자리 맞춤. 문자열 데이터의 기본 설정\n",
    "* \\> : 오른쪽 자리 맞춤. 문자열 데이터의 기본 설정\n",
    "* ^ : 출력 필드 중앙에 텍스트를 위치한다 (완벽하게 중앙에 위치하지 못하면 왼쪽으로 조정)\n",
    "* = : 모든 채우기 문자를 출력할 기호 문자(+or-)와 숫자 사이에 넣는다. 숫자 데이터에만 사용 가능 "
   ]
  },
  {
   "cell_type": "code",
   "execution_count": 20,
   "metadata": {},
   "outputs": [
    {
     "name": "stdout",
     "output_type": "stream",
     "text": [
      "    Tom\n",
      "Lady@@@\n",
      "***Bill\n"
     ]
    }
   ],
   "source": [
    "print('{:>7}'.format('Tom'))\n",
    "print('{:@<7}'.format('Lady'))\n",
    "print('{:*>7}'.format('Bill'))"
   ]
  },
  {
   "cell_type": "code",
   "execution_count": 23,
   "metadata": {},
   "outputs": [
    {
     "name": "stdout",
     "output_type": "stream",
     "text": [
      "   Tom    Jones\n",
      "@@@lady@@@\n"
     ]
    }
   ],
   "source": [
    "fss = '{:^10}Jones'\n",
    "print(fss.format('Tom'))\n",
    "fsa = '{:@^10}'\n",
    "print(fsa.format('lady'))"
   ]
  },
  {
   "cell_type": "code",
   "execution_count": 24,
   "metadata": {},
   "outputs": [
    {
     "name": "stdout",
     "output_type": "stream",
     "text": [
      "-   1250\n",
      "-0001250\n"
     ]
    }
   ],
   "source": [
    "print('{:=8}'.format(-1250))\n",
    "print('{:0=8}'.format(-1250))"
   ]
  },
  {
   "cell_type": "markdown",
   "metadata": {},
   "source": [
    "##### 기호 문자  \n",
    "\n",
    "배치: '기호'문자는 '채우기'와 '자리 맞춤' 문자 뒤에 위치하지만 '사양'의 나머지 옵션보다는 앞에 위치한다. 특히, '너비'보다 앞에 위치한다. \n",
    "\n",
    "* \\+ : 음수가 아닌 숫자 앞에 + 기호를 출력한다. 음수인 경우 평상시와 같이 - 기호 출력\n",
    "* \\- : 음수에만 - 기호를 붙인다. 기본설정\n",
    "* (blank space) : 음수가 아닌 숫자에 더하기 기호를 출력하는 대신 빈칸을 출력한다.\n",
    "이 방법은 음수 포함 유무와 상관없이 숫자를 보기 좋게 자리 맞춤할때 유용하게 쓰인다. "
   ]
  },
  {
   "cell_type": "code",
   "execution_count": 27,
   "metadata": {},
   "outputs": [
    {
     "name": "stdout",
     "output_type": "stream",
     "text": [
      "result> 25, +25, 25\n"
     ]
    }
   ],
   "source": [
    "print('result>{: }, {:+}, {:-}'.format(25, 25, 25))"
   ]
  },
  {
   "cell_type": "code",
   "execution_count": 28,
   "metadata": {},
   "outputs": [
    {
     "name": "stdout",
     "output_type": "stream",
     "text": [
      "result>-25, -25, -25\n"
     ]
    }
   ],
   "source": [
    "print('result>{: }, {:+}, {:-}'.format(-25, -25, -25))"
   ]
  },
  {
   "cell_type": "markdown",
   "metadata": {},
   "source": [
    "위 코드 처럼 음수는 항상 빼기 기호와 함께 출력된다. "
   ]
  },
  {
   "cell_type": "markdown",
   "metadata": {},
   "source": [
    "##### 0으로 시작하는 문자 (0)  \n",
    "\n",
    "이 문자는 숫자의 채우기 문자를 빈칸 대신 '0'을 사용하여 0으로 부족한 자리를 채운다. 비록 자리 맞춤과 채우기 문자를 사용하여 비슷한 효과를 얻을 수 있다   \n",
    "\n",
    "배치: 이 문자가 사용되면 '너비' 사양 앞에 나타난다. 필수적으로 너비에 맞추어 0이 앞쪽으로 채워진다 "
   ]
  },
  {
   "cell_type": "code",
   "execution_count": 29,
   "metadata": {},
   "outputs": [
    {
     "name": "stdout",
     "output_type": "stream",
     "text": [
      "0000125 0000025156.\n"
     ]
    }
   ],
   "source": [
    "i, j = 125, 25156\n",
    "print('{:07} {:010}.'.format(i, j))"
   ]
  },
  {
   "cell_type": "code",
   "execution_count": 30,
   "metadata": {},
   "outputs": [
    {
     "name": "stdout",
     "output_type": "stream",
     "text": [
      "00000375\n"
     ]
    }
   ],
   "source": [
    "print('{:08}'.format(375))"
   ]
  },
  {
   "cell_type": "code",
   "execution_count": 31,
   "metadata": {},
   "outputs": [
    {
     "name": "stdout",
     "output_type": "stream",
     "text": [
      "0000000+25 +000000025\n"
     ]
    }
   ],
   "source": [
    "print('{:0>+10} {:+010}'.format(25, 25))"
   ]
  },
  {
   "cell_type": "markdown",
   "metadata": {},
   "source": [
    "##### 천 단위 위치 구분자 \n",
    "\n",
    "배치: 콤마 기호는 '너비' 지시자 뒤, 그리고 '정밀도' 지시자 앞에 위치한다.  \n",
    "콤마 기호 뒤에는 '정밀도'와 '타입'만 위치할 수 있다. "
   ]
  },
  {
   "cell_type": "code",
   "execution_count": 34,
   "metadata": {},
   "outputs": [
    {
     "name": "stdout",
     "output_type": "stream",
     "text": [
      "The USA owes 21,000,000,000,000 dollars.\n",
      "The sun is 93,000,000 miles away.\n"
     ]
    }
   ],
   "source": [
    "fss1 = 'The USA owes {:,} dollars.'\n",
    "print(fss1.format(21000000000000))\n",
    "fss2 = 'The sun is {:,} miles away.'\n",
    "print(fss2.format(93000000))"
   ]
  },
  {
   "cell_type": "code",
   "execution_count": 35,
   "metadata": {},
   "outputs": [
    {
     "name": "stdout",
     "output_type": "stream",
     "text": [
      "The amount on the chenck was $***4,500,000\n"
     ]
    }
   ],
   "source": [
    "n = 4500000\n",
    "print('The amount on the chenck was ${:*>12,}'.format(n))"
   ]
  },
  {
   "cell_type": "code",
   "execution_count": 36,
   "metadata": {},
   "outputs": [
    {
     "name": "stdout",
     "output_type": "stream",
     "text": [
      "The amount is 000,013,000\n"
     ]
    }
   ],
   "source": [
    "print('The amount is {:011,}'.format(13000))"
   ]
  },
  {
   "cell_type": "code",
   "execution_count": 37,
   "metadata": {},
   "outputs": [
    {
     "name": "stdout",
     "output_type": "stream",
     "text": [
      "The amount is 0,000,013,000\n"
     ]
    }
   ],
   "source": [
    "n = 13000\n",
    "print('The amount is {:012,}'.format(n))"
   ]
  },
  {
   "cell_type": "markdown",
   "metadata": {},
   "source": [
    "바로 위 코드와 같이 출력-필드 크기가 4의 배수인 경우에는 첫 콤마 기호가 유효한 숫자의 밖으로 벗어나는 문제를 발생시키지 않기 위해 특별히 추가로 앞에 0을 표기한다. "
   ]
  },
  {
   "cell_type": "code",
   "execution_count": 38,
   "metadata": {},
   "outputs": [
    {
     "name": "stdout",
     "output_type": "stream",
     "text": [
      "The amount is 0000013,000\n"
     ]
    }
   ],
   "source": [
    "n = 13000\n",
    "print('The amount is {:0>11,}'.format(n))"
   ]
  },
  {
   "cell_type": "markdown",
   "metadata": {},
   "source": [
    "하지만 위 코드처럼 0을 채우기 문자로 설정하면 0이 숫자의 일부로 인식되지 않기때문에 콤마 기호로 묶이지 않게된다 "
   ]
  },
  {
   "cell_type": "markdown",
   "metadata": {},
   "source": [
    "##### 정밀도 제어  \n",
    "\n",
    "'정밀도' 지시자는 문자열에도 사용할 수 있지만 대부분 부동소수점 값의 포매팅을 위해 사용되며, 숫자로 설정된다. 이 설정으로 인해 반올림이나 잘라 내기가 수행된다.  \n",
    "\n",
    "정밀도는 항상 소수점 오른쪽에 정확한 개수의 숫자가 출력되는 것을 보장하기 위해 (f 타입 지시자와 함께) 고정 소수점 포맷에도 사용할 수 있다.  \n",
    "\n",
    "배치: 정밀도는 소수점 기호(.) 바로 오른쪽에 위치한 숫자다. '타입'지시자를 제외하고 '사양'필드의 가장 마지막 항목이다 "
   ]
  },
  {
   "cell_type": "code",
   "execution_count": 39,
   "metadata": {},
   "outputs": [
    {
     "name": "stdout",
     "output_type": "stream",
     "text": [
      "3.1 + 1.6 = 4.8\n"
     ]
    }
   ],
   "source": [
    "pi = 3.14159265\n",
    "phi = 1.618\n",
    "\n",
    "fss = '{:.2} + {:.2} = {:.2}'\n",
    "print(fss.format(pi, phi, pi + phi))"
   ]
  },
  {
   "cell_type": "markdown",
   "metadata": {},
   "source": [
    "위 코드는 반올림 에러 때문에 부정확해 보인다. "
   ]
  },
  {
   "cell_type": "code",
   "execution_count": 40,
   "metadata": {},
   "outputs": [
    {
     "name": "stdout",
     "output_type": "stream",
     "text": [
      "3.14 + 1.62 = 4.76\n"
     ]
    }
   ],
   "source": [
    "pi = 3.14159265\n",
    "phi = 1.618\n",
    "\n",
    "fss = '{:.3} + {:.3} = {:.3}'\n",
    "print(fss.format(pi, phi, pi + phi))"
   ]
  },
  {
   "cell_type": "markdown",
   "metadata": {},
   "source": [
    "위 코드처럼 제한된 정밀도가 모든 숫자에 반영되어 마지막 숫자는 적절하게 반올림되었다. "
   ]
  },
  {
   "cell_type": "code",
   "execution_count": 41,
   "metadata": {},
   "outputs": [
    {
     "name": "stdout",
     "output_type": "stream",
     "text": [
      "     22.100\n",
      "   1000.007\n"
     ]
    }
   ],
   "source": [
    "fss = ' {:10.3f}\\n {:10.3f}'\n",
    "print(fss.format(22.1, 1000.007))"
   ]
  },
  {
   "cell_type": "markdown",
   "metadata": {},
   "source": [
    "정밀도를 사용하여 고정소수점 포맷으로 숫자를 출력하고 싶다면 '너비'와 '정밀도'를 f 타입 지시자와 함께 조합하여 출력 필드 끝에 명시하면 된다.  \n",
    "\n",
    "위 코드에서 소수점 오른쪽의 숫자 개수에만 반영되고 부족한 자릿수는 0으로 채워졌다. "
   ]
  },
  {
   "cell_type": "code",
   "execution_count": 42,
   "metadata": {},
   "outputs": [
    {
     "name": "stdout",
     "output_type": "stream",
     "text": [
      " 22,333.100\n",
      "  1,000.007\n"
     ]
    }
   ],
   "source": [
    "fss = ' {:10,.3f}\\n {:10,.3f}'\n",
    "print(fss.format(22333.1, 1000.007))"
   ]
  },
  {
   "cell_type": "markdown",
   "metadata": {},
   "source": [
    "위 코드는 콤마 기호와 정밀도 사이에 천 단위 위치 구분자와 같은 다른 기능과 조합하여 사용한 예시이다 "
   ]
  },
  {
   "cell_type": "code",
   "execution_count": 43,
   "metadata": {},
   "outputs": [
    {
     "name": "stdout",
     "output_type": "stream",
     "text": [
      "      22.70\n",
      "       3.14\n",
      "     555.50\n",
      "    1010.01\n"
     ]
    }
   ],
   "source": [
    "fss = ' {:10.2f}'\n",
    "for x in [22.7, 3.1415, 555.5, 1010.013]:\n",
    "    print(fss.format(x))"
   ]
  },
  {
   "cell_type": "markdown",
   "metadata": {},
   "source": [
    "'너비'와 '정밀도'가 함께 조합된 고정소수점 포맷 f는 수직으로 정렬된 숫자로 이루어진 테이블을 만드는데 유용하다. "
   ]
  },
  {
   "cell_type": "markdown",
   "metadata": {},
   "source": [
    "##### 문자열에서 사용한 '정밀도(잘라내기)'  \n",
    "\n",
    "'정밀도' 지시자를 문자열과 사용하면 문자열을 잘라 낼 수도 있다.  \n",
    "문자열의 길이가 '정밀도' 보다 크면 텍스트는 잘려 나간다. "
   ]
  },
  {
   "cell_type": "code",
   "execution_count": 45,
   "metadata": {},
   "outputs": [
    {
     "name": "stdout",
     "output_type": "stream",
     "text": [
      "Super\n",
      "Excel\n",
      "Sam\n"
     ]
    }
   ],
   "source": [
    "print('{:.5}'.format('Superannuated.'))\n",
    "print('{:.5}'.format('Excellent!'))\n",
    "print('{:.5}'.format('Sam'))"
   ]
  },
  {
   "cell_type": "markdown",
   "metadata": {},
   "source": [
    "위와 같이 출력할 문자열 길이가 '정밀도'보다 짧으면 아무런 영향이 없다"
   ]
  },
  {
   "cell_type": "code",
   "execution_count": 50,
   "metadata": {},
   "outputs": [
    {
     "name": "stdout",
     "output_type": "stream",
     "text": [
      "Tom***\n",
      "Mike**\n",
      "Rodney\n",
      "Hannib\n",
      "Mortim\n"
     ]
    }
   ],
   "source": [
    "fss = '{:*<6.6}'\n",
    "\n",
    "print(fss.format('Tom'))\n",
    "print(fss.format('Mike'))\n",
    "print(fss.format('Rodney'))\n",
    "print(fss.format('Hannibal'))\n",
    "print(fss.format('Mortimer'))"
   ]
  },
  {
   "cell_type": "markdown",
   "metadata": {},
   "source": [
    "* '채우기'와 '자리 맞춤' 문자는 각각 *와 < 이다. \n",
    "* '너비' 문자는 6개보다 적은 문자를 가진 문자열은 왼쪽 자리 맞춤 후 부족한 자리는 * 기호로 메워진다 \n",
    "* '정밀도' 역시 6이며, 6개 문자보다 더 긴 문자열은 잘려나간다 "
   ]
  },
  {
   "cell_type": "code",
   "execution_count": 51,
   "metadata": {},
   "outputs": [
    {
     "name": "stdout",
     "output_type": "stream",
     "text": [
      "Tom***\n",
      "Mike**\n",
      "Rodney\n",
      "Hannib\n",
      "Mortim\n"
     ]
    }
   ],
   "source": [
    "print(format('Tom', '*<6.6'))\n",
    "print(format('Mike', '*<6.6'))\n",
    "print(format('Rodney', '*<6.6'))\n",
    "print(format('Hannibal', '*<6.6'))\n",
    "print(format('Mortimer', '*<6.6'))"
   ]
  },
  {
   "cell_type": "markdown",
   "metadata": {},
   "source": [
    "'너비'와 '정밀도'는 동일할 필요가 없다 "
   ]
  },
  {
   "cell_type": "markdown",
   "metadata": {},
   "source": [
    "##### '타입' 지시자  \n",
    "\n",
    "'사양' 문법의 가장 마지막 항목은 번역 대상 데이터의 출력 방식을 결정하는 '타입' 지시자다.  \n",
    "\n",
    "배치: '타입' 지시자는 '사양' 문법의 가장 마지막에 위치하는 항목이다.  \n",
    "\n",
    "format 메서드에서 사용하는 '타입' 지시자  \n",
    "* b : 숫자를 이진수로 출력\n",
    "* c : 숫자를 아스키코드 혹은 유니코드 문자로 변환 \n",
    "* d : 숫자를 10진수 포맷으로 출력\n",
    "* e : 부동소수점 값을 지수 포맷을 사용하여 소문자 e 와 함께 출력\n",
    "* E : e와 같지만 대문자 E 사용\n",
    "* f or F : 숫자를 고정소수점 포맷으로 출력\n",
    "* g : e 혹은 f 포맷 중 짧은 것을 사용\n",
    "* G : g와 같지만 대문자 G 사용\n",
    "* n : 숫자 출력 시 지역 포맷을 사용 (유럽식 포맷)\n",
    "* o : 정수를 8진수 포맷으로 출력\n",
    "* x : 정수를 16진수 포맷으로 출력한다. 10 부터는 소문자로 표기\n",
    "* X : x와 같지만 10부터 대문자로 표기 \n",
    "* % : 숫자를 백분율로 표기. 10을 곱한 후 %를 붙인다 "
   ]
  },
  {
   "cell_type": "code",
   "execution_count": 52,
   "metadata": {},
   "outputs": [
    {
     "name": "stdout",
     "output_type": "stream",
     "text": [
      "101 110 10000\n"
     ]
    }
   ],
   "source": [
    "print('{:b} {:b} {:b}'.format(5, 6, 16))"
   ]
  },
  {
   "cell_type": "code",
   "execution_count": 53,
   "metadata": {},
   "outputs": [
    {
     "name": "stdout",
     "output_type": "stream",
     "text": [
      "0b111\n"
     ]
    }
   ],
   "source": [
    "print('{:#b}'.format(7))"
   ]
  },
  {
   "cell_type": "markdown",
   "metadata": {},
   "source": [
    "ob와 같이 접두사를 사용하고 싶으면 #를 넣으면 된다"
   ]
  },
  {
   "cell_type": "code",
   "execution_count": 54,
   "metadata": {},
   "outputs": [
    {
     "name": "stdout",
     "output_type": "stream",
     "text": [
      "77 3f 3F\n"
     ]
    }
   ],
   "source": [
    "print('{:o} {:x} {:X}'.format(63, 63, 63))"
   ]
  },
  {
   "cell_type": "code",
   "execution_count": 56,
   "metadata": {},
   "outputs": [
    {
     "name": "stdout",
     "output_type": "stream",
     "text": [
      "You own 51.700000% of the shares.\n"
     ]
    }
   ],
   "source": [
    "print('You own {:%} of the shares.'.format(.517))"
   ]
  },
  {
   "cell_type": "code",
   "execution_count": 57,
   "metadata": {},
   "outputs": [
    {
     "name": "stdout",
     "output_type": "stream",
     "text": [
      "23.10% of 50.00% of 40...\n"
     ]
    }
   ],
   "source": [
    "print('{:.2%} of {:.2%} of 40...'.format(0.231, 0.5))"
   ]
  },
  {
   "cell_type": "markdown",
   "metadata": {},
   "source": [
    "고정소수점 포맷처럼 백분율을 테이블 형태로 출력하고 싶다면 '너비'와 '정밀도'를 함께 사용."
   ]
  },
  {
   "cell_type": "markdown",
   "metadata": {},
   "source": [
    "##### 이진수 예시"
   ]
  },
  {
   "cell_type": "code",
   "execution_count": 63,
   "metadata": {},
   "outputs": [
    {
     "name": "stdout",
     "output_type": "stream",
     "text": [
      "Enter values in binary only!\n",
      "Total is: 0b1100\n",
      "7 + 5 = 12\n"
     ]
    }
   ],
   "source": [
    "def calc_binary():\n",
    "    print('Enter values in binary only!')\n",
    "    b1 = int(input('Enter b1:'), 2)\n",
    "    b2 = int(input('Enter b2:'), 2)\n",
    "    print('Total is: {:#b}'.format(b1 + b2))\n",
    "    print('{} + {} = {}'.format(b1, b2, b1 + b2))\n",
    "    \n",
    "calc_binary()"
   ]
  },
  {
   "cell_type": "markdown",
   "metadata": {},
   "source": [
    "### 변수-길이 필드  \n",
    "\n",
    "format 메서드 내에서 사용하는 변수 필드의 일반적인 규칙은 평상시에는 출력 필드 안에 고정 값을 넣는 대신 중괄호 기호 쌍을 넣는것이다.  \n",
    "그렇게 되면 해당 메서드는 포맷 문자열을 찾아서 내포된 {} 필드와 대응하는 인수 리스트의 항목과 교체하는 작업을 수행 후, 평상시대로 문자열에 포매팅을 수행한다. "
   ]
  },
  {
   "cell_type": "code",
   "execution_count": 65,
   "metadata": {},
   "outputs": [
    {
     "name": "stdout",
     "output_type": "stream",
     "text": [
      "Here is a num:      1.234\n",
      "Here is a num:      1.234\n"
     ]
    }
   ],
   "source": [
    "print('Here is a num: {:{}.{}}'.format(1.2345, 10, 4))\n",
    "print('Here is a num: {:10.4}'.format(1.2345))"
   ]
  },
  {
   "cell_type": "markdown",
   "metadata": {},
   "source": [
    "위의 두 코드는 동일하지만 첫줄은 변수를 사용한 것이다 "
   ]
  },
  {
   "cell_type": "code",
   "execution_count": 66,
   "metadata": {},
   "outputs": [
    {
     "name": "stdout",
     "output_type": "stream",
     "text": [
      "Here is a num:      1.234\n"
     ]
    }
   ],
   "source": [
    "a, b = 10, 4\n",
    "print('Here is a num: {:{}.{}}'.format(1.2345, a, b))"
   ]
  },
  {
   "cell_type": "markdown",
   "metadata": {},
   "source": [
    "위 코드는 변수를 정수로 선언하고 쓴 코드이다 "
   ]
  },
  {
   "cell_type": "code",
   "execution_count": 67,
   "metadata": {},
   "outputs": [
    {
     "name": "stdout",
     "output_type": "stream",
     "text": [
      "Hi  there  !\n"
     ]
    }
   ],
   "source": [
    "print('{:{}} {:{}}!'.format('Hi', 3, 'there', 7))"
   ]
  },
  {
   "cell_type": "markdown",
   "metadata": {},
   "source": [
    "위 코드처럼 사용한다면 문자열이 기본적으로 왼쪽 자리 맞춤을 하게 된다."
   ]
  },
  {
   "cell_type": "code",
   "execution_count": 68,
   "metadata": {},
   "outputs": [
    {
     "name": "stdout",
     "output_type": "stream",
     "text": [
      "Hi  there  !\n"
     ]
    }
   ],
   "source": [
    "print('{0:{1}} {2:{3}}!'.format('Hi', 3, 'there', 7))"
   ]
  },
  {
   "cell_type": "markdown",
   "metadata": {},
   "source": [
    "우선순위를 정의하기 위해 위치 숫자를 사용하면 조금더 명확하고 예측이 가능하다 "
   ]
  },
  {
   "cell_type": "code",
   "execution_count": 69,
   "metadata": {},
   "outputs": [
    {
     "name": "stdout",
     "output_type": "stream",
     "text": [
      "Pi is approx.    3.142\n"
     ]
    }
   ],
   "source": [
    "print('Pi is approx. {0:{1}.{2}f}'.format(3.141592, 8, 3))"
   ]
  },
  {
   "cell_type": "markdown",
   "metadata": {},
   "source": [
    "위 코드에서 출력-필드 너비가 8이고, 소수점 오른쪽 숫자의 개수를 3개로 제한하는 포맷을 적용했으며, 인덱스를 사용하여 숫자 3.141592를 출력한다. 숫자는 기본적으로 오른쪽 자리 맞춤한다"
   ]
  },
  {
   "cell_type": "code",
   "execution_count": 70,
   "metadata": {},
   "outputs": [
    {
     "name": "stdout",
     "output_type": "stream",
     "text": [
      "Pi is approx.    3.142\n"
     ]
    }
   ],
   "source": [
    "a, b = 8, 3\n",
    "print('Pi is approx. {0:{1}.{2}f}'.format(3.141592, a, b))"
   ]
  },
  {
   "cell_type": "code",
   "execution_count": 71,
   "metadata": {},
   "outputs": [
    {
     "name": "stdout",
     "output_type": "stream",
     "text": [
      "Pi is approx.    3.142\n"
     ]
    }
   ],
   "source": [
    "print('Pi is approx. {0:8.3f}'.format(3.141592))"
   ]
  },
  {
   "cell_type": "markdown",
   "metadata": {},
   "source": [
    "위의 두 코드 모두 같은 결과"
   ]
  },
  {
   "cell_type": "code",
   "execution_count": 72,
   "metadata": {},
   "outputs": [
    {
     "name": "stdout",
     "output_type": "stream",
     "text": [
      "Pi is 0003.142\n"
     ]
    }
   ],
   "source": [
    "print('Pi is {pi:{fill}{align}{width}.{prec}f}'.format(\n",
    "    pi=3.141592, width=8, prec=3, fill='0', align='>'))"
   ]
  },
  {
   "cell_type": "markdown",
   "metadata": {},
   "source": [
    "위 코드처럼 위치 이름도 포매팅을 아주 명확하게 만드는데 무척 유용하다.  \n",
    "강조하지만, 인수 값들은 코드 실행 시 값이 변경될 수 있는 숫자나 문자열 변수로 채워질 수 있다. "
   ]
  }
 ],
 "metadata": {
  "kernelspec": {
   "display_name": "tabnet",
   "language": "python",
   "name": "python3"
  },
  "language_info": {
   "codemirror_mode": {
    "name": "ipython",
    "version": 3
   },
   "file_extension": ".py",
   "mimetype": "text/x-python",
   "name": "python",
   "nbconvert_exporter": "python",
   "pygments_lexer": "ipython3",
   "version": "3.8.19"
  }
 },
 "nbformat": 4,
 "nbformat_minor": 2
}

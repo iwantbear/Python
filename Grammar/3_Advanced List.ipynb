{
<<<<<<< HEAD
<<<<<<< HEAD
=======
>>>>>>> 58e9754 (feat Study day3)
 "cells": [
  {
   "cell_type": "markdown",
   "metadata": {},
   "source": [
    "### 파이썬 리스트 생성 및 활용  \n",
    "\n",
    "파이썬은 데이터를 선언할 필요가 없다.  \n",
    "그렇다면 어떻게 리스트와 같은 컬렉션을 만들 수 있을까.. 그 방법은 다른 데이터를 만드는 방법과 동일하다. \n",
    "\n",
    "* 대입 연산자의 우측에 데이터를 명시한다. 리스트의 생성문이나 구축문이 위치한다. \n",
    "* 대입 연산자의 좌측에는 다른 대입문과 같이 리스트를 참조하기 위해 사용하는 변수 이름을 명시한다. "
   ]
  },
  {
   "cell_type": "code",
   "execution_count": null,
   "metadata": {},
   "outputs": [],
   "source": [
    "x = 5\n",
    "x = [1, 2, 3]"
   ]
  },
  {
   "cell_type": "markdown",
   "metadata": {},
   "source": [
    "변수는 대입을 하지 않는 한 어떤 타입도 정해지지 않는다. 이론상 다음 변수 x는 처음에 정수였다가 리스트가 된다.  \n",
    "\n",
    "하지만 변수는 하나의 데이터 타입만 쭉 사용하는 것이 훨씬 좋고, 데이터 타입을 연상시키는 변수 이름을 쓰는 것을 추천한다.  \n",
    "\n",
    "예를 들어 리스트 컬렉션의 변수 이름을 정할때 'list'를 접미사로 사용하는 것도 좋은 아이디어. "
   ]
  },
  {
   "cell_type": "code",
   "execution_count": 1,
   "metadata": {},
   "outputs": [],
   "source": [
    "my_inst_list = [5, -20, 5, -69]\n"
   ]
<<<<<<< HEAD
  },
  {
   "cell_type": "markdown",
   "metadata": {},
   "source": [
    "다음과 같이 문자열 이름으로 구성된 리스트를 선언할 수도 있다. "
   ]
  },
  {
   "cell_type": "code",
   "execution_count": 2,
   "metadata": {},
   "outputs": [],
   "source": [
    "beat_list = ['John', 'Paul', 'George', 'Ringo']"
   ]
  },
  {
   "cell_type": "markdown",
   "metadata": {},
   "source": [
    "숫자와 문자열 데이터를 섞어서 리스트를 생성할 수도 있다. "
   ]
  },
  {
   "cell_type": "code",
   "execution_count": 3,
   "metadata": {},
   "outputs": [],
   "source": [
    "mixed_list = [10, 'John', 5, 'Paul']"
   ]
  },
  {
   "cell_type": "markdown",
   "metadata": {},
   "source": [
    "하지만 리스트 안에 여러 데이터 타입을 섞는것은 피하는게 좋다.  \n",
    "파이썬 3.0 에서는 데이터 타입이 섞여 있으면 sort 메서드를 사용할 수 없다.  \n",
    "반면 정수와 실수는 가능하다."
   ]
  },
  {
   "cell_type": "code",
   "execution_count": 4,
   "metadata": {},
   "outputs": [
    {
     "data": {
      "text/plain": [
       "[2, 2.5, 3, 17]"
      ]
     },
     "execution_count": 4,
     "metadata": {},
     "output_type": "execute_result"
    }
   ],
   "source": [
    "num_list = [3, 2, 17, 2.5]\n",
    "num_list.sort()\n",
    "num_list"
   ]
  },
  {
   "cell_type": "markdown",
   "metadata": {},
   "source": [
    "컬렉션을 구축하는 또 다른 방법은 빈 리스트에 항목을 하나씩 append(추가) 하는 것이다. "
   ]
  },
  {
   "cell_type": "code",
   "execution_count": 5,
   "metadata": {},
   "outputs": [
    {
     "data": {
      "text/plain": [
       "[1, 2, 3]"
      ]
     },
     "execution_count": 5,
     "metadata": {},
     "output_type": "execute_result"
    }
   ],
   "source": [
    "my_list = []\n",
    "my_list.append(1)\n",
    "my_list.append(2)\n",
    "my_list.append(3)\n",
    "my_list"
   ]
  },
  {
   "cell_type": "code",
   "execution_count": 7,
   "metadata": {},
   "outputs": [
    {
     "data": {
      "text/plain": [
       "[2, 3]"
      ]
     },
     "execution_count": 7,
     "metadata": {},
     "output_type": "execute_result"
    }
   ],
   "source": [
    "my_list = [1, 2, 3]\n",
    "my_list.remove(1)\n",
    "my_list"
   ]
  },
  {
   "cell_type": "code",
   "execution_count": 9,
   "metadata": {},
   "outputs": [
    {
     "data": {
      "text/plain": [
       "[1.0, 9.8, 1.0]"
      ]
     },
     "execution_count": 9,
     "metadata": {},
     "output_type": "execute_result"
    }
   ],
   "source": [
    "the_scores = [1.0, 1.0, 9.8, 1.0]\n",
    "the_scores.remove(1.0)\n",
    "the_scores"
   ]
  },
  {
   "cell_type": "markdown",
   "metadata": {},
   "source": [
    "리스트 안에 중복되어 있는 값이 있는 경우에는 첫번째 항목을 삭제한다 "
   ]
  },
  {
   "cell_type": "markdown",
   "metadata": {},
   "source": [
    "### 리스트 복사 VS 리스트 변수 복사  "
   ]
  },
  {
   "cell_type": "code",
   "execution_count": 17,
   "metadata": {},
   "outputs": [
    {
     "data": {
      "text/plain": [
       "[2, 5, 10]"
      ]
     },
     "execution_count": 17,
     "metadata": {},
     "output_type": "execute_result"
    }
   ],
   "source": [
    "a_list = [2, 5, 10]\n",
    "b_list = a_list\n",
    "b_list"
   ]
  },
  {
   "cell_type": "markdown",
   "metadata": {},
   "source": [
    "첫번째 줄에서는 = 의 우측에 있는 값으로 리스트가 생성되었지만 두 번째 줄에서는 새로운 리스트가 생성되지 않았다. \n",
    "\n",
    "변수 b_list 는 a_list가 참조하고 있는 객체에 접근할 수 있는 또 다른 별칭이 되며, 둘중 한변수의 값을 변경하면 다른 하나도 함께 변경된다.  "
   ]
  },
  {
   "cell_type": "code",
   "execution_count": 29,
   "metadata": {},
   "outputs": [
    {
     "name": "stdout",
     "output_type": "stream",
     "text": [
      "[2, 5, 10, 100, 200, 1, 100, 200, 1, 100, 200, 1, 100, 200, 1, 100, 200, 1, 100, 200, 1, 100, 200, 1, 100, 200, 1, 100, 200, 1, 100, 200, 1, 100, 200, 1, 100, 200, 1]\n"
     ]
    }
   ],
   "source": [
    "b_list.append(100)\n",
    "a_list.append(200)\n",
    "b_list.append(1)\n",
    "print(b_list)"
   ]
  },
  {
   "cell_type": "code",
   "execution_count": 30,
   "metadata": {},
   "outputs": [
    {
     "data": {
      "text/plain": [
       "[1, 10, 5]"
      ]
     },
     "execution_count": 30,
     "metadata": {},
     "output_type": "execute_result"
    }
   ],
   "source": [
    "my_list = [1, 10, 5]\n",
    "yr_list = my_list[:]\n",
    "yr_list"
   ]
  },
  {
   "cell_type": "markdown",
   "metadata": {},
   "source": [
    "리스트 전체 항목을 별도로 복사하고 싶다면 슬라이싱을 사용한다.  "
   ]
  },
  {
   "cell_type": "markdown",
   "metadata": {},
   "source": [
    "### 인덱스 "
   ]
  },
  {
   "cell_type": "code",
   "execution_count": 31,
   "metadata": {},
   "outputs": [
    {
     "name": "stdout",
     "output_type": "stream",
     "text": [
      "100\n"
     ]
    }
   ],
   "source": [
    "my_list = [100, 500, 1000]\n",
    "print(my_list[0])"
   ]
  },
  {
   "cell_type": "code",
   "execution_count": 32,
   "metadata": {},
   "outputs": [
    {
     "data": {
      "text/plain": [
       "[100, 55, 1000]"
      ]
     },
     "execution_count": 32,
     "metadata": {},
     "output_type": "execute_result"
    }
   ],
   "source": [
    "my_list[1] = 55\n",
    "my_list"
   ]
  },
  {
   "cell_type": "markdown",
   "metadata": {},
   "source": [
    "양수 인덱스.  \n",
    "항목의 갯수가 N개면 인덱스는 0부터 N-1 까지 지정됨."
   ]
  },
  {
   "cell_type": "code",
   "execution_count": 33,
   "metadata": {},
   "outputs": [
    {
     "name": "stdout",
     "output_type": "stream",
     "text": [
      "100\n"
     ]
    }
   ],
   "source": [
    "a_list = [100, 200, 300, 400, 500, 600]\n",
    "print(a_list[0])"
   ]
  },
  {
   "cell_type": "markdown",
   "metadata": {},
   "source": [
    "리스트가 길이에 제약이 없다 하더라도 인덱스 숫자는 절대 범위를 벗어나면 안된다. \n",
    "\n",
    "리스트 내부의 값을 확인하기 위해 print 함수를 여러번 호출하면 속도가 저하된다 "
   ]
  },
  {
   "cell_type": "code",
   "execution_count": 38,
   "metadata": {},
   "outputs": [
    {
     "name": "stdout",
     "output_type": "stream",
     "text": [
      "100\n",
      "200\n",
      "300\n"
     ]
    }
   ],
   "source": [
    "print(a_list[0], a_list[1], a_list[2], sep='\\n')"
   ]
  },
  {
   "cell_type": "markdown",
   "metadata": {},
   "source": [
    "음수 인덱스 "
   ]
  },
  {
   "cell_type": "code",
   "execution_count": 39,
   "metadata": {},
   "outputs": [
    {
     "name": "stdout",
     "output_type": "stream",
     "text": [
      "400\n"
     ]
    }
   ],
   "source": [
    "a_list = [100, 200, 300, 400, 500, 600]\n",
    "print(a_list[-3])"
   ]
  },
  {
   "cell_type": "markdown",
   "metadata": {},
   "source": [
    "enumerate 함수로 인덱스 숫자 생성"
   ]
  },
  {
   "cell_type": "code",
   "execution_count": 40,
   "metadata": {},
   "outputs": [
    {
     "name": "stdout",
     "output_type": "stream",
     "text": [
      "Tom\n",
      "Dick\n",
      "Jane\n"
     ]
    }
   ],
   "source": [
    "a_list = ['Tom', 'Dick', 'Jane']\n",
    "\n",
    "for s in a_list:\n",
    "    print(s)"
   ]
  },
  {
   "cell_type": "code",
   "execution_count": 41,
   "metadata": {},
   "outputs": [
    {
     "name": "stdout",
     "output_type": "stream",
     "text": [
      "Tom\n",
      "Dick\n",
      "Jane\n"
     ]
    }
   ],
   "source": [
    "for i in range(len(a_list)):\n",
    "    print(a_list[i])"
   ]
  },
  {
   "cell_type": "markdown",
   "metadata": {},
   "source": [
    "range 함수를 최대한 사용하지 않는게 파이썬스럽고, 속도도 빠르다 "
   ]
  },
  {
   "cell_type": "markdown",
   "metadata": {},
   "source": [
    "각 항목을 숫자와 함께 출력하고 싶으면 enumerate 함수를 사용하면 된다.  \n",
    "\n",
    "enumerate(이터러블, 시작=0)  \n",
    "인수시작의 디폴트는 0이다 "
   ]
  },
  {
   "cell_type": "code",
   "execution_count": 44,
   "metadata": {},
   "outputs": [
    {
     "data": {
      "text/plain": [
       "[(1, 'Tom'), (2, 'Dick'), (3, 'Jane')]"
      ]
     },
     "execution_count": 44,
     "metadata": {},
     "output_type": "execute_result"
    }
   ],
   "source": [
    "list(enumerate(a_list, 1))"
   ]
  },
  {
   "cell_type": "code",
   "execution_count": 47,
   "metadata": {},
   "outputs": [
    {
     "name": "stdout",
     "output_type": "stream",
     "text": [
      "1. Tom\n",
      "2. Dick\n",
      "3. Jane\n"
     ]
    }
   ],
   "source": [
    "for item_num, name_str in enumerate(a_list, 1):\n",
    "    print(item_num, '. ', name_str, sep='')"
   ]
  },
  {
   "cell_type": "markdown",
   "metadata": {},
   "source": [
    "위 코드는 enumerate 함수를 호출하여 (숫자, 항목) 형식의 튜플을 생성한다.  "
   ]
  },
  {
   "cell_type": "markdown",
   "metadata": {},
   "source": [
    "### 조각으로부터 데이터 가져오기.  \n",
    "\n",
    "슬라이싱 기법을 사용하면 구체적인 범위의 하위 리스트(조각)를 만들 수 있다.  \n",
    "이 하위 리스트의 범위는 빈 리스트부터 기존 리스트 전체 항목을 포함하는 새로운 리스트까지 선택할 수 있다. "
   ]
  },
  {
   "cell_type": "markdown",
   "metadata": {},
   "source": [
    "* list[시작:종료] : '시작'부터 '종료' 앞까지의 리스트 항목들을 포함 \n",
    "* list[:종료] : 리스트 처음부터 '종료' 앞까지의 리스트 항목들을 포함\n",
    "* list[시작:] : '시작'부터 리스트 끝까지의 리스트 항목들을 포함\n",
    "* list[:] : 리스트의 모든 항목을 포함, 전체 리스트의 모든 항목을 복사한다. \n",
    "* list[시작: 종료: 스텝] : '시작'부터 '종료'앞까지의 리스트 항목 중 각 항목의 거리가 1이 아닌 '스텝' 크기의 항목들을 반환, 스텝의 디폴트는 1"
   ]
  },
  {
   "cell_type": "code",
   "execution_count": 48,
   "metadata": {},
   "outputs": [
    {
     "name": "stdout",
     "output_type": "stream",
     "text": [
      "[2, 5] [20, 30]\n"
     ]
    }
   ],
   "source": [
    "a_list = [1, 2, 5, 10, 20, 30]\n",
    "b_list = a_list[1:3]\n",
    "c_list = a_list[4:]\n",
    "print(b_list, c_list)"
   ]
  },
  {
   "cell_type": "code",
   "execution_count": 49,
   "metadata": {},
   "outputs": [
    {
     "name": "stdout",
     "output_type": "stream",
     "text": [
      "[5, 10, 20] [30]\n"
     ]
    }
   ],
   "source": [
    "d_list = a_list[-4:-1]\n",
    "e_list = a_list[-1:]\n",
    "print(d_list, e_list)"
   ]
  },
  {
   "cell_type": "code",
   "execution_count": 50,
   "metadata": {},
   "outputs": [
    {
     "data": {
      "text/plain": [
       "[300, 500]"
      ]
     },
     "execution_count": 50,
     "metadata": {},
     "output_type": "execute_result"
    }
   ],
   "source": [
    "a_list = [100, 200, 300, 400, 500, 600]\n",
    "b_list = a_list[2:5:2]\n",
    "b_list"
   ]
  },
  {
   "cell_type": "code",
   "execution_count": 51,
   "metadata": {},
   "outputs": [
    {
     "data": {
      "text/plain": [
       "[600, 500, 400, 300, 200, 100]"
      ]
     },
     "execution_count": 51,
     "metadata": {},
     "output_type": "execute_result"
    }
   ],
   "source": [
    "rev_list = a_list[::-1]\n",
    "rev_list"
   ]
  },
  {
   "cell_type": "code",
   "execution_count": 52,
   "metadata": {},
   "outputs": [
    {
     "data": {
      "text/plain": [
       "[300, 200, 100]"
      ]
     },
     "execution_count": 52,
     "metadata": {},
     "output_type": "execute_result"
    }
   ],
   "source": [
    "a_list = [100, 200, 300]\n",
    "rev_list = a_list[::-1]\n",
    "rev_list"
   ]
  },
  {
   "cell_type": "markdown",
   "metadata": {},
   "source": [
    "### 조각 안에 값 대입하기.  \n",
    "\n",
    "리스트는 가변 타입이며 항목에 바로 값을 대입할 수 있다. 이 성질은 슬라이싱에도 반영."
   ]
  },
  {
   "cell_type": "code",
   "execution_count": 53,
   "metadata": {},
   "outputs": [
    {
     "data": {
      "text/plain": [
       "[10, 707, 777, 50, 60]"
      ]
     },
     "execution_count": 53,
     "metadata": {},
     "output_type": "execute_result"
    }
   ],
   "source": [
    "my_list = [10, 20, 30, 40, 50, 60]\n",
    "my_list[1:4] = [707, 777]\n",
    "my_list "
   ]
  },
  {
   "cell_type": "code",
   "execution_count": 54,
   "metadata": {},
   "outputs": [
    {
     "data": {
      "text/plain": [
       "[-50, -40, 1, 2, 3, 4]"
      ]
     },
     "execution_count": 54,
     "metadata": {},
     "output_type": "execute_result"
    }
   ],
   "source": [
    "my_list = [1, 2, 3, 4]\n",
    "my_list[0:0] = [-50, -40]\n",
    "my_list"
   ]
  },
  {
   "cell_type": "markdown",
   "metadata": {},
   "source": [
    "슬라이싱 범위의 길이가 0 ([0:0])인 인덱스를 넣을 수 있는데 위처럼 해당 위치에 새로운 값을 삽입함."
   ]
  },
  {
   "cell_type": "markdown",
   "metadata": {},
   "source": [
    "조각 안에 값을 대입할 때는 조건이 있다.  \n",
    "\n",
    "* 조각 안에 리스트를 대입할때, 대입하려고 하는 대상은 항목이 전혀 없거나 하나만 있더라도 반드시 다른 리스트나 컬렉션이어야 한다.  \n",
    "\n",
    "* 조각 안에 리스트를 대입할때, '스텝'이 명시된다면 조각의 범위와 삽입할 데이터의 길이가 반드시 같아야 한다. '스텝'이 명시되지 않았다면 길이가 꼭 같은 필요는 없다. "
   ]
  },
  {
   "cell_type": "markdown",
   "metadata": {},
   "source": [
    "### 리스트 연산자  \n",
    "\n",
    "* 리스트1 + 리스트2 : 이어붙이기(concatenation)가 수행되면서 리스트1과 리스트2가 포함된 새로운 리스트를 생성한다.  \n",
    "\n",
    "* 리스트1 * n or n * 리스트1 : 리스트 1의 항목을 n번 반복한 리스트를 생성한다. \n",
    "가령 [0] * 3은 [0, 0, 0]을 생성한다.  \n",
    "\n",
    "* 리스트1 = 리스트2 : 리스트1에 리스트2가 참조하고 있는 객체를 대입, 결과적으로 리스트1은 리스트2의 별칭이 된다.  \n",
    "\n",
    "* 리스트1 = 리스트2[:] : 리스트1에 리스트2의 항목 간 복사로 생성된 신규 리스트를 대입한다.  \n",
    "* 리스트1 == 리스트2 : 각 항목을 비교하여 리스트1과 리스트2의 내용이 같으면 True를 반환한다.  \n",
    "* 리스트1 != 리스트2 : 리스트1과 리스트2의 내용이 같으면 False를 반환한다. 그렇지 않으면 True를 반환.  \n",
    "\n",
    "* 항목 in 리스트 : 리스트 내에 '항목'이 존재하면 True를 반환한다.  \n",
    "* 항목 not in 리스트 : 리스트 내에 '항목'이 존재하지 않으면 True를 반환한다.  \n",
    "* 리스트1 < 리스트2 : 항목 간 미만 비교를 수행.  \n",
    "* 리스트1 <= 리스트2 : 항목 간 이하 비교를 수행.  \n",
    "* 리스트1 > 리스트2 : 항목간 초과 비교를 수행.  \n",
    "* 리스트1 >= 리스트2 : 항목간 이상 비교를 수행.  \n",
    "* *리스트 : 리스트를 '언팩'하여 나열한 독립적인 각각의 항목들로 대체된다. "
   ]
  },
  {
   "cell_type": "code",
   "execution_count": 58,
   "metadata": {},
   "outputs": [
    {
     "name": "stdout",
     "output_type": "stream",
     "text": [
      "[1, 3, 5, 0, 2]\n",
      "[1, 3, 5, 0, 2]\n",
      "[1, 3, 5, 0, 2]\n"
     ]
    }
   ],
   "source": [
    "a_list = [1, 3, 5, 0, 2]\n",
    "b_list = a_list\n",
    "c_list = a_list[:]\n",
    "\n",
    "print(a_list, b_list, c_list, sep='\\n')"
   ]
  },
  {
   "cell_type": "markdown",
   "metadata": {},
   "source": [
    "위 코드에서 b_list는 a_list 의 별칭일 뿐이다.  \n",
    "하지만 c_list는 데이터의 새로운 복사본을 만들어 a_list가 수정되어도 c_list는 기존 값을 유지한다.  "
   ]
  },
  {
   "cell_type": "code",
   "execution_count": 60,
   "metadata": {},
   "outputs": [
    {
     "data": {
      "text/plain": [
       "[0, 0, 0, 0, 0, 0, 0, 0, 0, 0]"
      ]
     },
     "execution_count": 60,
     "metadata": {},
     "output_type": "execute_result"
    }
   ],
   "source": [
    "big_array = [0] * 10\n",
    "big_array"
   ]
  },
  {
   "cell_type": "markdown",
   "metadata": {},
   "source": [
    "*는 10개의 항목이 모두 0인 리스트를 만들때 가장 편리 "
   ]
  },
  {
   "cell_type": "code",
   "execution_count": 61,
   "metadata": {},
   "outputs": [
    {
     "data": {
      "text/plain": [
       "False"
      ]
     },
     "execution_count": 61,
     "metadata": {},
     "output_type": "execute_result"
    }
   ],
   "source": [
    "a = [1, 2, 3]\n",
    "None in a \n",
    "[] in a"
   ]
  },
  {
   "cell_type": "markdown",
   "metadata": {},
   "source": [
    "빈 리스트 혹은 None 값을 in 연산자와 함께 사용하면 False를 반환 "
   ]
  },
  {
   "cell_type": "code",
   "execution_count": 64,
   "metadata": {},
   "outputs": [
    {
     "data": {
      "text/plain": [
       "True"
      ]
     },
     "execution_count": 64,
     "metadata": {},
     "output_type": "execute_result"
    }
   ],
   "source": [
    "b = [1, 2, 3, [], None]\n",
    "None in b\n",
    "[] in b"
   ]
  },
  {
   "cell_type": "markdown",
   "metadata": {},
   "source": [
    "### 얕은 복사 VS 깊은 복사 "
   ]
  },
  {
   "cell_type": "code",
   "execution_count": 69,
   "metadata": {},
   "outputs": [
    {
     "name": "stdout",
     "output_type": "stream",
     "text": [
      "[1, 2, [5, 10]]\n",
      "[1, 2, [5, 10]]\n"
     ]
    }
   ],
   "source": [
    "a_list = [1, 2, [5, 10]]\n",
    "b_list = a_list[:]\n",
    "print(a_list, b_list, sep='\\n')"
   ]
  },
  {
   "cell_type": "markdown",
   "metadata": {},
   "source": [
    "위으 코드는 '얕은 복사'로 b_list 변경사항이 a_list에 영향을 미치지 않을것이라고 기대한다.  "
   ]
  },
  {
   "cell_type": "code",
   "execution_count": 73,
   "metadata": {},
   "outputs": [
    {
     "name": "stdout",
     "output_type": "stream",
     "text": [
      "[1, 2, [0, 0]]\n",
      "[0, 0, [0, 0]]\n"
     ]
    }
   ],
   "source": [
    "b_list[0] = 0\n",
    "b_list[1] = 0\n",
    "b_list[2][0] = 0\n",
    "b_list[2][1] = 0\n",
    "print(a_list, b_list, sep='\\n')"
   ]
  },
  {
   "cell_type": "markdown",
   "metadata": {},
   "source": [
    "b_list 값을 변경한 것이 a_list에는 반영되지 않을 것이라고 기대했다.  \n",
    "하지만 a_list의 마지막 항목도 같이 바뀌었다 "
   ]
  },
  {
   "cell_type": "markdown",
   "metadata": {},
   "source": [
    "깊은 복사는 1, 2를 복사하고 내부 리스트의 참조를 복사한 것이다.  \n",
    "결과적으로 b_list의 변경 사항은 항목을 컬렉션으로 갖는 a_list에 영향을 미치게 된다.  \n",
    "\n",
    "우린 항목 간 복사를 시도했지만, 리스트가 품고 있는 리스트는 참조였기 때문에 a_list, b_list 내부의 두 리스트는 결국 하나의 리스트를 참조하게 되는 것이다. "
   ]
  },
  {
   "cell_type": "code",
   "execution_count": 74,
   "metadata": {},
   "outputs": [
    {
     "data": {
      "text/plain": [
       "[1, 2, [5, 10]]"
      ]
     },
     "execution_count": 74,
     "metadata": {},
     "output_type": "execute_result"
    }
   ],
   "source": [
    "import copy\n",
    "\n",
    "a_list = [1, 2, [5, 10]]\n",
    "b_list = copy.deepcopy(a_list)\n",
    "b_list"
   ]
  },
  {
   "cell_type": "markdown",
   "metadata": {},
   "source": [
    "'깊은 복사'를 하려면 copy 패키지를 탑재 후 copy.deepcopy 함수를 사용하면 된다.  "
   ]
  },
  {
   "cell_type": "markdown",
   "metadata": {},
   "source": [
    "### 리스트 함수  \n",
    "\n",
    "* len(컬렉션) : 컬렉션 길이 반환 \n",
    "* max(컬렉션) : 최댓값을 가진 항목 반환\n",
    "* min(컬렉션) : 최솟값을 가진 항목 반환 \n",
    "* reversed(컬렉션) : 역순으로 정렬된 이터레이터 반환 \n",
    "* sorted(컬렉션) : 정렬된 리스트 생성\n",
    "* sum(컬렉션) : 모든 항목을 더한 값 반환, 항목들은 무조건 숫자이어야 함  "
   ]
  },
  {
   "cell_type": "code",
   "execution_count": 75,
   "metadata": {},
   "outputs": [],
   "source": [
    "for i in range(len(a_list)):\n",
    "    a_list[i] *= 2"
   ]
  },
  {
   "cell_type": "markdown",
   "metadata": {},
   "source": [
    "위 코드는 리스트 항목의 값을 2배로 만든다.  "
   ]
  },
  {
   "cell_type": "code",
   "execution_count": 76,
   "metadata": {},
   "outputs": [
    {
     "name": "stdout",
     "output_type": "stream",
     "text": [
      "Length of the list is 4\n",
      "Max and min are 120 -5\n"
     ]
    }
   ],
   "source": [
    "a_list = [100, -3, -5, 120]\n",
    "print('Length of the list is', len(a_list))\n",
    "print('Max and min are', max(a_list), min(a_list))"
   ]
  },
  {
   "cell_type": "markdown",
   "metadata": {},
   "source": [
    "max, min 함수는 리스트에만 사용할 수 있으며 모두 숫자 항목이거나 문자열 항목이어야 한다.  \n",
    "문자열인 경우에는 알파벳 순서(혹은 문자 코드 순서)로 항목을 비교한다.  "
   ]
  },
  {
   "cell_type": "code",
   "execution_count": 77,
   "metadata": {},
   "outputs": [
    {
     "name": "stdout",
     "output_type": "stream",
     "text": [
      "[15, 30, 45, 55]\n"
     ]
    }
   ],
   "source": [
    "a_tup = (30, 55, 15, 45)\n",
    "print(sorted(a_tup))"
   ]
  },
  {
   "cell_type": "code",
   "execution_count": 79,
   "metadata": {},
   "outputs": [
    {
     "name": "stdout",
     "output_type": "stream",
     "text": [
      "0 5 3 1 "
     ]
    }
   ],
   "source": [
    "a_tup = (1, 3, 5, 0)\n",
    "for i in reversed(a_tup):\n",
    "    print(i, end=' ')"
   ]
  },
  {
   "cell_type": "markdown",
   "metadata": {},
   "source": [
    "reversed 함수는 컬렉션 대신 이터러블을 반환한다.  \n",
    "간단하게 말하자면 반환된 이터러블을 for 루프를 사용하여 리스트나 튜플로 변환해야 사용할 수 있다.  "
   ]
  },
  {
   "cell_type": "code",
   "execution_count": 82,
   "metadata": {},
   "outputs": [
    {
     "name": "stdout",
     "output_type": "stream",
     "text": [
      "(0, 5, 3, 1)\n"
     ]
    }
   ],
   "source": [
    "print(tuple(reversed(a_tup)))"
   ]
  },
  {
   "cell_type": "code",
   "execution_count": 84,
   "metadata": {},
   "outputs": [
    {
     "name": "stdout",
     "output_type": "stream",
     "text": [
      "The average is  26.56857142857143\n"
     ]
    }
   ],
   "source": [
    "num_list = [2.45, 1, -10, 55.5, 100.03, 40, -3]\n",
    "print('The average is ', sum(num_list) / len(num_list))"
   ]
  },
  {
   "cell_type": "markdown",
   "metadata": {},
   "source": [
    "sum 함수는 int, float같은 숫자 타입만 사용 가능 "
   ]
  },
  {
   "cell_type": "markdown",
   "metadata": {},
   "source": [
    "### 리스트 메서드: 리스트 수정하기  \n",
    "\n",
    "* 리스트.append(값)  : 항목 추가 (리스트의 끝에)\n",
    "* 리스트.clear()  : 모든 항목 제거 \n",
    "* 리스트.extend(이터러블) : 하위 리스트 추가 (리스트의 끝에)\n",
    "* 리스트.insert(인덱스, 값) : 인덱스 위치에 값 삽입\n",
    "* 리스트.remove(값)  : 값의 첫 인스턴스 제거 "
   ]
  },
  {
   "cell_type": "code",
   "execution_count": 86,
   "metadata": {},
   "outputs": [
    {
     "data": {
      "text/plain": [
       "[1, 2, 3, 4, 4, 4, 5, 6]"
      ]
     },
     "execution_count": 86,
     "metadata": {},
     "output_type": "execute_result"
    }
   ],
   "source": [
    "a_list = [1, 2, 3]\n",
    "a_list.append(4)\n",
    "a_list.extend([4])\n",
    "a_list.extend([4, 5, 6])\n",
    "a_list"
   ]
  },
  {
   "cell_type": "markdown",
   "metadata": {},
   "source": [
    "append 메서드 : 한개의 항목을 추가  \n",
    "extend 메서드 : 컬렉션이나 이터러블의 여러 항목을 추가 "
   ]
  },
  {
   "cell_type": "code",
   "execution_count": 87,
   "metadata": {},
   "outputs": [
    {
     "name": "stdout",
     "output_type": "stream",
     "text": [
      "[10, 20, 30, 40]\n",
      "[10, 20, 30, 40, 33]\n",
      "[44, 10, 20, 30, 40, 33]\n"
     ]
    }
   ],
   "source": [
    "a_list = [10, 20, 40]\n",
    "a_list.insert(2, 30)\n",
    "print(a_list)\n",
    "a_list.insert(100, 33)\n",
    "print(a_list)\n",
    "a_list.insert(-100, 44)\n",
    "print(a_list)"
   ]
  },
  {
   "cell_type": "markdown",
   "metadata": {},
   "source": [
    "insert 메서드는 해당 인덱스의 위치한 값 바로 앞에 값을 집어 넣는다.  \n",
    "주어진 인덱스가 리스트의 끝 인덱스보다 크면 리스트 끝에 값을 추가하고, 리스트 시작 인덱스보다 작으면 리스트 맨 앞에 값을 추가한다.   "
   ]
  },
  {
   "cell_type": "code",
   "execution_count": 90,
   "metadata": {},
   "outputs": [
    {
     "data": {
      "text/plain": [
       "[15, 15, 25]"
      ]
     },
     "execution_count": 90,
     "metadata": {},
     "output_type": "execute_result"
    }
   ],
   "source": [
    "my_list = [15, 25, 15, 25]\n",
    "my_list.remove(25)\n",
    "my_list"
   ]
  },
  {
   "cell_type": "markdown",
   "metadata": {},
   "source": [
    "remove 메서드는 인수로 주어진 값과 동일한 항목을 발견하는 즉시 해당 항목을 제거함"
   ]
  },
  {
   "cell_type": "code",
   "execution_count": 92,
   "metadata": {},
   "outputs": [
    {
     "name": "stdout",
     "output_type": "stream",
     "text": [
      "8.675\n"
     ]
    }
   ],
   "source": [
    "def eval_scores(a_list):\n",
    "    a_list.remove(max(a_list))\n",
    "    a_list.remove(min(a_list))\n",
    "    return sum(a_list) / len(a_list)\n",
    "\n",
    "the_scores = [8.5, 6.0, 8.5, 8.7, 9.9, 9.0]\n",
    "print(eval_scores(the_scores))"
   ]
  },
  {
   "cell_type": "markdown",
   "metadata": {},
   "source": [
    "### 리스트 메서드: 내용 정보 가져오기  \n",
    "\n",
    "* 리스트.count(값) : 인스턴스 갯수 반환\n",
    "* 리스트.index(값[, 시작 [, 종료]]) : 값의 인덱스 반환 \n",
    "* 리스트.pop([인덱스]) : 인덱스의 값 반환 및 제거; 인덱스 기본값은 마지막 인덱스 "
   ]
  },
  {
   "cell_type": "markdown",
   "metadata": {},
   "source": [
    "count, index는 기존 리스트의 값을 변경하지 않으며, 튜플에서도 사용할 수 있다.  \n",
    "count 메서드는 구체적인 항목 개수를 반환한다. 항목 중에 컬렉션이 있다고 해도 가장 높은 레벨의 항목만 센다.  "
   ]
  },
  {
   "cell_type": "code",
   "execution_count": 93,
   "metadata": {},
   "outputs": [
    {
     "name": "stdout",
     "output_type": "stream",
     "text": [
      "3\n",
      "1\n",
      "0\n",
      "1\n"
     ]
    }
   ],
   "source": [
    "yr_list = [1, 2, 1, 1, [3, 4]]\n",
    "print(yr_list.count(1))\n",
    "print(yr_list.count(2))\n",
    "print(yr_list.count(3))\n",
    "print(yr_list.count([3, 4]))"
   ]
  },
  {
   "cell_type": "code",
   "execution_count": 96,
   "metadata": {},
   "outputs": [
    {
     "name": "stdout",
     "output_type": "stream",
     "text": [
      "3\n"
     ]
    }
   ],
   "source": [
    "beat_list = ['John', 'Paul', 'George', 'Ringo', 'Ringo']\n",
    "print(beat_list.index('Ringo'))"
   ]
  },
  {
   "cell_type": "markdown",
   "metadata": {},
   "source": [
    "index 메서드는 특정 값이 처음으로 나타나는 항목의 인덱스를 반환한다.  "
   ]
  },
  {
   "cell_type": "markdown",
   "metadata": {},
   "source": [
    "### 리스트 메서드: 재편성하기  \n",
    "\n",
    "* 리스트.sort([ky=None] [, reversed=False])\n",
    "* 리스트.reversed()  \n",
    "\n",
    "각 메서드는 저장되어 있는 모든 항목의 순서를 변경한다. 파이썬 3.0에서 두 메서드를 사용하려면 리스트 모든 항목을 서로 비교할 수 있어야 한다. (전부 문자열이거나 전부 숫자)"
   ]
  },
  {
   "cell_type": "markdown",
   "metadata": {},
   "source": [
    "sort 메서드는 기본적으로 가장 낮은 값부터 가장 큰값 순서대로 모든 항목을 정렬한다.  \n",
    "reverse 인수를 Ture로 설정하면 높은 값에서 낮은 값 순서로 항목을 정렬(문자열이면 알파벳 순서로 정렬)"
   ]
  },
  {
   "cell_type": "code",
   "execution_count": 99,
   "metadata": {},
   "outputs": [
    {
     "name": "stdout",
     "output_type": "stream",
     "text": [
      "Here is the sorted list: \n",
      "vanpersie hwang-gyuhan "
     ]
    }
   ],
   "source": [
    "def main():\n",
    "    my_list = []\n",
    "    while True:\n",
    "        s = input('Enter next name: ')\n",
    "        if len(s) == 0:\n",
    "            break\n",
    "        my_list.append(s)\n",
    "        \n",
    "    my_list.sort(reverse=True)\n",
    "    print('Here is the sorted list: ')\n",
    "    for a_word in my_list:\n",
    "        print(a_word, end=' ')\n",
    "        \n",
    "main()"
   ]
  },
  {
   "cell_type": "markdown",
   "metadata": {},
   "source": [
    "sort 메서드는 선택적으로 입력할 수 있는 인수가 있다. 첫번째 인수는 key 인수로, 디폴트는 None.  \n",
    "이 인수에는 특이하게도 함수(callable)를 넣을 수 있는데, 이 함수는 각 값을 인수로 하여 연산 처리를 한 후 값을 반환한다. 이렇게 반환된 각 값이 정렬에서 사용하는 기준이 되며 이를, key로 부르게 된다.  "
   ]
  },
  {
   "cell_type": "code",
   "execution_count": 105,
   "metadata": {},
   "outputs": [
    {
     "name": "stdout",
     "output_type": "stream",
     "text": [
      "['George', 'Ringo', 'brain', 'john', 'paul']\n",
      "['brain', 'George', 'john', 'paul', 'Ringo']\n"
     ]
    }
   ],
   "source": [
    "def ignore_case(s):\n",
    "    return s.casefold()\n",
    "\n",
    "a_list = ['john', 'paul', 'George', 'brain', 'Ringo']\n",
    "b_list = a_list[:]\n",
    "a_list.sort()\n",
    "b_list.sort(key=ignore_case)\n",
    "print(a_list, b_list, sep='\\n')"
   ]
  },
  {
   "cell_type": "markdown",
   "metadata": {},
   "source": [
    "대,소문자를 구분하지 않고 정렬하려면 casefold 메서드를 사용하여 값을 변경"
   ]
  },
  {
   "cell_type": "code",
   "execution_count": 107,
   "metadata": {},
   "outputs": [
    {
     "name": "stdout",
     "output_type": "stream",
     "text": [
      "Ringo George Paul John Brain "
     ]
    }
   ],
   "source": [
    "my_list = ['Brain', 'John', 'Paul', 'George', 'Ringo']\n",
    "my_list.reverse()\n",
    "\n",
    "for a_word in my_list:\n",
    "    print(a_word, end=' ')"
   ]
  },
  {
   "cell_type": "markdown",
   "metadata": {},
   "source": [
    "reverse 함수를 사용하면 전체 순서가 뒤집어짐"
   ]
  },
  {
   "cell_type": "markdown",
   "metadata": {},
   "source": [
    "### 스택 역할을 하는 리스트: RPN 애플리케이션  \n",
    "\n",
    "append와 pop 메서드는 스택 메커니즘인 후입선출(LIFO) 장치로 활용할 수 있다"
   ]
  },
  {
   "cell_type": "markdown",
   "metadata": {},
   "source": [
    "* 스택 장치의 가장 유용한 데모는 후위표기법(RPN) 언어를 번역하는 프로그램이다.  \n",
    "* 후위 표기법 언어는 연산자를 피연산자들 뒤에 위치시키는 언어로, 언어 대부분은 중위 표기법을 따른다.  \n",
    "* 후위 표기법에서는 피연산자들이 먼저 나타나고, 연산자가 뒤를 잇는다. "
   ]
  },
  {
   "cell_type": "markdown",
   "metadata": {},
   "source": [
    "예를 들어 7과 3을 더한다고 하면 숫자가 먼저 나타나고 덧셈 기호(+)를 나중에 적는다  \n",
    "7 3 +  \n",
    "이 표기는 7과 3을 더한 10을 반환하며, 10에 5를 곱해서 50을 만들고 싶다면 밑과 같이 표현한다  \n",
    "10 5 *  \n",
    "이렇게 표현한 2개의 식을 하나로 합치면 괄호 기호 없이도 깔끔하고 명확한 방법의 연산식을 표현할 수 있다  \n",
    "10 5 * 7 3 + /  \n",
    "이 연산식은 다음 표준 표기법과 같은 식이며, 5.0을 반환한다  \n",
    "(10 * 5) / (7 + 3)  \n",
    "\n",
    "\n"
   ]
  },
  {
   "cell_type": "markdown",
   "metadata": {},
   "source": [
    "다른 예시로는 \n",
    "*  1 2 / 3 4 / + \n",
    "이 식은 (1/2) + (3/4) 로 변환되며 계산 결과는 1.25이다  \n",
    "\n",
    "* 2 4 2 3 7 + + + *\n",
    "이 식은 2 * (4 + (2 + (3 + 7)))로 변환되며 계산 결과는 32이다  \n",
    "\n",
    "후위 표기법의 아름다움은 괄호 기호가 필요 없다는 데 있으며, 가장 큰 장점은 몇개의 규칙만 지키면 된다  \n",
    "\n",
    "* 다음 항목이 숫자면 스택에 넣는다 \n",
    "* 다음 항목이 연산자면 스택 위에서 2개의 항목을 추출한 후 연산자를 반영하여 계산한 값을 다시 스택에 넣는다."
   ]
  },
  {
   "cell_type": "markdown",
   "metadata": {},
   "source": [
    "### reduce 함수  \n",
    "리스트의 모든 항목을 한번에 처리할 수 있는 map, filter 리스트 메서드 사용 가능 \n",
    "\n",
    "* map 메서드는 주어진 리스트의 전체 항목을 변환한 신규 리스트를 생성 \n",
    "* filter 메서드는 구체적인 조건에 만족하는 항목들로 구성된 신규 리스트를 생성"
   ]
  },
  {
   "cell_type": "markdown",
   "metadata": {},
   "source": [
    "functools.reduce 함수를 사용하여 리스트 전체 항목을 처리할 함수를 적용하면 된다  \n",
    "\n",
    "functools.reduce(함수, 리스트)  \n",
    "reduce 함수는 인수로 주어진 '함수'를 리스트 내에 짝을 이루고 있는 이웃 항목에 적용하여 연산 처리를 하고, 결과를 누적하여 다시 인수로 넘기는 과정을 반복하며, 최종적으로 전체 항목을 처리한 결과를 반환함.  \n",
    "\n",
    "인스로 넣어서 호출된 '함수'는 반드시 2개의 인수를 가져야 하며, 결괏값을 반환해야 한다.  "
   ]
  },
  {
   "cell_type": "markdown",
   "metadata": {},
   "source": [
    "'리스트'가 최소 4개의 항목을 가지고 있다고 가정하면 다음과 같이 동작한다  \n",
    "\n",
    "* 첫 2개의 항목을 '함수'의 인수로 넣고, 결괏값을 기억한다 \n",
    "* 위 결과와 세 번째 항목을 '함수'의 인수로 넣어서 처리된 결과를 기억한다. \n",
    "* 위 결과와 네 번째 항목을 인수로 넣어서 처리된 결과를 기억한다. \n",
    "* 계속 이 방식대로 값을 처리한다. "
   ]
  },
  {
   "cell_type": "code",
   "execution_count": 115,
   "metadata": {},
   "outputs": [
    {
     "name": "stdout",
     "output_type": "stream",
     "text": [
      "15\n",
      "120\n"
     ]
    }
   ],
   "source": [
    "import functools \n",
    "\n",
    "def add_func(a, b):\n",
    "    return a + b\n",
    "\n",
    "def mul_func(a, b):\n",
    "    return a * b\n",
    "\n",
    "n = 5\n",
    "a_list = list(range(1, n+1))\n",
    "\n",
    "triangle_num = functools.reduce(add_func, a_list)\n",
    "fact_num = functools.reduce(mul_func, a_list)\n",
    "\n",
    "print(triangle_num, fact_num, sep='\\n')"
   ]
  },
  {
   "cell_type": "markdown",
   "metadata": {},
   "source": [
    "### 람다 함수 \n",
    "\n",
    "단순한 1회용 함수를 만들때 사용하는 것이 람다 함수 이며, 람다 함수는 변수에 대입하지 않는 이상 이름이 존재하지 않고, 일반적으로 한 번만 사용하기 위해 만들어진다 "
   ]
  },
  {
   "cell_type": "markdown",
   "metadata": {},
   "source": [
    "이 문법에서 '인수들'은 없거나 함수 인수로 사용될 변수 이름이며, 1개 이상일때는 콤마로 분리한다 "
   ]
  },
  {
   "cell_type": "code",
   "execution_count": 117,
   "metadata": {},
   "outputs": [
    {
     "name": "stdout",
     "output_type": "stream",
     "text": [
      "10\n",
      "25\n"
     ]
    }
   ],
   "source": [
    "my_f = lambda x, y: x + y\n",
    "\n",
    "sum1 = my_f(3, 7)\n",
    "sum2 = my_f(10, 15)\n",
    "print(sum1, sum2, sep='\\n')"
   ]
  },
  {
   "cell_type": "markdown",
   "metadata": {},
   "source": [
    "위 코드의 실행 결과는 저장되거나 직접 사용할 수 없는 callable 이 된다  \n",
    "하지만 이 방식은 람다가 일반적으로 사용되는 것과 다르며 보통 reduce 함수와 같이 사용된다 "
   ]
  },
  {
   "cell_type": "code",
   "execution_count": 118,
   "metadata": {},
   "outputs": [
    {
     "name": "stdout",
     "output_type": "stream",
     "text": [
      "15\n",
      "120\n"
     ]
    }
   ],
   "source": [
    "t5 = functools.reduce(lambda x, y: x + y, [1, 2, 3, 4, 5])\n",
    "f5 = functools.reduce(lambda x, y: x * y, [1, 2, 3, 4, 5])\n",
    "print(t5, f5, sep='\\n')"
   ]
  },
  {
   "cell_type": "markdown",
   "metadata": {},
   "source": [
    "### 리스트 함축  \n",
    "리스트에서 열거식의 값을 생성하는 코드를 좀 더 간결하게 만들어준다. 딕셔너리, 세트와 다른 컬렉션에서도 사용가능하다  \n",
    "리스트 함축이 하는 일을 가장 간단하게 표현하면 모든 항목을 대상으로 항목 간 복사를 수행하는 것이다 "
   ]
  },
  {
   "cell_type": "code",
   "execution_count": 119,
   "metadata": {},
   "outputs": [],
   "source": [
    "b_list = a_list[:]"
   ]
  },
  {
   "cell_type": "markdown",
   "metadata": {},
   "source": [
    "위 코드는 슬라이싱으로 리스트 복사본을 만든 것이다 "
   ]
  },
  {
   "cell_type": "code",
   "execution_count": 124,
   "metadata": {},
   "outputs": [],
   "source": [
    "b_list = []\n",
    "\n",
    "for i in a_list:\n",
    "    b_list.append(i)\n",
    "    "
   ]
  },
  {
   "cell_type": "markdown",
   "metadata": {},
   "source": [
    "위 코드 또한 항목 간 복사의 또 다른 방법을 보여준다 "
   ]
  },
  {
   "cell_type": "code",
   "execution_count": 126,
   "metadata": {},
   "outputs": [
    {
     "data": {
      "text/plain": [
       "[1, 4, 9]"
      ]
     },
     "execution_count": 126,
     "metadata": {},
     "output_type": "execute_result"
    }
   ],
   "source": [
    "b_list = []\n",
    "\n",
    "for i in a_list:\n",
    "    b_list.append(i * i)\n",
    "    \n",
    "b_list"
   ]
  },
  {
   "cell_type": "code",
   "execution_count": 127,
   "metadata": {},
   "outputs": [
    {
     "data": {
      "text/plain": [
       "[1, 4, 9]"
      ]
     },
     "execution_count": 127,
     "metadata": {},
     "output_type": "execute_result"
    }
   ],
   "source": [
    "b_list = [i * i for i in a_list]\n",
    "b_list"
   ]
  },
  {
   "cell_type": "markdown",
   "metadata": {},
   "source": [
    "위의 두 코드는 같은 동작을 하지만 밑의 코드가 리스트-함축 표현식이다 "
   ]
  },
  {
   "cell_type": "markdown",
   "metadata": {},
   "source": [
    "문법적으로 리스트 함축은 값 표현식과 바로 뒤에서 열거형 데이터를 제공하는 for 문 표현식이 붙어서 리스트를 생성하는 방법을 말한다.  \n",
    "리스트-함축 표현식을 for 문 표현식을 사용할 때 콜론(:) 을 사용하지 않는다.  \n",
    "\n",
    "[값 for_문_표현식]"
   ]
  },
  {
   "cell_type": "code",
   "execution_count": 128,
   "metadata": {},
   "outputs": [
    {
     "data": {
      "text/plain": [
       "[0, 0, 0, 0, 1, 2, 0, 2, 4]"
      ]
     },
     "execution_count": 128,
     "metadata": {},
     "output_type": "execute_result"
    }
   ],
   "source": [
    "mult_list = []\n",
    "for i in range(3):\n",
    "    for j in range(3):\n",
    "        mult_list.append(i * j)\n",
    "\n",
    "mult_list"
   ]
  },
  {
   "cell_type": "code",
   "execution_count": 130,
   "metadata": {},
   "outputs": [
    {
     "data": {
      "text/plain": [
       "[0, 0, 0, 0, 1, 2, 0, 2, 4]"
      ]
     },
     "execution_count": 130,
     "metadata": {},
     "output_type": "execute_result"
    }
   ],
   "source": [
    "mult_list = [i * j for i in range(3) for j in range(3)]\n",
    "mult_list"
   ]
  },
  {
   "cell_type": "markdown",
   "metadata": {},
   "source": [
    "위의 두 코드는 같은 동작을 하지만 밑의 코드가 리스트-함축 표현식이다 "
   ]
  },
  {
   "cell_type": "code",
   "execution_count": 131,
   "metadata": {},
   "outputs": [
    {
     "data": {
      "text/plain": [
       "[10, 12, 13, 15]"
      ]
     },
     "execution_count": 131,
     "metadata": {},
     "output_type": "execute_result"
    }
   ],
   "source": [
    "my_list = [10, -10, -1, 12, -500, 13, 15, -3]\n",
    "\n",
    "new_list = []\n",
    "for i in my_list:\n",
    "    if i > 0:\n",
    "        new_list.append(i)\n",
    "\n",
    "new_list"
   ]
  },
  {
   "cell_type": "code",
   "execution_count": 134,
   "metadata": {},
   "outputs": [
    {
     "data": {
      "text/plain": [
       "[10, 12, 13, 15]"
      ]
     },
     "execution_count": 134,
     "metadata": {},
     "output_type": "execute_result"
    }
   ],
   "source": [
    "new_list = [i for i in my_list if i > 0 ]\n",
    "new_list"
   ]
  },
  {
   "cell_type": "markdown",
   "metadata": {},
   "source": [
    "위의 두 코드도 같은 동작을 하지만 밑의 코드가 리스트-함축 표현식이다 "
   ]
  },
  {
   "cell_type": "markdown",
   "metadata": {},
   "source": [
    "### 딕셔너리와 세트의 함축  \n",
    "\n",
    "리스트 함축 원칙은 세트와 딕셔너리까지 확장된다. 세트는 데이터의 중복을 허용하지 않고 순서가 보장 되지 않는 단순한 컬렉션이기 때문에 함축 원칙을 확인하기가 무척쉽다 "
   ]
  },
  {
   "cell_type": "code",
   "execution_count": 137,
   "metadata": {},
   "outputs": [
    {
     "data": {
      "text/plain": [
       "{2, 5}"
      ]
     },
     "execution_count": 137,
     "metadata": {},
     "output_type": "execute_result"
    }
   ],
   "source": [
    "a_list = [5, 5, 5, -20, 2, -1, 2]\n",
    "my_set = set()\n",
    "\n",
    "for i in a_list:\n",
    "    if i > 0:\n",
    "        my_set.add(i)\n",
    "\n",
    "my_set"
   ]
  },
  {
   "cell_type": "code",
   "execution_count": 139,
   "metadata": {},
   "outputs": [
    {
     "data": {
      "text/plain": [
       "{2, 5}"
      ]
     },
     "execution_count": 139,
     "metadata": {},
     "output_type": "execute_result"
    }
   ],
   "source": [
    "my_set = {i for i in a_list if i > 0}\n",
    "my_set"
   ]
  },
  {
   "cell_type": "markdown",
   "metadata": {},
   "source": [
    "위의 두 코드 모두 세트{2, 5}를 만들고 중복된 값은 제거한다. 밑의 코드가 리스트-함축 표현식이다 "
   ]
  },
  {
   "cell_type": "code",
   "execution_count": 143,
   "metadata": {},
   "outputs": [
    {
     "data": {
      "text/plain": [
       "3.14"
      ]
     },
     "execution_count": 143,
     "metadata": {},
     "output_type": "execute_result"
    }
   ],
   "source": [
    "vals_list = [ ('pi', 3.14), ('phi', 1.618) ]\n",
    "my_dict = { i[0]: i[1] for i in vals_list }\n",
    "my_dict['pi']"
   ]
  },
  {
   "cell_type": "markdown",
   "metadata": {},
   "source": [
    "딕셔너리 함축은 조금더 복잡한데 루프를 순회할 때 키-값의 쌍을 생성해야하기 때문이다."
   ]
  },
  {
   "cell_type": "code",
   "execution_count": 145,
   "metadata": {},
   "outputs": [
    {
     "data": {
      "text/plain": [
       "{'Bob': 4.0, 'Carol': 4.0, 'Ted': 3.75, 'Alice': 3.9}"
      ]
     },
     "execution_count": 145,
     "metadata": {},
     "output_type": "execute_result"
    }
   ],
   "source": [
    "keys = ['Bob', 'Carol', 'Ted', 'Alice']\n",
    "vals = [4.0, 4.0, 3.75, 3.9]\n",
    "grade_dict = {keys[i]: vals[i] for i in range(len(keys))}\n",
    "grade_dict"
   ]
  },
  {
   "cell_type": "code",
   "execution_count": 146,
   "metadata": {},
   "outputs": [
    {
     "data": {
      "text/plain": [
       "{'Bob': 4.0, 'Carol': 4.0, 'Ted': 3.75, 'Alice': 3.9}"
      ]
     },
     "execution_count": 146,
     "metadata": {},
     "output_type": "execute_result"
    }
   ],
   "source": [
    "grade_dict = {key: val for key, val in zip(keys, vals)}\n",
    "grade_dict"
   ]
  },
  {
   "cell_type": "markdown",
   "metadata": {},
   "source": [
    "위 예시에서 마지막 코드와 같이 파이썬 내장함수인 zip 함수를 사용하면 더 함축 할 수 있다 "
   ]
  },
  {
   "cell_type": "markdown",
   "metadata": {},
   "source": [
    "### 리스트를 통한 인수 전달하기  \n",
    "\n",
    "파이썬 인수는 함수가 호출되는 순간의 인수 이름과 값이 연결된 데이터-딕셔너리 엔트리로 전달된다  \n",
    "코드 동작 측면에서 말하자면 인수로 주어진 변수를 함수 안에서 수정할 수 없다는 의미이다  "
   ]
  },
  {
   "cell_type": "code",
   "execution_count": 147,
   "metadata": {},
   "outputs": [
    {
     "data": {
      "text/plain": [
       "[100, 200, 150]"
      ]
     },
     "execution_count": 147,
     "metadata": {},
     "output_type": "execute_result"
    }
   ],
   "source": [
    "def set_list_vals(list_arg):\n",
    "    list_arg[0] = 100\n",
    "    list_arg[1] = 200\n",
    "    list_arg[2] = 150\n",
    "    \n",
    "a_list = [0, 0, 0]\n",
    "set_list_vals(a_list)\n",
    "a_list"
   ]
  },
  {
   "cell_type": "markdown",
   "metadata": {},
   "source": [
    "위 코드는 리스트 값 자체가 변경되기 때문에 신규 리스트를 생성하여 변수에 대입하지 않아도 기대한 대로 동작"
   ]
  },
  {
   "cell_type": "code",
   "execution_count": 148,
   "metadata": {},
   "outputs": [
    {
     "data": {
      "text/plain": [
       "[0, 0, 0]"
      ]
     },
     "execution_count": 148,
     "metadata": {},
     "output_type": "execute_result"
    }
   ],
   "source": [
    "def set_list_vals(list_arg):\n",
    "    list_arg = [100, 200, 150]\n",
    "    \n",
    "a_list = [0, 0, 0]\n",
    "set_list_vals(a_list)\n",
    "a_list"
   ]
  },
  {
   "cell_type": "markdown",
   "metadata": {},
   "source": [
    "위 코드는 전달된 리스트 인수인 list_arg 가 완전히 새로운 리스트로 재대입 되었기 때문에 변수 list_arg와 기존 데이터[0, 0, 0]의 관계는 끊어져 전달한 리스트를 변경할 수 없다 "
   ]
  },
  {
   "cell_type": "markdown",
   "metadata": {},
   "source": [
    "### 다차원 리스트 "
   ]
  },
  {
   "cell_type": "code",
   "execution_count": 151,
   "metadata": {},
   "outputs": [
    {
     "data": {
      "text/plain": [
       "[[1, 2, 3], 'John', 'George']"
      ]
     },
     "execution_count": 151,
     "metadata": {},
     "output_type": "execute_result"
    }
   ],
   "source": [
    "weird_list = [ [1, 2, 3], 'John', 'George' ]\n",
    "weird_list"
   ]
  },
  {
   "cell_type": "markdown",
   "metadata": {},
   "source": [
    "위 코드와 같이 리스트 항목은 리스트가 될 수도 있다 "
   ]
  },
  {
   "cell_type": "code",
   "execution_count": 150,
   "metadata": {},
   "outputs": [
    {
     "data": {
      "text/plain": [
       "[[10, 11, 21], [20, 21, 22], [25, 15, 15]]"
      ]
     },
     "execution_count": 150,
     "metadata": {},
     "output_type": "execute_result"
    }
   ],
   "source": [
    "mat = [[10, 11, 21], [20, 21, 22], [25, 15, 15]]\n",
    "mat"
   ]
  },
  {
   "cell_type": "markdown",
   "metadata": {},
   "source": [
    "하지만 더욱 일반적인 사용처는 위와 같이 다차원 리스트 혹은 행렬이다   \n",
    "이 2차원 리스트의 한 항목을 인덱스로 추출하려면 다음 방법을 따라야 한다  \n",
    "리스트_이름[행_인덱스][열_인덱스]"
   ]
  },
  {
   "cell_type": "markdown",
   "metadata": {},
   "source": [
    "일반적으로 파이썬 인덱스는 N이 차원의 깊이라고 했을 때 0부터 N-1까지 매겨진다.  \n",
    "물론 음수 인덱스도 사용할 수 있는데 그렇게 되면 mat[1][2](두번째 행, 세번째 열)는 22를 반환한다 "
   ]
  },
  {
   "cell_type": "markdown",
   "metadata": {},
   "source": [
    "#### 불균형 행렬"
   ]
  },
  {
   "cell_type": "code",
   "execution_count": 159,
   "metadata": {},
   "outputs": [
    {
     "data": {
      "text/plain": [
       "3"
      ]
     },
     "execution_count": 159,
     "metadata": {},
     "output_type": "execute_result"
    }
   ],
   "source": [
    "weird_mat = [[1, 2, 3, 4], [0, 5], [9, 8, 3]]\n",
    "len(weird_mat)"
   ]
  },
  {
   "cell_type": "markdown",
   "metadata": {},
   "source": [
    "프로그램 코드는 inspection을 수행하여 파이썬 행렬의 정확한 크기와 모양을 확인할 수 있다.  \n",
    "이 리스트(행렬)의 길이를 확인하면 깊이 1의 항목 숫자를 확인할 수 있다.  "
   ]
  },
  {
   "cell_type": "code",
   "execution_count": 160,
   "metadata": {},
   "outputs": [
    {
     "name": "stdout",
     "output_type": "stream",
     "text": [
      "4\n",
      "2\n",
      "3\n"
     ]
    }
   ],
   "source": [
    "print(len(weird_mat[0]), len(weird_mat[1]), len(weird_mat[2]), sep='\\n')"
   ]
  },
  {
   "cell_type": "markdown",
   "metadata": {},
   "source": [
    "#### 제멋대로 큰 행렬 만들기 "
   ]
  },
  {
   "cell_type": "code",
   "execution_count": 161,
   "metadata": {},
   "outputs": [
    {
     "data": {
      "text/plain": [
       "[0, 0, 0, 0, 0, 0, 0, 0, 0, 0]"
      ]
     },
     "execution_count": 161,
     "metadata": {},
     "output_type": "execute_result"
    }
   ],
   "source": [
    "big_list = [0] * 10\n",
    "big_list"
   ]
  },
  {
   "cell_type": "code",
   "execution_count": 163,
   "metadata": {},
   "outputs": [
    {
     "data": {
      "text/plain": [
       "[[0, 0, 0, 0, 0, 0, 0, 0, 0, 0],\n",
       " [0, 0, 0, 0, 0, 0, 0, 0, 0, 0],\n",
       " [0, 0, 0, 0, 0, 0, 0, 0, 0, 0],\n",
       " [0, 0, 0, 0, 0, 0, 0, 0, 0, 0],\n",
       " [0, 0, 0, 0, 0, 0, 0, 0, 0, 0],\n",
       " [0, 0, 0, 0, 0, 0, 0, 0, 0, 0],\n",
       " [0, 0, 0, 0, 0, 0, 0, 0, 0, 0],\n",
       " [0, 0, 0, 0, 0, 0, 0, 0, 0, 0],\n",
       " [0, 0, 0, 0, 0, 0, 0, 0, 0, 0],\n",
       " [0, 0, 0, 0, 0, 0, 0, 0, 0, 0],\n",
       " [0, 0, 0, 0, 0, 0, 0, 0, 0, 0],\n",
       " [0, 0, 0, 0, 0, 0, 0, 0, 0, 0],\n",
       " [0, 0, 0, 0, 0, 0, 0, 0, 0, 0],\n",
       " [0, 0, 0, 0, 0, 0, 0, 0, 0, 0],\n",
       " [0, 0, 0, 0, 0, 0, 0, 0, 0, 0],\n",
       " [0, 0, 0, 0, 0, 0, 0, 0, 0, 0],\n",
       " [0, 0, 0, 0, 0, 0, 0, 0, 0, 0],\n",
       " [0, 0, 0, 0, 0, 0, 0, 0, 0, 0],\n",
       " [0, 0, 0, 0, 0, 0, 0, 0, 0, 0],\n",
       " [0, 0, 0, 0, 0, 0, 0, 0, 0, 0]]"
      ]
     },
     "execution_count": 163,
     "metadata": {},
     "output_type": "execute_result"
    }
   ],
   "source": [
    "mat = [[0] * 10] * 20\n",
    "mat"
   ]
  },
  {
   "cell_type": "markdown",
   "metadata": {},
   "source": [
    "위 코드는 [0] * 10 의 리스트를 생성하여 20번 반복하여 호출 하는데 20개의 별도의 행을 만드는게 아니라 같은 행 참조 20개를 만드는 것이다.  \n",
    "\n",
    "20개의 행은 분리되지 않는다.  이는 얕은 복사이다 "
   ]
  },
  {
   "cell_type": "code",
   "execution_count": 165,
   "metadata": {},
   "outputs": [
    {
     "data": {
      "text/plain": [
       "[[0, 0, 0, 0, 0, 0, 0, 0, 0, 0],\n",
       " [0, 0, 0, 0, 0, 0, 0, 0, 0, 0],\n",
       " [0, 0, 0, 0, 0, 0, 0, 0, 0, 0],\n",
       " [0, 0, 0, 0, 0, 0, 0, 0, 0, 0],\n",
       " [0, 0, 0, 0, 0, 0, 0, 0, 0, 0],\n",
       " [0, 0, 0, 0, 0, 0, 0, 0, 0, 0],\n",
       " [0, 0, 0, 0, 0, 0, 0, 0, 0, 0],\n",
       " [0, 0, 0, 0, 0, 0, 0, 0, 0, 0],\n",
       " [0, 0, 0, 0, 0, 0, 0, 0, 0, 0],\n",
       " [0, 0, 0, 0, 0, 0, 0, 0, 0, 0],\n",
       " [0, 0, 0, 0, 0, 0, 0, 0, 0, 0],\n",
       " [0, 0, 0, 0, 0, 0, 0, 0, 0, 0],\n",
       " [0, 0, 0, 0, 0, 0, 0, 0, 0, 0],\n",
       " [0, 0, 0, 0, 0, 0, 0, 0, 0, 0],\n",
       " [0, 0, 0, 0, 0, 0, 0, 0, 0, 0],\n",
       " [0, 0, 0, 0, 0, 0, 0, 0, 3.14, 0],\n",
       " [0, 0, 0, 0, 0, 0, 0, 0, 0, 0],\n",
       " [0, 0, 0, 0, 0, 0, 0, 0, 0, 0],\n",
       " [0, 0, 0, 0, 0, 0, 0, 0, 0, 0],\n",
       " [0, 0, 0, 0, 0, 0, 0, 0, 0, 0]]"
      ]
     },
     "execution_count": 165,
     "metadata": {},
     "output_type": "execute_result"
    }
   ],
   "source": [
    "mat = []\n",
    "for i in range(20):\n",
    "    mat.append([0] * 10)\n",
    "    \n",
    "mat[15][8] = 3.14\n",
    "mat"
   ]
  },
  {
   "cell_type": "code",
   "execution_count": 166,
   "metadata": {},
   "outputs": [
    {
     "data": {
      "text/plain": [
       "[[0, 0, 0, 0, 0, 0, 0, 0, 0, 0],\n",
       " [0, 0, 0, 0, 0, 0, 0, 0, 0, 0],\n",
       " [0, 0, 0, 0, 0, 0, 0, 0, 0, 0],\n",
       " [0, 0, 0, 0, 0, 0, 0, 0, 0, 0],\n",
       " [0, 0, 0, 0, 0, 0, 0, 0, 0, 0],\n",
       " [0, 0, 0, 0, 0, 0, 0, 0, 0, 0],\n",
       " [0, 0, 0, 0, 0, 0, 0, 0, 0, 0],\n",
       " [0, 0, 0, 0, 0, 0, 0, 0, 0, 0],\n",
       " [0, 0, 0, 0, 0, 0, 0, 0, 0, 0],\n",
       " [0, 0, 0, 0, 0, 0, 0, 0, 0, 0],\n",
       " [0, 0, 0, 0, 0, 0, 0, 0, 0, 0],\n",
       " [0, 0, 0, 0, 0, 0, 0, 0, 0, 0],\n",
       " [0, 0, 0, 0, 0, 0, 0, 0, 0, 0],\n",
       " [0, 0, 0, 0, 0, 0, 0, 0, 0, 0],\n",
       " [0, 0, 0, 0, 0, 0, 0, 0, 0, 0],\n",
       " [0, 0, 0, 0, 0, 0, 0, 0, 0, 0],\n",
       " [0, 0, 0, 0, 0, 0, 0, 0, 0, 0],\n",
       " [0, 0, 0, 0, 0, 0, 0, 0, 0, 0],\n",
       " [0, 0, 0, 0, 0, 0, 0, 0, 0, 0],\n",
       " [0, 0, 0, 0, 0, 0, 0, 0, 0, 0]]"
      ]
     },
     "execution_count": 166,
     "metadata": {},
     "output_type": "execute_result"
    }
   ],
   "source": [
    "mat = [ [0] * 10 for i in range(20)]\n",
    "mat"
   ]
  },
  {
   "cell_type": "markdown",
   "metadata": {},
   "source": [
    "위 코드는 리스트-함축을 사용한 코드이다 "
   ]
  },
  {
   "cell_type": "code",
   "execution_count": 168,
   "metadata": {},
   "outputs": [
    {
     "data": {
      "text/plain": [
       "[[[0, 0, 0, 0, 0, 0, 0, 0, 0, 0, 0, 0, 0, 0, 0, 0, 0, 0, 0, 0, 0, 0, 0, 0, 0],\n",
       "  [0, 0, 0, 0, 0, 0, 0, 0, 0, 0, 0, 0, 0, 0, 0, 0, 0, 0, 0, 0, 0, 0, 0, 0, 0],\n",
       "  [0, 0, 0, 0, 0, 0, 0, 0, 0, 0, 0, 0, 0, 0, 0, 0, 0, 0, 0, 0, 0, 0, 0, 0, 0],\n",
       "  [0, 0, 0, 0, 0, 0, 0, 0, 0, 0, 0, 0, 0, 0, 0, 0, 0, 0, 0, 0, 0, 0, 0, 0, 0],\n",
       "  [0, 0, 0, 0, 0, 0, 0, 0, 0, 0, 0, 0, 0, 0, 0, 0, 0, 0, 0, 0, 0, 0, 0, 0, 0],\n",
       "  [0, 0, 0, 0, 0, 0, 0, 0, 0, 0, 0, 0, 0, 0, 0, 0, 0, 0, 0, 0, 0, 0, 0, 0, 0],\n",
       "  [0, 0, 0, 0, 0, 0, 0, 0, 0, 0, 0, 0, 0, 0, 0, 0, 0, 0, 0, 0, 0, 0, 0, 0, 0],\n",
       "  [0, 0, 0, 0, 0, 0, 0, 0, 0, 0, 0, 0, 0, 0, 0, 0, 0, 0, 0, 0, 0, 0, 0, 0, 0],\n",
       "  [0, 0, 0, 0, 0, 0, 0, 0, 0, 0, 0, 0, 0, 0, 0, 0, 0, 0, 0, 0, 0, 0, 0, 0, 0],\n",
       "  [0, 0, 0, 0, 0, 0, 0, 0, 0, 0, 0, 0, 0, 0, 0, 0, 0, 0, 0, 0, 0, 0, 0, 0, 0]],\n",
       " [[0, 0, 0, 0, 0, 0, 0, 0, 0, 0, 0, 0, 0, 0, 0, 0, 0, 0, 0, 0, 0, 0, 0, 0, 0],\n",
       "  [0, 0, 0, 0, 0, 0, 0, 0, 0, 0, 0, 0, 0, 0, 0, 0, 0, 0, 0, 0, 0, 0, 0, 0, 0],\n",
       "  [0, 0, 0, 0, 0, 0, 0, 0, 0, 0, 0, 0, 0, 0, 0, 0, 0, 0, 0, 0, 0, 0, 0, 0, 0],\n",
       "  [0, 0, 0, 0, 0, 0, 0, 0, 0, 0, 0, 0, 0, 0, 0, 0, 0, 0, 0, 0, 0, 0, 0, 0, 0],\n",
       "  [0, 0, 0, 0, 0, 0, 0, 0, 0, 0, 0, 0, 0, 0, 0, 0, 0, 0, 0, 0, 0, 0, 0, 0, 0],\n",
       "  [0, 0, 0, 0, 0, 0, 0, 0, 0, 0, 0, 0, 0, 0, 0, 0, 0, 0, 0, 0, 0, 0, 0, 0, 0],\n",
       "  [0, 0, 0, 0, 0, 0, 0, 0, 0, 0, 0, 0, 0, 0, 0, 0, 0, 0, 0, 0, 0, 0, 0, 0, 0],\n",
       "  [0, 0, 0, 0, 0, 0, 0, 0, 0, 0, 0, 0, 0, 0, 0, 0, 0, 0, 0, 0, 0, 0, 0, 0, 0],\n",
       "  [0, 0, 0, 0, 0, 0, 0, 0, 0, 0, 0, 0, 0, 0, 0, 0, 0, 0, 0, 0, 0, 0, 0, 0, 0],\n",
       "  [0, 0, 0, 0, 0, 0, 0, 0, 0, 0, 0, 0, 0, 0, 0, 0, 0, 0, 0, 0, 0, 0, 0, 0, 0]],\n",
       " [[0, 0, 0, 0, 0, 0, 0, 0, 0, 0, 0, 0, 0, 0, 0, 0, 0, 0, 0, 0, 0, 0, 0, 0, 0],\n",
       "  [0, 0, 0, 0, 0, 0, 0, 0, 0, 0, 0, 0, 0, 0, 0, 0, 0, 0, 0, 0, 0, 0, 0, 0, 0],\n",
       "  [0, 0, 0, 0, 0, 0, 0, 0, 0, 0, 0, 0, 0, 0, 0, 0, 0, 0, 0, 0, 0, 0, 0, 0, 0],\n",
       "  [0, 0, 0, 0, 0, 0, 0, 0, 0, 0, 0, 0, 0, 0, 0, 0, 0, 0, 0, 0, 0, 0, 0, 0, 0],\n",
       "  [0, 0, 0, 0, 0, 0, 0, 0, 0, 0, 0, 0, 0, 0, 0, 0, 0, 0, 0, 0, 0, 0, 0, 0, 0],\n",
       "  [0, 0, 0, 0, 0, 0, 0, 0, 0, 0, 0, 0, 0, 0, 0, 0, 0, 0, 0, 0, 0, 0, 0, 0, 0],\n",
       "  [0, 0, 0, 0, 0, 0, 0, 0, 0, 0, 0, 0, 0, 0, 0, 0, 0, 0, 0, 0, 0, 0, 0, 0, 0],\n",
       "  [0, 0, 0, 0, 0, 0, 0, 0, 0, 0, 0, 0, 0, 0, 0, 0, 0, 0, 0, 0, 0, 0, 0, 0, 0],\n",
       "  [0, 0, 0, 0, 0, 0, 0, 0, 0, 0, 0, 0, 0, 0, 0, 0, 0, 0, 0, 0, 0, 0, 0, 0, 0],\n",
       "  [0, 0, 0, 0, 0, 0, 0, 0, 0, 0, 0, 0, 0, 0, 0, 0, 0, 0, 0, 0, 0, 0, 0, 0, 0]],\n",
       " [[0, 0, 0, 0, 0, 0, 0, 0, 0, 0, 0, 0, 0, 0, 0, 0, 0, 0, 0, 0, 0, 0, 0, 0, 0],\n",
       "  [0, 0, 0, 0, 0, 0, 0, 0, 0, 0, 0, 0, 0, 0, 0, 0, 0, 0, 0, 0, 0, 0, 0, 0, 0],\n",
       "  [0, 0, 0, 0, 0, 0, 0, 0, 0, 0, 0, 0, 0, 0, 0, 0, 0, 0, 0, 0, 0, 0, 0, 0, 0],\n",
       "  [0, 0, 0, 0, 0, 0, 0, 0, 0, 0, 0, 0, 0, 0, 0, 0, 0, 0, 0, 0, 0, 0, 0, 0, 0],\n",
       "  [0, 0, 0, 0, 0, 0, 0, 0, 0, 0, 0, 0, 0, 0, 0, 0, 0, 0, 0, 0, 0, 0, 0, 0, 0],\n",
       "  [0, 0, 0, 0, 0, 0, 0, 0, 0, 0, 0, 0, 0, 0, 0, 0, 0, 0, 0, 0, 0, 0, 0, 0, 0],\n",
       "  [0, 0, 0, 0, 0, 0, 0, 0, 0, 0, 0, 0, 0, 0, 0, 0, 0, 0, 0, 0, 0, 0, 0, 0, 0],\n",
       "  [0, 0, 0, 0, 0, 0, 0, 0, 0, 0, 0, 0, 0, 0, 0, 0, 0, 0, 0, 0, 0, 0, 0, 0, 0],\n",
       "  [0, 0, 0, 0, 0, 0, 0, 0, 0, 0, 0, 0, 0, 0, 0, 0, 0, 0, 0, 0, 0, 0, 0, 0, 0],\n",
       "  [0, 0, 0, 0, 0, 0, 0, 0, 0, 0, 0, 0, 0, 0, 0, 0, 0, 0, 0, 0, 0, 0, 0, 0, 0]],\n",
       " [[0, 0, 0, 0, 0, 0, 0, 0, 0, 0, 0, 0, 0, 0, 0, 0, 0, 0, 0, 0, 0, 0, 0, 0, 0],\n",
       "  [0, 0, 0, 0, 0, 0, 0, 0, 0, 0, 0, 0, 0, 0, 0, 0, 0, 0, 0, 0, 0, 0, 0, 0, 0],\n",
       "  [0, 0, 0, 0, 0, 0, 0, 0, 0, 0, 0, 0, 0, 0, 0, 0, 0, 0, 0, 0, 0, 0, 0, 0, 0],\n",
       "  [0, 0, 0, 0, 0, 0, 0, 0, 0, 0, 0, 0, 0, 0, 0, 0, 0, 0, 0, 0, 0, 0, 0, 0, 0],\n",
       "  [0, 0, 0, 0, 0, 0, 0, 0, 0, 0, 0, 0, 0, 0, 0, 0, 0, 0, 0, 0, 0, 0, 0, 0, 0],\n",
       "  [0, 0, 0, 0, 0, 0, 0, 0, 0, 0, 0, 0, 0, 0, 0, 0, 0, 0, 0, 0, 0, 0, 0, 0, 0],\n",
       "  [0, 0, 0, 0, 0, 0, 0, 0, 0, 0, 0, 0, 0, 0, 0, 0, 0, 0, 0, 0, 0, 0, 0, 0, 0],\n",
       "  [0, 0, 0, 0, 0, 0, 0, 0, 0, 0, 0, 0, 0, 0, 0, 0, 0, 0, 0, 0, 0, 0, 0, 0, 0],\n",
       "  [0, 0, 0, 0, 0, 0, 0, 0, 0, 0, 0, 0, 0, 0, 0, 0, 0, 0, 0, 0, 0, 0, 0, 0, 0],\n",
       "  [0, 0, 0, 0, 0, 0, 0, 0, 0, 0, 0, 0, 0, 0, 0, 0, 0, 0, 0, 0, 0, 0, 0, 0, 0]],\n",
       " [[0, 0, 0, 0, 0, 0, 0, 0, 0, 0, 0, 0, 0, 0, 0, 0, 0, 0, 0, 0, 0, 0, 0, 0, 0],\n",
       "  [0, 0, 0, 0, 0, 0, 0, 0, 0, 0, 0, 0, 0, 0, 0, 0, 0, 0, 0, 0, 0, 0, 0, 0, 0],\n",
       "  [0, 0, 0, 0, 0, 0, 0, 0, 0, 0, 0, 0, 0, 0, 0, 0, 0, 0, 0, 0, 0, 0, 0, 0, 0],\n",
       "  [0, 0, 0, 0, 0, 0, 0, 0, 0, 0, 0, 0, 0, 0, 0, 0, 0, 0, 0, 0, 0, 0, 0, 0, 0],\n",
       "  [0, 0, 0, 0, 0, 0, 0, 0, 0, 0, 0, 0, 0, 0, 0, 0, 0, 0, 0, 0, 0, 0, 0, 0, 0],\n",
       "  [0, 0, 0, 0, 0, 0, 0, 0, 0, 0, 0, 0, 0, 0, 0, 0, 0, 0, 0, 0, 0, 0, 0, 0, 0],\n",
       "  [0, 0, 0, 0, 0, 0, 0, 0, 0, 0, 0, 0, 0, 0, 0, 0, 0, 0, 0, 0, 0, 0, 0, 0, 0],\n",
       "  [0, 0, 0, 0, 0, 0, 0, 0, 0, 0, 0, 0, 0, 0, 0, 0, 0, 0, 0, 0, 0, 0, 0, 0, 0],\n",
       "  [0, 0, 0, 0, 0, 0, 0, 0, 0, 0, 0, 0, 0, 0, 0, 0, 0, 0, 0, 0, 0, 0, 0, 0, 0],\n",
       "  [0, 0, 0, 0, 0, 0, 0, 0, 0, 0, 0, 0, 0, 0, 0, 0, 0, 0, 0, 0, 0, 0, 0, 0, 0]],\n",
       " [[0, 0, 0, 0, 0, 0, 0, 0, 0, 0, 0, 0, 0, 0, 0, 0, 0, 0, 0, 0, 0, 0, 0, 0, 0],\n",
       "  [0, 0, 0, 0, 0, 0, 0, 0, 0, 0, 0, 0, 0, 0, 0, 0, 0, 0, 0, 0, 0, 0, 0, 0, 0],\n",
       "  [0, 0, 0, 0, 0, 0, 0, 0, 0, 0, 0, 0, 0, 0, 0, 0, 0, 0, 0, 0, 0, 0, 0, 0, 0],\n",
       "  [0, 0, 0, 0, 0, 0, 0, 0, 0, 0, 0, 0, 0, 0, 0, 0, 0, 0, 0, 0, 0, 0, 0, 0, 0],\n",
       "  [0, 0, 0, 0, 0, 0, 0, 0, 0, 0, 0, 0, 0, 0, 0, 0, 0, 0, 0, 0, 0, 0, 0, 0, 0],\n",
       "  [0, 0, 0, 0, 0, 0, 0, 0, 0, 0, 0, 0, 0, 0, 0, 0, 0, 0, 0, 0, 0, 0, 0, 0, 0],\n",
       "  [0, 0, 0, 0, 0, 0, 0, 0, 0, 0, 0, 0, 0, 0, 0, 0, 0, 0, 0, 0, 0, 0, 0, 0, 0],\n",
       "  [0, 0, 0, 0, 0, 0, 0, 0, 0, 0, 0, 0, 0, 0, 0, 0, 0, 0, 0, 0, 0, 0, 0, 0, 0],\n",
       "  [0, 0, 0, 0, 0, 0, 0, 0, 0, 0, 0, 0, 0, 0, 0, 0, 0, 0, 0, 0, 0, 0, 0, 0, 0],\n",
       "  [0, 0, 0, 0, 0, 0, 0, 0, 0, 0, 0, 0, 0, 0, 0, 0, 0, 0, 0, 0, 0, 0, 0, 0, 0]],\n",
       " [[0, 0, 0, 0, 0, 0, 0, 0, 0, 0, 0, 0, 0, 0, 0, 0, 0, 0, 0, 0, 0, 0, 0, 0, 0],\n",
       "  [0, 0, 0, 0, 0, 0, 0, 0, 0, 0, 0, 0, 0, 0, 0, 0, 0, 0, 0, 0, 0, 0, 0, 0, 0],\n",
       "  [0, 0, 0, 0, 0, 0, 0, 0, 0, 0, 0, 0, 0, 0, 0, 0, 0, 0, 0, 0, 0, 0, 0, 0, 0],\n",
       "  [0, 0, 0, 0, 0, 0, 0, 0, 0, 0, 0, 0, 0, 0, 0, 0, 0, 0, 0, 0, 0, 0, 0, 0, 0],\n",
       "  [0, 0, 0, 0, 0, 0, 0, 0, 0, 0, 0, 0, 0, 0, 0, 0, 0, 0, 0, 0, 0, 0, 0, 0, 0],\n",
       "  [0, 0, 0, 0, 0, 0, 0, 0, 0, 0, 0, 0, 0, 0, 0, 0, 0, 0, 0, 0, 0, 0, 0, 0, 0],\n",
       "  [0, 0, 0, 0, 0, 0, 0, 0, 0, 0, 0, 0, 0, 0, 0, 0, 0, 0, 0, 0, 0, 0, 0, 0, 0],\n",
       "  [0, 0, 0, 0, 0, 0, 0, 0, 0, 0, 0, 0, 0, 0, 0, 0, 0, 0, 0, 0, 0, 0, 0, 0, 0],\n",
       "  [0, 0, 0, 0, 0, 0, 0, 0, 0, 0, 0, 0, 0, 0, 0, 0, 0, 0, 0, 0, 0, 0, 0, 0, 0],\n",
       "  [0, 0, 0, 0, 0, 0, 0, 0, 0, 0, 0, 0, 0, 0, 0, 0, 0, 0, 0, 0, 0, 0, 0, 0, 0]],\n",
       " [[0, 0, 0, 0, 0, 0, 0, 0, 0, 0, 0, 0, 0, 0, 0, 0, 0, 0, 0, 0, 0, 0, 0, 0, 0],\n",
       "  [0, 0, 0, 0, 0, 0, 0, 0, 0, 0, 0, 0, 0, 0, 0, 0, 0, 0, 0, 0, 0, 0, 0, 0, 0],\n",
       "  [0, 0, 0, 0, 0, 0, 0, 0, 0, 0, 0, 0, 0, 0, 0, 0, 0, 0, 0, 0, 0, 0, 0, 0, 0],\n",
       "  [0, 0, 0, 0, 0, 0, 0, 0, 0, 0, 0, 0, 0, 0, 0, 0, 0, 0, 0, 0, 0, 0, 0, 0, 0],\n",
       "  [0, 0, 0, 0, 0, 0, 0, 0, 0, 0, 0, 0, 0, 0, 0, 0, 0, 0, 0, 0, 0, 0, 0, 0, 0],\n",
       "  [0, 0, 0, 0, 0, 0, 0, 0, 0, 0, 0, 0, 0, 0, 0, 0, 0, 0, 0, 0, 0, 0, 0, 0, 0],\n",
       "  [0, 0, 0, 0, 0, 0, 0, 0, 0, 0, 0, 0, 0, 0, 0, 0, 0, 0, 0, 0, 0, 0, 0, 0, 0],\n",
       "  [0, 0, 0, 0, 0, 0, 0, 0, 0, 0, 0, 0, 0, 0, 0, 0, 0, 0, 0, 0, 0, 0, 0, 0, 0],\n",
       "  [0, 0, 0, 0, 0, 0, 0, 0, 0, 0, 0, 0, 0, 0, 0, 0, 0, 0, 0, 0, 0, 0, 0, 0, 0],\n",
       "  [0, 0, 0, 0, 0, 0, 0, 0, 0, 0, 0, 0, 0, 0, 0, 0, 0, 0, 0, 0, 0, 0, 0, 0, 0]],\n",
       " [[0, 0, 0, 0, 0, 0, 0, 0, 0, 0, 0, 0, 0, 0, 0, 0, 0, 0, 0, 0, 0, 0, 0, 0, 0],\n",
       "  [0, 0, 0, 0, 0, 0, 0, 0, 0, 0, 0, 0, 0, 0, 0, 0, 0, 0, 0, 0, 0, 0, 0, 0, 0],\n",
       "  [0, 0, 0, 0, 0, 0, 0, 0, 0, 0, 0, 0, 0, 0, 0, 0, 0, 0, 0, 0, 0, 0, 0, 0, 0],\n",
       "  [0, 0, 0, 0, 0, 0, 0, 0, 0, 0, 0, 0, 0, 0, 0, 0, 0, 0, 0, 0, 0, 0, 0, 0, 0],\n",
       "  [0, 0, 0, 0, 0, 0, 0, 0, 0, 0, 0, 0, 0, 0, 0, 0, 0, 0, 0, 0, 0, 0, 0, 0, 0],\n",
       "  [0, 0, 0, 0, 0, 0, 0, 0, 0, 0, 0, 0, 0, 0, 0, 0, 0, 0, 0, 0, 0, 0, 0, 0, 0],\n",
       "  [0, 0, 0, 0, 0, 0, 0, 0, 0, 0, 0, 0, 0, 0, 0, 0, 0, 0, 0, 0, 0, 0, 0, 0, 0],\n",
       "  [0, 0, 0, 0, 0, 0, 0, 0, 0, 0, 0, 0, 0, 0, 0, 0, 0, 0, 0, 0, 0, 0, 0, 0, 0],\n",
       "  [0, 0, 0, 0, 0, 0, 0, 0, 0, 0, 0, 0, 0, 0, 0, 0, 0, 0, 0, 0, 0, 0, 0, 0, 0],\n",
       "  [0, 0, 0, 0, 0, 0, 0, 0, 0, 0, 0, 0, 0, 0, 0, 0, 0, 0, 0, 0, 0, 0, 0, 0, 0]],\n",
       " [[0, 0, 0, 0, 0, 0, 0, 0, 0, 0, 0, 0, 0, 0, 0, 0, 0, 0, 0, 0, 0, 0, 0, 0, 0],\n",
       "  [0, 0, 0, 0, 0, 0, 0, 0, 0, 0, 0, 0, 0, 0, 0, 0, 0, 0, 0, 0, 0, 0, 0, 0, 0],\n",
       "  [0, 0, 0, 0, 0, 0, 0, 0, 0, 0, 0, 0, 0, 0, 0, 0, 0, 0, 0, 0, 0, 0, 0, 0, 0],\n",
       "  [0, 0, 0, 0, 0, 0, 0, 0, 0, 0, 0, 0, 0, 0, 0, 0, 0, 0, 0, 0, 0, 0, 0, 0, 0],\n",
       "  [0, 0, 0, 0, 0, 0, 0, 0, 0, 0, 0, 0, 0, 0, 0, 0, 0, 0, 0, 0, 0, 0, 0, 0, 0],\n",
       "  [0, 0, 0, 0, 0, 0, 0, 0, 0, 0, 0, 0, 0, 0, 0, 0, 0, 0, 0, 0, 0, 0, 0, 0, 0],\n",
       "  [0, 0, 0, 0, 0, 0, 0, 0, 0, 0, 0, 0, 0, 0, 0, 0, 0, 0, 0, 0, 0, 0, 0, 0, 0],\n",
       "  [0, 0, 0, 0, 0, 0, 0, 0, 0, 0, 0, 0, 0, 0, 0, 0, 0, 0, 0, 0, 0, 0, 0, 0, 0],\n",
       "  [0, 0, 0, 0, 0, 0, 0, 0, 0, 0, 0, 0, 0, 0, 0, 0, 0, 0, 0, 0, 0, 0, 0, 0, 0],\n",
       "  [0, 0, 0, 0, 0, 0, 0, 0, 0, 0, 0, 0, 0, 0, 0, 0, 0, 0, 0, 0, 0, 0, 0, 0, 0]],\n",
       " [[0, 0, 0, 0, 0, 0, 0, 0, 0, 0, 0, 0, 0, 0, 0, 0, 0, 0, 0, 0, 0, 0, 0, 0, 0],\n",
       "  [0, 0, 0, 0, 0, 0, 0, 0, 0, 0, 0, 0, 0, 0, 0, 0, 0, 0, 0, 0, 0, 0, 0, 0, 0],\n",
       "  [0, 0, 0, 0, 0, 0, 0, 0, 0, 0, 0, 0, 0, 0, 0, 0, 0, 0, 0, 0, 0, 0, 0, 0, 0],\n",
       "  [0, 0, 0, 0, 0, 0, 0, 0, 0, 0, 0, 0, 0, 0, 0, 0, 0, 0, 0, 0, 0, 0, 0, 0, 0],\n",
       "  [0, 0, 0, 0, 0, 0, 0, 0, 0, 0, 0, 0, 0, 0, 0, 0, 0, 0, 0, 0, 0, 0, 0, 0, 0],\n",
       "  [0, 0, 0, 0, 0, 0, 0, 0, 0, 0, 0, 0, 0, 0, 0, 0, 0, 0, 0, 0, 0, 0, 0, 0, 0],\n",
       "  [0, 0, 0, 0, 0, 0, 0, 0, 0, 0, 0, 0, 0, 0, 0, 0, 0, 0, 0, 0, 0, 0, 0, 0, 0],\n",
       "  [0, 0, 0, 0, 0, 0, 0, 0, 0, 0, 0, 0, 0, 0, 0, 0, 0, 0, 0, 0, 0, 0, 0, 0, 0],\n",
       "  [0, 0, 0, 0, 0, 0, 0, 0, 0, 0, 0, 0, 0, 0, 0, 0, 0, 0, 0, 0, 0, 0, 0, 0, 0],\n",
       "  [0, 0, 0, 0, 0, 0, 0, 0, 0, 0, 0, 0, 0, 0, 0, 0, 0, 0, 0, 0, 0, 0, 0, 0, 0]],\n",
       " [[0, 0, 0, 0, 0, 0, 0, 0, 0, 0, 0, 0, 0, 0, 0, 0, 0, 0, 0, 0, 0, 0, 0, 0, 0],\n",
       "  [0, 0, 0, 0, 0, 0, 0, 0, 0, 0, 0, 0, 0, 0, 0, 0, 0, 0, 0, 0, 0, 0, 0, 0, 0],\n",
       "  [0, 0, 0, 0, 0, 0, 0, 0, 0, 0, 0, 0, 0, 0, 0, 0, 0, 0, 0, 0, 0, 0, 0, 0, 0],\n",
       "  [0, 0, 0, 0, 0, 0, 0, 0, 0, 0, 0, 0, 0, 0, 0, 0, 0, 0, 0, 0, 0, 0, 0, 0, 0],\n",
       "  [0, 0, 0, 0, 0, 0, 0, 0, 0, 0, 0, 0, 0, 0, 0, 0, 0, 0, 0, 0, 0, 0, 0, 0, 0],\n",
       "  [0, 0, 0, 0, 0, 0, 0, 0, 0, 0, 0, 0, 0, 0, 0, 0, 0, 0, 0, 0, 0, 0, 0, 0, 0],\n",
       "  [0, 0, 0, 0, 0, 0, 0, 0, 0, 0, 0, 0, 0, 0, 0, 0, 0, 0, 0, 0, 0, 0, 0, 0, 0],\n",
       "  [0, 0, 0, 0, 0, 0, 0, 0, 0, 0, 0, 0, 0, 0, 0, 0, 0, 0, 0, 0, 0, 0, 0, 0, 0],\n",
       "  [0, 0, 0, 0, 0, 0, 0, 0, 0, 0, 0, 0, 0, 0, 0, 0, 0, 0, 0, 0, 0, 0, 0, 0, 0],\n",
       "  [0, 0, 0, 0, 0, 0, 0, 0, 0, 0, 0, 0, 0, 0, 0, 0, 0, 0, 0, 0, 0, 0, 0, 0, 0]],\n",
       " [[0, 0, 0, 0, 0, 0, 0, 0, 0, 0, 0, 0, 0, 0, 0, 0, 0, 0, 0, 0, 0, 0, 0, 0, 0],\n",
       "  [0, 0, 0, 0, 0, 0, 0, 0, 0, 0, 0, 0, 0, 0, 0, 0, 0, 0, 0, 0, 0, 0, 0, 0, 0],\n",
       "  [0, 0, 0, 0, 0, 0, 0, 0, 0, 0, 0, 0, 0, 0, 0, 0, 0, 0, 0, 0, 0, 0, 0, 0, 0],\n",
       "  [0, 0, 0, 0, 0, 0, 0, 0, 0, 0, 0, 0, 0, 0, 0, 0, 0, 0, 0, 0, 0, 0, 0, 0, 0],\n",
       "  [0, 0, 0, 0, 0, 0, 0, 0, 0, 0, 0, 0, 0, 0, 0, 0, 0, 0, 0, 0, 0, 0, 0, 0, 0],\n",
       "  [0, 0, 0, 0, 0, 0, 0, 0, 0, 0, 0, 0, 0, 0, 0, 0, 0, 0, 0, 0, 0, 0, 0, 0, 0],\n",
       "  [0, 0, 0, 0, 0, 0, 0, 0, 0, 0, 0, 0, 0, 0, 0, 0, 0, 0, 0, 0, 0, 0, 0, 0, 0],\n",
       "  [0, 0, 0, 0, 0, 0, 0, 0, 0, 0, 0, 0, 0, 0, 0, 0, 0, 0, 0, 0, 0, 0, 0, 0, 0],\n",
       "  [0, 0, 0, 0, 0, 0, 0, 0, 0, 0, 0, 0, 0, 0, 0, 0, 0, 0, 0, 0, 0, 0, 0, 0, 0],\n",
       "  [0, 0, 0, 0, 0, 0, 0, 0, 0, 0, 0, 0, 0, 0, 0, 0, 0, 0, 0, 0, 0, 0, 0, 0, 0]],\n",
       " [[0, 0, 0, 0, 0, 0, 0, 0, 0, 0, 0, 0, 0, 0, 0, 0, 0, 0, 0, 0, 0, 0, 0, 0, 0],\n",
       "  [0, 0, 0, 0, 0, 0, 0, 0, 0, 0, 0, 0, 0, 0, 0, 0, 0, 0, 0, 0, 0, 0, 0, 0, 0],\n",
       "  [0, 0, 0, 0, 0, 0, 0, 0, 0, 0, 0, 0, 0, 0, 0, 0, 0, 0, 0, 0, 0, 0, 0, 0, 0],\n",
       "  [0, 0, 0, 0, 0, 0, 0, 0, 0, 0, 0, 0, 0, 0, 0, 0, 0, 0, 0, 0, 0, 0, 0, 0, 0],\n",
       "  [0, 0, 0, 0, 0, 0, 0, 0, 0, 0, 0, 0, 0, 0, 0, 0, 0, 0, 0, 0, 0, 0, 0, 0, 0],\n",
       "  [0, 0, 0, 0, 0, 0, 0, 0, 0, 0, 0, 0, 0, 0, 0, 0, 0, 0, 0, 0, 0, 0, 0, 0, 0],\n",
       "  [0, 0, 0, 0, 0, 0, 0, 0, 0, 0, 0, 0, 0, 0, 0, 0, 0, 0, 0, 0, 0, 0, 0, 0, 0],\n",
       "  [0, 0, 0, 0, 0, 0, 0, 0, 0, 0, 0, 0, 0, 0, 0, 0, 0, 0, 0, 0, 0, 0, 0, 0, 0],\n",
       "  [0, 0, 0, 0, 0, 0, 0, 0, 0, 0, 0, 0, 0, 0, 0, 0, 0, 0, 0, 0, 0, 0, 0, 0, 0],\n",
       "  [0, 0, 0, 0, 0, 0, 0, 0, 0, 0, 0, 0, 0, 0, 0, 0, 0, 0, 0, 0, 0, 0, 0, 0, 0]]]"
      ]
     },
     "execution_count": 168,
     "metadata": {},
     "output_type": "execute_result"
    }
   ],
   "source": [
    "mat2 = [[[0] * 25 for _ in range(10)]\n",
    "                  for _ in range(15)]\n",
    "mat2"
   ]
  },
  {
   "cell_type": "markdown",
   "metadata": {},
   "source": [
    "위 코드처럼 행_번호가 중요하지 않고 다시 사용할 필요가 없다면 언더스코어(_) 로 교체할 수 있다.  \n",
    "위 코드는 30x20x25 3차원 리스트를 만든다 "
   ]
  }
 ],
=======
 "cells": [],
>>>>>>> af97193 (feat: Study day2)
=======
  }
 ],
>>>>>>> 58e9754 (feat Study day3)
 "metadata": {
  "kernelspec": {
   "display_name": "tabnet",
   "language": "python",
   "name": "python3"
  },
  "language_info": {
<<<<<<< HEAD
<<<<<<< HEAD
=======
>>>>>>> 58e9754 (feat Study day3)
   "codemirror_mode": {
    "name": "ipython",
    "version": 3
   },
   "file_extension": ".py",
   "mimetype": "text/x-python",
   "name": "python",
   "nbconvert_exporter": "python",
   "pygments_lexer": "ipython3",
<<<<<<< HEAD
=======
   "name": "python",
>>>>>>> af97193 (feat: Study day2)
=======
>>>>>>> 58e9754 (feat Study day3)
   "version": "3.8.19"
  }
 },
 "nbformat": 4,
 "nbformat_minor": 2
}

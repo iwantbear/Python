{
 "cells": [
  {
   "cell_type": "markdown",
   "metadata": {},
   "source": [
    "### 파이썬 리스트 생성 및 활용  \n",
    "\n",
    "파이썬은 데이터를 선언할 필요가 없다.  \n",
    "그렇다면 어떻게 리스트와 같은 컬렉션을 만들 수 있을까.. 그 방법은 다른 데이터를 만드는 방법과 동일하다. \n",
    "\n",
    "* 대입 연산자의 우측에 데이터를 명시한다. 리스트의 생성문이나 구축문이 위치한다. \n",
    "* 대입 연산자의 좌측에는 다른 대입문과 같이 리스트를 참조하기 위해 사용하는 변수 이름을 명시한다. "
   ]
  },
  {
   "cell_type": "code",
   "execution_count": null,
   "metadata": {},
   "outputs": [],
   "source": [
    "x = 5\n",
    "x = [1, 2, 3]"
   ]
  },
  {
   "cell_type": "markdown",
   "metadata": {},
   "source": [
    "변수는 대입을 하지 않는 한 어떤 타입도 정해지지 않는다. 이론상 다음 변수 x는 처음에 정수였다가 리스트가 된다.  \n",
    "\n",
    "하지만 변수는 하나의 데이터 타입만 쭉 사용하는 것이 훨씬 좋고, 데이터 타입을 연상시키는 변수 이름을 쓰는 것을 추천한다.  \n",
    "\n",
    "예를 들어 리스트 컬렉션의 변수 이름을 정할때 'list'를 접미사로 사용하는 것도 좋은 아이디어. "
   ]
  },
  {
   "cell_type": "code",
   "execution_count": 1,
   "metadata": {},
   "outputs": [],
   "source": [
    "my_inst_list = [5, -20, 5, -69]\n"
   ]
  }
 ],
 "metadata": {
  "kernelspec": {
   "display_name": "tabnet",
   "language": "python",
   "name": "python3"
  },
  "language_info": {
   "codemirror_mode": {
    "name": "ipython",
    "version": 3
   },
   "file_extension": ".py",
   "mimetype": "text/x-python",
   "name": "python",
   "nbconvert_exporter": "python",
   "pygments_lexer": "ipython3",
   "version": "3.8.19"
  }
 },
 "nbformat": 4,
 "nbformat_minor": 2
}

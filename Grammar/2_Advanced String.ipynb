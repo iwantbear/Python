{
 "cells": [
  {
   "cell_type": "markdown",
   "metadata": {},
   "source": [
    "### 문자열은 불변\n",
    "\n",
    "가변타입 : 데이터가 '즉시' 변경될 수 있으며 매번 새로운 객채를 처음부터 만들지 않아도됨(리스트,딕셔너리,세트)\n",
    "\n",
    "불변 타입: 가변 타입에 비해서 쉽게 알아채기 어렵지만 불변 타입을 딕셔너리의 키로 사용할 수 있다 "
   ]
  },
  {
   "cell_type": "code",
   "execution_count": null,
   "metadata": {},
   "outputs": [],
   "source": [
    "my_str = '예준아 안녕.'\n",
    "my_str[0] = '원'"
   ]
  },
  {
   "cell_type": "markdown",
   "metadata": {},
   "source": [
    "위코드는 불변 타입인 문자열의 첫 항목 값을 바꾸려고 시도했기 때문에 에러 발생"
   ]
  },
  {
   "cell_type": "code",
   "execution_count": 3,
   "metadata": {},
   "outputs": [],
   "source": [
    "my_str = '안녕'\n",
    "my_str = '안녕하세요'"
   ]
  },
  {
   "cell_type": "markdown",
   "metadata": {},
   "source": [
    "위 코드는 각 줄마다 새로운 문자열 객체가 생성되고 이름 my_str에 재대입되기 떄문에 잘 동작한다"
   ]
  },
  {
   "cell_type": "markdown",
   "metadata": {},
   "source": [
    "### 바이너리를 포함한 숫자 변환\n",
    "\n",
    "파이썬의 타입 이름은 타입 변환이 가능한 모든 곳에서 묵시적으로 타입 변환 수행  \n",
    "\n",
    "데이터_타입(데이터_객체)\n",
    "\n",
    "위 코드는 구체적인 '데이터_객체'를 인수로 받으면 적절한 데이터 변환이 가능한 경우, 해당 타입으로 변환한 후 결과를 반환한다, 그렇지 않으면 오류"
   ]
  },
  {
   "cell_type": "code",
   "execution_count": 5,
   "metadata": {},
   "outputs": [
    {
     "data": {
      "text/plain": [
       "(45, 45.0)"
      ]
     },
     "execution_count": 5,
     "metadata": {},
     "output_type": "execute_result"
    }
   ],
   "source": [
    "s = '45'\n",
    "n = int(s)\n",
    "x = float(s)\n",
    "n, x"
   ]
  },
  {
   "cell_type": "code",
   "execution_count": 7,
   "metadata": {},
   "outputs": [
    {
     "data": {
      "text/plain": [
       "(17, 509, 30)"
      ]
     },
     "execution_count": 7,
     "metadata": {},
     "output_type": "execute_result"
    }
   ],
   "source": [
    "n = int('10001', 2)\n",
    "s = int('775', 8)\n",
    "q = int('1E', 16)\n",
    "n, s, q"
   ]
  },
  {
   "cell_type": "markdown",
   "metadata": {},
   "source": [
    "int 변환은 다른 타입 변환과는 다르게 선택 사항으로 두번쨰 인수를 넣을 수 있다.  \n",
    "이 인수는 문자열을 숫자로 변환할때 변환 대상 문자열의 진수를 명시한다. 기본값은 10진수"
   ]
  },
  {
   "cell_type": "code",
   "execution_count": 11,
   "metadata": {},
   "outputs": [
    {
     "name": "stdout",
     "output_type": "stream",
     "text": [
      "1007 의 자릿수는 4 이다\n"
     ]
    }
   ],
   "source": [
    "n = 1007\n",
    "s = str(n)\n",
    "print(n, '의 자릿수는', len(s), '이다')"
   ]
  },
  {
   "cell_type": "markdown",
   "metadata": {},
   "source": [
    "str 변환은 숫자 타입을 문자열 타입으로 변환한다."
   ]
  },
  {
   "cell_type": "markdown",
   "metadata": {},
   "source": [
    "### 문자열 연산자(+, =, *, >, 기타)"
   ]
  },
  {
   "cell_type": "code",
   "execution_count": 12,
   "metadata": {},
   "outputs": [
    {
     "data": {
      "text/plain": [
       "True"
      ]
     },
     "execution_count": 12,
     "metadata": {},
     "output_type": "execute_result"
    }
   ],
   "source": [
    "dog1_str = '멍멍이'\n",
    "dog2_str = dog1_str\n",
    "\n",
    "dog1_str == dog2_str\n",
    "dog1_str == '멍멍이'"
   ]
  },
  {
   "cell_type": "markdown",
   "metadata": {},
   "source": [
    "* name = 문자열    :       문자열을 name에 대입  \n",
    "* 문자열1 == 문자열2    :    문자열1과 문자열2가 같은 값이라면 True 반환, 대소문자 구분  \n",
    "* 문자열1 != 문자열2    :    문자열1과 문자열2가서로 다른값이라면 True 반환  \n",
    "* 문자열1 < 문자열2    :     문자열1이 문자열2 보다 알파벳 순서가 앞이면 True 반환  \n",
    "* 문자열1 <= 문자열2  :      문자열1이 문자열2 보다 알파벳 순서가 앞이거나 같다면 True 반환  \n",
    "* 문자열1 + 문자열2   :      두 문자열을 연결  \n",
    "* 문자열1 * n        :     문자열1을 정수 n 만큼 반복하여 연결  \n",
    "* n * 문자열1        :     위와 동일  \n",
    "* 문자열1 in 문자열2   :     문자열1 전체가 문자열2에 포함되면 True 반환  \n",
    "* 문자열1 not in 문자열2  : 문자열1 전체가 문자열2에 포함되지 않으면 True 반환  \n",
    "* 문자열 is 객체     :     문자열과 객체가 메모리상에 동일 객체를 참조하고 있으면 True 반환  \n",
    "* 문자열 is not 객체    :  문자열과 객체가 메모리상에 동일 객체를 참조하고 있지 않으면 True 반환  "
   ]
  },
  {
   "cell_type": "code",
   "execution_count": 1,
   "metadata": {},
   "outputs": [
    {
     "name": "stdout",
     "output_type": "stream",
     "text": [
      "윌리엄셰익스피어\n"
     ]
    }
   ],
   "source": [
    "first = '윌리엄'\n",
    "last = '셰익스피어'\n",
    "\n",
    "full_name = first + '' + last\n",
    "print(full_name)"
   ]
  },
  {
   "cell_type": "code",
   "execution_count": 2,
   "metadata": {},
   "outputs": [
    {
     "name": "stdout",
     "output_type": "stream",
     "text": [
      "______________________________\n"
     ]
    }
   ],
   "source": [
    "divider_str = '_' * 30\n",
    "print(divider_str)"
   ]
  },
  {
   "cell_type": "markdown",
   "metadata": {},
   "source": [
    "is 와 is not 연산자 조심!  \n",
    "'고양이'를 저장한 변수를 2개 만들었을떄, ==를 사용하면 True 지만 Is 는 다를 수 있다.  \n",
    "== 연산자는 동일한 것을 테스트할 수 없는 서로 다른 타입의 객체를 비교할때 사용해야 하며 어떤 값이 특수 값 None과 같은지를 테스트하는 것은 특별한 경우이며 이때 is를 사용한다.   "
   ]
  },
  {
   "cell_type": "markdown",
   "metadata": {},
   "source": [
    "### 인덱싱과 슬라이싱  \n",
    "문자열의 값을 추출하는 두 가지 방법  \n",
    "* 인덱싱 : 문자열 안의 특정 위치에 있는 숫자(인덱스, 색인)로 각 문자를 참조\n",
    "* 슬라이싱 : 파이썬의 고유 기능, 간편한 문법을 사용하여 원하는 부분 문자들을 다양한 방법으로 참조 가능"
   ]
  },
  {
   "cell_type": "markdown",
   "metadata": {},
   "source": [
    "문자열은 불변 타입이기에 인덱싱, 슬라이싱 혹은 값을 변경하는 어떠한 연산자도 실제 값을 변경 X  \n",
    "대신 새로운 값을 만들어서 변수를 재사용함."
   ]
  },
  {
   "cell_type": "code",
   "execution_count": 3,
   "metadata": {},
   "outputs": [
    {
     "name": "stdout",
     "output_type": "stream",
     "text": [
      "<class 'str'>\n"
     ]
    }
   ],
   "source": [
    "s = '안녕하세요' \n",
    "ch = s[0]\n",
    "print(type(ch))"
   ]
  },
  {
   "cell_type": "markdown",
   "metadata": {},
   "source": [
    "위코드처럼 '안녕하세요'의 첫 문자를 구하면 '안'이다. 길이가 1일지라도 여전히 문자열이다"
   ]
  },
  {
   "cell_type": "markdown",
   "metadata": {},
   "source": [
    "슬라이싱  \n",
    "* string[beg: end]        beg 부터 end 전까지 모든 문자를 반환  \n",
    "* string[:end]            처음부터 end 전까지 모든 문자를 반환  \n",
    "* string[beg:]            beg 부터 끝까지 모든 문자를 반환  \n",
    "* string[:]               문자열 전체를 반환, 이 연산은 전체 문자열을 복사  \n",
    "* string[beg: end: step]  beg부터 end 전까지 각 항목간 step 간격의 문자를 반환"
   ]
  },
  {
   "cell_type": "code",
   "execution_count": 4,
   "metadata": {},
   "outputs": [
    {
     "name": "stdout",
     "output_type": "stream",
     "text": [
      "헨리 8세\n"
     ]
    }
   ],
   "source": [
    "king_str = '\"헨리 8세\"'\n",
    "\n",
    "new_str = king_str[1: -1]\n",
    "print(new_str)"
   ]
  },
  {
   "cell_type": "code",
   "execution_count": 7,
   "metadata": {},
   "outputs": [
    {
     "name": "stdout",
     "output_type": "stream",
     "text": [
      " Bad\n"
     ]
    }
   ],
   "source": [
    "dog_str = '\"The Bad Dog\"'\n",
    "new_dog = dog_str[4: -5]\n",
    "print(new_dog)"
   ]
  },
  {
   "cell_type": "markdown",
   "metadata": {},
   "source": [
    "* beg와 end가 모두 양수 인덱스면 end-beg는 자른 문자열의 최대 길이를 반환\n",
    "* 처음부터 N번째 문자까지 확보하고 싶다면 string[:N]\n",
    "* 끝에서 마지막 N번째 문자까지 확보하고 싶다면 stinr[-N:]"
   ]
  },
  {
   "cell_type": "code",
   "execution_count": 8,
   "metadata": {},
   "outputs": [
    {
     "name": "stdout",
     "output_type": "stream",
     "text": [
      "ooo\n"
     ]
    }
   ],
   "source": [
    "a_str = 'RoboCop'\n",
    "b_str = a_str[1::2]\n",
    "print(b_str)"
   ]
  },
  {
   "cell_type": "code",
   "execution_count": 10,
   "metadata": {},
   "outputs": [
    {
     "name": "stdout",
     "output_type": "stream",
     "text": [
      "ADGJN\n"
     ]
    }
   ],
   "source": [
    "a_str = 'AbcDefGhiJklNop'\n",
    "b_str = a_str[::3]\n",
    "print(b_str)"
   ]
  },
  {
   "cell_type": "code",
   "execution_count": 12,
   "metadata": {},
   "outputs": [
    {
     "name": "stdout",
     "output_type": "stream",
     "text": [
      "!wow boB woW\n",
      "racecaR\n"
     ]
    }
   ],
   "source": [
    "def reverse_str(s):\n",
    "    return s[::-1]\n",
    "\n",
    "print(reverse_str('Wow Bob wow!'))\n",
    "print(reverse_str('Racecar'))\n"
   ]
  },
  {
   "cell_type": "markdown",
   "metadata": {},
   "source": [
    "위코드는 step값을 음수로 넣어 문자열을 역순으로 순회"
   ]
  },
  {
   "cell_type": "code",
   "execution_count": 13,
   "metadata": {},
   "outputs": [],
   "source": [
    "a_str = 'cat'\n",
    "b_str = a_str[10: 20]"
   ]
  },
  {
   "cell_type": "markdown",
   "metadata": {},
   "source": [
    "파이썬은 슬라이싱을 수행할 때 인덱스 범위를 벗어나더라도 예외를 발생시키지 않지만, 아무 문자열 반환X"
   ]
  },
  {
   "cell_type": "markdown",
   "metadata": {},
   "source": [
    "### 단일-문자 함수(문자코드)  \n",
    "* ord (단일문자)  \n",
    "한 문자를 인술 받으며, 더 긴 문자가 들어가면 TypeError 예외를 발생시킴. \n",
    "이 함수는 인수로 입력한 문자의 아스키코드 혹은 유니코드 값을 반환  \n",
    "\n",
    "* chr (숫자)  \n",
    "ord 함수와 정반대로 동작하며, 인수로 문자 코드를 넣으면 아스키코드 혹은 유니코드에 해당하는 하나의 문자를 반환함"
   ]
  },
  {
   "cell_type": "code",
   "execution_count": 15,
   "metadata": {},
   "outputs": [
    {
     "name": "stdout",
     "output_type": "stream",
     "text": [
      "65\n",
      "A\n"
     ]
    }
   ],
   "source": [
    "print(ord('A'))\n",
    "print(chr(65))"
   ]
  },
  {
   "cell_type": "markdown",
   "metadata": {},
   "source": [
    "in과 not in 연산자는 주로 단일-문자와 함께 사용됨"
   ]
  },
  {
   "cell_type": "code",
   "execution_count": 16,
   "metadata": {},
   "outputs": [
    {
     "name": "stdout",
     "output_type": "stream",
     "text": [
      "첫문자가 모음이군요.\n"
     ]
    }
   ],
   "source": [
    "s = 'elephant'\n",
    "if s[0] in 'aeiou':\n",
    "    print('첫문자가 모음이군요.')"
   ]
  },
  {
   "cell_type": "code",
   "execution_count": 17,
   "metadata": {},
   "outputs": [
    {
     "name": "stdout",
     "output_type": "stream",
     "text": [
      "첫 문자가 자음이군요\n"
     ]
    }
   ],
   "source": [
    "s = 'Helephant'\n",
    "if s[0] not in 'aeiou':\n",
    "    print('첫 문자가 자음이군요')"
   ]
  },
  {
   "cell_type": "markdown",
   "metadata": {},
   "source": [
    "위 코드는 대문자에는 제대로 동작하지 않는다."
   ]
  },
  {
   "cell_type": "code",
   "execution_count": 18,
   "metadata": {},
   "outputs": [],
   "source": [
    "if s[0] in 'aeiouAEIOU':\n",
    "    print('첫 문자가 모음이군요.')"
   ]
  },
  {
   "cell_type": "code",
   "execution_count": 19,
   "metadata": {},
   "outputs": [
    {
     "name": "stdout",
     "output_type": "stream",
     "text": [
      "첫 문자가 모음이군요.\n"
     ]
    }
   ],
   "source": [
    "s = 'elephant'\n",
    "if s[0].upper() in 'AEIOU':\n",
    "    print('첫 문자가 모음이군요.')"
   ]
  },
  {
   "cell_type": "markdown",
   "metadata": {},
   "source": [
    ".upper() 함수는 대문자로 변환 가능"
   ]
  },
  {
   "cell_type": "markdown",
   "metadata": {},
   "source": [
    "in 연산자는 모든 문자열이 빈 문자열('')을 포함하고 있다고 생각하지만  \n",
    "모든 리스트가 빈 리스트를 항목으로 가지고 있다고 생각하지는 않는다 \n",
    "\n",
    "* print('' in 'cat')       True\n",
    "* print([] in [1, 2, 3])   False"
   ]
  },
  {
   "cell_type": "markdown",
   "metadata": {},
   "source": [
    "단일-문자 연산자가 중요한 또 다른 영역은 for 루프와 순외다.  \n",
    "리스트를 순회하면 각 항목을 반환하는 반면, 문자열을 순회하면 문자열에 포함된 각각의 문자를 반환한다.  \n",
    "이 문자는 별도의 '문자' 타입 객체가 아니라 길이가 1인 문자열이다."
   ]
  },
  {
   "cell_type": "code",
   "execution_count": 20,
   "metadata": {},
   "outputs": [
    {
     "name": "stdout",
     "output_type": "stream",
     "text": [
      "C , type: <class 'str'>\n",
      "a , type: <class 'str'>\n",
      "t , type: <class 'str'>\n"
     ]
    }
   ],
   "source": [
    "s = 'Cat' \n",
    "for ch in s:\n",
    "    print(ch, ', type:', type(ch))"
   ]
  },
  {
   "cell_type": "code",
   "execution_count": 23,
   "metadata": {},
   "outputs": [
    {
     "name": "stdout",
     "output_type": "stream",
     "text": [
      "67 97 116 "
     ]
    }
   ],
   "source": [
    "s = \"Cat\"\n",
    "for ch in s:\n",
    "    print(ord(ch), end=' ')"
   ]
  },
  {
   "cell_type": "markdown",
   "metadata": {},
   "source": [
    "### 'join'을 사용하여 만든 문자열"
   ]
  },
  {
   "cell_type": "code",
   "execution_count": 26,
   "metadata": {},
   "outputs": [
    {
     "data": {
      "text/plain": [
       "'Big Bad John'"
      ]
     },
     "execution_count": 26,
     "metadata": {},
     "output_type": "execute_result"
    }
   ],
   "source": [
    "a_str = 'Big '\n",
    "a_str = a_str + 'Bad '\n",
    "a_str = a_str + 'John'\n",
    "a_str"
   ]
  },
  {
   "cell_type": "markdown",
   "metadata": {},
   "source": [
    "위 코드는 완벽하게 동작하지만 매번 a_str을 재사용하며 새로운 문자열을 대입하고 있다"
   ]
  },
  {
   "cell_type": "code",
   "execution_count": 28,
   "metadata": {},
   "outputs": [
    {
     "data": {
      "text/plain": [
       "'Big Bad John'"
      ]
     },
     "execution_count": 28,
     "metadata": {},
     "output_type": "execute_result"
    }
   ],
   "source": [
    "a_str = 'Big '\n",
    "a_str += 'Bad '\n",
    "a_str += 'John'\n",
    "a_str"
   ]
  },
  {
   "cell_type": "markdown",
   "metadata": {},
   "source": [
    "위코드도 잘 동작하지만 =, +, +=를 사용하여 문자열을 만드는 방법은 적은 숫자의 객체를 다루는 단순한 경우에 적합하다 "
   ]
  },
  {
   "cell_type": "code",
   "execution_count": 32,
   "metadata": {},
   "outputs": [
    {
     "name": "stdout",
     "output_type": "stream",
     "text": [
      "ABCDEFGHIJKLMNOPQRSTUVWXYZ\n"
     ]
    }
   ],
   "source": [
    "n = ord('A')\n",
    "s = ''\n",
    "for i in range(n, n + 26):\n",
    "    s += chr(i)\n",
    "\n",
    "print(s)"
   ]
  },
  {
   "cell_type": "markdown",
   "metadata": {},
   "source": [
    "join 메서드는 리스트의 모든 문자열을 연결하여 하나의 커다란 문자열을 만든다.   \n",
    "이 리스트에 항목이 1개 이상 있다면 '구분자_문자열'의 텍스트가 문자열 사이를 연결하는 데 사용된다.  \n",
    "빈 문자열도 사용 가능하며, 리스트의 모든 문자가 간단하게 연결될 것이다.  \n",
    "\n",
    "* 구분자_문자열.join(리스트)"
   ]
  },
  {
   "cell_type": "code",
   "execution_count": 34,
   "metadata": {},
   "outputs": [
    {
     "name": "stdout",
     "output_type": "stream",
     "text": [
      "ABCDEFGHIJKLMNOPQRSTUVWXYZ\n"
     ]
    }
   ],
   "source": [
    "n = ord('A')\n",
    "a_list = []\n",
    "\n",
    "for i in range(n, n + 26):\n",
    "    a_list.append(chr(i))\n",
    "\n",
    "s = ''.join(a_list)\n",
    "print(s)"
   ]
  },
  {
   "cell_type": "markdown",
   "metadata": {},
   "source": [
    "밑의 코드는 join 함수를 사용하지 않고 작성한 코드 "
   ]
  },
  {
   "cell_type": "code",
   "execution_count": 43,
   "metadata": {},
   "outputs": [
    {
     "name": "stdout",
     "output_type": "stream",
     "text": [
      "John, Paul, George, Ringo\n"
     ]
    }
   ],
   "source": [
    "def print_nice(a_list):\n",
    "    s = ''\n",
    "    for item in a_list:\n",
    "        s += item + ', '\n",
    "    if len(s) > 0:\n",
    "        s = s[:-2]\n",
    "        print(s)\n",
    "     \n",
    "print_nice(['John', 'Paul', 'George', 'Ringo'])"
   ]
  },
  {
   "cell_type": "markdown",
   "metadata": {},
   "source": [
    "밑의 코드는 join 함수를 사용하고 작성한 코드"
   ]
  },
  {
   "cell_type": "code",
   "execution_count": 45,
   "metadata": {},
   "outputs": [
    {
     "name": "stdout",
     "output_type": "stream",
     "text": [
      "John, Paul, George, Ringo\n"
     ]
    }
   ],
   "source": [
    "def print_nice(a_list):\n",
    "    print(', '.join(a_list))\n",
    "    \n",
    "print_nice(['John', 'Paul', 'George', 'Ringo'])"
   ]
  },
  {
   "cell_type": "markdown",
   "metadata": {},
   "source": [
    "### 주요 문자열 함수  \n",
    "\n",
    "* input : 문자열 입력\n",
    "* len   : 문자열 갯수를 숫자로 반환\n",
    "* max   : 가장 높은 코드 값을 가진 문자 반환\n",
    "* min   : 가장 낮은 코드 값을 가진 문자 반환\n",
    "* reversed : 역순 문자열을 지닌 이터레이터 반환\n",
    "* sorted : 정렬된 문자열을 지닌 리스트 반환"
   ]
  },
  {
   "cell_type": "code",
   "execution_count": 46,
   "metadata": {},
   "outputs": [
    {
     "name": "stdout",
     "output_type": "stream",
     "text": [
      "Jaxx has 4 letters.\n",
      "Cutie Pie has 9 letters.\n"
     ]
    }
   ],
   "source": [
    "dog1 = 'Jaxx'\n",
    "dog2 = 'Cutie Pie'\n",
    "print(dog1, 'has', len(dog1), 'letters.')\n",
    "print(dog2, 'has', len(dog2), 'letters.')"
   ]
  },
  {
   "cell_type": "code",
   "execution_count": 47,
   "metadata": {},
   "outputs": [
    {
     "name": "stdout",
     "output_type": "stream",
     "text": [
      "!wow ,boB woW\n",
      "  !,,BWbooowww\n"
     ]
    }
   ],
   "source": [
    "a_str = ''.join(reversed('Wow Bob, wow!'))\n",
    "print(a_str)\n",
    "\n",
    "b_str = ''.join(sorted('Wow, Bob, wow!'))\n",
    "print(b_str)"
   ]
  },
  {
   "cell_type": "markdown",
   "metadata": {},
   "source": [
    "### 이진수와 10진수, 16진수 변환 함수  \n",
    " \n",
    "* bin : 숫자의 이진수 반환\n",
    "* oct : 숫자의 8진수 반환\n",
    "* hex : 숫자의 16진수 반환"
   ]
  },
  {
   "cell_type": "code",
   "execution_count": 48,
   "metadata": {},
   "outputs": [
    {
     "name": "stdout",
     "output_type": "stream",
     "text": [
      "0b1010 0o12 0xa\n"
     ]
    }
   ],
   "source": [
    "print(bin(10), oct(10), hex(10))"
   ]
  },
  {
   "cell_type": "markdown",
   "metadata": {},
   "source": [
    "세 함수는 자동으로 접두사 0b, 0o, 0x 출력"
   ]
  },
  {
   "cell_type": "markdown",
   "metadata": {},
   "source": [
    "### 간단한 불리언('is') 메서드  \n",
    "함수가 is로 시작하는 모든 메서드는 True나 False를 반환한다.  \n",
    "우리는 이 함수들을 단일-문자 문자열과 함께 자주 사용하지만, 더 긴 문자열과도 사용할 수 있다.  \n",
    "더 긴 문자열과 사용하는 경우 문자열 안의 모든 문자가 테스트를 통과해야 True를 반환한다."
   ]
  },
  {
   "cell_type": "markdown",
   "metadata": {},
   "source": [
    "불리언 메서드 표, 테스트 통과시 True 반환\n",
    "\n",
    "* str.isalnum()     : 모든 문자가 글자와 숫자로 이루어졌으며, 최소한 문자가 하나 이상 있는 경우 \n",
    "* str.isalpha()     : 모든 문자가 알파벳 글자로 이루어졌으며, 최소한 문자가 하나 이상 있는 경우\n",
    "* str.isdecimal()   : 모든 문자가 10진수 숫자로 이루어졌으며, 최소한 문자가 하나 이상 있는 경우\n",
    "isdigit과 비슷하지만 유니코드 문자와 사용\n",
    "\n",
    "* str.isdigit()     : 모든 문자가 10진수 숫자로 이루어졌으며, 최소한 문자가 하나 이상 있는 경우\n",
    "* str.isidentifier(): 문자열이 유효한 파이썬 식별자 이름 규칙을 지키고 있는 경우\n",
    "첫문자는 반드시 문자나 언더스코어(_)이어야 하며, 각 문자는 글자, 숫자 혹은 언더스코어 이어야 한다.\n",
    "\n",
    "* str.islower()     : 모든 문자가 소문자로 이루어졌으며, 최소한 문자가 하나 이상 있는 경우 (알파벳이 아닌 문자가 포함될 수 있다) \n",
    "\n",
    "* str.isupper()     : 모든 문자가 대문자로 이루어졌으며, 최소한 문자가 하나 이상 있는 경우 (알파벳이 아닌 문자가 포함될 수 있다)\n",
    "\n",
    "* str.isprintable() : 모든 문자가 출력 가능한 문자인 경우, \\n, \\t는 제외\n",
    "* str.isspace()     : 모든 문자가 '공백문자'이며, 최소한 문자가 하나 이상 있는 경우\n",
    "* str.istitle()     : 모든 문자가 유효한 제목이며, 최소한 문자가 하나 이상 있는 경우.\n",
    "첫 문자만 대문자고 나머지는 모두 소문자면 조건에 만족한다. 문자 사이에 공백 문자나 구분 문자가 있을수 있다\n"
   ]
  },
  {
   "cell_type": "code",
   "execution_count": 52,
   "metadata": {},
   "outputs": [
    {
     "name": "stdout",
     "output_type": "stream",
     "text": [
      "First letter is uppercase.\n",
      "Not all chars are uppercase.\n",
      "Qualifies as a title.\n"
     ]
    }
   ],
   "source": [
    "h_str = 'Hello'\n",
    "\n",
    "if h_str[0].isupper():\n",
    "    print('First letter is uppercase.')\n",
    "    \n",
    "if h_str.isupper():\n",
    "    print('All chars are uppercase.')\n",
    "    \n",
    "else:\n",
    "    print('Not all chars are uppercase.')\n",
    "    \n",
    "if h_str.istitle():\n",
    "    print('Qualifies as a title.')"
   ]
  },
  {
   "cell_type": "markdown",
   "metadata": {},
   "source": [
    "### 대,소문자 변환 메서드  \n",
    "\n",
    "* 문자열.lower() : 모두 소문자인 문자열 생성\n",
    "* 문자열.upper() : 모두 대문자인 문자열 생성\n",
    "* 문자열.title() : 'foo foo'.title() -> 'Foo Foo'\n",
    "* 문자열.swapcase() : 대소문자를 서로 변경한다."
   ]
  },
  {
   "cell_type": "code",
   "execution_count": 54,
   "metadata": {},
   "outputs": [
    {
     "data": {
      "text/plain": [
       "\"I'M HENRY VIII, I AM!\""
      ]
     },
     "execution_count": 54,
     "metadata": {},
     "output_type": "execute_result"
    }
   ],
   "source": [
    "my_str = \"I'm Henry VIII, I am!\"\n",
    "new_str = my_str.upper()\n",
    "my_str = new_str\n",
    "my_str"
   ]
  },
  {
   "cell_type": "markdown",
   "metadata": {},
   "source": [
    "변환을 하고 나면 신규 문자열을 반환한다. 기존 문자열 데이터는 불변이며. '기존 값'이 변경되지는 않는다.  \n",
    "하지만  위 코드는 동일한 변수에 새로운 객체를 대입하고 있기 때문에 마치 기존 값을 변경하는 것 처럼 보인다"
   ]
  },
  {
   "cell_type": "code",
   "execution_count": 55,
   "metadata": {},
   "outputs": [
    {
     "data": {
      "text/plain": [
       "\"I'M HENRY VIII, I AM!\""
      ]
     },
     "execution_count": 55,
     "metadata": {},
     "output_type": "execute_result"
    }
   ],
   "source": [
    "my_str = \"I'm Henry VIII, I am!\"\n",
    "my_str = my_str.upper()\n",
    "my_str"
   ]
  },
  {
   "cell_type": "code",
   "execution_count": 56,
   "metadata": {},
   "outputs": [
    {
     "data": {
      "text/plain": [
       "\"i'M hENRY viii, i AM!\""
      ]
     },
     "execution_count": 56,
     "metadata": {},
     "output_type": "execute_result"
    }
   ],
   "source": [
    "my_str = \"I'm Henry VIII, I am!\"\n",
    "my_str = my_str.swapcase()\n",
    "my_str"
   ]
  },
  {
   "cell_type": "markdown",
   "metadata": {},
   "source": [
    "### 검색-교체 메서드  \n",
    "\n",
    "* 문자열.startswith(부분문자열) : 접두사를 찾으면 True 반환\n",
    "* 문자열.endswith(부분문자열) : 접미사를 찾으면 True 반환\n",
    "* 문자열.count(부분문자열 [, 시작 [,종료]])  : 문자열이 등장하는 횟수 반환\n",
    "* 문자열.find(부분문자열 [, 시작 [, 종료]])\n",
    "* 문자열.index()  : find와 같지만, 예외 발생\n",
    "* 문자열.rfing()  : find와 같지만, 끝에서부터 발생\n",
    "* 문자열.replace(기존, 신규 [, 제한횟수])  : 교체 횟수를 제한"
   ]
  },
  {
   "cell_type": "code",
   "execution_count": 59,
   "metadata": {},
   "outputs": [
    {
     "data": {
      "text/plain": [
       "True"
      ]
     },
     "execution_count": 59,
     "metadata": {},
     "output_type": "execute_result"
    }
   ],
   "source": [
    "me_str = 'John Bennett, PhD'\n",
    "is_doc = me_str.endswith('PhD')\n",
    "is_doc"
   ]
  },
  {
   "cell_type": "code",
   "execution_count": 60,
   "metadata": {},
   "outputs": [
    {
     "data": {
      "text/plain": [
       "3"
      ]
     },
     "execution_count": 60,
     "metadata": {},
     "output_type": "execute_result"
    }
   ],
   "source": [
    "frank_str = 'doo be doo be doo...'\n",
    "\n",
    "n = frank_str.count('doo')\n",
    "n"
   ]
  },
  {
   "cell_type": "code",
   "execution_count": 61,
   "metadata": {},
   "outputs": [
    {
     "name": "stdout",
     "output_type": "stream",
     "text": [
      "2\n",
      "1\n"
     ]
    }
   ],
   "source": [
    "print(frank_str.count('doo', 1))\n",
    "print(frank_str.count('doo', 1, 10))"
   ]
  },
  {
   "cell_type": "code",
   "execution_count": 63,
   "metadata": {},
   "outputs": [
    {
     "name": "stdout",
     "output_type": "stream",
     "text": [
      "0\n",
      "-1\n"
     ]
    }
   ],
   "source": [
    "frank_str = 'doo be doo be doo...'\n",
    "print(frank_str.find('doo'))\n",
    "print(frank_str.find('doob'))"
   ]
  },
  {
   "cell_type": "markdown",
   "metadata": {},
   "source": [
    "위 코드에서 find 메서드가 호출되면 인수 '부분문자열'이 발견되는 첫번째 위치를 양수 인덱스로 반환.  \n",
    "-1을 반환하면 찾지 못했다는 의미다."
   ]
  },
  {
   "cell_type": "code",
   "execution_count": 64,
   "metadata": {},
   "outputs": [
    {
     "name": "stdout",
     "output_type": "stream",
     "text": [
      "0 7 14 "
     ]
    }
   ],
   "source": [
    "frank_str = 'doo be doo be doo...'\n",
    "n = -1\n",
    "\n",
    "while True:\n",
    "    n = frank_str.find('doo', n + 1)\n",
    "    if n == -1:\n",
    "        break\n",
    "    print(n, end=' ')"
   ]
  },
  {
   "cell_type": "markdown",
   "metadata": {},
   "source": [
    "위코드는 부분문자열이 나타나는 모든 위치를 확보하고 싶을때 루프 안에서 find 메서드를 호출하면 된다.  \n",
    "여기서는 'doo'가 나타나는 모든 위치를 출력한다."
   ]
  },
  {
   "cell_type": "markdown",
   "metadata": {},
   "source": [
    "이 예시는 '시작'인수를 활용하고 있다. find 메섣가 값을 반환하면 검색 시작 위치 n을 하나씩 증가시킴.  \n",
    "이는 다음에 호출될 find 메서드가 새로운 '부분문자열' 인스턴스를 찾는 것을 보장한다.  \n",
    "find 메서드는 검색에 실패하면 -1을 반환 "
   ]
  },
  {
   "cell_type": "markdown",
   "metadata": {},
   "source": [
    "index와 rfind 메서드는 find 메서드와 거의 똑같지만, 몇가지 다른 점이 있다.  \n",
    "index 메서드는 '부분문자열'을 차지 못하면 -1을 반환하지 않고 ValueError를 발생시킨다.  \n"
   ]
  },
  {
   "cell_type": "markdown",
   "metadata": {},
   "source": [
    "rfind 메서드는 '부분문자열'을 뒤에서부터 검색하는데, 기본적으로 문자열의 끝에서 왼쪽으로 검색을 진행.  \n",
    "부분문자열을 역순으로 변경하는것이 아닌 '부분문자열'이 등장하는 마지막 단어의 첫 글자 인덱스 위치를 변경."
   ]
  },
  {
   "cell_type": "code",
   "execution_count": 65,
   "metadata": {},
   "outputs": [
    {
     "name": "stdout",
     "output_type": "stream",
     "text": [
      "14\n"
     ]
    }
   ],
   "source": [
    "frank_str = 'doo be doo be doo...'\n",
    "print(frank_str.rfind('doo'))"
   ]
  },
  {
   "cell_type": "markdown",
   "metadata": {},
   "source": [
    "replace 메서드는 문자열에 포함된 '기존'값을 '신규'값으로 모두 변경한다.  \n",
    "기존 문자열 값을 변경할 수 없기 때문에 새로운 문자열이 생성."
   ]
  },
  {
   "cell_type": "code",
   "execution_count": 67,
   "metadata": {},
   "outputs": [
    {
     "data": {
      "text/plain": [
       "'25 Hues of Gray'"
      ]
     },
     "execution_count": 67,
     "metadata": {},
     "output_type": "execute_result"
    }
   ],
   "source": [
    "title = '25 Hues of Grey'\n",
    "new_title = title.replace('Grey', 'Gray')\n",
    "new_title"
   ]
  },
  {
   "cell_type": "code",
   "execution_count": 68,
   "metadata": {},
   "outputs": [
    {
     "data": {
      "text/plain": [
       "'Grayer Into Gray'"
      ]
     },
     "execution_count": 68,
     "metadata": {},
     "output_type": "execute_result"
    }
   ],
   "source": [
    "title = 'Greyer Into Grey'\n",
    "new_title = title.replace('Grey', 'Gray')\n",
    "new_title"
   ]
  },
  {
   "cell_type": "markdown",
   "metadata": {},
   "source": [
    "### 'split'을 활용한 입력 값 쪼개기  \n",
    "\n",
    "입력받은 문자를 다루는 가장 흔한 작업은 토큰화 이다. 즉, 입력받은 문장을 각 단어, 구, 숫자로 분리하는 것이다.  \n",
    "\n",
    "입력_문자열.split(구분_문자열=None)  \n",
    "이 메서드가 호출되면 '입력_문자열'의 부분 문자열로 이루어진 리스트를 반환한다. '구분_문자열'은 단어를 쪼개는 기준인 구분자로 동작한다.   \n",
    "\n",
    "'구분_문자열'이 생략되거나 None이 설정되면 공백 문자(빈칸, 탭, 개행문자)를 기준으로 토큰을 구분한다."
   ]
  },
  {
   "cell_type": "code",
   "execution_count": 70,
   "metadata": {},
   "outputs": [
    {
     "data": {
      "text/plain": [
       "['Moe', 'Larry', 'Curly', 'Chemp']"
      ]
     },
     "execution_count": 70,
     "metadata": {},
     "output_type": "execute_result"
    }
   ],
   "source": [
    "stooge_list = 'Moe Larry Curly Chemp'.split()\n",
    "stooge_list"
   ]
  },
  {
   "cell_type": "markdown",
   "metadata": {},
   "source": [
    "위처럼 None 혹은 기본인수로 split을 수행하면 공백 문자의 갯수는 상관없다 "
   ]
  },
  {
   "cell_type": "code",
   "execution_count": 71,
   "metadata": {},
   "outputs": [
    {
     "data": {
      "text/plain": [
       "['Moe', '', '', '', 'Larry', 'Culry', '', 'Shemp']"
      ]
     },
     "execution_count": 71,
     "metadata": {},
     "output_type": "execute_result"
    }
   ],
   "source": [
    "stooge_list = 'Moe    Larry Culry  Shemp'.split(' ')\n",
    "stooge_list"
   ]
  },
  {
   "cell_type": "markdown",
   "metadata": {},
   "source": [
    "하지만 '구분_문자열' (' ')이 명시되면 한 문자는 다음 문자와 구분자에 의해서 정확하게 구분되어야 한다."
   ]
  },
  {
   "cell_type": "code",
   "execution_count": 72,
   "metadata": {},
   "outputs": [
    {
     "data": {
      "text/plain": [
       "['Moe', 'Larry', 'Culry', 'Shemp']"
      ]
     },
     "execution_count": 72,
     "metadata": {},
     "output_type": "execute_result"
    }
   ],
   "source": [
    "stooge_list = 'Moe, Larry, Culry, Shemp'.split(', ')\n",
    "stooge_list"
   ]
  },
  {
   "cell_type": "markdown",
   "metadata": {},
   "source": [
    "콤마나 콤마와 빈칸이 합쳐져 있는 경우에는 '구분 문자열'이 정확하게 일치해야 한다 "
   ]
  },
  {
   "cell_type": "code",
   "execution_count": 73,
   "metadata": {},
   "outputs": [
    {
     "data": {
      "text/plain": [
       "['Moe', ' Larry', ' Curly', ' Shemp']"
      ]
     },
     "execution_count": 73,
     "metadata": {},
     "output_type": "execute_result"
    }
   ],
   "source": [
    "stooge_list = 'Moe, Larry, Curly, Shemp'.split(',')\n",
    "stooge_list"
   ]
  },
  {
   "cell_type": "markdown",
   "metadata": {},
   "source": [
    "콤마 기호만 구분자로 사용하면 뒤 3개의 토큰 앞에 여분의 스페이스가 붙어있다."
   ]
  },
  {
   "cell_type": "markdown",
   "metadata": {},
   "source": [
    "### 앞뒤 문자 제거하기  \n",
    "\n",
    "사용자나 텍스트 파일로부터 문자열을 입력받으면 앞뒤에 붙은 빈칸을 제거하여 원하는 형태로 변경해야 하는 경우가 있다.  \n",
    "혹은 문자열을 앞뒤로 감싸고 있는 숫자 '0'이나 다른 문자를 제거해야 하는 경우도 있다.  \n",
    "\n",
    "* 문자열.strip(제거_문자열=' ')   : 앞뒤 문자 지우기\n",
    "* 문자열.lstrip(제거_문자열=' ')  : 앞 문자 지우기\n",
    "* 문자열.rstrip(제거_문자열=' ')  : 뒤 문자 지우기   \n",
    "\n",
    "\n"
   ]
  },
  {
   "cell_type": "markdown",
   "metadata": {},
   "source": [
    "'*+0' 이 주어지면 메서드는 앞뒤의 *을 제거하고, 숫자 0을 제거한 후, +도 제거한다.  \n",
    "문자열 중간에 위치한 제거 대상 문자는 제거하지 않는다. "
   ]
  },
  {
   "cell_type": "code",
   "execution_count": 74,
   "metadata": {},
   "outputs": [
    {
     "data": {
      "text/plain": [
       "'Will Shakes'"
      ]
     },
     "execution_count": 74,
     "metadata": {},
     "output_type": "execute_result"
    }
   ],
   "source": [
    "name_str = '   Will Shakes   '\n",
    "new_str = name_str.strip()\n",
    "new_str"
   ]
  },
  {
   "cell_type": "markdown",
   "metadata": {},
   "source": [
    "### 자리 맞춤 메서드 \n",
    "\n",
    "* 문자열.ljust(길이 [, 채우기_문자]) : 왼쪽 자리 맞춤\n",
    "* 문자열.rjust(길이 [, 채우기_문자]) : 오른쪽 자리 맞춤\n",
    "* 문자열.center(길이 [, 채우기_문자]) : 텍스트를 가운데에 위치\n",
    "* 숫자_문자열.zfill(길이) : 숫자 0채우기"
   ]
  },
  {
   "cell_type": "markdown",
   "metadata": {},
   "source": [
    "* str의 텍스트는 인수 '길이' 크기에 명시한 더 큰 출력 필드에 위치한다.  \n",
    "* 문자열 텍스트가 주어진 '길이' 보다 짧다면 텍스트는 메서드에 따라 왼쪽, 오른쪽 혹은 가운데로 이동한다.  center 메서드는 문자열 텍스트가 완벽하게 가운데에 위치할 수 없는 경우 왼쪽에 치우치게 문자열 텍스트를 이동시킨다.  \n",
    "\n",
    "* 문자열 텍스트를 제외한 나머지는 '채우기_문자'로 채워진다. '채우기_문자'를 명시하지 않으면 기본값은 빈칸"
   ]
  },
  {
   "cell_type": "code",
   "execution_count": 75,
   "metadata": {},
   "outputs": [
    {
     "data": {
      "text/plain": [
       "'##Help!###'"
      ]
     },
     "execution_count": 75,
     "metadata": {},
     "output_type": "execute_result"
    }
   ],
   "source": [
    "new_str = 'Help!'.center(10, '#')\n",
    "new_str"
   ]
  },
  {
   "cell_type": "code",
   "execution_count": 76,
   "metadata": {},
   "outputs": [
    {
     "data": {
      "text/plain": [
       "'000750'"
      ]
     },
     "execution_count": 76,
     "metadata": {},
     "output_type": "execute_result"
    }
   ],
   "source": [
    "new_str = '750'.rjust(6, '0')\n",
    "new_str"
   ]
  },
  {
   "cell_type": "code",
   "execution_count": 77,
   "metadata": {},
   "outputs": [
    {
     "name": "stdout",
     "output_type": "stream",
     "text": [
      "0000012\n"
     ]
    }
   ],
   "source": [
    "s = '12'\n",
    "print(s.zfill(7))"
   ]
  },
  {
   "cell_type": "markdown",
   "metadata": {},
   "source": [
    "zfill 메서드는 rjust의 기능을 단순화 한것이 아니다. \n",
    "대신 zfill을 사용하면 채워진'0'은 숫자 일부가 되며, '0'은 숫자와 기호 사이에 위치한다. "
   ]
  },
  {
   "cell_type": "code",
   "execution_count": 78,
   "metadata": {},
   "outputs": [
    {
     "data": {
      "text/plain": [
       "'-0003'"
      ]
     },
     "execution_count": 78,
     "metadata": {},
     "output_type": "execute_result"
    }
   ],
   "source": [
    "'-3'.zfill(5)"
   ]
  },
  {
   "cell_type": "code",
   "execution_count": 79,
   "metadata": {},
   "outputs": [
    {
     "data": {
      "text/plain": [
       "'000-3'"
      ]
     },
     "execution_count": 79,
     "metadata": {},
     "output_type": "execute_result"
    }
   ],
   "source": [
    "'-3'.rjust(5, '0')"
   ]
  }
 ],
 "metadata": {
  "kernelspec": {
   "display_name": "tabnet",
   "language": "python",
   "name": "python3"
  },
  "language_info": {
   "codemirror_mode": {
    "name": "ipython",
    "version": 3
   },
   "file_extension": ".py",
   "mimetype": "text/x-python",
   "name": "python",
   "nbconvert_exporter": "python",
   "pygments_lexer": "ipython3",
   "version": "3.8.19"
  }
 },
 "nbformat": 4,
 "nbformat_minor": 2
}

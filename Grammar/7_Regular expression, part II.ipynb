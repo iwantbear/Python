{
 "cells": [
  {
   "cell_type": "markdown",
   "metadata": {},
   "source": [
    "### 고급 정규표현식 문법의 요약  \n",
    "\n",
    "* (?:expr) : 태그가 없는 그룹, epxr을 하나의 단위로 다루지만, 실행 시간에 일치하는 문자에 태그를 남기지 않는다. 문자는 일치 조건에 만족하더라도 그룹으로 기록되지는 않음.  \n",
    "* expr?? : ?연산자의 게으른 버전  \n",
    "* expr*? : 게으른 일치를 사용하여 expr이 나타나지 않게 하거나 혹은 여러 번 나타나는지 확인한다. (가령 패턴 <.*?>는 산형괄호가 열리고 닫히는 첫 번째 산형괄호 쌍에서 멈춘다. 이후에 나타나는 태그들은 일치 유무를 판단하지 않는다.)  \n",
    "* expr*? : 게으른 일치를 사용하여 expr이 한 번 이상 나타나는지 확인한다. 일치하는 대상 문자열을 한 가지 이상 제공하는데, 가능한 한 적은 개수의 문자를 대상으로 일치 유무를 판단한다. \n",
    "* expr{m}?, expr{m,n}? : {m}rhk {m,n} 연산자의 게으른 버전. 첫 번째 구문의 게으른 버전 expr{m}?은 탐욕적 버전과 똑같이 동작하지만 전체 문법을 언급하기 위해 포함했다.  \n",
    "* (?=expr) : 긍정적 전방탐색. 만약 expr이 바로 다음에 나타나면 전체 표현식은 일치한다. 한편 이런 문자들은 '소비'되지도 않고, 태그로 남지도 않는다. 단 다음 정규표현식 연산이 읽어야 하는 대상이 된다.  \n",
    "* (?!expr) : 부정적 전방탐색. 만약 expr이 바로 다음에 나타나지 않으면 일치한다. 한편 이런 문자들은 소비되거나 태그로 남지도 않기 때문에 다음 정규표현식 일치 혹은 검색 연산을 수행하는 대상이 된다. \n",
    "* (?<=expr) : 긍정적 후방탐색. 전체 표현식은 고정 길이인 expr이 바로 앞에 나타나면 일치한다. 이 기능은 적절한 수의 문자를 임시로 기억하고 있다가 필요하면 다시 읽는다. 이렇게 다시 읽은 문자에는 태그가 붙지 않는다.  \n",
    "예를 들어 표현식 (?<=abc)def는 abcdef 내의 문자 def와 일치한다. 실제로는 def만 일치하며, 문자 abc는 일치 대상 문자열로 처리되지 않는다. 이 패턴은 \"abc가 앞에 오는 경우에만 def와 일치한다.\"라는 의미이다  \n",
    "* (?<!expr) : 부정적 후방탐색. 전체 표현식은 고정 길이인 expr이 바로 앞에 나타나지 않으면 일치한다. 이 기능은 적절한 수의 문자를 임시로 기억하고 있다가 필요함ㄴ 다시 읽는다. 이렇게 다시 읽은 문자에는 태그가 붙지 않는다.  \n",
    "* (?P\\<name>expr) : 명명 그룹. expr이 일치하면 전체 표현식이 일치한다. 결과적으로 일치하는 그룹은 태그가 붙으면서 이름이 주어지며, 다른 표현식에서 그 이름으로 참조할 수 있다.  \n",
    "* (?P=name) ; 명명 그룹 테스트. 이 표현식은 해당 명명 그룹이 이미 존재하면 긍정적으로 '일치'한다.  \n",
    "* (#text) : 주석. 정규푷ㄴ식 안에 나타날 수 있지만, 정규표현식 검사기가 내용을 해석 하지 않고 무시한다.  \n",
    "\n",
    "* 밑에 있는 구문들은 조건적 일치. 명명 그룹이 이미 존재하고 식별이 되었다면 이 표현식은 긍정 패턴인 'yes_pat' 패턴과의 일치를 찾는다. 그렇지 않으면 부정 패턴인 'no_pat' 패턴을 찾는다. 'id'는 식별된 그룹의 숫자다.  \n",
    "\n",
    "* (?(name)yes_pat|no_pat)\n",
    "* (?(name)yes_pat)\n",
    "* (?(id)yes_pat|no_pat)\n",
    "* (?(id)yes_pat)  \n",
    "\n",
    "위 표에서 name은 심벌릭 이름을 짓는 표준 규칙에 따라 다른 이름과 충돌하지 않는 어떤 이름도 사용할 수 있다. "
   ]
  },
  {
   "cell_type": "markdown",
   "metadata": {},
   "source": [
    "### 태그를 남기지 않는 그룹  \n",
    "\n",
    "고급 정규표현식 연산 중 하나는 표현식을 태그하지 않고 그룹에 넣는 것이다. 문자를 그룹 안에 넣으려는 이유는 다양하다. 하지만 실행 시간에 일치하는 그룹의 문자를 기록하는 태깅은 별도 기능이므로 꼭 함께 수행하지 않아도 된다. 떄떄로 둘 중 하나만 필요한 경우도 있다. "
   ]
  },
  {
   "cell_type": "markdown",
   "metadata": {},
   "source": [
    "##### 표준 숫자 예시  \n",
    "\n",
    "천 단위 그룹 구분자(,)를 포함한 미국식 포맷으로 작성된 숫자만 허용하는 패턴을 어떻게 만드는지 보여주었다.  \n",
    "\n",
    "r'\\d{1,3}(,\\d{3})\\*(\\\\.\\d*)?'  \n",
    "\n",
    "이 코드에 줄-종료 기호($)를 덧붙이면 이 패턴은 패턴에 명시된 문자 개수와 정확하게 일치하게 된다. 동시에 유효한 숫자를 담고 있지 않은 모든 문자열은 거부한다.  \n",
    "\n",
    "\n",
    "r'\\d{1,3}(,\\d{3})\\*(\\\\.\\d*)?$'  \n",
    "\n",
    "이 패턴과 함께 re.match 함수를 사용하면 다음 문자열들을 검사한 결과는 참이다.  \n",
    "\n",
    "* 12,000,330 \n",
    "* 1,001\n",
    "* 0.51 \n",
    "* 0.99999  \n",
    "\n",
    "하지만 다음 문자열들은 검사를 통과하지 못한다.  \n",
    "\n",
    "* 1,00000\n",
    "* 12,,1\n",
    "* 0..5.7  \n",
    "\n",
    "여러 숫자를 찾을 수 있는 re.findall과 이 정규표현식 패턴을 함께 성공적으로 사용하려면 두 가지 조건을 만족해야 한다.  \n",
    "\n",
    "첫번째로 패턴은 단어 경계(\\b)로 끝나야 한다. 그렇지 않으면 함께 붙어 있는 두 숫자와 일치하게 되는데, 그러면 불행하게도 다음과 같이 유효하지 않은 하나의 긴 숫자와 일치하는 결과를 반환하게 된다.  \n",
    "\n",
    "1,20010  \n",
    "\n",
    "1,20010은 잘못된 숫자이지만 일치한다고 판단한다. findall에 현재 패턴을 사용하면 1,200을 허용한 후 10또한 허용하기 때문이다.  \n",
    "해결책은 단어-종료 메타 문자인 \\b를 사용하는 것이다. 정확하게 일치하는 문자를 찾으려면 정규표현식 검사기에서 단어가 종료되었는지 확인해야 한다. 빈칸, 구두점 기호, 개행 혹은 문자열끝 도달 등으로 단어가 종료되었는지를 판단할 수 있다.  \n",
    "\n",
    "태그가 붙은 그룹 이슈는 여전히 남아 있다. 문제는 다음과 같은 문자열(이제 단어 경계가 포함)로 모든 하위 패턴을 표현하려면 그룹화가 필요하다는 점이다.  \n",
    "\n",
    "r'\\d{1,3}(,\\d{3})\\*(\\\\.\\d*)?\\b'  \n",
    "\n",
    "이 패턴을 자세히 살펴보면  \n",
    "\n",
    "* 문자 \\d{1,3}은 '1과 3 사이의 수자와 일치한다.' 라는것을 의미한다.  \n",
    "* 문자 (,\\d{3})*는 '정확하게 3개의 숫자가 뒤따르는 콤마 기호와 일치한다.' 라는 것을 의미한다. 일치 문자는 전체 표현식이 한 부분이 아니라, 0 혹은 여러 번 등장할 때 일치하기 때문에 반드시 그룹이어야 한다. \n",
    "* 문자 (\\.\\d*)? 는 '0개 혹은 여러 개의 숫자가 뒤따르는 리터럴 점 기호(.)와 일치한다. 하지만 전체 그룹과의 일치는 선택 사항이다.'를 의미한다. 전체 그룹 문자는 일치하지 않거나 여러 번 일치할 수 있다. \n"
   ]
  },
  {
   "cell_type": "markdown",
   "metadata": {},
   "source": [
    "##### 태깅 문제 고치기  \n",
    "\n",
    "기본적으로 그룹화는 실행 시간 동안에 일치한 문자를 그룹의 태그로 기록한다. 일반적으로 이런 동작은 문제가 되지 않는데 태그가 붙은 문자 그룹은 re.findall의 동작을 변경하기 때문에 문제가 된다.  \n",
    "\n",
    "* (?:expr)  \n",
    "\n",
    "이 문법은 expr을 하나의 단위로 인식하지만 패턴이 일치했을때, 일치한 문자를 태그로 남기지 않는다. 이 방법을 다르게 설명하면 '그룹을 태그 없이 만들려면 동일한 패턴에는 왼쪽 소괄호 기호 바로 다음에 ? 를 삽입하라.'이다  \n"
   ]
  },
  {
   "cell_type": "code",
   "execution_count": 1,
   "metadata": {},
   "outputs": [
    {
     "name": "stdout",
     "output_type": "stream",
     "text": [
      "12,000\n",
      "100\n",
      "53.12\n"
     ]
    }
   ],
   "source": [
    "import re \n",
    "\n",
    "pat = r'\\d{1,3}(?:,\\d{3})*(?:\\.\\d*)?\\b'\n",
    "s = '12,000 monkeys on 100 typewriters for 53.12 days.'\n",
    "lst = re.findall(pat, s)\n",
    "for item in lst:\n",
    "    print(item)"
   ]
  },
  {
   "cell_type": "markdown",
   "metadata": {},
   "source": [
    "위 코드처럼 이 태깅이 없는 패턴은 re.findall 과는 무관하게 아무 문제없이 사용할 수 있다. "
   ]
  },
  {
   "cell_type": "markdown",
   "metadata": {},
   "source": [
    "### 탐욕적 일치 vs 게으른 일치  \n",
    "\n",
    "정규표현식 문법의 중요한 세부 사항 중 하나는 탐욕적 일치와 탐욕적이지 않은 일치의 차이에 관한 이슈다. 탐욕적이지 않은 일치는 '게으른' 일치라고도 불린다.  \n",
    "\n",
    "이 차이점을 간단한 예시로 살펴보자. HTML 헤더에서 특정 텍스트를 찾거나 일치 유무를 확인한다고 가정해보자. 정규표현식 검사기는 다음 문장과 같은 텍스트 1줄을 읽었다.  \n",
    "\n",
    "* the_line = '\\<h1>This is an HTML heading.\\</h1>'  \n",
    "\n",
    "산형괄호 안의 텍스트 문자열을 찾고 싶다고 하자. 산형괄호는 특수 문자가 아니므로 정규표현식 검색 패턴을 쉽게 만들 수 있다. 첫번째 시도는 다음과 같다.  \n",
    "\n",
    "* pat = r'<.*>' "
   ]
  },
  {
   "cell_type": "code",
   "execution_count": 2,
   "metadata": {},
   "outputs": [
    {
     "name": "stdout",
     "output_type": "stream",
     "text": [
      "<h1>This is an HTML heading.</h1>\n"
     ]
    }
   ],
   "source": [
    "import re  \n",
    "\n",
    "pat = r'<.*>'\n",
    "the_line = '<h1>This is an HTML heading.</h1>'\n",
    "m = re.match(pat, the_line)\n",
    "print(m.group())\n"
   ]
  },
  {
   "cell_type": "markdown",
   "metadata": {},
   "source": [
    "우리가 원하는 결과는 텍스트 \\<h1> 이지만 정규표현식 연산은 텍스트 전체가 일치한다고 알려주고 있다.  \n",
    "그 이유는 별표기호(*)가 일치하는 문자가 없거나 여러 번 나타난다는 것을 의미하며, 게으른 일치 대신 탐욕적 일치를 사용했기 때문이다. 탐욕적 일치는 '패턴과 일치하는 텍스트가 여러 개라면 가능한 한 많은 텍스트와 일치하는 것을 선택한다.'라고 말한다.  문자열을 다시 보자  \n",
    "\n",
    "'\\<h1>This is an HTML heading.\\</h1>'  \n",
    "\n",
    "검색 패턴 안에 첫 번째 문자는 리터럴 문자 < 이며, 이는 대상 문자열의 첫 번재 열린 산형괄호와 일치한다. 표현식 나머지는 '임의의 개수인 문자와 일치한 후 닫힌 산형괄호(>)와 일치한다.' 라고 할 수 있다. 그런데 이 조건을 만족하는 방법이 두 가지다.  \n",
    "\n",
    "* 마지막 문자까지 나열한 모든 문자와 일치하고, 두 번째와 마지막에 있는 닫힌 산형괄호(>)와 일치한다(탐욕적 일치).  \n",
    "* 2개의 문자 h1과 일치한 후 첫 번째 닫힌 산형괄호(>)와 일치한다 (게으른 일치)  \n",
    "\n",
    "이 경우 일치 유무를 확인하는 모든 시도가 성공한다.  \n",
    "만약 일치하는 부분 문자열 하나만 찾는다면 정규표현식 검사기는 유효한 일치를 찾기 위해 앞뒤로 검색을 계속할 것이다.  \n",
    "하지만 일치하는 부분 문자열을 1개 이상 찾는다면 탐욕적 일치와 게으른 일치의 결과는 다르게 나타난다.  \n",
    "\n",
    "* Greedy : <.*>\n",
    "* Non-Greedy : <.*?>  \n",
    "\n",
    "게으른 일치를 명시하기 위해서는 별표 기호 혹은 더하기 기호 바로 뒤에 물음표 기호를 넣으면 된다.  \n",
    "\n",
    "* expr??\n",
    "* expr*?\n",
    "* expr+?  \n",
    "\n",
    "예를 들어 패턴 expr*?는 표현식 expr이 0개 이상의 인스턴스와 일치하는지 확인하지만 탐욕적 방식 대신 게으른 방식을 사용한다.  \n",
    "\n",
    "만약 이번 사례에서 게으른 일치를 사용한다면 전체 문자열 대신 4개 혹은 5개의 문자만 일치할 것이다. 올바른 패턴은 다음과 같다  \n",
    "\n",
    "* pat = r'<.*?>'"
   ]
  },
  {
   "cell_type": "code",
   "execution_count": 3,
   "metadata": {},
   "outputs": [
    {
     "name": "stdout",
     "output_type": "stream",
     "text": [
      "<h1>\n"
     ]
    }
   ],
   "source": [
    "import re  \n",
    "\n",
    "pat = r'<.*?>'\n",
    "the_line = '<h1>This is an HTML heading.</h1>'\n",
    "m = re.match(pat, the_line)\n",
    "print(m.group())"
   ]
  },
  {
   "cell_type": "markdown",
   "metadata": {},
   "source": [
    "다음 예시의 문자열은 원시 문자열과 여러 줄의 텍스트 파일 내용을 표현하기 위해 리터럴 문자열 표기법(''')을 사용했다. "
   ]
  },
  {
   "cell_type": "code",
   "execution_count": 4,
   "metadata": {},
   "outputs": [
    {
     "name": "stdout",
     "output_type": "stream",
     "text": [
      "There are 6 tags.\n"
     ]
    }
   ],
   "source": [
    "import re  \n",
    "\n",
    "s = r'''<h1>This is the first heading.</h1>\n",
    "<h1>This is the second heading.</h1>\n",
    "<b>This is in bold.</b>'''\n",
    "\n",
    "pat = r'<.*?>'\n",
    "lst = re.findall(pat, s, flags=re.DOTALL)\n",
    "print('There are', len(lst), 'tags.')\n"
   ]
  },
  {
   "cell_type": "markdown",
   "metadata": {},
   "source": [
    "위코드는 HTML 태그의 숫자를 세고 싶다고 가정했을때, re.findall과 함께 게으른 일치를 사용한 예시이다. "
   ]
  },
  {
   "cell_type": "code",
   "execution_count": 5,
   "metadata": {},
   "outputs": [
    {
     "name": "stdout",
     "output_type": "stream",
     "text": [
      "There are 1 tags.\n"
     ]
    }
   ],
   "source": [
    "import re  \n",
    "\n",
    "s = r'''<h1>This is the first heading.</h1>\n",
    "<h1>This is the second heading.</h1>\n",
    "<b>This is in bold.</b>'''\n",
    "\n",
    "pat = r'<.*>'\n",
    "lst = re.findall(pat, s, flags=re.DOTALL)\n",
    "print('There are', len(lst), 'tags.')\n"
   ]
  },
  {
   "cell_type": "markdown",
   "metadata": {},
   "source": [
    "위 코드는 탐욕적 일치를 사용한 예시이기 때문에 첫 번째 왼쪽 산형괄호 <와 일치한 후 마지막 최종 오른쪽 산형괄호 >에 도달할때까지 모든 문자가 일치한다고 인식한다. "
   ]
  },
  {
   "cell_type": "markdown",
   "metadata": {},
   "source": [
    "밑의 예시는 게으른 일치를 사용하여 텍스트 파일 안에 있는 문장의 개수가 몇 개인지 세는 코드이다. 문장의 개수를 정확하게 세려면 마침표 기호 혹은 문장의 끝을 의미하는 구두점 기호가 나올때까지의 문자와 일치한다고 명시해야 한다.  "
   ]
  },
  {
   "cell_type": "code",
   "execution_count": 6,
   "metadata": {},
   "outputs": [
    {
     "name": "stdout",
     "output_type": "stream",
     "text": [
      "There are 3 sentences.\n"
     ]
    }
   ],
   "source": [
    "import re \n",
    "\n",
    "s = '''Here is a single sentence. Here is \n",
    "another sentece, ending in a period. And\n",
    "here is yet another.'''\n",
    "\n",
    "pat = r'.*?[.?!]'\n",
    "lst = re.findall(pat, s, flags=re.DOTALL)\n",
    "print('There are', len(lst), 'sentences.')"
   ]
  },
  {
   "cell_type": "markdown",
   "metadata": {},
   "source": [
    "### 전방탐색 기능  \n",
    "\n",
    "앞에 소개한 문장-개수-세기 예시를 자세히 들여다보면 약어가 문제를 일으킨다. 점 기호(.)를 사용하는 일부 약어가 문장의 끝을 의미하지 않기 때문이다.  \n",
    "\n",
    "The U.S.A has many people.  \n",
    "\n",
    "이 예시는 문장 하나만 가지고 있지만, 지난 절의 끝에서 사용한 코드를 사용하면 이 텍스트에 문장이 4개가 있다고 보고할 것이다. 잠재적으로 문제가 발생할 또 다른 경우는 다음과 같이 소수점을 사용하는 경우다.  \n",
    "\n",
    "The U.S.A has 310.5 million pepple.  \n",
    "\n",
    "이런 경우를 대비하여 문장을 제대로 인식하는 패턴을 정의하려면 새로운 조건들이 필요하다. 이 조건들은 문장을 제대로 인식하지 못하는 규칙 대신 '전방탐색' 규칙을 사용할 수 있다.  \n",
    "\n",
    "(?=expr)  \n",
    "\n",
    "정규표현식 검사기는 현재 위치 바로 다음 문자를 expr과 비교해서 전방탐색 패턴에 응답한다. 만약 expr이 해당 문자들과 일치하면 일치한다고 판단한다. 그렇지 않으면 일치 하지 않는다고 판단한다.  \n",
    "\n",
    "expr의 문자들은 태그되지 않는다. 게다가 소비되지도 않는다. 이는 해당 문자열을 다른 문자열 데이터의 '뒤로 밀어 넣기' 하여 정규표현식 검사기가 다시 읽어야 할 대상으로 만든다는 것을 의미한다.  \n",
    "더 긴 텍스트 문자열에서 문장을 제대로 읽기 위해 필요한 조건들을 나열해보자.  \n",
    "우선 대문자를 찾는 것으로 문자를 읽기 시작한다.  \n",
    "그러고 나서 다음 조건 중 하나라도 만족하면 다음 시도까지 게으른 일치를 사용하여 문자를 읽는다.  \n",
    "\n",
    "* 다른 대문자가 뒤따르는 빈칸이 나타난다.  \n",
    "* 문자열의 끝이 나타난다.  \n",
    "\n",
    "만약 정규표현식 검사기가 스캔을 시도했으나 이 조건들에 만족하지 못하면 문장의 끝에 도달했다고 보지 않는다. 바로 이런 경우가 약어나 소수점을 만난 것과 같은 상황이다. 이 규칙을 구현하기 위해 전방탐색 능력을 활용해야 한다.  \n",
    "\n",
    "정확한 정규표현식 검색 패턴은 다음과 같다.  \n",
    "\n",
    "r'[A-Z].*?[.!?](?= [A-Z]|$)'  \n",
    "\n",
    "* [A-Z] : 반드시 대문자를 읽어야 함.  \n",
    "* .*? : '모든 문자와 일치한다.'의미, 물음표 기호가 .\\* 다음에 나타나며, 게으른 일치를 수행한다. 또 이 표현식은 문장이 언제든지 끝날 수 있다는 것을 의미  \n",
    "* [.!?] : 문장의 끝 조건\n",
    "* (?= [A-Z]|$) : 이 조건에 맞는 문자를 만나지 못하면 문장은 끝난 것이 아니며, 정규표현식 검사기는 멈추지 않고 다음 텍스트를 읽는다. 표현식은 '다음 문자(s)는 반드시 대문자가 뒤따르는 빈칸이거나 문자열 끝 문자다.' 라고 말한다.  \n",
    "\n",
    "문장의 마지막 문자를 읽는것 (이 경우는 구두점 기호)과 전방탐색 조건의 문자 사이에는 중요한 차이점이 있다. 전방탐색 조건에 만족하는 글자는 문장의 일부가 아니라는 점이다.  "
   ]
  },
  {
   "cell_type": "code",
   "execution_count": 9,
   "metadata": {},
   "outputs": [
    {
     "name": "stdout",
     "output_type": "stream",
     "text": [
      "-> See the U.S.A today.\n",
      "-> It's right here, not\n",
      "a world away.\n",
      "-> Average temp. is 66.5.\n"
     ]
    }
   ],
   "source": [
    "import re \n",
    "\n",
    "s = '''See the U.S.A today. It's right here, not\n",
    "a world away. Average temp. is 66.5.'''\n",
    "\n",
    "pat = r'[A-Z].*?[.!?](?= [A-Z]|$)'\n",
    "m = re.findall(pat, s, flags=re.DOTALL | re.MULTILINE)\n",
    "\n",
    "for i in m:\n",
    "    print('->', i)"
   ]
  },
  {
   "cell_type": "markdown",
   "metadata": {},
   "source": [
    "하나의 문장 안에 개행 문자가 있음에도 불구하고, 정확하게 3개의 문장을 인식했다.  \n",
    "\n",
    "re.DOTALL 플래그는 '개행 문자를 '.*' 혹은 '.+'를 사용할때 처럼 '.'표현식의 부분으로 여긴다.'로 동작하게 지시한다.  \n",
    "\n",
    "MULTILINE 플래그는 '$가 개행 문자를 문자열-종료 조건과 같이 인식한다.'로 동작하게 한다.  \n",
    "\n",
    "이번 예시는 두 플래그를 함께 설정하여 개행문자(\\n)가 두 조건에 모두 일치하게 했다. 만약 MULTILINE 플래그가 설정되어 있지 않다면 이 패턴은 다음 예시와 같이 개행 문자가 점 바로 뒤에 나타나면 완전한 문장을 읽지 못할 것이다.  \n",
    "\n",
    "To be or not to be.  \n",
    "That is the question.  \n",
    "So says the Bard.  \n",
    "\n",
    "MULTILINE 플래그를 설정하지 않으면 전방탐색 조건은 실패할 것이다.  이 전방탐색 조건은 '문장이 끝난 뒤 대문자가 따라오는 빈칸을 찾거나 문자열의 끝과 일치한다.' 라는 것을 의미한다. 이 플래그는 문자열의 종료와 같이 줄의 종료도 일치하는 전방탐색을 가능하게 한다.  \n",
    "\n",
    "만약 일반 조건 표현식 패턴이면 어떻게 될까? 일반적인 방식으로 작성한 패턴은 다음과 같다.  \n",
    "\n",
    "r'[A-Z].*?[.!?] [A-Z]|$'  \n",
    "\n",
    "똑같은 패턴이지만, 마지막 부분이 전방탐색 조건으로 작성되지 않았다.  \n",
    "\n",
    "문제는 다음과 같다. (대문자가 뒤에 붙은 빈칸을 찾는) 마지막 조건이 전방탐색 조건이 아니기 때문에 그 자체가 문장의 부분으로 읽힌다. 다음 문자열의 시작 부분을 살펴보자.  \n",
    "\n",
    "See the U.S.A. today. It's right here, not  \n",
    "\n",
    "만약 전방탐색을 사용하지 않는다면, It's의 대문자 I는 첫 문장의 일부로 읽힐 것이다.  \n",
    "문장 일치가 실패했기 때문에 대문자 I를 두 번째 문장의 시작으로 인식하지 않는다.  \n"
   ]
  },
  {
   "cell_type": "code",
   "execution_count": 10,
   "metadata": {},
   "outputs": [
    {
     "name": "stdout",
     "output_type": "stream",
     "text": [
      "-> See the U.S.A. today. I\n",
      "-> \n"
     ]
    }
   ],
   "source": [
    "import re  \n",
    "\n",
    "s = '''See the U.S.A. today. It's right here, not'''\n",
    "pat = r'[A-Z].*?[.!?] [A-Z]|$'\n",
    "m = re.findall(pat, s, flags=re.DOTALL)\n",
    "\n",
    "for i in m:\n",
    "    print('->', i)"
   ]
  },
  {
   "cell_type": "markdown",
   "metadata": {},
   "source": [
    "위 예시에서 첫번째 문장을 읽을 때, 이 패턴은 대문자가 뒤에 오는 빈칸을 확인해야 한다. 그렇지 않으면, 빈칸과 대문자 I는 첫 번째 문장의 일부라고 인식하게 된다. 이 문자들은 소비되며, 다음문장을 찾으려고 할때는 읽을 수가 없다. 그리고 나머지는 모두 버려진다."
   ]
  },
  {
   "cell_type": "markdown",
   "metadata": {},
   "source": [
    "### 다중 패턴 확인하기(전방탐색)  \n",
    "\n",
    "간혹 여러가지 조건을 확인해야 하는 경우에 종종 문제가 발생하기도 한다. 예를 들어 여러 테스트를 통과해아 하는 사용자 입력이 이런 경우다. 모든 테스트를 통과해야만 데이터가 검증된다.  \n",
    "\n",
    "6장에서 충분히 강한 비밀번호 규칙을 지켰는지 테스트 하는 문제를 다루었는데 모든 조건에 만족하는 비밀번호만 허용된다. 해당 조건들을 다시 한 번 살펴보자. 비밀번호는 반드시 다음 조건을 만족해야 한다.  \n",
    "\n",
    "* 8 ~ 12개의 문자이어야 한다. 각 문자는 글자, 숫자 혹은 구두점 문자만 가능하다.  \n",
    "* 최소한 1개 이상의 글자가 포함되어야 한다. \n",
    "* 최소한 1개 이상의 숫자가 포함되어야 한다. \n",
    "* 최소한 1개 이상의 구두점 문자가 포함되어야 한다.  \n",
    "\n",
    "앞 장에서 제공한 해결방안은 4개의 다른 패턴을 각각 re.match와 함께 호출하여 각 조건을 테스트 하는 방식이었다.  \n",
    "이 방식도 동작하겠지만, 전방탐색을 사용하여 동일한 큰 패턴 안에 여러 일치 조건을 넣는 것이 더욱 효율적이다. 그러면 re.match를 한 번만 호출할 수 있게 된다. "
   ]
  },
  {
   "cell_type": "code",
   "execution_count": 11,
   "metadata": {},
   "outputs": [
    {
     "name": "stdout",
     "output_type": "stream",
     "text": [
      "It passed the test!\n"
     ]
    }
   ],
   "source": [
    "import re \n",
    "\n",
    "pat1 = r'(\\w|[!@#$%^&*+-]){8,12}$'\n",
    "pat2 = r'(?=.*[a-zA-Z])'\n",
    "pat3 = r'(?=.*\\d)'\n",
    "pat4 = r'(?=.*[!@#$%^&*+-])'\n",
    "\n",
    "pat = pat2 + pat3 + pat4 + pat1\n",
    "\n",
    "passwd = 'HenryThe5!'\n",
    "if re.match(pat, passwd):\n",
    "    print('It passed the test!')\n",
    "else:\n",
    "    print('Insufficiently strong password.')"
   ]
  },
  {
   "cell_type": "markdown",
   "metadata": {},
   "source": [
    "첫번째 패턴을 제외한 나머지 패턴들은 전방탐색 문법을 사용하고 있다.  \n",
    "이 문법은 일치하는 패턴을 찾지만, 검사한 문자를 소비하지는 않는다. 그러므로 pat2, pat3, pat4를 전체 패턴 앞쪽에 위치하면 정규표현식 검사기는 모든 조건을 확인할 것이다.  \n",
    "\n",
    "'HenryThe5!'는 글자,숫자,구두점 기호(!)를 지니고 있기 때문에 충분히 강한 비밀번호 테스트를 통과한 것을 알 수 있다.  "
   ]
  },
  {
   "cell_type": "markdown",
   "metadata": {},
   "source": [
    "### 부정적 전방탐색  \n",
    "\n",
    "전방탐색 기능은 다음과 같이 동작한다. '이 패턴은 오직 다음 차례에 읽을 문자가 특정 하위 패턴과 일치하는 경우에만 성공한다. 또한, 어떤 경우에도 전방탐색으로 일치한 문자는 소비되지 않으며, 읽을 대상으로 남겨진다.'  \n",
    "\n",
    "'부정적 전방탐색'은 다음 문자가 특정 하위 패턴에 일치하지 않았을 때 성공한다. 실패해야만 전체 일치가 성공한다는 것이다. 듣는 것만큼 그리 복잡한 개념은 아니다.  \n",
    "\n",
    "* (?!expr)  \n",
    "\n",
    "부정적 전방탐색 문법은 다음과 같이 동작한다. \"읽을 다음 문자가 expr과 일치하지 않는 경우에만 일치를 허용한다. 어떤 경우라도 전방탐색 문자는 소비되지 않으며, 다음 일치 수행 시 읽을 대상으로 남는다.\"  \n",
    "\n",
    "예시를 살펴보자. 다음 패턴은 abc와 일치하지만 그 뒤로 abc가 나타나면 안된다.  \n",
    "\n",
    "pat = r'abc(?!abc)'  \n",
    "\n",
    "다음 문자열을 검색하기 위해 re,findall을 사용하면 정확하게 하나의 abc를 찾을 것이다.  \n",
    "\n",
    "s = 'The magic of abcabc.'  \n",
    "\n",
    "이 예시에서 두번째 abc를 찾기는 하지만 첫 번째가 아니다. 이 검색은 전방탐색 연산이기 때문에 두 번째 abc를 소비하지 않으며, 읽을 대상으로 남겨진다. 그렇지 않으면 이 abc는 찾을 수 없을 것이다.  "
   ]
  },
  {
   "cell_type": "code",
   "execution_count": 12,
   "metadata": {},
   "outputs": [
    {
     "data": {
      "text/plain": [
       "['abc']"
      ]
     },
     "execution_count": 12,
     "metadata": {},
     "output_type": "execute_result"
    }
   ],
   "source": [
    "import re  \n",
    "\n",
    "pat = r'abc(?!abc)'\n",
    "s = 'The magic of abcabc.'\n",
    "m = re.findall(pat, s)\n",
    "m"
   ]
  },
  {
   "cell_type": "markdown",
   "metadata": {},
   "source": [
    "위 코드에서는 \"또 다른 'abc'가 바로 뒤에 붙지 않는 'abc'와 일치한다.\"로 동작하기 때문에 'abc' 1개를 갖는 그룹 1개를 출력한다.  "
   ]
  },
  {
   "cell_type": "code",
   "execution_count": 13,
   "metadata": {},
   "outputs": [
    {
     "data": {
      "text/plain": [
       "['ABC']"
      ]
     },
     "execution_count": 13,
     "metadata": {},
     "output_type": "execute_result"
    }
   ],
   "source": [
    "import re  \n",
    "\n",
    "pat = r'abc(?!abc)'\n",
    "s = 'The magic of abcABC.'\n",
    "m = re.findall(pat, s, flags=re.I)\n",
    "m"
   ]
  },
  {
   "cell_type": "markdown",
   "metadata": {},
   "source": [
    "위 코드에서는 2개의 'abc'를 구분하기 위해 두 번째 'abc'를 대문자로 바꾸고, IGNORECASE 플래그를 설정한다.  \n",
    "\n",
    "결과를 확인해보니 (대문자인) 두 번째 'abc'만이 일치했다. 첫 번째 그룹이 선택되지 ㅇ낳은 이유는 소문자이기 때문이 아니라, 부정적 전방탐색 조건(\"찾은 'abc' 바로 뒤에 또 다른 'abc'가 오면 안된다.\")를 사용했기 떄문이다.  \n"
   ]
  },
  {
   "cell_type": "markdown",
   "metadata": {},
   "source": [
    "앞 절에서 살펴본 긍정적 전방탐색을 사용하여 약어와 소수점을 제대로 구별하면서 완전한 문장을 인식하는지 확인해 보자.  \n",
    "다음 테스트 데이터를 문장 스캐너에 전달하여 제대로 인식하는지 확인해보겠다.  \n",
    "\n",
    "s = '''See the U.S.A. today. It's right here, not\n",
    "a word away. Average temp. is 70.5.'''  \n",
    "\n",
    "문장 끝에 도달하여 긍정적 전방탐색 조건을 확인하는 대신 부정적 조건을 명시하여 유사한 결과를 얻을 수 있다.  \n",
    "문장 끝을 인식하기 위해 점기호(.)는 반드시 다음 조건을 만족하면 안 된다.  \n",
    "\n",
    "* 소문자 혹은 숫자가 뒤따르는 빈칸  \n",
    "* 모든 문자숫자식 문자  \n",
    "\n",
    "부정적 전방탐색 조건을 사용하는 문장 패턴은 다음과 같이 작성될 수 있다.  \n",
    "\n",
    "* r'[A-Z].*?[.!?](?! [a-z0-9]|\\w)'  \n",
    "\n",
    "이 패턴의 부정적 전방탐색 컴포넌트는 (?! [a-z0-9]|\\w)이며 \"현재 위치 바로 뒤에 소문자나 숫자가 뒤따르는 빈칸이 오면 안되며, 어떤 문자숫자식 문자가 와도 안된다\"라고 지시한다"
   ]
  },
  {
   "cell_type": "code",
   "execution_count": 15,
   "metadata": {},
   "outputs": [
    {
     "name": "stdout",
     "output_type": "stream",
     "text": [
      "> See the U.S.A. today.\n",
      "> It's right here, not\n",
      "a world away.\n",
      "> Average temp. is 70.5.\n",
      "> It's fun!\n"
     ]
    }
   ],
   "source": [
    "import re  \n",
    "\n",
    "pat = r'[A-Z].*?[.!?](?! [a-z]|\\w)'\n",
    "s = '''See the U.S.A. today. It's right here, not\n",
    "a world away. Average temp. is 70.5. It's fun!'''\n",
    "m = re.findall(pat, s, flags=re.DOTALL)\n",
    "for i in m:\n",
    "    print('>', i)"
   ]
  },
  {
   "cell_type": "markdown",
   "metadata": {},
   "source": [
    "전방탐색 조건이 긍정적인 방식 대신 부정적인 방식으로 표현되었더라도, 결과는 똑같다.  \n",
    "원한다면 개행 문자를 제거할 수도 있는데, 가령 텍스트 파일의 모든 텍스트를 단일 문자열로 읽어 온다면 다음 코드로 개행 문자를 제거할 수 있다.  \n",
    "\n",
    "* s = re.sub(r'\\n', '', s)  "
   ]
  },
  {
   "cell_type": "code",
   "execution_count": 28,
   "metadata": {},
   "outputs": [
    {
     "name": "stdout",
     "output_type": "stream",
     "text": [
      "-> See the U.S.A. today.\n",
      "-> It's right here, not\n",
      " a world away.\n",
      "-> Average temp. is 70.5.\n",
      "-> It's fun!\n"
     ]
    }
   ],
   "source": [
    "import re  \n",
    "\n",
    "pat = r'[A-Z].*?[.!?](?! [a-z]|\\w)'\n",
    "s = '''See the U.S.A. today. It's right here, not\n",
    " a world away. Average temp. is 70.5. It's fun!'''\n",
    "m = re.findall(pat, s, flags=re.DOTALL)\n",
    "for i in m:\n",
    "    print('->', i)"
   ]
  },
  {
   "cell_type": "markdown",
   "metadata": {},
   "source": [
    "### 명명 그룹  \n",
    "\n",
    "6장에서 설명했듯이 태그를 붙인 그룹은 숫자로도 접근이 가능하다.  \n",
    "다음과 같이 match 객체를 사용하면 전체 일치 문자열을 확인 할 수 있다.  \n",
    "\n",
    "* match_obj.group(0)  \n",
    "\n",
    "각 태그 그룹은 숫자 1,2,3 등을 사용하여 접근할 수 있다.  \n",
    "예를 들어 다음 코드는 첫 번째 태그 그룹을 참조한다.  \n",
    "\n",
    "* match_odj.group(1)  \n",
    "\n",
    "하지만 매우 복잡한 정규표현식을 다루어야 한다면 숫자가 아니라 이름으로 태그 그룹을 참조하는 것이 좋다. 이런 경우 명명 그룹을 사용하면 된다.  \n",
    "\n",
    "* (?P<이름>표현식) : '이름'을 사용하여 일치한 그룹에 태그를 남긴다.  \n",
    "* (?P=이름) : 명명 그룹의 반복으로 일치 유무를 판단한다.  \n",
    "\n",
    "단순하지만 실질적인 예시를 살펴보자. 프로그램의 흔한 작업은 한 형식으로 입력된 영문 이름을 다른 형식으로 저장하는 것이다.  \n",
    "예를 들어 다음과 같이 여러 영문 이름을 입력했다고 가정해보자.  \n",
    "\n",
    "Brian R. Overland  \n",
    "John R. Bennett  \n",
    "John Q. Public  \n",
    "\n",
    "일반적으로 사람의 이름은 성과 이름을 받아서 이름이 아닌 성 기준으로 저장한다. 그럼 다음과 같이 저장될 것이다.  \n",
    "\n",
    "Overland, Brian R.  \n",
    "Bennett, John R.  \n",
    "Publick, John Q.  \n",
    "\n",
    "이렇게 저장되면 필요할 때 성의 알파벳 순서로 정렬하기 수월해진다.  \n",
    "하지만 다음과 같이 누군가가 중간 이름 머리글자 없이 입력하면 어떻게 될까?  \n",
    "\n",
    "Jane Austen  \n",
    "Mary Shelley  \n",
    "\n",
    "이상적으로 이런 경우도 잘 처리해야 한다.  \n",
    "이름 패턴은 중간 이름 머리글자의 유무와는 상관없이 똑같이 동작해야 한다.  \n",
    "\n",
    "Austen, Jane  \n",
    "Shelley, Mary  \n",
    "\n",
    "그럼 먼저 이름과 성만 있는 간단한 사례부터 시작해보자. 다음 패턴과 같이 first(이름)와 last(성)로 2개의 태그 그룹에 이름을 지어 주면 정말 편리하다.  \n",
    "\n",
    "pat = r'(?P\\<first>\\w+) (?P\\<last>\\w+)'  \n",
    "\n"
   ]
  },
  {
   "cell_type": "code",
   "execution_count": 30,
   "metadata": {},
   "outputs": [
    {
     "name": "stdout",
     "output_type": "stream",
     "text": [
      "first name =  Jane\n",
      "last name =  Austen\n"
     ]
    }
   ],
   "source": [
    "import re  \n",
    "\n",
    "pat = r'(?P<first>\\w+) (?P<last>\\w+)'\n",
    "s = 'Jane Austen' \n",
    "m = re.match(pat, s)\n",
    "\n",
    "print('first name = ', m.group('first'))\n",
    "print('last name = ', m.group('last'))"
   ]
  },
  {
   "cell_type": "markdown",
   "metadata": {},
   "source": [
    "이 코드를 실행하면 이름을 2개로 나누어서 출력할 수 있다.  \n",
    "print 함수로 넘기기 전에 그룹 이름은 반드시 작은 따옴표 기호를 사용한 문자열 포맷이어야 한다.  \n"
   ]
  },
  {
   "cell_type": "markdown",
   "metadata": {},
   "source": [
    "* pat = r'(?P\\<first>\\w+) (?P\\<mid>\\w\\. )?(?P\\<last>\\w+)'  \n",
    "\n",
    "이름 뒤에 빈칸은 필수이지만, 중간 이름 머리글자는 패턴에 일치하는 경우에만 뒤에 빈칸이 붙는 것에 주목하자. 이 패턴은 이름이 일치되면 선택적으로 중간 이름 머리글자를 인식할 수 있으며, 선택 사항이다. 따라서 다음 이름들은 성공적으로 일치한다.  \n",
    "\n",
    "* Brian R. Overland  \n",
    "* John R. Bennett  \n",
    "* John Q. Public  \n",
    "* Jane Austen  \n",
    "* Mary Shelley  \n",
    "\n",
    "앞서 나열한 이름은 모두 group(name) 으로 접근할 수 있는데, 여기에서 인수 name은 'first','mid','last'다. group('mid')는 존재하는 그룹이 없을 수도 있기 때문에 종종 특수 값 None을 반환할 수도 있다. 하지만 이런 경우는 사전에 테스트 할 수 있다.  "
   ]
  },
  {
   "cell_type": "code",
   "execution_count": 38,
   "metadata": {},
   "outputs": [
    {
     "name": "stdout",
     "output_type": "stream",
     "text": [
      "Overland, Brain R.\n",
      "Bennett, John R.\n",
      "Public, John Q.\n",
      "Austen, Jane\n",
      "Shelley, Mary\n"
     ]
    }
   ],
   "source": [
    "import re  \n",
    "\n",
    "pat = r'(?P<first>\\w+) (?P<mid>\\w\\. )?(?P<last>\\w+)' \n",
    "names = ['Brain R. Overland', 'John R. Bennett', 'John Q. Public', 'Jane Austen', 'Mary Shelley']  \n",
    "\n",
    "def reorg_name(in_s):\n",
    "    m = re.match(pat, in_s)\n",
    "    s = m.group('last') + ', ' + m.group('first')\n",
    "    \n",
    "    if m.group('mid'): \n",
    "        s += ' ' + m.group('mid').strip()\n",
    "    return s\n",
    "\n",
    "for name in names:\n",
    "    print(reorg_name(name))"
   ]
  },
  {
   "cell_type": "markdown",
   "metadata": {},
   "source": [
    "명명 그룹을 사용하는 것은 이번 예시에서 도움이 많이 된다. 중간 이름 머리글자와 점 기호는 일치하지 않을 수도 있지만, 그룹을 참조할 수 있는 방법을 제공했기 때문이다.  \n",
    "어떤 경우라도 그룹을 'first','mid','last'로 참조할 수 있다면 코드는 더욱 명확하고 관리하기 쉬워진다.  "
   ]
  },
  {
   "cell_type": "markdown",
   "metadata": {},
   "source": [
    "이미 태그로 기록된 문자열들을 반복하여 요청하기 위해 명명 그룹을 사용할 수 있다.  \n",
    "\n",
    "* pat = r'(\\w+) \\1'  \n",
    "\n",
    "이 패턴의 명명 그룹 버전은 다음과 같다.  \n",
    "\n",
    "* pat = r'(?P\\<word>\\w+) (?P=word)'  \n",
    "\n",
    "이 패턴은 다음 함수를 호출할 때 긍정적 일치를 수행한다.  \n",
    "\n",
    "* m = re.search(pat, 'The the dog.', flags=re.I)\n"
   ]
  },
  {
   "cell_type": "markdown",
   "metadata": {},
   "source": [
    "### re.split 함수  \n",
    "\n",
    "re.split 함수는 텍스트를 토큰으로 쪼개는데 도움을 주는 정규표현식의 또 다른 방법이다.  \n",
    "\n",
    "문법 안의 '패턴'은 지금까지 보여준 모든 정규표현식 패턴을 넣을 수 있지만, 검색하여 넘어가는 문자는 명시하지 않는다. 패턴으로 찾은 문자 사이에 있는 모든 텍스트는 토큰으로 간주된다. 따라서 '패턴'은 토큰 그 자체가 아니라 토큰 구분자를 표현한다.  \n",
    "\n",
    "'문자열'은 평소처럼 토큰으로 나눌 대상 문자열이다.  \n",
    "\n",
    "maxsplit 인수는 찾을 토큰의 최대 개수를 명시한다.  \n",
    "이 인수를 0으로 설정(디폴트값)하면 최대 개수는 지정되지 않는다.  \n",
    "\n",
    "re.split 함수는 각 문자열이 토큰(검색 패턴으로 찾은 텍스트 문자열)인 문자열 리스트를 반환한다.  \n",
    "\n",
    "일반적으로 검색 패턴을 빈칸, 빈칸의 나열, 혹은 콤마 기호로 만든다.  \n",
    "정규표현식의 한 가지 유용한 사용법은 이런 패턴들을 조합하는 것이다.  \n",
    "\n",
    "* pat = r', *| +'  \n",
    "\n",
    "이 패턴의 의미는 다음과 같다.  \n",
    "\"부분 문자열은 0개 이상의 빈칸이 뒤따르는 콤마 기호로 구성되거나 1개 이상의 빈칸으로 구성된다.\"  \n",
    "생각해보면 이 조건은 콤마 기호, 1개 이상의 빈칸, 혹은 두 조건을 모두 가진 구분자를 만든다."
   ]
  },
  {
   "cell_type": "code",
   "execution_count": 39,
   "metadata": {},
   "outputs": [
    {
     "data": {
      "text/plain": [
       "['3', '5', '7', '8', '10', '11']"
      ]
     },
     "execution_count": 39,
     "metadata": {},
     "output_type": "execute_result"
    }
   ],
   "source": [
    "import re  \n",
    "\n",
    "pat = r', *| +'\n",
    "lst = re.split(pat, '3, 5 7 8,10, 11')\n",
    "lst"
   ]
  },
  {
   "cell_type": "markdown",
   "metadata": {},
   "source": [
    "위 코드의 결과는 모든 결과 토큰이 콤마 기호 혹은 내부 빈칸을 포함하지 않은 부분 문자열(숫자 형식)이다. "
   ]
  },
  {
   "cell_type": "markdown",
   "metadata": {},
   "source": [
    "이 패턴을 RPN 번역기에 적용하여 re.split 함수로 쪼개보겠다 "
   ]
  },
  {
   "cell_type": "code",
   "execution_count": 41,
   "metadata": {},
   "outputs": [
    {
     "data": {
      "text/plain": [
       "['3', '2', '*', '2', '15', '*', '+', '4', '+']"
      ]
     },
     "execution_count": 41,
     "metadata": {},
     "output_type": "execute_result"
    }
   ],
   "source": [
    "import re  \n",
    "\n",
    "pat = r', *| +'\n",
    "s = '3 2 * 2 15 * + 4 +'\n",
    "toks = re.split(pat, s)\n",
    "toks"
   ]
  },
  {
   "cell_type": "markdown",
   "metadata": {},
   "source": [
    "위 코드의 s를 RPN의 동작방식으로 생각해 보면 다음과 같이 표기할 수 있다.  \n",
    "\n",
    "* (3 * 2) + (2 * 15) + 4  \n",
    "\n",
    "하지만 다음과 같이 토큰의 경계를 숫자로 표기한 경우 문자열을 토큰으로 쪼갤 때 문제가 발생한다.  \n",
    "\n",
    "s = '3 2* 2 15*+ 4 +'"
   ]
  },
  {
   "cell_type": "markdown",
   "metadata": {},
   "source": [
    "### 스캐너 클래스와 RPN 프로젝트  \n",
    "\n",
    "RPN 애플리케이션의 입력 값을 분석하는 또 다른 방법은 파이썬 정규표현식 패키지의 편리한 부분을 사용하는 것이다.  \n",
    "\n",
    "re.Scanner 클래스는 자체 스캐너 객체를 만들 수 있게 해준다.  \n",
    "객체를 초기화 할 때 여러 튜플이 필요한데, 각 튜플은 다음 내용을 담고 있다.  \n",
    "\n",
    "* 검색 대상 토큰을 묘사한 정규표현식 패턴 \n",
    "* 토큰을 찾기 위해 호출되는 함수. 함수는 그 자체가 콜러블 객체이며, 리스트로 나열된다. 하지만 이 함수는 호출이 된 것이 아니며, 인수도 포함하지 않는다 (하지만 함수 호출 시 2개의 인수가 전달된다.). 이 함수는 발견한 토큰과 함께 어떤 객체도 반환할 수 있다.  \n",
    "\n",
    "scan을 호출하면 스캐너가 대상 문자열을 스캔하면서 작성한 프로그램에 따라 객체들을 반환한다.  \n",
    "보다시피 이 방식의 아름다움은 구분자에 대해서 신경 쓸 필요가 전혀 없다는 것이다.  \n",
    "그저 찾고자 하는 토큰만 찾으면 된다. "
   ]
  },
  {
   "cell_type": "code",
   "execution_count": null,
   "metadata": {},
   "outputs": [],
   "source": [
    "import re  \n",
    "\n",
    "scanner = re.Scanner ([\n",
    "    (토큰_패턴1, 함수1),\n",
    "    (토큰_패턴2, 함수2),\n",
    "])"
   ]
  },
  {
   "cell_type": "markdown",
   "metadata": {},
   "source": [
    "위 문법을 살펴보면 람다 함수를 사용하지 않는 이상 이 구문은 정의된 함수 뒤에 나타나야 한다.  \n",
    "\n",
    "'토큰_패턴'의 각 인스턴스는 인식할 토큰을 묘사한 정규표현식이다. 각각의 '함수'는 사전 정의가 되었거나 익명의 람다 함수다.  \n",
    "만약 None이 함수로 명시되었다면 해당 패턴에 아무런 작업이 수행되지 않고 그냥 넘어간다."
   ]
  },
  {
   "cell_type": "code",
   "execution_count": null,
   "metadata": {},
   "outputs": [],
   "source": [
    "import re  \n",
    "\n",
    "scanner = re.Scanner ([\n",
    "    (r'[*+/-]', sc_oper),\n",
    "    (r'\\d+\\.\\*', sc_float),\n",
    "    (r'\\d+', sc_int),\n",
    "    (r'\\s+', None)\n",
    "])"
   ]
  },
  {
   "cell_type": "markdown",
   "metadata": {},
   "source": [
    " 위 코드의 의미는 다음과 같다. \"세가지 종류(연산자, 정수, 부동소수점)의 토큰을 인식하고, 각 토큰에 맞는 함수를 호출하여 토큰을 처리한다.\"  "
   ]
  },
  {
   "cell_type": "markdown",
   "metadata": {},
   "source": [
    "다음은 이 RPN 언어 안에서 사용하는 변수들이다. "
   ]
  },
  {
   "cell_type": "code",
   "execution_count": null,
   "metadata": {},
   "outputs": [],
   "source": [
    "import re  \n",
    "\n",
    "scanner = re.Scanner ([\n",
    "    (r'[a-zA-Z]\\w*', sc_ident),\n",
    "    (r'[*+/-]', sc_oper),\n",
    "    (r'\\d+\\.\\*', sc_float),\n",
    "    (r'\\d+', sc_int),\n",
    "    (r'\\s+', None)\n",
    "])"
   ]
  },
  {
   "cell_type": "markdown",
   "metadata": {},
   "source": [
    "사용된 각 함수를 자세히 살펴보면  \n",
    "\n",
    "* 함수_이름(스캐너, 토큰_문자열)  \n",
    "\n",
    "첫 번째 인수 '스캐너'는 스캐너 객체 자체의 참조다. 비록 이 인수가 추가 정보를 전달하는 데 사용될 수 있다고 하더라도, 이 인수를 가지고 할 일은 더 이상 없다.  \n",
    "\n",
    "두 번째 인수 '토큰_문자열'은 토큰을 담고 있는 부분 문자열을 참조한다.  \n",
    "\n",
    "밑의 전체 예시는 간단한 RPN 번역기에서 사용할 스캐너를 만들고 있다. "
   ]
  },
  {
   "cell_type": "code",
   "execution_count": 44,
   "metadata": {},
   "outputs": [
    {
     "name": "stdout",
     "output_type": "stream",
     "text": [
      "([3, 3, '+'], '')\n",
      "([32, 6.67, '+', 10, 5, '-', '*'], '')\n"
     ]
    }
   ],
   "source": [
    "import re  \n",
    "\n",
    "def sc_oper(scanner, tok): return tok\n",
    "def sc_int(scanner, tok): return int(tok)\n",
    "def sc_float(scanner, tok): return float(tok)\n",
    "\n",
    "scanner = re.Scanner ([\n",
    "    (r'[*+/-]', sc_oper),\n",
    "    (r'\\d+\\.\\d*', sc_float),\n",
    "    (r'\\d+', sc_int),\n",
    "    (r'\\s+', None)\n",
    "])\n",
    "\n",
    "print(scanner.scan('3 3+'))\n",
    "print(scanner.scan('32 6.67+ 10 5- *'))"
   ]
  },
  {
   "cell_type": "markdown",
   "metadata": {},
   "source": [
    "이렇게 정의한 코드로 함수 scanner.scan을 호출할 수 있게 된다.  \n",
    "이 함수는 2개의 출력 값을 담은 튜플을 반환한다.  \n",
    "첫 번째 값은 함수에 의해 반환된 모든 토큰을 담고 있는 리스트이며  \n",
    "두번째 값은 성공적으로 스캔되지 않은 텍스트를 담고 있는 문자열이다.  \n",
    "\n",
    "첫번째 프린트문을 보면 숫자는 정수로 반환되었고, 연산자 +는 단일-문자 문자열로 반환되었다.  \n",
    "\n",
    "보다시피 스캐너 객체는 토큰 리스트를 반환하며, 각 토큰은 적당한 타입을 취하고 있다.  \n",
    "하지만 아직 RPN 문자열을 검증하지는 못한다. 추가 작업이 조금 더 필요하다.  "
   ]
  },
  {
   "cell_type": "markdown",
   "metadata": {},
   "source": [
    "### RPN: 스캐너로 더 많은 작업 수행하기  \n",
    "\n",
    "지난 절에서 개발한 re.Scanner 객체는 정수, 부동소수점 숫자와 연산자를 인식한다 "
   ]
  },
  {
   "cell_type": "code",
   "execution_count": 45,
   "metadata": {},
   "outputs": [],
   "source": [
    "import re  \n",
    "\n",
    "scanner = re.Scanner ([\n",
    "    (r'[*+/-]', sc_oper),\n",
    "    (r'\\d+\\.\\*', sc_float),\n",
    "    (r'\\d+', sc_int),\n",
    "    (r'\\s+', None)\n",
    "])"
   ]
  },
  {
   "cell_type": "markdown",
   "metadata": {},
   "source": [
    "RPN 번역기 애플리케이션을 확장하기 위해 각자의 역할을 하는 3개의 함수 (sc_oper, sc_float, sc_int)를 만들어야 한다. 마지막 2개의 함수는 숫자를 스택에 넣는다.  \n",
    "반면 sc_oper 함수는 더 많은 작업을 수행한다. 2개의 피연산자를 스택에서 추출한 후 연산을 수행하고 다시 스택에 집어 넣는다.  \n",
    "\n",
    "람다 함수를 사용하면 이 함수들 중 일부를 더 짧게 작성할 수 있다.  \n",
    "하지만 첫 번째 줄은 피연산자들을 추출하고 연산자를 수행하기 위해 더욱 정교해질 필요가 있다.  \n",
    "이 람다 함수는 더욱 정교한 함수인 bin_op을 호출한다. 예시 코드는 아래와 같다. "
   ]
  },
  {
   "cell_type": "code",
   "execution_count": 46,
   "metadata": {},
   "outputs": [],
   "source": [
    "import re  \n",
    "\n",
    "scanner = re.Scanner ([\n",
    "    (r'[*+/-]', lambda s, t: bin_op(t)),\n",
    "    (r'\\d+\\.\\d*', lambda s, t: the_stk.append(float(t))),\n",
    "    (r'\\d+', lambda s, t: the_stk.append(int(t))),\n",
    "    (r'\\s+', None)\n",
    "])\n",
    "\n",
    "def bin_op(tok):\n",
    "    op2, op1 = the_stk.pop(), the_stk.pop()\n",
    "    if tok == '+':\n",
    "        the_stk.append(op1 + op2)\n",
    "    elif tok == '*':\n",
    "        the_stk.append(op1 * op2)\n",
    "    elif tok == '/':\n",
    "        the_stk.append(op1 / op2)\n",
    "    elif tok == '-':\n",
    "        the_stk.append(op1 - op2)"
   ]
  },
  {
   "cell_type": "markdown",
   "metadata": {},
   "source": [
    "bin_op 함수는 스캐너가 연산자(*,+,/,-)를 찾을 때마다 스캐너 객체의 맨 꼭대기 줄에서 호출된다. 이 연산자는 bin_op 함수의 인수(tok)로 전달되어 4개의 연산자 중 어떤 연산을 처리할지 결정하는 데 사용한다.  \n",
    "\n",
    "이런 람다 함수는 명확해야 하며, 다른 함수를 호출하는 것 외에는 상대적으로 하는 일이 거의 없다.  \n",
    "\n",
    "첫 번째줄(연산자 토큰 인식)은 연산자 토큰 자체를 전달하면서 bin_op 함수를 호출할 뿐이다.  \n",
    "두 번째줄과 세번 째 줄에는 적절한 정수 또는 부동소수점이 추가된다.  \n",
    "\n",
    "여기에 미묘한 부분이 있다. 람다 함수는 각각 s와 t의 두 인수(각각 스캐너와 토큰을 의미)와 함께 호출되지만, 각 람다 함수는 다른 함수에 인수 하나를 전달하면서 호출한다.  \n",
    "\n",
    "이제 적절한 스캐너 객체와 더 많은 작업을 수행하는 bin_op 함수가 있으면 입력 값을 받아 스캔 한 후 마무리 하는 main 함수만 있으면 된다. "
   ]
  },
  {
   "cell_type": "code",
   "execution_count": 52,
   "metadata": {},
   "outputs": [
    {
     "name": "stdout",
     "output_type": "stream",
     "text": [
      "Unrecognized input: 안녕\n"
     ]
    }
   ],
   "source": [
    "import re  \n",
    "\n",
    "the_stk = []\n",
    "\n",
    "scanner = re.Scanner ([\n",
    "    (r'[*+/-]', lambda s, t: bin_op(t)),\n",
    "    (r'\\d+\\.\\d*', lambda s, t: the_stk.append(float(t))),\n",
    "    (r'\\d+', lambda s, t: the_stk.append(int(t))),\n",
    "    (r'\\s+', None)\n",
    "])\n",
    "\n",
    "def bin_op(tok):\n",
    "    op2, op1 = the_stk.pop(), the_stk.pop()\n",
    "    if tok == '+':\n",
    "        the_stk.append(op1 + op2)\n",
    "    elif tok == '*':\n",
    "        the_stk.append(op1 * op2)\n",
    "    elif tok == '/':\n",
    "        the_stk.append(op1 / op2)\n",
    "    elif tok == '-':\n",
    "        the_stk.append(op1 - op2)\n",
    "        \n",
    "def main():\n",
    "    input_str = input('Enter RPN string: ')\n",
    "    tokens, unknown = scanner.scan(input_str)\n",
    "    if unknown:\n",
    "        print('Unrecognized input:', unknown)\n",
    "    else:\n",
    "        print('Answer is', the_stk.pop())\n",
    "        \n",
    "main()"
   ]
  },
  {
   "cell_type": "markdown",
   "metadata": {},
   "source": [
    "* main 함수는 최대한 많은(연산자 혹은 숫자 혹은 둘다)을 찾을 수 있는 scanner.scan을 호출한다.  \n",
    "* 스캐너 객체가 토큰을 찾을 때마다 적절한 함수(bin_op 혹은 (실제로 리스트인) the_stk의 append 메서드)를 호출한다.  \n",
    "\n",
    "우리는 이 코드를 각각 따로따로 수행하기보다는 연산자를 전달하여 조금 더 간결하고 명확하게 수정할 수 있다.  \n",
    "\n",
    "이 버전이 어떻게 동작하는지 이해하기 위해 파이썬의 함수도 일급-클래스 객체라는 것(함수도 객체)을 기억하는 것이 중요하다. 그러면 함수도 인수로 직접 전달할 수 있다.  \n",
    "\n",
    "operator 패키지에 이미 정의되어 있는 기능 객체(콜러블)를 사용하면 이 장점을 누릴 수 있다.  \n",
    "\n",
    "그러고 나면 피연산자 2개를 대상으로 더하기, 빼기 등을 수행하는 콜러블 객체를 참조할 수 있게 된다. 피연산자는 단일 콜러블만 담고 있는 인수 리스트에 포함되지 않는다.  \n",
    "대신 bin_op 함수가 스택 값을 추출하여 피연산자를 제공한다. "
   ]
  },
  {
   "cell_type": "code",
   "execution_count": 53,
   "metadata": {},
   "outputs": [
    {
     "name": "stdout",
     "output_type": "stream",
     "text": [
      "Unrecognized input: 안녕\n"
     ]
    }
   ],
   "source": [
    "import re \n",
    "import operator\n",
    "\n",
    "the_str = []\n",
    "\n",
    "scanner = re.Scanner ([\n",
    "    (r'[+]', lambda s, t: bin_op(operator.add)),\n",
    "    (r'[*]', lambda s, t: bin_op(operator.mul)),\n",
    "    (r'[-]', lambda s, t: bin_op(operator.sub)),\n",
    "    (r'[/]', lambda s, t: bin_op(operator.truediv)),\n",
    "    (r'\\d+\\.\\d*', lambda s, t: the_stk.append(float(t))),\n",
    "    (r'\\d+', lambda s, t: the_stk.append(int(t))),\n",
    "    (r'\\s+', None)\n",
    "])\n",
    "\n",
    "def bin_op(oper):\n",
    "    op2, op1 = the_stk.pop(), the_stk.pop()\n",
    "    the_stk.append(oper(op1,op2))\n",
    "    \n",
    "def main():\n",
    "    input_str = input('Enter RPN string: ')\n",
    "    tokens, unknown = scanner.scan(input_str)\n",
    "    if unknown:\n",
    "        print('Unrecognized input:', unknown)\n",
    "    else: \n",
    "        print('Answer is', the_stk.pop())\n",
    "        \n",
    "main()"
   ]
  },
  {
   "cell_type": "markdown",
   "metadata": {},
   "source": [
    "스캐너 객체를 사용한 이 방법으로 얻은 것은 무엇인지 알아보자  \n",
    "\n",
    "입력 값을 정규표현식 함수 re.findall 을 사용하여 토큰으로 쪼개고, 한 번에 하나씩 토큰을 처리한 후 검사하여 어떤 함수를 호출할지 결정했다.  \n",
    "\n",
    "스캐너 객체를 생성해서 비슷한 작업을 할 수 있지만, 더욱 많은 부분을 제어할 수 있다.  \n",
    "이 RPN 번역기 애플리케이션은 특정 토큰을 찾으면서 스캐너 객체를 반환하며, 이 스캐너 객체가 직접 호출하는 함수로 통제된다. "
   ]
  }
 ],
 "metadata": {
  "kernelspec": {
   "display_name": "tabnet",
   "language": "python",
   "name": "python3"
  },
  "language_info": {
   "codemirror_mode": {
    "name": "ipython",
    "version": 3
   },
   "file_extension": ".py",
   "mimetype": "text/x-python",
   "name": "python",
   "nbconvert_exporter": "python",
   "pygments_lexer": "ipython3",
   "version": "3.8.19"
  }
 },
 "nbformat": 4,
 "nbformat_minor": 2
}

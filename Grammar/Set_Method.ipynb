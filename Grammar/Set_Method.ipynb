{
 "cells": [
  {
   "cell_type": "markdown",
   "metadata": {},
   "source": [
    "### set_obj.add(obj)  \n",
    "\n",
    "기존 세트에 객체 obj를 추가한다. obj가 이미 세트의 멤버면 아무 동작도 하지 않는다. 두 경우 모두 None을 반환한다. "
   ]
  },
  {
   "cell_type": "code",
   "execution_count": 2,
   "metadata": {},
   "outputs": [
    {
     "data": {
      "text/plain": [
       "{1, 2, 3, 4}"
      ]
     },
     "execution_count": 2,
     "metadata": {},
     "output_type": "execute_result"
    }
   ],
   "source": [
    "set = {1, 2, 3}\n",
    "set.add(4)\n",
    "set"
   ]
  },
  {
   "cell_type": "markdown",
   "metadata": {},
   "source": [
    "### set_obj.clear()  \n",
    "\n",
    "기존 세트의 모든 항목을 제거한다. 인수는 없으며, None을 반환한다. "
   ]
  },
  {
   "cell_type": "code",
   "execution_count": 3,
   "metadata": {},
   "outputs": [],
   "source": [
    "set.clear()"
   ]
  },
  {
   "cell_type": "markdown",
   "metadata": {},
   "source": [
    "### set_obj.copy()  \n",
    "\n",
    "멤버 간 얕은 복사를 한 세트를 반환한다. "
   ]
  },
  {
   "cell_type": "code",
   "execution_count": 4,
   "metadata": {},
   "outputs": [],
   "source": [
    "a_set = {1, 2, 3}  \n",
    "b_set = a_set.copy()"
   ]
  },
  {
   "cell_type": "markdown",
   "metadata": {},
   "source": [
    "이 문장이 실행되고 나면 b_set는 a_set와 같은 내용을 갖지만, 두 세트는 분리된 세트이며 한 세트를 수정한다고 해서 다른 세트가 수정되지는 않는다. "
   ]
  },
  {
   "cell_type": "markdown",
   "metadata": {},
   "source": [
    "### set_obj.difference(other_set)  \n",
    "\n",
    "set_obj의 항목 중 other_set에 포함되지 않은 모든 항목을 담은 세트를 반환한다. "
   ]
  },
  {
   "cell_type": "code",
   "execution_count": 5,
   "metadata": {},
   "outputs": [
    {
     "name": "stdout",
     "output_type": "stream",
     "text": [
      "{1, 2}\n",
      "{5, 6}\n"
     ]
    }
   ],
   "source": [
    "a_set = {1, 2, 3, 4}\n",
    "b_set = {3, 4, 5, 6}\n",
    "c = a_set.difference(b_set)\n",
    "print(c)\n",
    "print(b_set.difference(a_set))"
   ]
  },
  {
   "cell_type": "markdown",
   "metadata": {},
   "source": [
    "세트에서 차집합 기호(-)로 사용하는 difference 연산자는 같은 결과를 생산하며, 더욱 간결하다. "
   ]
  },
  {
   "cell_type": "code",
   "execution_count": 6,
   "metadata": {},
   "outputs": [
    {
     "name": "stdout",
     "output_type": "stream",
     "text": [
      "{1, 2}\n"
     ]
    }
   ],
   "source": [
    "print(a_set - b_set)"
   ]
  },
  {
   "cell_type": "markdown",
   "metadata": {},
   "source": [
    "### set_obj.difference_update(other_set)  \n",
    "\n",
    "difference 메서드와 동일하게 동작하지만 결과가 set_obj를 교체하며, None을 반환한다. 차집합-대입 연산자(-=)도 동일하게 동작한다. "
   ]
  },
  {
   "cell_type": "markdown",
   "metadata": {},
   "source": [
    "### set_obj.discard(obj)  \n",
    "\n",
    "set_obj에서 obj 항목을 폐기한다. 반환값은 None이다. remove 메서드와 동일하게 동작하지만 obj가 세트의 멤버가 아니더라도 예외가 발생하지 않는다. "
   ]
  },
  {
   "cell_type": "code",
   "execution_count": 7,
   "metadata": {},
   "outputs": [
    {
     "name": "stdout",
     "output_type": "stream",
     "text": [
      "{'Moe', 'Larry'}\n"
     ]
    }
   ],
   "source": [
    "a_set = {'Moe', 'Larry', 'Curly'}  \n",
    "a_set.discard('Curly')\n",
    "print(a_set)"
   ]
  },
  {
   "cell_type": "markdown",
   "metadata": {},
   "source": [
    "### set_obj.intersection(other_set)  \n",
    "\n",
    "set_obj와 other_set의 교집합을 반환한다. 세트에 공통 항목이 없으면 빈 세트가 반환된다. "
   ]
  },
  {
   "cell_type": "code",
   "execution_count": 8,
   "metadata": {},
   "outputs": [
    {
     "name": "stdout",
     "output_type": "stream",
     "text": [
      "{3, 4}\n"
     ]
    }
   ],
   "source": [
    "a_set = {1, 2, 3, 4}\n",
    "b_set = {3, 4, 5, 6}\n",
    "print(a_set.intersection(b_set))\n"
   ]
  },
  {
   "cell_type": "markdown",
   "metadata": {},
   "source": [
    "교집합 연산자(&)도 동일하게 동작한다. "
   ]
  },
  {
   "cell_type": "code",
   "execution_count": 9,
   "metadata": {},
   "outputs": [
    {
     "name": "stdout",
     "output_type": "stream",
     "text": [
      "{3, 4}\n"
     ]
    }
   ],
   "source": [
    "print(a_set & b_set)"
   ]
  },
  {
   "cell_type": "markdown",
   "metadata": {},
   "source": [
    "### set_obj.intersection_update(other_set)  \n",
    "\n",
    "intersection 메서드와 동일하게 동작하지만 set_obj를 결과로 교체하고, None을 반환한다. 교집합-대입 연산자(&=)도 동일하게 동작한다. "
   ]
  },
  {
   "cell_type": "code",
   "execution_count": 10,
   "metadata": {},
   "outputs": [],
   "source": [
    "a_set &= b_set"
   ]
  },
  {
   "cell_type": "markdown",
   "metadata": {},
   "source": [
    "### set_obj.isdisjoint(other_obj)  \n",
    "\n",
    "set_obj와 other_set 간에 공통 항목이 없으면 True를 반환한다. 그렇지 않으면 False를 반환한다. "
   ]
  },
  {
   "cell_type": "markdown",
   "metadata": {},
   "source": [
    "### set_obj.issubset(other_set)  \n",
    "\n",
    "set_obj가 아니라 other_set의 하위 세트이거나 동일하면 True를 반환한다. "
   ]
  },
  {
   "cell_type": "code",
   "execution_count": 11,
   "metadata": {},
   "outputs": [
    {
     "data": {
      "text/plain": [
       "True"
      ]
     },
     "execution_count": 11,
     "metadata": {},
     "output_type": "execute_result"
    }
   ],
   "source": [
    "{1, 2}.issubset({1, 2, 3})\n",
    "{1, 2}.issubset({1, 2})"
   ]
  },
  {
   "cell_type": "markdown",
   "metadata": {},
   "source": [
    "### set_obj.issuperset(other_set)  \n",
    "\n",
    "set_obj가 other_set의 부모 세트이거나 동일하면 True를 반환한다. "
   ]
  },
  {
   "cell_type": "code",
   "execution_count": 12,
   "metadata": {},
   "outputs": [
    {
     "data": {
      "text/plain": [
       "True"
      ]
     },
     "execution_count": 12,
     "metadata": {},
     "output_type": "execute_result"
    }
   ],
   "source": [
    "{1, 2}.issuperset({1})\n",
    "{1, 2}.issuperset({1, 2})"
   ]
  },
  {
   "cell_type": "markdown",
   "metadata": {},
   "source": [
    "### set_obj.pop()  \n",
    "\n",
    "세트의 임의 항목을 반환하고, 해당 항목을 세트에서 제거한다.  "
   ]
  },
  {
   "cell_type": "code",
   "execution_count": 13,
   "metadata": {},
   "outputs": [
    {
     "name": "stdout",
     "output_type": "stream",
     "text": [
      "Moe {'Larry', 'Curly'}\n"
     ]
    }
   ],
   "source": [
    "a_set = {'Moe', 'Larry', 'Curly'} \n",
    "stooge = a_set.pop()\n",
    "print(stooge, a_set)"
   ]
  },
  {
   "cell_type": "markdown",
   "metadata": {},
   "source": [
    "### set_obj.remove(obj)  \n",
    "\n",
    "특정 항목 obj를 set_obj에서 제거한다. discard 메서드와 동일하게 동작하지만 remove는 obj가 존재하지 않은 경우에 keyError 예외를 발생한다. "
   ]
  },
  {
   "cell_type": "markdown",
   "metadata": {},
   "source": [
    "### set_obj.symmetric_difference(other_set)  \n",
    "\n",
    "set_obj와 other_set에 서로 포함되지 않은 모든 항목을 반환한다.(대칭 차집합)"
   ]
  },
  {
   "cell_type": "code",
   "execution_count": 14,
   "metadata": {},
   "outputs": [
    {
     "name": "stdout",
     "output_type": "stream",
     "text": [
      "{1, 2, 5, 6}\n"
     ]
    }
   ],
   "source": [
    "a_set = {1, 2, 3, 4}\n",
    "b_set = {3, 4, 5, 6}\n",
    "print(a_set.symmetric_difference(b_set))"
   ]
  },
  {
   "cell_type": "markdown",
   "metadata": {},
   "source": [
    "대칭 차집합 연산자(^)도 동일하게 동작한다. "
   ]
  },
  {
   "cell_type": "code",
   "execution_count": 15,
   "metadata": {},
   "outputs": [
    {
     "name": "stdout",
     "output_type": "stream",
     "text": [
      "{1, 2, 5, 6}\n"
     ]
    }
   ],
   "source": [
    "print(a_set ^ b_set)"
   ]
  },
  {
   "cell_type": "markdown",
   "metadata": {},
   "source": [
    "### set_obj.symmetric_difference_update(other_set)  \n",
    "\n",
    "symmetric_difference 메서드와 동일하게 동작하지만 set_obj가 결과로 대체되고, None을 반환한다. 대칭 차집합-대입 연산자(^=)도 동일하게 동작한다.  \n",
    "\n",
    "a_set ^= b_set"
   ]
  },
  {
   "cell_type": "markdown",
   "metadata": {},
   "source": [
    "### set_obj.union(other_set)  \n",
    "\n",
    "set_obj와 other_set의 합집합을 반환한다. "
   ]
  },
  {
   "cell_type": "code",
   "execution_count": 16,
   "metadata": {},
   "outputs": [
    {
     "name": "stdout",
     "output_type": "stream",
     "text": [
      "{1, 2, 3, 4, 5, 6}\n"
     ]
    }
   ],
   "source": [
    "a_set = {1, 2, 3, 4}\n",
    "b_set = {3, 4, 5, 6}\n",
    "print(a_set.union(b_set))"
   ]
  },
  {
   "cell_type": "markdown",
   "metadata": {},
   "source": [
    "합집합 연산자(|)도 동일하게 동작한다. "
   ]
  },
  {
   "cell_type": "code",
   "execution_count": 17,
   "metadata": {},
   "outputs": [
    {
     "name": "stdout",
     "output_type": "stream",
     "text": [
      "{1, 2, 3, 4, 5, 6}\n"
     ]
    }
   ],
   "source": [
    "print(a_set | b_set)"
   ]
  },
  {
   "cell_type": "markdown",
   "metadata": {},
   "source": [
    "### set_obj.union_update(other_set)  \n",
    "\n",
    "union 메서드와 동일하게 동작하지만 set_obj가 결과로 대체되고, None이 반환된다.  \n",
    "합집합-대입 연산자(|=)도 동일하게 동작한다.  \n",
    "\n",
    "a_set |= b_set  \n",
    "\n",
    "이 연산자로 세트 내용을 쉽게 확장할 수 있다. "
   ]
  },
  {
   "cell_type": "code",
   "execution_count": 18,
   "metadata": {},
   "outputs": [
    {
     "data": {
      "text/plain": [
       "{1, 2, 3, 200, 300}"
      ]
     },
     "execution_count": 18,
     "metadata": {},
     "output_type": "execute_result"
    }
   ],
   "source": [
    "a_set = {1, 2, 3}\n",
    "a_set |= {200, 300}\n",
    "a_set"
   ]
  }
 ],
 "metadata": {
  "kernelspec": {
   "display_name": "han",
   "language": "python",
   "name": "python3"
  },
  "language_info": {
   "codemirror_mode": {
    "name": "ipython",
    "version": 3
   },
   "file_extension": ".py",
   "mimetype": "text/x-python",
   "name": "python",
   "nbconvert_exporter": "python",
   "pygments_lexer": "ipython3",
   "version": "3.8.19"
  }
 },
 "nbformat": 4,
 "nbformat_minor": 2
}

{
 "cells": [
  {
   "cell_type": "markdown",
   "metadata": {},
   "source": [
    "### 22가지 프로그래밍 지름길 "
   ]
  },
  {
   "cell_type": "markdown",
   "metadata": {},
   "source": [
    "* 필요하다면 코드를 여러 줄에 걸쳐서 작성한다 \n",
    "* for 루프는 현명하게 사용한다\n",
    "* 대입 연산자 조합을 이해한다\n",
    "* 다중 대입을 사용한다 \n",
    "* 튜플 대입을 사용한다 \n",
    "* 고급 튜플 대입을 사용한다\n",
    "* 리스트와 문자열 '곱하기'를 사용한다\n",
    "* 다중 값을 반환한다\n",
    "* 루프와 else 키워드를 사용한다\n",
    "* 불리언과 'not'의 이점을 활용한다\n",
    "* 문자열은 문자의 나열로 다룬다\n",
    "* replace를 사용하여 문자를 제거한다\n",
    "* 필요없는 루프는 사용하지 않는다\n",
    "* 연결된 비교 연산자를 사용한다\n",
    "* 함수 테이블(리스트, 딕셔너리)로 switch 문을 모방한다\n",
    "* is 연산자는 정확하게 사용한다\n",
    "* 단일 행 for 루프를 사용한다\n",
    "* 여러 문장을 하나의 행으로 줄인다\n",
    "* 단일 행 if/then/else 문을 작성한다\n",
    "* range와 함께 Enum을 생성한다\n",
    "* IDLE 안에서 비효율적인 print 함수 사용을 줄인다\n",
    "* 큰 번호 안에 언더스코어를 넣는다\n"
   ]
  },
  {
   "cell_type": "markdown",
   "metadata": {},
   "source": [
    "##### 필요하다면 코드를 여러 줄에 걸쳐 사용한다 \n",
    "\n",
    "만약 출력해야할 문자열이 1줄보다 더 길다고 할때, 이 경우 원하지 않더라도 각 리터럴 문자열을 개행 문자와 함께 사용할 수 있다 우선 밑의 코드와 같이 한 리터럴 문자열 다음에 나타나는 리터럴 문자열은 자동으로 연결된다 "
   ]
  },
  {
   "cell_type": "code",
   "execution_count": 1,
   "metadata": {},
   "outputs": [
    {
     "data": {
      "text/plain": [
       "'I am Hen-er-y the Eighth, I am!'"
      ]
     },
     "execution_count": 1,
     "metadata": {},
     "output_type": "execute_result"
    }
   ],
   "source": [
    "my_str = 'I am Hen-er-y the Eighth,' ' I am!'\n",
    "my_str"
   ]
  },
  {
   "cell_type": "markdown",
   "metadata": {},
   "source": [
    "만약 이 하위 문자열이 너무 길어서 1줄로 표현할 수 없다면 역슬래시 기호를 사용한다 "
   ]
  },
  {
   "cell_type": "code",
   "execution_count": 2,
   "metadata": {},
   "outputs": [
    {
     "data": {
      "text/plain": [
       "'I am Hen-er-y the Eighth, I am!'"
      ]
     },
     "execution_count": 2,
     "metadata": {},
     "output_type": "execute_result"
    }
   ],
   "source": [
    "my_str = 'I am Hen-er-y the Eighth,' \\\n",
    "    ' I am!'\n",
    "    \n",
    "my_str"
   ]
  },
  {
   "cell_type": "markdown",
   "metadata": {},
   "source": [
    "다른 기법으로는 소괄호, 중괄호, 대괄호 기호를 활용할 수 있다 "
   ]
  },
  {
   "cell_type": "code",
   "execution_count": 3,
   "metadata": {},
   "outputs": [
    {
     "data": {
      "text/plain": [
       "'I am Hen-er-y the Eighth, I am! I am not just any Henry VIII, I really am!'"
      ]
     },
     "execution_count": 3,
     "metadata": {},
     "output_type": "execute_result"
    }
   ],
   "source": [
    "my_str = ('I am Hen-er-y the Eighth, '\n",
    "          'I am! I am not just any Henry VIII, '\n",
    "          'I really am!')\n",
    "my_str"
   ]
  },
  {
   "cell_type": "markdown",
   "metadata": {},
   "source": [
    "밑의 코드는 모든 텍스트를 하나의 문자열로 다룬다. 이와 같이 다른 괄호들도 비슷하게 사용가능 "
   ]
  },
  {
   "cell_type": "code",
   "execution_count": null,
   "metadata": {},
   "outputs": [],
   "source": [
    "lenght_of_hypotenuse = ( (side1 * side1 + side2 * side2) ** 0.5)"
   ]
  },
  {
   "cell_type": "markdown",
   "metadata": {},
   "source": [
    "##### for 루프는 현명하게 사용한다 "
   ]
  },
  {
   "cell_type": "markdown",
   "metadata": {},
   "source": [
    "밑의 코드와 같이 리스트나 이터레이터의 내용을 직접 출력하는 것이 더 좋다 "
   ]
  },
  {
   "cell_type": "code",
   "execution_count": 5,
   "metadata": {},
   "outputs": [
    {
     "name": "stdout",
     "output_type": "stream",
     "text": [
      "John\n",
      "Paul\n",
      "George\n",
      "Ringo\n"
     ]
    }
   ],
   "source": [
    "beat_list = ['John', 'Paul', 'Georege', 'Ringo']\n",
    "\n",
    "for guy in beat_list:\n",
    "    print(guy)"
   ]
  },
  {
   "cell_type": "markdown",
   "metadata": {},
   "source": [
    "루프 변수를 사용할 수 있다고 하더라고, 번호를 생성하려면 enumerate 함수를 사용하는 것이 더 좋다 "
   ]
  },
  {
   "cell_type": "code",
   "execution_count": 8,
   "metadata": {},
   "outputs": [
    {
     "name": "stdout",
     "output_type": "stream",
     "text": [
      "1. John\n",
      "2. Paul\n",
      "3. Georege\n",
      "4. Ringo\n"
     ]
    }
   ],
   "source": [
    "beat_list = ['John', 'Paul', 'Georege', 'Ringo']\n",
    "\n",
    "for i, name in enumerate(beat_list, 1):\n",
    "    print(i, '. ', name, sep='')\n",
    "    "
   ]
  },
  {
   "cell_type": "markdown",
   "metadata": {},
   "source": [
    "인덱스를 사용하지 않고 변수 값을 변경하는 시도를 하면 변수가 참조하고 있던 객체 값이 변경되는 것이 아니라, 신규 객체가 생성되어 해당 변수에 대입이 되어 버린다. 즉, 기존의 객체 값이 변경되지 않는다"
   ]
  },
  {
   "cell_type": "code",
   "execution_count": 9,
   "metadata": {},
   "outputs": [
    {
     "name": "stdout",
     "output_type": "stream",
     "text": [
      "['John', 'Paul', 'George', 'Ringo']\n"
     ]
    }
   ],
   "source": [
    "beat_list = ['John', 'Paul', 'George', 'Ringo']\n",
    "\n",
    "for guy in beat_list:\n",
    "    guy = 'Chris'\n",
    "\n",
    "print(beat_list)"
   ]
  },
  {
   "cell_type": "markdown",
   "metadata": {},
   "source": [
    "##### 대입 연산자 조합을 이해한다 \n",
    "\n",
    "* 대입 연산자는 피연산자의 가변 유무에 따라 객체 값 변경 유무를 결정한다. 값을 바로 변경한다는 것은 완전히 새로운 객체를 생성하지 않고 메모리에 이미 존재하는 데이터를 변경한다는 의미다. 이런 연산은 더 빠르다\n",
    "\n",
    "* 정수, 부동소수점 숫자와 문자열은 불변의 성질을 갖는다. 이런 데이터 타입과 함께 사용된 대입 연산자는 객체 값을 직접 바꾸지 않는다. 대신 같은 변수에 완전히 새로운 객체를 생성하여 다시 대입해야만 한다"
   ]
  },
  {
   "cell_type": "code",
   "execution_count": 12,
   "metadata": {},
   "outputs": [
    {
     "name": "stdout",
     "output_type": "stream",
     "text": [
      "s1: A string. ...with more stuff!\n",
      "s2: A string. \n"
     ]
    }
   ],
   "source": [
    "s1 = s2 = 'A string. '\n",
    "s1 += '...with more stuff!'\n",
    "print('s1:', s1)\n",
    "print('s2:', s2)"
   ]
  },
  {
   "cell_type": "markdown",
   "metadata": {},
   "source": [
    "위 코드는 s1에 새로운 값이 대입될 때 메모리의 값을 변경하는 것이 아닌, 완전히 새로운 문자열을 대입하는 개념이다. 하지만 s2는 여전히 기존 문자열 데이터를 참조하고 있어 s1,s2는 이제 서로 다른 값을 가지게 됨"
   ]
  },
  {
   "cell_type": "code",
   "execution_count": 13,
   "metadata": {},
   "outputs": [
    {
     "name": "stdout",
     "output_type": "stream",
     "text": [
      "a_list: [10, 20, 30, 40]\n",
      "b_list: [10, 20, 30, 40]\n"
     ]
    }
   ],
   "source": [
    "a_list = b_list = [10, 20]\n",
    "a_list += [30,40]\n",
    "print('a_list:', a_list)\n",
    "print('b_list:', b_list)"
   ]
  },
  {
   "cell_type": "markdown",
   "metadata": {},
   "source": [
    "하지만 위와 같이 리스트는 가변적이며, 메모리의 값을 직접 변경할 수 있다 .  \n",
    "이번 코드는 리스트의 값을 직접 변경하기 때문에 신규 리스트를 생성하여 변수에 다시 대입할 필요가 없다.  \n",
    "a_list에 신규 리스트가 대입되지 않았기에 변수 b_list는 메모리의 동일한 데이터를 참조하며, a_list의 변경이 그대로 반영된다 "
   ]
  },
  {
   "cell_type": "markdown",
   "metadata": {},
   "source": [
    "값을 직접 변경하지 않는 연산은 신규 객체가 생성되어야 하기 때문에 덜 효율적이다. 그래서 큰 문자열을 만들 때 처리 속도가 중요하다면 += 연산자 대신 join 메서드를 사용하는 것이 유리하다. 다음 예시는 리스트를 생성하여 26개의 문자를 함께 연결하기 위해 join 메서드를 사용하는 예시이다."
   ]
  },
  {
   "cell_type": "code",
   "execution_count": 16,
   "metadata": {},
   "outputs": [
    {
     "data": {
      "text/plain": [
       "'abcdefghijklmnopqrstuvwxyz'"
      ]
     },
     "execution_count": 16,
     "metadata": {},
     "output_type": "execute_result"
    }
   ],
   "source": [
    "str_list = []\n",
    "n = ord('a')\n",
    "\n",
    "for i in range(n, n + 26):\n",
    "    str_list += chr(i)\n",
    "\n",
    "alphabet_str = ''.join(str_list)\n",
    "alphabet_str"
   ]
  },
  {
   "cell_type": "markdown",
   "metadata": {},
   "source": [
    "* += 와 같은 대입 연산자 조합은(리스트같은) 가변 데이터 타입을 다루는 경우 값을 메모리에서 직접 변경하지만, 불변 데이터 타입을 다루는 경우 신규 객체를 생성하여 좌측 피연산자 변수에 대입한다 \n",
    "\n",
    "* 메모리-값-변경 연산자는 신규 객체를 생성할 필요가 없기 때문에 더 빠르고 메모리 공간을 더 효율적으로 사용한다. 리스트 같은 경우 파이썬은 대개 런타임 시 리스트를 더 효율적으로 확장할 수 있도록 여분의 메모리를 할당한다 "
   ]
  },
  {
   "cell_type": "markdown",
   "metadata": {},
   "source": [
    "##### 다중 대입을 사용한다 "
   ]
  },
  {
   "cell_type": "code",
   "execution_count": 17,
   "metadata": {},
   "outputs": [
    {
     "data": {
      "text/plain": [
       "True"
      ]
     },
     "execution_count": 17,
     "metadata": {},
     "output_type": "execute_result"
    }
   ],
   "source": [
    "a = b = c = d = e = 0\n",
    "a is b"
   ]
  },
  {
   "cell_type": "markdown",
   "metadata": {},
   "source": [
    "위 코드와 같이 5개의 서로 다른 변수를 모두 같은값 0 으로 대입할 수 있다.  \n",
    "이 문장은 추후 변수 중 하나에 다른 객체를 대입하면 더 이상 True를 반환하지 않는다. "
   ]
  },
  {
   "cell_type": "markdown",
   "metadata": {},
   "source": [
    "##### 튜플 대입을 사용한다 \n",
    "\n",
    "다중 대입은 여러 변수에 동일한 초깃값을 대입할 때 유용하다 하지만 서로 다른 값을 각각 다른 변수에 대입하고 싶다면 어떻게 해야하나"
   ]
  },
  {
   "cell_type": "code",
   "execution_count": 19,
   "metadata": {},
   "outputs": [],
   "source": [
    "a = 1\n",
    "b = 0"
   ]
  },
  {
   "cell_type": "markdown",
   "metadata": {},
   "source": [
    "1에 a를 대입하고 0을 b에 대입한다고 가정했을때 위의 코드처럼 작성할 수 있다 "
   ]
  },
  {
   "cell_type": "code",
   "execution_count": 18,
   "metadata": {},
   "outputs": [],
   "source": [
    "a, b = 1, 0"
   ]
  },
  {
   "cell_type": "markdown",
   "metadata": {},
   "source": [
    "하지만 튜플 대입을 사용하면 1줄로 이 코드를 사용할 수 있다 "
   ]
  },
  {
   "cell_type": "markdown",
   "metadata": {},
   "source": [
    "이 방법은 대입 연산자 좌측에 변수를 나열하고, 우측에 같은 숫자의 값을 나열한다. 양쪽 개수가 반드시 동일해야 하지만, 한가지 예외가 있다.  \n",
    "여러 단일 값을 하나의 튜플에 대입할 수 있다"
   ]
  },
  {
   "cell_type": "code",
   "execution_count": 20,
   "metadata": {},
   "outputs": [],
   "source": [
    "a = 4, 8, 12"
   ]
  },
  {
   "cell_type": "code",
   "execution_count": 26,
   "metadata": {},
   "outputs": [
    {
     "name": "stdout",
     "output_type": "stream",
     "text": [
      "1123"
     ]
    }
   ],
   "source": [
    "def fibo(n):\n",
    "    a, b = 1, 0\n",
    "    \n",
    "    while a <= n:\n",
    "        print(a, end = '')\n",
    "        a, b = a + b, a\n",
    "fibo(4)"
   ]
  },
  {
   "cell_type": "markdown",
   "metadata": {},
   "source": [
    "프로그래밍 언어 대부분은 a와 b를 동시에 설정하는 방법을 제공하지 않는다.  \n",
    "b에 넣을 값이 변경되는 동시에, a에 넣을 값도 변경되기 때문에 값을 설정할 수 없다.  \n",
    "그래서 일반적으로 임시 변수가 필요하다 "
   ]
  },
  {
   "cell_type": "code",
   "execution_count": null,
   "metadata": {},
   "outputs": [],
   "source": [
    "temp = a\n",
    "a = a + b\n",
    "b = temp"
   ]
  },
  {
   "cell_type": "markdown",
   "metadata": {},
   "source": [
    "하지만 튜플 대입을 사용하면 임시 변수가 필요없다 "
   ]
  },
  {
   "cell_type": "code",
   "execution_count": null,
   "metadata": {},
   "outputs": [],
   "source": [
    "a, b = a + b, a"
   ]
  },
  {
   "cell_type": "markdown",
   "metadata": {},
   "source": [
    "더 간단한 튜플 대입 예시가 있는데 다음과 같이 두 값을 변경할때 유용하게 쓰인다 "
   ]
  },
  {
   "cell_type": "code",
   "execution_count": 29,
   "metadata": {},
   "outputs": [
    {
     "name": "stdout",
     "output_type": "stream",
     "text": [
      "1 25\n",
      "25 1\n"
     ]
    }
   ],
   "source": [
    "x, y = 1, 25\n",
    "print(x, y)\n",
    "x, y = y, x\n",
    "print(x, y)"
   ]
  },
  {
   "cell_type": "markdown",
   "metadata": {},
   "source": [
    "##### 고급 튜플 대입을 사용한다 "
   ]
  },
  {
   "cell_type": "code",
   "execution_count": 30,
   "metadata": {},
   "outputs": [
    {
     "data": {
      "text/plain": [
       "(10, 20, 30)"
      ]
     },
     "execution_count": 30,
     "metadata": {},
     "output_type": "execute_result"
    }
   ],
   "source": [
    "tup = 10, 20, 30\n",
    "a, b, c = tup\n",
    "a, b, c"
   ]
  },
  {
   "cell_type": "markdown",
   "metadata": {},
   "source": [
    "튜플 대입은 정제 기능을 제공하는데 위 코드와 같이 여러 변수에 튜플의 항목을 하나씩 대입하는 튜플 언팩을 할 수 있다"
   ]
  },
  {
   "cell_type": "code",
   "execution_count": null,
   "metadata": {},
   "outputs": [],
   "source": [
    "tup = 10, 20, 30\n",
    "a, b = tup"
   ]
  },
  {
   "cell_type": "markdown",
   "metadata": {},
   "source": [
    "튜플 언팩을 시도할 때는 대입 연산자 좌측의 변수 개수와 우측의 값 개수가 반드시 동일해야 한다 위의 예시는 런타임 에러를 발생"
   ]
  },
  {
   "cell_type": "markdown",
   "metadata": {},
   "source": [
    "간혹 1개의 항목을 가진 튜플을 만들 때 유용한 기법이 있다. 1개의 항목을 가지는 리스트를 만드는 것은 간단하다 "
   ]
  },
  {
   "cell_type": "code",
   "execution_count": 31,
   "metadata": {},
   "outputs": [],
   "source": [
    "my_list = [3]"
   ]
  },
  {
   "cell_type": "markdown",
   "metadata": {},
   "source": [
    "위 코드는 1개의 항목으로 3을 갖는 리스트를 생성한다 하지만 밑의 코드는 튜플을 생성하지 않는다"
   ]
  },
  {
   "cell_type": "code",
   "execution_count": 32,
   "metadata": {},
   "outputs": [
    {
     "name": "stdout",
     "output_type": "stream",
     "text": [
      "<class 'int'>\n"
     ]
    }
   ],
   "source": [
    "my_tup = (3)\n",
    "print(type(my_tup))"
   ]
  },
  {
   "cell_type": "markdown",
   "metadata": {},
   "source": [
    "위 코드의 결과를 확인해 보니 변수 my_tup의 타입은 그저 정수일 뿐이며 이 결과는 우리가 원하는 결과가 아니다. 소괄호 기호는 아무 연산 처리도 하지 않으며, 어느 개수의 괄호가 와도 마찬가지다"
   ]
  },
  {
   "cell_type": "code",
   "execution_count": 35,
   "metadata": {},
   "outputs": [],
   "source": [
    "my_tup = (3,)"
   ]
  },
  {
   "cell_type": "markdown",
   "metadata": {},
   "source": [
    "위 코드는 1개의 항목을 가진 튜플을 만들어 준다, 하지만 앞서 언급했듯이, 단 하나의 항목을 가지는 튜플을 생성하는 경우는 극히 드물다 "
   ]
  },
  {
   "cell_type": "code",
   "execution_count": 40,
   "metadata": {},
   "outputs": [
    {
     "name": "stdout",
     "output_type": "stream",
     "text": [
      "2 [4, 6, 8]\n"
     ]
    }
   ],
   "source": [
    "a, *b = 2, 4, 6, 8\n",
    "print(a, b)"
   ]
  },
  {
   "cell_type": "markdown",
   "metadata": {},
   "source": [
    "별표 기호(*)를 사용하면 튜플 대입에 추가적인 유연성을 더할 수 있다. 튜플을 활용하면 한 변수는 나머지 항목들을 담는 리스트가 될 수 있다. 위코드에서 변수 a는 2를 가지며, 변수 b는 나머지 항목들을 갖는 리스트가 된다"
   ]
  },
  {
   "cell_type": "code",
   "execution_count": 41,
   "metadata": {},
   "outputs": [
    {
     "name": "stdout",
     "output_type": "stream",
     "text": [
      "10 [20, 30, 40] 50\n"
     ]
    }
   ],
   "source": [
    "a, *b, c = 10, 20, 30, 40, 50\n",
    "print(a, b, c)"
   ]
  },
  {
   "cell_type": "markdown",
   "metadata": {},
   "source": [
    "별표 기호는 좌측 변수 중 어떤 곳으로도 옮길 수 있지만, 1개 이상 사용할 수 없다.  \n",
    "별표 기호가 붙은 변수는 나머지 항목들을 모두 품는 리스트를 갖게 된다 "
   ]
  },
  {
   "cell_type": "code",
   "execution_count": 43,
   "metadata": {},
   "outputs": [
    {
     "name": "stdout",
     "output_type": "stream",
     "text": [
      "100\n",
      "200\n",
      "[300, 400, 500, 600]\n"
     ]
    }
   ],
   "source": [
    "big, bigger, *many = 100, 200, 300, 400, 500, 600\n",
    "print(big, bigger, many, sep='\\n')"
   ]
  },
  {
   "cell_type": "markdown",
   "metadata": {},
   "source": [
    "위와 같이 별표 기호는 마지막 항목에 붙일 수도 있다"
   ]
  },
  {
   "cell_type": "markdown",
   "metadata": {},
   "source": [
    "##### 리스트와 문자열 '곱하기'를 사용한다 "
   ]
  },
  {
   "cell_type": "code",
   "execution_count": null,
   "metadata": {},
   "outputs": [],
   "source": [
    "my_list = [0, 0, 0, 0, 0, 0, 0, 0, 0...]"
   ]
  },
  {
   "cell_type": "markdown",
   "metadata": {},
   "source": [
    "위 코드처럼 1만개의 0으로 이루어진 리스트를 만드는 것은 시간 낭비다 따라서 곱하기 연산자를 사용하는게 효율적"
   ]
  },
  {
   "cell_type": "code",
   "execution_count": 46,
   "metadata": {},
   "outputs": [
    {
     "data": {
      "text/plain": [
       "[0, 0, 0, 0, 0, 0, 0, 0, 0, 0]"
      ]
     },
     "execution_count": 46,
     "metadata": {},
     "output_type": "execute_result"
    }
   ],
   "source": [
    "my_list = [0] * 10\n",
    "my_list"
   ]
  },
  {
   "cell_type": "code",
   "execution_count": 47,
   "metadata": {},
   "outputs": [
    {
     "data": {
      "text/plain": [
       "[12, 12, 12, 12, 12, 12, 12, 12, 12, 12]"
      ]
     },
     "execution_count": 47,
     "metadata": {},
     "output_type": "execute_result"
    }
   ],
   "source": [
    "my_list = 10 * [12]\n",
    "my_list"
   ]
  },
  {
   "cell_type": "markdown",
   "metadata": {},
   "source": [
    "위와 같이 곱하기 연산자는 어느 위치에 와도 상관없다 "
   ]
  },
  {
   "cell_type": "code",
   "execution_count": 48,
   "metadata": {},
   "outputs": [
    {
     "data": {
      "text/plain": [
       "[1, 2, 3, 1, 2, 3, 1, 2, 3]"
      ]
     },
     "execution_count": 48,
     "metadata": {},
     "output_type": "execute_result"
    }
   ],
   "source": [
    "trip_list = [1, 2, 3] * 3\n",
    "trip_list"
   ]
  },
  {
   "cell_type": "markdown",
   "metadata": {},
   "source": [
    "더 긴 연산자도 상관없지만 곱하기 기호는 유일한 키를 가지는 딕셔너리와 세트에서는 사용할 수 없다.  \n",
    "하지만 문자열에서는 사용 가능 "
   ]
  },
  {
   "cell_type": "code",
   "execution_count": 50,
   "metadata": {},
   "outputs": [
    {
     "data": {
      "text/plain": [
       "'________________________________________'"
      ]
     },
     "execution_count": 50,
     "metadata": {},
     "output_type": "execute_result"
    }
   ],
   "source": [
    "divider_str = '_' * 40\n",
    "divider_str"
   ]
  },
  {
   "cell_type": "markdown",
   "metadata": {},
   "source": [
    "##### 다중 값을 반환한다 "
   ]
  },
  {
   "cell_type": "code",
   "execution_count": 51,
   "metadata": {},
   "outputs": [
    {
     "data": {
      "text/plain": [
       "10"
      ]
     },
     "execution_count": 51,
     "metadata": {},
     "output_type": "execute_result"
    }
   ],
   "source": [
    "def double_me(n):\n",
    "    n *= 2\n",
    "    \n",
    "a = 10\n",
    "double_me(a)\n",
    "a"
   ]
  },
  {
   "cell_type": "markdown",
   "metadata": {},
   "source": [
    "위 코드와 같이 n에 새로운 값이 대입되면 기존 값과 연결이 끊어진다. 결국 n은 로컬 변수가 되며, 메모리의 다른 영역에 값을 저장하게 된다. 함수에 전달된 변수는 영향을 받지 않는다. "
   ]
  },
  {
   "cell_type": "code",
   "execution_count": 52,
   "metadata": {},
   "outputs": [
    {
     "data": {
      "text/plain": [
       "4"
      ]
     },
     "execution_count": 52,
     "metadata": {},
     "output_type": "execute_result"
    }
   ],
   "source": [
    "def double_me(n):\n",
    "    return n * 2\n",
    "\n",
    "a = 10\n",
    "a = double_me(2)\n",
    "a"
   ]
  },
  {
   "cell_type": "markdown",
   "metadata": {},
   "source": [
    "위 코드처럼 출력 매개변수로 하나의 값을 반환하는 것이다 "
   ]
  },
  {
   "cell_type": "code",
   "execution_count": 56,
   "metadata": {},
   "outputs": [
    {
     "data": {
      "text/plain": [
       "(1.618033988749895, -0.6180339887498949)"
      ]
     },
     "execution_count": 56,
     "metadata": {},
     "output_type": "execute_result"
    }
   ],
   "source": [
    "def quad(a, b, c):\n",
    "    determin = (b * b - 4 * a * c) ** .5\n",
    "    x1 = (-b + determin) / (2 * a)\n",
    "    x2 = (-b - determin) / (2 * a)\n",
    "    return x1, x2\n",
    "x = quad(1, -1, -1)\n",
    "x"
   ]
  },
  {
   "cell_type": "markdown",
   "metadata": {},
   "source": [
    "위 코드 처럼 값 여러개를 원하는 만큼 반환할 수 있다 함수가 반환하는 여러 값을 1개의 변수로 받으면 그 변수는 여러 값을 담고 있는 튜플이 된다 "
   ]
  },
  {
   "cell_type": "markdown",
   "metadata": {},
   "source": [
    "##### 루프와 else 키워드를 사용한다   \n",
    "\n",
    "else 키워드는 대개 if 키워드와 함께 쓰인다. 하지만 파이썬에서는 루프에서 사용하는 try-except 문법으로 사용될 수 있다.  \n",
    "루프와 함께 사용한 else는 루프가 break 문을 만나서 일찍 빠져나오지 않는 한 루프 종료 시 실행된다"
   ]
  },
  {
   "cell_type": "code",
   "execution_count": 58,
   "metadata": {},
   "outputs": [
    {
     "name": "stdout",
     "output_type": "stream",
     "text": [
      "7 divides evenly into 49\n"
     ]
    }
   ],
   "source": [
    "def find_divisor(n, max):\n",
    "    for i in range(2, max + 1):\n",
    "        if n % i == 0:\n",
    "            print(i, 'divides evenly into', n)\n",
    "            break\n",
    "    else:\n",
    "        print('No divisor found')\n",
    "        \n",
    "find_divisor(49, 7)\n"
   ]
  },
  {
   "cell_type": "markdown",
   "metadata": {},
   "source": [
    "위 코드는 2보다 크고 max 보다 작거나 같은 숫자 중에 n을 나머지 없이 나눌 수 있는 약수를 찾는다.  \n",
    "약수를 찾지 못하는 경우 루프가 종료되면서 else 문이 실행된다"
   ]
  },
  {
   "cell_type": "markdown",
   "metadata": {},
   "source": [
    "##### 불리언과 'not'의 이점을 활용한다  \n",
    "\n",
    "파이썬은 모든 객체를 True 혹은 False로 평가할 수 있다. 가령 파이썬의 모든 빈 컬렉션이나 None인 컬렉션을 불리언으로 테스트하면 False다. 밑의 코드는 문자열의 길이가 0인 것을 테스트하고 있다. "
   ]
  },
  {
   "cell_type": "code",
   "execution_count": null,
   "metadata": {},
   "outputs": [],
   "source": [
    "if len(my_str) == 0:\n",
    "    break"
   ]
  },
  {
   "cell_type": "markdown",
   "metadata": {},
   "source": [
    "하지만 다음과 같이 작성할 수도 있다 "
   ]
  },
  {
   "cell_type": "code",
   "execution_count": null,
   "metadata": {},
   "outputs": [],
   "source": [
    "if not my_str:\n",
    "    break"
   ]
  },
  {
   "cell_type": "markdown",
   "metadata": {},
   "source": [
    "불리언은 일반적으로 다음과 같은 규칙을 따른다  \n",
    "* 데이터가 존재하는 컬렉션이나 문자열은 True이다. 0이 아닌 숫자도 마찬가지다 \n",
    "* 길이가 0인 컬렉션이나 문자열은 False로 평간된다. 값이 0인 숫자나 None도 마찬가지로 False로 평가"
   ]
  },
  {
   "cell_type": "markdown",
   "metadata": {},
   "source": [
    "##### 문자열은 문자의 나열로 다룬다  \n",
    "\n",
    "각각의 문자들로 복잡한 연산 처리를 한 후 문자열을 만든다면 문자(길이가 1인 문자열) 로 이루어진 리스트를 생성하여 join과 함께 리스트 함축을 사용하는 것이 더 효율적일 때가 있다 "
   ]
  },
  {
   "cell_type": "markdown",
   "metadata": {},
   "source": [
    "예를 들어 문자열이 회문(앞에서부터 읽으나, 뒤에서부터 읽으나 같은 문자열)인 것을 테스트할때 입력한 문자열의 모든 구두점과 빈칸을 제거한 후 모든 글자를 대문자 혹은 소문자로 바꾸는 것이 편리하다. 다음과 같이 리스트 함축은 이 작업을 효율적으로 수행한다 "
   ]
  },
  {
   "cell_type": "code",
   "execution_count": 60,
   "metadata": {},
   "outputs": [
    {
     "name": "stdout",
     "output_type": "stream",
     "text": [
      "True\n"
     ]
    }
   ],
   "source": [
    "test_str = input('Enter test string: ')\n",
    "a_list = [c.upper() for c in test_str if c.isalnum()]\n",
    "print(a_list == a_list[::-1])"
   ]
  },
  {
   "cell_type": "markdown",
   "metadata": {},
   "source": [
    "코드의 두번째 줄에서는 리스트 함축 사용  \n",
    "코드의 세번째 줄에서는 슬라이싱을 사용하여 역순으로 변경된 리스트를 확보 "
   ]
  },
  {
   "cell_type": "markdown",
   "metadata": {},
   "source": [
    "##### replace를 사용하여 문자를 제거한다  \n",
    "\n",
    "문자열에서 특정 문자를 빠르게 제거하려면 replace 함수를 사용하여 해당 문자를 빈 문자열로 교체할 수 있다 "
   ]
  },
  {
   "cell_type": "code",
   "execution_count": null,
   "metadata": {},
   "outputs": [],
   "source": [
    "s = s.replace(' ', '')"
   ]
  },
  {
   "cell_type": "markdown",
   "metadata": {},
   "source": [
    "이와 비슷한 코드로 불필요한 문자나 부분 문자열을 삭제할 수 있을 것이다. 하지만 한번에 하나씩만 가능한데 만약 한번에 모든 모음을 삭제하고 싶다고 가정했을때 밑의 코드처럼 리스트 함축을 사용하면 된다 "
   ]
  },
  {
   "cell_type": "code",
   "execution_count": null,
   "metadata": {},
   "outputs": [],
   "source": [
    "a_list = [c for c in s if c not in 'aeiou']\n",
    "s = ''.join(a_list)"
   ]
  },
  {
   "cell_type": "markdown",
   "metadata": {},
   "source": [
    "##### 필요 없는 루프는 사용하지 않는다 "
   ]
  },
  {
   "cell_type": "code",
   "execution_count": 62,
   "metadata": {},
   "outputs": [],
   "source": [
    "def calc_triangle_num(n):\n",
    "    return sum(range(n+1))"
   ]
  },
  {
   "cell_type": "markdown",
   "metadata": {},
   "source": [
    "위 코드는 1+2+3+...+N을 계산한다 "
   ]
  },
  {
   "cell_type": "code",
   "execution_count": 63,
   "metadata": {},
   "outputs": [],
   "source": [
    "def get_avg(a_list):\n",
    "    return sum(a_list) / len(a_list)"
   ]
  },
  {
   "cell_type": "markdown",
   "metadata": {},
   "source": [
    "##### 연결된 비교 연산자를 사용한다 "
   ]
  },
  {
   "cell_type": "code",
   "execution_count": null,
   "metadata": {},
   "outputs": [],
   "source": [
    "if 0 < x and x < 100:\n",
    "    print('x is in range.')"
   ]
  },
  {
   "cell_type": "markdown",
   "metadata": {},
   "source": [
    "위 코드를 짧게 변경하면 밑 코드와 같이 나타낼 수 있다 "
   ]
  },
  {
   "cell_type": "code",
   "execution_count": null,
   "metadata": {},
   "outputs": [],
   "source": [
    "if 0 < x < 100:\n",
    "    print('x is in range.')"
   ]
  },
  {
   "cell_type": "markdown",
   "metadata": {},
   "source": [
    "우리는 이 기능을 더 폭 넓게 사용할 수 있다. 비교 대상의 개수는 제한이 없으며 ==, <, <=, >, >= 를 포함한 모든 표준 비교 연산자를 사용할 수 있다. 화살표 방향은 동일한 방향을 바라볼 필요도 없고, 어떤 순서로도 나열할 수 있다. "
   ]
  },
  {
   "cell_type": "code",
   "execution_count": 65,
   "metadata": {},
   "outputs": [
    {
     "name": "stdout",
     "output_type": "stream",
     "text": [
      "All these comparisons are true!\n",
      "s is equal or greater than all the rest!\n"
     ]
    }
   ],
   "source": [
    "a, b, c, = 5, 10, 15\n",
    "if 0 < a <= c > b > 1:\n",
    "    print('All these comparisons are true!')\n",
    "    print('s is equal or greater than all the rest!')"
   ]
  },
  {
   "cell_type": "markdown",
   "metadata": {},
   "source": [
    "이 기법은 밑 코드와 같이 나열된 변수 값의 동일 유무를 판단하는 데도 사용할 수 있다"
   ]
  },
  {
   "cell_type": "code",
   "execution_count": 66,
   "metadata": {},
   "outputs": [
    {
     "name": "stdout",
     "output_type": "stream",
     "text": [
      "All the variables are equal to each other.\n"
     ]
    }
   ],
   "source": [
    "a = b = c = d = e = 100\n",
    "if a == b == c == d == e:\n",
    "    print('All the variables are equal to each other.')"
   ]
  },
  {
   "cell_type": "markdown",
   "metadata": {},
   "source": [
    "더 큰 데이터 집합인 경우 더 효율적으로 같은 결과를 얻을 수 있다. 리스트 크기와는 무관하게 다음과 같이  테스트 할 수 있다 "
   ]
  },
  {
   "cell_type": "code",
   "execution_count": 67,
   "metadata": {},
   "outputs": [],
   "source": [
    "if min(a_list) == max(a_list):\n",
    "    print('All the elements are equal to each other')"
   ]
  },
  {
   "cell_type": "markdown",
   "metadata": {},
   "source": [
    "##### 함수 테이블(리스트, 딕셔너리)로 swtich 문을 모방한다 "
   ]
  },
  {
   "cell_type": "code",
   "execution_count": null,
   "metadata": {},
   "outputs": [],
   "source": [
    "if n == 1:\n",
    "    do_plot(stockdf)\n",
    "elif n == 2:\n",
    "    do_hughlow_plot(stockdf)\n",
    "elif n == 3:\n",
    "    do_volume_subplot(stockdf)\n",
    "elif n == 4:\n",
    "    do_movingavg_lpot(stockdf)\n"
   ]
  },
  {
   "cell_type": "markdown",
   "metadata": {},
   "source": [
    "이런 코드는 너무 장황하다. 동작은 하겠지만, 이렇게 까지 길 필요는 없다. 파이썬 함수는 객체이며, 다른 객체와 같이 리스트의 항목으로 집어넣을 수 있다. 그러면 함수 참조를 리스트에서 추출하여 호출할 수 있다."
   ]
  },
  {
   "cell_type": "code",
   "execution_count": null,
   "metadata": {},
   "outputs": [],
   "source": [
    "fn = [do_plot, do_highlow_plot, do_volume_subplot, do_movingavg_plot][n-1]\n",
    "fn(stockdf)"
   ]
  },
  {
   "cell_type": "markdown",
   "metadata": {},
   "source": [
    "예를 들어 n-1이 0이면 리스트 첫 항목인 do_plot이 실행된다.  \n",
    "이 코드는 n 값에 따라 다른 함수를 호출하는 C++ switch 문의 간결한 버전을 보여준다 "
   ]
  },
  {
   "cell_type": "code",
   "execution_count": null,
   "metadata": {},
   "outputs": [],
   "source": [
    "menu_dict = {'load':load_fn, 'save':save_fc, 'exit': exit_fn, 'update':update_fn}\n",
    "(menu_dict[selector])()"
   ]
  },
  {
   "cell_type": "markdown",
   "metadata": {},
   "source": [
    "위 코드처럼 함수들을 딕셔너리와 조합하면 조금 더 유연하게 제어할 수 있다.  \n",
    "예를 들어 'load', 'save', 'update', 'exit'와 같은 메뉴 함수가 있다고 할때 위 처럼 switch문과 동일하게 구현할 수 있다. 이제 selector에 저장된 문자열과 같은 이름의 함수를 호출 할 수 있다 "
   ]
  },
  {
   "cell_type": "markdown",
   "metadata": {},
   "source": [
    "##### is 연산자는 정확하게 사용한다 \n",
    "\n",
    "파이썬은 동등 비교 연산자(==)와 is 연산자를 모두 지원한다. 두 결과는 같을때도 있지만, 다를때도 있다 "
   ]
  },
  {
   "cell_type": "code",
   "execution_count": 68,
   "metadata": {},
   "outputs": [
    {
     "data": {
      "text/plain": [
       "True"
      ]
     },
     "execution_count": 68,
     "metadata": {},
     "output_type": "execute_result"
    }
   ],
   "source": [
    "a = 'cat'\n",
    "b = 'cat'\n",
    "a == b"
   ]
  },
  {
   "cell_type": "markdown",
   "metadata": {},
   "source": [
    "하지만 is 연산자는 두 문자열이 같은 값을 가지고 있다고 하더라도 문자열 비교 결과가 항상 True일 것이라고 보장할 수 없으며, 이 결과에 의존하기엔 리스크가 크다. "
   ]
  },
  {
   "cell_type": "code",
   "execution_count": 72,
   "metadata": {},
   "outputs": [
    {
     "data": {
      "text/plain": [
       "False"
      ]
     },
     "execution_count": 72,
     "metadata": {},
     "output_type": "execute_result"
    }
   ],
   "source": [
    "s1 = 'I am what I am and that is all that I am.'\n",
    "s2 = 'I am what I am' + ' and that is all that I am.'\n",
    "s1 == s2\n",
    "\n",
    "s1 is s2"
   ]
  },
  {
   "cell_type": "markdown",
   "metadata": {},
   "source": [
    "is 연산자를 믿을 수 없다면 언어에서 이 연산자를 제공하는 이유는 뭘까..  \n",
    "그 이유는 파이썬이 None, True, False와 같은 독특한 객체를 가지고 있기 때문이다. 만약 동일한 객체의 값을 비교하고 있다는 것이 확실하다면 is 키워드는 믿을 만하다. 게다가 is 연산자를 사용한 비교가 더 효율적이다"
   ]
  },
  {
   "cell_type": "code",
   "execution_count": null,
   "metadata": {},
   "outputs": [],
   "source": [
    "a_value = my_function()\n",
    "if a_value is None:"
   ]
  },
  {
   "cell_type": "markdown",
   "metadata": {},
   "source": [
    "##### 단일 행 for 루프를 사용한다   \n",
    "\n",
    "for 루프가 루프안에 1줄(블록문)만 있을 정도로 충분히 짧다면 전체 for 루프를 물리적으로 1줄에 다 넣을 수 있다 "
   ]
  },
  {
   "cell_type": "code",
   "execution_count": 73,
   "metadata": {},
   "outputs": [
    {
     "name": "stdout",
     "output_type": "stream",
     "text": [
      "0 1 2 3 4 5 6 7 8 9 "
     ]
    }
   ],
   "source": [
    "for i in range(10): print(i, end=' ')"
   ]
  },
  {
   "cell_type": "markdown",
   "metadata": {},
   "source": [
    "##### 여러 문장을 하나의 행으로 줄인다  \n",
    "\n",
    "코드의 문장들이 충분히 짧다면 여러 문장을 1줄로 작성할 수 있다.  \n",
    "이 기법은 문장을 세미콜론(;) 으로 물리적인 줄을 나누는 기준으로 사용하는 것이다."
   ]
  },
  {
   "cell_type": "code",
   "execution_count": 75,
   "metadata": {},
   "outputs": [
    {
     "name": "stdout",
     "output_type": "stream",
     "text": [
      "5 7 9 11 13 "
     ]
    }
   ],
   "source": [
    "for i in range(5): n = i * 2; m = 5; print(n+m, end=' ')"
   ]
  },
  {
   "cell_type": "markdown",
   "metadata": {},
   "source": [
    "여러 루프도 이 방식으로 1줄로 넣을 수 있다. 또한, 반드시 루프를 넣을 필요도 없다. 원하는 문장들도 1줄로 작성할 수 있다. "
   ]
  },
  {
   "cell_type": "code",
   "execution_count": 76,
   "metadata": {},
   "outputs": [
    {
     "name": "stdout",
     "output_type": "stream",
     "text": [
      "3\n"
     ]
    }
   ],
   "source": [
    "a = 1; b = 2; c = a + b; print(c)"
   ]
  },
  {
   "cell_type": "markdown",
   "metadata": {},
   "source": [
    "##### range와 함께 enum을 생성한다  \n",
    "\n",
    "많은 프로그래머는 일명 마법의 숫자 대신 열거식 타입을 사용하는 것을 선호한다. 가령 red, green, blue, black, white를 숫자 1부터 5까지 표현하는 color_indicator 변수가 있다고 해보자. 만약 리터럴 숫자 1부터 5대신 색 이름을 사용하면 코드의 가독성이 좋아질 것이다 "
   ]
  },
  {
   "cell_type": "code",
   "execution_count": 78,
   "metadata": {},
   "outputs": [],
   "source": [
    "red = 0 \n",
    "blue = 1\n",
    "green = 2\n",
    "black = 3\n",
    "white = 4"
   ]
  },
  {
   "cell_type": "markdown",
   "metadata": {},
   "source": [
    "위 코드는 잘 동작하겠지만, range 함수와 함께 다중대입을 사용하면 더 간단하게 코드를 자동화 할 수 있다 "
   ]
  },
  {
   "cell_type": "code",
   "execution_count": 79,
   "metadata": {},
   "outputs": [],
   "source": [
    "red, blue, green, black, white = range(5)"
   ]
  },
  {
   "cell_type": "markdown",
   "metadata": {},
   "source": [
    "##### IDLE 안에서 비효율적인 print 함수 사용을 줄인다  \n",
    "\n",
    "IDLE 안에서 호출한 print 문 실행 속도는 느리므로 print 호출 빈도수를 줄인다 "
   ]
  },
  {
   "cell_type": "code",
   "execution_count": 80,
   "metadata": {},
   "outputs": [
    {
     "name": "stdout",
     "output_type": "stream",
     "text": [
      "* * * * * * * * * * * * * * * * * * * * * * * * * * * * * * * * * * * * * * * * \n",
      "* * * * * * * * * * * * * * * * * * * * * * * * * * * * * * * * * * * * * * * * \n",
      "* * * * * * * * * * * * * * * * * * * * * * * * * * * * * * * * * * * * * * * * \n",
      "* * * * * * * * * * * * * * * * * * * * * * * * * * * * * * * * * * * * * * * * \n",
      "* * * * * * * * * * * * * * * * * * * * * * * * * * * * * * * * * * * * * * * * \n",
      "* * * * * * * * * * * * * * * * * * * * * * * * * * * * * * * * * * * * * * * * \n",
      "* * * * * * * * * * * * * * * * * * * * * * * * * * * * * * * * * * * * * * * * \n",
      "* * * * * * * * * * * * * * * * * * * * * * * * * * * * * * * * * * * * * * * * \n",
      "* * * * * * * * * * * * * * * * * * * * * * * * * * * * * * * * * * * * * * * * \n",
      "* * * * * * * * * * * * * * * * * * * * * * * * * * * * * * * * * * * * * * * * \n",
      "* * * * * * * * * * * * * * * * * * * * * * * * * * * * * * * * * * * * * * * * \n",
      "* * * * * * * * * * * * * * * * * * * * * * * * * * * * * * * * * * * * * * * * \n",
      "* * * * * * * * * * * * * * * * * * * * * * * * * * * * * * * * * * * * * * * * \n",
      "* * * * * * * * * * * * * * * * * * * * * * * * * * * * * * * * * * * * * * * * \n",
      "* * * * * * * * * * * * * * * * * * * * * * * * * * * * * * * * * * * * * * * * \n",
      "* * * * * * * * * * * * * * * * * * * * * * * * * * * * * * * * * * * * * * * * \n",
      "* * * * * * * * * * * * * * * * * * * * * * * * * * * * * * * * * * * * * * * * \n",
      "* * * * * * * * * * * * * * * * * * * * * * * * * * * * * * * * * * * * * * * * \n",
      "* * * * * * * * * * * * * * * * * * * * * * * * * * * * * * * * * * * * * * * * \n",
      "* * * * * * * * * * * * * * * * * * * * * * * * * * * * * * * * * * * * * * * * \n"
     ]
    }
   ],
   "source": [
    "for i in range(20):\n",
    "    for j in range(40):\n",
    "        print('*', end=' ')\n",
    "    print()"
   ]
  },
  {
   "cell_type": "markdown",
   "metadata": {},
   "source": [
    "만약 한번에 한 행의 별표 기호를 출력하면 훨씬 성능이 좋아진다 "
   ]
  },
  {
   "cell_type": "code",
   "execution_count": 81,
   "metadata": {},
   "outputs": [
    {
     "name": "stdout",
     "output_type": "stream",
     "text": [
      "****************************************\n",
      "****************************************\n",
      "****************************************\n",
      "****************************************\n",
      "****************************************\n",
      "****************************************\n",
      "****************************************\n",
      "****************************************\n",
      "****************************************\n",
      "****************************************\n",
      "****************************************\n",
      "****************************************\n",
      "****************************************\n",
      "****************************************\n",
      "****************************************\n",
      "****************************************\n",
      "****************************************\n",
      "****************************************\n",
      "****************************************\n",
      "****************************************\n"
     ]
    }
   ],
   "source": [
    "row_of_asterisks = '*' * 40\n",
    "for i in range(20):\n",
    "    print(row_of_asterisks)"
   ]
  },
  {
   "cell_type": "markdown",
   "metadata": {},
   "source": [
    "하지만 최고 성능을 확보 하는 방법은 여러 줄의 큰 문자열을 미리 만들고 나서 print 함수를 한번만 호출하게 하는 것"
   ]
  },
  {
   "cell_type": "code",
   "execution_count": 83,
   "metadata": {},
   "outputs": [
    {
     "name": "stdout",
     "output_type": "stream",
     "text": [
      "****************************************\n",
      "****************************************\n",
      "****************************************\n",
      "****************************************\n",
      "****************************************\n",
      "****************************************\n",
      "****************************************\n",
      "****************************************\n",
      "****************************************\n",
      "****************************************\n",
      "****************************************\n",
      "****************************************\n",
      "****************************************\n",
      "****************************************\n",
      "****************************************\n",
      "****************************************\n",
      "****************************************\n",
      "****************************************\n",
      "****************************************\n",
      "****************************************\n",
      "\n"
     ]
    }
   ],
   "source": [
    "row_of_asterisks = '*' * 40\n",
    "s = ''\n",
    "for i in range(20):\n",
    "    s += row_of_asterisks + '\\n'\n",
    "print(s)"
   ]
  },
  {
   "cell_type": "markdown",
   "metadata": {},
   "source": [
    "문자열 클래스의 join 메서드를 사용하면 성능을 더 개선할 수 있는데 매번 새로운 문자열을 생성하여 추가하는 것보다 메모리상의 동일 리스트에 값을 추가하기 때문이다 "
   ]
  },
  {
   "cell_type": "code",
   "execution_count": 84,
   "metadata": {},
   "outputs": [
    {
     "name": "stdout",
     "output_type": "stream",
     "text": [
      "****************************************\n",
      "****************************************\n",
      "****************************************\n",
      "****************************************\n",
      "****************************************\n",
      "****************************************\n",
      "****************************************\n",
      "****************************************\n",
      "****************************************\n",
      "****************************************\n",
      "****************************************\n",
      "****************************************\n",
      "****************************************\n",
      "****************************************\n",
      "****************************************\n",
      "****************************************\n",
      "****************************************\n",
      "****************************************\n",
      "****************************************\n",
      "****************************************\n"
     ]
    }
   ],
   "source": [
    "row_of_asterisks = '*' * 40\n",
    "list_of_str = []\n",
    "for i in range(20):\n",
    "    list_of_str.append(row_of_asterisks)\n",
    "print('\\n'.join(list_of_str))\n"
   ]
  },
  {
   "cell_type": "markdown",
   "metadata": {},
   "source": [
    "이 코드를 한줄로 만들 수 도 있다 "
   ]
  },
  {
   "cell_type": "code",
   "execution_count": 85,
   "metadata": {},
   "outputs": [
    {
     "name": "stdout",
     "output_type": "stream",
     "text": [
      "****************************************\n",
      "****************************************\n",
      "****************************************\n",
      "****************************************\n",
      "****************************************\n",
      "****************************************\n",
      "****************************************\n",
      "****************************************\n",
      "****************************************\n",
      "****************************************\n",
      "****************************************\n",
      "****************************************\n",
      "****************************************\n",
      "****************************************\n",
      "****************************************\n",
      "****************************************\n",
      "****************************************\n",
      "****************************************\n",
      "****************************************\n",
      "****************************************\n"
     ]
    }
   ],
   "source": [
    "print('\\n'.join(['*' * 40] * 20))"
   ]
  },
  {
   "cell_type": "markdown",
   "metadata": {},
   "source": [
    "##### 큰 번호 안에 언더스코어를 넣는다 "
   ]
  },
  {
   "cell_type": "code",
   "execution_count": 87,
   "metadata": {},
   "outputs": [
    {
     "data": {
      "text/plain": [
       "1500500"
      ]
     },
     "execution_count": 87,
     "metadata": {},
     "output_type": "execute_result"
    }
   ],
   "source": [
    "CEO_calary = 1_500_500\n",
    "CEO_calary"
   ]
  },
  {
   "cell_type": "markdown",
   "metadata": {},
   "source": [
    "다음 규칙에 따라 언더스코어 기호는 숫자 안에 어디로든지 위치할 수 있다.  \n",
    "파이썬은 이 숫자를 읽을 때 언더스코어 없이 숫자를 읽게 된다  \n",
    "\n",
    "* 한 번에 언더스코어를 2개 사용할 수 없다  \n",
    "* 언더스코어는 실수의 정수나 소수점 양쪽에 모두 사용할 수 있다  \n",
    "* 언더스코어를 맨 앞 혹은 맨 뒤에 사용할 수 없다. 맨 앞에 언더스코어를 사용하면 숫자 값이 아니라 변수 이름으로 여긴다 "
   ]
  },
  {
   "cell_type": "markdown",
   "metadata": {},
   "source": [
    "### doc string 작성하고 사용하기  \n",
    "\n",
    "파이썬 doc string은 주석을 사용하거나 무료 온라인 도움말을 가져올 때 활용할 수 있다. 도움말은 pydoc 유틸리티를 사용하면 IDLE나 커맨드 라인에서 사용 가능하다.  \n",
    "\n",
    "doc string은 함수나 클래스 모두에서 등장할 수 있다"
   ]
  },
  {
   "cell_type": "code",
   "execution_count": 88,
   "metadata": {},
   "outputs": [],
   "source": [
    "def quad(a, b, c):\n",
    "    '''Quadratic Formula function.\n",
    "    \n",
    "    This function applies the Quadratic Formula\n",
    "    to determine the roots of x in a quadratic\n",
    "    equation of the form ax^2 + bx + c = 0.\n",
    "    '''\n",
    "    \n",
    "    determin = (b * b - 4 * a * c) ** .5\n",
    "    x1 = (-b + determin) / (2 * a)\n",
    "    x2 = (-b - determin) / (2 * a)\n",
    "    \n",
    "    return x1, x2"
   ]
  },
  {
   "cell_type": "markdown",
   "metadata": {},
   "source": [
    "함수 선언부에 이 doc string이 입력되면 IDLE에서 다음과 같이 도움말을 볼 수 있다"
   ]
  },
  {
   "cell_type": "code",
   "execution_count": 89,
   "metadata": {},
   "outputs": [
    {
     "name": "stdout",
     "output_type": "stream",
     "text": [
      "Help on function quad in module __main__:\n",
      "\n",
      "quad(a, b, c)\n",
      "    Quadratic Formula function.\n",
      "    \n",
      "    This function applies the Quadratic Formula\n",
      "    to determine the roots of x in a quadratic\n",
      "    equation of the form ax^2 + bx + c = 0.\n",
      "\n"
     ]
    }
   ],
   "source": [
    "help(quad)"
   ]
  },
  {
   "cell_type": "markdown",
   "metadata": {},
   "source": [
    "doc string을 작성하려면 몇 가지 규칙을 따라야 한다  \n",
    "\n",
    "* odc string은 함수 이름을 선언하고 나서 바로 작성되어야 한다 \n",
    "* 3개-따옴표 기능을 적용한 리터럴 문자열이어야 한다 (실제로 어떤 스타일의 따옴표를 사용할 수 있으나, 여러 줄을 작성하기 위해 리터럴 따옴표('''or\"\"\")가 필요하다)\n",
    "* doc string의 들여쓰기는 함수 도입부의 '첫 번째 레벨' 들여쓰기와 동일해야 한다. 가령 함수 이름 선언 후 아래 줄 코드의 들여쓰기가 빈칸 4개로 되어 있다면 doc string의 시작도 빈칸 4개로 들여쓰기가 되야한다 \n",
    "* doc string의 하위 줄들은 문자열이 리터럴 문자열이기 때문에 들여쓰기를 원하는 대로 할 수 있다. 하위 줄들을 왼쪽에 붙여서 작성하거나 doc string을 시작할 때 사용한 들여쓰기 방식을 계속 사용해도 된다. 두 경우 모두 파이썬 온라인 도움말은 보기 좋게 정렬된다 "
   ]
  },
  {
   "cell_type": "code",
   "execution_count": 90,
   "metadata": {},
   "outputs": [],
   "source": [
    "def quad(a, b, c):\n",
    "    '''Quadratic Formula function.\n",
    "    \n",
    "This function applies the Quadratic Formula\n",
    "to determine the roots of x in a quadratic\n",
    "equation of the form ax^2 + bx + c = 0.\n",
    "'''\n",
    "    \n",
    "    determin = (b * b - 4 * a * c) ** .5\n",
    "    x1 = (-b + determin) / (2 * a)\n",
    "    x2 = (-b - determin) / (2 * a)"
   ]
  },
  {
   "cell_type": "markdown",
   "metadata": {},
   "source": [
    "위 코드처럼 doc string의 들여쓰기가 동일하지 않지만 도움말을 출력해 보면 들여쓰기가 동일하게 적용되는 것을 확인할 수 있다. 하지만 여분의 빈칸을 추가하여 프로그램 코드와 동일하게 들여쓰기를 할 수도 있을 것이다. 이렇게 동작한 코드가 도움말을 제대로 출력하지 않을 수도 있어 보이지만, 그렇지 않다. "
   ]
  },
  {
   "cell_type": "markdown",
   "metadata": {},
   "source": [
    "##### "
   ]
  }
 ],
 "metadata": {
  "kernelspec": {
   "display_name": "tabnet",
   "language": "python",
   "name": "python3"
  },
  "language_info": {
   "codemirror_mode": {
    "name": "ipython",
    "version": 3
   },
   "file_extension": ".py",
   "mimetype": "text/x-python",
   "name": "python",
   "nbconvert_exporter": "python",
   "pygments_lexer": "ipython3",
   "version": "3.8.19"
  }
 },
 "nbformat": 4,
 "nbformat_minor": 2
}
